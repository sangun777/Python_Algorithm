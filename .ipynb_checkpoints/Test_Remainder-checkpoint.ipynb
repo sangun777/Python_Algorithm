{
 "cells": [
  {
   "cell_type": "markdown",
   "metadata": {},
   "source": [
    "* most_common() 함수의 사용\n",
    "\n",
    "    * colletions.Counter에서 사용가능\n",
    "        * collections.defaultdict 사용 안됨\n",
    "    * 반환형이 List 임에 주의!!\n",
    "    * 키와 값을 모두 반환하며, 정렬 순서는 갯수로만 지정됨"
   ]
  },
  {
   "cell_type": "code",
   "execution_count": 3,
   "metadata": {},
   "outputs": [
    {
     "data": {
      "text/plain": [
       "[('X', 3), ('C', 3), ('B', 2), ('A', 2)]"
      ]
     },
     "execution_count": 3,
     "metadata": {},
     "output_type": "execute_result"
    }
   ],
   "source": [
    "import collections\n",
    "\n",
    "le = [\"B\", \"B\", \"A\", \"X\", \"X\", \"X\", \"C\", \"C\", \"C\", \"A\"]\n",
    "\n",
    "C = collections.Counter(le)\n",
    "\n",
    "C.most_common()"
   ]
  },
  {
   "cell_type": "markdown",
   "metadata": {},
   "source": [
    "* most_common() 함수 정렬 순서 바꾸기"
   ]
  },
  {
   "cell_type": "code",
   "execution_count": 4,
   "metadata": {},
   "outputs": [
    {
     "data": {
      "text/plain": [
       "[('C', 3), ('X', 3), ('A', 2), ('B', 2)]"
      ]
     },
     "execution_count": 4,
     "metadata": {},
     "output_type": "execute_result"
    }
   ],
   "source": [
    "sorted(C.most_common(), key = lambda x: (-x[1], x[0]))  # 1순위 : 갯수 내림차순, 2순위 글자 오름차순"
   ]
  },
  {
   "cell_type": "markdown",
   "metadata": {},
   "source": [
    "# 복수 속성 정렬\n",
    "\n",
    " * 학점은 정수만 비교\n",
    " * 좌표는 거리로 비교\n",
    " * 이름은 이름순으로 비교"
   ]
  },
  {
   "cell_type": "markdown",
   "metadata": {},
   "source": [
    "### 정수 버림 => int 함수 이용"
   ]
  },
  {
   "cell_type": "code",
   "execution_count": 9,
   "metadata": {},
   "outputs": [
    {
     "data": {
      "text/plain": [
       "[4, 5, 6]"
      ]
     },
     "execution_count": 9,
     "metadata": {},
     "output_type": "execute_result"
    }
   ],
   "source": [
    "c = [4.7, 5.2, 6.8]\n",
    "\n",
    "c = list(map(int, c))\n",
    "c"
   ]
  },
  {
   "cell_type": "markdown",
   "metadata": {},
   "source": [
    "### 정렬\n",
    "\n",
    "    * 리스트.sort() => None : 원본 변경, None 값 반환!!!\n",
    "    * sorted(리스트) => 리스트 : 원본 유지, 리스트 형으로 반환"
   ]
  },
  {
   "cell_type": "code",
   "execution_count": 10,
   "metadata": {},
   "outputs": [
    {
     "name": "stdout",
     "output_type": "stream",
     "text": [
      "[2, 4, 5, 8]\n",
      "[8, 2, 4, 5]\n"
     ]
    }
   ],
   "source": [
    "d = [8, 2, 4, 5]\n",
    "\n",
    "print(sorted(d))\n",
    "print(d)"
   ]
  },
  {
   "cell_type": "code",
   "execution_count": 12,
   "metadata": {},
   "outputs": [
    {
     "name": "stdout",
     "output_type": "stream",
     "text": [
      "None\n",
      "[2, 4, 5, 8]\n"
     ]
    }
   ],
   "source": [
    "d = [8, 2, 4, 5]\n",
    "\n",
    "print(d.sort()) # 이게 중요!!, 얘는 반환 값이 None이다.\n",
    "print(d)"
   ]
  },
  {
   "cell_type": "code",
   "execution_count": 16,
   "metadata": {},
   "outputs": [
    {
     "name": "stdout",
     "output_type": "stream",
     "text": [
      "None\n",
      "<class 'NoneType'>\n",
      "[2, 3, 5]\n"
     ]
    }
   ],
   "source": [
    "e = [3, 5, 2]\n",
    "\n",
    "f = e.sort()\n",
    "\n",
    "print(f) # f는 아무것도 없음\n",
    "print(type(f)) # type은 NoneType\n",
    "print(e) # e는 정렬됨!!"
   ]
  },
  {
   "cell_type": "code",
   "execution_count": 20,
   "metadata": {},
   "outputs": [
    {
     "name": "stdout",
     "output_type": "stream",
     "text": [
      "[2, 4, 5, 8]\n",
      "<class 'list'>\n",
      "[8, 2, 4, 5]\n"
     ]
    }
   ],
   "source": [
    "d = [8, 2, 4, 5]\n",
    "\n",
    "f = sorted(d)\n",
    "\n",
    "print(f)\n",
    "print(type(f)) # type은 리스트\n",
    "print(d) # d는 정렬 안됨!!"
   ]
  },
  {
   "cell_type": "markdown",
   "metadata": {},
   "source": [
    "### 역순 정렬\n",
    "\n",
    "    * 리스트.sort(reverse = True)\n",
    "    * sorted(리스트, reverse = True)"
   ]
  },
  {
   "cell_type": "markdown",
   "metadata": {},
   "source": [
    "# 여러 요소 기준으로 정렬!\n",
    "\n",
    "    sorted(리스트명, key = lambda x : (x[0], x[1], x[2]))"
   ]
  },
  {
   "cell_type": "markdown",
   "metadata": {},
   "source": [
    "### 예시) 각 요소는 순서대로 학점, 거리, 이름 이며\n",
    "\n",
    " * 학점을 클수록, \n",
    " * 거리는 작을수록\n",
    " * 이름은 내림차순으로 정렬 할 것\n",
    " \n",
    " => 각 요소를 정려해서 나온 순위를 반환하도록 하기"
   ]
  },
  {
   "cell_type": "code",
   "execution_count": 26,
   "metadata": {},
   "outputs": [],
   "source": [
    "temp = [\n",
    "    [3, 5, 'john'],\n",
    "    [4, 3, 'maria'],\n",
    "    [4, 7, 'andrew'],\n",
    "    [3, 5, 'brain'],\n",
    "]"
   ]
  },
  {
   "cell_type": "code",
   "execution_count": 27,
   "metadata": {},
   "outputs": [
    {
     "data": {
      "text/plain": [
       "[[3, 5, 'brain'], [3, 5, 'john'], [4, 3, 'maria'], [4, 7, 'andrew']]"
      ]
     },
     "execution_count": 27,
     "metadata": {},
     "output_type": "execute_result"
    }
   ],
   "source": [
    "# 그냥 정렬 할 경우, => 모두 다 내림차순\n",
    "sorted(temp)"
   ]
  },
  {
   "cell_type": "code",
   "execution_count": 29,
   "metadata": {},
   "outputs": [
    {
     "data": {
      "text/plain": [
       "[[4, 3, 'maria'], [4, 7, 'andrew'], [3, 5, 'brain'], [3, 5, 'john']]"
      ]
     },
     "execution_count": 29,
     "metadata": {},
     "output_type": "execute_result"
    }
   ],
   "source": [
    "sorted(temp, key = lambda x : (-x[0], x[1], x[2]))  ### 우선순위에 따라 (x[1], -x[0], x[2]) 이런 식도 가능"
   ]
  },
  {
   "cell_type": "code",
   "execution_count": 45,
   "metadata": {},
   "outputs": [
    {
     "name": "stdout",
     "output_type": "stream",
     "text": [
      "2 3 4 1 "
     ]
    }
   ],
   "source": [
    "# 순위 반환\n",
    "# 반복문 순서가 바뀌면 안됨!!!\n",
    "\n",
    "for j in sorted(temp, key=lambda x:(-x[0], x[1], x[2])):\n",
    "    for k, i in enumerate(temp):\n",
    "        if j == i:\n",
    "            print(k+1, end = \" \")"
   ]
  },
  {
   "cell_type": "markdown",
   "metadata": {},
   "source": [
    " * 똑같은데 이름만 오름차순으로 정렬\n",
    " \n",
    "     * reverse=True를 붙여주고, 오름차순 인것만 -를 붙인다"
   ]
  },
  {
   "cell_type": "code",
   "execution_count": 39,
   "metadata": {},
   "outputs": [
    {
     "data": {
      "text/plain": [
       "[[4, 3, 'maria'], [4, 7, 'andrew'], [3, 5, 'john'], [3, 5, 'brain']]"
      ]
     },
     "execution_count": 39,
     "metadata": {},
     "output_type": "execute_result"
    }
   ],
   "source": [
    "sorted(temp, key = lambda x : (x[0], -x[1]), reverse=True)\n",
    "\n",
    "# 학점 x[0] 은 reverse 되어서 내림차순\n",
    "# 거리 x[1] 은 reverse에 -가 붙어서 오름차순\n",
    "# 이름은 revserse로 내림차순"
   ]
  },
  {
   "cell_type": "markdown",
   "metadata": {},
   "source": [
    "## 만일 문자열 요소가 다중이고, 오름, 내림차순이 혼재된다면??\n",
    "\n",
    " * => 리스트에 넣어버리고 key, values 이용??\n",
    " * sort 함수를 특정 key로 두번 쓰자!! => 실패!! 2번째 요소에 대해 우선순위가 됨"
   ]
  },
  {
   "cell_type": "code",
   "execution_count": 47,
   "metadata": {},
   "outputs": [],
   "source": [
    "a = [['나', 'C'], ['가', 'B'], ['가', 'C']]"
   ]
  },
  {
   "cell_type": "code",
   "execution_count": 46,
   "metadata": {
    "scrolled": true
   },
   "outputs": [
    {
     "data": {
      "text/plain": [
       "[['가', 'C'], ['나', 'C'], ['가', 'B']]"
      ]
     },
     "execution_count": 46,
     "metadata": {},
     "output_type": "execute_result"
    }
   ],
   "source": [
    "# 실패!! 2번째 요소에 대해 우선순위가 됨\n",
    "sorted(sorted(a, key=lambda x:x[0]), key=lambda x:x[1], reverse=True)"
   ]
  },
  {
   "cell_type": "code",
   "execution_count": 48,
   "metadata": {},
   "outputs": [
    {
     "data": {
      "text/plain": [
       "[['가', 'C'], ['가', 'B'], ['나', 'C']]"
      ]
     },
     "execution_count": 48,
     "metadata": {},
     "output_type": "execute_result"
    }
   ],
   "source": [
    "# 중복 해서 쓰지 말고 따로 따로 쓰면 됨!!\n",
    "# 순서가 중요하다 우선순위가 낮은 것을 먼저 실행해야됨!!\n",
    "# 변환된 결과가 남도록 변수에 덮어써주어야 함!!\n",
    "\n",
    "a = sorted(a, key = lambda x:x[1], reverse = True)\n",
    "a = sorted(a, key = lambda x:x[0])\n",
    "a"
   ]
  },
  {
   "cell_type": "markdown",
   "metadata": {},
   "source": [
    "### 2차원 리스트의 특정 요소 기준으로 정렬\n",
    "    \n",
    "    * 리스트 요소 안에 특정 요소를 기준으로 정렬 가능\n",
    "        * sorted(리스트, key=lambda 함수명: 함수명[인덱스])\n",
    "            => 람다 함수는 lambda 함수형태 : 입력형태"
   ]
  },
  {
   "cell_type": "code",
   "execution_count": 21,
   "metadata": {},
   "outputs": [],
   "source": [
    "students = [\n",
    "    ['john', 'C', 19],\n",
    "    ['maria', 'A', 25],\n",
    "    ['andrew', 'B', 7]\n",
    "]"
   ]
  },
  {
   "cell_type": "code",
   "execution_count": 22,
   "metadata": {},
   "outputs": [
    {
     "name": "stdout",
     "output_type": "stream",
     "text": [
      "[['andrew', 'B', 7], ['john', 'C', 19], ['maria', 'A', 25]]\n"
     ]
    }
   ],
   "source": [
    "print(sorted(students, key=lambda f: f[0]))"
   ]
  },
  {
   "cell_type": "code",
   "execution_count": 23,
   "metadata": {},
   "outputs": [
    {
     "name": "stdout",
     "output_type": "stream",
     "text": [
      "[['maria', 'A', 25], ['andrew', 'B', 7], ['john', 'C', 19]]\n"
     ]
    }
   ],
   "source": [
    "print(sorted(students, key=lambda f: f[1]))"
   ]
  },
  {
   "cell_type": "code",
   "execution_count": 24,
   "metadata": {},
   "outputs": [
    {
     "name": "stdout",
     "output_type": "stream",
     "text": [
      "[['andrew', 'B', 7], ['john', 'C', 19], ['maria', 'A', 25]]\n"
     ]
    }
   ],
   "source": [
    "print(sorted(students, key=lambda f: f[2]))"
   ]
  },
  {
   "cell_type": "code",
   "execution_count": null,
   "metadata": {},
   "outputs": [],
   "source": []
  },
  {
   "cell_type": "markdown",
   "metadata": {},
   "source": [
    "# 어떤 요소를 변형하여 비교하교 원본을 반환해야 한다면, \n",
    "# 딕셔너리를 이용하여 각각 키, 값으로 설정하여 비교한다."
   ]
  },
  {
   "cell_type": "markdown",
   "metadata": {},
   "source": [
    "# 예시) leetcode 애너그램 문제\n",
    "\n",
    "* 애너그램은 기본적으로 문자를 정렬하여 비교하는 것으로 판단\n",
    "* sorted는 문자열도 정렬하여 리스트로 반환 함\n",
    "* sorted를 사용한 뒤, 다시 .join으로 문자열로 만들어 키로 사용\n",
    "* 해당 키와 값을 dict에 저장하여 구성\n",
    "* 만일 존재하지 않는 키로 딕셔너리 값을 추가할 경우 발생하는 에러를 대비하여, \n",
    "* collenctions.defaultdict로 딕셔너리를 선언"
   ]
  },
  {
   "cell_type": "code",
   "execution_count": 1,
   "metadata": {},
   "outputs": [
    {
     "data": {
      "text/plain": [
       "dict_values([['eat', 'tea', 'ate'], ['tan', 'nat'], ['bat']])"
      ]
     },
     "execution_count": 1,
     "metadata": {},
     "output_type": "execute_result"
    }
   ],
   "source": [
    "import collections\n",
    "\n",
    "strs = [\"eat\",\"tea\",\"tan\",\"ate\",\"nat\",\"bat\"]\n",
    "\n",
    "# 만일 존재하지 않는 키로 딕셔너리 값을 추가할 경우 발생하는 에러를 대비하여, defaultdict로 선언\n",
    "anagrams = collections.defaultdict(list)\n",
    "        \n",
    "for word in strs:\n",
    "    # 키: 정렬된 값, 값: 원본\n",
    "    anagrams[''.join(sorted(word))].append(word)\n",
    "            \n",
    "anagrams.values()"
   ]
  },
  {
   "cell_type": "markdown",
   "metadata": {},
   "source": [
    "### 문자열 동등 비교"
   ]
  },
  {
   "cell_type": "code",
   "execution_count": 2,
   "metadata": {},
   "outputs": [
    {
     "name": "stdout",
     "output_type": "stream",
     "text": [
      "이름이 같음\n"
     ]
    }
   ],
   "source": [
    "a = ['Tom', 'Brian', 'Terry']\n",
    "\n",
    "if a[0] == 'Tom':\n",
    "    print(\"이름이 같음\")"
   ]
  },
  {
   "cell_type": "code",
   "execution_count": 3,
   "metadata": {},
   "outputs": [
    {
     "data": {
      "text/plain": [
       "True"
      ]
     },
     "execution_count": 3,
     "metadata": {},
     "output_type": "execute_result"
    }
   ],
   "source": [
    "a[0] == 'Tom'"
   ]
  },
  {
   "cell_type": "code",
   "execution_count": 5,
   "metadata": {},
   "outputs": [
    {
     "name": "stdout",
     "output_type": "stream",
     "text": [
      "1\n",
      "<class 'str'>\n"
     ]
    }
   ],
   "source": [
    "b = '010000'\n",
    "print(b[1])\n",
    "print(type(b[1]))"
   ]
  },
  {
   "cell_type": "code",
   "execution_count": 8,
   "metadata": {},
   "outputs": [
    {
     "name": "stdout",
     "output_type": "stream",
     "text": [
      "라마\n"
     ]
    }
   ],
   "source": [
    "if b[0] =='1':\n",
    "    print(\"가나다\")\n",
    "    \n",
    "if b[1] =='1':\n",
    "    print(\"라마\")"
   ]
  },
  {
   "cell_type": "code",
   "execution_count": null,
   "metadata": {},
   "outputs": [],
   "source": []
  },
  {
   "cell_type": "code",
   "execution_count": null,
   "metadata": {},
   "outputs": [],
   "source": [
    "SQL 합칩합 => Union"
   ]
  }
 ],
 "metadata": {
  "kernelspec": {
   "display_name": "Python 3",
   "language": "python",
   "name": "python3"
  },
  "language_info": {
   "codemirror_mode": {
    "name": "ipython",
    "version": 3
   },
   "file_extension": ".py",
   "mimetype": "text/x-python",
   "name": "python",
   "nbconvert_exporter": "python",
   "pygments_lexer": "ipython3",
   "version": "3.8.8"
  }
 },
 "nbformat": 4,
 "nbformat_minor": 4
}
