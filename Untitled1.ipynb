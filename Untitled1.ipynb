{
 "cells": [
  {
   "cell_type": "code",
   "execution_count": 1,
   "metadata": {},
   "outputs": [],
   "source": [
    "code = \"012345\"\n",
    "day = \"20190620\"\n",
    "data = [\"price=80 code=987654 time=2019062113\",\"price=90 code=012345 time=2019062014\",\"price=120 code=987654 time=2019062010\",\"price=110 code=012345 time=2019062009\",\"price=95 code=012345 time=2019062111\"]"
   ]
  },
  {
   "cell_type": "code",
   "execution_count": 2,
   "metadata": {},
   "outputs": [],
   "source": [
    "def solution(code, day, data):\n",
    "    answer = []\n",
    "    for i in data:\n",
    "        temp = i.split()\n",
    "        price_value = temp[0][6:]\n",
    "        code_value = temp[1][5:]\n",
    "        time_value = temp[2][5:13]\n",
    "        if code == code_value and day == time_value:\n",
    "            answer.append(int(price_value))\n",
    "\n",
    "    answer = sorted(answer)\n",
    "\n",
    "    return answer\n"
   ]
  },
  {
   "cell_type": "code",
   "execution_count": 17,
   "metadata": {},
   "outputs": [],
   "source": [
    "def solution(code, day, data):\n",
    "    answer = []\n",
    "    dict = {}\n",
    "    \n",
    "    for i in data:\n",
    "        temp = i.split()\n",
    "        price_value = temp[0][6:]\n",
    "        code_value = temp[1][5:]\n",
    "        day_value = temp[2][5:13]\n",
    "        time_value = temp[2][5:]\n",
    "        \n",
    "        if code == code_value and day == day_value:\n",
    "            dict[time_value] = price_value\n",
    "    print(dict)\n",
    "    idx = sorted(dict)\n",
    "    print(idx)\n",
    "    \n",
    "    for i in idx:\n",
    "        answer.append(dict[i])\n",
    "        \n",
    "    return answer"
   ]
  },
  {
   "cell_type": "code",
   "execution_count": 18,
   "metadata": {},
   "outputs": [
    {
     "name": "stdout",
     "output_type": "stream",
     "text": [
      "{'2019062014': '90', '2019062009': '110'}\n",
      "['2019062009', '2019062014']\n"
     ]
    },
    {
     "data": {
      "text/plain": [
       "['110', '90']"
      ]
     },
     "execution_count": 18,
     "metadata": {},
     "output_type": "execute_result"
    }
   ],
   "source": [
    "solution(code, day, data)"
   ]
  },
  {
   "cell_type": "code",
   "execution_count": 20,
   "metadata": {},
   "outputs": [
    {
     "name": "stdout",
     "output_type": "stream",
     "text": [
      "{'456': 784, '123': 516, '789': 813}\n",
      "['123', '456', '789']\n"
     ]
    }
   ],
   "source": [
    "dict = {\"456\":784, \"123\":516, \"789\": 813}\n",
    "\n",
    "a= sorted(dict)\n",
    "\n",
    "print(dict)\n",
    "print(a)"
   ]
  },
  {
   "cell_type": "code",
   "execution_count": 11,
   "metadata": {},
   "outputs": [
    {
     "data": {
      "text/plain": [
       "{'456': 784, '123': 516, '789': 813}"
      ]
     },
     "execution_count": 11,
     "metadata": {},
     "output_type": "execute_result"
    }
   ],
   "source": [
    "dict = {\"456\":784, \"123\":516, \"789\": 813}\n",
    "dict"
   ]
  },
  {
   "cell_type": "code",
   "execution_count": 21,
   "metadata": {},
   "outputs": [
    {
     "data": {
      "text/plain": [
       "{'456': 784, '123': 516, '789': 813, 'dfg': 123}"
      ]
     },
     "execution_count": 21,
     "metadata": {},
     "output_type": "execute_result"
    }
   ],
   "source": [
    "dict[\"dfg\"] = 123\n",
    "dict"
   ]
  },
  {
   "cell_type": "code",
   "execution_count": 22,
   "metadata": {},
   "outputs": [
    {
     "data": {
      "text/plain": [
       "{'456': 3, '123': 516, '789': 813, 'dfg': 123}"
      ]
     },
     "execution_count": 22,
     "metadata": {},
     "output_type": "execute_result"
    }
   ],
   "source": [
    "dict['456'] = 3\n",
    "dict"
   ]
  },
  {
   "cell_type": "code",
   "execution_count": 28,
   "metadata": {},
   "outputs": [
    {
     "data": {
      "text/plain": [
       "[[56, 34], [12, 90], [12, 78]]"
      ]
     },
     "execution_count": 28,
     "metadata": {},
     "output_type": "execute_result"
    }
   ],
   "source": [
    "a = []\n",
    "\n",
    "a.append([56, 34])\n",
    "a.append([12, 90])\n",
    "a.append([12, 78])\n",
    "a"
   ]
  },
  {
   "cell_type": "code",
   "execution_count": 29,
   "metadata": {},
   "outputs": [
    {
     "data": {
      "text/plain": [
       "[[12, 78], [12, 90], [56, 34]]"
      ]
     },
     "execution_count": 29,
     "metadata": {},
     "output_type": "execute_result"
    }
   ],
   "source": [
    "a = sorted(a)\n",
    "a"
   ]
  },
  {
   "cell_type": "code",
   "execution_count": null,
   "metadata": {},
   "outputs": [],
   "source": []
  }
 ],
 "metadata": {
  "kernelspec": {
   "display_name": "Python 3",
   "language": "python",
   "name": "python3"
  },
  "language_info": {
   "codemirror_mode": {
    "name": "ipython",
    "version": 3
   },
   "file_extension": ".py",
   "mimetype": "text/x-python",
   "name": "python",
   "nbconvert_exporter": "python",
   "pygments_lexer": "ipython3",
   "version": "3.8.5"
  }
 },
 "nbformat": 4,
 "nbformat_minor": 4
}
