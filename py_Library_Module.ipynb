{
 "cells": [
  {
   "cell_type": "markdown",
   "metadata": {},
   "source": [
    "# itertools"
   ]
  },
  {
   "cell_type": "code",
   "execution_count": 2,
   "metadata": {},
   "outputs": [],
   "source": [
    "import itertools\n",
    "\n",
    "# 주로 이터레이터 생성 함수들이 있음"
   ]
  },
  {
   "cell_type": "markdown",
   "metadata": {},
   "source": [
    " ### accumulate() : 누적합"
   ]
  },
  {
   "cell_type": "code",
   "execution_count": 3,
   "metadata": {},
   "outputs": [
    {
     "data": {
      "text/plain": [
       "<itertools.accumulate at 0x123fde16f00>"
      ]
     },
     "execution_count": 3,
     "metadata": {},
     "output_type": "execute_result"
    }
   ],
   "source": [
    "itertools.accumulate([1,2,3,4,5])"
   ]
  },
  {
   "cell_type": "code",
   "execution_count": 4,
   "metadata": {},
   "outputs": [
    {
     "name": "stdout",
     "output_type": "stream",
     "text": [
      "1\n",
      "3\n",
      "6\n",
      "10\n",
      "15\n"
     ]
    }
   ],
   "source": [
    "for x in itertools.accumulate([1,2,3,4,5]):\n",
    "    print(x)"
   ]
  },
  {
   "cell_type": "markdown",
   "metadata": {},
   "source": [
    " ### permutations(p, [,r]) , 순열\n",
    "     * r-길이 튜플들, 모든 가능한 순서, 반복되는 요소 없음"
   ]
  },
  {
   "cell_type": "code",
   "execution_count": 7,
   "metadata": {},
   "outputs": [
    {
     "name": "stdout",
     "output_type": "stream",
     "text": [
      "('A', 'B')\n",
      "('A', 'C')\n",
      "('A', 'D')\n",
      "('B', 'A')\n",
      "('B', 'C')\n",
      "('B', 'D')\n",
      "('C', 'A')\n",
      "('C', 'B')\n",
      "('C', 'D')\n",
      "('D', 'A')\n",
      "('D', 'B')\n",
      "('D', 'C')\n"
     ]
    }
   ],
   "source": [
    "for x in itertools.permutations('ABCD', 2):\n",
    "    print(x)"
   ]
  },
  {
   "cell_type": "code",
   "execution_count": 8,
   "metadata": {},
   "outputs": [
    {
     "name": "stdout",
     "output_type": "stream",
     "text": [
      "('A', 'B', 'C', 'D')\n",
      "('A', 'B', 'D', 'C')\n",
      "('A', 'C', 'B', 'D')\n",
      "('A', 'C', 'D', 'B')\n",
      "('A', 'D', 'B', 'C')\n",
      "('A', 'D', 'C', 'B')\n",
      "('B', 'A', 'C', 'D')\n",
      "('B', 'A', 'D', 'C')\n",
      "('B', 'C', 'A', 'D')\n",
      "('B', 'C', 'D', 'A')\n",
      "('B', 'D', 'A', 'C')\n",
      "('B', 'D', 'C', 'A')\n",
      "('C', 'A', 'B', 'D')\n",
      "('C', 'A', 'D', 'B')\n",
      "('C', 'B', 'A', 'D')\n",
      "('C', 'B', 'D', 'A')\n",
      "('C', 'D', 'A', 'B')\n",
      "('C', 'D', 'B', 'A')\n",
      "('D', 'A', 'B', 'C')\n",
      "('D', 'A', 'C', 'B')\n",
      "('D', 'B', 'A', 'C')\n",
      "('D', 'B', 'C', 'A')\n",
      "('D', 'C', 'A', 'B')\n",
      "('D', 'C', 'B', 'A')\n"
     ]
    }
   ],
   "source": [
    "for x in itertools.permutations('ABCD'):\n",
    "    print(x)"
   ]
  },
  {
   "cell_type": "markdown",
   "metadata": {},
   "source": [
    " ### combinations(p, r) , 조합\n",
    "     * r-길이 튜플들, 정렬된 순서, 반복되는 요소 없음"
   ]
  },
  {
   "cell_type": "code",
   "execution_count": 9,
   "metadata": {},
   "outputs": [
    {
     "name": "stdout",
     "output_type": "stream",
     "text": [
      "('A', 'B')\n",
      "('A', 'C')\n",
      "('A', 'D')\n",
      "('B', 'C')\n",
      "('B', 'D')\n",
      "('C', 'D')\n"
     ]
    }
   ],
   "source": [
    "for x in itertools.combinations('ABCD', 2):\n",
    "    print(x)"
   ]
  },
  {
   "cell_type": "markdown",
   "metadata": {},
   "source": [
    " ### combinations_with_replacement()\n",
    "     * r-길이 튜플들, 정렬된 순서, 반복되는 요소 있음"
   ]
  },
  {
   "cell_type": "code",
   "execution_count": 10,
   "metadata": {},
   "outputs": [
    {
     "name": "stdout",
     "output_type": "stream",
     "text": [
      "('A', 'A')\n",
      "('A', 'B')\n",
      "('A', 'C')\n",
      "('A', 'D')\n",
      "('B', 'B')\n",
      "('B', 'C')\n",
      "('B', 'D')\n",
      "('C', 'C')\n",
      "('C', 'D')\n",
      "('D', 'D')\n"
     ]
    }
   ],
   "source": [
    "for x in itertools.combinations_with_replacement('ABCD', 2):\n",
    "    print(x)"
   ]
  },
  {
   "cell_type": "markdown",
   "metadata": {},
   "source": [
    "# collections\n",
    "\n",
    "     * 파이썬의 컨테이너 dict, list, tuple에 대한 대안을 제공하는 특수 컨테이너 데이터형을 구현\n",
    "     \n",
    " * namedtuple()\n",
    "\n",
    "        * 이름 붙은 필드를 갖는 튜플 서브 클래스를 만들기 위한 팩토리 함수\n",
    "\n",
    "* deque\n",
    "\n",
    "        * 양쪽 끝에서 빠르게 추가와 삭제를 할 수 있는 리스트류 컨테이너\n",
    "\n",
    "* ChainMap\n",
    "\n",
    "        * 여러 매핑의 단일 뷰를 만드는 딕셔너리류 클래스\n",
    "\n",
    "* Counter\n",
    "\n",
    "        * 해시 가능한 객체를 세는 데 사용하는 딕셔너리 서브 클래스\n",
    "        * 리스트의 각 요소 갯수 세고, 정렬하기 좋음\n",
    "\n",
    "* OrderedDict\n",
    "\n",
    "        * 항목이 추가된 순서를 기억하는 딕셔너리 서브 클래스\n",
    "\n",
    "* defaultdict\n",
    "\n",
    "        * 누락된 값을 제공하기 위해 팩토리 함수를 호출하는 딕셔너리 서브 클래스\n",
    "\n",
    "* UserDict\n",
    "\n",
    "        * 더 쉬운 딕셔너리 서브 클래싱을 위해 딕셔너리 객체를 감싸는 래퍼\n",
    "\n",
    "* UserList\n",
    "\n",
    "        * 더 쉬운 리스트 서브 클래싱을 위해 리스트 객체를 감싸는 래퍼\n",
    "\n",
    "* UserString\n",
    "\n",
    "        * 더 쉬운 문자열 서브 클래싱을 위해 문자열 객체를 감싸는 래퍼"
   ]
  },
  {
   "cell_type": "markdown",
   "metadata": {},
   "source": [
    "### deque(데크)\n",
    "\n",
    "     * 양방향 큐임"
   ]
  },
  {
   "cell_type": "code",
   "execution_count": 29,
   "metadata": {},
   "outputs": [
    {
     "data": {
      "text/plain": [
       "deque([1, 2, 3, 4, 5])"
      ]
     },
     "execution_count": 29,
     "metadata": {},
     "output_type": "execute_result"
    }
   ],
   "source": [
    "from collections import *\n",
    "\n",
    "# 만들기 => 그냥 리스트 넣으면 끝\n",
    "a = [1,2,3,4,5]\n",
    "q = deque(a)\n",
    "q"
   ]
  },
  {
   "cell_type": "markdown",
   "metadata": {},
   "source": [
    " * deque.rotate(n)\n",
    "\n",
    "    * n번 돌리기"
   ]
  },
  {
   "cell_type": "code",
   "execution_count": 11,
   "metadata": {},
   "outputs": [
    {
     "data": {
      "text/plain": [
       "deque([4, 5, 1, 2, 3])"
      ]
     },
     "execution_count": 11,
     "metadata": {},
     "output_type": "execute_result"
    }
   ],
   "source": [
    "q.rotate(2)\n",
    "q"
   ]
  },
  {
   "cell_type": "code",
   "execution_count": 12,
   "metadata": {},
   "outputs": [
    {
     "data": {
      "text/plain": [
       "[4, 5, 1, 2, 3]"
      ]
     },
     "execution_count": 12,
     "metadata": {},
     "output_type": "execute_result"
    }
   ],
   "source": [
    "# 다시 리스트로 변환\n",
    "    \n",
    "a = list(q)\n",
    "a"
   ]
  },
  {
   "cell_type": "markdown",
   "metadata": {},
   "source": [
    " * 값 추가하기\n",
    "      * appendleft : 왼쪽 추가\n",
    "      * append : 오른쪽 추가"
   ]
  },
  {
   "cell_type": "code",
   "execution_count": 13,
   "metadata": {},
   "outputs": [
    {
     "name": "stdout",
     "output_type": "stream",
     "text": [
      "deque(['leftttt', 4, 5, 1, 2, 3])\n",
      "deque(['leftttt', 4, 5, 1, 2, 3, 'Right'])\n"
     ]
    }
   ],
   "source": [
    "q.appendleft(\"leftttt\")\n",
    "print(q)\n",
    "q.append(\"Right\")\n",
    "print(q)"
   ]
  },
  {
   "cell_type": "markdown",
   "metadata": {},
   "source": [
    " * 값 뽑아내기(삭제)\n",
    "     * popleft()\n",
    "     * pop()"
   ]
  },
  {
   "cell_type": "code",
   "execution_count": 14,
   "metadata": {},
   "outputs": [
    {
     "name": "stdout",
     "output_type": "stream",
     "text": [
      "deque(['leftttt', 4, 5, 1, 2, 3])\n",
      "deque([4, 5, 1, 2, 3])\n"
     ]
    }
   ],
   "source": [
    "q.pop()\n",
    "print(q)\n",
    "q.popleft()\n",
    "print(q)"
   ]
  },
  {
   "cell_type": "code",
   "execution_count": 31,
   "metadata": {},
   "outputs": [
    {
     "data": {
      "text/plain": [
       "5"
      ]
     },
     "execution_count": 31,
     "metadata": {},
     "output_type": "execute_result"
    }
   ],
   "source": [
    "b = [[3,5,7],[2,3,5]]\n",
    "q = deque(b)\n",
    "\n",
    "q.popleft()[1]"
   ]
  },
  {
   "cell_type": "code",
   "execution_count": 32,
   "metadata": {},
   "outputs": [],
   "source": [
    "for i in range(0):\n",
    "    print(\"gf\")"
   ]
  },
  {
   "cell_type": "markdown",
   "metadata": {},
   "source": [
    "### Counter 객체\n",
    "\n",
    "    * 편리하고 빠르게 개수를 세도록 지원하는 계수기 도구\n",
    "    * 키-값을 갖는 해시형 자료형\n",
    "    * 파이썬 딕셔너리랑 비슷하지만 더 많은 하위 메소드를 가지고 있어서 쓰기 좋음\n",
    "    * 기본적으로 리스트를 넣으면 각 요소의 갯수를 세줌"
   ]
  },
  {
   "cell_type": "markdown",
   "metadata": {},
   "source": [
    " * 리스트 -> Counter 형으로 변환(각 요소를 키로, 요소의 갯수를 값으로 받음)"
   ]
  },
  {
   "cell_type": "code",
   "execution_count": 20,
   "metadata": {},
   "outputs": [
    {
     "data": {
      "text/plain": [
       "Counter({'red': 2, 'blue': 3, 'green': 1})"
      ]
     },
     "execution_count": 20,
     "metadata": {},
     "output_type": "execute_result"
    }
   ],
   "source": [
    "import collections\n",
    "\n",
    "list_a = ['red', 'blue', 'red', 'green', 'blue', 'blue']\n",
    "\n",
    "c = collections.Counter(list_a)\n",
    "\n",
    "c"
   ]
  },
  {
   "cell_type": "markdown",
   "metadata": {},
   "source": [
    " *  .most_common([n])        # 대괄호 [ ]는 생략가능을 의미\n",
    "    - 요소의 갯수가 가장 많은 것 부터 적은 순으로 n개를 나열\n",
    "    - n을 생략하거나 None이면 모든 요소 반환\n",
    "    - collections.Counter().most_common()\n",
    "    \n",
    "    주의!!!\n",
    "        * Counter형 일 때는, 자료형이 dict와 비슷한 Counter 형이지만,  ({키:값})\n",
    "        * .most_common()으로 반환된 값은 튜플 형태이다.  (키, 값)"
   ]
  },
  {
   "cell_type": "code",
   "execution_count": 21,
   "metadata": {},
   "outputs": [
    {
     "data": {
      "text/plain": [
       "[('blue', 3), ('red', 2)]"
      ]
     },
     "execution_count": 21,
     "metadata": {},
     "output_type": "execute_result"
    }
   ],
   "source": [
    "c.most_common(2)"
   ]
  },
  {
   "cell_type": "markdown",
   "metadata": {},
   "source": [
    " * 딕셔너리 -> Counter()형 변환"
   ]
  },
  {
   "cell_type": "code",
   "execution_count": 18,
   "metadata": {},
   "outputs": [
    {
     "data": {
      "text/plain": [
       "Counter({'red': 5, 'blue': 2, 'green': 8})"
      ]
     },
     "execution_count": 18,
     "metadata": {},
     "output_type": "execute_result"
    }
   ],
   "source": [
    "dict_a = {'red': 5, 'blue': 2, 'green': 8}\n",
    "\n",
    "c2 = collections.Counter(dict_a)\n",
    "\n",
    "c2"
   ]
  },
  {
   "cell_type": "markdown",
   "metadata": {},
   "source": [
    "### defaultdict([default_factory[, ...]])\n",
    "\n",
    "    * defaultdict는 내장 dict 클래스의 서브 클래스"
   ]
  },
  {
   "cell_type": "markdown",
   "metadata": {},
   "source": [
    "# heapq\n",
    "\n",
    "     * 우선 순위가 가장 높은 자료(data)를 가장 먼저 꺼낼 수 있는 우선 순위 큐\n",
    "     * 리스트등을 사용하여 우선 순위 큐를 직접 구현하는 것이 어렵진 않지만   \n",
    "       이런 작업에 최적화된 파이썬 표준 라이브러리인 heapq를 사용하는 것이 좋다."
   ]
  },
  {
   "cell_type": "code",
   "execution_count": 22,
   "metadata": {},
   "outputs": [
    {
     "name": "stdout",
     "output_type": "stream",
     "text": [
      "(11.57, '차동현')\n",
      "(11.67, '차정웅')\n",
      "(11.92, '한시우')\n"
     ]
    }
   ],
   "source": [
    "import heapq\n",
    "\n",
    "data = [\n",
    "    (12.23, \"강보람\"),\n",
    "    (12.31, \"김지원\"),\n",
    "    (11.98, \"박시우\"),\n",
    "    (11.99, \"장준혁\"),\n",
    "    (11.67, \"차정웅\"),\n",
    "    (12.02, \"박중수\"),\n",
    "    (11.57, \"차동현\"),\n",
    "    (12.04, \"고미숙\"),\n",
    "    (11.92, \"한시우\"),\n",
    "    (12.22, \"이민석\"),\n",
    "]\n",
    "\n",
    "h = []  # 힙 생성\n",
    "for score in data:\n",
    "    heapq.heappush(h, score)  # 힙에 데이터 저장\n",
    "    \n",
    "# print(h)  # 뽑아도 2진 트리라 정렬되있지 않음\n",
    "\n",
    "for i in range(3):\n",
    "    print(heapq.heappop(h))  # 우선 순위 작은 값 순으로 힙 반환"
   ]
  },
  {
   "cell_type": "code",
   "execution_count": 23,
   "metadata": {},
   "outputs": [
    {
     "name": "stdout",
     "output_type": "stream",
     "text": [
      "(11.57, '차동현')\n",
      "(11.67, '차정웅')\n",
      "(11.92, '한시우')\n"
     ]
    }
   ],
   "source": [
    "import heapq\n",
    "\n",
    "data = [\n",
    "    (12.23, \"강보람\"),\n",
    "    (12.31, \"김지원\"),\n",
    "    (11.98, \"박시우\"),\n",
    "    (11.99, \"장준혁\"),\n",
    "    (11.67, \"차정웅\"),\n",
    "    (12.02, \"박중수\"),\n",
    "    (11.57, \"차동현\"),\n",
    "    (12.04, \"고미숙\"),\n",
    "    (11.92, \"한시우\"),\n",
    "    (12.22, \"이민석\"),\n",
    "]\n",
    "\n",
    "heapq.heapify(data)  # data를 힙으로 만든다.\n",
    "\n",
    "for i in range(3):\n",
    "    print(heapq.heappop(data))  # 최소값부터 힙 반환"
   ]
  },
  {
   "cell_type": "markdown",
   "metadata": {},
   "source": [
    "# bisect"
   ]
  },
  {
   "cell_type": "code",
   "execution_count": 24,
   "metadata": {},
   "outputs": [
    {
     "name": "stdout",
     "output_type": "stream",
     "text": [
      "['F', 'A', 'C', 'C', 'B', 'A', 'A']\n"
     ]
    }
   ],
   "source": [
    "import bisect\n",
    "\n",
    "result = []\n",
    "for score in [33, 99, 77, 70, 89, 90, 100]:\n",
    "    pos = bisect.bisect([60, 70, 80, 90], score)  # 점수가 정렬되어 삽입될 수 있는 포지션을 반환\n",
    "    grade = 'FDCBA'[pos]\n",
    "    result.append(grade)\n",
    "\n",
    "print(result)"
   ]
  },
  {
   "cell_type": "code",
   "execution_count": null,
   "metadata": {},
   "outputs": [],
   "source": []
  },
  {
   "cell_type": "code",
   "execution_count": 26,
   "metadata": {},
   "outputs": [
    {
     "name": "stdout",
     "output_type": "stream",
     "text": [
      "0\n",
      "4\n",
      "2\n",
      "2\n",
      "3\n",
      "4\n",
      "4\n"
     ]
    }
   ],
   "source": [
    "for score in [33, 99, 77, 70, 89, 90, 100]:\n",
    "    pos1 = bisect.bisect([60, 70, 80, 90], score)\n",
    "    print(pos1)\n"
   ]
  },
  {
   "cell_type": "code",
   "execution_count": 27,
   "metadata": {},
   "outputs": [
    {
     "data": {
      "text/plain": [
       "'A'"
      ]
     },
     "execution_count": 27,
     "metadata": {},
     "output_type": "execute_result"
    }
   ],
   "source": [
    "'ABCDE'[0]"
   ]
  },
  {
   "cell_type": "code",
   "execution_count": 28,
   "metadata": {},
   "outputs": [
    {
     "data": {
      "text/plain": [
       "'D'"
      ]
     },
     "execution_count": 28,
     "metadata": {},
     "output_type": "execute_result"
    }
   ],
   "source": [
    "'ABCDE'[3]"
   ]
  },
  {
   "cell_type": "markdown",
   "metadata": {},
   "source": [
    "# functools\n",
    "\n",
    "    * 모듈은 고차 함수를 위한 것입니다\n",
    "    * 다른 함수에 작용하거나 다른 함수를 반환하는 함수"
   ]
  },
  {
   "cell_type": "markdown",
   "metadata": {},
   "source": [
    "### functools.reduce(function, iterable[, initializer])\n",
    "\n",
    "    * 함수를 왼쪽에서 오른쪽으로 iterable의 항목에 누적적으로 적용"
   ]
  },
  {
   "cell_type": "code",
   "execution_count": 23,
   "metadata": {},
   "outputs": [
    {
     "data": {
      "text/plain": [
       "15"
      ]
     },
     "execution_count": 23,
     "metadata": {},
     "output_type": "execute_result"
    }
   ],
   "source": [
    "from functools import *\n",
    "\n",
    "reduce(lambda x, y: x+y, [1, 2, 3, 4, 5])"
   ]
  }
 ],
 "metadata": {
  "kernelspec": {
   "display_name": "Python 3",
   "language": "python",
   "name": "python3"
  },
  "language_info": {
   "codemirror_mode": {
    "name": "ipython",
    "version": 3
   },
   "file_extension": ".py",
   "mimetype": "text/x-python",
   "name": "python",
   "nbconvert_exporter": "python",
   "pygments_lexer": "ipython3",
   "version": "3.8.5"
  }
 },
 "nbformat": 4,
 "nbformat_minor": 4
}
