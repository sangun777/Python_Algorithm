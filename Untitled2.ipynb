{
 "cells": [
  {
   "cell_type": "code",
   "execution_count": 13,
   "metadata": {},
   "outputs": [],
   "source": [
    "t = [0,1,3,0]\n",
    "r = [0,1,2,3]"
   ]
  },
  {
   "cell_type": "code",
   "execution_count": 26,
   "metadata": {},
   "outputs": [],
   "source": [
    "t = [7,6,8,1]\n",
    "r = [0,1,2,3]\n",
    "##[3, 1, 0, 2]"
   ]
  },
  {
   "cell_type": "code",
   "execution_count": 27,
   "metadata": {},
   "outputs": [
    {
     "data": {
      "text/plain": [
       "[0, 1, 2, 3]"
      ]
     },
     "execution_count": 27,
     "metadata": {},
     "output_type": "execute_result"
    }
   ],
   "source": [
    "i_d = [i for i in range(len(r))]\n",
    "i_d"
   ]
  },
  {
   "cell_type": "code",
   "execution_count": 37,
   "metadata": {},
   "outputs": [],
   "source": [
    "t = [7,6,8,1,3,3,1,1]\n",
    "r = [0,7,3,1,4,5,2,6]\n",
    "##[3, 1, 0, 2]"
   ]
  },
  {
   "cell_type": "code",
   "execution_count": 16,
   "metadata": {},
   "outputs": [],
   "source": [
    "def solution(t, r):\n",
    "    answer = []\n",
    "    t_r = []\n",
    "    for i in range(len(t)):\n",
    "        t_r.append([t[i], r[i]])\n",
    "\n",
    "    print(t_r)\n",
    "    t_r = sorted(t_r)\n",
    "    print(t_r)\n",
    "    \n",
    "    for j in range(len(t_r)-1):\n",
    "        if t_r[j][0] == t_r[j+1][0]:\n",
    "            t_r[j+1][0] += 1\n",
    "            t_r = sorted(t_r)\n",
    "            \n",
    "    print(t_r)\n",
    "            \n",
    "    for k in range(len(t_r)):\n",
    "        answer.append(t_r[k][1])\n",
    "        \n",
    "    print(answer)\n",
    "\n",
    "    return answer"
   ]
  },
  {
   "cell_type": "code",
   "execution_count": 24,
   "metadata": {},
   "outputs": [],
   "source": [
    "def solution(t, r):\n",
    "    answer = []\n",
    "    t_r = []\n",
    "    for i in range(len(t)):\n",
    "        t_r.append([t[i], r[i]])\n",
    "\n",
    "    print(t_r)\n",
    "    t_r = sorted(t_r)\n",
    "    print(t_r)\n",
    "    \n",
    "    for j in range(len(t_r)-1):\n",
    "        for k in range(j+1, len(t_r)):\n",
    "            if t_r[j][0] == t_r[k][0]:\n",
    "                t_r[k][0] += 1\n",
    "        t_r = sorted(t_r)\n",
    "            \n",
    "    print(t_r)\n",
    "    \n",
    "    for k in range(len(t_r)):\n",
    "        answer.append(t_r[k][1])\n",
    "        \n",
    "\n",
    "    print(answer)\n",
    "    \n",
    "    return answer"
   ]
  },
  {
   "cell_type": "code",
   "execution_count": 38,
   "metadata": {},
   "outputs": [],
   "source": [
    "def solution(t, r):\n",
    "    answer = []\n",
    "    i_d = [i for i in range(len(r))]\n",
    "    t_r = []\n",
    "    \n",
    "    for i in range(len(t)):\n",
    "        t_r.append([t[i], r[i], i_d[i]])\n",
    "\n",
    "    print(t_r)\n",
    "    t_r = sorted(t_r)\n",
    "    print(t_r)\n",
    "    \n",
    "    for j in range(len(t_r)-1):\n",
    "        for k in range(j+1, len(t_r)):\n",
    "            if t_r[j][0] == t_r[k][0]:\n",
    "                t_r[k][0] += 1\n",
    "        t_r = sorted(t_r)\n",
    "            \n",
    "    print(t_r)\n",
    "    \n",
    "    for k in range(len(t_r)):\n",
    "        answer.append(t_r[k][1])\n",
    "        \n",
    "\n",
    "    print(answer)\n",
    "    \n",
    "    return answer"
   ]
  },
  {
   "cell_type": "code",
   "execution_count": 39,
   "metadata": {},
   "outputs": [
    {
     "name": "stdout",
     "output_type": "stream",
     "text": [
      "[[7, 0, 0], [6, 7, 1], [8, 3, 2], [1, 1, 3], [3, 4, 4], [3, 5, 5], [1, 2, 6], [1, 6, 7]]\n",
      "[[1, 1, 3], [1, 2, 6], [1, 6, 7], [3, 4, 4], [3, 5, 5], [6, 7, 1], [7, 0, 0], [8, 3, 2]]\n",
      "[[1, 1, 3], [2, 2, 6], [3, 4, 4], [4, 5, 5], [5, 6, 7], [6, 7, 1], [7, 0, 0], [8, 3, 2]]\n",
      "[1, 2, 4, 5, 6, 7, 0, 3]\n"
     ]
    },
    {
     "data": {
      "text/plain": [
       "[1, 2, 4, 5, 6, 7, 0, 3]"
      ]
     },
     "execution_count": 39,
     "metadata": {},
     "output_type": "execute_result"
    }
   ],
   "source": [
    "anw = solution(t, r)\n",
    "anw"
   ]
  },
  {
   "cell_type": "code",
   "execution_count": 46,
   "metadata": {},
   "outputs": [],
   "source": [
    "def solution(t, r):\n",
    "    answer = []\n",
    "    i_d = [i for i in range(len(r))]\n",
    "    t_r = []\n",
    "    \n",
    "    for i in range(len(t)):\n",
    "        t_r.append([t[i], r[i], i_d[i]])\n",
    "\n",
    "    t_r = sorted(t_r)\n",
    "    print(t_r)\n",
    "    \n",
    "    for j in range(len(t_r)-1):\n",
    "        for k in range(j+1, len(t_r)):\n",
    "            if t_r[j][0] == t_r[k][0]:\n",
    "                primary_grade = min(t_r[j][1], t_r[k][1])\n",
    "                print(primary_grade)\n",
    "        for m in range(len(t_r)):\n",
    "            if t_r[j][0] == t_r[m][0] and t_r[m][1] > primary_grade:\n",
    "                t_r[m][0] += 1\n",
    "        t_r = sorted(t_r)\n",
    "        print(t_r)\n",
    "            \n",
    "    print(t_r)\n",
    "    \n",
    "    for k in range(len(t_r)):\n",
    "        answer.append(t_r[k][1])\n",
    "        \n",
    "\n",
    "    print(answer)\n",
    "\n",
    "    return answer"
   ]
  },
  {
   "cell_type": "code",
   "execution_count": null,
   "metadata": {},
   "outputs": [],
   "source": [
    "def solution(t, r):\n",
    "    answer = []\n",
    "    i_d = [i for i in range(len(r))]\n",
    "    t_r = []\n",
    "    \n",
    "    for i in range(len(t)):\n",
    "        t_r.append([t[i], r[i], i_d[i]])\n",
    "\n",
    "    t_r = sorted(t_r)\n",
    "    \n",
    "    for j in range(len(t_r)-1):\n",
    "        for k in range(j+1, len(t_r)):\n",
    "            if t_r[j][0] == t_r[k][0]:\n",
    "                primary_grade = min(t_r[j][1], t_r[k][1])\n",
    "\n",
    "        for m in range(len(t_r)):\n",
    "            if t_r[j][0] == t_r[m][0] and t_r[m][1] > primary_grade:\n",
    "                t_r[m][0] += 1\n",
    "        t_r = sorted(t_r)\n",
    "    \n",
    "    for k in range(len(t_r)):\n",
    "        answer.append(t_r[k][1])\n",
    "\n",
    "\n",
    "    return answer"
   ]
  },
  {
   "cell_type": "code",
   "execution_count": 47,
   "metadata": {},
   "outputs": [
    {
     "name": "stdout",
     "output_type": "stream",
     "text": [
      "[[1, 1, 3], [1, 2, 6], [1, 6, 7], [3, 4, 4], [3, 5, 5], [6, 7, 1], [7, 0, 0], [8, 3, 2]]\n",
      "1\n",
      "1\n",
      "[[1, 1, 3], [2, 2, 6], [2, 6, 7], [3, 4, 4], [3, 5, 5], [6, 7, 1], [7, 0, 0], [8, 3, 2]]\n",
      "2\n",
      "[[1, 1, 3], [2, 2, 6], [3, 4, 4], [3, 5, 5], [3, 6, 7], [6, 7, 1], [7, 0, 0], [8, 3, 2]]\n",
      "4\n",
      "4\n",
      "[[1, 1, 3], [2, 2, 6], [3, 4, 4], [4, 5, 5], [4, 6, 7], [6, 7, 1], [7, 0, 0], [8, 3, 2]]\n",
      "5\n",
      "[[1, 1, 3], [2, 2, 6], [3, 4, 4], [4, 5, 5], [5, 6, 7], [6, 7, 1], [7, 0, 0], [8, 3, 2]]\n",
      "[[1, 1, 3], [2, 2, 6], [3, 4, 4], [4, 5, 5], [6, 6, 7], [7, 0, 0], [7, 7, 1], [8, 3, 2]]\n",
      "0\n",
      "[[1, 1, 3], [2, 2, 6], [3, 4, 4], [4, 5, 5], [6, 6, 7], [7, 0, 0], [8, 3, 2], [8, 7, 1]]\n",
      "3\n",
      "[[1, 1, 3], [2, 2, 6], [3, 4, 4], [4, 5, 5], [6, 6, 7], [7, 0, 0], [8, 3, 2], [9, 7, 1]]\n",
      "[[1, 1, 3], [2, 2, 6], [3, 4, 4], [4, 5, 5], [6, 6, 7], [7, 0, 0], [8, 3, 2], [9, 7, 1]]\n",
      "[1, 2, 4, 5, 6, 0, 3, 7]\n"
     ]
    },
    {
     "data": {
      "text/plain": [
       "[1, 2, 4, 5, 6, 0, 3, 7]"
      ]
     },
     "execution_count": 47,
     "metadata": {},
     "output_type": "execute_result"
    }
   ],
   "source": [
    "anw = solution(t, r)\n",
    "anw"
   ]
  },
  {
   "cell_type": "code",
   "execution_count": null,
   "metadata": {},
   "outputs": [],
   "source": []
  }
 ],
 "metadata": {
  "kernelspec": {
   "display_name": "Python 3",
   "language": "python",
   "name": "python3"
  },
  "language_info": {
   "codemirror_mode": {
    "name": "ipython",
    "version": 3
   },
   "file_extension": ".py",
   "mimetype": "text/x-python",
   "name": "python",
   "nbconvert_exporter": "python",
   "pygments_lexer": "ipython3",
   "version": "3.8.5"
  }
 },
 "nbformat": 4,
 "nbformat_minor": 4
}
