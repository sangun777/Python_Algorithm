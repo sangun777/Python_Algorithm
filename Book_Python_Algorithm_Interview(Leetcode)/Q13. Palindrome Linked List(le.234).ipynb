{
 "cells": [
  {
   "cell_type": "markdown",
   "metadata": {},
   "source": [
    "# 문제\n",
    "\n",
    "### 주어진 링크드리스트가 팰린드롬(뒤집어도 똑같은거)인지 확인하라"
   ]
  },
  {
   "cell_type": "markdown",
   "metadata": {},
   "source": [
    "## 그냥 뒤집어서 확인하면 되는거 아님?\n",
    "\n",
    "    * 문제 알고리즘이 어려운 것이 아니라\n",
    "    * 링크드리스트 구조로 된 head에서 val를 뽑아내어 리스트로 담는 과정만 알아두면 될 듯"
   ]
  },
  {
   "cell_type": "code",
   "execution_count": null,
   "metadata": {},
   "outputs": [],
   "source": [
    "\n",
    "# Definition for singly-linked list.\n",
    "# class ListNode:\n",
    "#     def __init__(self, val=0, next=None):\n",
    "#         self.val = val\n",
    "#         self.next = next\n",
    "class Solution:\n",
    "    def isPalindrome(self, head: Optional[ListNode]) -> bool:\n",
    "        \n",
    "        # 비어 있으면 True\n",
    "        if not head:\n",
    "            return True\n",
    "        \n",
    "        \n",
    "        arr = []\n",
    "        node = head\n",
    "        while node is not None: ## 마지막 next가 가리키는 값이 None이란 것을 사용!!\n",
    "            arr.append(node.val)\n",
    "            node = node.next\n",
    "            \n",
    "        if arr == list(reversed(arr)): # reversed 객체를 list로 만들어줌\n",
    "            return True\n",
    "        else:\n",
    "            return False"
   ]
  }
 ],
 "metadata": {
  "kernelspec": {
   "display_name": "Python 3",
   "language": "python",
   "name": "python3"
  },
  "language_info": {
   "codemirror_mode": {
    "name": "ipython",
    "version": 3
   },
   "file_extension": ".py",
   "mimetype": "text/x-python",
   "name": "python",
   "nbconvert_exporter": "python",
   "pygments_lexer": "ipython3",
   "version": "3.8.8"
  }
 },
 "nbformat": 4,
 "nbformat_minor": 4
}
