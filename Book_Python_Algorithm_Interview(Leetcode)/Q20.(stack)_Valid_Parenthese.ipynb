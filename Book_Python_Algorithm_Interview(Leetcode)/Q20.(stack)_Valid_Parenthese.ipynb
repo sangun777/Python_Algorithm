{
 "cells": [
  {
   "cell_type": "markdown",
   "metadata": {},
   "source": [
    "# 문제 \n",
    "\n",
    " * 괄호들이 문자열 형태로 주어졌을 때, 그 괄호가 올바른지(유효한지) 검증하라!\n",
    "\n",
    "#### parenthese : 괄호 (=bracket)"
   ]
  },
  {
   "cell_type": "markdown",
   "metadata": {},
   "source": [
    "Input: s = \"()\"\n",
    "Output: true\n",
    "\n",
    "\n",
    "Input: s = \"()[]{}\"\n",
    "Output: true\n",
    "\n",
    "Input: s = \"(]\"\n",
    "Output: false\n",
    "\n",
    "Input: s = \"([)]\"\n",
    "Output: false\n",
    "\n",
    "Input: s = \"{[]}\"\n",
    "Output: true"
   ]
  },
  {
   "cell_type": "markdown",
   "metadata": {},
   "source": [
    "# 풀이 개념(내 생각)\n",
    "\n",
    "    * 여는 괄호면 스택에 넣고\n",
    "    * 닫는 괄호면 스택에서 뽑아 비교해서 판별"
   ]
  },
  {
   "cell_type": "code",
   "execution_count": null,
   "metadata": {},
   "outputs": [],
   "source": [
    "class Solution:\n",
    "    def isValid(self, s: str) -> bool:\n",
    "        \n",
    "        # 닫는 괄호로 시작할 경우,\n",
    "        if s[0] == ')' or s[0] == '}' or s[0] == ']':\n",
    "            return False\n",
    "        \n",
    "        # 여는 괄호로 끝나는 경우,\n",
    "        if s[-1] == '(' or s[-1] == '{' or s[-1] == '[':\n",
    "            return False\n",
    "        \n",
    "        stack = []\n",
    "        \n",
    "        # 비워져 있는 리스트에 pop()연산 수행시 에러 발생하므로, try-except 사용\n",
    "        for c in s:\n",
    "            if c == '[' or c == '{' or c =='(':\n",
    "                stack.append(c)\n",
    "            elif c==']':\n",
    "                try:\n",
    "                    if stack.pop()!='[':\n",
    "                        return False\n",
    "                except:\n",
    "                    return False\n",
    "            elif c=='}':\n",
    "                try:\n",
    "                    if stack.pop()!='{':\n",
    "                        return False\n",
    "                except:\n",
    "                    return False\n",
    "            elif c==')':\n",
    "                try:\n",
    "                    if stack.pop()!='(':\n",
    "                        return False\n",
    "                except:\n",
    "                    return False\n",
    "        \n",
    "        # stack이 비워져있으면 (남는 여는 괄호가 있으면 안됨)\n",
    "        if not stack:\n",
    "            return True"
   ]
  },
  {
   "cell_type": "code",
   "execution_count": 3,
   "metadata": {},
   "outputs": [
    {
     "ename": "IndexError",
     "evalue": "pop from empty list",
     "output_type": "error",
     "traceback": [
      "\u001b[1;31m---------------------------------------------------------------------------\u001b[0m",
      "\u001b[1;31mIndexError\u001b[0m                                Traceback (most recent call last)",
      "\u001b[1;32m<ipython-input-3-00f8d38883ad>\u001b[0m in \u001b[0;36m<module>\u001b[1;34m\u001b[0m\n\u001b[0;32m      1\u001b[0m \u001b[0ma\u001b[0m \u001b[1;33m=\u001b[0m \u001b[1;33m[\u001b[0m\u001b[1;33m]\u001b[0m\u001b[1;33m\u001b[0m\u001b[1;33m\u001b[0m\u001b[0m\n\u001b[1;32m----> 2\u001b[1;33m \u001b[0ma\u001b[0m\u001b[1;33m.\u001b[0m\u001b[0mpop\u001b[0m\u001b[1;33m(\u001b[0m\u001b[1;33m)\u001b[0m\u001b[1;33m\u001b[0m\u001b[1;33m\u001b[0m\u001b[0m\n\u001b[0m",
      "\u001b[1;31mIndexError\u001b[0m: pop from empty list"
     ]
    }
   ],
   "source": [
    "a = []\n",
    "a.pop()"
   ]
  },
  {
   "cell_type": "markdown",
   "metadata": {},
   "source": [
    "# 책 풀이\n",
    "\n",
    "### 여기서는 딕셔너리 키-값을 이용해 괄호 비교함"
   ]
  },
  {
   "cell_type": "code",
   "execution_count": null,
   "metadata": {},
   "outputs": [],
   "source": [
    "class Solution:\n",
    "    def isValid(self, s: str) -> bool:\n",
    "        \n",
    "        stack = []\n",
    "        table = {\n",
    "            ')' : '(',\n",
    "            '}' : '{',\n",
    "            ']' : '[',\n",
    "        }\n",
    "        \n",
    "        for char in s:\n",
    "            if char not in table:    # 닫는 괄호가 아니면, stack에 추가\n",
    "                stack.append(char)\n",
    "            elif not stack or table[char] != stack.pop(): # 닫는 괄호가 나왔는데, stack이 비워져 있거나, stack에서 꺼낸 값이 현재 닫느 괄호를 키로 하는 값이 아닌 경우,\n",
    "                return False\n",
    "         \n",
    "        # stack이 비워져있으면, True 반환\n",
    "        return len(stack)==0"
   ]
  }
 ],
 "metadata": {
  "kernelspec": {
   "display_name": "Python 3",
   "language": "python",
   "name": "python3"
  },
  "language_info": {
   "codemirror_mode": {
    "name": "ipython",
    "version": 3
   },
   "file_extension": ".py",
   "mimetype": "text/x-python",
   "name": "python",
   "nbconvert_exporter": "python",
   "pygments_lexer": "ipython3",
   "version": "3.8.5"
  }
 },
 "nbformat": 4,
 "nbformat_minor": 5
}
