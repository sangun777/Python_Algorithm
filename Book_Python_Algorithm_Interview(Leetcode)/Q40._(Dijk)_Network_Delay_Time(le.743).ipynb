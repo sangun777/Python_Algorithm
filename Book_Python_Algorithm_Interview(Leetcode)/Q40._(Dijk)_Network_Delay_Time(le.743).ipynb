{
 "cells": [
  {
   "cell_type": "markdown",
   "metadata": {},
   "source": [
    "# 문제\n",
    "\n",
    " * 1부터 n까지 수로 이루어진 n개의 노드가 주어지고,\n",
    " * times[i] = (u_i, v_i, w_i)로 이루어진 times가 주어진다.\n",
    "     * u_i : 출발 노드 \n",
    "     * v_i : 도착 노드\n",
    "     * w_i : 걸리는 시간\n",
    "     \n",
    " * k 노드에 신호를 보낼 때, 모든 노드에 신호가 도달할 때까지 걸리는 시간을 반환하라!\n",
    " * 만일 모든 노드에 신호가 도달할 수 없다면, -1을 반환하라!"
   ]
  },
  {
   "cell_type": "code",
   "execution_count": null,
   "metadata": {},
   "outputs": [],
   "source": [
    "Input: times = [[2,1,1],[2,3,1],[3,4,1]], n = 4, k = 2\n",
    "Output: 2"
   ]
  },
  {
   "cell_type": "code",
   "execution_count": null,
   "metadata": {},
   "outputs": [],
   "source": [
    "Input: times = [[1,2,1]], n = 2, k = 1\n",
    "Output: 1"
   ]
  },
  {
   "cell_type": "code",
   "execution_count": null,
   "metadata": {},
   "outputs": [],
   "source": [
    "Input: times = [[1,2,1]], n = 2, k = 2\n",
    "Output: -1"
   ]
  },
  {
   "cell_type": "code",
   "execution_count": null,
   "metadata": {},
   "outputs": [],
   "source": [
    "class Solution:\n",
    "    def networkDelayTime(self, times: List[List[int]], n: int, k: int) -> int:\n",
    "        "
   ]
  },
  {
   "cell_type": "code",
   "execution_count": null,
   "metadata": {},
   "outputs": [],
   "source": [
    "class Solution:\n",
    "    def networkDelayTime(self, times: List[List[int]], n: int, k: int) -> int:\n",
    "        \n",
    "        INF = int(1e9)\n",
    "        \n",
    "        dist = [INF] * (n+1)\n",
    "        visited = [False] * (n+1)\n",
    "        \n",
    "        graph = collections.defaultdict(list)\n",
    "        \n",
    "        for a, b, c in times:    # a : src, b : dest, c : time\n",
    "            graph[a].append([b, c])\n",
    "            \n",
    "        \n",
    "        def dijk(start):\n",
    "            \n",
    "            dist[start] = 0\n",
    "            visited[start] = 0\n",
    "            \n",
    "            for i in graph[start]:\n",
    "                dist[i[0]] = min(dist[i[0]], dist[start]+i[1])\n",
    "                visited[i[0]] = True\n",
    "                 \n",
    "                \n",
    "                \n",
    "            \n",
    "            \n",
    "        \n",
    "        dijk(k)\n",
    "            "
   ]
  },
  {
   "cell_type": "markdown",
   "metadata": {},
   "source": [
    "# 책 풀이1\n",
    "\n",
    "## 2가지 확인 사항\n",
    "    1. 모든 노드가 신호를 받는 데 걸리는 시간\n",
    "    2. 모든 노드에 신호가 도달할 수 있는지 여부\n",
    "    \n",
    "### 핵심 개념 => 사이클이 발생하는지 확인하는 것!!\n",
    "    \n",
    "### 여기서는 우선순위 큐 역할을 하는 heapq을 사용하여 구현한다."
   ]
  },
  {
   "cell_type": "code",
   "execution_count": null,
   "metadata": {},
   "outputs": [],
   "source": [
    "class Solution:\n",
    "    def networkDelayTime(self, times: List[List[int]], n: int, k: int) -> int:\n",
    "        \n",
    "        graph = collections.defaultdict(list)\n",
    "        \n",
    "        # 그래프 인접 리스트 구성 src:(dest, time)\n",
    "        for u, v, w in times:\n",
    "            graph[u].append((v, w))\n",
    "            \n",
    "        # 큐 변수 : [(소요시간, 정점)]\n",
    "        Q = [(0, k)]\n",
    "        \n",
    "        # 시작점(k)으로 부터 node까지 걸리는 시간을 node:시간으로 저장\n",
    "        dist = collections.defaultdict(int)\n",
    "        \n",
    "        #\n",
    "        while Q:\n",
    "            time, node = heapq.heappop(Q)    # 1. Q에서 노드, 시간 꺼내서\n",
    "            if node not in dist:\n",
    "                dist[node] = time            # 2. dist[node]를 갱신하고\n",
    "                for v, w in graph[node]:     # 3. edge = graph[node]를 탐방하며, \n",
    "                    alt = time + w           # 4. alt 변수에 time 갱신\n",
    "                    heapq.heappush(Q, (alt, v))  # 5. Q에 노드, 시간 집어 넣기\n",
    "                    \n",
    "        if len(dist) == n:    # 모든 노드가 도달 가능하다면,\n",
    "            return max(dist.values())    # 최대 시간 반환\n",
    "        \n",
    "        return -1"
   ]
  },
  {
   "cell_type": "code",
   "execution_count": null,
   "metadata": {},
   "outputs": [],
   "source": []
  },
  {
   "cell_type": "code",
   "execution_count": 4,
   "metadata": {},
   "outputs": [
    {
     "name": "stdout",
     "output_type": "stream",
     "text": [
      "[1, 2, 5, 7, 10, 8, 6]\n",
      "1\n",
      "2\n",
      "5\n",
      "6\n",
      "7\n",
      "8\n",
      "10\n"
     ]
    }
   ],
   "source": [
    "import heapq\n",
    "\n",
    "a = [5, 7, 1, 2, 10, 8, 6]\n",
    "\n",
    "heapq.heapify(a)\n",
    "\n",
    "print(a)\n",
    "\n",
    "for i in range(len(a)):\n",
    "    print(heapq.heappop(a))"
   ]
  }
 ],
 "metadata": {
  "kernelspec": {
   "display_name": "Python 3",
   "language": "python",
   "name": "python3"
  },
  "language_info": {
   "codemirror_mode": {
    "name": "ipython",
    "version": 3
   },
   "file_extension": ".py",
   "mimetype": "text/x-python",
   "name": "python",
   "nbconvert_exporter": "python",
   "pygments_lexer": "ipython3",
   "version": "3.8.8"
  }
 },
 "nbformat": 4,
 "nbformat_minor": 4
}
