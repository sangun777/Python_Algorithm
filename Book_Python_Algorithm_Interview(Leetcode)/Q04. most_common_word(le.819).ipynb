{
 "cells": [
  {
   "cell_type": "markdown",
   "metadata": {},
   "source": [
    "# 4. 가장 흔한 단어\n",
    "\n",
    "* 입력된 문자열에서 금지된 단어를 제외한 가장 흔하게 등장하는 단어를 출력하라.\n",
    "* 대소문자 구분은 하지 않으며, 구두점(마침표, 쉼표 등) 또한 무시한다."
   ]
  },
  {
   "cell_type": "markdown",
   "metadata": {},
   "source": [
    "### 구두점 등 특수 문제 제거가 핵심\n",
    "\n",
    "    * 모든 기호들을 space ' '으로 변경해주어, 각 값을 중심으로 split 가능하도록 변경"
   ]
  },
  {
   "cell_type": "code",
   "execution_count": 25,
   "metadata": {},
   "outputs": [],
   "source": [
    "paragraph = \"Bob hit a ball, the hit BALL flew far after it was hit.\""
   ]
  },
  {
   "cell_type": "code",
   "execution_count": 27,
   "metadata": {},
   "outputs": [
    {
     "data": {
      "text/plain": [
       "'Bob hit a ball, the hit BALL flew far after it was hit.'"
      ]
     },
     "execution_count": 27,
     "metadata": {},
     "output_type": "execute_result"
    }
   ],
   "source": [
    "import re\n",
    "\n",
    "# ^ : not\n",
    "# \\w : 단어\n",
    "\n",
    "re.sub('[\\W]', ' ', paragraph)\n",
    "\n",
    "paragraph"
   ]
  },
  {
   "cell_type": "code",
   "execution_count": 28,
   "metadata": {},
   "outputs": [
    {
     "data": {
      "text/plain": [
       "'bob hit a ball, the hit ball flew far after it was hit.'"
      ]
     },
     "execution_count": 28,
     "metadata": {},
     "output_type": "execute_result"
    }
   ],
   "source": [
    "paragraph.lower()"
   ]
  },
  {
   "cell_type": "markdown",
   "metadata": {},
   "source": [
    "### 내 풀이"
   ]
  },
  {
   "cell_type": "code",
   "execution_count": null,
   "metadata": {},
   "outputs": [],
   "source": [
    "class Solution:\n",
    "    def mostCommonWord(self, paragraph: str, banned: List[str]) -> str:\n",
    "        \n",
    "        paragraph = re.sub('[\\W]', ' ', paragraph)\n",
    "        paragraph = paragraph.lower()\n",
    "        paragraph = paragraph.split()\n",
    "        \n",
    "        list_para = []\n",
    "        for word in paragraph:\n",
    "            if word not in banned:\n",
    "                list_para.append(word)\n",
    "            \n",
    "        c = Counter(list_para)\n",
    "        \n",
    "        return c.most_common(1)[0][0]"
   ]
  },
  {
   "cell_type": "markdown",
   "metadata": {},
   "source": [
    "### 풀이 확인"
   ]
  },
  {
   "cell_type": "code",
   "execution_count": 35,
   "metadata": {},
   "outputs": [
    {
     "data": {
      "text/plain": [
       "Counter({'bob': 1,\n",
       "         'a': 1,\n",
       "         'ball': 2,\n",
       "         'the': 1,\n",
       "         'flew': 1,\n",
       "         'far': 1,\n",
       "         'after': 1,\n",
       "         'it': 1,\n",
       "         'was': 1})"
      ]
     },
     "execution_count": 35,
     "metadata": {},
     "output_type": "execute_result"
    }
   ],
   "source": [
    "from collections import Counter\n",
    "\n",
    "paragraph = \"Bob hit a ball, the hit BALL flew far after it was hit.\"\n",
    "banned = [\"hit\"]\n",
    "\n",
    "paragraph = re.sub('[\\W]', ' ', paragraph)\n",
    "paragraph = paragraph.lower()\n",
    "paragraph = paragraph.split()\n",
    "        \n",
    "list_para = []\n",
    "for word in paragraph:\n",
    "    if word not in banned:\n",
    "        list_para.append(word)\n",
    "            \n",
    "c = Counter(list_para)\n",
    "c"
   ]
  },
  {
   "cell_type": "code",
   "execution_count": 37,
   "metadata": {},
   "outputs": [
    {
     "data": {
      "text/plain": [
       "[('ball', 2),\n",
       " ('bob', 1),\n",
       " ('a', 1),\n",
       " ('the', 1),\n",
       " ('flew', 1),\n",
       " ('far', 1),\n",
       " ('after', 1),\n",
       " ('it', 1),\n",
       " ('was', 1)]"
      ]
     },
     "execution_count": 37,
     "metadata": {},
     "output_type": "execute_result"
    }
   ],
   "source": [
    "c.most_common()"
   ]
  },
  {
   "cell_type": "code",
   "execution_count": 38,
   "metadata": {},
   "outputs": [
    {
     "data": {
      "text/plain": [
       "[('ball', 2)]"
      ]
     },
     "execution_count": 38,
     "metadata": {},
     "output_type": "execute_result"
    }
   ],
   "source": [
    "c.most_common(1)"
   ]
  },
  {
   "cell_type": "code",
   "execution_count": 39,
   "metadata": {},
   "outputs": [
    {
     "data": {
      "text/plain": [
       "('ball', 2)"
      ]
     },
     "execution_count": 39,
     "metadata": {},
     "output_type": "execute_result"
    }
   ],
   "source": [
    "c.most_common(1)[0]"
   ]
  },
  {
   "cell_type": "code",
   "execution_count": 40,
   "metadata": {},
   "outputs": [
    {
     "data": {
      "text/plain": [
       "'ball'"
      ]
     },
     "execution_count": 40,
     "metadata": {},
     "output_type": "execute_result"
    }
   ],
   "source": [
    "c.most_common(1)[0][0]"
   ]
  },
  {
   "cell_type": "code",
   "execution_count": 51,
   "metadata": {},
   "outputs": [
    {
     "name": "stdout",
     "output_type": "stream",
     "text": [
      "bob 1\n",
      "a 1\n",
      "ball 2\n",
      "the 1\n",
      "flew 1\n",
      "far 1\n",
      "after 1\n",
      "it 1\n",
      "was 1\n"
     ]
    }
   ],
   "source": [
    "for k,v in c.items():\n",
    "    print(k, end=\" \")\n",
    "    print(v)"
   ]
  },
  {
   "cell_type": "markdown",
   "metadata": {},
   "source": [
    "### 책풀이(리스트 컴프리 핸션 사용)"
   ]
  },
  {
   "cell_type": "code",
   "execution_count": 57,
   "metadata": {},
   "outputs": [],
   "source": [
    "import re\n",
    "from collections import Counter\n",
    "\n",
    "paragraph = \"Bob hit a ball, the hit BALL flew far after it was hit.\"\n",
    "banned = [\"hit\"]"
   ]
  },
  {
   "cell_type": "code",
   "execution_count": 59,
   "metadata": {},
   "outputs": [
    {
     "data": {
      "text/plain": [
       "'ball'"
      ]
     },
     "execution_count": 59,
     "metadata": {},
     "output_type": "execute_result"
    }
   ],
   "source": [
    "words = [word for word in re.sub('[\\W]', ' ', paragraph).lower().split() if word not in banned]\n",
    "Counter(words).most_common(1)[0][0]"
   ]
  }
 ],
 "metadata": {
  "kernelspec": {
   "display_name": "Python 3",
   "language": "python",
   "name": "python3"
  },
  "language_info": {
   "codemirror_mode": {
    "name": "ipython",
    "version": 3
   },
   "file_extension": ".py",
   "mimetype": "text/x-python",
   "name": "python",
   "nbconvert_exporter": "python",
   "pygments_lexer": "ipython3",
   "version": "3.8.5"
  }
 },
 "nbformat": 4,
 "nbformat_minor": 4
}
