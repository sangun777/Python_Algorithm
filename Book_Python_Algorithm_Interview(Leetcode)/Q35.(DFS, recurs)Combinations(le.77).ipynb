{
 "cells": [
  {
   "cell_type": "markdown",
   "metadata": {},
   "source": [
    "# 문제\n",
    "\n",
    "* 두 정수 n, k 입력 받으면, 1~n까지 수를 이용하여, 가능한 k개 정수 조합을 반환 하여라, "
   ]
  },
  {
   "cell_type": "code",
   "execution_count": null,
   "metadata": {},
   "outputs": [],
   "source": [
    "Input: n = 4, k = 2\n",
    "Output:\n",
    "[\n",
    "  [2,4],\n",
    "  [3,4],\n",
    "  [2,3],\n",
    "  [1,2],\n",
    "  [1,3],\n",
    "  [1,4],\n",
    "]"
   ]
  },
  {
   "cell_type": "code",
   "execution_count": null,
   "metadata": {},
   "outputs": [],
   "source": [
    "Input: n = 1, k = 1\n",
    "Output: [[1]]"
   ]
  },
  {
   "cell_type": "code",
   "execution_count": null,
   "metadata": {},
   "outputs": [],
   "source": [
    "Constraints:\n",
    "\n",
    "1 <= n <= 20\n",
    "1 <= k <= n"
   ]
  },
  {
   "cell_type": "markdown",
   "metadata": {},
   "source": [
    "# 내 풀이 1 (success, 72ms, 15.6MB)\n",
    "\n",
    "    * 일단 itertools.combinations 사용"
   ]
  },
  {
   "cell_type": "code",
   "execution_count": null,
   "metadata": {},
   "outputs": [],
   "source": [
    "class Solution:\n",
    "    def combine(self, n: int, k: int) -> List[List[int]]:\n",
    "        return list(itertools.combinations(range(1, n+1), k))"
   ]
  },
  {
   "cell_type": "markdown",
   "metadata": {},
   "source": [
    "# 내 풀이2 (test case Accrpted, Time Limit Exceeded)\n",
    "    * 재귀 DFS 써보자!\n",
    "    \n",
    "## Time Limit Exceeded\n",
    "\n",
    "    * 시간 복잡도 O(N!)"
   ]
  },
  {
   "cell_type": "code",
   "execution_count": null,
   "metadata": {},
   "outputs": [],
   "source": [
    "class Solution:\n",
    "    def combine(self, n: int, k: int) -> List[List[int]]:\n",
    "        result = []\n",
    "        temp = []\n",
    "        \n",
    "        def dfs(temp):\n",
    "            if len(temp) == k:\n",
    "                temp.sort()    # [1, 2] [2, 1]과 같은 순서 다른 중복 방지\n",
    "                if temp not in result:\n",
    "                    result.append(temp)\n",
    "                    return\n",
    "                else:\n",
    "                    return\n",
    "            for i in range(1, n+1):\n",
    "                if i not in temp:\n",
    "                    dfs(temp+[i])\n",
    "                    \n",
    "        dfs([])\n",
    "        \n",
    "        return result"
   ]
  },
  {
   "cell_type": "markdown",
   "metadata": {},
   "source": [
    "# 책 풀이1(DFS로 k개 조합 생성)\n",
    "\n",
    "### success, 464ms, 15.8 MB\n",
    "\n",
    "## DFS로직\n",
    "\n",
    "1. start(=1) ~ n 까지 숫자를 차례로 elements에 넣는다. (elements 는 리스트이며, 함수 호출로 선언)\n",
    "2. 한개 넣을 떄마다. k-1, start+1에서 dfs(elements, start+1, k-1) 재귀 호출\n",
    "3. k==0 이면, DFS 빠져나옴\n",
    "4. 마지막에 elements.pop()으로 초기롸"
   ]
  },
  {
   "cell_type": "code",
   "execution_count": null,
   "metadata": {},
   "outputs": [],
   "source": [
    "class Solution:\n",
    "    def combine(self, n: int, k: int) -> List[List[int]]:\n",
    "        results = []\n",
    "        \n",
    "        # k: (남은) 뽑는 갯수, 뽑을 때마다 -1\n",
    "        # start : 뽑은 숫자를 제외하기 위한 인덱스\n",
    "        # elements : results의 요소(하나하나의 조합 내용)\n",
    "        def dfs(elements, start: int, k: int):\n",
    "        \n",
    "            if k==0:\n",
    "                results.append(elements[:])\n",
    "            \n",
    "            # start~n까지 숫자를 차례로 elements에 추가\n",
    "            for i in range(start, n+1):\n",
    "                elements.append(i)\n",
    "                dfs(elements, i+1, k-1)\n",
    "                elements.pop()    # 완성된 elements가 results에 append 된 후, 초기화를 위한 연산\n",
    "                \n",
    "        dfs([], 1, k)\n",
    "        return results"
   ]
  }
 ],
 "metadata": {
  "kernelspec": {
   "display_name": "Python 3",
   "language": "python",
   "name": "python3"
  },
  "language_info": {
   "codemirror_mode": {
    "name": "ipython",
    "version": 3
   },
   "file_extension": ".py",
   "mimetype": "text/x-python",
   "name": "python",
   "nbconvert_exporter": "python",
   "pygments_lexer": "ipython3",
   "version": "3.8.8"
  }
 },
 "nbformat": 4,
 "nbformat_minor": 4
}
