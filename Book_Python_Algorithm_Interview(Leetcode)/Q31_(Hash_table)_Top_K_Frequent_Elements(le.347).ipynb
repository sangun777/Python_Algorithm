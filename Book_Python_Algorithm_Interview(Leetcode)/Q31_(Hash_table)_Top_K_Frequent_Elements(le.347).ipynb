{
 "cells": [
  {
   "cell_type": "markdown",
   "id": "3881a022",
   "metadata": {},
   "source": [
    "# 문제\n",
    "\n",
    "## 주어진 정수 배열 nums안에서 k 번 이상 등하는 요소를 추출하여라!"
   ]
  },
  {
   "cell_type": "code",
   "execution_count": null,
   "id": "403a9dcd",
   "metadata": {},
   "outputs": [],
   "source": [
    "Input: nums = [1,1,1,2,2,3], k = 2\n",
    "Output: [1,2]"
   ]
  },
  {
   "cell_type": "code",
   "execution_count": null,
   "id": "9f9ff925",
   "metadata": {},
   "outputs": [],
   "source": [
    "Input: nums = [1], k = 1\n",
    "Output: [1]"
   ]
  },
  {
   "cell_type": "markdown",
   "id": "9c70afd3",
   "metadata": {},
   "source": [
    "Constraints:\n",
    "\n",
    "* 1 <= nums.length <= 105\n",
    "* k is in the range [1, the number of unique elements in the array].\n",
    "* It is guaranteed that the answer is unique."
   ]
  },
  {
   "cell_type": "markdown",
   "id": "9c225df2",
   "metadata": {},
   "source": [
    "Follow up: Your algorithm's time complexity must be better than O(n log n), where n is the array's size."
   ]
  },
  {
   "cell_type": "markdown",
   "id": "f98410da",
   "metadata": {},
   "source": [
    "# 내 풀이\n",
    "\n",
    "    * 각 숫자:갯수를 hash(딕셔너리)에 넣고, k개 이상인 것만 뽑아 제출"
   ]
  },
  {
   "cell_type": "code",
   "execution_count": null,
   "id": "130216a6",
   "metadata": {},
   "outputs": [],
   "source": [
    "class Solution:\n",
    "    def topKFrequent(self, nums: List[int], k: int) -> List[int]:\n",
    "        \n",
    "        h = {}\n",
    "        answer=[]\n",
    "        \n",
    "        for i in nums:\n",
    "            if i not in h:\n",
    "                h[i] = 1\n",
    "            else:\n",
    "                h[i] += 1\n",
    "                \n",
    "        for key, v in h.items():\n",
    "            if v >= k:\n",
    "                answer.append(key)\n",
    "            \n",
    "        return answer"
   ]
  }
 ],
 "metadata": {
  "kernelspec": {
   "display_name": "Python 3",
   "language": "python",
   "name": "python3"
  },
  "language_info": {
   "codemirror_mode": {
    "name": "ipython",
    "version": 3
   },
   "file_extension": ".py",
   "mimetype": "text/x-python",
   "name": "python",
   "nbconvert_exporter": "python",
   "pygments_lexer": "ipython3",
   "version": "3.8.8"
  }
 },
 "nbformat": 4,
 "nbformat_minor": 5
}
