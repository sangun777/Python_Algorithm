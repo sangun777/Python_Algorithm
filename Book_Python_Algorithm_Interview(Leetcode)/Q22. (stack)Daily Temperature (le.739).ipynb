{
 "cells": [
  {
   "cell_type": "markdown",
   "metadata": {},
   "source": [
    "# 문제\n",
    "\n",
    "* temperatures라는 정수 배열이 주어지면,\n",
    "\n",
    "* answer 배열을 반환하라\n",
    "\n",
    "* answer[i]는 지금보다 따뜻한 날이 오기까지 몇일을 기다려야 하는지이다.\n",
    "\n",
    "* 가능한 일 수가 없으면, answer[i]값은 0이다.\n"
   ]
  },
  {
   "cell_type": "code",
   "execution_count": null,
   "metadata": {},
   "outputs": [],
   "source": [
    "Input: temperatures = [73,74,75,71,69,72,76,73]\n",
    "Output: [1,1,4,2,1,1,0,0]"
   ]
  },
  {
   "cell_type": "code",
   "execution_count": null,
   "metadata": {},
   "outputs": [],
   "source": [
    "Input: temperatures = [30,40,50,60]\n",
    "Output: [1,1,1,0]"
   ]
  },
  {
   "cell_type": "code",
   "execution_count": null,
   "metadata": {},
   "outputs": [],
   "source": [
    "Input: temperatures = [30,60,90]\n",
    "Output: [1,1,0]"
   ]
  },
  {
   "cell_type": "code",
   "execution_count": null,
   "metadata": {},
   "outputs": [],
   "source": [
    "Constraints:\n",
    "\n",
    "1 <= temperatures.length <= 10^5\n",
    "30 <= temperatures[i] <= 100"
   ]
  },
  {
   "cell_type": "markdown",
   "metadata": {},
   "source": [
    "# 내풀이\n",
    "\n",
    "### 일단 부르트포스로 풀어보자! => 시간 초과!!\n",
    "    * O(n^2) = 10^10 => 10,000,000,000(백억)\n",
    "        * 보통 2억 이하로 잡아야함(2*10^8)"
   ]
  },
  {
   "cell_type": "code",
   "execution_count": null,
   "metadata": {},
   "outputs": [],
   "source": [
    "class Solution:\n",
    "    def dailyTemperatures(self, temperatures: List[int]) -> List[int]:\n",
    "        \n",
    "        answer = []\n",
    "        \n",
    "        # i : 현재 날짜, j: 미래 날짜\n",
    "        for i in range(len(temperatures)):\n",
    "            for j in range(len(temperatures[i+1:])):\n",
    "                if temperatures[i+1:][j] > temperatures[i]:\n",
    "                    answer.append(j+1)\n",
    "                    break\n",
    "                \n",
    "                # 미래 중 마지막 날짜에 따뜻하지 않을 때,\n",
    "                elif j == len(temperatures[i+1:])-1:\n",
    "                    answer.append(0)\n",
    "            \n",
    "            # 마지막 날 일 때,\n",
    "            if i == len(temperatures)-1:\n",
    "                answer.append(0)\n",
    "                    \n",
    "        return answer"
   ]
  },
  {
   "cell_type": "markdown",
   "metadata": {},
   "source": [
    "# 책 풀이\n",
    "\n",
    "* 스택을 만들어 현재 날짜를 넣는다.\n",
    "* 다음 날짜가 올때마다, 스택에 있는 날짜의 날씨와 비교해서, 현재가 더 더우면,\n",
    "  stack있는것 꺼내서 answer갱신하고, 다시 현재 날짜 stack에 넣기"
   ]
  },
  {
   "cell_type": "code",
   "execution_count": null,
   "metadata": {},
   "outputs": [],
   "source": [
    "class Solution:\n",
    "    def dailyTemperatures(self, temperatures: List[int]) -> List[int]:\n",
    "        \n",
    "        # 정답 초기화\n",
    "        answer = [0] * len(temperatures)\n",
    "        \n",
    "        # 정답이 갱신되지 않은 이전 날짜들\n",
    "        stack = []\n",
    "        \n",
    "        # i : 현재 날짜, cur : 현재 온도\n",
    "        for i, cur in enumerate(temperatures):\n",
    "            \n",
    "            # stack에 있는 이전 낳짜들의 온도와 현재 온도 비교해서 현재가 높으면(따뜻하면)\n",
    "            # stack에 있는 모든 날짜에서 비교하기 때문에 while을 쓴다.\n",
    "            while stack and cur > temperatures[stack[-1]]:\n",
    "                \n",
    "                last = stack.pop()   # last : 지난 날짜\n",
    "                answer[last] = i-last  # 기다린 날 수 : 현재 날짜- 지난 날짜\n",
    "                \n",
    "            stack.append(i)\n",
    "            \n",
    "        return answer"
   ]
  }
 ],
 "metadata": {
  "kernelspec": {
   "display_name": "Python 3",
   "language": "python",
   "name": "python3"
  },
  "language_info": {
   "codemirror_mode": {
    "name": "ipython",
    "version": 3
   },
   "file_extension": ".py",
   "mimetype": "text/x-python",
   "name": "python",
   "nbconvert_exporter": "python",
   "pygments_lexer": "ipython3",
   "version": "3.8.5"
  }
 },
 "nbformat": 4,
 "nbformat_minor": 4
}
