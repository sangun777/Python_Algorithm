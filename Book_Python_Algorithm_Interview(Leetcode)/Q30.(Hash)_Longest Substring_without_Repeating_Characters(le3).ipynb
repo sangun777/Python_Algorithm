{
 "cells": [
  {
   "cell_type": "markdown",
   "id": "ec923469",
   "metadata": {},
   "source": [
    "# 문제\n",
    "\n",
    "### 주어진 문자열에서 중복 문자가 없는 가장 긴 부분 문자열의 길이 뽑아내라"
   ]
  },
  {
   "cell_type": "code",
   "execution_count": null,
   "id": "5335f7e5",
   "metadata": {},
   "outputs": [],
   "source": [
    "Input: s = \"abcabcbb\"\n",
    "Output: 3\n",
    "Explanation: The answer is \"abc\", with the length of 3."
   ]
  },
  {
   "cell_type": "code",
   "execution_count": null,
   "id": "e3732a4d",
   "metadata": {},
   "outputs": [],
   "source": [
    "Input: s = \"bbbbb\"\n",
    "Output: 1\n",
    "Explanation: The answer is \"b\", with the length of 1."
   ]
  },
  {
   "cell_type": "code",
   "execution_count": null,
   "id": "1c611cc7",
   "metadata": {},
   "outputs": [],
   "source": [
    "Input: s = \"pwwkew\"\n",
    "Output: 3\n",
    "Explanation: The answer is \"wke\", with the length of 3.\n",
    "Notice that the answer must be a substring, \"pwke\" is a subsequence and not a substring. \n",
    "# 하위 문자열(substring)이 아니라 하위 시퀀스(subsequence)라는 얘기"
   ]
  },
  {
   "cell_type": "markdown",
   "id": "dcb15eef",
   "metadata": {},
   "source": [
    "# 내 풀이(success, 52ms, 14.3 MB)\n",
    "    * s에서 한 개씩 뽑아서, st라는 문자열 변수에 하나씩 추가하기\n",
    "        * 뽑은 글자가 st에 없으면, 그냥 추가\n",
    "        * 있으면, 그 부분 다음부터 내용 추가\n",
    "        * max_len 변수에 최대 길이 갱신"
   ]
  },
  {
   "cell_type": "code",
   "execution_count": null,
   "id": "0ba0e8be",
   "metadata": {},
   "outputs": [],
   "source": [
    "class Solution:\n",
    "    def lengthOfLongestSubstring(self, s: str) -> int:\n",
    "        max_len = 0\n",
    "        st = ''\n",
    "        \n",
    "        for i in s:\n",
    "            if i not in st:\n",
    "                st+=i\n",
    "                max_len = max(max_len, len(st))\n",
    "            else:\n",
    "                st = st[st.find(i)+1:]+i\n",
    "                max_len = max(max_len, len(st))\n",
    "                \n",
    "        return max_len"
   ]
  },
  {
   "cell_type": "code",
   "execution_count": 7,
   "id": "c1a7fcd2",
   "metadata": {},
   "outputs": [
    {
     "ename": "IndexError",
     "evalue": "string index out of range",
     "output_type": "error",
     "traceback": [
      "\u001b[1;31m---------------------------------------------------------------------------\u001b[0m",
      "\u001b[1;31mIndexError\u001b[0m                                Traceback (most recent call last)",
      "\u001b[1;32m<ipython-input-7-e0e50e501fb6>\u001b[0m in \u001b[0;36m<module>\u001b[1;34m\u001b[0m\n\u001b[0;32m      1\u001b[0m \u001b[0ma\u001b[0m \u001b[1;33m=\u001b[0m \u001b[1;34m'pw'\u001b[0m\u001b[1;33m\u001b[0m\u001b[1;33m\u001b[0m\u001b[0m\n\u001b[1;32m----> 2\u001b[1;33m \u001b[0ma\u001b[0m\u001b[1;33m[\u001b[0m\u001b[1;36m2\u001b[0m\u001b[1;33m]\u001b[0m\u001b[1;33m\u001b[0m\u001b[1;33m\u001b[0m\u001b[0m\n\u001b[0m",
      "\u001b[1;31mIndexError\u001b[0m: string index out of range"
     ]
    }
   ],
   "source": [
    "# 없는 인덱스를 그대로 쓰면 에러가 발생하지만,\n",
    "a = 'pw'\n",
    "a[2]"
   ]
  },
  {
   "cell_type": "code",
   "execution_count": 4,
   "id": "d60ae1c0",
   "metadata": {},
   "outputs": [
    {
     "data": {
      "text/plain": [
       "''"
      ]
     },
     "execution_count": 4,
     "metadata": {},
     "output_type": "execute_result"
    }
   ],
   "source": [
    "# 없는 인덱스를 슬라이스로 쓸 경우 공백을 반환 한다 => 이부분 때문에 내 풀이가 에러가 안나는 것임!\n",
    "a = 'pw'\n",
    "a[2:]"
   ]
  },
  {
   "cell_type": "code",
   "execution_count": 8,
   "id": "472bdf33",
   "metadata": {},
   "outputs": [
    {
     "data": {
      "text/plain": [
       "'pw'"
      ]
     },
     "execution_count": 8,
     "metadata": {},
     "output_type": "execute_result"
    }
   ],
   "source": [
    "a[:1231514323]"
   ]
  },
  {
   "cell_type": "code",
   "execution_count": 9,
   "id": "96fa9330",
   "metadata": {},
   "outputs": [
    {
     "data": {
      "text/plain": [
       "''"
      ]
     },
     "execution_count": 9,
     "metadata": {},
     "output_type": "execute_result"
    }
   ],
   "source": [
    "a[1231514323:]"
   ]
  },
  {
   "cell_type": "markdown",
   "id": "dc496948",
   "metadata": {},
   "source": [
    "# 책 풀이1(슬라이딩 윈도우와 투 포인터로 사이즈 조절)"
   ]
  },
  {
   "cell_type": "code",
   "execution_count": null,
   "id": "591625ec",
   "metadata": {},
   "outputs": [],
   "source": [
    "class Solution:\n",
    "    def lengthOfLongestSubstring(self, s: str) -> int:\n",
    "        \n",
    "        used = {}  # 각 문자(char)의 인덱스를 기록하는 해시 테이블\n",
    "        max_length = start = 0 # start : 가장 긴 부분 문자열의 시작 인덱스\n",
    "        \n",
    "        for index, char in enumerate(s):\n",
    "            \n",
    "            # 등장했던 문자가 재 등장시, start 위치 갱신 \n",
    "            if char in used and start <= used[char]:\n",
    "                start = used[char] + 1\n",
    "                \n",
    "            else: # 현재 길이(index-start-1)와 최대 길이 비교해서 큰 값으로 갱신\n",
    "                max_length = max(max_length, index - start + 1)\n",
    "                \n",
    "             # 현재 문자의 인덱스를 used 딕셔너리에 기록\n",
    "            used[char] = index\n",
    "            \n",
    "        return max_length"
   ]
  }
 ],
 "metadata": {
  "kernelspec": {
   "display_name": "Python 3",
   "language": "python",
   "name": "python3"
  },
  "language_info": {
   "codemirror_mode": {
    "name": "ipython",
    "version": 3
   },
   "file_extension": ".py",
   "mimetype": "text/x-python",
   "name": "python",
   "nbconvert_exporter": "python",
   "pygments_lexer": "ipython3",
   "version": "3.8.8"
  }
 },
 "nbformat": 4,
 "nbformat_minor": 5
}
