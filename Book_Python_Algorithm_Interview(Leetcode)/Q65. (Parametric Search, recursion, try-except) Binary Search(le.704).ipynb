{
 "cells": [
  {
   "cell_type": "markdown",
   "metadata": {},
   "source": [
    "# 문제\n",
    "\n",
    "* nums 라는 오름차순으로 정렬된 정수 배열이 주어지고,\n",
    "* target 정수 하나가 주어졌을 때,\n",
    "* nums 내에서 target을 찾는 함수를 작성하라\n",
    "\n",
    "    * target이 nums 내에 있으면 해당 인덱스를, 없으면 -1을 반환하라"
   ]
  },
  {
   "cell_type": "code",
   "execution_count": 4,
   "metadata": {},
   "outputs": [],
   "source": [
    "#Input: \n",
    "nums = [-1,0,3,5,9,12]\n",
    "target = 9\n",
    "\n",
    "#Output: 4\n",
    "\n",
    "# Explanation: 9 exists in nums and its index is 4"
   ]
  },
  {
   "cell_type": "code",
   "execution_count": 7,
   "metadata": {},
   "outputs": [],
   "source": [
    "# Input: \n",
    "nums = [-1,0,3,5,9,12]\n",
    "target = 2\n",
    "\n",
    "# Output: -1\n",
    "\n",
    "\n",
    "#Explanation: 2 does not exist in nums so return -1"
   ]
  },
  {
   "cell_type": "markdown",
   "metadata": {},
   "source": [
    "# 내 풀이 (Success, 244ms, 15.7MB)"
   ]
  },
  {
   "cell_type": "code",
   "execution_count": 8,
   "metadata": {},
   "outputs": [
    {
     "name": "stdout",
     "output_type": "stream",
     "text": [
      "-1\n"
     ]
    },
    {
     "data": {
      "text/plain": [
       "-1"
      ]
     },
     "execution_count": 8,
     "metadata": {},
     "output_type": "execute_result"
    }
   ],
   "source": [
    "def func(nums, target):\n",
    "    \n",
    "    start, end = 0, len(nums)-1\n",
    "    \n",
    "    while start <= end:\n",
    "        \n",
    "        mid = (start+end)//2\n",
    "        \n",
    "        if nums[mid] == target:\n",
    "            print(mid)\n",
    "            return mid\n",
    "        \n",
    "        elif nums[mid] > target:\n",
    "            end = mid-1\n",
    "            \n",
    "        else:\n",
    "            start = mid+1\n",
    "    \n",
    "    print(-1)\n",
    "    return -1\n",
    "\n",
    "func(nums, target)"
   ]
  },
  {
   "cell_type": "code",
   "execution_count": null,
   "metadata": {},
   "outputs": [],
   "source": [
    "class Solution:\n",
    "    def search(self, nums: List[int], target: int) -> int:\n",
    "        start, end = 0, len(nums)-1\n",
    "    \n",
    "        while start <= end:\n",
    "\n",
    "            mid = (start+end)//2\n",
    "\n",
    "            if nums[mid] == target:\n",
    "                return mid\n",
    "\n",
    "            elif nums[mid] > target:\n",
    "                end = mid-1\n",
    "\n",
    "            else:\n",
    "                start = mid+1\n",
    "\n",
    "        return -1"
   ]
  },
  {
   "cell_type": "markdown",
   "metadata": {},
   "source": [
    "## 풀이 주의사항\n",
    "\n",
    "    * end값은 len(nums)가 아니라 len(nums)-1로 해야함 (인덱스 에러 주의)"
   ]
  },
  {
   "cell_type": "markdown",
   "metadata": {},
   "source": [
    "# 책 풀이1(재귀)\n",
    "\n",
    " ## success(240ms, 23.1MB)"
   ]
  },
  {
   "cell_type": "markdown",
   "metadata": {},
   "source": [
    "## !! 재귀 풀이 시 주의할점!!\n",
    "\n",
    "### 파이썬에서는 재귀 호출에 대한 횟수 제한이 있으며, 기본 값은 1,000으로 설정되어 있다.\n",
    "\n",
    "* 여기는 3000으로 설정되어 있음(하단 셀 확인)\n",
    "* 이 값은 변경할 수 있으나, 코딩 테스트 플랫폼에서는 sys모듈을 이용한 설정 변경을 허용하지 않기 떄문에,\n",
    "* 가급적 모든 재귀 풀이는 1000회 반복 이내 풀이가 가능하도록 구현하여야 한다.!!!\n",
    "\n",
    "    * 이진 탐색에서 1000회 반복은 2^1000을 의미하니 사실상 신경안써도 됨"
   ]
  },
  {
   "cell_type": "code",
   "execution_count": 10,
   "metadata": {},
   "outputs": [
    {
     "data": {
      "text/plain": [
       "3000"
      ]
     },
     "execution_count": 10,
     "metadata": {},
     "output_type": "execute_result"
    }
   ],
   "source": [
    "import sys\n",
    "\n",
    "sys.getrecursionlimit()"
   ]
  },
  {
   "cell_type": "code",
   "execution_count": null,
   "metadata": {},
   "outputs": [],
   "source": [
    "class Solution:\n",
    "    def search(self, nums: List[int], target: int) -> int:\n",
    "        \n",
    "        def binary_search(left, right):\n",
    "            if left <= right:\n",
    "                mid = (left+right)//2\n",
    "                \n",
    "                if nums[mid] < target:\n",
    "                    return binary_search(mid+1, right)\n",
    "                elif nums[mid] > target:\n",
    "                    return binary_search(left, mid-1)\n",
    "                else:\n",
    "                    return mid\n",
    "                \n",
    "            else:\n",
    "                return -1\n",
    "            \n",
    "        return binary_search(0, len(nums)-1)"
   ]
  },
  {
   "cell_type": "markdown",
   "metadata": {},
   "source": [
    "# 책 풀이2(반복 풀이)\n",
    "\n",
    "    * 내 풀이와 동일\n",
    "    * 대부분의 재귀 풀이는 반복 풀이로 변경 할 수 있다.\n",
    "    * 재귀 풀이는 더 우아하고(?), 반복 풀이는 좀 더 직관적이어서 이해가 쉽다는 장점이 있다."
   ]
  },
  {
   "cell_type": "markdown",
   "metadata": {},
   "source": [
    "# 책 풀이3(이진 검색 모듈 bisect 이용, 파이써닉한 풀이)\n",
    "## success(232ms, 15.6MB)\n",
    "\n",
    "* 풀이1, 2과 같이 이진 검색 알고리즘을 직접 구현하지 않고,\n",
    "* 이진 검색 알고리즘을 지원하는 bisect 모듈을 이용하는 방법 => 파이써닉한 풀이\n",
    "\n",
    "* .bisect_left(리스트a, 값b)\n",
    "    * 정렬된 순서를 유지하면서, 리스트 a에 데이터 b를 삽입할 가장 왼쪽 인덱스를 찾는 메서드\n",
    "* .bisect_right(a, b)\n",
    "    * 정렬된 순서를 유지하면서, 리스트 a에 데이터 b를 삽입할 가장 오른쪽 인덱스를 찾는 메서드\n",
    "    \n",
    "!!! left를 써야 target의 인덱스가 나옴에 주의!"
   ]
  },
  {
   "cell_type": "code",
   "execution_count": null,
   "metadata": {},
   "outputs": [],
   "source": [
    "class Solution:\n",
    "    def search(self, nums: List[int], target: int) -> int:\n",
    "        \n",
    "        index = bisect.bisect_left(nums, target)\n",
    "        \n",
    "        if index < len(nums) and nums[index] == target:\n",
    "            return index\n",
    "        \n",
    "        else:\n",
    "            return -1"
   ]
  },
  {
   "cell_type": "markdown",
   "metadata": {},
   "source": [
    "# 책풀이 4(이진 검색을 사용하지 않는 index 풀이)\n",
    "### success(236ms, 15.6MB)\n",
    "\n",
    "* 파이썬 index() 함수 이용\n",
    "    * 존재하지 않을 경우, 에러를 발생 시키므로, 예외처리(try-except)를 해주어야함"
   ]
  },
  {
   "cell_type": "code",
   "execution_count": null,
   "metadata": {},
   "outputs": [],
   "source": [
    "class Solution:\n",
    "    def search(self, nums: List[int], target: int) -> int:\n",
    "        try:\n",
    "            return nums.index(target)\n",
    "        except:\n",
    "            return -1"
   ]
  },
  {
   "cell_type": "markdown",
   "metadata": {},
   "source": [
    "### 그냥 예외처리 안하고 find()쓰면 되지 않나?\n",
    "\n",
    "### 결론 : 안됨\n",
    "    * .find는 문자열 객체에만 존재하는 함수이고,\n",
    "    * .index는 리스트, 문자열 둘 다 존재\n",
    "    \n",
    "    * list를 str형으로 바꾸고, .find()를 처리할 경우, 음수를 양수로 인식하는 문제를 해결해야 할 것으로 예상됨"
   ]
  },
  {
   "cell_type": "code",
   "execution_count": null,
   "metadata": {},
   "outputs": [],
   "source": [
    "## 에러 발생\n",
    "class Solution:\n",
    "    def search(self, nums: List[int], target: int) -> int:\n",
    "        return nums.find(target)"
   ]
  },
  {
   "cell_type": "code",
   "execution_count": 14,
   "metadata": {
    "collapsed": true
   },
   "outputs": [
    {
     "data": {
      "text/plain": [
       "['__add__',\n",
       " '__class__',\n",
       " '__contains__',\n",
       " '__delattr__',\n",
       " '__dir__',\n",
       " '__doc__',\n",
       " '__eq__',\n",
       " '__format__',\n",
       " '__ge__',\n",
       " '__getattribute__',\n",
       " '__getitem__',\n",
       " '__getnewargs__',\n",
       " '__gt__',\n",
       " '__hash__',\n",
       " '__init__',\n",
       " '__init_subclass__',\n",
       " '__iter__',\n",
       " '__le__',\n",
       " '__len__',\n",
       " '__lt__',\n",
       " '__mod__',\n",
       " '__mul__',\n",
       " '__ne__',\n",
       " '__new__',\n",
       " '__reduce__',\n",
       " '__reduce_ex__',\n",
       " '__repr__',\n",
       " '__rmod__',\n",
       " '__rmul__',\n",
       " '__setattr__',\n",
       " '__sizeof__',\n",
       " '__str__',\n",
       " '__subclasshook__',\n",
       " 'capitalize',\n",
       " 'casefold',\n",
       " 'center',\n",
       " 'count',\n",
       " 'encode',\n",
       " 'endswith',\n",
       " 'expandtabs',\n",
       " 'find',\n",
       " 'format',\n",
       " 'format_map',\n",
       " 'index',\n",
       " 'isalnum',\n",
       " 'isalpha',\n",
       " 'isascii',\n",
       " 'isdecimal',\n",
       " 'isdigit',\n",
       " 'isidentifier',\n",
       " 'islower',\n",
       " 'isnumeric',\n",
       " 'isprintable',\n",
       " 'isspace',\n",
       " 'istitle',\n",
       " 'isupper',\n",
       " 'join',\n",
       " 'ljust',\n",
       " 'lower',\n",
       " 'lstrip',\n",
       " 'maketrans',\n",
       " 'partition',\n",
       " 'replace',\n",
       " 'rfind',\n",
       " 'rindex',\n",
       " 'rjust',\n",
       " 'rpartition',\n",
       " 'rsplit',\n",
       " 'rstrip',\n",
       " 'split',\n",
       " 'splitlines',\n",
       " 'startswith',\n",
       " 'strip',\n",
       " 'swapcase',\n",
       " 'title',\n",
       " 'translate',\n",
       " 'upper',\n",
       " 'zfill']"
      ]
     },
     "execution_count": 14,
     "metadata": {},
     "output_type": "execute_result"
    }
   ],
   "source": [
    "dir('')"
   ]
  },
  {
   "cell_type": "code",
   "execution_count": 13,
   "metadata": {
    "collapsed": true
   },
   "outputs": [
    {
     "data": {
      "text/plain": [
       "['__add__',\n",
       " '__class__',\n",
       " '__contains__',\n",
       " '__delattr__',\n",
       " '__delitem__',\n",
       " '__dir__',\n",
       " '__doc__',\n",
       " '__eq__',\n",
       " '__format__',\n",
       " '__ge__',\n",
       " '__getattribute__',\n",
       " '__getitem__',\n",
       " '__gt__',\n",
       " '__hash__',\n",
       " '__iadd__',\n",
       " '__imul__',\n",
       " '__init__',\n",
       " '__init_subclass__',\n",
       " '__iter__',\n",
       " '__le__',\n",
       " '__len__',\n",
       " '__lt__',\n",
       " '__mul__',\n",
       " '__ne__',\n",
       " '__new__',\n",
       " '__reduce__',\n",
       " '__reduce_ex__',\n",
       " '__repr__',\n",
       " '__reversed__',\n",
       " '__rmul__',\n",
       " '__setattr__',\n",
       " '__setitem__',\n",
       " '__sizeof__',\n",
       " '__str__',\n",
       " '__subclasshook__',\n",
       " 'append',\n",
       " 'clear',\n",
       " 'copy',\n",
       " 'count',\n",
       " 'extend',\n",
       " 'index',\n",
       " 'insert',\n",
       " 'pop',\n",
       " 'remove',\n",
       " 'reverse',\n",
       " 'sort']"
      ]
     },
     "execution_count": 13,
     "metadata": {},
     "output_type": "execute_result"
    }
   ],
   "source": [
    "dir([])"
   ]
  },
  {
   "cell_type": "code",
   "execution_count": 22,
   "metadata": {},
   "outputs": [
    {
     "data": {
      "text/plain": [
       "'-1035912'"
      ]
     },
     "execution_count": 22,
     "metadata": {},
     "output_type": "execute_result"
    }
   ],
   "source": [
    "nums = [-1,0,3,5,9,12]\n",
    "\n",
    "# 요소가 str형 일 때만 join 연산 수행 가능\n",
    "\"\".join(map(str, nums))"
   ]
  },
  {
   "cell_type": "code",
   "execution_count": 15,
   "metadata": {},
   "outputs": [
    {
     "data": {
      "text/plain": [
       "-7"
      ]
     },
     "execution_count": 15,
     "metadata": {},
     "output_type": "execute_result"
    }
   ],
   "source": [
    "a = -7\n",
    "a"
   ]
  },
  {
   "cell_type": "code",
   "execution_count": 16,
   "metadata": {},
   "outputs": [
    {
     "data": {
      "text/plain": [
       "int"
      ]
     },
     "execution_count": 16,
     "metadata": {},
     "output_type": "execute_result"
    }
   ],
   "source": [
    "type(a)"
   ]
  },
  {
   "cell_type": "code",
   "execution_count": 17,
   "metadata": {},
   "outputs": [
    {
     "data": {
      "text/plain": [
       "'-7'"
      ]
     },
     "execution_count": 17,
     "metadata": {},
     "output_type": "execute_result"
    }
   ],
   "source": [
    "b = str(a)\n",
    "\n",
    "b"
   ]
  },
  {
   "cell_type": "code",
   "execution_count": null,
   "metadata": {},
   "outputs": [],
   "source": []
  },
  {
   "cell_type": "code",
   "execution_count": 19,
   "metadata": {},
   "outputs": [
    {
     "data": {
      "text/plain": [
       "1"
      ]
     },
     "execution_count": 19,
     "metadata": {},
     "output_type": "execute_result"
    }
   ],
   "source": [
    "# b = '-7'이고, target = 7일 때, 인덱스를 처리하는 문제 발생!\n",
    "b.find('7')"
   ]
  },
  {
   "cell_type": "code",
   "execution_count": null,
   "metadata": {},
   "outputs": [],
   "source": [
    "class Solution:\n",
    "    def search(self, nums: List[int], target: int) -> int:"
   ]
  }
 ],
 "metadata": {
  "kernelspec": {
   "display_name": "Python 3",
   "language": "python",
   "name": "python3"
  },
  "language_info": {
   "codemirror_mode": {
    "name": "ipython",
    "version": 3
   },
   "file_extension": ".py",
   "mimetype": "text/x-python",
   "name": "python",
   "nbconvert_exporter": "python",
   "pygments_lexer": "ipython3",
   "version": "3.8.5"
  }
 },
 "nbformat": 4,
 "nbformat_minor": 4
}
