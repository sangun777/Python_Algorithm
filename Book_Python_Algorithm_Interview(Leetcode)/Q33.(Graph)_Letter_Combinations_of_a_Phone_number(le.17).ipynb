{
 "cells": [
  {
   "cell_type": "markdown",
   "metadata": {},
   "source": [
    "# 문제\n",
    "\n",
    "* 2~9의 숫자로 이루어진 문자열을 주어졌을 떄, 가능한 모든 문자 조합을 반환하라\n",
    "* 각 숫자는 핸드폰 자판 그림과 같이 문자와 대응된다.\n",
    "* 어떤 순서로든 답 반환 가능"
   ]
  },
  {
   "cell_type": "markdown",
   "metadata": {},
   "source": [
    "![](Q33.png)"
   ]
  },
  {
   "cell_type": "code",
   "execution_count": null,
   "metadata": {},
   "outputs": [],
   "source": [
    "Input: digits = \"23\"\n",
    "Output: [\"ad\",\"ae\",\"af\",\"bd\",\"be\",\"bf\",\"cd\",\"ce\",\"cf\"]"
   ]
  },
  {
   "cell_type": "code",
   "execution_count": null,
   "metadata": {},
   "outputs": [],
   "source": [
    "Input: digits = \"\"\n",
    "Output: []"
   ]
  },
  {
   "cell_type": "code",
   "execution_count": null,
   "metadata": {},
   "outputs": [],
   "source": [
    "Input: digits = \"2\"\n",
    "Output: [\"a\",\"b\",\"c\"]"
   ]
  },
  {
   "cell_type": "markdown",
   "metadata": {},
   "source": [
    "# 책 풀이1(모든 조합 탐색)\n",
    "\n",
    "    * 이 문제는 항상 전체를 탐색해야함\n",
    "        * 가지치기를 하지 않음\n",
    "    * digits의 각 자릿수에 해당하는 키판 배열을 DFS로 탐색하면 결과 완성\n",
    "    \n",
    "## 주요 로직\n",
    "\n",
    "1. digits의 각 숫자에 대응되는 char을 딕셔너리에 담음\n",
    "2. dfs함수를 재귀적으로 구현하는데,\n",
    "    * 조합 문자열을 담는 변수인 path와\n",
    "    * digits를 슬라이딩하는 index 변수를 파라미터로 받음\n",
    "    \n",
    "3. 현재 인덱스에 해당하는 위치의 digits 값을 꺼내 대응되는 문자들에 대해,\n",
    "    * 문자를 path에 추가하고, 다음 index에 대해 재귀적으로 호출\n",
    "    \n",
    "# 재귀 구현 관련\n",
    "1. 종료 조건이 있어야함\n",
    "2. 반복되어서 처리되는 부분은 함수내에 코드가 아닌, 함수 호출 부분에 있어야됨!!\n",
    "    * 그렇지 않으면, 처음 수행된 변수가 나중에 수행되는 부분에도 지속 적용됨"
   ]
  },
  {
   "cell_type": "code",
   "execution_count": 11,
   "metadata": {
    "collapsed": true
   },
   "outputs": [
    {
     "ename": "NameError",
     "evalue": "name 'List' is not defined",
     "output_type": "error",
     "traceback": [
      "\u001b[1;31m---------------------------------------------------------------------------\u001b[0m",
      "\u001b[1;31mNameError\u001b[0m                                 Traceback (most recent call last)",
      "\u001b[1;32m<ipython-input-11-606592814f14>\u001b[0m in \u001b[0;36m<module>\u001b[1;34m\u001b[0m\n\u001b[1;32m----> 1\u001b[1;33m \u001b[1;32mclass\u001b[0m \u001b[0mSolution\u001b[0m\u001b[1;33m:\u001b[0m\u001b[1;33m\u001b[0m\u001b[1;33m\u001b[0m\u001b[0m\n\u001b[0m\u001b[0;32m      2\u001b[0m     \u001b[1;32mdef\u001b[0m \u001b[0mletterCombinations\u001b[0m\u001b[1;33m(\u001b[0m\u001b[0mself\u001b[0m\u001b[1;33m,\u001b[0m \u001b[0mdigits\u001b[0m\u001b[1;33m:\u001b[0m \u001b[0mstr\u001b[0m\u001b[1;33m)\u001b[0m \u001b[1;33m->\u001b[0m \u001b[0mList\u001b[0m\u001b[1;33m[\u001b[0m\u001b[0mstr\u001b[0m\u001b[1;33m]\u001b[0m\u001b[1;33m:\u001b[0m\u001b[1;33m\u001b[0m\u001b[1;33m\u001b[0m\u001b[0m\n\u001b[0;32m      3\u001b[0m \u001b[1;33m\u001b[0m\u001b[0m\n\u001b[0;32m      4\u001b[0m         \u001b[1;31m# 예외 처리\u001b[0m\u001b[1;33m\u001b[0m\u001b[1;33m\u001b[0m\u001b[1;33m\u001b[0m\u001b[0m\n\u001b[0;32m      5\u001b[0m         \u001b[1;32mif\u001b[0m \u001b[1;32mnot\u001b[0m \u001b[0mdigits\u001b[0m\u001b[1;33m:\u001b[0m\u001b[1;33m\u001b[0m\u001b[1;33m\u001b[0m\u001b[0m\n",
      "\u001b[1;32m<ipython-input-11-606592814f14>\u001b[0m in \u001b[0;36mSolution\u001b[1;34m()\u001b[0m\n\u001b[0;32m      1\u001b[0m \u001b[1;32mclass\u001b[0m \u001b[0mSolution\u001b[0m\u001b[1;33m:\u001b[0m\u001b[1;33m\u001b[0m\u001b[1;33m\u001b[0m\u001b[0m\n\u001b[1;32m----> 2\u001b[1;33m     \u001b[1;32mdef\u001b[0m \u001b[0mletterCombinations\u001b[0m\u001b[1;33m(\u001b[0m\u001b[0mself\u001b[0m\u001b[1;33m,\u001b[0m \u001b[0mdigits\u001b[0m\u001b[1;33m:\u001b[0m \u001b[0mstr\u001b[0m\u001b[1;33m)\u001b[0m \u001b[1;33m->\u001b[0m \u001b[0mList\u001b[0m\u001b[1;33m[\u001b[0m\u001b[0mstr\u001b[0m\u001b[1;33m]\u001b[0m\u001b[1;33m:\u001b[0m\u001b[1;33m\u001b[0m\u001b[1;33m\u001b[0m\u001b[0m\n\u001b[0m\u001b[0;32m      3\u001b[0m \u001b[1;33m\u001b[0m\u001b[0m\n\u001b[0;32m      4\u001b[0m         \u001b[1;31m# 예외 처리\u001b[0m\u001b[1;33m\u001b[0m\u001b[1;33m\u001b[0m\u001b[1;33m\u001b[0m\u001b[0m\n\u001b[0;32m      5\u001b[0m         \u001b[1;32mif\u001b[0m \u001b[1;32mnot\u001b[0m \u001b[0mdigits\u001b[0m\u001b[1;33m:\u001b[0m\u001b[1;33m\u001b[0m\u001b[1;33m\u001b[0m\u001b[0m\n",
      "\u001b[1;31mNameError\u001b[0m: name 'List' is not defined"
     ]
    }
   ],
   "source": [
    "class Solution:\n",
    "    def letterCombinations(self, digits: str) -> List[str]:\n",
    "        \n",
    "        # 예외 처리\n",
    "        if not digits:\n",
    "            return []\n",
    "        \n",
    "        mapping = {\n",
    "            \"2\":['a', 'b', 'c'], \n",
    "            \"3\":['d', 'e', 'f'], \n",
    "            \"4\":['g', 'h', 'i'], \n",
    "            \"5\":['j', 'k', 'l'], \n",
    "            \"6\":['m', 'n', 'o'], \n",
    "            \"7\":['p', 'q', 'r', 's'], \n",
    "            \"8\":['t', 'u', 'v'], \n",
    "            \"9\":['w', 'x', 'y', 'z'], \n",
    "        }\n",
    "        \n",
    "        result = []\n",
    "        \n",
    "        # path : 만들어지는 문자열을 담는 변수인 듯\n",
    "        # index : 만들어지는 문자열의 인덱스\n",
    "        def dfs(index, path):\n",
    "            \n",
    "            # 끝까지 탐색하면, 백트래킹\n",
    "            # 결과의 자릿수가 digits의 길이와 동일 할때까지 재귀 호출 반복\n",
    "            if len(path) == len(digits):\n",
    "                result.append(path)\n",
    "                return     # dfs 함수 종료\n",
    "            \n",
    "            # 입력값 자릿수 단위 반복\n",
    "            for i in range(index, len(digits)):  # 난 이 for문에 왜 필요한지 모르겠음\n",
    "                                                  # 이슈트래커 찾아보니 해당 반복문 필요 없음\n",
    "                \n",
    "                for j in mapping[digits[i]]:\n",
    "                    dfs(i+1, path+j)\n",
    "        \n",
    "        dfs(0, \"\")\n",
    "        \n",
    "        \n",
    "        return result\n",
    "                \n",
    "        "
   ]
  },
  {
   "cell_type": "code",
   "execution_count": null,
   "metadata": {},
   "outputs": [],
   "source": [
    "# 위 책 풀이 1에서 line 32의 for문 변경\n",
    "class Solution:\n",
    "    def letterCombinations(self, digits: str) -> List[str]:\n",
    "        \n",
    "        # 예외 처리\n",
    "        if not digits:\n",
    "            return []\n",
    "        \n",
    "        mapping = {\n",
    "            \"2\":['a', 'b', 'c'], \n",
    "            \"3\":['d', 'e', 'f'], \n",
    "            \"4\":['g', 'h', 'i'], \n",
    "            \"5\":['j', 'k', 'l'], \n",
    "            \"6\":['m', 'n', 'o'], \n",
    "            \"7\":['p', 'q', 'r', 's'], \n",
    "            \"8\":['t', 'u', 'v'], \n",
    "            \"9\":['w', 'x', 'y', 'z'], \n",
    "        }\n",
    "        \n",
    "        result = []\n",
    "        \n",
    "        # path : 만들어지는 문자열을 담는 변수인 듯\n",
    "        # index : 만들어지는 문자열의 인덱스\n",
    "        def dfs(index, path):\n",
    "            \n",
    "            # 끝까지 탐색하면, 백트래킹\n",
    "            # 결과의 자릿수가 digits의 길이와 동일 할때까지 재귀 호출 반복\n",
    "            if len(path) == len(digits):\n",
    "                result.append(path)\n",
    "                return     # dfs 함수 종료\n",
    "            \n",
    "            i = index  # for문 대체\n",
    "                \n",
    "            for j in mapping[digits[i]]:\n",
    "                dfs(i+1, path+j)\n",
    "        \n",
    "        dfs(0, \"\")\n",
    "        \n",
    "        return result\n",
    "                \n",
    "        "
   ]
  },
  {
   "cell_type": "markdown",
   "metadata": {},
   "source": [
    "# 내 풀이\n",
    "* 이거 딕셔너리로 매핑 해주고,\n",
    "* zip이나 combination으로 풀면 그냥 풀릴거 같은디??\n",
    "    * zip은 아님 => 모든 경우의 수를 반환하지 않음\n",
    "    * combinations도 아님 => 여러 묶음이 아닌 한 묶음에 대하여 수행됨\n",
    "    \n",
    "* 일단 brute froce로 풀어보자!\n",
    "    * digits의 요소 갯수가 고정이 아니어서 반복문 갯수 지정 불가\n",
    "    \n",
    "* 재귀로 어떻게든 풀어보자!\n",
    "    * 오래 걸릴거 같다 책보자!\n",
    "    "
   ]
  },
  {
   "cell_type": "code",
   "execution_count": null,
   "metadata": {},
   "outputs": [],
   "source": [
    "class Solution:\n",
    "    def letterCombinations(self, digits: str) -> List[str]:\n",
    "        mapping = {\n",
    "            \"2\":['a', 'b', 'c'], \n",
    "            \"3\":['d', 'e', 'f'], \n",
    "            \"4\":['g', 'h', 'i'], \n",
    "            \"5\":['j', 'k', 'l'], \n",
    "            \"6\":['m', 'n', 'o'], \n",
    "            \"7\":['p', 'q', 'r', 's'], \n",
    "            \"8\":['t', 'u', 'v'], \n",
    "            \"9\":['w', 'x', 'y', 'z'], \n",
    "        }\n",
    "        \n",
    "        # 조합 재료를 담을 배열\n",
    "        materials = []\n",
    "        combi = ''\n",
    "        answer = []\n",
    "        \n",
    "        def DFS(chars):\n",
    "            for i in chars:\n",
    "                combi += i\n",
    "                \n",
    "            \n",
    "        for i in digits:\n",
    "            for j in i:\n",
    "                j\n",
    "        \n",
    "        for i in materials:\n",
    "            for j in i:\n",
    "                \n",
    "            \n",
    "        return answer"
   ]
  },
  {
   "cell_type": "code",
   "execution_count": 10,
   "metadata": {},
   "outputs": [
    {
     "data": {
      "text/plain": [
       "'ab'"
      ]
     },
     "execution_count": 10,
     "metadata": {},
     "output_type": "execute_result"
    }
   ],
   "source": [
    "a = ('a', 'b')\n",
    "\"\".join(a)"
   ]
  },
  {
   "cell_type": "code",
   "execution_count": 9,
   "metadata": {},
   "outputs": [
    {
     "data": {
      "text/plain": [
       "\"['a', 'b']\""
      ]
     },
     "execution_count": 9,
     "metadata": {},
     "output_type": "execute_result"
    }
   ],
   "source": [
    "a = ['a', 'b']\n",
    "str(a)"
   ]
  }
 ],
 "metadata": {
  "kernelspec": {
   "display_name": "Python 3",
   "language": "python",
   "name": "python3"
  },
  "language_info": {
   "codemirror_mode": {
    "name": "ipython",
    "version": 3
   },
   "file_extension": ".py",
   "mimetype": "text/x-python",
   "name": "python",
   "nbconvert_exporter": "python",
   "pygments_lexer": "ipython3",
   "version": "3.8.5"
  }
 },
 "nbformat": 4,
 "nbformat_minor": 4
}
