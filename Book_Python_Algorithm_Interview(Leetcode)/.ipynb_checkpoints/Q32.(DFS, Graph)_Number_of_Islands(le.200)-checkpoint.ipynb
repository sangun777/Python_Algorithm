{
 "cells": [
  {
   "cell_type": "markdown",
   "metadata": {},
   "source": [
    "# 문제(섬의 갯수, 코테 단골 문제)\n",
    "\n",
    "## 1을 육지로, 0을 물로 가정한 2D 그리드 맵이 주어졌을 떄, 섬의 갯수를 계산하라."
   ]
  },
  {
   "cell_type": "code",
   "execution_count": null,
   "metadata": {},
   "outputs": [],
   "source": [
    "Input: grid = [\n",
    "  [\"1\",\"1\",\"1\",\"1\",\"0\"],\n",
    "  [\"1\",\"1\",\"0\",\"1\",\"0\"],\n",
    "  [\"1\",\"1\",\"0\",\"0\",\"0\"],\n",
    "  [\"0\",\"0\",\"0\",\"0\",\"0\"]\n",
    "]\n",
    "Output: 1"
   ]
  },
  {
   "cell_type": "code",
   "execution_count": null,
   "metadata": {},
   "outputs": [],
   "source": [
    "Input: grid = [\n",
    "  [\"1\",\"1\",\"0\",\"0\",\"0\"],\n",
    "  [\"1\",\"1\",\"0\",\"0\",\"0\"],\n",
    "  [\"0\",\"0\",\"1\",\"0\",\"0\"],\n",
    "  [\"0\",\"0\",\"0\",\"1\",\"1\"]\n",
    "]\n",
    "Output: 3"
   ]
  },
  {
   "cell_type": "markdown",
   "metadata": {},
   "source": [
    "### Constraints:  \n",
    "    * m == grid.length\n",
    "    * n == grid[i].length\n",
    "    * 1 <= m, n <= 300\n",
    "    * grid[i][j] is '0' or '1'."
   ]
  },
  {
   "cell_type": "markdown",
   "metadata": {},
   "source": [
    "# 책 풀이 1(DFS로 그래프 탐색)\n",
    "\n",
    "* 동서남북이 모두 연결된 그래프\n",
    "* 네 방향을 각각 DFS 재귀를 이용하여 탐색을 끝마치면, 1이 증가하는 형태로 육지의 갯수를 파악할 수 있다.\n",
    "\n",
    "### 사용되는 DFS로직\n",
    "1. '0'이면(땅이 아니면, 제한 조건이면) 종료한다.\n",
    "2. 제한 조건이 아니면, 마킹(방문처리)하고, 다음 값에 대하여 재귀처리한다.\n",
    "\n",
    "### 문제에 따라 그래프 방문용 행렬을 만들수도 있지만, 이문제는 그럴 필요 없음\n",
    "    * 만들면, 공간복잡도 효율이 떨어짐\n",
    "   "
   ]
  },
  {
   "cell_type": "code",
   "execution_count": null,
   "metadata": {},
   "outputs": [],
   "source": [
    "class Solution:\n",
    "    def numIslands(self, grid: List[List[str]]) -> int:\n",
    "        \n",
    "        # 예외 처리\n",
    "        if not grid:\n",
    "            return 0\n",
    "        \n",
    "        count = 0\n",
    "        \n",
    "        for i in range(len(grid)):\n",
    "            for j in range(len(grid[0])):\n",
    "                \n",
    "                # 땅 발견하면, DFS로 주변 탐색\n",
    "                if grid[i][j] == '1':\n",
    "                    self.dfs(grid, i, j)\n",
    "                    count+=1    # 연결된 모든 땅 탐색 후, 섬 카운드 +1\n",
    "        return count\n",
    "                \n",
    "    def dfs(self, grid, i, j):\n",
    "        \n",
    "        # 더 이상 땅이 아닌 경우 종료(return)\n",
    "        # 백슬래시로 코드 줄 구분\n",
    "        if i<0 or i>=len(grid) or \\\n",
    "            j<0 or j>=len(grid[0]) or \\\n",
    "            grid[i][j] != \"1\":\n",
    "            return\n",
    "        \n",
    "        # 땅('1') 인 곳은 모두 '0'으로 만들어버림\n",
    "        # 방문 했던 곳을 마킹하는 역할(0 이 아닌 다른 값이라도 됨, '1'만 아니면 상관없음)\n",
    "        grid[i][j] = '0'\n",
    "        \n",
    "        # 동서남북 모두 탐색\n",
    "        # 0이 나올때까지 '1'을 모두 '0'으로 만들어 버림\n",
    "        self.dfs(grid, i+1, j)\n",
    "        self.dfs(grid, i-1, j)\n",
    "        self.dfs(grid, i, j+1)\n",
    "        self.dfs(grid, i, j-1)"
   ]
  },
  {
   "cell_type": "markdown",
   "metadata": {},
   "source": [
    "### 효율적인 코드 작성 법 1(조금 번잡 스럽고, 솔직히 별로 효율적인 느낌은 아님)\n",
    "\n",
    "    * grid를 Solution 클래스 내에 멤버 변수로 선언하여, 함수 선언시 grid 매개변수 중복 선언을 지운다.\n",
    "        * => 대신, self.grid 로 작성해야 되는 불편함이 있다.\n",
    "        \n",
    "    * numIslands의 grid는 지울 수 없음\n",
    "        * numIslands는 주어진 함수여서, 파라미터를 바꿀 수 없음"
   ]
  },
  {
   "cell_type": "code",
   "execution_count": null,
   "metadata": {},
   "outputs": [],
   "source": [
    "class Solution:\n",
    "    \n",
    "    # grid를 클래스 멤버 변수호 선언\n",
    "    grid: List[List[str]]\n",
    "    \n",
    "    def numIslands(self, grid: List[List[str]]) -> int:\n",
    "        \n",
    "        self.grid = grid\n",
    "        \n",
    "        # 예외 처리\n",
    "        if not self.grid:\n",
    "            return 0\n",
    "        \n",
    "        count = 0\n",
    "        \n",
    "        for i in range(len(grid)):\n",
    "            for j in range(len(grid[0])):\n",
    "                \n",
    "                # 땅 발견하면, DFS로 주변 탐색\n",
    "                if self.grid[i][j] == '1':\n",
    "                    self.dfs(i, j)\n",
    "                    count+=1    # 연결된 모든 땅 탐색 후, 섬 카운드 +1\n",
    "        return count\n",
    "                \n",
    "    def dfs(self, i: int, j: int):\n",
    "        \n",
    "        # 더 이상 땅이 아닌 경우 종료(return)\n",
    "        # 백슬래시로 코드 줄 구분\n",
    "        if i<0 or i>=len(self.grid) or \\\n",
    "            j<0 or j>=len(self.grid[0]) or \\\n",
    "            self.grid[i][j] != \"1\":\n",
    "            return\n",
    "        \n",
    "        # 땅('1') 인 곳은 모두 '0'으로 만들어버림\n",
    "        # 방문 했던 곳을 마킹하는 역할(0 이 아닌 다른 값이라도 됨, '1'만 아니면 상관없음)\n",
    "        self.grid[i][j] = '0'\n",
    "        \n",
    "        # 동서남북 모두 탐색\n",
    "        # 0이 나올때까지 '1'을 모두 '0'으로 만들어 버림\n",
    "        self.dfs(i+1, j)\n",
    "        self.dfs(i-1, j)\n",
    "        self.dfs(i, j+1)\n",
    "        self.dfs(i, j-1)"
   ]
  },
  {
   "cell_type": "markdown",
   "metadata": {},
   "source": [
    "### 효율적인 코드 작성 법 2(효율적이긴 함)\n",
    "\n",
    "    * dfs 함수를 numIslands 함수 안에 있는 중복 함수로 선언\n",
    "        * => dfs 입력 파리미터 grid 생략 가능"
   ]
  },
  {
   "cell_type": "code",
   "execution_count": null,
   "metadata": {},
   "outputs": [],
   "source": [
    "class Solution:\n",
    "    def numIslands(self, grid: List[List[str]]) -> int:\n",
    "        \n",
    "        # 중복 함수가 먼저 선언되어야 하므로, 코드가 위로 올라옴\n",
    "        def dfs(i, j):\n",
    "\n",
    "            # 더 이상 땅이 아닌 경우 종료(return)\n",
    "            # 백슬래시로 코드 줄 구분\n",
    "            if i<0 or i>=len(grid) or \\\n",
    "                j<0 or j>=len(grid[0]) or \\\n",
    "                grid[i][j] != \"1\":\n",
    "                return\n",
    "\n",
    "            # 땅('1') 인 곳은 모두 '0'으로 만들어버림\n",
    "            # 방문 했던 곳을 마킹하는 역할(0 이 아닌 다른 값이라도 됨, '1'만 아니면 상관없음)\n",
    "            grid[i][j] = '0'\n",
    "\n",
    "            # 동서남북 모두 탐색\n",
    "            # 0이 나올때까지 '1'을 모두 '0'으로 만들어 버림\n",
    "            dfs(i+1, j)\n",
    "            dfs(i-1, j)\n",
    "            dfs(i, j+1)\n",
    "            dfs(i, j-1)\n",
    "        \n",
    "        # 예외 처리\n",
    "        if not grid:\n",
    "            return 0\n",
    "        \n",
    "        count = 0\n",
    "        \n",
    "        for i in range(len(grid)):\n",
    "            for j in range(len(grid[0])):\n",
    "                \n",
    "                # 땅 발견하면, DFS로 주변 탐색\n",
    "                if grid[i][j] == '1':\n",
    "                    dfs(i, j)\n",
    "                    count+=1    # 연결된 모든 땅 탐색 후, 섬 카운드 +1\n",
    "        return count\n",
    "                \n",
    "        "
   ]
  },
  {
   "cell_type": "code",
   "execution_count": null,
   "metadata": {},
   "outputs": [],
   "source": []
  },
  {
   "cell_type": "code",
   "execution_count": null,
   "metadata": {},
   "outputs": [],
   "source": [
    "class Solution:\n",
    "    def numIslands(self, grid: List[List[str]]) -> int:\n",
    "        "
   ]
  },
  {
   "cell_type": "code",
   "execution_count": null,
   "metadata": {},
   "outputs": [],
   "source": []
  }
 ],
 "metadata": {
  "kernelspec": {
   "display_name": "Python 3",
   "language": "python",
   "name": "python3"
  },
  "language_info": {
   "codemirror_mode": {
    "name": "ipython",
    "version": 3
   },
   "file_extension": ".py",
   "mimetype": "text/x-python",
   "name": "python",
   "nbconvert_exporter": "python",
   "pygments_lexer": "ipython3",
   "version": "3.8.5"
  }
 },
 "nbformat": 4,
 "nbformat_minor": 5
}
