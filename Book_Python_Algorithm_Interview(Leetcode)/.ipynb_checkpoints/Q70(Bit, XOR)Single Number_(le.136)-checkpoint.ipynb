{
 "cells": [
  {
   "cell_type": "markdown",
   "id": "2e7d2f46",
   "metadata": {},
   "source": [
    "# 문제\n",
    "\n",
    "* 모든 주어진 정수 배열은 1개를 제외하고, 쌍으로 요소를 가진다. \n",
    "* 1개 정수를 찾아라!"
   ]
  },
  {
   "cell_type": "markdown",
   "id": "62c41a42",
   "metadata": {},
   "source": [
    "# 내 풀이\n",
    "\n",
    "    * 하나 뽑아서, 기록 없으면 visited에 넣고,\n",
    "    * 기록 있으면, visited와 같이 pop 수행"
   ]
  },
  {
   "cell_type": "code",
   "execution_count": 5,
   "id": "eb0c5c9f",
   "metadata": {},
   "outputs": [
    {
     "data": {
      "text/plain": [
       "7"
      ]
     },
     "execution_count": 5,
     "metadata": {},
     "output_type": "execute_result"
    }
   ],
   "source": [
    "7 ^ 0"
   ]
  },
  {
   "cell_type": "code",
   "execution_count": 3,
   "id": "1d40ff86",
   "metadata": {},
   "outputs": [
    {
     "data": {
      "text/plain": [
       "1"
      ]
     },
     "execution_count": 3,
     "metadata": {},
     "output_type": "execute_result"
    }
   ],
   "source": [
    "3 ^ 2"
   ]
  },
  {
   "cell_type": "code",
   "execution_count": 4,
   "id": "d305f02b",
   "metadata": {},
   "outputs": [
    {
     "data": {
      "text/plain": [
       "2"
      ]
     },
     "execution_count": 4,
     "metadata": {},
     "output_type": "execute_result"
    }
   ],
   "source": [
    "3 ^ 2 ^ 3"
   ]
  },
  {
   "cell_type": "markdown",
   "id": "6e5c3a6c",
   "metadata": {},
   "source": [
    "# 책 풀이(XOR 이용) (success, 132ms, 16.7MB)\n",
    "\n",
    "    * 배열의 모든 값을 XOR 하면, 한가지만 남는다!\n",
    "    * n XOR 0 은 n이다"
   ]
  },
  {
   "cell_type": "code",
   "execution_count": null,
   "id": "5c7c2fde",
   "metadata": {},
   "outputs": [],
   "source": [
    "class Solution:\n",
    "    def singleNumber(self, nums: List[int]) -> int:\n",
    "        \n",
    "        result = 0\n",
    "        for num in nums:\n",
    "            result ^= num\n",
    "            \n",
    "        return result"
   ]
  }
 ],
 "metadata": {
  "kernelspec": {
   "display_name": "Python 3",
   "language": "python",
   "name": "python3"
  },
  "language_info": {
   "codemirror_mode": {
    "name": "ipython",
    "version": 3
   },
   "file_extension": ".py",
   "mimetype": "text/x-python",
   "name": "python",
   "nbconvert_exporter": "python",
   "pygments_lexer": "ipython3",
   "version": "3.8.8"
  }
 },
 "nbformat": 4,
 "nbformat_minor": 5
}
