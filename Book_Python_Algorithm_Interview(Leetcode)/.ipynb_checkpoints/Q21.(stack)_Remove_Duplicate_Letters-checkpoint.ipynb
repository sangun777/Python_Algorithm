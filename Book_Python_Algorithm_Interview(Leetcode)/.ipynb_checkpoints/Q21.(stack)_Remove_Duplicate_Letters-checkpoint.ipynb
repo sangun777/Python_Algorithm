{
 "cells": [
  {
   "cell_type": "markdown",
   "metadata": {},
   "source": [
    "# 문제\n",
    "\n",
    "### 중복된 문자를 제거하는데, 가능한 모든 결과 중 사전식 순서로 가장 작은 경우를 출력하라"
   ]
  },
  {
   "cell_type": "markdown",
   "metadata": {},
   "source": [
    "Input: s = \"bcabc\"\n",
    "Output: \"abc\""
   ]
  },
  {
   "cell_type": "markdown",
   "metadata": {},
   "source": [
    "Input: s = \"cbacdcbc\"\n",
    "Output: \"acdb\""
   ]
  },
  {
   "cell_type": "markdown",
   "metadata": {},
   "source": [
    "### 예를 들어\n",
    " * Input: s = \"azfdhlfhgaz\"\n",
    " * s가 이런 경우, a는 뒤에 글자가 지워져야 하고,\n",
    "     * z는 앞에 글자가 지워져야함\n"
   ]
  },
  {
   "cell_type": "markdown",
   "metadata": {},
   "source": [
    "# 내 생각 풀이 개념\n",
    "\n",
    "    * 예시) 'abcfjfghi'\n",
    "        * 여기서 뒤에 f가 지워져야함('abcfjghi'(o), 'abcjfghi'(x))\n",
    "            * 첫 f 뒤에 있는 j가 f보다 뒤에 있기 때문\n",
    "    * 예시) 'abcfdfghi'\n",
    "        * 여기서 앞에 f가 지워져야함('abcdfghi'(o), 'abcfdghi'(x))\n",
    "            * 첫 f 뒤에 있는 j가 f보다 뒤에 있기 때문\n",
    "            \n",
    "### 즉, 중복되는 문자중 가장 앞의 문자에 바로 뒷문자가 중복되는 문자보다 사전순으로 앞인지 뒤인지가 중요!\n",
    "    * 그렇다면 바로 뒤에 문자도 중복된 문자라면???\n",
    "        * 예시) \"abcfedazdfe\"\n",
    "            => 상관 없는듯 뒷문자가 중복일 때, 뒷문자 뒤에 문자가 사전순보다 뒤라면, 지워지지 않고, 뒤에 문자가 지워지기 때문\n",
    "        "
   ]
  },
  {
   "cell_type": "code",
   "execution_count": null,
   "metadata": {},
   "outputs": [],
   "source": []
  },
  {
   "cell_type": "markdown",
   "metadata": {},
   "source": [
    "# 책 풀이1(재귀 이용)\n",
    "\n",
    "    * 먼 말인지 이해는 했으나, 내가 스스로 이런 로직을 떠올리기가 쉽지 않을 듯,,,"
   ]
  },
  {
   "cell_type": "markdown",
   "metadata": {},
   "source": [
    "# 개념 \n",
    "\n",
    "    * 문자열에서 각 문자를 사전순으로 나열하고, 순서대로 해당 문자를 필두로 한 부분집합을 봤을 떄,\n",
    "    * 부분집합이 전체의 집합과 같아지는 경우의 문자만 뽑아내기\n",
    "        \n",
    "    * 즉) s = 'cbkacdcbc' 에서 {'a', 'b', 'c', 'd', 'k'} 순서대로 하는 부분집합\n",
    "    * 'acdcbc', 'bkacdcbc', 'cbkacdcbc', 'dcbc', 'kacdcbc'를 순서대로 보며, 해당 값을 집합 함수(set())에 넣었을 때,\n",
    "    * 집합의 값이 set(s)와 같아지는 경우에만, 해당 문자를 뽑아내고, 그 뒷 부분에 대하여 재귀 연산 수행\n",
    "\n",
    " * 문자열을 집합에 넣고 정렬하여, 요소 문자의 종류를 순서대로 정렬\n",
    " * 해당 문자를 for문으로 순서대로 보면서, 해당 문자를 필두로 뒤에 나머지 문자의 집합과 전체 문자의 집합이 같다면,앞부분을 날려버림"
   ]
  },
  {
   "cell_type": "markdown",
   "metadata": {},
   "source": [
    "예시) s = 'cbkacdcbc'"
   ]
  },
  {
   "cell_type": "code",
   "execution_count": 35,
   "metadata": {},
   "outputs": [
    {
     "data": {
      "text/plain": [
       "{'a', 'b', 'c', 'd', 'k'}"
      ]
     },
     "execution_count": 35,
     "metadata": {},
     "output_type": "execute_result"
    }
   ],
   "source": [
    "s = 'cbkacdcbc'\n",
    "st = set(s)\n",
    "st"
   ]
  },
  {
   "cell_type": "markdown",
   "metadata": {},
   "source": [
    "순서대로 'a'부터 보면,\n",
    "* a를 필두로 하는 접미사(suffix) 'acdcbc'의 집합은 전체 집합과 다름"
   ]
  },
  {
   "cell_type": "code",
   "execution_count": 36,
   "metadata": {},
   "outputs": [
    {
     "data": {
      "text/plain": [
       "{'a', 'b', 'c', 'd'}"
      ]
     },
     "execution_count": 36,
     "metadata": {},
     "output_type": "execute_result"
    }
   ],
   "source": [
    "set('acdcbc')"
   ]
  },
  {
   "cell_type": "markdown",
   "metadata": {},
   "source": [
    "* b를 필두로 하는 접미사(suffix) 'bkacdcbc'의 집합은 전체 집합과 같음  \n",
    "    => 현재 문자('b')를 남기고 뒤에 문자열(suffix)에서 'b'를 지운 나머지('kacdcc')에 대하여 함수를 재귀 수행한다"
   ]
  },
  {
   "cell_type": "code",
   "execution_count": 37,
   "metadata": {},
   "outputs": [
    {
     "data": {
      "text/plain": [
       "{'a', 'b', 'c', 'd', 'k'}"
      ]
     },
     "execution_count": 37,
     "metadata": {},
     "output_type": "execute_result"
    }
   ],
   "source": [
    "set('bkacdcbc')"
   ]
  },
  {
   "cell_type": "code",
   "execution_count": 38,
   "metadata": {},
   "outputs": [
    {
     "data": {
      "text/plain": [
       "{'a', 'c', 'd', 'k'}"
      ]
     },
     "execution_count": 38,
     "metadata": {},
     "output_type": "execute_result"
    }
   ],
   "source": [
    "s = 'kacdcc'\n",
    "st = set(s)\n",
    "st"
   ]
  },
  {
   "cell_type": "markdown",
   "metadata": {},
   "source": [
    "* k를 필두로 하는 접미사(suffix) 'kacdcc'의 집합은 전체 집합과 같음  \n",
    "    => 현재 문자('k')를 남기고 뒤에 문자열(suffix)에서 'k'를 지운 나머지('acdcc')에 대하여 함수를 재귀 수행한다"
   ]
  },
  {
   "cell_type": "markdown",
   "metadata": {},
   "source": [
    "## 책 풀이1 코드"
   ]
  },
  {
   "cell_type": "code",
   "execution_count": null,
   "metadata": {},
   "outputs": [],
   "source": [
    "class Solution:\n",
    "    def removeDuplicateLetters(self, s: str) -> str:        \n",
    "        \n",
    "        for char in sorted(set(s)):\n",
    "            suffix = s[s.index(char):]\n",
    "            \n",
    "            if set(s) == set(suffix):\n",
    "                return char + self.removeDuplicateLetters(suffix.replace(char,''))\n",
    "            \n",
    "        return ''"
   ]
  },
  {
   "cell_type": "markdown",
   "metadata": {},
   "source": [
    "# 책 풀이2(스택을 이용한 문자 제거)\n",
    "\n",
    "    * stack : 반환할 문자열을 담는 스택\n",
    "    * seen : 해당 문자를 스택에 담은 경력이 있는지 여부 확인용 집합\n",
    "    * counter : 현재 문자열안에 남은 문자 갯수 확인용 Counter 객체('문자': 갯수 딕셔너리)\n",
    "    \n",
    "## 로직\n",
    "1. 문자열 s에서 한글자씩 뽑아서 일단 먼저 넣어 놓고,\n",
    "2. 넣었던 글자(stack[-1])가 그 다음 글자(char)와 비교 했을때, 사전 순서로 나중이고(크고), 문자열 s 뒤쪽에 남아 있다면(counter[stack[-1]]>0), 스택과 seen에서 뺸다.\n",
    "\n",
    "## 중요한 핵심 개념!!!\n",
    "\n",
    "### 문자열 s를 for문으로 돌고 있는 동안, 문자열 s에서 해당 문자들을 직접 삭제하면,\n",
    "### 돌고 있는 문자열 s에서 인덱스가 꼬이므로,\n",
    "### Counter(s)를 이용해서 별도로 정의해 놓고, 해당 val값을 확인하는 방식으로 중복된 문자열이 남아 있는지 확인함!!"
   ]
  },
  {
   "cell_type": "code",
   "execution_count": null,
   "metadata": {},
   "outputs": [],
   "source": [
    "class Solution:\n",
    "    def removeDuplicateLetters(self, s: str) -> str:        \n",
    "        \n",
    "        counter, seen, stack = collections.Counter(s), set(), []\n",
    "        \n",
    "        for char in s:\n",
    "            \n",
    "            # 일단 뽑아온 문자(char) 만큼 갯수 제거\n",
    "            counter[char] -= 1\n",
    "            \n",
    "            # 해당 문자를 스택(정답란)에 넣은 경력이 있으면 넘어감\n",
    "            if char in seen:\n",
    "                continue\n",
    "                \n",
    "            # stack에 값이 1개라도 있고, (없으면 pop()연산 시 에러)\n",
    "            # 해당 글자가 stack 마지막 값보다 사전적으로 앞서고,\n",
    "            # 문자열 s중 나머지 부분에 stack[-1]값이 남아있다면(counter[stack[-1]] > 0)\n",
    "            while stack and char < stack[-1] and counter[stack[-1]] > 0:\n",
    "                \n",
    "                # stack과 seen에서 동시에 제거\n",
    "                seen.remove(stack.pop())\n",
    "                \n",
    "            # 일단 stack과 seen에 값 넣기    \n",
    "            stack.append(char)\n",
    "            seen.add(char)\n",
    "            \n",
    "        return ''.join(stack)"
   ]
  },
  {
   "cell_type": "code",
   "execution_count": null,
   "metadata": {},
   "outputs": [],
   "source": [
    "# 혼자 연습해본 것\n",
    "class Solution:\n",
    "    def removeDuplicateLetters(self, s: str) -> str:\n",
    "        \n",
    "        counter = collectionsCounter(s)\n",
    "        seen = set()\n",
    "        stack = []\n",
    "        \n",
    "        for char in s:\n",
    "            \n",
    "            counter[char] -=1\n",
    "            \n",
    "            if char in seen:\n",
    "                continue\n",
    "                \n",
    "            if stack and stack[-1] > char and counter[stack[-1]] >= 1:\n",
    "                seen.remove(stack.pop())\n",
    "            \n",
    "            stack.append(char)\n",
    "            seen.add(char)\n",
    "            \n",
    "        return ''.join(stack)"
   ]
  },
  {
   "cell_type": "markdown",
   "metadata": {},
   "source": [
    "\n",
    "## 내 풀이 로직2(스택 이용, 하다가 중단)\n",
    "\n",
    "1. 미리 리스트 하나 만들어서, 중복인 문자들 따로 분류\n",
    "2. 중복인 문자들은 모두 뒤에 문자 확인해서 뒤에 문자보다 사전순으로 앞인 것들 중, 인덱스가 가장 작은것의 인덱스 따로 분류\n",
    "    * 모든 문자들보다 뒤라면, 가장 마지막것의 인덱스를 따로 분류\n",
    "3. 문자열 돌면서, 중복 아닌것 넣고, 중복인 것은 인덱스 가장 앞인 것만 따로 넣기\n",
    "    * 앞에 중복 값이 제거 되면, 인덱스가 변하는 문제가 있음\n",
    "\n",
    "### s의 요소 제거시, 인덱스 꼬이는 문제 해결을 위해,\n",
    "### s를 리스트로 변경한 후, 요소를 제거하지 않고, ''로 대체하자\n",
    "    * 나중에 ''.join으로 묶어도 영향 없어짐\n",
    "    \n",
    "## 풀기 중단\n",
    "\n",
    "    * 사유 : 문자열에서 중복된 문자 중 특정 인덱스를 가진 문자만 제외하고, 나머지를 삭제하는 과정이 너무 조잡함! => 그냥 책 풀이2로 풀자!!!"
   ]
  },
  {
   "cell_type": "code",
   "execution_count": 53,
   "metadata": {},
   "outputs": [
    {
     "name": "stdout",
     "output_type": "stream",
     "text": [
      "Counter({'c': 4, 'b': 2, 'a': 1, 'd': 1})\n",
      "['c', 'b']\n"
     ]
    }
   ],
   "source": [
    "import collections\n",
    "\n",
    "s = \"cbacdcbc\"\n",
    "\n",
    "counter_s = collections.Counter(s)\n",
    "dup_chars = []\n",
    "\n",
    "for k, v in counter_s.items():\n",
    "    if v > 1:\n",
    "        dup_chars.append(k)\n",
    "\n",
    "print(counter_s)\n",
    "print(dup_chars)\n",
    "\n",
    "for i in dup_chars:\n",
    "    for j in s:\n",
    "        if j == i:\n",
    "            \n",
    "    while counter_s[i] >=2:\n",
    "        \n",
    "        \n",
    "    for j in s:\n",
    "    "
   ]
  },
  {
   "cell_type": "code",
   "execution_count": null,
   "metadata": {},
   "outputs": [],
   "source": [
    "class Solution:\n",
    "    def removeDuplicateLetters(self, s: str) -> str:        \n",
    "        \n",
    "        list_s = list(s)\n",
    "        counter_s = collections.Counter(s)\n",
    "        \n",
    "        "
   ]
  },
  {
   "cell_type": "code",
   "execution_count": 44,
   "metadata": {},
   "outputs": [
    {
     "data": {
      "text/plain": [
       "False"
      ]
     },
     "execution_count": 44,
     "metadata": {},
     "output_type": "execute_result"
    }
   ],
   "source": [
    "'a'>='b'"
   ]
  },
  {
   "cell_type": "code",
   "execution_count": 45,
   "metadata": {},
   "outputs": [
    {
     "data": {
      "text/plain": [
       "'abc'"
      ]
     },
     "execution_count": 45,
     "metadata": {},
     "output_type": "execute_result"
    }
   ],
   "source": [
    "li = ['a', 'b', 'c']\n",
    "\n",
    "''.join(li)"
   ]
  },
  {
   "cell_type": "code",
   "execution_count": 47,
   "metadata": {},
   "outputs": [
    {
     "data": {
      "text/plain": [
       "'abc'"
      ]
     },
     "execution_count": 47,
     "metadata": {},
     "output_type": "execute_result"
    }
   ],
   "source": [
    "li = ['a', 'b', '', 'c']\n",
    "\n",
    "''.join(li)"
   ]
  },
  {
   "cell_type": "code",
   "execution_count": 49,
   "metadata": {},
   "outputs": [
    {
     "name": "stdout",
     "output_type": "stream",
     "text": [
      "abc\n",
      "a\n",
      "b\n",
      "c\n"
     ]
    }
   ],
   "source": [
    "s = 'ab' + '' + 'c'\n",
    "print(s)\n",
    "for i in range(len(s)):\n",
    "    print(s[i])"
   ]
  },
  {
   "cell_type": "markdown",
   "metadata": {},
   "source": [
    "## 로직(풀다가 아닌거 같아서 포기)\n",
    "\n",
    "1. 중복된 문자를 확인한다\n",
    "    * count로 갯수 세어서 2개 이상인 것만 따로 빼자\n",
    "2. 중복된 문자중 맨 앞에 문자와 그 바로 뒤 문자를 확인한다\n",
    "3. 바로 뒤 문자가 사전순으로 빠르면, 그 문자를 삭제\n",
    "    * 이후 다음 중복 문자에 대해서도 똑같이 확인\n",
    "4. 바로 뒤 문자가 사전순으로 뒤면? 그것 냅두고 나머지 중복 문자 전부 삭제"
   ]
  },
  {
   "cell_type": "code",
   "execution_count": 23,
   "metadata": {},
   "outputs": [],
   "source": [
    "s = \"cbacdcbc\""
   ]
  },
  {
   "cell_type": "code",
   "execution_count": 24,
   "metadata": {},
   "outputs": [
    {
     "data": {
      "text/plain": [
       "{'a', 'b', 'c', 'd'}"
      ]
     },
     "execution_count": 24,
     "metadata": {},
     "output_type": "execute_result"
    }
   ],
   "source": [
    "# 들어 있는 문자 확인\n",
    "set(s)"
   ]
  },
  {
   "cell_type": "code",
   "execution_count": 25,
   "metadata": {},
   "outputs": [
    {
     "data": {
      "text/plain": [
       "4"
      ]
     },
     "execution_count": 25,
     "metadata": {},
     "output_type": "execute_result"
    }
   ],
   "source": [
    "s.count('c')"
   ]
  },
  {
   "cell_type": "code",
   "execution_count": 26,
   "metadata": {},
   "outputs": [
    {
     "data": {
      "text/plain": [
       "{'b': 2, 'c': 4, 'd': 1, 'a': 1}"
      ]
     },
     "execution_count": 26,
     "metadata": {},
     "output_type": "execute_result"
    }
   ],
   "source": [
    "# 딕셔너리{문자:갯수} 만들기\n",
    "dict_s = {}\n",
    "\n",
    "for i in set(s):\n",
    "    dict_s[i] = s.count(i)\n",
    "    \n",
    "dict_s"
   ]
  },
  {
   "cell_type": "code",
   "execution_count": 34,
   "metadata": {},
   "outputs": [
    {
     "name": "stdout",
     "output_type": "stream",
     "text": [
      "cacdcbc\n"
     ]
    }
   ],
   "source": [
    "s = \"cbacdcbc\"\n",
    "answer = s\n",
    "\n",
    "for i in s:\n",
    "    if answer.count(i) >= 2: # 중복된 문자라면,\n",
    "        if ord(k) < ord(s[s.find(i)+1]): # 사전순으로 앞이면, 중복된 뒤에 갚을 전부 삭제\n",
    "            \n",
    "            # 뒤집고\n",
    "            answer = answer[::-1]\n",
    "            # 한개 빼고 다 지우고\n",
    "            answer = answer.replace(i, '', answer.count(k)-1)\n",
    "            # 다시 뒤집기\n",
    "            answer = answer[::-1]\n",
    "            \n",
    "        elif ord(i) >= ord(s[s.find(i)+1]): # 사전순으로 뒤면, 현재 글자 삭제\n",
    "            answer = answer[:answer.find(i)] + answer[answer.find(i)+1:len(s)]\n",
    "print(answer)"
   ]
  },
  {
   "cell_type": "code",
   "execution_count": 14,
   "metadata": {},
   "outputs": [
    {
     "data": {
      "text/plain": [
       "0"
      ]
     },
     "execution_count": 14,
     "metadata": {},
     "output_type": "execute_result"
    }
   ],
   "source": [
    "# .find는 가장 앞에 인덱스를 반환\n",
    "s.find('c')"
   ]
  },
  {
   "cell_type": "code",
   "execution_count": 15,
   "metadata": {},
   "outputs": [
    {
     "ename": "AttributeError",
     "evalue": "'str' object has no attribute 'remove'",
     "output_type": "error",
     "traceback": [
      "\u001b[1;31m---------------------------------------------------------------------------\u001b[0m",
      "\u001b[1;31mAttributeError\u001b[0m                            Traceback (most recent call last)",
      "\u001b[1;32m<ipython-input-15-d03bc458368e>\u001b[0m in \u001b[0;36m<module>\u001b[1;34m\u001b[0m\n\u001b[1;32m----> 1\u001b[1;33m \u001b[0ms\u001b[0m\u001b[1;33m.\u001b[0m\u001b[0mremove\u001b[0m\u001b[1;33m(\u001b[0m\u001b[1;34m'c'\u001b[0m\u001b[1;33m)\u001b[0m\u001b[1;33m\u001b[0m\u001b[1;33m\u001b[0m\u001b[0m\n\u001b[0m\u001b[0;32m      2\u001b[0m \u001b[0ms\u001b[0m\u001b[1;33m\u001b[0m\u001b[1;33m\u001b[0m\u001b[0m\n",
      "\u001b[1;31mAttributeError\u001b[0m: 'str' object has no attribute 'remove'"
     ]
    }
   ],
   "source": [
    "s.remove('c')\n",
    "s"
   ]
  },
  {
   "cell_type": "code",
   "execution_count": null,
   "metadata": {},
   "outputs": [],
   "source": [
    "# 전체 사전순으로 할때 풀이\n",
    "s = \"cbacdcbc\"\n",
    "\n",
    "class Solution:\n",
    "    def removeDuplicateLetters(self, s: str) -> str:        \n",
    "        return \"\".join(sorted(list(set(s))))"
   ]
  },
  {
   "cell_type": "code",
   "execution_count": null,
   "metadata": {},
   "outputs": [],
   "source": [
    "s = \"cbacdcbc\""
   ]
  },
  {
   "cell_type": "code",
   "execution_count": 16,
   "metadata": {},
   "outputs": [
    {
     "data": {
      "text/plain": [
       "4"
      ]
     },
     "execution_count": 16,
     "metadata": {},
     "output_type": "execute_result"
    }
   ],
   "source": [
    "ca = 'abcd'\n",
    "\n",
    "len(ca)"
   ]
  },
  {
   "cell_type": "code",
   "execution_count": 21,
   "metadata": {},
   "outputs": [
    {
     "data": {
      "text/plain": [
       "'abcd'"
      ]
     },
     "execution_count": 21,
     "metadata": {},
     "output_type": "execute_result"
    }
   ],
   "source": [
    "ca[:4]"
   ]
  },
  {
   "cell_type": "code",
   "execution_count": 19,
   "metadata": {},
   "outputs": [
    {
     "data": {
      "text/plain": [
       "'ab'"
      ]
     },
     "execution_count": 19,
     "metadata": {},
     "output_type": "execute_result"
    }
   ],
   "source": [
    "ca[:ca.find('c')]"
   ]
  },
  {
   "cell_type": "code",
   "execution_count": 20,
   "metadata": {},
   "outputs": [
    {
     "data": {
      "text/plain": [
       "2"
      ]
     },
     "execution_count": 20,
     "metadata": {},
     "output_type": "execute_result"
    }
   ],
   "source": [
    "ca.find('c')"
   ]
  }
 ],
 "metadata": {
  "kernelspec": {
   "display_name": "Python 3",
   "language": "python",
   "name": "python3"
  },
  "language_info": {
   "codemirror_mode": {
    "name": "ipython",
    "version": 3
   },
   "file_extension": ".py",
   "mimetype": "text/x-python",
   "name": "python",
   "nbconvert_exporter": "python",
   "pygments_lexer": "ipython3",
   "version": "3.8.5"
  }
 },
 "nbformat": 4,
 "nbformat_minor": 4
}
