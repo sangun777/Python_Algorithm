{
 "cells": [
  {
   "cell_type": "markdown",
   "metadata": {},
   "source": [
    "# 문제\n",
    "\n",
    "* 두 정수 n, k 입력 받으면, 1~n까지 수를 이용하여, 가능한 k개 정수 조합을 반환 하여라, "
   ]
  },
  {
   "cell_type": "code",
   "execution_count": null,
   "metadata": {},
   "outputs": [],
   "source": [
    "Input: n = 4, k = 2\n",
    "Output:\n",
    "[\n",
    "  [2,4],\n",
    "  [3,4],\n",
    "  [2,3],\n",
    "  [1,2],\n",
    "  [1,3],\n",
    "  [1,4],\n",
    "]"
   ]
  },
  {
   "cell_type": "code",
   "execution_count": null,
   "metadata": {},
   "outputs": [],
   "source": [
    "Input: n = 1, k = 1\n",
    "Output: [[1]]"
   ]
  },
  {
   "cell_type": "code",
   "execution_count": null,
   "metadata": {},
   "outputs": [],
   "source": [
    "Constraints:\n",
    "\n",
    "1 <= n <= 20\n",
    "1 <= k <= n"
   ]
  },
  {
   "cell_type": "markdown",
   "metadata": {},
   "source": [
    "# 내 풀이 1 (success, 72ms, 15.6MB)\n",
    "\n",
    "    * 일단 itertools.combinations 사용"
   ]
  },
  {
   "cell_type": "code",
   "execution_count": null,
   "metadata": {},
   "outputs": [],
   "source": [
    "class Solution:\n",
    "    def combine(self, n: int, k: int) -> List[List[int]]:\n",
    "        return list(itertools.combinations(range(1, n+1), k))"
   ]
  },
  {
   "cell_type": "markdown",
   "metadata": {},
   "source": [
    "# 내 풀이2 (test case Accrpted, Time Limit Exceeded)\n",
    "    * 재귀 DFS 써보자!\n",
    "    \n",
    "## Time Limit Exceeded\n",
    "\n",
    "    * 시간 복잡도 O(N!)"
   ]
  },
  {
   "cell_type": "code",
   "execution_count": null,
   "metadata": {},
   "outputs": [],
   "source": [
    "class Solution:\n",
    "    def combine(self, n: int, k: int) -> List[List[int]]:\n",
    "        result = []\n",
    "        temp = []\n",
    "        \n",
    "        def dfs(temp):\n",
    "            if len(temp) == k:\n",
    "                temp.sort()    # [1, 2] [2, 1]과 같은 순서 다른 중복 방지\n",
    "                if temp not in result:\n",
    "                    result.append(temp)\n",
    "                    return\n",
    "                else:\n",
    "                    return\n",
    "            for i in range(1, n+1):\n",
    "                if i not in temp:\n",
    "                    dfs(temp+[i])\n",
    "                    \n",
    "        dfs([])\n",
    "        \n",
    "        return result"
   ]
  },
  {
   "cell_type": "code",
   "execution_count": null,
   "metadata": {},
   "outputs": [],
   "source": []
  }
 ],
 "metadata": {
  "kernelspec": {
   "display_name": "Python 3",
   "language": "python",
   "name": "python3"
  },
  "language_info": {
   "codemirror_mode": {
    "name": "ipython",
    "version": 3
   },
   "file_extension": ".py",
   "mimetype": "text/x-python",
   "name": "python",
   "nbconvert_exporter": "python",
   "pygments_lexer": "ipython3",
   "version": "3.8.5"
  }
 },
 "nbformat": 4,
 "nbformat_minor": 4
}
