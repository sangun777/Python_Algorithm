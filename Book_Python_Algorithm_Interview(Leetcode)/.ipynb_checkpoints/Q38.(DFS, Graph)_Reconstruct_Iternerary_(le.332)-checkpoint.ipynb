{
 "cells": [
  {
   "cell_type": "markdown",
   "metadata": {},
   "source": [
    "# 문제\n",
    "\n",
    "* [from, to]로 구성된 항공권 목록 tickets를 이용해서,\n",
    "* JFK에서 츌발하는 항공권 일정을 어휘순, 리스트로 반환하라\n",
    "\n",
    "* 가능한 일정이 여러가지일 경우, 어휘순으로 방문한다\n",
    "\n",
    "* 모든 티켓을 한번씩 사용 해야 한다\n"
   ]
  },
  {
   "cell_type": "code",
   "execution_count": null,
   "metadata": {},
   "outputs": [],
   "source": [
    "Input: tickets = [[\"MUC\",\"LHR\"],[\"JFK\",\"MUC\"],[\"SFO\",\"SJC\"],[\"LHR\",\"SFO\"]]\n",
    "Output: [\"JFK\",\"MUC\",\"LHR\",\"SFO\",\"SJC\"]"
   ]
  },
  {
   "cell_type": "code",
   "execution_count": null,
   "metadata": {},
   "outputs": [],
   "source": [
    "Input: tickets = [[\"JFK\",\"SFO\"],[\"JFK\",\"ATL\"],[\"SFO\",\"ATL\"],[\"ATL\",\"JFK\"],[\"ATL\",\"SFO\"]]\n",
    "Output: [\"JFK\",\"ATL\",\"JFK\",\"SFO\",\"ATL\",\"SFO\"]\n",
    "Explanation: Another possible reconstruction is [\"JFK\",\"SFO\",\"ATL\",\"JFK\",\"ATL\",\"SFO\"] but it is larger in lexical order."
   ]
  },
  {
   "cell_type": "markdown",
   "metadata": {},
   "source": [
    "Constraints:\n",
    "\n",
    " * 1 <= tickets.length <= 300\n",
    " * tickets[i].length == 2\n",
    " * fromi.length == 3\n",
    " * toi.length == 3\n",
    " * fromi and toi consist of uppercase English letters."
   ]
  },
  {
   "cell_type": "markdown",
   "metadata": {},
   "source": [
    "# 내 첫 풀이\n",
    "\n",
    "###  tickets를 그냥 반복문으로 돌리면, time limit exceeded 가 발생\n",
    "\n",
    "## 책 풀이처럼, 딕셔너리에 넣어서, 키값에 해당하는 순서로 돌려야함!"
   ]
  },
  {
   "cell_type": "code",
   "execution_count": null,
   "metadata": {},
   "outputs": [],
   "source": [
    "class Solution:\n",
    "    def findItinerary(self, tickets: List[List[str]]) -> List[str]:\n",
    "        \n",
    "        tickets.sort()\n",
    "        result = [\"JFK\"]\n",
    "        cur_city = \"JFK\"\n",
    "        \n",
    "        i = 0\n",
    "        \n",
    "        while tickets:\n",
    "            \n",
    "            if tickets[i][0] == cur_city:\n",
    "                result.append(tickets[i][1])\n",
    "                cur_city = tickets[i][1]\n",
    "                tickets.pop(i)\n",
    "                if not tickets:\n",
    "                    break\n",
    "                \n",
    "            if i < len(tickets)-1:\n",
    "                i +=1\n",
    "            else:\n",
    "                i = (i+1)%len(tickets)\n",
    "                    \n",
    "        return result"
   ]
  },
  {
   "cell_type": "markdown",
   "metadata": {},
   "source": [
    " * 재귀를 이용한 dfs 함수로 변경"
   ]
  },
  {
   "cell_type": "code",
   "execution_count": null,
   "metadata": {},
   "outputs": [],
   "source": [
    "class Solution:\n",
    "    def findItinerary(self, tickets: List[List[str]]) -> List[str]:\n",
    "        \n",
    "        tickets.sort()\n",
    "        result = [\"JFK\"]\n",
    "        cur_city = \"JFK\"\n",
    "        \n",
    "        def dfs(tickets):\n",
    "            nonlocal cur_city\n",
    "            \n",
    "            if not tickets:\n",
    "                return\n",
    "            \n",
    "            for i in range(len(tickets)):\n",
    "                if tickets[i][0] == cur_city:\n",
    "                    result.append(tickets[i][1])\n",
    "                    cur_city = tickets[i][1]\n",
    "                    tickets.pop(i)\n",
    "                    dfs(tickets)\n",
    "                    return\n",
    "                    \n",
    "        dfs(tickets)\n",
    "                    \n",
    "        return result"
   ]
  },
  {
   "cell_type": "code",
   "execution_count": null,
   "metadata": {},
   "outputs": [],
   "source": []
  },
  {
   "cell_type": "code",
   "execution_count": null,
   "metadata": {},
   "outputs": [],
   "source": [
    "class Solution:\n",
    "    def findItinerary(self, tickets: List[List[str]]) -> List[str]:\n",
    "        "
   ]
  },
  {
   "cell_type": "markdown",
   "metadata": {},
   "source": [
    "# 책 풀이1(DFS로 일정 그래프 구성)\n",
    "\n",
    "### success 115ms, 14.8MB\n",
    "\n",
    "    * 딕셔너리를 통해 {출발지 : [도착지1, 도착지2, ...], ...} 형태 그래프를 구성한다.\n",
    "    * 도착지를 어휘순으로 하기 휘하여 sorted 함수를 이용한다.\n",
    "    \n",
    "## 이해는 가는데, 과연 내가 이방법을 떠올려서 풀이를 할 수 있을까?\n",
    "\n",
    "## 핵심1: 각 출발지:도착지를 출발지:[도착지 리스트]로 만들고, 해당 도착지 리스트를 반복문으로 돈다\n",
    "\n",
    "## 핵심2: tickets과 같이 요소가 줄어드는 경우는 for문이 아닌 while 문과 dfs를 이용한다.\n",
    "    * for문을 사용하면, index 에러 발생\n",
    "    \n",
    "### 이해 안가는 부분\n",
    "    * 왜 route.append가 반복문 밖에 있어야 되는지 직관적으로 이해가 잘 안됨\n",
    "        * => 마지막 목적지(ticket이 비워지는) a를 append 하려면, 밖에 있어야 함.\n",
    "    "
   ]
  },
  {
   "cell_type": "code",
   "execution_count": null,
   "metadata": {},
   "outputs": [],
   "source": [
    "class Solution:\n",
    "    def findItinerary(self, tickets: List[List[str]]) -> List[str]:\n",
    "        \n",
    "        graph = collections.defaultdict(list)\n",
    "        \n",
    "        for a, b in sorted(tickets):  # tickets을 미리 정렬하여 어휘순으로 값이 생성되도록 함\n",
    "            graph[a].append(b)   # 값에 대한 default값을 list로 지정하고, 바로 append 함수 적용\n",
    "            \n",
    "        route = []\n",
    "        \n",
    "        def dfs(a):\n",
    "            while graph[a]:\n",
    "                dfs(graph[a].pop(0))   # 어휘 순으로 앞으로 뽑아내기 위해 index(0)\n",
    "            route.append(a)\n",
    "            \n",
    "        dfs('JFK')\n",
    "        \n",
    "        # 순서 뒤집어서 리턴\n",
    "        # dfs함수에서 route.append()가 마지막에 있으므로, input의 역순으로 수행됨\n",
    "        return route[::-1]"
   ]
  },
  {
   "cell_type": "code",
   "execution_count": null,
   "metadata": {},
   "outputs": [],
   "source": []
  },
  {
   "cell_type": "code",
   "execution_count": 1,
   "metadata": {},
   "outputs": [
    {
     "name": "stdout",
     "output_type": "stream",
     "text": [
      "MUC\n",
      "LHR\n",
      "JFK\n",
      "MUC\n",
      "SFO\n",
      "SJC\n",
      "LHR\n",
      "SFO\n"
     ]
    }
   ],
   "source": [
    "tickets = [[\"MUC\",\"LHR\"],[\"JFK\",\"MUC\"],[\"SFO\",\"SJC\"],[\"LHR\",\"SFO\"]]\n",
    "\n",
    "for a, b in tickets:\n",
    "    print(a)\n",
    "    print(b)"
   ]
  },
  {
   "cell_type": "code",
   "execution_count": 3,
   "metadata": {},
   "outputs": [
    {
     "data": {
      "text/plain": [
       "1"
      ]
     },
     "execution_count": 3,
     "metadata": {},
     "output_type": "execute_result"
    }
   ],
   "source": [
    "[1, 2, 3, 4, 5].pop(0)"
   ]
  },
  {
   "cell_type": "markdown",
   "metadata": {},
   "source": [
    "# 책 풀이2 : 책 풀이 1과 동일하나\n",
    "    * pop()의 시간 복잡도는 O(1)로 pop(0)의 O(n)보다 작은 점을 이용해서 효율적인 처리를 수행"
   ]
  },
  {
   "cell_type": "code",
   "execution_count": null,
   "metadata": {},
   "outputs": [],
   "source": []
  },
  {
   "cell_type": "code",
   "execution_count": null,
   "metadata": {},
   "outputs": [],
   "source": []
  },
  {
   "cell_type": "markdown",
   "metadata": {},
   "source": [
    "# 풀이 안보고 책 풀이 1대로 풀어 보기 연습1"
   ]
  },
  {
   "cell_type": "code",
   "execution_count": null,
   "metadata": {},
   "outputs": [],
   "source": [
    "Input: tickets = [[\"MUC\",\"LHR\"],[\"JFK\",\"MUC\"],[\"SFO\",\"SJC\"],[\"LHR\",\"SFO\"]]\n",
    "Output: [\"JFK\",\"MUC\",\"LHR\",\"SFO\",\"SJC\"]"
   ]
  },
  {
   "cell_type": "code",
   "execution_count": null,
   "metadata": {},
   "outputs": [],
   "source": [
    "class Solution:\n",
    "    def findItinerary(self, tickets: List[List[str]]) -> List[str]:"
   ]
  },
  {
   "cell_type": "code",
   "execution_count": null,
   "metadata": {},
   "outputs": [],
   "source": [
    "class Solution:\n",
    "    def findItinerary(self, tickets: List[List[str]]) -> List[str]:\n",
    "        \n",
    "        graph = collections.defaultdict(list)\n",
    "        answer = []\n",
    "        \n",
    "        for a, b in sorted(tickets):\n",
    "            graph[a].append(b)\n",
    "            \n",
    "        def dfs(depart):            \n",
    "            while graph[depart]:\n",
    "                dfs(graph[depart].pop(0))\n",
    "            answer.append(depart)\n",
    "        \n",
    "        dfs(\"JFK\")\n",
    "        \n",
    "        return answer[::-1]"
   ]
  },
  {
   "cell_type": "code",
   "execution_count": null,
   "metadata": {},
   "outputs": [],
   "source": []
  },
  {
   "cell_type": "code",
   "execution_count": 6,
   "metadata": {},
   "outputs": [
    {
     "data": {
      "text/plain": [
       "defaultdict(list,\n",
       "            {'JFK': ['SFO', 'ATL'], 'SFO': ['ATL'], 'ATL': ['JFK', 'SFO']})"
      ]
     },
     "execution_count": 6,
     "metadata": {},
     "output_type": "execute_result"
    }
   ],
   "source": [
    "import collections\n",
    "\n",
    "tickets = [[\"JFK\",\"SFO\"],[\"JFK\",\"ATL\"],[\"SFO\",\"ATL\"],[\"ATL\",\"JFK\"],[\"ATL\",\"SFO\"]]\n",
    "\n",
    "graph = collections.defaultdict(list)\n",
    "\n",
    "for a, b in tickets:\n",
    "    graph[a].append(b)\n",
    "    \n",
    "graph"
   ]
  }
 ],
 "metadata": {
  "kernelspec": {
   "display_name": "Python 3",
   "language": "python",
   "name": "python3"
  },
  "language_info": {
   "codemirror_mode": {
    "name": "ipython",
    "version": 3
   },
   "file_extension": ".py",
   "mimetype": "text/x-python",
   "name": "python",
   "nbconvert_exporter": "python",
   "pygments_lexer": "ipython3",
   "version": "3.8.5"
  }
 },
 "nbformat": 4,
 "nbformat_minor": 4
}
