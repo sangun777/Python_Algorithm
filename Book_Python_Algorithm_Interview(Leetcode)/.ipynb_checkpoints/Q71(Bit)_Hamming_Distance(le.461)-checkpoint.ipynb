{
 "cells": [
  {
   "cell_type": "markdown",
   "id": "a75bf970",
   "metadata": {},
   "source": [
    "# 문제\n",
    "\n",
    "* 주어진 두 개의 수의 이진수가 몇 개의 비트가 다른지?"
   ]
  },
  {
   "cell_type": "markdown",
   "id": "5139d5d9",
   "metadata": {},
   "source": [
    "### 책 풀이(XOR)success 32ms, 14.2MB"
   ]
  },
  {
   "cell_type": "code",
   "execution_count": null,
   "id": "630e0538",
   "metadata": {},
   "outputs": [],
   "source": [
    "class Solution:\n",
    "    def hammingDistance(self, x: int, y: int) -> int:\n",
    "        result = bin(x ^ y).count('1')\n",
    "        return result       "
   ]
  },
  {
   "cell_type": "code",
   "execution_count": 2,
   "id": "a4412438",
   "metadata": {},
   "outputs": [
    {
     "data": {
      "text/plain": [
       "2"
      ]
     },
     "execution_count": 2,
     "metadata": {},
     "output_type": "execute_result"
    }
   ],
   "source": [
    "bin(15 ^ 9).count('1')"
   ]
  }
 ],
 "metadata": {
  "kernelspec": {
   "display_name": "Python 3",
   "language": "python",
   "name": "python3"
  },
  "language_info": {
   "codemirror_mode": {
    "name": "ipython",
    "version": 3
   },
   "file_extension": ".py",
   "mimetype": "text/x-python",
   "name": "python",
   "nbconvert_exporter": "python",
   "pygments_lexer": "ipython3",
   "version": "3.8.8"
  }
 },
 "nbformat": 4,
 "nbformat_minor": 5
}
