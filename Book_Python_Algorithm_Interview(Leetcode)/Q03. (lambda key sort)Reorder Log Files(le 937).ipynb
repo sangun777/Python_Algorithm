{
 "cells": [
  {
   "cell_type": "markdown",
   "metadata": {},
   "source": [
    "# 로그파일 재정렬\n"
   ]
  },
  {
   "cell_type": "markdown",
   "metadata": {},
   "source": [
    "### 내 풀이(Testcase는 통과하는데, 정답 처리 되지는 않음)"
   ]
  },
  {
   "cell_type": "code",
   "execution_count": 3,
   "metadata": {},
   "outputs": [],
   "source": [
    "logs = [\"a1 9 2 3 1\",\"g1 act car\",\"zo4 4 7\",\"ab1 off key dog\",\"a8 act zoo\"]"
   ]
  },
  {
   "cell_type": "code",
   "execution_count": null,
   "metadata": {},
   "outputs": [],
   "source": [
    "class Solution:\n",
    "    def reorderLogFiles(self, logs: List[str]) -> List[str]:\n",
    "        \n",
    "        # 조건 1 : 문자로그가 숫자보다 앞에 온다.\n",
    "        # 조건 2 : 문자로그는 사전 순으로 정렬, 내용이 같으면, ID 기준으로 사전 순\n",
    "        # 조건 3 : 숫자는 순서 유지\n",
    "        \n",
    "        lets = []\n",
    "        digs = [] # 숫자 로그만 임시로 저장하는 용도\n",
    "        \n",
    "        for i in logs:\n",
    "            if i[0] == 'l': # 문자로그면 일단 집어 넣음\n",
    "                lets.append((i[5:], i)) # id를 제외한 내용, 전체를 튜플로 넣음\n",
    "            else :\n",
    "                digs.append(i)\n",
    "                \n",
    "        lets.sort()\n",
    "        \n",
    "        answer = []\n",
    "        \n",
    "        for i in lets:\n",
    "            answer.append(i[1])\n",
    "            \n",
    "        answer += digs\n",
    "        \n",
    "        return answer"
   ]
  },
  {
   "cell_type": "markdown",
   "metadata": {},
   "source": [
    "### 책 풀이(솔직히 거의 똑같은데 왜 내 풀이는 작동 안하는지 모르겠음)"
   ]
  },
  {
   "cell_type": "code",
   "execution_count": null,
   "metadata": {},
   "outputs": [],
   "source": [
    "class Solution:\n",
    "    def reorderLogFiles(self, logs: List[str]) -> List[str]:\n",
    "        \n",
    "        letters, digits = [], []\n",
    "        \n",
    "        for log in logs:\n",
    "            if log.split()[1].isdigit():\n",
    "                digits.append(log)\n",
    "            else:\n",
    "                letters.append(log)\n",
    "                \n",
    "        letters.sort(key=lambda x: (x.split()[1:], x.split()[0]))\n",
    "        return letters+digits"
   ]
  },
  {
   "cell_type": "code",
   "execution_count": null,
   "metadata": {},
   "outputs": [],
   "source": []
  },
  {
   "cell_type": "code",
   "execution_count": 4,
   "metadata": {},
   "outputs": [
    {
     "data": {
      "text/plain": [
       "['9', '2', '3', '1']"
      ]
     },
     "execution_count": 4,
     "metadata": {},
     "output_type": "execute_result"
    }
   ],
   "source": [
    "\"a1 9 2 3 1\".split()[1:]"
   ]
  }
 ],
 "metadata": {
  "kernelspec": {
   "display_name": "Python 3",
   "language": "python",
   "name": "python3"
  },
  "language_info": {
   "codemirror_mode": {
    "name": "ipython",
    "version": 3
   },
   "file_extension": ".py",
   "mimetype": "text/x-python",
   "name": "python",
   "nbconvert_exporter": "python",
   "pygments_lexer": "ipython3",
   "version": "3.8.8"
  }
 },
 "nbformat": 4,
 "nbformat_minor": 4
}
