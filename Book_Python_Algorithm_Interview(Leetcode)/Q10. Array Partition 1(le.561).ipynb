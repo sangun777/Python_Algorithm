{
 "cells": [
  {
   "cell_type": "markdown",
   "metadata": {},
   "source": [
    "# Q 10. 배열 파티션1\n",
    "\n",
    "# 문제\n",
    "### 2n개의 정수 배열이 주어지면, n쌍으로 묶은 뒤, 각 쌍의 최솟값들을 뽑아 전체 합을 구할때, 전체 합의 최대 값은??"
   ]
  },
  {
   "cell_type": "markdown",
   "metadata": {},
   "source": [
    "# 핵심 개념\n",
    "\n",
    "    * 맞는지 잘 이해는 안가지만,\n",
    "    * 그냥 정렬한 다음에 홀수번째 있는 값 다 더해주면 되지 않나??\n",
    "    "
   ]
  },
  {
   "cell_type": "markdown",
   "metadata": {},
   "source": [
    "# 내 풀이(= 책 풀이2)"
   ]
  },
  {
   "cell_type": "code",
   "execution_count": null,
   "metadata": {},
   "outputs": [],
   "source": [
    "class Solution:\n",
    "    def arrayPairSum(self, nums: List[int]) -> int:\n",
    "        nums.sort()\n",
    "        \n",
    "        max_sum = 0\n",
    "        for i in range(len(nums)):\n",
    "            if i%2==0:\n",
    "                max_sum+=nums[i]\n",
    "                \n",
    "        return max_sum"
   ]
  },
  {
   "cell_type": "markdown",
   "metadata": {},
   "source": [
    "# 책 풀이3(파이썬 다운 방식)\n",
    "    * 슬라이싱 이용(반복문 보다 빠름) => 근데 실제 제출시에는 더 오래 걸렸음(264ms -> 315ms)"
   ]
  },
  {
   "cell_type": "code",
   "execution_count": null,
   "metadata": {},
   "outputs": [],
   "source": [
    "class Solution:\n",
    "    def arrayPairSum(self, nums: List[int]) -> int:\n",
    "        return sum(sorted(nums)[::2])"
   ]
  }
 ],
 "metadata": {
  "kernelspec": {
   "display_name": "Python 3",
   "language": "python",
   "name": "python3"
  },
  "language_info": {
   "codemirror_mode": {
    "name": "ipython",
    "version": 3
   },
   "file_extension": ".py",
   "mimetype": "text/x-python",
   "name": "python",
   "nbconvert_exporter": "python",
   "pygments_lexer": "ipython3",
   "version": "3.8.5"
  }
 },
 "nbformat": 4,
 "nbformat_minor": 4
}
