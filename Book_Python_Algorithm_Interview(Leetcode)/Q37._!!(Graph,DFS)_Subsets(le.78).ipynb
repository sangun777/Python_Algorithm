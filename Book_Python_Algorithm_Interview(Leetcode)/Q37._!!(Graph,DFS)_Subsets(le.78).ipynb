{
 "cells": [
  {
   "cell_type": "markdown",
   "metadata": {},
   "source": [
    "# 책풀이! 스스로 떠올릴수 있을 정도로 연습하자!!"
   ]
  },
  {
   "cell_type": "markdown",
   "metadata": {},
   "source": [
    "# 문제\n",
    "\n",
    "* 정수 배열 nums가 주어지면, 가능한 모든 부분집합을 리턴하라.\n",
    "* 중복은 없어야 하며, 정렬 순서는 무관하다"
   ]
  },
  {
   "cell_type": "code",
   "execution_count": null,
   "metadata": {},
   "outputs": [],
   "source": [
    "Input: nums = [1,2,3]\n",
    "Output: [[],[1],[2],[1,2],[3],[1,3],[2,3],[1,2,3]]"
   ]
  },
  {
   "cell_type": "code",
   "execution_count": null,
   "metadata": {},
   "outputs": [],
   "source": [
    "Input: nums = [0]\n",
    "Output: [[],[0]]"
   ]
  },
  {
   "cell_type": "markdown",
   "metadata": {},
   "source": [
    "# 내 풀이 (개념)\n",
    "\n",
    "## success 40ms, 14.5MB\n",
    "\n",
    "* 그냥 재귀를 이용한 풀이\n",
    "    * 현재 부분집합이 answer에 없으면 추가\n",
    "    * 하나 넣고, 남은 nums에 대해서 재귀 실행"
   ]
  },
  {
   "cell_type": "code",
   "execution_count": null,
   "metadata": {},
   "outputs": [],
   "source": [
    "class Solution:\n",
    "    def subsets(self, nums: List[int]) -> List[List[int]]:\n",
    "        \n",
    "        answer = []\n",
    "        subset = []\n",
    "        remained = []\n",
    "        \n",
    "        def dfs(nums_):\n",
    "            \n",
    "            if subset not in answer:\n",
    "                s = subset.copy()  # 리스트를 그냥 넣으면, 이후 변경사항이 반영되므로, 복사해서 넣어줌\n",
    "                answer.append(s)\n",
    "            \n",
    "            for i in range(len(nums_)):\n",
    "                if nums_[i] not in subset:\n",
    "                    subset.append(nums_[i]) # 일단 하나 넣고,\n",
    "                    dfs(nums_[i+1:])\n",
    "                    subset.remove(nums_[i])\n",
    "                    \n",
    "        dfs(nums)\n",
    "        return answer"
   ]
  },
  {
   "cell_type": "markdown",
   "metadata": {},
   "source": [
    "### 확인 작업"
   ]
  },
  {
   "cell_type": "code",
   "execution_count": 24,
   "metadata": {},
   "outputs": [
    {
     "name": "stdout",
     "output_type": "stream",
     "text": [
      "[[], [1], [1, 2], [1, 2, 3], [1, 3], [2], [2, 3], [3]]\n"
     ]
    }
   ],
   "source": [
    "nums = [1,2,3]\n",
    "\n",
    "answer = []\n",
    "subset = []\n",
    "remained = []\n",
    "\n",
    "def dfs(nums_):\n",
    "\n",
    "    if subset not in answer:\n",
    "        s = subset.copy()\n",
    "        answer.append(s)\n",
    "\n",
    "    for i in range(len(nums_)):\n",
    "        if nums_[i] not in subset:\n",
    "            subset.append(nums_[i]) # 일단 하나 넣고,\n",
    "            dfs(nums_[i+1:])\n",
    "            subset.remove(nums_[i])\n",
    "\n",
    "dfs(nums)\n",
    "print(answer)"
   ]
  },
  {
   "cell_type": "code",
   "execution_count": null,
   "metadata": {},
   "outputs": [],
   "source": []
  },
  {
   "cell_type": "code",
   "execution_count": 3,
   "metadata": {},
   "outputs": [],
   "source": [
    "nums = [1,2,3]"
   ]
  },
  {
   "cell_type": "code",
   "execution_count": 17,
   "metadata": {},
   "outputs": [
    {
     "name": "stdout",
     "output_type": "stream",
     "text": [
      "answer_before : []\n",
      "answer_after : [[]]\n",
      "i : 0\n",
      "nums_[i] : 1\n",
      "subset : []\n",
      "answer : [[]]\n",
      "nums_[i+1:] : [2, 3]\n",
      "subset : [1]\n",
      "i : 0\n",
      "nums_[i] : 2\n",
      "subset : [1]\n",
      "answer : [[1]]\n",
      "nums_[i+1:] : [3]\n",
      "subset : [1, 2]\n",
      "i : 0\n",
      "nums_[i] : 3\n",
      "subset : [1, 2]\n",
      "answer : [[1, 2]]\n",
      "nums_[i+1:] : []\n",
      "subset : [1, 2, 3]\n",
      "i : 1\n",
      "nums_[i] : 3\n",
      "subset : [1]\n",
      "answer : [[1]]\n",
      "nums_[i+1:] : []\n",
      "subset : [1, 3]\n",
      "i : 1\n",
      "nums_[i] : 2\n",
      "subset : []\n",
      "answer : [[]]\n",
      "nums_[i+1:] : [3]\n",
      "subset : [2]\n",
      "i : 0\n",
      "nums_[i] : 3\n",
      "subset : [2]\n",
      "answer : [[2]]\n",
      "nums_[i+1:] : []\n",
      "subset : [2, 3]\n",
      "i : 2\n",
      "nums_[i] : 3\n",
      "subset : []\n",
      "answer : [[]]\n",
      "nums_[i+1:] : []\n",
      "subset : [3]\n",
      "[[]]\n"
     ]
    }
   ],
   "source": [
    "answer = []\n",
    "subset = []\n",
    "\n",
    "def dfs(nums_):\n",
    "    \n",
    "    global answer\n",
    "    global subset\n",
    "    \n",
    "    if subset not in answer:\n",
    "        print(\"answer_before : %s\"% answer)\n",
    "        answer.append(subset)\n",
    "        print(\"answer_after : %s\"% answer)\n",
    "\n",
    "    for i in range(len(nums_)):\n",
    "        print(\"i : %d\"%i)\n",
    "        print(\"nums_[i] : %s\" % nums_[i])\n",
    "        print(\"subset : %s\" % subset)\n",
    "        print(\"answer : %s\" % answer)\n",
    "        if nums_[i] not in subset:\n",
    "            subset.append(nums_[i]) # 일단 하나 넣고,\n",
    "            print(\"nums_[i+1:] : %s\" % nums_[i+1:])\n",
    "            print(\"subset : %s\" % subset)\n",
    "            dfs(nums_[i+1:])\n",
    "            subset.remove(nums_[i])\n",
    "\n",
    "dfs(nums)\n",
    "print(answer)"
   ]
  },
  {
   "cell_type": "markdown",
   "metadata": {},
   "source": [
    "## !!! 중요!! \n",
    "\n",
    "### 다른 리스트(a)에 요소로 넣은 리스트(b)가 변경 될 경우, 변경사항이 a 에서 그대로 반영된다!!!"
   ]
  },
  {
   "cell_type": "code",
   "execution_count": 23,
   "metadata": {},
   "outputs": [
    {
     "name": "stdout",
     "output_type": "stream",
     "text": [
      "1회차 \n",
      "1회차 a_before : []\n",
      "1회차 a_after : [[]]\n",
      "1회차 b_before : []\n",
      "1회차 b_after : [1]\n",
      "2회차 \n",
      "2회차 a_before : [[1]]\n",
      "2회차 a_after : [[1], [1]]\n",
      "2회차 b_before : [1]\n",
      "2회차 b_after : [1, 2]\n",
      "[[1, 2], [1, 2]]\n"
     ]
    }
   ],
   "source": [
    "a = []\n",
    "b = []\n",
    "cnt = 1\n",
    "\n",
    "def dfs():\n",
    "    \n",
    "    global cnt\n",
    "    if cnt == 3:\n",
    "        return\n",
    "    \n",
    "    print(\"%d회차 \" % cnt)\n",
    "    print(\"%d회차 a_before : %s\" % (cnt, a))\n",
    "    a.append(b)\n",
    "    print(\"%d회차 a_after : %s\" % (cnt, a))\n",
    "    \n",
    "    print(\"%d회차 b_before : %s\" % (cnt, b))\n",
    "    b.append(cnt)\n",
    "    print(\"%d회차 b_after : %s\" % (cnt, b))\n",
    "    \n",
    "    cnt +=1\n",
    "    \n",
    "    dfs()\n",
    "    \n",
    "dfs()\n",
    "\n",
    "print(a)"
   ]
  },
  {
   "cell_type": "markdown",
   "metadata": {},
   "source": [
    "### 1회차 a_after에는 [[]]가 들어 있는데,\n",
    "### 2회차 a_before를 보면, a에 아무런 조작을 하지 않았지만, [[1]]로 바뀐 것을 알 수 있음"
   ]
  },
  {
   "cell_type": "code",
   "execution_count": null,
   "metadata": {},
   "outputs": [],
   "source": []
  },
  {
   "cell_type": "markdown",
   "metadata": {},
   "source": [
    "# 책 풀이1 (success, 36ms, 14.3MB)\n",
    "\n",
    "## 개념은 내풀이랑 같은데 코드가 훨씬 간결함, \n",
    "    \n",
    "### path 리스트를 dfs의파라미터로 설정함으로써, 재귀 될때마다, 생성, 삭제가 자동 반복되도록 함!!"
   ]
  },
  {
   "cell_type": "code",
   "execution_count": null,
   "metadata": {},
   "outputs": [],
   "source": [
    "class Solution:\n",
    "    def subsets(self, nums: List[int]) -> List[List[int]]:\n",
    "        \n",
    "        result = []\n",
    "        \n",
    "        def dfs(index, path):\n",
    "            \n",
    "            # 매번 결과 추가\n",
    "            result.append(path)\n",
    "            \n",
    "            for i in range(index, len(nums)):\n",
    "                dfs(i+1, path+[nums[i]])\n",
    "                \n",
    "        dfs(0, [])\n",
    "        \n",
    "        return result"
   ]
  }
 ],
 "metadata": {
  "kernelspec": {
   "display_name": "Python 3",
   "language": "python",
   "name": "python3"
  },
  "language_info": {
   "codemirror_mode": {
    "name": "ipython",
    "version": 3
   },
   "file_extension": ".py",
   "mimetype": "text/x-python",
   "name": "python",
   "nbconvert_exporter": "python",
   "pygments_lexer": "ipython3",
   "version": "3.8.5"
  }
 },
 "nbformat": 4,
 "nbformat_minor": 5
}
