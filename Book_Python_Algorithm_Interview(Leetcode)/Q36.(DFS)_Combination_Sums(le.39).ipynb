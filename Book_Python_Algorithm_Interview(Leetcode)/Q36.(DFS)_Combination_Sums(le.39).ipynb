{
 "cells": [
  {
   "cell_type": "markdown",
   "metadata": {},
   "source": [
    "# 문제\n",
    "\n",
    " * candidates : 구분되는 정수 배열\n",
    " * target : 목표 정수\n",
    "\n",
    "### 가 주어 질 때, 합이 target이 되는 candidates의 모든 유일한 조합을 리스트로 반환하라.\n",
    "\n",
    "    * any order : 정렬 방식은 상관 없음\n",
    "    * candidates 안에 있는 수 중에서 같은 숫자를 무제한으로 선택 할 수 있음\n",
    "    * 선택한 숫자의 중 적어도 하나의 출현 빈도가 다르다면, 서로 다른 고유한 조합임\n",
    "    * 주어지는 input에 대하여, 합산이 target이 되는 고유한 조합의 수는 150개를 넘지 않음\n",
    "    \n"
   ]
  },
  {
   "cell_type": "code",
   "execution_count": null,
   "metadata": {},
   "outputs": [],
   "source": [
    "Input: candidates = [2,3,6,7], target = 7\n",
    "Output: [[2,2,3],[7]]\n",
    "    \n",
    "Explanation:\n",
    "2 and 3 are candidates, and 2 + 2 + 3 = 7. Note that 2 can be used multiple times.\n",
    "7 is a candidate, and 7 = 7.\n",
    "These are the only two combinations."
   ]
  },
  {
   "cell_type": "code",
   "execution_count": null,
   "metadata": {},
   "outputs": [],
   "source": [
    "Input: candidates = [2,3,5], target = 8\n",
    "Output: [[2,2,2,2],[2,3,3],[3,5]]"
   ]
  },
  {
   "cell_type": "code",
   "execution_count": null,
   "metadata": {},
   "outputs": [],
   "source": [
    "Input: candidates = [2,3,5], target = 8\n",
    "Output: [[2,2,2,2],[2,3,3],[3,5]]"
   ]
  },
  {
   "cell_type": "code",
   "execution_count": null,
   "metadata": {},
   "outputs": [],
   "source": [
    "Input: candidates = [1], target = 1\n",
    "Output: [[1]]"
   ]
  },
  {
   "cell_type": "markdown",
   "metadata": {},
   "source": [
    "Constraints:\n",
    "\n",
    "* 1 <= candidates.length <= 30\n",
    "* 1 <= candidates[i] <= 200\n",
    "* All elements of candidates are distinct.\n",
    "* 1 <= target <= 500"
   ]
  },
  {
   "cell_type": "markdown",
   "metadata": {},
   "source": [
    "# 내 풀이\n",
    "\n",
    "    * 일단 DFS(재귀)로 풀어보자!\n",
    "    \n",
    "### success! 204ms, 14.2MB"
   ]
  },
  {
   "cell_type": "code",
   "execution_count": null,
   "metadata": {},
   "outputs": [],
   "source": [
    "class Solution:\n",
    "    def combinationSum(self, candidates: List[int], target: int) -> List[List[int]]:\n",
    "        \n",
    "        results = []\n",
    "        \n",
    "        # candidate가 오름차순이어야지, 작은 수부터 추가하여 모든 경우의 수를 산출할 수 있음\n",
    "        candidates.sort()\n",
    "        \n",
    "        def dfs(elements):\n",
    "            for i in range(len(candidates)):\n",
    "                \n",
    "                added_elements = elements + [candidates[i]]\n",
    "                \n",
    "                if sum(added_elements) == target:\n",
    "                    \n",
    "                    # 순서 다른 중복 방지용 코드\n",
    "                    added_elements.sort()\n",
    "                    if added_elements not in results:\n",
    "                        results.append(added_elements)\n",
    "                        \n",
    "                    return\n",
    "                \n",
    "                elif sum(added_elements) < target:\n",
    "                    dfs(added_elements)\n",
    "                    \n",
    "                else:\n",
    "                    return\n",
    "                    \n",
    "        dfs([])\n",
    "        \n",
    "        return results"
   ]
  },
  {
   "cell_type": "markdown",
   "metadata": {},
   "source": [
    "# 책 풀이(DFS로 중복 조합 그래프 탐색, 원리는 내 풀이와 유사)\n",
    "\n",
    "    * 여기서는 target 값을 csum이란 변수에 담아, 후보군을 하나씩 빼서 재귀호출 하는 방식으로 DFS 진행\n",
    "    * 여기서는 조합 요소를 위한 path 변수와 조합의 총합계산을 위한 csum변수를 분리함"
   ]
  },
  {
   "cell_type": "code",
   "execution_count": null,
   "metadata": {},
   "outputs": [],
   "source": [
    "class Solution:\n",
    "    def combinationSum(self, candidates: List[int], target: int) -> List[List[int]]:\n",
    "        \n",
    "        results = []\n",
    "        \n",
    "        def dfs(csum, index, path):\n",
    "            \n",
    "            if csum < 0:\n",
    "                return\n",
    "            if csum == 0:\n",
    "                results.append(path)\n",
    "                return\n",
    "            \n",
    "            # 자신부터 하위 원소까지의 나열 재귀 호출\n",
    "            for i in range(index, len(candidates)):\n",
    "                dfs(csum - candidates[i], i, path+[candidates[i]])\n",
    "                \n",
    "        dfs(target, 0, [])\n",
    "        \n",
    "        return results"
   ]
  }
 ],
 "metadata": {
  "kernelspec": {
   "display_name": "Python 3",
   "language": "python",
   "name": "python3"
  },
  "language_info": {
   "codemirror_mode": {
    "name": "ipython",
    "version": 3
   },
   "file_extension": ".py",
   "mimetype": "text/x-python",
   "name": "python",
   "nbconvert_exporter": "python",
   "pygments_lexer": "ipython3",
   "version": "3.8.5"
  }
 },
 "nbformat": 4,
 "nbformat_minor": 5
}
