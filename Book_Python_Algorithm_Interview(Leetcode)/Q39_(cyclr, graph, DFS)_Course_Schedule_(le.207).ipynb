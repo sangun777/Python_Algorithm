{
 "cells": [
  {
   "cell_type": "markdown",
   "metadata": {},
   "source": [
    "# 문제\n",
    "\n",
    "* [0, 1] : 0을 완료하기 위해서는 1을 끝내야 한다는 것을 의미 (각 쌍을 코스라 부름)\n",
    "* 위와 같은 쌍이 있는 리스트 numCourses를 받고,\n",
    "* 총 courses를 수강할 수 있는 횟수 n이 주어질 때,\n",
    "* 모든 코스가 완료 가능한지 판별하라"
   ]
  },
  {
   "cell_type": "markdown",
   "metadata": {},
   "source": [
    " * Input: numCourses = 2, prerequisites = [[1,0]]\n",
    " * Output: true\n",
    " * Explanation: There are a total of 2 courses to take. \n",
    " * To take course 1 you should have finished course 0. So it is possible."
   ]
  },
  {
   "cell_type": "markdown",
   "metadata": {},
   "source": [
    " * Input: numCourses = 2, prerequisites = [[1,0],[0,1]]\n",
    " * Output: false\n",
    "\n",
    " * 2개 코스를 들을 수 있는데, \n",
    " * 1을 듣기 위해서는 0을 먼저 들어 놓아야 하는데,\n",
    " * 그렇다고 0을 들으려하면, 1을 들어야만 들을 수 있으니\n",
    " * 모순된 내용으로 횟수와 상관없이 false 반환"
   ]
  },
  {
   "cell_type": "markdown",
   "metadata": {},
   "source": [
    "Constraints:\n",
    "\n",
    " * 1 <= numCourses <= 105\n",
    " * 0 <= prerequisites.length <= 5000\n",
    " * prerequisites[i].length == 2\n",
    " * 0 <= ai, bi < numCourses\n",
    " * All the pairs prerequisites[i] are unique."
   ]
  },
  {
   "cell_type": "markdown",
   "metadata": {},
   "source": [
    "# 내 풀이\n",
    "\n",
    "    * 전 문제 처럼, 딕셔너리를 이용해보자\n",
    "        * 전제조건코스 : [수행가능한 코스]\n",
    "    * 그리고 전제조건이 없는 코스도 확인해서 이것으로 수행하면 될듯??\n",
    "    \n",
    "    * 확인할 것\n",
    "        1. 전체 코드 갯수가 수강할수 있는 코스 수보다 작거나 같은지\n",
    "        2. 사이클이 있는지? \n",
    "            * 예시) a->b->c->a : 모순 발생\n"
   ]
  },
  {
   "cell_type": "code",
   "execution_count": null,
   "metadata": {},
   "outputs": [],
   "source": [
    "class Solution:\n",
    "    def canFinish(self, numCourses: int, prerequisites: List[List[int]]) -> bool:\n",
    "        \n",
    "        graph = collections.defaultdict(list)\n",
    "        requisites = []\n",
    "        courses = []\n",
    "        frees = []\n",
    "        completes = set()\n",
    "        \n",
    "        for a, b in sorted(prerequisites):   # a : 조건 후 수행가능 코스 , b : 조건\n",
    "            graph[b].append(a)\n",
    "            requisites.append(b) # 선행 조건들\n",
    "            courses.append(a) # courses : 선행조건이 있는 코스들\n",
    "            \n",
    "        for i in requisites:\n",
    "            if i not in courses:  # 선행 조건이 없는 코스\n",
    "                frees.append(i)\n",
    "                \n",
    "        "
   ]
  },
  {
   "cell_type": "markdown",
   "metadata": {},
   "source": [
    "# 책 풀이(DFS로 순환 구조 판별)"
   ]
  },
  {
   "cell_type": "code",
   "execution_count": null,
   "metadata": {},
   "outputs": [],
   "source": [
    "class Solution:\n",
    "    def canFinish(self, numCourses: int, prerequisites: List[List[int]]) -> bool:\n",
    "\n",
    "        graph = collections.defaultdict(list)\n",
    "\n",
    "        # x를 완료하기 위해, y를 먼저 끝내야 함\n",
    "        for x, y in prerequisites:\n",
    "            graph[x].append(y)\n",
    "\n",
    "        # 방문 기록 용 집합\n",
    "        traced = set()\n",
    "        \n",
    "        def dfs(i):\n",
    "            # 순환 구조일 경우,\n",
    "            if i in traced:\n",
    "                return False\n",
    "\n",
    "            traced.add(i)\n",
    "\n",
    "            for j in graph[i]:    # i를 수행하기 위한 선행 코스 j가 traced 내에 있으면, False 반환\n",
    "                if not dfs(j):\n",
    "                    return False\n",
    "                \n",
    "            traced.remove(i) # 코스 i 에 대한 모든 조건 탐색 후, 없으면, i 삭제\n",
    "            \n",
    "            return True\n",
    "\n",
    "        # 순환 구조 판별\n",
    "        for x in list(graph):    # x는 키 순환\n",
    "            if not dfs(x):\n",
    "                return False\n",
    "            \n",
    "        return True"
   ]
  },
  {
   "cell_type": "code",
   "execution_count": null,
   "metadata": {},
   "outputs": [],
   "source": []
  },
  {
   "cell_type": "code",
   "execution_count": 5,
   "metadata": {},
   "outputs": [
    {
     "data": {
      "text/plain": [
       "defaultdict(list, {'a': [1, 2, 3], 'b': [4], 'c': [5, 6]})"
      ]
     },
     "execution_count": 5,
     "metadata": {},
     "output_type": "execute_result"
    }
   ],
   "source": [
    "import collections\n",
    "\n",
    "a = collections.defaultdict(list)\n",
    "\n",
    "a[\"a\"].append(1)\n",
    "a[\"a\"].append(2)\n",
    "a[\"a\"].append(3)\n",
    "a[\"b\"].append(4)\n",
    "a[\"c\"].append(5)\n",
    "a[\"c\"].append(6)\n",
    "\n",
    "a"
   ]
  },
  {
   "cell_type": "code",
   "execution_count": 7,
   "metadata": {},
   "outputs": [
    {
     "data": {
      "text/plain": [
       "['a', 'b', 'c']"
      ]
     },
     "execution_count": 7,
     "metadata": {},
     "output_type": "execute_result"
    }
   ],
   "source": [
    "list(a)"
   ]
  },
  {
   "cell_type": "code",
   "execution_count": 6,
   "metadata": {},
   "outputs": [
    {
     "name": "stdout",
     "output_type": "stream",
     "text": [
      "a b c "
     ]
    }
   ],
   "source": [
    "for i in a:\n",
    "    print(i, end=\" \")"
   ]
  },
  {
   "cell_type": "code",
   "execution_count": null,
   "metadata": {},
   "outputs": [],
   "source": []
  },
  {
   "cell_type": "markdown",
   "metadata": {},
   "source": [
    "# 책 풀이2(가지치기를 이용한 최적화)"
   ]
  },
  {
   "cell_type": "code",
   "execution_count": null,
   "metadata": {},
   "outputs": [],
   "source": [
    "class Solution:\n",
    "    def canFinish(self, numCourses: int, prerequisites: List[List[int]]) -> bool:\n",
    "\n",
    "        graph = collections.defaultdict(list)\n",
    "\n",
    "        # x를 완료하기 위해, y를 먼저 끝내야 함\n",
    "        # x : [y1, y2, y3] : x의 선행되어야하는 y들\n",
    "        for x, y in prerequisites:\n",
    "            graph[x].append(y)\n",
    "\n",
    "\n",
    "        traced = set()\n",
    "        visited = set()\n",
    "        \n",
    "        def dfs(i):\n",
    "            \n",
    "            if i in traced:\n",
    "                return False\n",
    "            \n",
    "            if i in visited:  ## 탐색이 완료된 노드에 대해서는 아래 코드를 실행하지 않고, 가지치기 실행\n",
    "                return True\n",
    "            \n",
    "            traced.add(i)\n",
    "            \n",
    "            for y in graph[i]:\n",
    "                if not dfs(y):\n",
    "                    return False\n",
    "                \n",
    "                # 탐색 종료 후 순환 노드 삭제\n",
    "                traced.remove(i)\n",
    "                \n",
    "                # 탐색 종료 후 방문 노드 추가\n",
    "                visitied.add(i)\n",
    "                \n",
    "                return True\n",
    "                \n",
    "            \n",
    "        # 순환 구조 판별\n",
    "        for x in list(graph):\n",
    "            if not dfs(x):\n",
    "                return False\n",
    "            \n",
    "        return True"
   ]
  }
 ],
 "metadata": {
  "kernelspec": {
   "display_name": "Python 3",
   "language": "python",
   "name": "python3"
  },
  "language_info": {
   "codemirror_mode": {
    "name": "ipython",
    "version": 3
   },
   "file_extension": ".py",
   "mimetype": "text/x-python",
   "name": "python",
   "nbconvert_exporter": "python",
   "pygments_lexer": "ipython3",
   "version": "3.8.5"
  }
 },
 "nbformat": 4,
 "nbformat_minor": 4
}
