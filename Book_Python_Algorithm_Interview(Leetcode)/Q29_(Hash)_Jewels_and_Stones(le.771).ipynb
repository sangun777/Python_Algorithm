{
 "cells": [
  {
   "cell_type": "markdown",
   "id": "1dffcd24",
   "metadata": {},
   "source": [
    "# 문제\n",
    "\n",
    "### J는 보석이고, S는 돌이다.\n",
    "\n",
    "    * 여기서 char 하나하나가 돌이고, 개체 임을 의미한다.\n",
    "        예시) jewels = \"aA\", stones = \"aAAbbbb\" 이면, 'a'와 'A'가 각각 보석이란 의미로, stone에는 3개의 보석이 있다는 의미!!\n",
    "### S에는 보석이 몇개나 있는가?\n",
    "\n",
    "### 대소문자 구분한다."
   ]
  },
  {
   "cell_type": "code",
   "execution_count": null,
   "id": "6a744004",
   "metadata": {},
   "outputs": [],
   "source": [
    "Input: jewels = \"aA\", stones = \"aAAbbbb\"\n",
    "Output: 3"
   ]
  },
  {
   "cell_type": "markdown",
   "id": "fe22a68e",
   "metadata": {},
   "source": [
    "# 내 풀이(success, 28ms, 14.2 MB)\n",
    "\n",
    "    1. 그냥 브루트포스로 일단 풀어보자!!"
   ]
  },
  {
   "cell_type": "code",
   "execution_count": null,
   "id": "a3fd9b1b",
   "metadata": {},
   "outputs": [],
   "source": [
    "class Solution:\n",
    "    def numJewelsInStones(self, jewels: str, stones: str) -> int:\n",
    "        cnt = 0\n",
    "        for i in jewels:\n",
    "            cnt += stones.count(i)\n",
    "        return cnt          "
   ]
  },
  {
   "cell_type": "markdown",
   "id": "f3369ea6",
   "metadata": {},
   "source": [
    "# 책 풀이\n",
    "    1. 해시테이블 이용\n",
    "    2. defaultdict 이용\n",
    "    3. Counter이용\n",
    "    4. return sum(s in J for s in S)\n",
    "        * 원리는 내 풀이랑 동일"
   ]
  }
 ],
 "metadata": {
  "kernelspec": {
   "display_name": "Python 3",
   "language": "python",
   "name": "python3"
  },
  "language_info": {
   "codemirror_mode": {
    "name": "ipython",
    "version": 3
   },
   "file_extension": ".py",
   "mimetype": "text/x-python",
   "name": "python",
   "nbconvert_exporter": "python",
   "pygments_lexer": "ipython3",
   "version": "3.8.8"
  }
 },
 "nbformat": 4,
 "nbformat_minor": 5
}
