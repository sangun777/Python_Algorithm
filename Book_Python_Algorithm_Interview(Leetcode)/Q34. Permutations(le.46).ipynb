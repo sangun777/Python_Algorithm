{
 "cells": [
  {
   "cell_type": "markdown",
   "metadata": {},
   "source": [
    "# 문제\n",
    "\n",
    "## 서로 다른 정수 배열을 받아서, 가능한 모든 순열을 리턴하라\n",
    "* 순서는 상관 없음"
   ]
  },
  {
   "cell_type": "markdown",
   "metadata": {},
   "source": [
    "# 내 풀이 1(itertools.permutations이용)\n",
    "\n",
    "## success!, 36ms, 14.4 MB\n",
    "\n",
    "    * 일단 라이브러리 쓰는것로 한번 풀어보고,\n",
    "    * DFS 생각해보자!"
   ]
  },
  {
   "cell_type": "code",
   "execution_count": null,
   "metadata": {},
   "outputs": [],
   "source": [
    "class Solution:\n",
    "    def permute(self, nums: List[int]) -> List[List[int]]:\n",
    "        \n",
    "        answer = []\n",
    "        \n",
    "        for i in itertools.permutations(nums):\n",
    "            answer.append(list(i))\n",
    "            \n",
    "        return answer"
   ]
  },
  {
   "cell_type": "markdown",
   "metadata": {},
   "source": [
    "# 내 풀이 2(DFS, 재귀 이용)\n",
    "\n",
    "    * 한번 뽑은 숫자를 제거하는 부분이 없으므로, 책 풀이 보다 조금 더 시간이 걸린 것인듯\n",
    "\n",
    "### success!, 44ms 14.3MB"
   ]
  },
  {
   "cell_type": "code",
   "execution_count": null,
   "metadata": {},
   "outputs": [],
   "source": [
    "class Solution:\n",
    "    def permute(self, nums: List[int]) -> List[List[int]]:\n",
    "        \n",
    "        answer = []\n",
    "        \n",
    "        def dfs(path):\n",
    "            \n",
    "            if len(path) == len(nums):\n",
    "                answer.append(path)\n",
    "                return\n",
    "            \n",
    "            for i in range(len(nums)):\n",
    "                if nums[i] not in path:\n",
    "                    dfs(path+[nums[i]])    # .append() 함수는 None을 리턴하기 때문에 쓸 수 없음\n",
    "            \n",
    "        dfs([])\n",
    "\n",
    "        return answer"
   ]
  },
  {
   "cell_type": "markdown",
   "metadata": {},
   "source": [
    "# 책 풀이(DFS를 활용한 순열 생성)\n",
    "\n",
    "* results : 순열 결과들을 몹는 리스트\n",
    "* elements : nums를 받는 변수\n",
    "* prev_elements : nums를 하나씩 뽑아 더하면서 각 순열 결과를 만드는 곳\n",
    "* next_elements : 뽑고 남겨진 요소들을 임시 저장하는 곳"
   ]
  },
  {
   "cell_type": "markdown",
   "metadata": {},
   "source": [
    "### success 36ms, 14.3MB"
   ]
  },
  {
   "cell_type": "code",
   "execution_count": null,
   "metadata": {},
   "outputs": [],
   "source": [
    "class Solution:\n",
    "    def permute(self, nums: List[int]) -> List[List[int]]:\n",
    "        \n",
    "        results = []\n",
    "        prev_elements = []\n",
    "        \n",
    "        def dfs(elements):\n",
    "            \n",
    "            # 리프노드에서 결과 추가\n",
    "            if len(elements) == 0:\n",
    "                results.append(prev_elements[:])\n",
    "                \n",
    "            for e in elements:\n",
    "                next_elements = elements[:]\n",
    "                next_elements.remove(e)\n",
    "                \n",
    "                prev_elements.append(e)\n",
    "                dfs(next_elements)\n",
    "                prev_elements.pop() # 초기화를 위한 과정인 듯\n",
    "                \n",
    "                \n",
    "        dfs(nums)\n",
    "        return results"
   ]
  },
  {
   "cell_type": "markdown",
   "metadata": {},
   "source": [
    "# 책풀이2(itertools이용, 28ms, 14.3MB)\n",
    "\n",
    "    * 한 줄로 끝내네.."
   ]
  },
  {
   "cell_type": "code",
   "execution_count": null,
   "metadata": {},
   "outputs": [],
   "source": [
    "class Solution:\n",
    "    def permute(self, nums: List[int]) -> List[List[int]]:        \n",
    "        return list(itertools.permutations(nums))"
   ]
  }
 ],
 "metadata": {
  "kernelspec": {
   "display_name": "Python 3",
   "language": "python",
   "name": "python3"
  },
  "language_info": {
   "codemirror_mode": {
    "name": "ipython",
    "version": 3
   },
   "file_extension": ".py",
   "mimetype": "text/x-python",
   "name": "python",
   "nbconvert_exporter": "python",
   "pygments_lexer": "ipython3",
   "version": "3.8.5"
  }
 },
 "nbformat": 4,
 "nbformat_minor": 4
}
