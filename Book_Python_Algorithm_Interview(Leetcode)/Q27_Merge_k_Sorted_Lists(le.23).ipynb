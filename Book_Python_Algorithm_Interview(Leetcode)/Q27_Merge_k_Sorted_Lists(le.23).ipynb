{
 "cells": [
  {
   "cell_type": "markdown",
   "id": "7dc85667",
   "metadata": {},
   "source": [
    " * 아래와 같이 링크드리스트를 요소로 하는 배열 lists가 주어졌을 때, 링크드리스트를 병합하라"
   ]
  },
  {
   "cell_type": "code",
   "execution_count": null,
   "id": "83991658",
   "metadata": {},
   "outputs": [],
   "source": [
    "Input: lists = [[1,4,5],[1,3,4],[2,6]]\n",
    "Output: [1,1,2,3,4,4,5,6]\n",
    "Explanation: The linked-lists are:\n",
    "[\n",
    "  1->4->5,\n",
    "  1->3->4,\n",
    "  2->6\n",
    "]\n",
    "merging them into one sorted list:\n",
    "1->1->2->3->4->4->5->6"
   ]
  },
  {
   "cell_type": "markdown",
   "id": "8e106ef3",
   "metadata": {},
   "source": [
    "# 내가 풀고 싶은 방법(Success, 121ms, 18.4 MB)\n",
    "    * 리스트로 전환 후, 병합하고, 정렬한 다음 링크드리스트로 재 전환"
   ]
  },
  {
   "cell_type": "code",
   "execution_count": null,
   "id": "18f2a90a",
   "metadata": {},
   "outputs": [],
   "source": [
    "# Definition for singly-linked list.\n",
    "# class ListNode:\n",
    "#     def __init__(self, val=0, next=None):\n",
    "#         self.val = val\n",
    "#         self.next = next\n",
    "class Solution:\n",
    "    def mergeKLists(self, lists: List[Optional[ListNode]]) -> Optional[ListNode]:\n",
    "        \n",
    "        # input : []에 대한 에러 방지\n",
    "        if not lists:\n",
    "            return None\n",
    "        \n",
    "        # 일단 리스트를 하나 만들고,\n",
    "        arr = []\n",
    "        \n",
    "        # 요소들을 그냥 다 집어 넣는다.\n",
    "        for i in lists:\n",
    "            node = i\n",
    "            while node:\n",
    "                arr.append(node.val)\n",
    "                node = node.next\n",
    "        \n",
    "        # input : [[]]에 대한 에러 방지\n",
    "        if not arr:\n",
    "            return None\n",
    "                \n",
    "        arr.sort()\n",
    "        \n",
    "        answer = ListNode(arr[0])\n",
    "        n = answer\n",
    "        \n",
    "        for i in range(1,len(arr)):\n",
    "            n.next = ListNode(arr[i])\n",
    "            n = n.next\n",
    "            \n",
    "        return answer"
   ]
  },
  {
   "cell_type": "markdown",
   "id": "db557c4f",
   "metadata": {},
   "source": [
    "# 책 풀이(우선 순위 큐를 이용)\n",
    "\n",
    "* 파이썬에서 우선순위 큐 풀이에는 거의 항상 PriorityQueue 모듈 대신 heapq를 사용한다.\n",
    "    * 어차피 PriorityQueue조차 내부적으로는 heapq를 사용하도록 구현되어있다.\n"
   ]
  },
  {
   "cell_type": "code",
   "execution_count": null,
   "id": "54ebbcb2",
   "metadata": {},
   "outputs": [],
   "source": [
    "# line 26 ~ 29가 이해가 안가는데 나중에 다시 보자!\n",
    "\n",
    "# Definition for singly-linked list.\n",
    "# class ListNode:\n",
    "#     def __init__(self, val=0, next=None):\n",
    "#         self.val = val\n",
    "#         self.next = next\n",
    "class Solution:\n",
    "    def mergeKLists(self, lists: List[Optional[ListNode]]) -> Optional[ListNode]:\n",
    "        \n",
    "        root = result = ListNode(None)\n",
    "        heap = []\n",
    "        \n",
    "        for i in range(len(lists)):\n",
    "            if lists[i]:\n",
    "                # 여기서 lists[i].val, lists[i] 만 넣을 경우, heappush에서 중복 값 에러가 발생하여, 가운데 i를 추가한다.\n",
    "                heapq.heappush(heap, (lists[i].val, i, lists[i]))\n",
    "        \n",
    "        # 결과 : heap = [1, 0, 1->4->5], [1, 1, 1->3->4], [2, 2, 2->6]\n",
    "        \n",
    "        while heap:\n",
    "            \n",
    "            # heap 안에서 head.val이 최소인 ListNode 반환\n",
    "            node = heapq.heappop(heap)\n",
    "            idx = node[1]\n",
    "            result.next = node[2]\n",
    "            # result.next = 1->4->5\n",
    "            \n",
    "            result = result.next\n",
    "            # result = 1->4->5\n",
    "            # result.next = 4->5\n",
    "            if result.next:\n",
    "                # result.next.val = 4\n",
    "                # idx = 0\n",
    "                # result.next : 4->5\n",
    "                heapq.heappush(heap, (result.next.val, idx, result.next))\n",
    "                \n",
    "        return root.next"
   ]
  },
  {
   "cell_type": "markdown",
   "id": "1885cc2c",
   "metadata": {},
   "source": [
    "# 하나하나 분해 해보기"
   ]
  },
  {
   "cell_type": "code",
   "execution_count": 10,
   "id": "b8686dca",
   "metadata": {},
   "outputs": [],
   "source": [
    "import heapq"
   ]
  },
  {
   "cell_type": "code",
   "execution_count": 11,
   "id": "064e96e3",
   "metadata": {},
   "outputs": [],
   "source": [
    "lists = [[1,4,5],[1,3,4],[2,6]]"
   ]
  },
  {
   "cell_type": "code",
   "execution_count": 12,
   "id": "337b56cc",
   "metadata": {},
   "outputs": [],
   "source": [
    "# Definition for singly-linked list.\n",
    "class ListNode:\n",
    "    def __init__(self, val=0, next=None):\n",
    "        self.val = val\n",
    "        self.next = next"
   ]
  },
  {
   "cell_type": "code",
   "execution_count": 13,
   "id": "829210ab",
   "metadata": {},
   "outputs": [],
   "source": [
    "root = result = ListNode(None)\n",
    "heap = []"
   ]
  },
  {
   "cell_type": "code",
   "execution_count": 14,
   "id": "e04f5e3d",
   "metadata": {},
   "outputs": [
    {
     "ename": "AttributeError",
     "evalue": "'list' object has no attribute 'val'",
     "output_type": "error",
     "traceback": [
      "\u001b[1;31m---------------------------------------------------------------------------\u001b[0m",
      "\u001b[1;31mAttributeError\u001b[0m                            Traceback (most recent call last)",
      "\u001b[1;32m<ipython-input-14-2b70a8943d44>\u001b[0m in \u001b[0;36m<module>\u001b[1;34m\u001b[0m\n\u001b[0;32m      1\u001b[0m \u001b[1;32mfor\u001b[0m \u001b[0mi\u001b[0m \u001b[1;32min\u001b[0m \u001b[0mrange\u001b[0m\u001b[1;33m(\u001b[0m\u001b[0mlen\u001b[0m\u001b[1;33m(\u001b[0m\u001b[0mlists\u001b[0m\u001b[1;33m)\u001b[0m\u001b[1;33m)\u001b[0m\u001b[1;33m:\u001b[0m\u001b[1;33m\u001b[0m\u001b[1;33m\u001b[0m\u001b[0m\n\u001b[0;32m      2\u001b[0m     \u001b[1;32mif\u001b[0m \u001b[0mlists\u001b[0m\u001b[1;33m[\u001b[0m\u001b[0mi\u001b[0m\u001b[1;33m]\u001b[0m\u001b[1;33m:\u001b[0m\u001b[1;33m\u001b[0m\u001b[1;33m\u001b[0m\u001b[0m\n\u001b[1;32m----> 3\u001b[1;33m         \u001b[0mheapq\u001b[0m\u001b[1;33m.\u001b[0m\u001b[0mheappush\u001b[0m\u001b[1;33m(\u001b[0m\u001b[0mheap\u001b[0m\u001b[1;33m,\u001b[0m \u001b[1;33m(\u001b[0m\u001b[0mlists\u001b[0m\u001b[1;33m[\u001b[0m\u001b[0mi\u001b[0m\u001b[1;33m]\u001b[0m\u001b[1;33m.\u001b[0m\u001b[0mval\u001b[0m\u001b[1;33m,\u001b[0m \u001b[0mi\u001b[0m\u001b[1;33m,\u001b[0m \u001b[0mlists\u001b[0m\u001b[1;33m[\u001b[0m\u001b[0mi\u001b[0m\u001b[1;33m]\u001b[0m\u001b[1;33m)\u001b[0m\u001b[1;33m)\u001b[0m\u001b[1;33m\u001b[0m\u001b[1;33m\u001b[0m\u001b[0m\n\u001b[0m",
      "\u001b[1;31mAttributeError\u001b[0m: 'list' object has no attribute 'val'"
     ]
    }
   ],
   "source": [
    "for i in range(len(lists)):\n",
    "    if lists[i]:\n",
    "        heapq.heappush(heap, (lists[i].val, i, lists[i]))"
   ]
  },
  {
   "cell_type": "code",
   "execution_count": null,
   "id": "9f229f9e",
   "metadata": {},
   "outputs": [],
   "source": [
    "heap = [1, 0, 1->4->5], [1, 1, 1->3->4], [2, 2, 2->6]"
   ]
  }
 ],
 "metadata": {
  "kernelspec": {
   "display_name": "Python 3",
   "language": "python",
   "name": "python3"
  },
  "language_info": {
   "codemirror_mode": {
    "name": "ipython",
    "version": 3
   },
   "file_extension": ".py",
   "mimetype": "text/x-python",
   "name": "python",
   "nbconvert_exporter": "python",
   "pygments_lexer": "ipython3",
   "version": "3.8.8"
  }
 },
 "nbformat": 4,
 "nbformat_minor": 5
}
