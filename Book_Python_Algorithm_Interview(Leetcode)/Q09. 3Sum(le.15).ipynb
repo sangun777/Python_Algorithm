{
 "cells": [
  {
   "cell_type": "markdown",
   "metadata": {},
   "source": [
    "### 배열을 입력 받아 합으로 0을 만들 수 있는 3개의 엘리먼트 쌍을 리스트로 출력하라\n"
   ]
  },
  {
   "cell_type": "markdown",
   "metadata": {},
   "source": [
    "### Ex1\n",
    "* Input: nums = [-1,0,1,2,-1,-4]\n",
    "* Output: [[-1,-1,2],[-1,0,1]]"
   ]
  },
  {
   "cell_type": "code",
   "execution_count": 6,
   "metadata": {},
   "outputs": [],
   "source": [
    "nums = [-1,0,1,2,-1,-4]"
   ]
  },
  {
   "cell_type": "markdown",
   "metadata": {},
   "source": [
    "# 방안 1.\n",
    "    1. 브루트 포스로 반복문 3개써서 구하기\n",
    "    2. 조합(combination)을 써볼까?"
   ]
  },
  {
   "cell_type": "code",
   "execution_count": 14,
   "metadata": {},
   "outputs": [
    {
     "name": "stdout",
     "output_type": "stream",
     "text": [
      "(-1, 0, 1) 0\n",
      "(-1, 0, 2) 1\n",
      "(-1, 0, -1) -2\n",
      "(-1, 0, -4) -5\n",
      "(-1, 1, 2) 2\n",
      "(-1, 1, -1) -1\n",
      "(-1, 1, -4) -4\n",
      "(-1, 2, -1) 0\n",
      "(-1, 2, -4) -3\n",
      "(-1, -1, -4) -6\n",
      "(0, 1, 2) 3\n",
      "(0, 1, -1) 0\n",
      "(0, 1, -4) -3\n",
      "(0, 2, -1) 1\n",
      "(0, 2, -4) -2\n",
      "(0, -1, -4) -5\n",
      "(1, 2, -1) 2\n",
      "(1, 2, -4) -1\n",
      "(1, -1, -4) -4\n",
      "(2, -1, -4) -3\n"
     ]
    }
   ],
   "source": [
    "# 방안 2 해보자!\n",
    "\n",
    "from itertools import combinations\n",
    "\n",
    "for i in combinations(nums, 3):\n",
    "    print(i, end=\" \")\n",
    "    print(sum(i))"
   ]
  },
  {
   "cell_type": "code",
   "execution_count": 15,
   "metadata": {},
   "outputs": [
    {
     "data": {
      "text/plain": [
       "[[-1, 0, 1], [-1, 2, -1], [0, 1, -1]]"
      ]
     },
     "execution_count": 15,
     "metadata": {},
     "output_type": "execute_result"
    }
   ],
   "source": [
    "# 방안 2 해보자!\n",
    "\n",
    "from itertools import combinations\n",
    "\n",
    "answer = []\n",
    "\n",
    "for i in combinations(nums, 3):\n",
    "    if sum(i) == 0:\n",
    "        answer.append(list(i))\n",
    "        \n",
    "answer"
   ]
  },
  {
   "cell_type": "markdown",
   "metadata": {},
   "source": [
    "### 그냥 제출하면 오답임\n",
    "    * 순서만 다르고 요소가 같은 경우는 빼야함!!"
   ]
  },
  {
   "cell_type": "markdown",
   "metadata": {},
   "source": [
    "### 제출 답안(Test Case는 통과하는데, 시간 제한 초과에 걸림!!)"
   ]
  },
  {
   "cell_type": "code",
   "execution_count": null,
   "metadata": {},
   "outputs": [],
   "source": [
    "from itertools import combinations\n",
    "\n",
    "class Solution:\n",
    "    def threeSum(self, nums: List[int]) -> List[List[int]]:\n",
    "        answer = []\n",
    "\n",
    "        for i in combinations(nums, 3):\n",
    "            if sum(i) == 0:\n",
    "                a = list(i)\n",
    "                a.sort()              ## 중복 방지를 위해 정렬 한 후,\n",
    "                if a not in answer:  ## 값이 있으면 안 넣음\n",
    "                    answer.append(a)\n",
    "                \n",
    "        return answer       "
   ]
  },
  {
   "cell_type": "markdown",
   "metadata": {},
   "source": [
    "# 핵심 풀이 개념!!(책 풀이 - 투 포인터 이용)\n",
    "\n",
    "### 1. 먼저 nums를 오름차순으로 정렬\n",
    "### 2. i는 0 ~ len(nums)-3까지 이동하며,\n",
    "### 3. left는 i+1, right는 len(nums)-1로 설정하고,\n",
    "### 4. nums[i]+nums[left]+nums[right] >= 이면, right -=1, 아니면, left+=1"
   ]
  },
  {
   "cell_type": "code",
   "execution_count": null,
   "metadata": {},
   "outputs": [],
   "source": [
    "class Solution:\n",
    "    def threeSum(self, nums: List[int]) -> List[List[int]]:\n",
    "        nums.sort()\n",
    "        \n",
    "        answer = []\n",
    "        \n",
    "        for i in range(len(nums)-2):\n",
    "            left = i+1\n",
    "            right = len(nums)-1\n",
    "            \n",
    "            while left != right:\n",
    "                if nums[i]+nums[left]+nums[right] > 0:\n",
    "                    right-=1\n",
    "                elif nums[i]+nums[left]+nums[right] < 0:\n",
    "                    left +=1\n",
    "                else:\n",
    "                    answer.append([nums[i], nums[left], nums[right]])\n",
    "                \n",
    "        return answer"
   ]
  },
  {
   "cell_type": "markdown",
   "metadata": {},
   "source": [
    "# 책 답안"
   ]
  },
  {
   "cell_type": "code",
   "execution_count": null,
   "metadata": {},
   "outputs": [],
   "source": [
    "class Solution:\n",
    "    def threeSum(self, nums: List[int]) -> List[List[int]]:\n",
    "        answer = []\n",
    "        nums.sort()\n",
    "        \n",
    "        for i in range(len(nums)-2):\n",
    "            \n",
    "            # 중복된 값 건너 뛰기\n",
    "            if i > 0 and nums[i] == nums[i-1]:\n",
    "                continue\n",
    "            \n",
    "            left = i+1\n",
    "            right = len(nums)-1\n",
    "            \n",
    "            while left < right:\n",
    "                sum = nums[i]+nums[left]+nums[right]\n",
    "                if sum < 0:\n",
    "                    left+=1\n",
    "                elif sum > 0:\n",
    "                    right-=1\n",
    "                else:\n",
    "                    answer.append([nums[i], nums[left], nums[right]])\n",
    "                    while left < right and nums[left] == nums[left+1]:\n",
    "                        left+=1\n",
    "                    while left < right and nums[right] == nums[right-1]:\n",
    "                        right-=1\n",
    "                    left+=1\n",
    "                    right-=1\n",
    "                \n",
    "        return answer"
   ]
  }
 ],
 "metadata": {
  "kernelspec": {
   "display_name": "Python 3",
   "language": "python",
   "name": "python3"
  },
  "language_info": {
   "codemirror_mode": {
    "name": "ipython",
    "version": 3
   },
   "file_extension": ".py",
   "mimetype": "text/x-python",
   "name": "python",
   "nbconvert_exporter": "python",
   "pygments_lexer": "ipython3",
   "version": "3.8.5"
  }
 },
 "nbformat": 4,
 "nbformat_minor": 4
}
