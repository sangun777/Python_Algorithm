{
 "cells": [
  {
   "cell_type": "markdown",
   "metadata": {},
   "source": [
    "# 문제\n",
    "\n",
    "* price는 주식의 날짜별 가격\n",
    "* 딱 하루 한번 살 수 있고, 다른날 하루 한번 팔수있다면 최대 얻을 수 있는 이익은?\n",
    "* 어떤 이득도 얻을수 없으면 0 반환"
   ]
  },
  {
   "cell_type": "markdown",
   "metadata": {},
   "source": [
    "## 핵심 개념(책)\n",
    "\n",
    "    * 브루트포스로도 풀 수 있지만 시간초과 발생한다\n",
    "    \n",
    "    * 주가를 넘겨가며, 최저가를 갱신하고, 현재 주가 - 최저가 으로 나오는 이익의 최댓 값을 갱신한다"
   ]
  },
  {
   "cell_type": "code",
   "execution_count": 13,
   "metadata": {},
   "outputs": [],
   "source": [
    "prices = [7,1,5,3,6,4]"
   ]
  },
  {
   "cell_type": "code",
   "execution_count": 18,
   "metadata": {},
   "outputs": [
    {
     "name": "stdout",
     "output_type": "stream",
     "text": [
      "5\n"
     ]
    }
   ],
   "source": [
    "import sys\n",
    "\n",
    "min_value = sys.maxsize # 최솟값은 시스템 최댓값으로 초기화 한다\n",
    "profit = 0 # 이익은 음수가 될수 없으니 -sys.maxsize가 아닌 0으로 초기화 한다\n",
    "\n",
    "for price in prices:\n",
    "    min_value = min(min_value, price)\n",
    "    profit = max(profit, price - min_value)\n",
    "    \n",
    "# return profit\n",
    "print(profit)"
   ]
  },
  {
   "cell_type": "markdown",
   "metadata": {},
   "source": [
    "## 제출 답안"
   ]
  },
  {
   "cell_type": "code",
   "execution_count": null,
   "metadata": {},
   "outputs": [],
   "source": [
    "class Solution:\n",
    "    def maxProfit(self, prices: List[int]) -> int:\n",
    "        \n",
    "        min_value = sys.maxsize # 최솟값은 시스템 최댓값으로 초기화 한다\n",
    "        profit = 0 # 이익은 음수가 될수 없으니 -sys.maxsize가 아닌 0으로 초기화 한다\n",
    "\n",
    "        for price in prices:\n",
    "            min_value = min(min_value, price)\n",
    "            profit = max(profit, price - min_value)\n",
    "\n",
    "        return profit"
   ]
  },
  {
   "cell_type": "code",
   "execution_count": 17,
   "metadata": {},
   "outputs": [
    {
     "data": {
      "text/plain": [
       "9223372036854775807"
      ]
     },
     "execution_count": 17,
     "metadata": {},
     "output_type": "execute_result"
    }
   ],
   "source": [
    "min_value = sys.maxsize\n",
    "min_value"
   ]
  },
  {
   "cell_type": "code",
   "execution_count": null,
   "metadata": {},
   "outputs": [],
   "source": []
  },
  {
   "cell_type": "code",
   "execution_count": null,
   "metadata": {},
   "outputs": [],
   "source": []
  },
  {
   "cell_type": "markdown",
   "metadata": {},
   "source": [
    "## 핵심 개념(나의)\n",
    "\n",
    "* 그냥 최대값 빼기 최소값 하면 되잖아??\n",
    "    * 가 아니구나... 가격은 시간순이고 과거로 돌아가서 팔수 없으니..  \n",
    "    \n",
    "    \n",
    "* 일단 가격에 오름, 내림은 파악하고\n",
    "    * 가격이 내려가기만 할 경우, 0 반환\n",
    "    \n",
    "1. 내려갔다 올라갔다 부분(극소) 따로 저장\n",
    "2. 올라갔다 내려가는 부분(극대) 따로 저장\n",
    "3. 첫 날은 하강하면 극대, 상승이면, 극소에 포함\n",
    "3. 내려갔다 올라가는 부분과 그것보다 뒤에 발생한 올라갔다 내려가는 부분의 차이 중 가장 큰 값을 반환"
   ]
  },
  {
   "cell_type": "code",
   "execution_count": 6,
   "metadata": {},
   "outputs": [],
   "source": [
    "prices = [7,1,5,3,6,4]"
   ]
  },
  {
   "cell_type": "code",
   "execution_count": 11,
   "metadata": {},
   "outputs": [
    {
     "name": "stdout",
     "output_type": "stream",
     "text": [
      "[1, 3, 5]\n",
      "[0, 2, 4]\n",
      "정답은 : 5\n"
     ]
    }
   ],
   "source": [
    "local_min = []\n",
    "local_max = []\n",
    "n = len(prices)\n",
    "answer = 0\n",
    "\n",
    "# 첫 날 이후 상승이면,\n",
    "if prices[0] < prices[1]:\n",
    "    local_min.append(0)\n",
    "\n",
    "# 첫 날 이후 하락이면    \n",
    "elif prices[0] > prices[1]:\n",
    "    local_max.append(0)\n",
    "    \n",
    "for i in range(n-2):\n",
    "    if prices[i] > prices[i+1] and prices[i+1] < prices[i+2]:\n",
    "        local_min.append(i+1)\n",
    "    elif prices[i] < prices[i+1] and prices[i+1] > prices[i+2]:\n",
    "        local_max.append(i+1)\n",
    "        \n",
    "# 상승으로 끝나면\n",
    "if prices[n-2] < prices[n-1]:\n",
    "    local_max.append(n-1)\n",
    "\n",
    "# 하락으로 끝나면\n",
    "elif prices[n-2] > prices[n-1]:\n",
    "    local_min.append(n-1)\n",
    "\n",
    "# 주가가 하락만 할 경우,(이익이 없을 경우)\n",
    "if len(local_min)==1 and local_min[0]==n:\n",
    "    # return answer\n",
    "    print(answer)\n",
    "\n",
    "print(local_min)\n",
    "print(local_max)\n",
    "# 모든 극소점에 구매했을 때, 최대 이익이 될수 있는값을 계산\n",
    "for i in local_min:\n",
    "    for j in local_max:\n",
    "        \n",
    "        # 극대점 날짜가 극소점 날짜보다 뒤이고, 주가가 더 높으면, 이익 갱신\n",
    "        if j > i and prices[j] > prices[i]:\n",
    "            answer = max(answer, prices[j]-prices[i])\n",
    "\n",
    "print(\"정답은 : %d\"% answer)"
   ]
  },
  {
   "cell_type": "code",
   "execution_count": null,
   "metadata": {},
   "outputs": [],
   "source": [
    "class Solution:\n",
    "    def maxProfit(self, prices: List[int]) -> int:\n",
    "        local_min = []\n",
    "        local_max = []\n",
    "        n = len(prices)\n",
    "        answer = 0\n",
    "        \n",
    "        # 날짜가 하루 이하일 때\n",
    "        if len(prices) <= 1:\n",
    "            return 0\n",
    "        \n",
    "        # 첫 날 이후 상승(or 동결)이면,\n",
    "        elif prices[0] <= prices[1]:\n",
    "            local_min.append(0)\n",
    "\n",
    "        # 첫 날 이후 하락이면    \n",
    "        elif prices[0] > prices[1]:\n",
    "            local_max.append(0)\n",
    "\n",
    "        for i in range(n-2):\n",
    "            if prices[i] > prices[i+1] and prices[i+1] <= prices[i+2]:\n",
    "                local_min.append(i+1)\n",
    "            elif prices[i] <= prices[i+1] and prices[i+1] > prices[i+2]:\n",
    "                local_max.append(i+1)\n",
    "        \n",
    "        # 상승(or 동결)으로 끝나면\n",
    "        if prices[n-2] <= prices[n-1]:\n",
    "            local_max.append(n-1)\n",
    "\n",
    "        # 하락으로 끝나면\n",
    "        elif prices[n-2] > prices[n-1]:\n",
    "            local_min.append(n-1)\n",
    "\n",
    "        # 주가가 하락만 할 경우,(이익이 없을 경우)\n",
    "        if len(local_min)==1 and local_min[0]==n:\n",
    "            return answer\n",
    "\n",
    "        # 모든 극소점에 구매했을 때, 최대 이익이 될수 있는값을 계산\n",
    "        for i in local_min:\n",
    "            for j in local_max:\n",
    "\n",
    "                # 극대점 날짜가 극소점 날짜보다 뒤이고, 주가가 더 높으면, 이익 갱신\n",
    "                if j > i and prices[j] > prices[i]:\n",
    "                    answer = max(answer, prices[j]-prices[i])\n",
    "\n",
    "        return answer"
   ]
  },
  {
   "cell_type": "markdown",
   "metadata": {},
   "source": [
    "=> 시간 초과 발생한다"
   ]
  },
  {
   "cell_type": "code",
   "execution_count": null,
   "metadata": {},
   "outputs": [],
   "source": [
    "prices = [2, 2, 5]"
   ]
  }
 ],
 "metadata": {
  "kernelspec": {
   "display_name": "Python 3",
   "language": "python",
   "name": "python3"
  },
  "language_info": {
   "codemirror_mode": {
    "name": "ipython",
    "version": 3
   },
   "file_extension": ".py",
   "mimetype": "text/x-python",
   "name": "python",
   "nbconvert_exporter": "python",
   "pygments_lexer": "ipython3",
   "version": "3.8.5"
  }
 },
 "nbformat": 4,
 "nbformat_minor": 4
}
