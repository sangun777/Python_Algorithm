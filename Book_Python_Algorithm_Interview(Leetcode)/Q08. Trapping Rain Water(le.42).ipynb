{
 "cells": [
  {
   "cell_type": "markdown",
   "metadata": {},
   "source": [
    "# 빗물 트래핑\n",
    "\n",
    "### 구조물의 높이를 입력 받은 뒤, 그 사이에 물이 얼마나 들어갈 수 있는지 계산"
   ]
  },
  {
   "cell_type": "markdown",
   "metadata": {},
   "source": [
    "### 풀이1 (투 포인터 이용1)"
   ]
  },
  {
   "cell_type": "markdown",
   "metadata": {},
   "source": [
    "### 핵심 개념\n",
    "\n",
    "    * 가장 높은 값은 좌 우를 가르는 장벽 역할\n",
    "    * 왼쪽 부분에서는 right_max 값을 장벽위치로 설정하고 왼쪽 처음부터 오른쪽으로 이동하면서\n",
    "        * 왼쪽 max 값을 갱신하고 그것보다 낮은 만큼 물을 채운다.\n",
    "    * 오른쪽 부분에서는 left_max 값을 장벽위치로 설정하고 오른쪽 끝부터 왼쪽으로 이동하면서\n",
    "        * 오른쪽 max 값을 갱신하고 그것보다 낮은 만큼 물을 채운다.\n",
    "        \n",
    "    * 최종 합산을 구한다.    "
   ]
  },
  {
   "cell_type": "markdown",
   "metadata": {},
   "source": [
    "# 핵심 개념을 이용한 내 풀이(해답 보기전)"
   ]
  },
  {
   "cell_type": "code",
   "execution_count": null,
   "metadata": {},
   "outputs": [],
   "source": [
    "Input: height = [0,1,0,2,1,0,1,3,2,1,2,1]\n",
    "Output: 6"
   ]
  },
  {
   "cell_type": "code",
   "execution_count": 5,
   "metadata": {},
   "outputs": [],
   "source": [
    "height = [0,1,0,2,1,0,1,3,2,1,2,1]"
   ]
  },
  {
   "cell_type": "code",
   "execution_count": 14,
   "metadata": {},
   "outputs": [
    {
     "name": "stdout",
     "output_type": "stream",
     "text": [
      "6\n"
     ]
    }
   ],
   "source": [
    "# 최댓값(장벽)\n",
    "max_value = max(height)\n",
    "\n",
    "# 방향 별 최댓값 초기화\n",
    "left_max = 0\n",
    "right_max = 0\n",
    "\n",
    "left = 0\n",
    "right = len(height)-1\n",
    "\n",
    "volume = 0\n",
    "\n",
    "# 왼쪽 분할 부분\n",
    "for left in range(height.index(max_value)+1):\n",
    "    left_max=max(left_max, height[left])\n",
    "    volume += left_max - height[left]\n",
    "    \n",
    "# 오른쪽 분할 부분\n",
    "for right in range(len(height)-1, height.index(max_value), -1):\n",
    "    right_max=max(right_max, height[right])\n",
    "    volume += right_max - height[right]\n",
    "    \n",
    "print(volume)"
   ]
  },
  {
   "cell_type": "markdown",
   "metadata": {},
   "source": [
    "### 제출 답안(내 풀이, Success)"
   ]
  },
  {
   "cell_type": "code",
   "execution_count": null,
   "metadata": {},
   "outputs": [],
   "source": [
    "class Solution:\n",
    "    def trap(self, height: List[int]) -> int:\n",
    "        \n",
    "        # 최댓값(장벽)\n",
    "        max_value = max(height)\n",
    "\n",
    "        # 방향 별 최댓값 초기화\n",
    "        left_max = 0\n",
    "        right_max = 0\n",
    "\n",
    "        left = 0\n",
    "        right = len(height)-1\n",
    "\n",
    "        volume = 0\n",
    "\n",
    "        # 왼쪽 분할 부분\n",
    "        for left in range(height.index(max_value)+1):\n",
    "            left_max=max(left_max, height[left])\n",
    "            volume += left_max - height[left]\n",
    "    \n",
    "        # 오른쪽 분할 부분\n",
    "        for right in range(len(height)-1, height.index(max_value), -1):\n",
    "            right_max=max(right_max, height[right])\n",
    "            volume += right_max - height[right]\n",
    "    \n",
    "        return volume\n",
    "        "
   ]
  },
  {
   "cell_type": "markdown",
   "metadata": {},
   "source": [
    "# 책 해답1(투 포인터)\n",
    "\n",
    "    * 내 답보다 쬐금더 코드가 간결해보이지만 이해가 잘 안감\n",
    "    * 구조물(height)가 없는 경우, return 0이 있음(없어도 되지 않나??)"
   ]
  },
  {
   "cell_type": "code",
   "execution_count": null,
   "metadata": {},
   "outputs": [],
   "source": [
    "class Solution:\n",
    "    def trap(self, height: List[int]) -> int:\n",
    "        \n",
    "        # 구조물이 없는 경우\n",
    "        if not height:\n",
    "            return 0\n",
    "        \n",
    "        # 각종 변수 초기화\n",
    "        height = 0\n",
    "        left, right = 0, len(height)-1\n",
    "        left_max, right_max = height[left], height[right]\n",
    "        \n",
    "        while left < right:\n",
    "            left_max, right_max = max(height[left], left_max), max(height[right], right_max)\n",
    "            \n",
    "            # 더 높은 곳을 향해 투 포인터 이동\n",
    "            if left_max <= right_max:\n",
    "                volume += left_max - height[left]\n",
    "                left +=1\n",
    "            else:\n",
    "                volume += right_max - height[right]\n",
    "                right-=1\n",
    "                \n",
    "        return volume"
   ]
  },
  {
   "cell_type": "code",
   "execution_count": null,
   "metadata": {},
   "outputs": [],
   "source": []
  },
  {
   "cell_type": "code",
   "execution_count": null,
   "metadata": {},
   "outputs": [],
   "source": []
  },
  {
   "cell_type": "code",
   "execution_count": null,
   "metadata": {},
   "outputs": [],
   "source": []
  },
  {
   "cell_type": "code",
   "execution_count": null,
   "metadata": {},
   "outputs": [],
   "source": []
  },
  {
   "cell_type": "code",
   "execution_count": null,
   "metadata": {},
   "outputs": [],
   "source": []
  },
  {
   "cell_type": "code",
   "execution_count": null,
   "metadata": {},
   "outputs": [],
   "source": []
  },
  {
   "cell_type": "markdown",
   "metadata": {},
   "source": [
    "## 아 풀이봐도 모르겠고, 내 맘대로 풀어보자!!\n",
    "\n",
    "### 물이 고이는 경우, 하강 다음에 상승이 발생하는 경우, \n",
    "    * 하강이 시작된 지점(왼쪽 꼭지점)과 상승이 끝나는 지점(오른쪽 꼭지점)을 비교하여,\n",
    "    * 둘 중 더 낮은 높이를 기준으로 나머지 사이 값들을 빼서 물의 높이를 구할 수 있음\n",
    "        "
   ]
  },
  {
   "cell_type": "code",
   "execution_count": 4,
   "metadata": {},
   "outputs": [
    {
     "name": "stdout",
     "output_type": "stream",
     "text": [
      "[1, 3, 4, 7, 8, 10]\n",
      "[0, 2, 5, 6, 9]\n"
     ]
    }
   ],
   "source": [
    "descent_point = []\n",
    "ascent_point = []\n",
    "\n",
    "for i in range(len(height)-1):\n",
    "    if height[i] > height[i+1]:\n",
    "        descent_point.append(i)\n",
    "    elif height[i] < height[i+1]:\n",
    "        ascent_point.append(i)\n",
    "\n",
    "print(descent_point)\n",
    "print(ascent_point)"
   ]
  },
  {
   "cell_type": "code",
   "execution_count": null,
   "metadata": {},
   "outputs": [],
   "source": [
    "# 첫 하강 포인트보다 이전의 상승 포인트는 모두 제거\n",
    "for i in ascent_point:\n",
    "    if i < descent_point[0]:\n",
    "        \n",
    "\n",
    "total_water = 0\n",
    "\n",
    "for i in range(len(height)):\n",
    "    if i in descent_point and "
   ]
  },
  {
   "cell_type": "markdown",
   "metadata": {},
   "source": [
    "## 하다가 중단 = 이거 아니다!"
   ]
  }
 ],
 "metadata": {
  "kernelspec": {
   "display_name": "Python 3",
   "language": "python",
   "name": "python3"
  },
  "language_info": {
   "codemirror_mode": {
    "name": "ipython",
    "version": 3
   },
   "file_extension": ".py",
   "mimetype": "text/x-python",
   "name": "python",
   "nbconvert_exporter": "python",
   "pygments_lexer": "ipython3",
   "version": "3.8.5"
  }
 },
 "nbformat": 4,
 "nbformat_minor": 4
}
