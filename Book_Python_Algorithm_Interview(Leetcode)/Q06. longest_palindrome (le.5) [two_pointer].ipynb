{
 "cells": [
  {
   "cell_type": "code",
   "execution_count": null,
   "metadata": {},
   "outputs": [],
   "source": [
    "문제 : 주어진 문자열에서 가장 긴 팰린드롬(좌우 대칭)부분을 찾아라"
   ]
  },
  {
   "cell_type": "code",
   "execution_count": null,
   "metadata": {},
   "outputs": [],
   "source": [
    "Ex1\n",
    "Input: s = \"babad\"\n",
    "Output: \"bab\"\n",
    "Note: \"aba\" is also a valid answer."
   ]
  },
  {
   "cell_type": "markdown",
   "metadata": {},
   "source": [
    "# 풀이 핵심 개념\n",
    "* 각각 2칸, 3칸으로 구성된 포인터가 문자열에 슬라이딩으로 처음부터 전진하면서, 팰린드롬 부분을 찾는다.\n",
    "    * 2칸, 3칸을 이용하는 이유는 홀수 팰린드롬과 짝수 팰린 드롬이 존재하기 때문\n",
    "* 만일 팰린드롬 부분을 찾으면, 그 자리에서 포인터를 확장해가며 팰린드롬을 판별한다."
   ]
  },
  {
   "cell_type": "code",
   "execution_count": null,
   "metadata": {},
   "outputs": [],
   "source": [
    "class Solution:\n",
    "    def longestPalindrome(self, s: str) -> str:\n",
    "        \n",
    "        # 투 포인터 확장 및 팰린드롬 판별\n",
    "        def expand(left: int, right: int) -> str:\n",
    "            while left >=0 and right <= len(s) and s[left] == s[right-1]: # 제한 및 팰린드롬 판별\n",
    "                left -=1 # 왼쪽 확장\n",
    "                right +=1 # 오른쪽 확장\n",
    "            return s[left+1:right-1]\n",
    "        \n",
    "        # 해당 사항이 없을 때 빠르게 리턴\n",
    "        if len(s) < 2 or s == s[::-1]:\n",
    "            return s\n",
    "        \n",
    "        result = ''\n",
    "        # 슬라이딩 윈도우 우측으로 이동\n",
    "        for i in range(len(s)-1):\n",
    "            # 위에서 정의한 expand 함수 이용\n",
    "            result = max(result, expand(i, i+1), expand(i, i+2), key=len)\n",
    "            \n",
    "        return result"
   ]
  }
 ],
 "metadata": {
  "kernelspec": {
   "display_name": "Python 3",
   "language": "python",
   "name": "python3"
  },
  "language_info": {
   "codemirror_mode": {
    "name": "ipython",
    "version": 3
   },
   "file_extension": ".py",
   "mimetype": "text/x-python",
   "name": "python",
   "nbconvert_exporter": "python",
   "pygments_lexer": "ipython3",
   "version": "3.8.5"
  }
 },
 "nbformat": 4,
 "nbformat_minor": 4
}
