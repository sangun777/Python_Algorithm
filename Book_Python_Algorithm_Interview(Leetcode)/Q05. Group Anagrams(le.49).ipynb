{
 "cells": [
  {
   "cell_type": "markdown",
   "metadata": {},
   "source": [
    "Input: strs = [\"eat\",\"tea\",\"tan\",\"ate\",\"nat\",\"bat\"]\n",
    "Output: [[\"bat\"],[\"nat\",\"tan\"],[\"ate\",\"eat\",\"tea\"]]"
   ]
  },
  {
   "cell_type": "code",
   "execution_count": 33,
   "metadata": {},
   "outputs": [],
   "source": [
    "strs = [\"eat\",\"tea\",\"tan\",\"ate\",\"nat\",\"bat\"]"
   ]
  },
  {
   "cell_type": "code",
   "execution_count": 37,
   "metadata": {},
   "outputs": [
    {
     "name": "stdout",
     "output_type": "stream",
     "text": [
      "[['bat'], ['nat', 'tan'], ['ate', 'tea', 'eat']]\n"
     ]
    }
   ],
   "source": [
    "import copy\n",
    "# 아이디어 1 : 각 문자열의 문자들을 사전순으로 정렬하여 비교한다.\n",
    "# 같은 것 끼리 묶는다.\n",
    "\n",
    "answer = []\n",
    "tuple_strs_ele = []\n",
    "\n",
    "for i in strs:\n",
    "    list_i = list(i)\n",
    "    list_i.sort()\n",
    "    \n",
    "    tuple_strs_ele.append((i, list_i))\n",
    "\n",
    "    \n",
    "while tuple_strs_ele:\n",
    "    a = tuple_strs_ele.pop()\n",
    "    \n",
    "    temp_group = []\n",
    "    temp_group.append(a[0])\n",
    "    \n",
    "    # 리스트를 복제해서 쓸 때는, 깊은 복사를 해야 동기화되지 않음에 주의한다!!\n",
    "    remain = copy.deepcopy(tuple_strs_ele)\n",
    "    \n",
    "    while remain:\n",
    "        b = remain.pop()\n",
    "        if a[1] == b[1]:\n",
    "            temp_group.append(b[0])\n",
    "            tuple_strs_ele.remove(b)\n",
    "            \n",
    "    answer.append(temp_group)\n",
    "    \n",
    "print(answer)"
   ]
  },
  {
   "cell_type": "markdown",
   "metadata": {},
   "source": [
    "# 내 풀이 제출본\n",
    "\n",
    "* TestCase는 통과\n",
    "* 제출시 Time limit 초과"
   ]
  },
  {
   "cell_type": "code",
   "execution_count": null,
   "metadata": {},
   "outputs": [],
   "source": [
    "import copy\n",
    "\n",
    "class Solution:\n",
    "    def groupAnagrams(self, strs: List[str]) -> List[List[str]]:\n",
    "        \n",
    "        # 아이디어 1 : 각 문자열의 문자들을 사전순으로 정렬하여 비교한다.\n",
    "        # 같은 것 끼리 묶는다.\n",
    "        \n",
    "        answer = []\n",
    "        tuple_strs_ele = []\n",
    "\n",
    "        for i in strs:\n",
    "            list_i = list(i)\n",
    "            list_i.sort()\n",
    "    \n",
    "            tuple_strs_ele.append((i, list_i))\n",
    "\n",
    "    \n",
    "        while tuple_strs_ele:\n",
    "            a = tuple_strs_ele.pop()\n",
    "    \n",
    "            temp_group = []\n",
    "            temp_group.append(a[0])\n",
    "    \n",
    "            # 리스트를 복제해서 쓸 때는, 깊은 복사를 해야 동기화되지 않음에 주의한다!!\n",
    "            remain = copy.deepcopy(tuple_strs_ele)\n",
    "    \n",
    "            while remain:\n",
    "                b = remain.pop()\n",
    "                if a[1] == b[1]:\n",
    "                    temp_group.append(b[0])\n",
    "                    tuple_strs_ele.remove(b)\n",
    "            \n",
    "            answer.append(temp_group)\n",
    "            \n",
    "        return answer"
   ]
  },
  {
   "cell_type": "markdown",
   "metadata": {},
   "source": [
    "# 책 풀이\n",
    "\n",
    "* 애너그램은 기본적으로 문자를 정렬하여 비교하는 것으로 판단\n",
    "* sorted는 문자열도 정렬하여 리스트로 반환 함\n",
    "* sorted를 사용한 뒤, 다시 .join으로 문자열로 만들어 키로 사용\n",
    "* 해당 키와 값을 dict에 저장하여 구성\n",
    "* 만일 존재하지 않는 키로 딕셔너리 값을 추가할 경우 발생하는 에러를 대비하여, \n",
    "* collenctions.defaultdict로 딕셔너리를 선언"
   ]
  },
  {
   "cell_type": "code",
   "execution_count": null,
   "metadata": {},
   "outputs": [],
   "source": [
    "class Solution:\n",
    "    def groupAnagrams(self, strs: List[str]) -> List[List[str]]:\n",
    "        \n",
    "        # 만일 존재하지 않는 키로 딕셔너리 값을 추가할 경우 발생하는 에러를 대비하여, defaultdict로 선언\n",
    "        anagrams = collections.defaultdict(list)\n",
    "        \n",
    "        for word in strs:\n",
    "            # 키: 정렬된 값, 값: 원본\n",
    "            anagrams[''.join(sorted(word))].append(word)\n",
    "            \n",
    "        return anagrams.values()"
   ]
  },
  {
   "cell_type": "markdown",
   "metadata": {},
   "source": [
    "# 책 풀이 확인"
   ]
  },
  {
   "cell_type": "code",
   "execution_count": 40,
   "metadata": {},
   "outputs": [
    {
     "data": {
      "text/plain": [
       "dict_values([['eat', 'tea', 'ate'], ['tan', 'nat'], ['bat']])"
      ]
     },
     "execution_count": 40,
     "metadata": {},
     "output_type": "execute_result"
    }
   ],
   "source": [
    "import collections\n",
    "\n",
    "strs = [\"eat\",\"tea\",\"tan\",\"ate\",\"nat\",\"bat\"]\n",
    "\n",
    "# 만일 존재하지 않는 키로 딕셔너리 값을 추가할 경우 발생하는 에러를 대비하여, defaultdict로 선언\n",
    "anagrams = collections.defaultdict(list)\n",
    "        \n",
    "for word in strs:\n",
    "    # 키: 정렬된 값, 값: 원본\n",
    "    anagrams[''.join(sorted(word))].append(word)\n",
    "            \n",
    "anagrams.values()"
   ]
  }
 ],
 "metadata": {
  "kernelspec": {
   "display_name": "Python 3",
   "language": "python",
   "name": "python3"
  },
  "language_info": {
   "codemirror_mode": {
    "name": "ipython",
    "version": 3
   },
   "file_extension": ".py",
   "mimetype": "text/x-python",
   "name": "python",
   "nbconvert_exporter": "python",
   "pygments_lexer": "ipython3",
   "version": "3.8.5"
  }
 },
 "nbformat": 4,
 "nbformat_minor": 4
}
