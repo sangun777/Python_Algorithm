{
 "cells": [
  {
   "cell_type": "markdown",
   "metadata": {},
   "source": [
    "# 문제\n",
    "\n",
    "* 두개의 링크드리스트를 합쳐서 정렬하라\n",
    "\n",
    "* 링크드리스트의 이름이 head 역할"
   ]
  },
  {
   "cell_type": "markdown",
   "metadata": {},
   "source": [
    "### 내 풀이\n",
    "1. 각 링크드리스트의 val 값을 리스트에 넣고\n",
    "2. 리스트를 정렬하고,\n",
    "3. 정렬한 내용을 다시 링크드리스트로 만들어 리턴"
   ]
  },
  {
   "cell_type": "code",
   "execution_count": null,
   "metadata": {},
   "outputs": [],
   "source": [
    "# Definition for singly-linked list.\n",
    "# class ListNode:\n",
    "#     def __init__(self, val=0, next=None):\n",
    "#         self.val = val\n",
    "#         self.next = next\n",
    "class Solution:\n",
    "    def mergeTwoLists(self, l1: Optional[ListNode], l2: Optional[ListNode]) -> Optional[ListNode]:\n",
    "        \n",
    "        arr = []\n",
    "        \n",
    "        node = l1\n",
    "        while node is not None:\n",
    "            arr.append(node.val)\n",
    "            node = node.next\n",
    "            \n",
    "        node = l2\n",
    "        while node is not None:\n",
    "            arr.append(node.val)\n",
    "            node = node.next\n",
    "            \n",
    "        arr.sort()\n",
    "        \n",
    "        if not arr:\n",
    "            answer = ListNode()\n",
    "            answer.val = \"\"\n",
    "            return answer\n",
    "        \n",
    "        # 리스트를 링크드리스트로 변환\n",
    "        answer = ListNode(arr[0])\n",
    "        n = answer\n",
    "        \n",
    "        for i in range(1, len(arr)):\n",
    "            n.next = ListNode(arr[i])\n",
    "            n = n.next\n",
    "            \n",
    "        return answer"
   ]
  },
  {
   "cell_type": "markdown",
   "metadata": {},
   "source": [
    "# 책 풀이\n",
    "\n",
    "* li1을 마지막에 리턴할 용도로 쓸거임\n",
    "* li1 값이 없거나 li1이 li2보다 크면, li2를 li1으로,(작은 값을 li1으로) li1은 li2로 변경\n",
    "* li1(작은 값의 바뀐 위치)이 가리키는 다음 값과 아까전 큰 값이었던 li2에 대해 지금 해왔던 작업 반복\n",
    "(이 풀이는 지금 입력되는 li1과 li2가 각각 개별적으로 정렬된 상태여서 해당 풀이가 가능한 것!)\n"
   ]
  },
  {
   "cell_type": "code",
   "execution_count": null,
   "metadata": {},
   "outputs": [],
   "source": [
    "# Definition for singly-linked list.\n",
    "# class ListNode:\n",
    "#     def __init__(self, val=0, next=None):\n",
    "#         self.val = val\n",
    "#         self.next = next\n",
    "class Solution:\n",
    "    def mergeTwoLists(self, l1: Optional[ListNode], l2: Optional[ListNode]) -> Optional[ListNode]:\n",
    "        \n",
    "        if (not l1) or (l2 and l1.val>l2.val):\n",
    "            l1, l2 = l2, l1\n",
    "        if l1:\n",
    "            l1.next = self.mergeTwoLists(l1.next, l2)\n",
    "        return l1"
   ]
  }
 ],
 "metadata": {
  "kernelspec": {
   "display_name": "Python 3",
   "language": "python",
   "name": "python3"
  },
  "language_info": {
   "codemirror_mode": {
    "name": "ipython",
    "version": 3
   },
   "file_extension": ".py",
   "mimetype": "text/x-python",
   "name": "python",
   "nbconvert_exporter": "python",
   "pygments_lexer": "ipython3",
   "version": "3.8.5"
  }
 },
 "nbformat": 4,
 "nbformat_minor": 4
}
