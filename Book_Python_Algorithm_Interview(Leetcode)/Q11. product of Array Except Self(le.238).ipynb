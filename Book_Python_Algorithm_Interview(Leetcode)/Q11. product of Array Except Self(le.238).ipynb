{
 "cells": [
  {
   "cell_type": "markdown",
   "metadata": {},
   "source": [
    "# 문제\n",
    "\n",
    "## 문자열의 주어지만, 자신을 제외한 나머지 요소들의 곱을 요소로 같는 Answer 배열을 반환하라\n",
    "\n",
    "* 제약 사항\n",
    "    * O(N) 이하 알고리즘을 구현\n",
    "    * 나누기 연산 사용하지 말 것"
   ]
  },
  {
   "cell_type": "markdown",
   "metadata": {},
   "source": [
    "Input: nums = [1,2,3,4]\n",
    "Output: [24,12,8,6]"
   ]
  },
  {
   "cell_type": "code",
   "execution_count": 3,
   "metadata": {},
   "outputs": [],
   "source": [
    "nums = [1,2,3,4]"
   ]
  },
  {
   "cell_type": "markdown",
   "metadata": {},
   "source": [
    "# 핵심 개념\n",
    "\n",
    "    * 하나를 제외하고 나머지 다 곱한다\n",
    "        => 왼쪽 부분 곱과 오른쪽 부분 곱을 구한후 서로 곱한다\n"
   ]
  },
  {
   "cell_type": "markdown",
   "metadata": {},
   "source": [
    "![](Q11.png)"
   ]
  },
  {
   "cell_type": "code",
   "execution_count": 6,
   "metadata": {},
   "outputs": [
    {
     "name": "stdout",
     "output_type": "stream",
     "text": [
      "[1, 1, 2, 6]\n",
      "[24, 12, 4, 1]\n",
      "[24, 12, 8, 6]\n"
     ]
    }
   ],
   "source": [
    "nums = [1,2,3,4]\n",
    "\n",
    "l = 1\n",
    "r = 1\n",
    "l_part = []\n",
    "r_part = []\n",
    "answer = []\n",
    "        \n",
    "for i in range(len(nums)):\n",
    "    l_part.append(l)\n",
    "    l = l*nums[i]\n",
    "\n",
    "print(l_part)\n",
    "for i in range(len(nums)-1, -1, -1):\n",
    "    r_part.append(r)\n",
    "    r = r*nums[i]\n",
    "\n",
    "r_part.reverse()\n",
    "print(r_part)    \n",
    "for i in range(len(nums)):\n",
    "    answer.append(l_part[i]*r_part[i])\n",
    "\n",
    "\n",
    "print(answer)"
   ]
  },
  {
   "cell_type": "code",
   "execution_count": null,
   "metadata": {},
   "outputs": [],
   "source": [
    "class Solution:\n",
    "    def productExceptSelf(self, nums: List[int]) -> List[int]:\n",
    "                \n",
    "        l = 1\n",
    "        r = 1\n",
    "        l_part = []\n",
    "        r_part = []\n",
    "        answer = []\n",
    "        \n",
    "        for i in range(len(nums)):\n",
    "            l_part.append(l)\n",
    "            l = l*nums[i]\n",
    "            \n",
    "        for i in range(len(nums)-1, -1, -1):\n",
    "            r_part.append(r)\n",
    "            r = r*nums[i]\n",
    "            \n",
    "        r_part.reverse()\n",
    "            \n",
    "        for i in range(len(nums)):\n",
    "            answer.append(l_part[i]*r_part[i])\n",
    "            \n",
    "        return answer\n",
    "       "
   ]
  },
  {
   "cell_type": "code",
   "execution_count": null,
   "metadata": {},
   "outputs": [],
   "source": []
  }
 ],
 "metadata": {
  "kernelspec": {
   "display_name": "Python 3",
   "language": "python",
   "name": "python3"
  },
  "language_info": {
   "codemirror_mode": {
    "name": "ipython",
    "version": 3
   },
   "file_extension": ".py",
   "mimetype": "text/x-python",
   "name": "python",
   "nbconvert_exporter": "python",
   "pygments_lexer": "ipython3",
   "version": "3.8.8"
  }
 },
 "nbformat": 4,
 "nbformat_minor": 4
}
