{
 "cells": [
  {
   "cell_type": "markdown",
   "id": "402ea46d",
   "metadata": {},
   "source": [
    "# 입국 심사\n",
    "\n",
    "### 떠올리는 방법\n",
    "    * 데이터 (사람수, 시간)이 각각 10억 단위이다 => 그냥 이분 탐색 써라!\n",
    "    * 구하는 값이 \"최소 시간\"임 => 시간에 대하여 최소, 최대 값을 정하고 이분 탐색써라!\n",
    "\n",
    "### 로직의 핵심 내용\n",
    "    * 정해진 시간동안 입국 심사원들이 각자 처리할수 있는 인원 수를 구하고 모두 더했을 때,  \n",
    "      전체 사람수를 넘기는가?\n",
    "      ex) 대기자 = 6명, 심사관 = [7, 10] 일 때,\n",
    "      최대 시간 6*10 = 60 이므로 이분탐색에 따라 30분을 mid로 설정하면,\n",
    "      \n",
    "      30분동안 심사관은 각각\n",
    "      30 // 7 = 4명\n",
    "      30 // 10 = 3명\n",
    "      총 7명을 입국심사 할수 있고, 그것은 총 대기자 숫자인 6명을 넘음\n",
    "      그러면 다시 end값을 30-1로 설정하고, 다시 계산 gogo"
   ]
  },
  {
   "cell_type": "code",
   "execution_count": null,
   "id": "41ce8fdc",
   "metadata": {},
   "outputs": [],
   "source": [
    "n = 6\n",
    "times = [7. 10]"
   ]
  },
  {
   "cell_type": "code",
   "execution_count": null,
   "id": "e0c76166",
   "metadata": {},
   "outputs": [],
   "source": [
    "## 맞춘 답\n",
    "def solution(n, times):\n",
    "    answer = 0\n",
    "    \n",
    "    end = min(times)*n\n",
    "    start = 1\n",
    "    \n",
    "    while(start<=end):\n",
    "        mid = (start+end)//2\n",
    "        \n",
    "        cnt = [mid//i for i in times]  ## 심사관이 mid 동안 처리할수 있는 사람 수 배열\n",
    "        total = sum(cnt)\n",
    "            \n",
    "        if total >= n:    # 여기서 주의할 점은 =와 >를 분리하면 안됨\n",
    "            answer = mid\n",
    "            end = mid-1\n",
    "            \n",
    "        else:\n",
    "            start = mid+1\n",
    "            \n",
    "    \n",
    "    return answer"
   ]
  },
  {
   "cell_type": "code",
   "execution_count": null,
   "id": "b4458955",
   "metadata": {},
   "outputs": [],
   "source": [
    "### 1차시도 : 틀린 답"
   ]
  },
  {
   "cell_type": "code",
   "execution_count": null,
   "id": "53ff5f3a",
   "metadata": {},
   "outputs": [],
   "source": [
    "def solution(n, times):\n",
    "    answer = 0\n",
    "    \n",
    "    end = min(times)*n\n",
    "    start = 1\n",
    "    \n",
    "    while(start<=end):\n",
    "        mid = (start+end)//2\n",
    "        \n",
    "        cnt = [mid//i for i in times]  ## 심사관이 mid 동안 처리할수 있는 사람 수 배열\n",
    "        total = sum(cnt)\n",
    "        \n",
    "        if total==n:      # 이처럼 딱 맞으면, 정답 처리하고 나가도 된다고 생각했지만, 이것 때문에 틀림\n",
    "            answer=mid    #  mid의 시간에서 // 처리해서 몫의 소수점을 버림처리한 것이기 때문에, \n",
    "            break         #  더 작은 시간도 답이 될 수 있음 예시로 mid = 29분과 28분 모두 답이 동일하게 total=6이 나옴\n",
    "        \n",
    "        elif total > n:\n",
    "            answer = mid\n",
    "            end = mid-1\n",
    "            \n",
    "        else:\n",
    "            start = mid+1\n",
    "            \n",
    "    \n",
    "    return answer"
   ]
  },
  {
   "cell_type": "code",
   "execution_count": null,
   "id": "a1541473",
   "metadata": {},
   "outputs": [],
   "source": []
  },
  {
   "cell_type": "code",
   "execution_count": null,
   "id": "f35413fe",
   "metadata": {},
   "outputs": [],
   "source": []
  },
  {
   "cell_type": "code",
   "execution_count": null,
   "id": "4742ce7f",
   "metadata": {},
   "outputs": [],
   "source": []
  },
  {
   "cell_type": "code",
   "execution_count": null,
   "id": "7ae1cbd9",
   "metadata": {},
   "outputs": [],
   "source": []
  },
  {
   "cell_type": "code",
   "execution_count": null,
   "id": "aa7e2f19",
   "metadata": {},
   "outputs": [],
   "source": []
  },
  {
   "cell_type": "code",
   "execution_count": null,
   "id": "ae82a7a3",
   "metadata": {},
   "outputs": [],
   "source": []
  },
  {
   "cell_type": "code",
   "execution_count": null,
   "id": "9af6c749",
   "metadata": {},
   "outputs": [],
   "source": []
  },
  {
   "cell_type": "code",
   "execution_count": null,
   "id": "732e8f0d",
   "metadata": {},
   "outputs": [],
   "source": []
  },
  {
   "cell_type": "code",
   "execution_count": null,
   "id": "ecfab386",
   "metadata": {},
   "outputs": [],
   "source": []
  },
  {
   "cell_type": "code",
   "execution_count": null,
   "id": "c3d611f6",
   "metadata": {},
   "outputs": [],
   "source": []
  },
  {
   "cell_type": "code",
   "execution_count": null,
   "id": "5a36898b",
   "metadata": {},
   "outputs": [],
   "source": [
    "# 예전에 내가 쓴거(그냥 뭔 생각이었는지 참조만 해보자)"
   ]
  },
  {
   "cell_type": "code",
   "execution_count": null,
   "id": "23b7fc2b",
   "metadata": {},
   "outputs": [],
   "source": [
    "def solution(n, times):\n",
    "    \n",
    "    # 각 심사관들의 검사 횟수\n",
    "    count = [ 0 for i in range(len(times))]\n",
    "    \n",
    "    for i in range(n):\n",
    "        \n",
    "        # 입국 검사 걸리는 시간\n",
    "        spending_times = [times[j]*(count[j]+1) for j in range(len(times))]\n",
    "        \n",
    "        min_index = spending_times.index(min(spending_times))\n",
    "        count[min_index] += 1\n",
    "        \n",
    "        if i == n-1:\n",
    "            return times[min_index]*count[min_index]"
   ]
  },
  {
   "cell_type": "markdown",
   "id": "a7996a1b",
   "metadata": {},
   "source": [
    "=> 시간초과"
   ]
  },
  {
   "cell_type": "code",
   "execution_count": null,
   "id": "bca98434",
   "metadata": {},
   "outputs": [],
   "source": []
  }
 ],
 "metadata": {
  "kernelspec": {
   "display_name": "Python 3",
   "language": "python",
   "name": "python3"
  },
  "language_info": {
   "codemirror_mode": {
    "name": "ipython",
    "version": 3
   },
   "file_extension": ".py",
   "mimetype": "text/x-python",
   "name": "python",
   "nbconvert_exporter": "python",
   "pygments_lexer": "ipython3",
   "version": "3.8.8"
  }
 },
 "nbformat": 4,
 "nbformat_minor": 5
}
