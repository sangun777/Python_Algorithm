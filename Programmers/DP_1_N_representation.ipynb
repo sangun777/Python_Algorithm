{
 "cells": [
  {
   "cell_type": "code",
   "execution_count": 1,
   "metadata": {},
   "outputs": [],
   "source": [
    "## aiffel 스터디 당시 내 답안"
   ]
  },
  {
   "cell_type": "code",
   "execution_count": null,
   "metadata": {},
   "outputs": [],
   "source": [
    "def solution(N, number):\n",
    "    \n",
    "    # answer : N의 최소 갯수\n",
    "    answer = 0\n",
    "    \n",
    "    # number가 0알 경우, 0 반환\n",
    "    if number == 0:\n",
    "        return answer\n",
    "    \n",
    "    # 집합을 저장할 리스트\n",
    "    # N 사용 횟수에 따른 경우의수를 저장하는 집합을 만들 예정\n",
    "    set_list = []\n",
    "    \n",
    "    # ['N'], ['NN'], ['NNN'], ..., ['NNNNNNNN'] 을 요소로 set_list에 저장\n",
    "    for i in range(8):\n",
    "        set_list.append([str(N)*(i+1)])\n",
    "        # 각 요소를 문자열 => 숫자로 변환\n",
    "        set_list[i] = [int(set_list[i][0])]\n",
    "        \n",
    "    for j in range(8):        \n",
    "        # j+1번째 집합에 number가 있으면\n",
    "        if number in set_list[j]:\n",
    "            answer = j+1\n",
    "            return answer\n",
    "        \n",
    "        elif j < 7 :\n",
    "            for k in range(j+1):\n",
    "                for idx_j in range(len(set_list[j-k])):\n",
    "                    for idx_k in range(len(set_list[k])):\n",
    "                        set_list[j+1].append(set_list[j-k][idx_j]+set_list[k][idx_k])\n",
    "                        set_list[j+1].append(set_list[j-k][idx_j]-set_list[k][idx_k])\n",
    "                        set_list[j+1].append(set_list[j-k][idx_j]*set_list[k][idx_k])\n",
    "                        if set_list[k][idx_k] != 0:\n",
    "                            set_list[j+1].append(set_list[j-k][idx_j]//set_list[k][idx_k])\n",
    "                            \n",
    "            # 집합에 넣었다 빼줌으로 중복 제거            \n",
    "            set_list[j+1] = set(set_list[j+1])\n",
    "            set_list[j+1] = list(set_list[j+1])\n",
    "                \n",
    "        # 최솟 값이 8보다 클 때,                \n",
    "        else :\n",
    "            return -1"
   ]
  }
 ],
 "metadata": {
  "kernelspec": {
   "display_name": "Python 3",
   "language": "python",
   "name": "python3"
  },
  "language_info": {
   "codemirror_mode": {
    "name": "ipython",
    "version": 3
   },
   "file_extension": ".py",
   "mimetype": "text/x-python",
   "name": "python",
   "nbconvert_exporter": "python",
   "pygments_lexer": "ipython3",
   "version": "3.8.5"
  }
 },
 "nbformat": 4,
 "nbformat_minor": 4
}
