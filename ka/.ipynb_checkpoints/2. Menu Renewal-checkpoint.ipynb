{
 "cells": [
  {
   "cell_type": "code",
   "execution_count": 7,
   "metadata": {},
   "outputs": [],
   "source": [
    "# Test case 1\n",
    "orders = [\"ABCFG\", \"AC\", \"CDE\", \"ACDE\", \"BCFG\", \"ACDEH\"]\n",
    "course = [2,3,4]  # 2, 3, 4개 짜리 코스 메뉴를 만들어라\n",
    "\n",
    "# correct result = [\"AC\", \"ACDE\", \"BCFG\", \"CDE\"]"
   ]
  },
  {
   "cell_type": "markdown",
   "metadata": {},
   "source": [
    " * 코스요리 후보 만들기\n",
    "    * 코스요리 메뉴는 최소 2가지 이상의 단품메뉴로 구성\n",
    "    * 가장 많이 주문된 조합으로 구성\n",
    "    * 최소 2명 이상의 손님으로부터 주문된 단품메뉴 조합에 대해서만 코스요리 메뉴 후보에 포함\n",
    " * 각 손님들이 주문한 단품메뉴들이 문자열 형식으로 담긴 배열 orders\n",
    " * \"스카피\"가 추가하고 싶어하는 코스요리를 구성하는 단품메뉴들의 갯수가 담긴 배열 course\n",
    " * \"스카피\"가 새로 추가하게 될 코스요리의 메뉴 구성을 문자열 형태로 배열에 담아 return"
   ]
  },
  {
   "cell_type": "markdown",
   "metadata": {},
   "source": [
    " * orders 배열의 크기는 2 이상 20 이하\n",
    " * orders 배열의 각 원소는 크기가 2 이상 10 이하인 문자열\n",
    "     * 알파벳 대문자만 존재\n",
    "     * 중복없음\n",
    " * course 배열의 크기는 1 이상 10 이하\n",
    "     * 각 원소는 2 이상 10 이하인 자연수가 오름차순\n",
    "     * 중복없음\n",
    " * result는 문자열 형식으로 배열에 담아 사전 순으로 오름차순 정렬해서 return\n",
    "     * 각 원소에 저장된 문자열 또한 알파벳 오름차순\n",
    "     * 가장 많이 함께 주문된 메뉴 구성이 여러 개라면, 모두 배열에 담아 return\n",
    "     * orders와 course 매개변수는 return 하는 배열의 길이가 1 이상이 되도록 주어짐"
   ]
  },
  {
   "cell_type": "markdown",
   "metadata": {},
   "source": [
    " * 정답 코드"
   ]
  },
  {
   "cell_type": "code",
   "execution_count": 6,
   "metadata": {},
   "outputs": [],
   "source": [
    "import collections\n",
    "import itertools\n",
    "\n",
    "\n",
    "\n",
    "def solution(orders, course):\n",
    "    result = []\n",
    "    \n",
    "    for course_size in course:\n",
    "        order_combinations = []    # course_size가 바뀔 때마다 초기화\n",
    "        for order in orders:\n",
    "            order_combinations += itertools.combinations(sorted(order), course_size)\n",
    "            # course_size(코스 크기)에 따른 모든 조합을 생성\n",
    "            \n",
    "        most_ordered = collections.Counter(order_combinations).most_common()\n",
    "        # order_combinations(모든 조합)을 Counter 자료형으로 만들고, 요소 갯수가 많은 순으로 정렬\n",
    "        \n",
    "        result += [ k for k, v in most_ordered if v > 1]\n",
    "    \n",
    "    return answer"
   ]
  },
  {
   "cell_type": "markdown",
   "metadata": {},
   "source": [
    "## 코드 분해"
   ]
  },
  {
   "cell_type": "code",
   "execution_count": 7,
   "metadata": {},
   "outputs": [],
   "source": [
    "# Test case 1\n",
    "orders = [\"ABCFG\", \"AC\", \"CDE\", \"ACDE\", \"BCFG\", \"ACDEH\"]\n",
    "course = [2,3,4]  # 2, 3, 4개 짜리 코스 메뉴를 만들어라\n",
    "\n",
    "# correct result = [\"AC\", \"ACDE\", \"BCFG\", \"CDE\"]"
   ]
  },
  {
   "cell_type": "markdown",
   "metadata": {},
   "source": [
    " * sorted() 함수는 \n",
    "     * 단순히 문자열을 정렬만 시키는게 아니라, \n",
    "     * 리스트 형태로 변환해서 반환함로 변환해서 반환함"
   ]
  },
  {
   "cell_type": "code",
   "execution_count": 24,
   "metadata": {},
   "outputs": [
    {
     "name": "stdout",
     "output_type": "stream",
     "text": [
      "['e', 'e', 'r', 'r', 't', 'w', 'w']\n"
     ]
    },
    {
     "data": {
      "text/plain": [
       "list"
      ]
     },
     "execution_count": 24,
     "metadata": {},
     "output_type": "execute_result"
    }
   ],
   "source": [
    "a = \"wertewr\"\n",
    "print(sorted(a))\n",
    "type(sorted(a))"
   ]
  },
  {
   "cell_type": "code",
   "execution_count": 25,
   "metadata": {},
   "outputs": [],
   "source": [
    "# course_size가 2 일 때,  (요리가 2개인 코스)\n",
    "course_size = 2\n",
    "\n",
    "order_combinations = []    # course_size가 바뀔 때마다 초기화\n",
    "\n",
    "for order in orders:\n",
    "    order_combinations += itertools.combinations(sorted(order), course_size)\n",
    "    # course_size(코스 크기)에 따른 모든 조합을 생성"
   ]
  },
  {
   "cell_type": "code",
   "execution_count": 21,
   "metadata": {},
   "outputs": [
    {
     "data": {
      "text/plain": [
       "[('A', 'B'),\n",
       " ('A', 'C'),\n",
       " ('A', 'F'),\n",
       " ('A', 'G'),\n",
       " ('B', 'C'),\n",
       " ('B', 'F'),\n",
       " ('B', 'G'),\n",
       " ('C', 'F'),\n",
       " ('C', 'G'),\n",
       " ('F', 'G'),\n",
       " ('A', 'C'),\n",
       " ('C', 'D'),\n",
       " ('C', 'E'),\n",
       " ('D', 'E'),\n",
       " ('A', 'C'),\n",
       " ('A', 'D'),\n",
       " ('A', 'E'),\n",
       " ('C', 'D'),\n",
       " ('C', 'E'),\n",
       " ('D', 'E'),\n",
       " ('B', 'C'),\n",
       " ('B', 'F'),\n",
       " ('B', 'G'),\n",
       " ('C', 'F'),\n",
       " ('C', 'G'),\n",
       " ('F', 'G'),\n",
       " ('A', 'C'),\n",
       " ('A', 'D'),\n",
       " ('A', 'E'),\n",
       " ('A', 'H'),\n",
       " ('C', 'D'),\n",
       " ('C', 'E'),\n",
       " ('C', 'H'),\n",
       " ('D', 'E'),\n",
       " ('D', 'H'),\n",
       " ('E', 'H')]"
      ]
     },
     "execution_count": 21,
     "metadata": {},
     "output_type": "execute_result"
    }
   ],
   "source": [
    "# 각 주문으로부터 발생가능한 2가지 조합을 모두 만들어냄 (중복 포함)\n",
    "order_combinations"
   ]
  },
  {
   "cell_type": "code",
   "execution_count": 28,
   "metadata": {},
   "outputs": [
    {
     "data": {
      "text/plain": [
       "[(('A', 'C'), 4),\n",
       " (('C', 'D'), 3),\n",
       " (('C', 'E'), 3),\n",
       " (('D', 'E'), 3),\n",
       " (('B', 'C'), 2),\n",
       " (('B', 'F'), 2),\n",
       " (('B', 'G'), 2),\n",
       " (('C', 'F'), 2),\n",
       " (('C', 'G'), 2),\n",
       " (('F', 'G'), 2),\n",
       " (('A', 'D'), 2),\n",
       " (('A', 'E'), 2),\n",
       " (('A', 'B'), 1),\n",
       " (('A', 'F'), 1),\n",
       " (('A', 'G'), 1),\n",
       " (('A', 'H'), 1),\n",
       " (('C', 'H'), 1),\n",
       " (('D', 'H'), 1),\n",
       " (('E', 'H'), 1)]"
      ]
     },
     "execution_count": 28,
     "metadata": {},
     "output_type": "execute_result"
    }
   ],
   "source": [
    "# 위에 내용을 Counter에 담아서 조합별 갯수를 세고,\n",
    "# .most_common() 함수로 갯수가 많은 순으로 정렬\n",
    "# .most_common() 함수는 키, 값을 튜플 형태로 반환\n",
    "most_ordered = collections.Counter(order_combinations).most_common()\n",
    "most_ordered"
   ]
  },
  {
   "cell_type": "markdown",
   "metadata": {},
   "source": [
    " * 가장 많이 주문된 조합은 맨 앞에 요소임 (most_ordered[0][1]) \n",
    " * 최소 2명 이상의 손님이 주문해야 코스요리 후보가 되므로,   \n",
    "   위에 most_ordered()에서 values가 2이상인 것만 추림"
   ]
  },
  {
   "cell_type": "code",
   "execution_count": 30,
   "metadata": {},
   "outputs": [
    {
     "data": {
      "text/plain": [
       "4"
      ]
     },
     "execution_count": 30,
     "metadata": {},
     "output_type": "execute_result"
    }
   ],
   "source": [
    "most_ordered[0][1]"
   ]
  },
  {
   "cell_type": "code",
   "execution_count": 32,
   "metadata": {},
   "outputs": [
    {
     "data": {
      "text/plain": [
       "[('A', 'C')]"
      ]
     },
     "execution_count": 32,
     "metadata": {},
     "output_type": "execute_result"
    }
   ],
   "source": [
    "result = []\n",
    "result += [ k for k, v in most_ordered if v > 1 and v == most_ordered[0][1] ]\n",
    "result"
   ]
  },
  {
   "cell_type": "markdown",
   "metadata": {},
   "source": [
    " * 전체 다\n",
    "    "
   ]
  },
  {
   "cell_type": "code",
   "execution_count": 35,
   "metadata": {},
   "outputs": [],
   "source": [
    "result = []\n",
    "\n",
    "for course_size in course:\n",
    "    order_combinations = []\n",
    "    for order in orders:\n",
    "        order_combinations += itertools.combinations(sorted(order), course_size)\n",
    "\n",
    "    most_ordered = collections.Counter(order_combinations).most_common()\n",
    "    result += [ k for k, v in most_ordered if v > 1 and v == most_ordered[0][1] ]"
   ]
  },
  {
   "cell_type": "code",
   "execution_count": 36,
   "metadata": {},
   "outputs": [
    {
     "data": {
      "text/plain": [
       "[('A', 'C'), ('C', 'D', 'E'), ('B', 'C', 'F', 'G'), ('A', 'C', 'D', 'E')]"
      ]
     },
     "execution_count": 36,
     "metadata": {},
     "output_type": "execute_result"
    }
   ],
   "source": [
    "result"
   ]
  },
  {
   "cell_type": "markdown",
   "metadata": {},
   "source": [
    " * 반환 값은 문자열이 담긴 리스트 형태"
   ]
  },
  {
   "cell_type": "code",
   "execution_count": 37,
   "metadata": {},
   "outputs": [
    {
     "data": {
      "text/plain": [
       "[('A', 'C'), ('A', 'C', 'D', 'E'), ('B', 'C', 'F', 'G'), ('C', 'D', 'E')]"
      ]
     },
     "execution_count": 37,
     "metadata": {},
     "output_type": "execute_result"
    }
   ],
   "source": [
    "sorted(result)"
   ]
  },
  {
   "cell_type": "markdown",
   "metadata": {},
   "source": [
    " * 튜플 -> 문자열 변환    (.join())\n",
    "     * \"\".join(반복가능객체) \n",
    "     * \"\"에는 요소 사이 구분자가 들어감"
   ]
  },
  {
   "cell_type": "code",
   "execution_count": 39,
   "metadata": {},
   "outputs": [
    {
     "data": {
      "text/plain": [
       "['AC', 'ACDE', 'BCFG', 'CDE']"
      ]
     },
     "execution_count": 39,
     "metadata": {},
     "output_type": "execute_result"
    }
   ],
   "source": [
    "# 위에 sorted(result)의 요소를 문자열로 변환\n",
    "result = [''.join(i) for i in sorted(result)]\n",
    "result"
   ]
  },
  {
   "cell_type": "code",
   "execution_count": null,
   "metadata": {},
   "outputs": [],
   "source": []
  },
  {
   "cell_type": "code",
   "execution_count": null,
   "metadata": {},
   "outputs": [],
   "source": []
  },
  {
   "cell_type": "code",
   "execution_count": null,
   "metadata": {},
   "outputs": [],
   "source": []
  }
 ],
 "metadata": {
  "kernelspec": {
   "display_name": "Python 3",
   "language": "python",
   "name": "python3"
  },
  "language_info": {
   "codemirror_mode": {
    "name": "ipython",
    "version": 3
   },
   "file_extension": ".py",
   "mimetype": "text/x-python",
   "name": "python",
   "nbconvert_exporter": "python",
   "pygments_lexer": "ipython3",
   "version": "3.8.5"
  }
 },
 "nbformat": 4,
 "nbformat_minor": 4
}
