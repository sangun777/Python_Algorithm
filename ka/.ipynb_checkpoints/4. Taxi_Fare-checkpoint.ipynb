{
 "cells": [
  {
   "cell_type": "markdown",
   "metadata": {},
   "source": [
    "[제한 사항]\n",
    "\n",
    "    * 지점갯수 n은 3 이상 200 이하인 자연수\n",
    "    * 지점 s, a, b는 1 이상 n 이하인 자연수이며, 각기 서로 다른 값\n",
    "    * fares는 2차원 정수 배열\n",
    "    * fares 배열의 크기는 2 이상 n x (n-1) / 2 이하\n",
    "    * 요금 f는 1 이상 100,000 이하인 자연수\n",
    "    * 출발지점 s에서 도착지점 a와 b로 가는 경로가 존재하는 경우만 입력으로 주어짐"
   ]
  },
  {
   "cell_type": "code",
   "execution_count": null,
   "metadata": {},
   "outputs": [],
   "source": [
    "DFS 같은데... 모르겠네 ㅠㅠ"
   ]
  },
  {
   "cell_type": "code",
   "execution_count": 4,
   "metadata": {},
   "outputs": [],
   "source": [
    "# Test Case 1\n",
    "n = 6\n",
    "s = 4\n",
    "a = 6\n",
    "b = 2\n",
    "fares = [[4, 1, 10], [3, 5, 24], [5, 6, 2], [3, 1, 41],   \\\n",
    "         [5, 1, 24], [4, 6, 50], [2, 4, 66], [2, 3, 22], [1, 6, 25]]\n",
    "\n",
    "# result = 82"
   ]
  },
  {
   "cell_type": "markdown",
   "metadata": {},
   "source": [
    "# 프로그래머스 정답"
   ]
  },
  {
   "cell_type": "code",
   "execution_count": null,
   "metadata": {},
   "outputs": [],
   "source": [
    "import heapq\n",
    "\n",
    "\n",
    "# 플로이드 와샬 = 전방향 다익스트라\n",
    "# 간선 가중치에 대한 table 만들고 덮어씀\n",
    "\n",
    "\n",
    "def solution(n, s, a, b, fares):\n",
    "    \n",
    "    # d : 거리 table\n",
    "    d = [ [ 20000001 for _ in range(n) ] for _ in range(n) ]\n",
    "    \n",
    "    for x in range(n):\n",
    "        d[x][x] = 0\n",
    "        \n",
    "        \n",
    "    # 양방향 간선 요금에 대하여 값 채우기    \n",
    "    for x, y, c in fares:\n",
    "        d[x-1][y-1] = c\n",
    "        d[y-1][x-1] = c\n",
    "        \n",
    "    for i in range(n):\n",
    "        for j in range(n):\n",
    "            for k in range(n):\n",
    "                if d[j][k] > d[j][i] + d[i][k]:\n",
    "                    d[j][k] = d[j][i] + d[i][k]  \n",
    "                    # 여기까지가 요금 fares로 table 만든 것\n",
    "                    # (j+1) 노드 -> (k+1) 노드 가격 보다 (j+1) -> (i+1) -> (k+1) 경로가 더 싸면 그 값으로 바꿈\n",
    "                    # 노드 2번 거치는 것은 생각 안해도 됨 => 어차피 누적이라 포함됨\n",
    "                    \n",
    "                    \n",
    "    minv = 40000002\n",
    "    for i in range(n):\n",
    "        minv = min(minv, d[s-1][i]+d[i][a-1]+d[i][b-1])\n",
    "    return minv\n",
    "\n",
    "# 20000001과\n",
    "# minv가 40000002는 최대값이라는 의미는 알겠는데 왜 값이 이런줄 모르겠음"
   ]
  },
  {
   "cell_type": "code",
   "execution_count": null,
   "metadata": {},
   "outputs": [],
   "source": []
  },
  {
   "cell_type": "code",
   "execution_count": null,
   "metadata": {},
   "outputs": [],
   "source": []
  },
  {
   "cell_type": "markdown",
   "metadata": {},
   "source": [
    "----------------------------------------------------------------------"
   ]
  },
  {
   "cell_type": "code",
   "execution_count": 6,
   "metadata": {},
   "outputs": [
    {
     "data": {
      "text/plain": [
       "[20000001, 20000001, 20000001]"
      ]
     },
     "execution_count": 6,
     "metadata": {},
     "output_type": "execute_result"
    }
   ],
   "source": [
    "a = [ 20000001 for _ in range(3) ] \n",
    "a"
   ]
  },
  {
   "cell_type": "code",
   "execution_count": 7,
   "metadata": {},
   "outputs": [
    {
     "data": {
      "text/plain": [
       "[[20000001, 20000001, 20000001],\n",
       " [20000001, 20000001, 20000001],\n",
       " [20000001, 20000001, 20000001]]"
      ]
     },
     "execution_count": 7,
     "metadata": {},
     "output_type": "execute_result"
    }
   ],
   "source": [
    "[ [ 20000001 for _ in range(3) ] for _ in range(3) ]"
   ]
  },
  {
   "cell_type": "code",
   "execution_count": 9,
   "metadata": {},
   "outputs": [
    {
     "data": {
      "text/plain": [
       "[[0, 20000001, 20000001, 20000001, 20000001, 20000001],\n",
       " [20000001, 0, 20000001, 20000001, 20000001, 20000001],\n",
       " [20000001, 20000001, 0, 20000001, 20000001, 20000001],\n",
       " [20000001, 20000001, 20000001, 0, 20000001, 20000001],\n",
       " [20000001, 20000001, 20000001, 20000001, 0, 20000001],\n",
       " [20000001, 20000001, 20000001, 20000001, 20000001, 0]]"
      ]
     },
     "execution_count": 9,
     "metadata": {},
     "output_type": "execute_result"
    }
   ],
   "source": [
    "d = [ [ 20000001 for _ in range(6) ] for _ in range(6) ]\n",
    "    \n",
    "for x in range(6):\n",
    "    d[x][x] = 0\n",
    "    \n",
    "d"
   ]
  },
  {
   "cell_type": "code",
   "execution_count": 10,
   "metadata": {},
   "outputs": [
    {
     "data": {
      "text/plain": [
       "[[0, 20000001, 41, 10, 24, 25],\n",
       " [20000001, 0, 22, 66, 20000001, 20000001],\n",
       " [41, 22, 0, 20000001, 24, 20000001],\n",
       " [10, 66, 20000001, 0, 20000001, 50],\n",
       " [24, 20000001, 24, 20000001, 0, 2],\n",
       " [25, 20000001, 20000001, 50, 2, 0]]"
      ]
     },
     "execution_count": 10,
     "metadata": {},
     "output_type": "execute_result"
    }
   ],
   "source": [
    "for x, y, c in fares:\n",
    "    d[x-1][y-1] = c\n",
    "    d[y-1][x-1] = c\n",
    "    \n",
    "d"
   ]
  },
  {
   "cell_type": "code",
   "execution_count": null,
   "metadata": {},
   "outputs": [],
   "source": []
  }
 ],
 "metadata": {
  "kernelspec": {
   "display_name": "Python 3",
   "language": "python",
   "name": "python3"
  },
  "language_info": {
   "codemirror_mode": {
    "name": "ipython",
    "version": 3
   },
   "file_extension": ".py",
   "mimetype": "text/x-python",
   "name": "python",
   "nbconvert_exporter": "python",
   "pygments_lexer": "ipython3",
   "version": "3.8.5"
  }
 },
 "nbformat": 4,
 "nbformat_minor": 4
}
