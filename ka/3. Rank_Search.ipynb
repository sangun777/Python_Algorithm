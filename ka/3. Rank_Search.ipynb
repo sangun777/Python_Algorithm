{
 "cells": [
  {
   "cell_type": "markdown",
   "metadata": {},
   "source": [
    "[문제]\n",
    "* info : 지원자의 4가지의 정보와 코딩테스트 점수를 하나의 문자열로 구성한 값의 배열\n",
    "* query : 개발팀이 궁금해하는 문의조건이 문자열 형태로 담긴 배열\n",
    "\n",
    "각 문의조건에 해당하는 사람들의 숫자를 순서대로 배열에 담아 return 하도록 solution 함수를 완성해 주세요."
   ]
  },
  {
   "cell_type": "markdown",
   "metadata": {},
   "source": [
    "[제한 사항]  \n",
    " * info\n",
    "   * info 배열의 크기는 1 이상 50,000 이하\n",
    "   * \"개발언어 직군 경력 소울푸드 점수\" 형식\n",
    "   * 개발언어는 cpp, java, python 중 하나\n",
    "   * 직군은 backend, frontend 중 하나\n",
    "   * 경력은 junior, senior 중 하나\n",
    "   * 소울푸드는 chicken, pizza 중 하나\n",
    "   * 점수는 코딩테스트 점수를 의미하며, 1 이상 100,000 이하인 자연수\n",
    "   * 각 단어는 공백문자(스페이스 바) 하나로 구분\n",
    "\n",
    " * query\n",
    "   * query 배열의 크기는 1 이상 100,000 이하\n",
    "   * '-' 표시는 해당 조건을 고려하지 않겠다는 의미입니다."
   ]
  },
  {
   "cell_type": "code",
   "execution_count": 41,
   "metadata": {},
   "outputs": [],
   "source": [
    "# Test case1\n",
    "info = [\"java backend junior pizza 150\",\"python frontend senior chicken 210\",\"python frontend senior chicken 150\",\"cpp backend senior pizza 260\",\"java backend junior chicken 80\",\"python backend senior chicken 50\"]\n",
    "query = [\"java and backend and junior and pizza 100\",\"python and frontend and senior and chicken 200\",\"cpp and - and senior and pizza 250\",\"- and backend and senior and - 150\",\"- and - and - and chicken 100\",\"- and - and - and - 150\"]\n",
    "\n",
    "# result = [1,1,1,1,2,4]"
   ]
  },
  {
   "cell_type": "code",
   "execution_count": 2,
   "metadata": {},
   "outputs": [],
   "source": [
    "def solution(info, query):\n",
    "    answer = []\n",
    "    return answer"
   ]
  },
  {
   "cell_type": "markdown",
   "metadata": {},
   "source": [
    "# 정답 풀이 및 설명 1. \n",
    "\n",
    " * 링크\n",
    "      * https://github.com/yuneg11/Programmers-Solutions/blob/master/solutions/72412%20-%20%EC%88%9C%EC%9C%84%20%EA%B2%80%EC%83%89/solution.py"
   ]
  },
  {
   "cell_type": "markdown",
   "metadata": {},
   "source": [
    " * query에 존재하는 모든 q에 대해서 info에 존재하는 모든 i를 확인 시,\n",
    " *   시간 복잡도는 O(N x M)이 됩니다. \n",
    "     문제 제한 사항에서 N = 50,000이고 M = 100,000라고 주어졌으므로 \n",
    "     for문이 최대 5,000,000,000번 실행되어야함\n",
    "     \n",
    "     \n",
    " * Q에 대한 모든 경우의 수 = 3(언어)*2(직군)*2(경력)*2(음식) = 24  \n",
    "  => 구조화 (해시) {key, value} = {조건, [점수들]}\n",
    "  \n",
    " * info의 각 요소는 24개의 집합 중 하나에만 포함\n",
    " * query의 경우 '-'을 포함하므로, 최대 24를 모두 순회\n"
   ]
  },
  {
   "cell_type": "code",
   "execution_count": 26,
   "metadata": {},
   "outputs": [
    {
     "ename": "SyntaxError",
     "evalue": "invalid syntax (<ipython-input-26-c483168afe53>, line 1)",
     "output_type": "error",
     "traceback": [
      "\u001b[1;36m  File \u001b[1;32m\"<ipython-input-26-c483168afe53>\"\u001b[1;36m, line \u001b[1;32m1\u001b[0m\n\u001b[1;33m    index = dict(contains list)\u001b[0m\n\u001b[1;37m                          ^\u001b[0m\n\u001b[1;31mSyntaxError\u001b[0m\u001b[1;31m:\u001b[0m invalid syntax\n"
     ]
    }
   ],
   "source": [
    "index = dict(contains list)"
   ]
  },
  {
   "cell_type": "markdown",
   "metadata": {},
   "source": [
    "# 프로그래머스 정답"
   ]
  },
  {
   "cell_type": "code",
   "execution_count": null,
   "metadata": {},
   "outputs": [],
   "source": [
    "def solution(info, query):\n",
    "    data = dict()\n",
    "    for a in ['cpp', 'java', 'python', '-']:\n",
    "        for b in ['backend', 'frontend', '-']:\n",
    "            for c in ['junior', 'senior', '-']:\n",
    "                for d in ['chicken', 'pizza', '-']:\n",
    "                    data.setdefault((a, b, c, d), list())\n",
    "    for i in info:\n",
    "        i = i.split()\n",
    "        for a in [i[0], '-']:\n",
    "            for b in [i[1], '-']:\n",
    "                for c in [i[2], '-']:\n",
    "                    for d in [i[3], '-']:\n",
    "                        data[(a, b, c, d)].append(int(i[4]))\n",
    "\n",
    "    for k in data:\n",
    "        data[k].sort()\n",
    "\n",
    "        # print(k, data[k])\n",
    "\n",
    "    answer = list()\n",
    "    for q in query:\n",
    "        q = q.split()\n",
    "\n",
    "        pool = data[(q[0], q[2], q[4], q[6])]\n",
    "        find = int(q[7])\n",
    "        l = 0\n",
    "        r = len(pool)\n",
    "        mid = 0\n",
    "        while l < r:\n",
    "            mid = (r+l)//2\n",
    "            if pool[mid] >= find:\n",
    "                r = mid\n",
    "            else:\n",
    "                l = mid+1\n",
    "            # print(l, r, mid, answer)\n",
    "        # answer.append((pool, find, mid))\n",
    "        answer.append(len(pool)-l)\n",
    "\n",
    "    return answer"
   ]
  },
  {
   "cell_type": "code",
   "execution_count": null,
   "metadata": {},
   "outputs": [],
   "source": []
  },
  {
   "cell_type": "code",
   "execution_count": 31,
   "metadata": {},
   "outputs": [
    {
     "data": {
      "text/plain": [
       "{('cpp', 'backend', 'junior', 'chicken'): [],\n",
       " ('cpp', 'backend', 'junior', 'pizza'): [],\n",
       " ('cpp', 'backend', 'junior', '-'): [],\n",
       " ('cpp', 'backend', 'senior', 'chicken'): [],\n",
       " ('cpp', 'backend', 'senior', 'pizza'): [],\n",
       " ('cpp', 'backend', 'senior', '-'): [],\n",
       " ('cpp', 'backend', '-', 'chicken'): [],\n",
       " ('cpp', 'backend', '-', 'pizza'): [],\n",
       " ('cpp', 'backend', '-', '-'): [],\n",
       " ('cpp', 'frontend', 'junior', 'chicken'): [],\n",
       " ('cpp', 'frontend', 'junior', 'pizza'): [],\n",
       " ('cpp', 'frontend', 'junior', '-'): [],\n",
       " ('cpp', 'frontend', 'senior', 'chicken'): [],\n",
       " ('cpp', 'frontend', 'senior', 'pizza'): [],\n",
       " ('cpp', 'frontend', 'senior', '-'): [],\n",
       " ('cpp', 'frontend', '-', 'chicken'): [],\n",
       " ('cpp', 'frontend', '-', 'pizza'): [],\n",
       " ('cpp', 'frontend', '-', '-'): [],\n",
       " ('cpp', '-', 'junior', 'chicken'): [],\n",
       " ('cpp', '-', 'junior', 'pizza'): [],\n",
       " ('cpp', '-', 'junior', '-'): [],\n",
       " ('cpp', '-', 'senior', 'chicken'): [],\n",
       " ('cpp', '-', 'senior', 'pizza'): [],\n",
       " ('cpp', '-', 'senior', '-'): [],\n",
       " ('cpp', '-', '-', 'chicken'): [],\n",
       " ('cpp', '-', '-', 'pizza'): [],\n",
       " ('cpp', '-', '-', '-'): [],\n",
       " ('java', 'backend', 'junior', 'chicken'): [],\n",
       " ('java', 'backend', 'junior', 'pizza'): [],\n",
       " ('java', 'backend', 'junior', '-'): [],\n",
       " ('java', 'backend', 'senior', 'chicken'): [],\n",
       " ('java', 'backend', 'senior', 'pizza'): [],\n",
       " ('java', 'backend', 'senior', '-'): [],\n",
       " ('java', 'backend', '-', 'chicken'): [],\n",
       " ('java', 'backend', '-', 'pizza'): [],\n",
       " ('java', 'backend', '-', '-'): [],\n",
       " ('java', 'frontend', 'junior', 'chicken'): [],\n",
       " ('java', 'frontend', 'junior', 'pizza'): [],\n",
       " ('java', 'frontend', 'junior', '-'): [],\n",
       " ('java', 'frontend', 'senior', 'chicken'): [],\n",
       " ('java', 'frontend', 'senior', 'pizza'): [],\n",
       " ('java', 'frontend', 'senior', '-'): [],\n",
       " ('java', 'frontend', '-', 'chicken'): [],\n",
       " ('java', 'frontend', '-', 'pizza'): [],\n",
       " ('java', 'frontend', '-', '-'): [],\n",
       " ('java', '-', 'junior', 'chicken'): [],\n",
       " ('java', '-', 'junior', 'pizza'): [],\n",
       " ('java', '-', 'junior', '-'): [],\n",
       " ('java', '-', 'senior', 'chicken'): [],\n",
       " ('java', '-', 'senior', 'pizza'): [],\n",
       " ('java', '-', 'senior', '-'): [],\n",
       " ('java', '-', '-', 'chicken'): [],\n",
       " ('java', '-', '-', 'pizza'): [],\n",
       " ('java', '-', '-', '-'): [],\n",
       " ('python', 'backend', 'junior', 'chicken'): [],\n",
       " ('python', 'backend', 'junior', 'pizza'): [],\n",
       " ('python', 'backend', 'junior', '-'): [],\n",
       " ('python', 'backend', 'senior', 'chicken'): [],\n",
       " ('python', 'backend', 'senior', 'pizza'): [],\n",
       " ('python', 'backend', 'senior', '-'): [],\n",
       " ('python', 'backend', '-', 'chicken'): [],\n",
       " ('python', 'backend', '-', 'pizza'): [],\n",
       " ('python', 'backend', '-', '-'): [],\n",
       " ('python', 'frontend', 'junior', 'chicken'): [],\n",
       " ('python', 'frontend', 'junior', 'pizza'): [],\n",
       " ('python', 'frontend', 'junior', '-'): [],\n",
       " ('python', 'frontend', 'senior', 'chicken'): [],\n",
       " ('python', 'frontend', 'senior', 'pizza'): [],\n",
       " ('python', 'frontend', 'senior', '-'): [],\n",
       " ('python', 'frontend', '-', 'chicken'): [],\n",
       " ('python', 'frontend', '-', 'pizza'): [],\n",
       " ('python', 'frontend', '-', '-'): [],\n",
       " ('python', '-', 'junior', 'chicken'): [],\n",
       " ('python', '-', 'junior', 'pizza'): [],\n",
       " ('python', '-', 'junior', '-'): [],\n",
       " ('python', '-', 'senior', 'chicken'): [],\n",
       " ('python', '-', 'senior', 'pizza'): [],\n",
       " ('python', '-', 'senior', '-'): [],\n",
       " ('python', '-', '-', 'chicken'): [],\n",
       " ('python', '-', '-', 'pizza'): [],\n",
       " ('python', '-', '-', '-'): [],\n",
       " ('-', 'backend', 'junior', 'chicken'): [],\n",
       " ('-', 'backend', 'junior', 'pizza'): [],\n",
       " ('-', 'backend', 'junior', '-'): [],\n",
       " ('-', 'backend', 'senior', 'chicken'): [],\n",
       " ('-', 'backend', 'senior', 'pizza'): [],\n",
       " ('-', 'backend', 'senior', '-'): [],\n",
       " ('-', 'backend', '-', 'chicken'): [],\n",
       " ('-', 'backend', '-', 'pizza'): [],\n",
       " ('-', 'backend', '-', '-'): [],\n",
       " ('-', 'frontend', 'junior', 'chicken'): [],\n",
       " ('-', 'frontend', 'junior', 'pizza'): [],\n",
       " ('-', 'frontend', 'junior', '-'): [],\n",
       " ('-', 'frontend', 'senior', 'chicken'): [],\n",
       " ('-', 'frontend', 'senior', 'pizza'): [],\n",
       " ('-', 'frontend', 'senior', '-'): [],\n",
       " ('-', 'frontend', '-', 'chicken'): [],\n",
       " ('-', 'frontend', '-', 'pizza'): [],\n",
       " ('-', 'frontend', '-', '-'): [],\n",
       " ('-', '-', 'junior', 'chicken'): [],\n",
       " ('-', '-', 'junior', 'pizza'): [],\n",
       " ('-', '-', 'junior', '-'): [],\n",
       " ('-', '-', 'senior', 'chicken'): [],\n",
       " ('-', '-', 'senior', 'pizza'): [],\n",
       " ('-', '-', 'senior', '-'): [],\n",
       " ('-', '-', '-', 'chicken'): [],\n",
       " ('-', '-', '-', 'pizza'): [],\n",
       " ('-', '-', '-', '-'): []}"
      ]
     },
     "execution_count": 31,
     "metadata": {},
     "output_type": "execute_result"
    }
   ],
   "source": [
    "# info에 대한 구조체 생성 24개 ex {('cpp', 'backend', 'junior', 'chicken'): [], ...}\n",
    "data = dict()\n",
    "for a in ['cpp', 'java', 'python', '-']:\n",
    "    for b in ['backend', 'frontend', '-']:\n",
    "        for c in ['junior', 'senior', '-']:\n",
    "            for d in ['chicken', 'pizza', '-']:\n",
    "                data.setdefault((a, b, c, d), list())\n",
    "                \n",
    "data"
   ]
  },
  {
   "cell_type": "code",
   "execution_count": 35,
   "metadata": {},
   "outputs": [],
   "source": [
    "for i in info:\n",
    "    i = i.split()  ## 예시  i = [\"java\", \"backend\", \"junior\", \"pizza\", \"150\"]\n",
    "    for a in [i[0], '-']:\n",
    "        for b in [i[1], '-']:\n",
    "            for c in [i[2], '-']:\n",
    "                for d in [i[3], '-']:\n",
    "                    data[(a, b, c, d)].append(int(i[4]))"
   ]
  },
  {
   "cell_type": "code",
   "execution_count": 36,
   "metadata": {},
   "outputs": [
    {
     "data": {
      "text/plain": [
       "{('cpp', 'backend', 'junior', 'chicken'): [],\n",
       " ('cpp', 'backend', 'junior', 'pizza'): [],\n",
       " ('cpp', 'backend', 'junior', '-'): [],\n",
       " ('cpp', 'backend', 'senior', 'chicken'): [],\n",
       " ('cpp', 'backend', 'senior', 'pizza'): [260],\n",
       " ('cpp', 'backend', 'senior', '-'): [260],\n",
       " ('cpp', 'backend', '-', 'chicken'): [],\n",
       " ('cpp', 'backend', '-', 'pizza'): [260],\n",
       " ('cpp', 'backend', '-', '-'): [260],\n",
       " ('cpp', 'frontend', 'junior', 'chicken'): [],\n",
       " ('cpp', 'frontend', 'junior', 'pizza'): [],\n",
       " ('cpp', 'frontend', 'junior', '-'): [],\n",
       " ('cpp', 'frontend', 'senior', 'chicken'): [],\n",
       " ('cpp', 'frontend', 'senior', 'pizza'): [],\n",
       " ('cpp', 'frontend', 'senior', '-'): [],\n",
       " ('cpp', 'frontend', '-', 'chicken'): [],\n",
       " ('cpp', 'frontend', '-', 'pizza'): [],\n",
       " ('cpp', 'frontend', '-', '-'): [],\n",
       " ('cpp', '-', 'junior', 'chicken'): [],\n",
       " ('cpp', '-', 'junior', 'pizza'): [],\n",
       " ('cpp', '-', 'junior', '-'): [],\n",
       " ('cpp', '-', 'senior', 'chicken'): [],\n",
       " ('cpp', '-', 'senior', 'pizza'): [260],\n",
       " ('cpp', '-', 'senior', '-'): [260],\n",
       " ('cpp', '-', '-', 'chicken'): [],\n",
       " ('cpp', '-', '-', 'pizza'): [260],\n",
       " ('cpp', '-', '-', '-'): [260],\n",
       " ('java', 'backend', 'junior', 'chicken'): [80],\n",
       " ('java', 'backend', 'junior', 'pizza'): [150],\n",
       " ('java', 'backend', 'junior', '-'): [150, 80],\n",
       " ('java', 'backend', 'senior', 'chicken'): [],\n",
       " ('java', 'backend', 'senior', 'pizza'): [],\n",
       " ('java', 'backend', 'senior', '-'): [],\n",
       " ('java', 'backend', '-', 'chicken'): [80],\n",
       " ('java', 'backend', '-', 'pizza'): [150],\n",
       " ('java', 'backend', '-', '-'): [150, 80],\n",
       " ('java', 'frontend', 'junior', 'chicken'): [],\n",
       " ('java', 'frontend', 'junior', 'pizza'): [],\n",
       " ('java', 'frontend', 'junior', '-'): [],\n",
       " ('java', 'frontend', 'senior', 'chicken'): [],\n",
       " ('java', 'frontend', 'senior', 'pizza'): [],\n",
       " ('java', 'frontend', 'senior', '-'): [],\n",
       " ('java', 'frontend', '-', 'chicken'): [],\n",
       " ('java', 'frontend', '-', 'pizza'): [],\n",
       " ('java', 'frontend', '-', '-'): [],\n",
       " ('java', '-', 'junior', 'chicken'): [80],\n",
       " ('java', '-', 'junior', 'pizza'): [150],\n",
       " ('java', '-', 'junior', '-'): [150, 80],\n",
       " ('java', '-', 'senior', 'chicken'): [],\n",
       " ('java', '-', 'senior', 'pizza'): [],\n",
       " ('java', '-', 'senior', '-'): [],\n",
       " ('java', '-', '-', 'chicken'): [80],\n",
       " ('java', '-', '-', 'pizza'): [150],\n",
       " ('java', '-', '-', '-'): [150, 80],\n",
       " ('python', 'backend', 'junior', 'chicken'): [],\n",
       " ('python', 'backend', 'junior', 'pizza'): [],\n",
       " ('python', 'backend', 'junior', '-'): [],\n",
       " ('python', 'backend', 'senior', 'chicken'): [50],\n",
       " ('python', 'backend', 'senior', 'pizza'): [],\n",
       " ('python', 'backend', 'senior', '-'): [50],\n",
       " ('python', 'backend', '-', 'chicken'): [50],\n",
       " ('python', 'backend', '-', 'pizza'): [],\n",
       " ('python', 'backend', '-', '-'): [50],\n",
       " ('python', 'frontend', 'junior', 'chicken'): [],\n",
       " ('python', 'frontend', 'junior', 'pizza'): [],\n",
       " ('python', 'frontend', 'junior', '-'): [],\n",
       " ('python', 'frontend', 'senior', 'chicken'): [210, 150],\n",
       " ('python', 'frontend', 'senior', 'pizza'): [],\n",
       " ('python', 'frontend', 'senior', '-'): [210, 150],\n",
       " ('python', 'frontend', '-', 'chicken'): [210, 150],\n",
       " ('python', 'frontend', '-', 'pizza'): [],\n",
       " ('python', 'frontend', '-', '-'): [210, 150],\n",
       " ('python', '-', 'junior', 'chicken'): [],\n",
       " ('python', '-', 'junior', 'pizza'): [],\n",
       " ('python', '-', 'junior', '-'): [],\n",
       " ('python', '-', 'senior', 'chicken'): [210, 150, 50],\n",
       " ('python', '-', 'senior', 'pizza'): [],\n",
       " ('python', '-', 'senior', '-'): [210, 150, 50],\n",
       " ('python', '-', '-', 'chicken'): [210, 150, 50],\n",
       " ('python', '-', '-', 'pizza'): [],\n",
       " ('python', '-', '-', '-'): [210, 150, 50],\n",
       " ('-', 'backend', 'junior', 'chicken'): [80],\n",
       " ('-', 'backend', 'junior', 'pizza'): [150],\n",
       " ('-', 'backend', 'junior', '-'): [150, 80],\n",
       " ('-', 'backend', 'senior', 'chicken'): [50],\n",
       " ('-', 'backend', 'senior', 'pizza'): [260],\n",
       " ('-', 'backend', 'senior', '-'): [260, 50],\n",
       " ('-', 'backend', '-', 'chicken'): [80, 50],\n",
       " ('-', 'backend', '-', 'pizza'): [150, 260],\n",
       " ('-', 'backend', '-', '-'): [150, 260, 80, 50],\n",
       " ('-', 'frontend', 'junior', 'chicken'): [],\n",
       " ('-', 'frontend', 'junior', 'pizza'): [],\n",
       " ('-', 'frontend', 'junior', '-'): [],\n",
       " ('-', 'frontend', 'senior', 'chicken'): [210, 150],\n",
       " ('-', 'frontend', 'senior', 'pizza'): [],\n",
       " ('-', 'frontend', 'senior', '-'): [210, 150],\n",
       " ('-', 'frontend', '-', 'chicken'): [210, 150],\n",
       " ('-', 'frontend', '-', 'pizza'): [],\n",
       " ('-', 'frontend', '-', '-'): [210, 150],\n",
       " ('-', '-', 'junior', 'chicken'): [80],\n",
       " ('-', '-', 'junior', 'pizza'): [150],\n",
       " ('-', '-', 'junior', '-'): [150, 80],\n",
       " ('-', '-', 'senior', 'chicken'): [210, 150, 50],\n",
       " ('-', '-', 'senior', 'pizza'): [260],\n",
       " ('-', '-', 'senior', '-'): [210, 150, 260, 50],\n",
       " ('-', '-', '-', 'chicken'): [210, 150, 80, 50],\n",
       " ('-', '-', '-', 'pizza'): [150, 260],\n",
       " ('-', '-', '-', '-'): [150, 210, 150, 260, 80, 50]}"
      ]
     },
     "execution_count": 36,
     "metadata": {},
     "output_type": "execute_result"
    }
   ],
   "source": [
    "data"
   ]
  },
  {
   "cell_type": "code",
   "execution_count": 39,
   "metadata": {},
   "outputs": [],
   "source": [
    "for k in data:\n",
    "    data[k].sort()    # data 딕셔너리의 요소들의 각 값을 오름차순으로 정리"
   ]
  },
  {
   "cell_type": "code",
   "execution_count": 40,
   "metadata": {},
   "outputs": [
    {
     "data": {
      "text/plain": [
       "{('cpp', 'backend', 'junior', 'chicken'): [],\n",
       " ('cpp', 'backend', 'junior', 'pizza'): [],\n",
       " ('cpp', 'backend', 'junior', '-'): [],\n",
       " ('cpp', 'backend', 'senior', 'chicken'): [],\n",
       " ('cpp', 'backend', 'senior', 'pizza'): [260],\n",
       " ('cpp', 'backend', 'senior', '-'): [260],\n",
       " ('cpp', 'backend', '-', 'chicken'): [],\n",
       " ('cpp', 'backend', '-', 'pizza'): [260],\n",
       " ('cpp', 'backend', '-', '-'): [260],\n",
       " ('cpp', 'frontend', 'junior', 'chicken'): [],\n",
       " ('cpp', 'frontend', 'junior', 'pizza'): [],\n",
       " ('cpp', 'frontend', 'junior', '-'): [],\n",
       " ('cpp', 'frontend', 'senior', 'chicken'): [],\n",
       " ('cpp', 'frontend', 'senior', 'pizza'): [],\n",
       " ('cpp', 'frontend', 'senior', '-'): [],\n",
       " ('cpp', 'frontend', '-', 'chicken'): [],\n",
       " ('cpp', 'frontend', '-', 'pizza'): [],\n",
       " ('cpp', 'frontend', '-', '-'): [],\n",
       " ('cpp', '-', 'junior', 'chicken'): [],\n",
       " ('cpp', '-', 'junior', 'pizza'): [],\n",
       " ('cpp', '-', 'junior', '-'): [],\n",
       " ('cpp', '-', 'senior', 'chicken'): [],\n",
       " ('cpp', '-', 'senior', 'pizza'): [260],\n",
       " ('cpp', '-', 'senior', '-'): [260],\n",
       " ('cpp', '-', '-', 'chicken'): [],\n",
       " ('cpp', '-', '-', 'pizza'): [260],\n",
       " ('cpp', '-', '-', '-'): [260],\n",
       " ('java', 'backend', 'junior', 'chicken'): [80],\n",
       " ('java', 'backend', 'junior', 'pizza'): [150],\n",
       " ('java', 'backend', 'junior', '-'): [80, 150],\n",
       " ('java', 'backend', 'senior', 'chicken'): [],\n",
       " ('java', 'backend', 'senior', 'pizza'): [],\n",
       " ('java', 'backend', 'senior', '-'): [],\n",
       " ('java', 'backend', '-', 'chicken'): [80],\n",
       " ('java', 'backend', '-', 'pizza'): [150],\n",
       " ('java', 'backend', '-', '-'): [80, 150],\n",
       " ('java', 'frontend', 'junior', 'chicken'): [],\n",
       " ('java', 'frontend', 'junior', 'pizza'): [],\n",
       " ('java', 'frontend', 'junior', '-'): [],\n",
       " ('java', 'frontend', 'senior', 'chicken'): [],\n",
       " ('java', 'frontend', 'senior', 'pizza'): [],\n",
       " ('java', 'frontend', 'senior', '-'): [],\n",
       " ('java', 'frontend', '-', 'chicken'): [],\n",
       " ('java', 'frontend', '-', 'pizza'): [],\n",
       " ('java', 'frontend', '-', '-'): [],\n",
       " ('java', '-', 'junior', 'chicken'): [80],\n",
       " ('java', '-', 'junior', 'pizza'): [150],\n",
       " ('java', '-', 'junior', '-'): [80, 150],\n",
       " ('java', '-', 'senior', 'chicken'): [],\n",
       " ('java', '-', 'senior', 'pizza'): [],\n",
       " ('java', '-', 'senior', '-'): [],\n",
       " ('java', '-', '-', 'chicken'): [80],\n",
       " ('java', '-', '-', 'pizza'): [150],\n",
       " ('java', '-', '-', '-'): [80, 150],\n",
       " ('python', 'backend', 'junior', 'chicken'): [],\n",
       " ('python', 'backend', 'junior', 'pizza'): [],\n",
       " ('python', 'backend', 'junior', '-'): [],\n",
       " ('python', 'backend', 'senior', 'chicken'): [50],\n",
       " ('python', 'backend', 'senior', 'pizza'): [],\n",
       " ('python', 'backend', 'senior', '-'): [50],\n",
       " ('python', 'backend', '-', 'chicken'): [50],\n",
       " ('python', 'backend', '-', 'pizza'): [],\n",
       " ('python', 'backend', '-', '-'): [50],\n",
       " ('python', 'frontend', 'junior', 'chicken'): [],\n",
       " ('python', 'frontend', 'junior', 'pizza'): [],\n",
       " ('python', 'frontend', 'junior', '-'): [],\n",
       " ('python', 'frontend', 'senior', 'chicken'): [150, 210],\n",
       " ('python', 'frontend', 'senior', 'pizza'): [],\n",
       " ('python', 'frontend', 'senior', '-'): [150, 210],\n",
       " ('python', 'frontend', '-', 'chicken'): [150, 210],\n",
       " ('python', 'frontend', '-', 'pizza'): [],\n",
       " ('python', 'frontend', '-', '-'): [150, 210],\n",
       " ('python', '-', 'junior', 'chicken'): [],\n",
       " ('python', '-', 'junior', 'pizza'): [],\n",
       " ('python', '-', 'junior', '-'): [],\n",
       " ('python', '-', 'senior', 'chicken'): [50, 150, 210],\n",
       " ('python', '-', 'senior', 'pizza'): [],\n",
       " ('python', '-', 'senior', '-'): [50, 150, 210],\n",
       " ('python', '-', '-', 'chicken'): [50, 150, 210],\n",
       " ('python', '-', '-', 'pizza'): [],\n",
       " ('python', '-', '-', '-'): [50, 150, 210],\n",
       " ('-', 'backend', 'junior', 'chicken'): [80],\n",
       " ('-', 'backend', 'junior', 'pizza'): [150],\n",
       " ('-', 'backend', 'junior', '-'): [80, 150],\n",
       " ('-', 'backend', 'senior', 'chicken'): [50],\n",
       " ('-', 'backend', 'senior', 'pizza'): [260],\n",
       " ('-', 'backend', 'senior', '-'): [50, 260],\n",
       " ('-', 'backend', '-', 'chicken'): [50, 80],\n",
       " ('-', 'backend', '-', 'pizza'): [150, 260],\n",
       " ('-', 'backend', '-', '-'): [50, 80, 150, 260],\n",
       " ('-', 'frontend', 'junior', 'chicken'): [],\n",
       " ('-', 'frontend', 'junior', 'pizza'): [],\n",
       " ('-', 'frontend', 'junior', '-'): [],\n",
       " ('-', 'frontend', 'senior', 'chicken'): [150, 210],\n",
       " ('-', 'frontend', 'senior', 'pizza'): [],\n",
       " ('-', 'frontend', 'senior', '-'): [150, 210],\n",
       " ('-', 'frontend', '-', 'chicken'): [150, 210],\n",
       " ('-', 'frontend', '-', 'pizza'): [],\n",
       " ('-', 'frontend', '-', '-'): [150, 210],\n",
       " ('-', '-', 'junior', 'chicken'): [80],\n",
       " ('-', '-', 'junior', 'pizza'): [150],\n",
       " ('-', '-', 'junior', '-'): [80, 150],\n",
       " ('-', '-', 'senior', 'chicken'): [50, 150, 210],\n",
       " ('-', '-', 'senior', 'pizza'): [260],\n",
       " ('-', '-', 'senior', '-'): [50, 150, 210, 260],\n",
       " ('-', '-', '-', 'chicken'): [50, 80, 150, 210],\n",
       " ('-', '-', '-', 'pizza'): [150, 260],\n",
       " ('-', '-', '-', '-'): [50, 80, 150, 150, 210, 260]}"
      ]
     },
     "execution_count": 40,
     "metadata": {},
     "output_type": "execute_result"
    }
   ],
   "source": [
    "data"
   ]
  },
  {
   "cell_type": "code",
   "execution_count": 42,
   "metadata": {},
   "outputs": [],
   "source": [
    "answer = list()\n",
    "\n",
    "for q in query:\n",
    "    q = q.split()\n",
    "    \n",
    "    pool = data[(q[0], q[2], q[4], q[6])]   # 0, 2, 4, 6은 각각 언어, 직무, ...\n",
    "    # pool : 현재 query에 해당하는 점수 리스트\n",
    "    find = int(q[7])   # Query에서 원하는 점수\n",
    "    l = 0\n",
    "    r = len(pool)\n",
    "    mid = 0\n",
    "    while l < r :    # 퀵 정렬 사용한 \n",
    "        mid = (r+l)//2\n",
    "        if pool[mid] >=2 find:\n",
    "            r = mid\n",
    "        else:\n",
    "            l = mid+1\n",
    "            \n",
    "    answer.append(len(pool)-l)\n",
    "    \n",
    "return answer"
   ]
  },
  {
   "cell_type": "code",
   "execution_count": 44,
   "metadata": {},
   "outputs": [
    {
     "data": {
      "text/plain": [
       "2"
      ]
     },
     "execution_count": 44,
     "metadata": {},
     "output_type": "execute_result"
    }
   ],
   "source": []
  },
  {
   "cell_type": "code",
   "execution_count": 43,
   "metadata": {},
   "outputs": [
    {
     "data": {
      "text/plain": [
       "['-', 'and', '-', 'and', '-', 'and', '-', '150']"
      ]
     },
     "execution_count": 43,
     "metadata": {},
     "output_type": "execute_result"
    }
   ],
   "source": [
    "q"
   ]
  },
  {
   "cell_type": "code",
   "execution_count": null,
   "metadata": {},
   "outputs": [],
   "source": []
  },
  {
   "cell_type": "code",
   "execution_count": null,
   "metadata": {},
   "outputs": [],
   "source": []
  },
  {
   "cell_type": "markdown",
   "metadata": {},
   "source": [
    "## 내풀이\n",
    "    제출 결과 : 정확성 100%, 효율성 0% (시간 초과)"
   ]
  },
  {
   "cell_type": "markdown",
   "metadata": {},
   "source": [
    "# brain storm\n",
    "\n",
    "(java, back, jun, pizzza, 150) 이런식으로 자료형을 만들고\n",
    "query를 받으면 query 요소 하나하나를 빼내어서 읽음\n",
    "\"java and backend and junior and pizza 100\" 빼내면\n",
    "이 query도\n",
    "(java, back, jun, pizza, 100) 이렇게 만드는 거지\n",
    "\n",
    "그리고 둘을 비교(조건문)해서 카운트\n"
   ]
  },
  {
   "cell_type": "code",
   "execution_count": null,
   "metadata": {},
   "outputs": [],
   "source": [
    "# 제출 풀이\n",
    "def solution(info, query):\n",
    "    \n",
    "    # info에서 각 항목을 요소로 갖는 리스트를 갖는 리스트로 변경\n",
    "    # [['java', 'backend', 'junior', 'pizza', '150'],...]\n",
    "    info_1_split = []\n",
    "\n",
    "    for i in info:\n",
    "        info_1_split.append(i.split())\n",
    "    \n",
    "    # query도 마찬가지로 변경\n",
    "    # 처음에는 \" and \"로 맨 마지막 점수는 따로 다시 분리\n",
    "    q_list = []\n",
    "\n",
    "    for j in query:\n",
    "        s = j.split(\" and \")\n",
    "        q_list.append(s[:-1] + s[-1].split(\" \"))\n",
    "    \n",
    "    # 결과 산출\n",
    "    result = []\n",
    "\n",
    "    for q1 in q_list:\n",
    "    \n",
    "        cnt = 0\n",
    "    \n",
    "        for i in range(len(info_1_split)):\n",
    "            if ((info_1_split[i][0] == q1[0] or q1[0] == '-') and\n",
    "            (info_1_split[i][1] == q1[1] or q1[1] == '-') and\n",
    "            (info_1_split[i][2] == q1[2] or q1[2] == '-') and\n",
    "            (info_1_split[i][3] == q1[3] or q1[3] == '-') and\n",
    "            (int(info_1_split[i][4]) >= int(q1[4]))):        # 점수는 int형으로 바꿔주어야함!!!\n",
    "                cnt += 1\n",
    "            \n",
    "        result.append(cnt)\n",
    "        \n",
    "    return result"
   ]
  },
  {
   "cell_type": "markdown",
   "metadata": {},
   "source": [
    "# 내 풀이방식 분해 정리"
   ]
  },
  {
   "cell_type": "markdown",
   "metadata": {},
   "source": [
    " * 단계 1. info의 문자열 요소를 리스트로 바꿔보자\n"
   ]
  },
  {
   "cell_type": "code",
   "execution_count": 3,
   "metadata": {},
   "outputs": [
    {
     "data": {
      "text/plain": [
       "['java', 'backend', 'junior', 'pizza', '150']"
      ]
     },
     "execution_count": 3,
     "metadata": {},
     "output_type": "execute_result"
    }
   ],
   "source": [
    "\"java backend junior pizza 150\".split()"
   ]
  },
  {
   "cell_type": "code",
   "execution_count": 6,
   "metadata": {},
   "outputs": [],
   "source": [
    "# Test case1\n",
    "info = [\"java backend junior pizza 150\",\"python frontend senior chicken 210\",\"python frontend senior chicken 150\",\"cpp backend senior pizza 260\",\"java backend junior chicken 80\",\"python backend senior chicken 50\"]\n",
    "query = [\"java and backend and junior and pizza 100\",\"python and frontend and senior and chicken 200\",\"cpp and - and senior and pizza 250\",\"- and backend and senior and - 150\",\"- and - and - and chicken 100\",\"- and - and - and - 150\"]\n",
    "\n",
    "# result = [1,1,1,1,2,4]"
   ]
  },
  {
   "cell_type": "markdown",
   "metadata": {},
   "source": [
    " * 1단계 info 변형"
   ]
  },
  {
   "cell_type": "code",
   "execution_count": 8,
   "metadata": {},
   "outputs": [
    {
     "data": {
      "text/plain": [
       "[['java', 'backend', 'junior', 'pizza', '150'],\n",
       " ['python', 'frontend', 'senior', 'chicken', '210'],\n",
       " ['python', 'frontend', 'senior', 'chicken', '150'],\n",
       " ['cpp', 'backend', 'senior', 'pizza', '260'],\n",
       " ['java', 'backend', 'junior', 'chicken', '80'],\n",
       " ['python', 'backend', 'senior', 'chicken', '50']]"
      ]
     },
     "execution_count": 8,
     "metadata": {},
     "output_type": "execute_result"
    }
   ],
   "source": [
    "## info에서 1단계 바꾸었고, split 주었다는 뜻의 변수 생성\n",
    "info_1_split = []\n",
    "\n",
    "for i in info:\n",
    "    info_1_split.append(i.split())\n",
    "    \n",
    "info_1_split"
   ]
  },
  {
   "cell_type": "markdown",
   "metadata": {},
   "source": [
    " * 2단계 query 변형"
   ]
  },
  {
   "cell_type": "code",
   "execution_count": 11,
   "metadata": {},
   "outputs": [
    {
     "data": {
      "text/plain": [
       "['java', 'backend', 'junior', 'pizza 100']"
      ]
     },
     "execution_count": 11,
     "metadata": {},
     "output_type": "execute_result"
    }
   ],
   "source": [
    "s = \"java and backend and junior and pizza 100\".split(\" and \")\n",
    "\n",
    "s\n",
    "# 마지막 점수는 따로 분리해야할 듯"
   ]
  },
  {
   "cell_type": "markdown",
   "metadata": {},
   "source": [
    " 2-2. 점수 분리"
   ]
  },
  {
   "cell_type": "code",
   "execution_count": 12,
   "metadata": {},
   "outputs": [
    {
     "data": {
      "text/plain": [
       "['pizza', '100']"
      ]
     },
     "execution_count": 12,
     "metadata": {},
     "output_type": "execute_result"
    }
   ],
   "source": [
    "s[-1].split(\" \")"
   ]
  },
  {
   "cell_type": "code",
   "execution_count": 13,
   "metadata": {},
   "outputs": [
    {
     "data": {
      "text/plain": [
       "['java', 'backend', 'junior']"
      ]
     },
     "execution_count": 13,
     "metadata": {},
     "output_type": "execute_result"
    }
   ],
   "source": [
    "s[:-1]"
   ]
  },
  {
   "cell_type": "code",
   "execution_count": 14,
   "metadata": {},
   "outputs": [
    {
     "data": {
      "text/plain": [
       "['java', 'backend', 'junior', 'pizza', '100']"
      ]
     },
     "execution_count": 14,
     "metadata": {},
     "output_type": "execute_result"
    }
   ],
   "source": [
    "s[:-1] + s[-1].split(\" \")"
   ]
  },
  {
   "cell_type": "markdown",
   "metadata": {},
   "source": [
    " *  전체 적용"
   ]
  },
  {
   "cell_type": "code",
   "execution_count": 15,
   "metadata": {},
   "outputs": [
    {
     "data": {
      "text/plain": [
       "[['java', 'backend', 'junior', 'pizza', '100'],\n",
       " ['python', 'frontend', 'senior', 'chicken', '200'],\n",
       " ['cpp', '-', 'senior', 'pizza', '250'],\n",
       " ['-', 'backend', 'senior', '-', '150'],\n",
       " ['-', '-', '-', 'chicken', '100'],\n",
       " ['-', '-', '-', '-', '150']]"
      ]
     },
     "execution_count": 15,
     "metadata": {},
     "output_type": "execute_result"
    }
   ],
   "source": [
    "q_list = []\n",
    "\n",
    "for j in query:\n",
    "    s = j.split(\" and \")\n",
    "    q_list.append(s[:-1] + s[-1].split(\" \"))\n",
    "    \n",
    "q_list"
   ]
  },
  {
   "cell_type": "markdown",
   "metadata": {},
   "source": [
    " * 한 번 한개 query만 인원수 구해보기"
   ]
  },
  {
   "cell_type": "code",
   "execution_count": 22,
   "metadata": {},
   "outputs": [
    {
     "name": "stdout",
     "output_type": "stream",
     "text": [
      "6\n"
     ]
    }
   ],
   "source": [
    "# q1 = ['java', 'backend', 'junior', 'pizza', '100']\n",
    "q1 = ['-', '-', '-', '-', '150']\n",
    "\n",
    "cnt = 0\n",
    "\n",
    "for i in range(len(info_1_split)):\n",
    "    if ((info_1_split[i][0] == q1[0] or q1[0] == '-') and\n",
    "    (info_1_split[i][1] == q1[1] or q1[1] == '-') and\n",
    "    (info_1_split[i][2] == q1[2] or q1[2] == '-') and\n",
    "    (info_1_split[i][3] == q1[3] or q1[3] == '-') and\n",
    "    (info_1_split[i][4] >= q1[4])):\n",
    "        cnt += 1\n",
    "\n",
    "print(cnt)"
   ]
  },
  {
   "cell_type": "code",
   "execution_count": 16,
   "metadata": {},
   "outputs": [
    {
     "data": {
      "text/plain": [
       "'java'"
      ]
     },
     "execution_count": 16,
     "metadata": {},
     "output_type": "execute_result"
    }
   ],
   "source": [
    "q1 = ['java', 'backend', 'junior', 'pizza', '100']\n",
    "q1[0]"
   ]
  },
  {
   "cell_type": "code",
   "execution_count": 17,
   "metadata": {},
   "outputs": [
    {
     "data": {
      "text/plain": [
       "'java'"
      ]
     },
     "execution_count": 17,
     "metadata": {},
     "output_type": "execute_result"
    }
   ],
   "source": [
    "info_1_split[0][0]"
   ]
  },
  {
   "cell_type": "markdown",
   "metadata": {},
   "source": [
    " * 전체 query로 해보자"
   ]
  },
  {
   "cell_type": "code",
   "execution_count": 24,
   "metadata": {},
   "outputs": [
    {
     "name": "stdout",
     "output_type": "stream",
     "text": [
      "['java', 'backend', 'junior', 'pizza', '100']\n",
      "['python', 'frontend', 'senior', 'chicken', '200']\n",
      "['cpp', '-', 'senior', 'pizza', '250']\n",
      "['-', 'backend', 'senior', '-', '150']\n",
      "['-', '-', '-', 'chicken', '100']\n",
      "['-', '-', '-', '-', '150']\n"
     ]
    }
   ],
   "source": [
    "for q1 in q_list:\n",
    "    print(q1)"
   ]
  },
  {
   "cell_type": "code",
   "execution_count": 25,
   "metadata": {},
   "outputs": [
    {
     "data": {
      "text/plain": [
       "[1, 1, 1, 2, 4, 6]"
      ]
     },
     "execution_count": 25,
     "metadata": {},
     "output_type": "execute_result"
    }
   ],
   "source": [
    "result = []\n",
    "\n",
    "for q1 in q_list:\n",
    "    \n",
    "    cnt = 0\n",
    "    \n",
    "    for i in range(len(info_1_split)):\n",
    "        if ((info_1_split[i][0] == q1[0] or q1[0] == '-') and\n",
    "        (info_1_split[i][1] == q1[1] or q1[1] == '-') and\n",
    "        (info_1_split[i][2] == q1[2] or q1[2] == '-') and\n",
    "        (info_1_split[i][3] == q1[3] or q1[3] == '-') and\n",
    "        (int(info_1_split[i][4]) >= int(q1[4]))):    # 점수는 int형으로 바꿔주어야함!!!\n",
    "            cnt += 1\n",
    "            \n",
    "    result.append(cnt)\n",
    "\n",
    "result"
   ]
  },
  {
   "cell_type": "code",
   "execution_count": null,
   "metadata": {},
   "outputs": [],
   "source": []
  },
  {
   "cell_type": "code",
   "execution_count": null,
   "metadata": {},
   "outputs": [],
   "source": []
  }
 ],
 "metadata": {
  "kernelspec": {
   "display_name": "Python 3",
   "language": "python",
   "name": "python3"
  },
  "language_info": {
   "codemirror_mode": {
    "name": "ipython",
    "version": 3
   },
   "file_extension": ".py",
   "mimetype": "text/x-python",
   "name": "python",
   "nbconvert_exporter": "python",
   "pygments_lexer": "ipython3",
   "version": "3.8.5"
  }
 },
 "nbformat": 4,
 "nbformat_minor": 4
}
