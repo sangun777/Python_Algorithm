{
 "cells": [
  {
   "cell_type": "code",
   "execution_count": 2,
   "id": "53bc47e3",
   "metadata": {},
   "outputs": [
    {
     "name": "stdout",
     "output_type": "stream",
     "text": [
      "4 3\n",
      "11\n"
     ]
    }
   ],
   "source": [
    "N, M = map(int, input().split())\n",
    "\n",
    "# 풀이 : 행과 열 중 작은거와 큰거로 나눈후, 행이 크면, 열먼저 쪼개고, 열이 크면 행 먼저 쪼개는 것이 한번 쪼갤 때, 많이 쪼개짐\n",
    "\n",
    "if N>=M:\n",
    "    S = M\n",
    "    L = N\n",
    "else:\n",
    "    S = N\n",
    "    L = M\n",
    "\n",
    "print((S-1)+(L-1)*S)"
   ]
  }
 ],
 "metadata": {
  "kernelspec": {
   "display_name": "Python 3",
   "language": "python",
   "name": "python3"
  },
  "language_info": {
   "codemirror_mode": {
    "name": "ipython",
    "version": 3
   },
   "file_extension": ".py",
   "mimetype": "text/x-python",
   "name": "python",
   "nbconvert_exporter": "python",
   "pygments_lexer": "ipython3",
   "version": "3.8.8"
  }
 },
 "nbformat": 4,
 "nbformat_minor": 5
}
