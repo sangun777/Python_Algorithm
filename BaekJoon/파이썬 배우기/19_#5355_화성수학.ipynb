{
 "cells": [
  {
   "cell_type": "code",
   "execution_count": 5,
   "id": "9c197cb0",
   "metadata": {},
   "outputs": [
    {
     "name": "stdout",
     "output_type": "stream",
     "text": [
      "3\n",
      "3 @ %\n",
      "10.4 # % @\n",
      "8 #\n",
      "14.00\n",
      "25.20\n",
      "1.00\n"
     ]
    }
   ],
   "source": [
    "T = int(input())\n",
    "\n",
    "answer = [0] * T \n",
    "\n",
    "for i in range(T):\n",
    "    inp = input().split()\n",
    "    answer[i] = float(inp[0])\n",
    "    for j in inp[1:]:\n",
    "        if j == '@' :\n",
    "            answer[i]*=3\n",
    "        elif j =='%':\n",
    "            answer[i]+=5\n",
    "        elif j == '#':\n",
    "            answer[i]-=7\n",
    "\n",
    "for i in answer:\n",
    "    print(\"%.2f\"%i)"
   ]
  },
  {
   "cell_type": "code",
   "execution_count": 4,
   "id": "2469bf16",
   "metadata": {},
   "outputs": [
    {
     "name": "stdout",
     "output_type": "stream",
     "text": [
      "5 3\n",
      "<class 'str'>\n"
     ]
    }
   ],
   "source": [
    "a = input().split()\n",
    "\n",
    "print(type(a[0]))"
   ]
  }
 ],
 "metadata": {
  "kernelspec": {
   "display_name": "Python 3",
   "language": "python",
   "name": "python3"
  },
  "language_info": {
   "codemirror_mode": {
    "name": "ipython",
    "version": 3
   },
   "file_extension": ".py",
   "mimetype": "text/x-python",
   "name": "python",
   "nbconvert_exporter": "python",
   "pygments_lexer": "ipython3",
   "version": "3.8.8"
  }
 },
 "nbformat": 4,
 "nbformat_minor": 5
}
