{
 "cells": [
  {
   "cell_type": "code",
   "execution_count": 2,
   "id": "3dfc7d59",
   "metadata": {},
   "outputs": [
    {
     "name": "stdout",
     "output_type": "stream",
     "text": [
      "472\n",
      "385\n",
      "2360\n",
      "3776\n",
      "1416\n",
      "181720\n"
     ]
    }
   ],
   "source": [
    "A = int(input())\n",
    "B = int(input())\n",
    "B_1 = B%10\n",
    "B_10 = int((B%100 - B_1)/10)\n",
    "B_100 = int(B/100)\n",
    "\n",
    "print(A*B_1)\n",
    "print(A*B_10)\n",
    "print(A*B_100)\n",
    "print(A*B_100*100 + A*B_10*10 + A*B_1)"
   ]
  }
 ],
 "metadata": {
  "kernelspec": {
   "display_name": "Python 3",
   "language": "python",
   "name": "python3"
  },
  "language_info": {
   "codemirror_mode": {
    "name": "ipython",
    "version": 3
   },
   "file_extension": ".py",
   "mimetype": "text/x-python",
   "name": "python",
   "nbconvert_exporter": "python",
   "pygments_lexer": "ipython3",
   "version": "3.8.8"
  }
 },
 "nbformat": 4,
 "nbformat_minor": 5
}
