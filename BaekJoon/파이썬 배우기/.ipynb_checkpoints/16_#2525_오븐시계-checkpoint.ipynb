{
 "cells": [
  {
   "cell_type": "code",
   "execution_count": 6,
   "id": "51bdc405",
   "metadata": {},
   "outputs": [
    {
     "name": "stdout",
     "output_type": "stream",
     "text": [
      "14 30\n",
      "999\n",
      "7 9\n"
     ]
    }
   ],
   "source": [
    "h, m = map(int, input().split())\n",
    "cook_time = int(input())\n",
    "\n",
    "cook_min = cook_time % 60\n",
    "cook_hour = int(cook_time / 60)\n",
    "\n",
    "m = m + cook_min\n",
    "\n",
    "if m >=60:\n",
    "    cook_hour += 1\n",
    "    m -= 60\n",
    "    \n",
    "h = h + cook_hour\n",
    "\n",
    "while h > 23:\n",
    "    h -= 24\n",
    "    \n",
    "print(\"%d %d\"%(h, m))"
   ]
  },
  {
   "cell_type": "code",
   "execution_count": null,
   "id": "bd1fd55f",
   "metadata": {},
   "outputs": [],
   "source": []
  }
 ],
 "metadata": {
  "kernelspec": {
   "display_name": "Python 3",
   "language": "python",
   "name": "python3"
  },
  "language_info": {
   "codemirror_mode": {
    "name": "ipython",
    "version": 3
   },
   "file_extension": ".py",
   "mimetype": "text/x-python",
   "name": "python",
   "nbconvert_exporter": "python",
   "pygments_lexer": "ipython3",
   "version": "3.8.8"
  }
 },
 "nbformat": 4,
 "nbformat_minor": 5
}
