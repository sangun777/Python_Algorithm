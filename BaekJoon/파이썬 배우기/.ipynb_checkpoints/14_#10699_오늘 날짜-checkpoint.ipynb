{
 "cells": [
  {
   "cell_type": "markdown",
   "id": "7a6be27c",
   "metadata": {},
   "source": [
    "* 채점 서버가 UTC+0(한국 시간 - 9 시간) 인 것에 유의!!\n",
    "    * 즉 내 컴퓨터에서 now() 실행을 하면 한국 시간이 뜨지만,  \n",
    "    * 그 코드를 채점서버에서 실행 시  -9시간 된 코드가 뜸"
   ]
  },
  {
   "cell_type": "code",
   "execution_count": 26,
   "id": "73230554",
   "metadata": {},
   "outputs": [
    {
     "name": "stdout",
     "output_type": "stream",
     "text": [
      "2021-05-29\n"
     ]
    }
   ],
   "source": [
    "# 채점 서버가 UTC+0(한국 시간 - 9 시간) 인 것에 유의!!\n",
    "\n",
    "import datetime\n",
    "\n",
    "KST = datetime.timezone(datetime.timedelta(hours=9))\n",
    "K_Time = datetime.datetime.now(KST)\n",
    "print(str(K_Time)[:10])"
   ]
  },
  {
   "cell_type": "code",
   "execution_count": null,
   "id": "a15deb18",
   "metadata": {},
   "outputs": [],
   "source": []
  },
  {
   "cell_type": "code",
   "execution_count": null,
   "id": "421700d5",
   "metadata": {},
   "outputs": [],
   "source": []
  },
  {
   "cell_type": "code",
   "execution_count": null,
   "id": "f9f12871",
   "metadata": {},
   "outputs": [],
   "source": []
  },
  {
   "cell_type": "code",
   "execution_count": 18,
   "id": "fb2671d5",
   "metadata": {},
   "outputs": [
    {
     "name": "stdout",
     "output_type": "stream",
     "text": [
      "2021-05-28\n"
     ]
    }
   ],
   "source": [
    "import datetime\n",
    "\n",
    "K_time = str(datetime.datetime.now())\n",
    "\n",
    "K_day = int(K_time[8:10])\n",
    "K_hour = int(K_time[11:13])\n",
    "\n",
    "if K_hour < 9:\n",
    "    day = K_day - 1\n",
    "    print(str(datetime.datetime.now())[:8] + str(day))\n",
    "    \n",
    "else:\n",
    "    print(str(datetime.datetime.now())[:10])"
   ]
  },
  {
   "cell_type": "code",
   "execution_count": 15,
   "id": "4dd392e4",
   "metadata": {},
   "outputs": [
    {
     "name": "stdout",
     "output_type": "stream",
     "text": [
      "29\n",
      "0\n",
      "2021-05-29\n"
     ]
    }
   ],
   "source": [
    "import datetime\n",
    "\n",
    "K_time = str(datetime.datetime.now())\n",
    "\n",
    "K_day = int(K_time[8:10])\n",
    "K_hour = int(K_time[11:13])\n",
    "print(K_day)\n",
    "print(K_hour)\n",
    "print(str(datetime.datetime.now())[:10])"
   ]
  },
  {
   "cell_type": "code",
   "execution_count": 14,
   "id": "0ad37460",
   "metadata": {},
   "outputs": [
    {
     "name": "stdout",
     "output_type": "stream",
     "text": [
      "2021-05-29 00:37:51.363977\n"
     ]
    }
   ],
   "source": [
    "print(str(datetime.datetime.now()))"
   ]
  },
  {
   "cell_type": "code",
   "execution_count": 20,
   "id": "56b25355",
   "metadata": {},
   "outputs": [
    {
     "data": {
      "text/plain": [
       "datetime.datetime(2021, 5, 28, 15, 46, 34, 674143, tzinfo=datetime.timezone.utc)"
      ]
     },
     "execution_count": 20,
     "metadata": {},
     "output_type": "execute_result"
    }
   ],
   "source": [
    "import datetime\n",
    "\n",
    "datetime.datetime.now(datetime.timezone.utc)"
   ]
  },
  {
   "cell_type": "code",
   "execution_count": 10,
   "id": "0fb3cdb8",
   "metadata": {},
   "outputs": [
    {
     "name": "stdout",
     "output_type": "stream",
     "text": [
      "2021-05-29\n"
     ]
    }
   ],
   "source": [
    "import datetime\n",
    "now = datetime.datetime.now()\n",
    "print(now.strftime('%Y-%m-%d'))"
   ]
  },
  {
   "cell_type": "code",
   "execution_count": 11,
   "id": "a1410402",
   "metadata": {},
   "outputs": [
    {
     "name": "stdout",
     "output_type": "stream",
     "text": [
      "2021-05-29\n"
     ]
    }
   ],
   "source": [
    "from datetime import datetime\n",
    "print(datetime.today().strftime(\"%Y-%m-%d\"))"
   ]
  },
  {
   "cell_type": "code",
   "execution_count": null,
   "id": "8967fd14",
   "metadata": {},
   "outputs": [],
   "source": []
  },
  {
   "cell_type": "code",
   "execution_count": 2,
   "id": "4de442aa",
   "metadata": {},
   "outputs": [
    {
     "data": {
      "text/plain": [
       "datetime.datetime(2021, 5, 29, 0, 10, 57, 347527)"
      ]
     },
     "execution_count": 2,
     "metadata": {},
     "output_type": "execute_result"
    }
   ],
   "source": [
    "import datetime\n",
    "\n",
    "datetime.datetime.now()"
   ]
  }
 ],
 "metadata": {
  "kernelspec": {
   "display_name": "Python 3",
   "language": "python",
   "name": "python3"
  },
  "language_info": {
   "codemirror_mode": {
    "name": "ipython",
    "version": 3
   },
   "file_extension": ".py",
   "mimetype": "text/x-python",
   "name": "python",
   "nbconvert_exporter": "python",
   "pygments_lexer": "ipython3",
   "version": "3.8.8"
  }
 },
 "nbformat": 4,
 "nbformat_minor": 5
}
