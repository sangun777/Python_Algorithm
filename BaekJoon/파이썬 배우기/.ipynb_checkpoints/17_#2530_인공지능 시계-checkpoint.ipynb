{
 "cells": [
  {
   "cell_type": "code",
   "execution_count": 2,
   "id": "05260872",
   "metadata": {},
   "outputs": [
    {
     "name": "stdout",
     "output_type": "stream",
     "text": [
      "14 30 0\n",
      "136732\n",
      "4 28 52\n"
     ]
    }
   ],
   "source": [
    "A, B, C = map(int, input().split())\n",
    "D = int(input())\n",
    "\n",
    "D_sec = D % 60\n",
    "temp_min = int(D/60)\n",
    "D_min = temp_min % 60\n",
    "D_hour = int(temp_min/60)\n",
    "\n",
    "C += D_sec\n",
    "if C>=60:\n",
    "    C-=60\n",
    "    D_min+=1\n",
    "    \n",
    "B += D_min\n",
    "if B>=60:\n",
    "    B-=60\n",
    "    D_hour+=1\n",
    "    \n",
    "A += D_hour\n",
    "A = A%24\n",
    "\n",
    "print(\"%d %d %d\"%(A, B, C))"
   ]
  }
 ],
 "metadata": {
  "kernelspec": {
   "display_name": "Python 3",
   "language": "python",
   "name": "python3"
  },
  "language_info": {
   "codemirror_mode": {
    "name": "ipython",
    "version": 3
   },
   "file_extension": ".py",
   "mimetype": "text/x-python",
   "name": "python",
   "nbconvert_exporter": "python",
   "pygments_lexer": "ipython3",
   "version": "3.8.8"
  }
 },
 "nbformat": 4,
 "nbformat_minor": 5
}
