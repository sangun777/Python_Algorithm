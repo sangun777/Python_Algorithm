{
 "cells": [
  {
   "cell_type": "code",
   "execution_count": 4,
   "id": "c446ecae",
   "metadata": {},
   "outputs": [
    {
     "name": "stdout",
     "output_type": "stream",
     "text": [
      "2\n",
      "3 ABC\n",
      "AAABBBCCC\n",
      "6 /HTP\n",
      "//////HHHHHHTTTTTTPPPPPP\n"
     ]
    }
   ],
   "source": [
    "T = int(input())\n",
    "for _ in range(T):\n",
    "    cnt, strr = input().split()\n",
    "    cnt = int(cnt)\n",
    "    for i in strr:\n",
    "        for j in range(cnt):\n",
    "            print(i, end='')\n",
    "    print() # 이거 안하면 출력에 줄 바꿈 안되서 틀림 처리됨"
   ]
  },
  {
   "cell_type": "code",
   "execution_count": 2,
   "id": "0bce723c",
   "metadata": {},
   "outputs": [
    {
     "name": "stdout",
     "output_type": "stream",
     "text": [
      "5 3\n",
      "5\n",
      "3\n"
     ]
    }
   ],
   "source": [
    "A, B = input().split()\n",
    "print(A)\n",
    "print(B)"
   ]
  }
 ],
 "metadata": {
  "kernelspec": {
   "display_name": "Python 3",
   "language": "python",
   "name": "python3"
  },
  "language_info": {
   "codemirror_mode": {
    "name": "ipython",
    "version": 3
   },
   "file_extension": ".py",
   "mimetype": "text/x-python",
   "name": "python",
   "nbconvert_exporter": "python",
   "pygments_lexer": "ipython3",
   "version": "3.8.8"
  }
 },
 "nbformat": 4,
 "nbformat_minor": 5
}
