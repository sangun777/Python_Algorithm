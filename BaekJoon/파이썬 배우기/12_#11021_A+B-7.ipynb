{
 "cells": [
  {
   "cell_type": "code",
   "execution_count": 7,
   "id": "b3542d7a",
   "metadata": {},
   "outputs": [
    {
     "name": "stdout",
     "output_type": "stream",
     "text": [
      "5\n",
      "1 1\n",
      "Case #1: 2\n",
      "2 3\n",
      "Case #2: 5\n",
      "3 4\n",
      "Case #3: 7\n",
      "9 8\n",
      "Case #4: 17\n",
      "5 2\n",
      "Case #5: 7\n"
     ]
    }
   ],
   "source": [
    "n = int(input())\n",
    "for i in range(n):\n",
    "    a, b = map(int, input().split())\n",
    "    print(\"Case #%d:\"%(i+1), a+b)"
   ]
  },
  {
   "cell_type": "code",
   "execution_count": 6,
   "id": "748349f4",
   "metadata": {},
   "outputs": [
    {
     "name": "stdout",
     "output_type": "stream",
     "text": [
      "1 2\n"
     ]
    }
   ],
   "source": [
    "print(1, 2)"
   ]
  },
  {
   "cell_type": "markdown",
   "id": "e80ff73b",
   "metadata": {},
   "source": [
    "=> print안에서 ,로 나누어 두 변수를 출력할 때, 자동으로 한칸 띄워짐에 주의!!"
   ]
  }
 ],
 "metadata": {
  "kernelspec": {
   "display_name": "Python 3",
   "language": "python",
   "name": "python3"
  },
  "language_info": {
   "codemirror_mode": {
    "name": "ipython",
    "version": 3
   },
   "file_extension": ".py",
   "mimetype": "text/x-python",
   "name": "python",
   "nbconvert_exporter": "python",
   "pygments_lexer": "ipython3",
   "version": "3.8.8"
  }
 },
 "nbformat": 4,
 "nbformat_minor": 5
}
