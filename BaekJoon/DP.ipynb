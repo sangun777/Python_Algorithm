{
 "cells": [
  {
   "cell_type": "code",
   "execution_count": null,
   "metadata": {},
   "outputs": [],
   "source": []
  },
  {
   "cell_type": "markdown",
   "metadata": {},
   "source": [
    "## #9184 신나는 함수 실행 (DP-단계2 실버2)"
   ]
  },
  {
   "cell_type": "markdown",
   "metadata": {},
   "source": [
    "if a <= 0 or b <= 0 or c <= 0, then w(a, b, c) returns:\n",
    "    1\n",
    "\n",
    "if a > 20 or b > 20 or c > 20, then w(a, b, c) returns:\n",
    "    w(20, 20, 20)\n",
    "\n",
    "if a < b and b < c, then w(a, b, c) returns:\n",
    "    w(a, b, c-1) + w(a, b-1, c-1) - w(a, b-1, c)\n",
    "\n",
    "otherwise it returns:\n",
    "    w(a-1, b, c) + w(a-1, b-1, c) + w(a-1, b, c-1) - w(a-1, b-1, c-1)"
   ]
  },
  {
   "cell_type": "markdown",
   "metadata": {},
   "source": [
    "### 입력\n",
    "- 입력은 세 정수 a, b, c로 이루어져 있으며, \n",
    "- 한 줄에 하나씩 주어진다. \n",
    "- 입력의 마지막은 -1 -1 -1로 나타내며, \n",
    "- 세 정수가 모두 -1인 경우는 입력의 마지막을 제외하면 없다.\n",
    "\n",
    "### 출력\n",
    " - 입력으로 주어진 각각의 a, b, c에 대해서, w(a, b, c)를 출력한다.\n",
    " \n",
    "### 제한\n",
    " - -50 ≤ a, b, c ≤ 50"
   ]
  },
  {
   "cell_type": "code",
   "execution_count": 3,
   "metadata": {},
   "outputs": [],
   "source": [
    "# 입력 예시\n",
    "# 1 1 1\n",
    "# 2 2 2\n",
    "# 10 4 6\n",
    "# 50 50 50\n",
    "# -1 7 18\n",
    "# -1 -1 -1"
   ]
  },
  {
   "cell_type": "code",
   "execution_count": 4,
   "metadata": {},
   "outputs": [],
   "source": [
    "# 출력 예시\n",
    "# w(1, 1, 1) = 2\n",
    "# w(2, 2, 2) = 4\n",
    "# w(10, 4, 6) = 523\n",
    "# w(50, 50, 50) = 1048576\n",
    "# w(-1, 7, 18) = 1"
   ]
  },
  {
   "cell_type": "code",
   "execution_count": 43,
   "metadata": {},
   "outputs": [
    {
     "name": "stdout",
     "output_type": "stream",
     "text": [
      "1 1 1\n",
      "2 2 2\n",
      "10 4 6\n",
      "50 50 50\n",
      "-1 7 18\n",
      "-1 -1 -1\n",
      "w(1, 1, 1) = 2\n",
      "w(2, 2, 2) = 4\n",
      "w(10, 4, 6) = 64\n",
      "w(50, 50, 50) = 1048576\n",
      "w(-1, 7, 18) = 1\n"
     ]
    }
   ],
   "source": [
    "list_a = []\n",
    "list_b = []\n",
    "list_c = []\n",
    "result = []\n",
    "d = [[[0]*21]*21]*21\n",
    "\n",
    "# 초기화\n",
    "for i in range(2):\n",
    "    for j in range(2):\n",
    "        for k in range(2):\n",
    "            d[i][j][k] = 1\n",
    "            \n",
    "d[1][1][1] = 2\n",
    "\n",
    "for i in range(21):\n",
    "    for j in range(21):\n",
    "        for k in range(21):\n",
    "            if d[i][j][k]!=0:\n",
    "                 continue            \n",
    "            elif i < j and j < k:\n",
    "                d[i][j][k] = d[i][j][k-1] + d[i][j-1][k-1] - d[i][j-1][k]\n",
    "            else:\n",
    "                d[i][j][k] = d[i-1][j][k] + d[i-1][j-1][k] + d[i-1][j][k-1] - d[i-1][j-1][k-1]    \n",
    "\n",
    "while 1:\n",
    "    a, b, c = map(int, input().split())\n",
    "    if (a==-1)and(b==-1)and(c==-1):\n",
    "        break\n",
    "    list_a.append(a)\n",
    "    list_b.append(b)\n",
    "    list_c.append(c)\n",
    "    if a<0 or b<0 or c<0:\n",
    "        result.append(1)\n",
    "    elif a>20 or b>20 or c>20:\n",
    "        result.append(d[20][20][20])\n",
    "    else:\n",
    "        result.append(d[a][b][c])\n",
    "\n",
    "for i in range(len(result)):\n",
    "    print(\"w({}, {}, {}) = {}\".format(list_a[i], list_b[i], list_c[i], result[i]))"
   ]
  },
  {
   "cell_type": "markdown",
   "metadata": {},
   "source": [
    " * 오답노트\n",
    "     * 리스트를 통해서 메모를 만들면, 불필요하게 인덱스 범위에 해당하는 모든 요소를 만들어 줘야 함\n",
    "         => 딕셔너리를 쓰면 원하는 부분만 키 : 값"
   ]
  },
  {
   "cell_type": "markdown",
   "metadata": {},
   "source": [
    " * 표준 입력 방식 받기(주피터에서는 안됨 ㅠㅠ)\n",
    "     * while문 안에서 입력 받을 때에는 stdin.readline()이 input() 보다 훨씬 빠르다고 함"
   ]
  },
  {
   "cell_type": "code",
   "execution_count": 12,
   "metadata": {},
   "outputs": [
    {
     "ename": "ValueError",
     "evalue": "not enough values to unpack (expected 3, got 0)",
     "output_type": "error",
     "traceback": [
      "\u001b[1;31m---------------------------------------------------------------------------\u001b[0m",
      "\u001b[1;31mValueError\u001b[0m                                Traceback (most recent call last)",
      "\u001b[1;32m<ipython-input-12-b9db49dfe01d>\u001b[0m in \u001b[0;36m<module>\u001b[1;34m\u001b[0m\n\u001b[0;32m      4\u001b[0m \u001b[1;33m\u001b[0m\u001b[0m\n\u001b[0;32m      5\u001b[0m \u001b[1;32mwhile\u001b[0m \u001b[1;36m1\u001b[0m\u001b[1;33m:\u001b[0m\u001b[1;33m\u001b[0m\u001b[1;33m\u001b[0m\u001b[0m\n\u001b[1;32m----> 6\u001b[1;33m     \u001b[0ma\u001b[0m\u001b[1;33m,\u001b[0m \u001b[0mb\u001b[0m\u001b[1;33m,\u001b[0m \u001b[0mc\u001b[0m \u001b[1;33m=\u001b[0m \u001b[0mmap\u001b[0m\u001b[1;33m(\u001b[0m\u001b[0mint\u001b[0m\u001b[1;33m,\u001b[0m \u001b[0mread\u001b[0m\u001b[1;33m(\u001b[0m\u001b[1;33m)\u001b[0m\u001b[1;33m.\u001b[0m\u001b[0msplit\u001b[0m\u001b[1;33m(\u001b[0m\u001b[1;33m)\u001b[0m\u001b[1;33m)\u001b[0m\u001b[1;33m\u001b[0m\u001b[1;33m\u001b[0m\u001b[0m\n\u001b[0m\u001b[0;32m      7\u001b[0m     \u001b[1;32mbreak\u001b[0m\u001b[1;33m\u001b[0m\u001b[1;33m\u001b[0m\u001b[0m\n\u001b[0;32m      8\u001b[0m \u001b[1;33m\u001b[0m\u001b[0m\n",
      "\u001b[1;31mValueError\u001b[0m: not enough values to unpack (expected 3, got 0)"
     ]
    }
   ],
   "source": [
    "from sys import stdin\n",
    "\n",
    "read = stdin.readline\n",
    "\n",
    "while 1:\n",
    "    a, b, c = map(int, read().split())\n",
    "    break\n",
    "\n",
    "\n",
    "print(\"{}, {}, {}\".format(a, b, c))"
   ]
  },
  {
   "cell_type": "markdown",
   "metadata": {},
   "source": [
    " * 변수 여러개 한번에 받기"
   ]
  },
  {
   "cell_type": "code",
   "execution_count": 9,
   "metadata": {},
   "outputs": [
    {
     "name": "stdout",
     "output_type": "stream",
     "text": [
      "34 7 8\n",
      "34\n",
      "<class 'int'>\n",
      "7\n",
      "8\n"
     ]
    }
   ],
   "source": [
    "a, b, c = map(int, input().split())\n",
    "print(a)\n",
    "print(type(a))\n",
    "print(b)\n",
    "print(c)"
   ]
  },
  {
   "cell_type": "markdown",
   "metadata": {},
   "source": [
    " * 3차원 배열 초기화"
   ]
  },
  {
   "cell_type": "code",
   "execution_count": 24,
   "metadata": {},
   "outputs": [
    {
     "data": {
      "text/plain": [
       "[[[0, 0], [0, 0]], [[0, 0], [0, 0]]]"
      ]
     },
     "execution_count": 24,
     "metadata": {},
     "output_type": "execute_result"
    }
   ],
   "source": [
    "d = [[[0]*2]*2]*2\n",
    "d"
   ]
  },
  {
   "cell_type": "markdown",
   "metadata": {},
   "source": [
    " * 함수안에서 리스트는 바뀐다."
   ]
  },
  {
   "cell_type": "code",
   "execution_count": 32,
   "metadata": {},
   "outputs": [
    {
     "data": {
      "text/plain": [
       "[-10, -10, -10, 'adfgd']"
      ]
     },
     "execution_count": 32,
     "metadata": {},
     "output_type": "execute_result"
    }
   ],
   "source": [
    "e = [-10,-10,-10]\n",
    "\n",
    "def gg():\n",
    "    e.append(\"adfgd\")\n",
    "    \n",
    "gg()\n",
    "e"
   ]
  },
  {
   "cell_type": "markdown",
   "metadata": {},
   "source": [
    " * 함수안에서 변수는 안바뀌고, global 설정해야 바뀐다."
   ]
  },
  {
   "cell_type": "code",
   "execution_count": 21,
   "metadata": {},
   "outputs": [
    {
     "name": "stdout",
     "output_type": "stream",
     "text": [
      "3\n"
     ]
    }
   ],
   "source": [
    "a = 3\n",
    "\n",
    "def f():\n",
    "    a=5\n",
    "    \n",
    "f()\n",
    "print(a)"
   ]
  },
  {
   "cell_type": "code",
   "execution_count": 22,
   "metadata": {},
   "outputs": [
    {
     "name": "stdout",
     "output_type": "stream",
     "text": [
      "5\n"
     ]
    }
   ],
   "source": [
    "a = 3\n",
    "\n",
    "def f():\n",
    "    global a\n",
    "    a=5\n",
    "    \n",
    "f()\n",
    "print(a)"
   ]
  },
  {
   "cell_type": "markdown",
   "metadata": {},
   "source": [
    " * break는 가장 가까운 for문 하나 빠져나옴"
   ]
  },
  {
   "cell_type": "code",
   "execution_count": 3,
   "metadata": {},
   "outputs": [
    {
     "name": "stdout",
     "output_type": "stream",
     "text": [
      "hi\n",
      "bye\n",
      "hrhrhr\n",
      "bye\n",
      "hrhrhr\n",
      "hrhrhr\n",
      "hi\n",
      "bye\n",
      "hrhrhr\n",
      "bye\n",
      "hrhrhr\n",
      "hrhrhr\n"
     ]
    }
   ],
   "source": [
    "for i in range(2):\n",
    "    print(\"hi\")\n",
    "    for j in range(2):\n",
    "        print(\"bye\")\n",
    "        for k in range(2):\n",
    "            print(\"hrhrhr\")\n",
    "            if j==0:\n",
    "                break"
   ]
  },
  {
   "cell_type": "markdown",
   "metadata": {},
   "source": [
    "## # 1003 피보나치 함수(DP-단계, Sil 3)\n",
    "\n",
    " * N이 주어졌을 떄, f(N)을 만들기 위해,   \n",
    "   f(0)=0, f(1)=1이 몇 번 호출되는지 구하는 프로그램 작성\n",
    " * 입력 첫 줄 = test case 갯수\n",
    " * 다음 0~40까지 정수 N이 주어짐\n",
    " * 출력은 0출력 횟수 1출력 횟수 순으로 출력\n",
    " * 제한 시간 0.25초"
   ]
  },
  {
   "cell_type": "code",
   "execution_count": 1,
   "metadata": {},
   "outputs": [],
   "source": [
    "# # test case1\n",
    "\n",
    "# IN\n",
    "# 3\n",
    "# 0\n",
    "# 1\n",
    "# 3\n",
    "\n",
    "# OUT\n",
    "# 1 0\n",
    "# 0 1\n",
    "# 1 2"
   ]
  },
  {
   "cell_type": "code",
   "execution_count": 3,
   "metadata": {},
   "outputs": [
    {
     "name": "stdout",
     "output_type": "stream",
     "text": [
      "3\n",
      "0\n",
      "1\n",
      "3\n",
      "1 0\n",
      "0 1\n",
      "1 2\n"
     ]
    }
   ],
   "source": [
    "# 2회차 정답\n",
    "cnt_test = int(input())\n",
    "\n",
    "N_case = []\n",
    "\n",
    "for i in range(cnt_test):\n",
    "    N_case.append(int(input()))\n",
    "\n",
    "memory_0 = [0] * 41\n",
    "memory_1 = [0] * 41\n",
    "\n",
    "memory_0[0] = 1\n",
    "memory_1[1] = 1\n",
    "\n",
    "for N in N_case:\n",
    "    for i in range(2, N+1):    \n",
    "        memory_0[i] = memory_0[i-1]+memory_0[i-2]\n",
    "        memory_1[i] = memory_1[i-1]+memory_1[i-2]\n",
    "    print(memory_0[N], end=\" \")\n",
    "    print(memory_1[N])"
   ]
  },
  {
   "cell_type": "markdown",
   "metadata": {},
   "source": [
    " * 오답노트\n",
    "    * 1회차 : 시간 초과\n",
    "        * 어차피 DP 문제고 이 문제도 작게 쪼개 점화식으로 만들 수 있다는 사실을 기억하고, 메모리 table 적용"
   ]
  },
  {
   "cell_type": "code",
   "execution_count": null,
   "metadata": {},
   "outputs": [],
   "source": [
    "# 1회차 오답\n",
    "cnt_test = int(input())\n",
    "\n",
    "t_case = []\n",
    "\n",
    "for i in range(cnt_test):\n",
    "    t_case.append(int(input()))\n",
    "\n",
    "a = 0\n",
    "b = 0\n",
    "\n",
    "def fibo(i):\n",
    "    if i==0:\n",
    "        global a\n",
    "        a+=1\n",
    "        return 0\n",
    "    if i==1:\n",
    "        global b\n",
    "        b+=1\n",
    "        return 1\n",
    "    return fibo(i-1) + fibo(i-2)\n",
    "\n",
    "for i in t_case:\n",
    "    fibo(i)\n",
    "    print(a, end=' ')\n",
    "    print(b)\n",
    "    a = 0\n",
    "    b = 0"
   ]
  },
  {
   "cell_type": "markdown",
   "metadata": {},
   "source": [
    "## #2839 설탕 배달 (DP-분류, Bron 1)\n",
    "\n",
    " - 설탕 N키로 배달해야함\n",
    " - 봉지는 각각 3, 5KG\n",
    " - 최대한 적은 봉지 가지는 방법은? (봉지가 안차도됨)\n",
    " - 정확한 NKg를 만들수 없으면 -1 출력\n",
    " - 3 <= N <= 5000"
   ]
  },
  {
   "cell_type": "code",
   "execution_count": null,
   "metadata": {},
   "outputs": [],
   "source": [
    "# test case1\n",
    "IN = 18\n",
    "OUT = 4"
   ]
  },
  {
   "cell_type": "code",
   "execution_count": 5,
   "metadata": {},
   "outputs": [
    {
     "name": "stdout",
     "output_type": "stream",
     "text": [
      "9\n",
      "3\n"
     ]
    }
   ],
   "source": [
    "N = int(input())\n",
    "\n",
    "p_bag = [3,5]\n",
    "d = [2000]*(N+1)\n",
    "\n",
    "d[0] = 0\n",
    "for i in range(3, N+1):\n",
    "    for k in p_bag:\n",
    "        if d[i-k] != 2000:\n",
    "            d[i] = min(d[i], d[i-k]+1)\n",
    "            \n",
    "if d[N] == 2000:\n",
    "    print(-1)\n",
    "else:\n",
    "    print(d[N])"
   ]
  },
  {
   "cell_type": "markdown",
   "metadata": {},
   "source": [
    " * 오답노트\n",
    "    * 한번 최대 초과치를 1001로 잘못 설정해서 틀림(5000 이하 수 중에 3kg을 이용하여 1001을 넘을 수 있으므로)"
   ]
  }
 ],
 "metadata": {
  "kernelspec": {
   "display_name": "Python 3",
   "language": "python",
   "name": "python3"
  },
  "language_info": {
   "codemirror_mode": {
    "name": "ipython",
    "version": 3
   },
   "file_extension": ".py",
   "mimetype": "text/x-python",
   "name": "python",
   "nbconvert_exporter": "python",
   "pygments_lexer": "ipython3",
   "version": "3.8.5"
  }
 },
 "nbformat": 4,
 "nbformat_minor": 4
}
