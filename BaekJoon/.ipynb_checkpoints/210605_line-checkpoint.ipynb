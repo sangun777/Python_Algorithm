{
 "cells": [
  {
   "cell_type": "code",
   "execution_count": 4,
   "id": "02a63dfa",
   "metadata": {},
   "outputs": [
    {
     "data": {
      "text/plain": [
       "2"
      ]
     },
     "execution_count": 4,
     "metadata": {},
     "output_type": "execute_result"
    }
   ],
   "source": [
    "'12346678'.count('6')"
   ]
  },
  {
   "cell_type": "code",
   "execution_count": 12,
   "id": "9a880b6a",
   "metadata": {},
   "outputs": [
    {
     "name": "stdout",
     "output_type": "stream",
     "text": [
      "1\n",
      "3\n",
      "5\n"
     ]
    }
   ],
   "source": [
    "for i in '1235':\n",
    "    i = int(i)\n",
    "    if i==2:\n",
    "        continue\n",
    "    print(i)"
   ]
  },
  {
   "cell_type": "code",
   "execution_count": 6,
   "id": "53a2d9e9",
   "metadata": {},
   "outputs": [
    {
     "data": {
      "text/plain": [
       "'1233'"
      ]
     },
     "execution_count": 6,
     "metadata": {},
     "output_type": "execute_result"
    }
   ],
   "source": [
    "a = str(\"1233\")\n",
    "a"
   ]
  },
  {
   "cell_type": "code",
   "execution_count": null,
   "id": "80528678",
   "metadata": {},
   "outputs": [],
   "source": [
    "* 제출본"
   ]
  },
  {
   "cell_type": "code",
   "execution_count": 28,
   "id": "92656ae7",
   "metadata": {},
   "outputs": [],
   "source": [
    "def solution(inputString):\n",
    "    inputString = str(inputString)\n",
    "    N=0\n",
    "    N_1=0\n",
    "    N_10=0\n",
    "    N_100=0\n",
    "    num_ignore=0\n",
    "    zero_ignore=0\n",
    "    for i in inputString:\n",
    "        i = int(i)\n",
    "        if num_ignore==1 and i==N_1:\n",
    "            num_ignore=0\n",
    "            continue\n",
    "        else:\n",
    "            num_ignore=0\n",
    "        if zero_ignore==1 and i==0:\n",
    "            zero_ignore=0\n",
    "            continue\n",
    "        else:\n",
    "            zero_ignore=0\n",
    "        if N_1 < i:    # 읽은 수가 현재 1의 자리보다 클 때,\n",
    "            N_1 = i\n",
    "        else:      # 읽은 수가 현재 1의 자리보다 작을 때,\n",
    "            if N_10==i and N_1!=9:\n",
    "                N_1+=1\n",
    "                num_ignore=1\n",
    "            elif N_10==i and N_1==9:\n",
    "                N_10+=1\n",
    "                N_1 = i\n",
    "            elif (N_10+1)%10==i:\n",
    "                N_1=0\n",
    "                N_10+=1\n",
    "                zero_ignore=1\n",
    "            elif i==0 and N_10==9:\n",
    "                N_10+=1\n",
    "                N_1=i\n",
    "                zero_ignore=1\n",
    "            else:\n",
    "                N_10+=1\n",
    "                N_1=i\n",
    "        if N_10 == 10:\n",
    "            N_100+=1\n",
    "            N_10 = 0\n",
    "            \n",
    "    N = N_1+N_10*10+N_100*100\n",
    "    print(N)\n",
    "    return N"
   ]
  },
  {
   "cell_type": "code",
   "execution_count": 29,
   "id": "f7d67108",
   "metadata": {},
   "outputs": [
    {
     "name": "stdout",
     "output_type": "stream",
     "text": [
      "47\n"
     ]
    },
    {
     "data": {
      "text/plain": [
       "47"
      ]
     },
     "execution_count": 29,
     "metadata": {},
     "output_type": "execute_result"
    }
   ],
   "source": [
    "solution(7234032479947)"
   ]
  },
  {
   "cell_type": "code",
   "execution_count": null,
   "id": "a243040f",
   "metadata": {},
   "outputs": [],
   "source": [
    "7234032479947"
   ]
  },
  {
   "cell_type": "code",
   "execution_count": 27,
   "id": "1675f639",
   "metadata": {},
   "outputs": [
    {
     "name": "stdout",
     "output_type": "stream",
     "text": [
      "0\n",
      "7\n",
      "0\n",
      "0\n",
      "1\n",
      "70\n"
     ]
    }
   ],
   "source": [
    "inputString = str(723403247994)\n",
    "N=0\n",
    "N_1=0\n",
    "N_10=0\n",
    "N_100=0\n",
    "num_ignore=0\n",
    "zero_ignore=0\n",
    "for i in inputString:\n",
    "    i = int(i)\n",
    "    if num_ignore==1 and i==N_1:\n",
    "        num_ignore=0\n",
    "        continue\n",
    "    else:\n",
    "        num_ignore=0\n",
    "    if zero_ignore==1 and i==0:\n",
    "        zero_ignore=0\n",
    "        continue\n",
    "    else:\n",
    "        zero_ignore=0\n",
    "    if N_1 < i:    # 읽은 수가 현재 1의 자리보다 클 때,\n",
    "        N_1 = i\n",
    "    else:      # 읽은 수가 현재 1의 자리보다 작을 때,\n",
    "        if N_10==i and N_1!=9:\n",
    "            N_1+=1\n",
    "            num_ignore=1\n",
    "        elif N_10==i and N_1==9:\n",
    "            N_10+=1\n",
    "            N_1 = i\n",
    "        elif (N_10+1)%10==i:\n",
    "            N_1=0\n",
    "            N_10+=1\n",
    "            zero_ignore=1\n",
    "        elif i==0 and N_10==9:\n",
    "            N_10+=1\n",
    "            N_1=i\n",
    "            zero_ignore=1\n",
    "        else:\n",
    "            N_10+=1\n",
    "            N_1=i\n",
    "            \n",
    "    if N_10 == 10:\n",
    "        N_100+=1\n",
    "        N_10 = 0\n",
    "            \n",
    "N = N_1+N_10*10+N_100*100\n",
    "\n",
    "print(N_1)\n",
    "print(N_10)\n",
    "print(N_100)\n",
    "print(num_ignore)\n",
    "print(zero_ignore)\n",
    "print(N)"
   ]
  },
  {
   "cell_type": "code",
   "execution_count": null,
   "id": "f16b8353",
   "metadata": {},
   "outputs": [],
   "source": [
    "sys"
   ]
  },
  {
   "cell_type": "code",
   "execution_count": 39,
   "id": "220a23f5",
   "metadata": {},
   "outputs": [
    {
     "data": {
      "text/plain": [
       "1622871188"
      ]
     },
     "execution_count": 39,
     "metadata": {},
     "output_type": "execute_result"
    }
   ],
   "source": [
    "import time\n",
    "\n",
    "int(time.time())"
   ]
  },
  {
   "cell_type": "code",
   "execution_count": 43,
   "id": "179da100",
   "metadata": {},
   "outputs": [
    {
     "data": {
      "text/plain": [
       "[[], [], []]"
      ]
     },
     "execution_count": 43,
     "metadata": {},
     "output_type": "execute_result"
    }
   ],
   "source": [
    "s = []\n",
    "s.append([])\n",
    "s.append([])\n",
    "s.append([])\n",
    "s"
   ]
  },
  {
   "cell_type": "code",
   "execution_count": 44,
   "id": "6de472bf",
   "metadata": {},
   "outputs": [],
   "source": [
    "s[0].append(3)"
   ]
  },
  {
   "cell_type": "code",
   "execution_count": 46,
   "id": "2d69994c",
   "metadata": {},
   "outputs": [
    {
     "data": {
      "text/plain": [
       "[[3], [], []]"
      ]
     },
     "execution_count": 46,
     "metadata": {},
     "output_type": "execute_result"
    }
   ],
   "source": [
    "s"
   ]
  },
  {
   "cell_type": "code",
   "execution_count": 49,
   "id": "35ded37c",
   "metadata": {},
   "outputs": [
    {
     "ename": "IndexError",
     "evalue": "pop from empty list",
     "output_type": "error",
     "traceback": [
      "\u001b[1;31m---------------------------------------------------------------------------\u001b[0m",
      "\u001b[1;31mIndexError\u001b[0m                                Traceback (most recent call last)",
      "\u001b[1;32m<ipython-input-49-de93d23cdedf>\u001b[0m in \u001b[0;36m<module>\u001b[1;34m\u001b[0m\n\u001b[1;32m----> 1\u001b[1;33m \u001b[0ms\u001b[0m\u001b[1;33m[\u001b[0m\u001b[1;36m0\u001b[0m\u001b[1;33m]\u001b[0m\u001b[1;33m.\u001b[0m\u001b[0mpop\u001b[0m\u001b[1;33m(\u001b[0m\u001b[1;33m)\u001b[0m\u001b[1;33m\u001b[0m\u001b[1;33m\u001b[0m\u001b[0m\n\u001b[0m",
      "\u001b[1;31mIndexError\u001b[0m: pop from empty list"
     ]
    }
   ],
   "source": [
    "s[0].pop()"
   ]
  },
  {
   "cell_type": "code",
   "execution_count": null,
   "id": "b0ef483b",
   "metadata": {},
   "outputs": [],
   "source": []
  },
  {
   "cell_type": "code",
   "execution_count": null,
   "id": "1227bafb",
   "metadata": {},
   "outputs": [],
   "source": []
  },
  {
   "cell_type": "code",
   "execution_count": null,
   "id": "45653d94",
   "metadata": {},
   "outputs": [],
   "source": []
  }
 ],
 "metadata": {
  "kernelspec": {
   "display_name": "Python 3",
   "language": "python",
   "name": "python3"
  },
  "language_info": {
   "codemirror_mode": {
    "name": "ipython",
    "version": 3
   },
   "file_extension": ".py",
   "mimetype": "text/x-python",
   "name": "python",
   "nbconvert_exporter": "python",
   "pygments_lexer": "ipython3",
   "version": "3.8.8"
  }
 },
 "nbformat": 4,
 "nbformat_minor": 5
}
