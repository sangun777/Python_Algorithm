{
 "cells": [
  {
   "cell_type": "code",
   "execution_count": null,
   "id": "2115ed6b",
   "metadata": {},
   "outputs": [],
   "source": [
    "# 정답 코드\n",
    "cnt_test = int(input())\n",
    "\n",
    "N_case = []\n",
    "\n",
    "for i in range(cnt_test):\n",
    "    N_case.append(int(input()))\n",
    "    \n",
    "memory_0 = [0] * 41\n",
    "memory_1 = [0] * 41\n",
    "\n",
    "# fibo(0)은 0은 한번, 1은 0번 호출, fibo(1)은 0은 0번 1은 1번 호출\n",
    "memory_0[0] = 1\n",
    "memory_1[1] = 1\n",
    "\n",
    "for N in N_case:\n",
    "    for i in range(2, N+1):\n",
    "        memory_0[i] = memory_0[i-1] + memory_0[i-2]\n",
    "        memory_1[i] = memory_1[i-1] + memory_1[i-2]\n",
    "    print(memory_0[N], end=\" \")\n",
    "    print(memory_1[N])\n"
   ]
  },
  {
   "cell_type": "code",
   "execution_count": 1,
   "id": "ff06a1d2",
   "metadata": {},
   "outputs": [
    {
     "name": "stdout",
     "output_type": "stream",
     "text": [
      "3\n",
      "0\n",
      "1 0\n",
      "1\n",
      "0 1\n",
      "3\n",
      "1 2\n"
     ]
    }
   ],
   "source": [
    "# 시간 초과 코드\n",
    "\n",
    "cnt_0 = 0\n",
    "cnt_1 = 0\n",
    "\n",
    "def fibonacci(n):\n",
    "    global cnt_0, cnt_1\n",
    "    if n==0:\n",
    "        cnt_0 +=1\n",
    "        return 0\n",
    "    elif n==1:\n",
    "        cnt_1 +=1\n",
    "        return 1\n",
    "    else:\n",
    "        return fibonacci(n-1)+fibonacci(n-2)\n",
    "\n",
    "cnt = int(input())\n",
    "\n",
    "for _ in range(cnt):\n",
    "    n = int(input())\n",
    "    fibonacci(n)\n",
    "    print(cnt_0, cnt_1, sep=' ')\n",
    "    cnt_0 = 0\n",
    "    cnt_1 = 0"
   ]
  },
  {
   "cell_type": "code",
   "execution_count": null,
   "id": "df9d1c59",
   "metadata": {},
   "outputs": [],
   "source": []
  }
 ],
 "metadata": {
  "kernelspec": {
   "display_name": "Python 3",
   "language": "python",
   "name": "python3"
  },
  "language_info": {
   "codemirror_mode": {
    "name": "ipython",
    "version": 3
   },
   "file_extension": ".py",
   "mimetype": "text/x-python",
   "name": "python",
   "nbconvert_exporter": "python",
   "pygments_lexer": "ipython3",
   "version": "3.8.8"
  }
 },
 "nbformat": 4,
 "nbformat_minor": 5
}
