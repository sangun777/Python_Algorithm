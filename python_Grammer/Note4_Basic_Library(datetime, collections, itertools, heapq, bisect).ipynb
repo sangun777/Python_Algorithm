{
 "cells": [
  {
   "cell_type": "markdown",
   "metadata": {},
   "source": [
    "# 기본 라이브러리 정리"
   ]
  },
  {
   "cell_type": "markdown",
   "metadata": {},
   "source": [
    "## 내용 정리 목차\n",
    "* !날짜\n",
    "* !시간\n",
    "    * 현재 시간\n",
    "    * UTC 시간\n",
    "    * 시스템 시간\n",
    "* 순열\n",
    "* 조합"
   ]
  },
  {
   "cell_type": "markdown",
   "metadata": {},
   "source": [
    "## 0. datetime\n",
    "\n",
    "## 1. collections\n",
    "* .defaultdict(디폴트자료형)\n",
    "    * 존재하지 않는 키를 조회할 경우, 에러 대신, 디폴트 값을 기준으로 해당 키에 대한 아이템 생성\n",
    "* .Counter(리스트)\n",
    "    * Counter 객체(딕셔너리)로 반환\n",
    "    * 객체.most_common() => [(키, 갯수), (키, 갯수)]로 반환\n",
    "* .deque(리스트) : 양방향 큐인 deque 객체 반환\n",
    "    * 객체.rotate(n) : n번 돌리기\n",
    "    * .appendleft(값) : 왼쪽에 값 추가 - 시간복잡도 : O(1)\n",
    "    * .popleft(값) : 왼쪽에 값 빼기 - 시간복잡도 : O(1)\n",
    "    * .append(값) : 왼쪽에 값 추가 - 시간복잡도 : O(1)\n",
    "    * .pop(값) : 왼쪽에 값 추가 - 시간복잡도 : O(1)\n",
    "    \n",
    "    * 리스트를 사용하면 왼쪽 추가제거는 O(N)임\n",
    "    * deque는 인덱싱, 슬라이싱 기능 없음\n",
    "\n",
    " * OrderedDict(파이썬 3.7 이후로 불필요)\n",
    "    * 대부분의 해시테이블과 달리 입력 순서가 유지되는 객체 제공\n",
    "    * 파이썬 3.7부터는 딕셔너리가 자체적으로 입력 순서를 유지하여 불필요함\n",
    "    \n",
    "    \n",
    "## 2. itertools\n",
    "* .accumulate(리스트) : 누적합 객체 생성 => for i in 객체: 사용\n",
    "* .permutations(p, r) : 순열(p객체에서 r개 꺼내기) 객체 반환\n",
    "    * 리스트 형태로 반환하기 : list(permutations(리스트, 갯수))\n",
    "* .combinations(p, r) : 조합 객체 반환(순열과 사용법 비슷)\n",
    "* .combinations_with_replacement(p, r) : 중복을 허용한 조합\n",
    "* .product(p, r) : 중복을 허용한 순열(순서 있음)\n",
    "\n",
    "## 3. heapq\n",
    "* 파이썬 heapq 모듈은 heapq (priority queue) 알고리즘을 제공\n",
    "    * 내부적으로는 인덱스 0에서 시작해 k번째 원소가 항상 자식 원소들(2k+1, 2k+2) 보다  \n",
    "      작거나 같은 최소 힙의 형태로 정렬  \n",
    "\n",
    "### 힙의 특징\n",
    "    * 데이터 삽입, 삭제의 시간복잡도가 모두 : O(logN) 임\n",
    "    * 리스트의 경우: 삽입=O(1), 삭제=O(N)\n",
    "\n",
    "\n",
    "### heapq 모듈 주요 기능\n",
    " * heapq.heappush(heap, item) : item을 heap에 추가\n",
    "     * heappush() 시간복잡도 : O(logN)\n",
    " * heapq.heappop(heap)\n",
    "     + heap에서 가장 작은 원소를 pop & 리턴. 비어 있는 경우 IndexError가 호출됨. \n",
    "     * 부모가 최솟값이므로 부모가 빠쪄나오고 새로운 최솟값이 부모가 됨\n",
    "     * heappop() 시간복잡도 : O(logN)\n",
    " * heapq.heapify(x) : 리스트 x를 즉각적으로 heap으로 변환함 (in linear time, O(N) )\n",
    " * heapq.heappush(리스트명, 넣을 값) : 리스트에 힙 형태로 값을 집어넣음\n",
    " * heapq.heappop(리스트명) : 힙형태로 저장된 리스트에서 최소 값을 뺌\n",
    "\n",
    "* 우선 순위가 가장 높은 자료(data)를 가장 먼저 꺼낼 수 있는 우선 순위 큐\n",
    "* 리스트등을 사용하여 우선 순위 큐를 직접 구현하는 것이 어렵진 않지만   \n",
    "  이런 작업에 최적화된 파이썬 표준 라이브러리인 heapq를 사용하는 것이 좋다.\n",
    "* 다익스트라 등 다양한 알고리즘에 사용  \n",
    "### 힙 정렬\n",
    "* 파이썬의 heapq은 최소힙으로 넣었다가(heappush) 빼면(heappop) 최소 값 출력\n",
    "* 최상단 원소가 가장 작은 원소\n",
    "* 시간복잡도 O(NlogN)의 오름차순 정렬  \n",
    "  \n",
    "  \n",
    "## 4. bisect(이진탐색 = binary search)\n",
    "\n",
    "* 정렬된 배열에서 특정한 원소를 찾을 때 효과적임\n",
    "\n",
    "* .bisect_left() 함수와 bisect_right() 함수가 가장 중요하게 사용됨\n",
    "    * 위 두함수는 시간복잡도가 O(logN)이다.\n",
    "\n",
    "\n",
    "* .bisect_left(리스트a, 값b)\n",
    "    * 정렬된 순서를 유지하면서, 리스트 a에 데이터 b를 삽입할 가장 왼쪽 인덱스를 찾는 메서드\n",
    "* .bisect_right(a, b)\n",
    "    * 정렬된 순서를 유지하면서, 리스트 a에 데이터 b를 삽입할 가장 오른쪽 인덱스를 찾는 메서드\n",
    "    \n",
    "## 5. functions\n",
    "    * 모듈은 고차 함수를 위한 것입니다\n",
    "    * 다른 함수에 작용하거나 다른 함수를 반환하는 함수\n",
    "* functions.reduce(함수, 리스트) : 리스트 요소를 왼쪽부터 오른쪽으로 함수를 누적 적용\n",
    "\n",
    "## 6. math\n",
    "* math.factorial(n) : n 팩토리얼을 int 반환\n",
    "* math.sqrt(n) : 루트 n을 float로 반환\n",
    "* math.gcd(a, b) : a, b의 최대공약수를 int로 반환\n",
    "* math.pi : 파이 근사 값을 float로 반환\n",
    "* math.e : 자연상수 값을 float로 반환\n",
    "\n",
    "## pprint\n",
    "* pprint.pprint(locals()) : 로컬에 선언된 모든 변수-값 조회(디버깅용)"
   ]
  },
  {
   "cell_type": "markdown",
   "metadata": {},
   "source": [
    "# 0. datetime\n",
    "\n",
    "### datetime.date : 날짜 표현\n",
    "    * 날짜를 표현하는 객체 date\n",
    "    * 연, 월, 일을 인자로 받음\n",
    "    * 기간 표현 객체인 timedelta와 덧셈, 뺄셈 가능\n",
    "    * date 객체는 불변(immutable) 객체(값 변경 시, 새로운 객체를 생성)\n",
    "\n",
    "    * datetime.date.today() : 오늘 날짜 객체 출력\n",
    "        datetime.timedelta 객체와 연산 가능\n",
    "        \n",
    "    * datetime.date,date객체명.isoformat() : date 객체를 YYYY-MM-DD 형태의 문자열로 반환\n",
    "    \n",
    "    * datetime.date.fromisoformat('YYYY-MM-DD') : 'YYYY-MM-DD' 문자열을 date 객체로 역변환\n",
    "    \n",
    "    * date.date객체명.year 또는 .month 또는 .day : 년, 월, 일을 int형으로 반환\n",
    "    \n",
    "### 요일에 따른 숫자 반환\n",
    "    * date 객체에 해당하는 요일일 숫자로 반환\n",
    "        * .weekday() : 월요일 = 0 ~ 일요일 = 6\n",
    "        * .isoweekday() : 월요일 = 1 ~ 일요일 = 7\n",
    "        \n",
    "    * date객체.replace(year = x, month = y, day = z)\n",
    "        * 년, 월, 일 데이터를 변경\n",
    "        * date 객체는 불변(immutable)하기 때문에 속성값이 변경된 새로운 date 객체를 생성하여 반환\n",
    "        * 원본은 유지됨\n",
    "        \n",
    "### datetime.time : 시간 표현(시, 분, 초, 마이크로초, 시간대)\n",
    "\n",
    "    * 시, 분, 초, 마이크로초, 시간대를 인자로 받지만 필수는 아니고, 기본 값은 0임.\n",
    "        * time 객체는 각각 .hour, .minute, .second, .microsecond, .tzinfo 속성을 가짐\n",
    "            * .tzinfo는 datetime.timezone 타입이며, 나머지는 int형\n",
    "            \n",
    "### time 객체는 +-등 연산이 수행되지 않음, 연산은 timedelta 객체를 이용할 것!\n",
    "    \n",
    "    * time객체.isoformat()\n",
    "        * time객체를 \"HH[:MM[:SS[.fff[fff]]]][+HH:MM[:SS[.ffffff]]]\" 형태의 문자열로 반환\n",
    "            * []는 생략 가능하다는 의미\n",
    "    \n",
    "    \n",
    "    * time객체.fromisoformat() : 위 문자열을 time 객체로 역변환\n",
    "    \n",
    "    * time객체.replace(속성 = 값) : 해당 속성 변경\n",
    "    \n",
    "    \n",
    "### datetime.datetime : 날짜와 시간을 모두 표현(연, 월, 일, 시, 분, 초, 마이크로초, 시간대)\n",
    "\n",
    "    * datetime.datetime(연, 월, 일, 시, 분, 초, 마이크로초, 시간대) : datetime 객체 생성\n",
    "    \n",
    "    * datetime.combine(date객체, time객체) : date객체와 time객체를 합쳐 datetime 객체 생성\n",
    "    \n",
    "    * datetime.now() : 현재 날짜+시간에 대한 datetime객체 반환\n",
    "        * 시간대(tzinfo)를 인자로 받아 해당 시간대에 대한 현재 날짜+시간을 받을 수 있음\n",
    "        \n",
    "    * datetime객체.strftime('날짜양식') : 양식에 맞추어 datetime 객체를 문자열로 반환\n",
    "        * 문자열 양식은 파이썬 공식 레퍼런스 참조\n",
    "            * https://docs.python.org/3/library/datetime.html#strftime-and-strptime-format-codes\n",
    "    \n",
    "    * datetime.strptime('문자열', '날짜양식') 양식에 맞추어 문자열을 datetime 객체로 재반환\n",
    "    \n",
    "\n",
    "\n",
    "### datetime.timedelta : 기간 표현(일, 초, 마이크로 초)\n",
    "\n",
    "    * datetime.timedelta : 기간 표현, 기간에 대한 사칙연산 가능, 크기 비교가능\n",
    "        * timedelta 객체는 내부적으로 일, 초, 마이크로 초 단위만 저장\n",
    "        \n",
    "    * timezone\n",
    "        * UTC 기준으로 시차를 표현하는 객체\n",
    "        * timedelta 객체를 인자로 받아 timezone 객체 생성\n",
    "        \n",
    "### datetime.timezone : 시간대(UTC 시차) 표현\n",
    "    * 시간대(UTC 시차)를 표현하는 객체\n",
    "    * 입력인자로 timedelta객체를 받아 그 만큼의 시차 객체(timezone객체) 생성\n",
    "    * time객체, datetime객체의 tzinfo 속성 값으로 사용됨\n",
    "    \n",
    "\n",
    "## 한국의 시차\n",
    "### Coordinated Universal Time 시간으로 수요일 오전 8:33이면\n",
    "### 수요일 오후 5:33, 대한민국(GMT+9)입니다."
   ]
  },
  {
   "cell_type": "code",
   "execution_count": 12,
   "metadata": {},
   "outputs": [],
   "source": [
    "from datetime import date"
   ]
  },
  {
   "cell_type": "code",
   "execution_count": 15,
   "metadata": {},
   "outputs": [
    {
     "data": {
      "text/plain": [
       "datetime.date(2021, 11, 24)"
      ]
     },
     "execution_count": 15,
     "metadata": {},
     "output_type": "execute_result"
    }
   ],
   "source": [
    "date.today()"
   ]
  },
  {
   "cell_type": "markdown",
   "metadata": {},
   "source": [
    "### datetime.date : 날짜 표현\n",
    "    * 날짜를 표현하는 객체 date\n",
    "    * 연, 월, 일을 인자로 받음\n",
    "    * 기간 표현 객체인 timedelta와 덧셈, 뺄셈 가능\n",
    "    * date 객체는 불변(immutable) 객체(값 변경 시, 새로운 객체를 생성)\n",
    "\n",
    "    * datetime.date.today() : 오늘 날짜 객체 출력\n",
    "        datetime.timedelta 객체와 연산 가능\n",
    "        \n",
    "    * datetime.date,date객체명.isoformat() : date 객체를 YYYY-MM-DD 형태의 문자열로 반환\n",
    "    \n",
    "    * datetime.date.fromisoformat('YYYY-MM-DD') : 'YYYY-MM-DD' 문자열을 date 객체로 역변환\n",
    "    \n",
    "    * date.date객체명.year 또는 .month 또는 .day : 년, 월, 일을 int형으로 반환"
   ]
  },
  {
   "cell_type": "markdown",
   "metadata": {},
   "source": [
    " * datetime.date(년, 월, 일) : 날짜 표현"
   ]
  },
  {
   "cell_type": "code",
   "execution_count": 32,
   "metadata": {},
   "outputs": [
    {
     "data": {
      "text/plain": [
       "datetime.date(2019, 12, 25)"
      ]
     },
     "execution_count": 32,
     "metadata": {},
     "output_type": "execute_result"
    }
   ],
   "source": [
    "from datetime import date\n",
    "\n",
    "date(2019, 12, 25)"
   ]
  },
  {
   "cell_type": "markdown",
   "metadata": {},
   "source": [
    " * date.today() : 오늘 날짜의 date 객체 생성"
   ]
  },
  {
   "cell_type": "code",
   "execution_count": 34,
   "metadata": {},
   "outputs": [
    {
     "data": {
      "text/plain": [
       "datetime.date(2021, 10, 10)"
      ]
     },
     "execution_count": 34,
     "metadata": {},
     "output_type": "execute_result"
    }
   ],
   "source": [
    "date.today()"
   ]
  },
  {
   "cell_type": "markdown",
   "metadata": {},
   "source": [
    " * .isoformat() : 'YYYY-MM-DD' 형태의 문자열 반환"
   ]
  },
  {
   "cell_type": "code",
   "execution_count": 39,
   "metadata": {},
   "outputs": [
    {
     "data": {
      "text/plain": [
       "'2021-10-10'"
      ]
     },
     "execution_count": 39,
     "metadata": {},
     "output_type": "execute_result"
    }
   ],
   "source": [
    "date.today().isoformat()"
   ]
  },
  {
   "cell_type": "markdown",
   "metadata": {},
   "source": [
    " * fromisoformat() : 'YYYY-MM-DD' 문자열을 date 객체로 역변환"
   ]
  },
  {
   "cell_type": "code",
   "execution_count": 40,
   "metadata": {},
   "outputs": [
    {
     "data": {
      "text/plain": [
       "datetime.date(2021, 1, 10)"
      ]
     },
     "execution_count": 40,
     "metadata": {},
     "output_type": "execute_result"
    }
   ],
   "source": [
    "date.fromisoformat('2021-01-10')"
   ]
  },
  {
   "cell_type": "markdown",
   "metadata": {},
   "source": [
    " * date 객체는 .year .month .day 속성(int형)을 가지고 있음"
   ]
  },
  {
   "cell_type": "code",
   "execution_count": 44,
   "metadata": {},
   "outputs": [
    {
     "name": "stdout",
     "output_type": "stream",
     "text": [
      "2019\n",
      "<class 'int'>\n",
      "12\n",
      "<class 'int'>\n",
      "25\n",
      "<class 'int'>\n"
     ]
    }
   ],
   "source": [
    "a = date(2019, 12, 25)\n",
    "\n",
    "print(a.year)\n",
    "print(type(a.year))\n",
    "print(a.month)\n",
    "print(type(a.month))\n",
    "print(a.day)\n",
    "print(type(a.day))"
   ]
  },
  {
   "cell_type": "markdown",
   "metadata": {},
   "source": [
    "### 요일에 따른 숫자 반환\n",
    "    * date 객체에 해당하는 요일일 숫자로 반환\n",
    "        * .weekday() : 월요일 = 0 ~ 일요일 = 6\n",
    "        * .isoweekday() : 월요일 = 1 ~ 일요일 = 7"
   ]
  },
  {
   "cell_type": "code",
   "execution_count": 50,
   "metadata": {},
   "outputs": [
    {
     "name": "stdout",
     "output_type": "stream",
     "text": [
      "월요일(weekday) :  0\n",
      "월요일(isoweekday) :  1\n",
      "\n",
      "화요일(weekday) :  1\n",
      "화요일(isoweekday) :  2\n",
      "\n",
      "수요일(weekday) :  2\n",
      "수요일(isoweekday) :  3\n",
      "\n",
      "목요일(weekday) :  3\n",
      "목요일(isoweekday) :  4\n",
      "\n",
      "금요일(weekday) :  4\n",
      "금요일(isoweekday) :  5\n",
      "\n",
      "토요일(weekday) :  5\n",
      "토요일(isoweekday) :  6\n",
      "\n",
      "일요일(weekday) :  6\n",
      "일요일(isoweekday) :  7\n",
      "\n",
      "월요일(weekday) :  0\n",
      "월요일(isoweekday) :  1\n"
     ]
    }
   ],
   "source": [
    "print(\"월요일(weekday) : \", date(2021, 10, 11).weekday())\n",
    "print(\"월요일(isoweekday) : \", date(2021, 10, 11).isoweekday())\n",
    "print()\n",
    "print(\"화요일(weekday) : \", date(2021, 10, 12).weekday())\n",
    "print(\"화요일(isoweekday) : \", date(2021, 10, 12).isoweekday())\n",
    "print()\n",
    "print(\"수요일(weekday) : \", date(2021, 10, 13).weekday())\n",
    "print(\"수요일(isoweekday) : \", date(2021, 10, 13).isoweekday())\n",
    "print()\n",
    "print(\"목요일(weekday) : \", date(2021, 10, 14).weekday())\n",
    "print(\"목요일(isoweekday) : \", date(2021, 10, 14).isoweekday())\n",
    "print()\n",
    "print(\"금요일(weekday) : \", date(2021, 10, 15).weekday())\n",
    "print(\"금요일(isoweekday) : \", date(2021, 10, 15).isoweekday())\n",
    "print()\n",
    "print(\"토요일(weekday) : \", date(2021, 10, 16).weekday())\n",
    "print(\"토요일(isoweekday) : \", date(2021, 10, 16).isoweekday())\n",
    "print()\n",
    "print(\"일요일(weekday) : \", date(2021, 10, 17).weekday())\n",
    "print(\"일요일(isoweekday) : \", date(2021, 10, 17).isoweekday())\n",
    "print()\n",
    "print(\"월요일(weekday) : \", date(2021, 10, 18).weekday())\n",
    "print(\"월요일(isoweekday) : \", date(2021, 10, 18).isoweekday())"
   ]
  },
  {
   "cell_type": "markdown",
   "metadata": {},
   "source": [
    "### date객체.replace(year = x, month = y, day = z)\n",
    "\n",
    "* 년, 월, 일 데이터를 변경\n",
    "* date 객체는 불변(immutable)하기 때문에 속성값이 변경된 새로운 date 객체를 생성하여 반환\n",
    "* 원본은 유지됨"
   ]
  },
  {
   "cell_type": "code",
   "execution_count": 52,
   "metadata": {},
   "outputs": [
    {
     "name": "stdout",
     "output_type": "stream",
     "text": [
      "2021-10-11\n",
      "2018-10-11\n",
      "2021-07-30\n",
      "2021-10-11\n"
     ]
    }
   ],
   "source": [
    "a = date(2021, 10, 11)\n",
    "\n",
    "print(a)\n",
    "print(a.replace(year = 2018))\n",
    "print(a.replace(month = 7, day = 30))\n",
    "print(a) # 원본은 유지됨"
   ]
  },
  {
   "cell_type": "code",
   "execution_count": 45,
   "metadata": {},
   "outputs": [
    {
     "data": {
      "text/plain": [
       "datetime.date(2021, 10, 11)"
      ]
     },
     "execution_count": 45,
     "metadata": {},
     "output_type": "execute_result"
    }
   ],
   "source": [
    "date(2021, 10, 11)"
   ]
  },
  {
   "cell_type": "markdown",
   "metadata": {},
   "source": [
    "### datetime.time : 시간 표현(시, 분, 초, 마이크로초, 시간대)\n",
    "\n",
    "    * 시, 분, 초, 마이크로초, 시간대를 인자로 받지만 필수는 아니고, 기본 값은 0임.\n",
    "        * time 객체는 각각 .hour, .minute, .second, .microsecond, .tzinfo 속성을 가짐\n",
    "            * .tzinfo는 datetime.timezone 타입이며, 나머지는 int형\n",
    "    \n",
    "    * time객체.isoformat()\n",
    "        * time객체를 \"HH[:MM[:SS[.fff[fff]]]][+HH:MM[:SS[.ffffff]]]\" 형태의 문자열로 반환\n",
    "            * []는 생략 가능하다는 의미\n",
    "    \n",
    "    \n",
    "    * time객체.fromisoformat() : 위 문자열을 time 객체로 역변환\n",
    "    \n",
    "    * time객체.replace(속성 = 값) : 해당 속성 변경"
   ]
  },
  {
   "cell_type": "markdown",
   "metadata": {},
   "source": [
    " * time 객체 생성"
   ]
  },
  {
   "cell_type": "code",
   "execution_count": 16,
   "metadata": {},
   "outputs": [
    {
     "data": {
      "text/plain": [
       "datetime.time(13, 42, 35)"
      ]
     },
     "execution_count": 16,
     "metadata": {},
     "output_type": "execute_result"
    }
   ],
   "source": [
    "from datetime import time\n",
    "\n",
    "time(13, 42, 35) # 시, 분, 초, 마이크로초, timezone 순서로 인자를 받음"
   ]
  },
  {
   "cell_type": "code",
   "execution_count": 19,
   "metadata": {},
   "outputs": [
    {
     "data": {
      "text/plain": [
       "datetime.time(0, 0)"
      ]
     },
     "execution_count": 19,
     "metadata": {},
     "output_type": "execute_result"
    }
   ],
   "source": [
    "time()"
   ]
  },
  {
   "cell_type": "code",
   "execution_count": 18,
   "metadata": {},
   "outputs": [
    {
     "data": {
      "text/plain": [
       "datetime.time(13, 0)"
      ]
     },
     "execution_count": 18,
     "metadata": {},
     "output_type": "execute_result"
    }
   ],
   "source": [
    "time(13)"
   ]
  },
  {
   "cell_type": "code",
   "execution_count": 20,
   "metadata": {},
   "outputs": [
    {
     "data": {
      "text/plain": [
       "datetime.time(13, 42)"
      ]
     },
     "execution_count": 20,
     "metadata": {},
     "output_type": "execute_result"
    }
   ],
   "source": [
    "time(13, 42)"
   ]
  },
  {
   "cell_type": "code",
   "execution_count": 21,
   "metadata": {},
   "outputs": [
    {
     "data": {
      "text/plain": [
       "datetime.time(13, 42, 35)"
      ]
     },
     "execution_count": 21,
     "metadata": {},
     "output_type": "execute_result"
    }
   ],
   "source": [
    "time(13, 42, 35)"
   ]
  },
  {
   "cell_type": "markdown",
   "metadata": {},
   "source": [
    " * time객체 생성시, 입력 가능한 timezone의 범위는 -24h ~ 24h다."
   ]
  },
  {
   "cell_type": "code",
   "execution_count": 56,
   "metadata": {},
   "outputs": [
    {
     "ename": "ValueError",
     "evalue": "offset must be a timedelta strictly between -timedelta(hours=24) and timedelta(hours=24), not datetime.timedelta(days=7).",
     "output_type": "error",
     "traceback": [
      "\u001b[1;31m---------------------------------------------------------------------------\u001b[0m",
      "\u001b[1;31mValueError\u001b[0m                                Traceback (most recent call last)",
      "\u001b[1;32m<ipython-input-56-2137be460e48>\u001b[0m in \u001b[0;36m<module>\u001b[1;34m\u001b[0m\n\u001b[0;32m      2\u001b[0m \u001b[1;32mfrom\u001b[0m \u001b[0mdatetime\u001b[0m \u001b[1;32mimport\u001b[0m \u001b[0mtimedelta\u001b[0m\u001b[1;33m\u001b[0m\u001b[1;33m\u001b[0m\u001b[0m\n\u001b[0;32m      3\u001b[0m \u001b[1;33m\u001b[0m\u001b[0m\n\u001b[1;32m----> 4\u001b[1;33m \u001b[0mtime\u001b[0m\u001b[1;33m(\u001b[0m\u001b[1;36m1\u001b[0m\u001b[1;33m,\u001b[0m \u001b[1;36m2\u001b[0m\u001b[1;33m,\u001b[0m \u001b[1;36m3\u001b[0m\u001b[1;33m,\u001b[0m \u001b[1;36m4\u001b[0m\u001b[1;33m,\u001b[0m \u001b[0mtimezone\u001b[0m\u001b[1;33m(\u001b[0m\u001b[0mtimedelta\u001b[0m\u001b[1;33m(\u001b[0m\u001b[0mweeks\u001b[0m \u001b[1;33m=\u001b[0m \u001b[1;36m1\u001b[0m\u001b[1;33m)\u001b[0m\u001b[1;33m)\u001b[0m\u001b[1;33m)\u001b[0m\u001b[1;33m\u001b[0m\u001b[1;33m\u001b[0m\u001b[0m\n\u001b[0m",
      "\u001b[1;31mValueError\u001b[0m: offset must be a timedelta strictly between -timedelta(hours=24) and timedelta(hours=24), not datetime.timedelta(days=7)."
     ]
    }
   ],
   "source": [
    "from datetime import timezone\n",
    "from datetime import timedelta\n",
    "\n",
    "time(1, 2, 3, 4, timezone(timedelta(weeks = 1))) # 입력 가능한 timezone의 범위는 -24h ~ 24h다."
   ]
  },
  {
   "cell_type": "code",
   "execution_count": 57,
   "metadata": {},
   "outputs": [
    {
     "data": {
      "text/plain": [
       "datetime.time(1, 2, 3, 4, tzinfo=datetime.timezone(datetime.timedelta(seconds=61200)))"
      ]
     },
     "execution_count": 57,
     "metadata": {},
     "output_type": "execute_result"
    }
   ],
   "source": [
    "time(1, 2, 3, 4, timezone(timedelta(hours = 17)))"
   ]
  },
  {
   "cell_type": "markdown",
   "metadata": {},
   "source": [
    " * time객체.isoformat() : 문자열 반환"
   ]
  },
  {
   "cell_type": "code",
   "execution_count": 58,
   "metadata": {},
   "outputs": [
    {
     "data": {
      "text/plain": [
       "'01:02:03.000004+17:00'"
      ]
     },
     "execution_count": 58,
     "metadata": {},
     "output_type": "execute_result"
    }
   ],
   "source": [
    "a = time(1, 2, 3, 4, timezone(timedelta(hours = 17)))\n",
    "a.isoformat()"
   ]
  },
  {
   "cell_type": "markdown",
   "metadata": {},
   "source": [
    " * time.fromisoformat(문자열) : 문자열을 객체로 재반환"
   ]
  },
  {
   "cell_type": "code",
   "execution_count": 60,
   "metadata": {},
   "outputs": [
    {
     "data": {
      "text/plain": [
       "datetime.time(1, 2, 3, 4, tzinfo=datetime.timezone(datetime.timedelta(seconds=61200)))"
      ]
     },
     "execution_count": 60,
     "metadata": {},
     "output_type": "execute_result"
    }
   ],
   "source": [
    "b = a.isoformat()\n",
    "\n",
    "time.fromisoformat(b)"
   ]
  },
  {
   "cell_type": "markdown",
   "metadata": {},
   "source": [
    " * time 객체의 속성들 : hour, minute, second, microsecond, tzinfo"
   ]
  },
  {
   "cell_type": "code",
   "execution_count": 64,
   "metadata": {},
   "outputs": [
    {
     "name": "stdout",
     "output_type": "stream",
     "text": [
      "1\n",
      "<class 'int'>\n",
      "\n",
      "2\n",
      "<class 'int'>\n",
      "\n",
      "3\n",
      "<class 'int'>\n",
      "\n",
      "4\n",
      "<class 'int'>\n",
      "\n",
      "UTC+17:00\n",
      "<class 'datetime.timezone'>\n",
      "\n"
     ]
    }
   ],
   "source": [
    "print(a.hour)\n",
    "print(type(a.hour), end = '\\n\\n')\n",
    "print(a.minute)\n",
    "print(type(a.minute), end = '\\n\\n')\n",
    "print(a.second)\n",
    "print(type(a.second), end = '\\n\\n')\n",
    "print(a.microsecond)\n",
    "print(type(a.microsecond), end = '\\n\\n')\n",
    "print(a.tzinfo)\n",
    "print(type(a.tzinfo), end = '\\n\\n')"
   ]
  },
  {
   "cell_type": "markdown",
   "metadata": {},
   "source": [
    " * time객체.replace(속성 = 값)"
   ]
  },
  {
   "cell_type": "code",
   "execution_count": 65,
   "metadata": {},
   "outputs": [
    {
     "data": {
      "text/plain": [
       "datetime.time(1, 7, 3, 4, tzinfo=datetime.timezone(datetime.timedelta(seconds=61200)))"
      ]
     },
     "execution_count": 65,
     "metadata": {},
     "output_type": "execute_result"
    }
   ],
   "source": [
    "a.replace(minute = 7)"
   ]
  },
  {
   "cell_type": "markdown",
   "metadata": {},
   "source": [
    "### time 객체는 사칙연산 수행되지 않음!!!\n",
    "    * 연산은 timedelta객체를 이용하자!!"
   ]
  },
  {
   "cell_type": "code",
   "execution_count": 70,
   "metadata": {},
   "outputs": [
    {
     "ename": "TypeError",
     "evalue": "unsupported operand type(s) for +: 'datetime.time' and 'datetime.time'",
     "output_type": "error",
     "traceback": [
      "\u001b[1;31m---------------------------------------------------------------------------\u001b[0m",
      "\u001b[1;31mTypeError\u001b[0m                                 Traceback (most recent call last)",
      "\u001b[1;32m<ipython-input-70-17d1f92809f7>\u001b[0m in \u001b[0;36m<module>\u001b[1;34m\u001b[0m\n\u001b[0;32m      1\u001b[0m \u001b[0ma\u001b[0m \u001b[1;33m=\u001b[0m \u001b[0mtime\u001b[0m\u001b[1;33m(\u001b[0m\u001b[0mhour\u001b[0m \u001b[1;33m=\u001b[0m \u001b[1;36m4\u001b[0m\u001b[1;33m)\u001b[0m\u001b[1;33m\u001b[0m\u001b[1;33m\u001b[0m\u001b[0m\n\u001b[0;32m      2\u001b[0m \u001b[0mb\u001b[0m \u001b[1;33m=\u001b[0m \u001b[0mtime\u001b[0m\u001b[1;33m(\u001b[0m\u001b[0mhour\u001b[0m \u001b[1;33m=\u001b[0m \u001b[1;36m7\u001b[0m\u001b[1;33m)\u001b[0m\u001b[1;33m\u001b[0m\u001b[1;33m\u001b[0m\u001b[0m\n\u001b[1;32m----> 3\u001b[1;33m \u001b[0mc\u001b[0m \u001b[1;33m=\u001b[0m \u001b[0ma\u001b[0m \u001b[1;33m+\u001b[0m \u001b[0mb\u001b[0m\u001b[1;33m\u001b[0m\u001b[1;33m\u001b[0m\u001b[0m\n\u001b[0m\u001b[0;32m      4\u001b[0m \u001b[1;33m\u001b[0m\u001b[0m\n\u001b[0;32m      5\u001b[0m \u001b[0mprint\u001b[0m\u001b[1;33m(\u001b[0m\u001b[0ma\u001b[0m\u001b[1;33m)\u001b[0m\u001b[1;33m\u001b[0m\u001b[1;33m\u001b[0m\u001b[0m\n",
      "\u001b[1;31mTypeError\u001b[0m: unsupported operand type(s) for +: 'datetime.time' and 'datetime.time'"
     ]
    }
   ],
   "source": [
    "a = time(hour = 4)\n",
    "b = time(hour = 7)\n",
    "c = a + b\n",
    "\n",
    "print(a)\n",
    "print(b)\n",
    "print(c)"
   ]
  },
  {
   "cell_type": "markdown",
   "metadata": {},
   "source": [
    "### datetime.datetime : 날짜와 시간을 모두 표현(연, 월, 일, 시, 분, 초, 마이크로초, 시간대)\n",
    "\n",
    "    * datetime.datetime(연, 월, 일, 시, 분, 초, 마이크로초, 시간대) : datetime 객체 생성\n",
    "    \n",
    "    * datetime.combine(date객체, time객체) : date객체와 time객체를 합쳐 datetime 객체 생성\n",
    "    \n",
    "    * datetime.now() : 현재 날짜+시간에 대한 datetime객체 반환\n",
    "        * 시간대(tzinfo)를 인자로 받아 해당 시간대에 대한 현재 날짜+시간을 받을 수 있음\n",
    "        \n",
    "    * datetime객체.strftime('날짜양식') : 양식에 맞추어 datetime 객체를 문자열로 반환\n",
    "        * 문자열 양식은 파이썬 공식 레퍼런스 참조\n",
    "            * https://docs.python.org/3/library/datetime.html#strftime-and-strptime-format-codes\n",
    "    \n",
    "    * datetime.strptime('문자열', '날짜양식') 양식에 맞추어 문자열을 datetime 객체로 재반환"
   ]
  },
  {
   "cell_type": "code",
   "execution_count": 24,
   "metadata": {},
   "outputs": [],
   "source": [
    "from datetime import datetime, timedelta, timezone"
   ]
  },
  {
   "cell_type": "markdown",
   "metadata": {},
   "source": [
    " * datetime(연, 월, 일, [시, 분, 초, 마이크로초, 시간대])\n",
    "     * 연, 월, 일 속성은 필수이고, 나머지는 선택(기본 값 = 0)"
   ]
  },
  {
   "cell_type": "code",
   "execution_count": 84,
   "metadata": {},
   "outputs": [
    {
     "data": {
      "text/plain": [
       "datetime.datetime(2018, 7, 18, 16, 26, 23, 10000, tzinfo=datetime.timezone(datetime.timedelta(seconds=3600)))"
      ]
     },
     "execution_count": 84,
     "metadata": {},
     "output_type": "execute_result"
    }
   ],
   "source": [
    "datetime(2018, 7, 18, 16, 26, 23, 10000, timezone(timedelta(hours=1)))"
   ]
  },
  {
   "cell_type": "markdown",
   "metadata": {},
   "source": [
    " * 연, 월, 일만 설정하기"
   ]
  },
  {
   "cell_type": "code",
   "execution_count": 85,
   "metadata": {},
   "outputs": [
    {
     "data": {
      "text/plain": [
       "datetime.datetime(2016, 2, 15, 0, 0)"
      ]
     },
     "execution_count": 85,
     "metadata": {},
     "output_type": "execute_result"
    }
   ],
   "source": [
    "datetime(2016, 2, 15)"
   ]
  },
  {
   "cell_type": "markdown",
   "metadata": {},
   "source": [
    " * 연, 월, 일도 제대로 설정 안하기 => 에러 발생!"
   ]
  },
  {
   "cell_type": "code",
   "execution_count": 25,
   "metadata": {},
   "outputs": [
    {
     "ename": "TypeError",
     "evalue": "function missing required argument 'day' (pos 3)",
     "output_type": "error",
     "traceback": [
      "\u001b[1;31m---------------------------------------------------------------------------\u001b[0m",
      "\u001b[1;31mTypeError\u001b[0m                                 Traceback (most recent call last)",
      "\u001b[1;32m<ipython-input-25-23f90eae0b72>\u001b[0m in \u001b[0;36m<module>\u001b[1;34m\u001b[0m\n\u001b[1;32m----> 1\u001b[1;33m \u001b[0mdatetime\u001b[0m\u001b[1;33m(\u001b[0m\u001b[1;36m2017\u001b[0m\u001b[1;33m,\u001b[0m \u001b[1;36m6\u001b[0m\u001b[1;33m)\u001b[0m\u001b[1;33m\u001b[0m\u001b[1;33m\u001b[0m\u001b[0m\n\u001b[0m",
      "\u001b[1;31mTypeError\u001b[0m: function missing required argument 'day' (pos 3)"
     ]
    }
   ],
   "source": [
    "datetime(2017, 6)"
   ]
  },
  {
   "cell_type": "markdown",
   "metadata": {},
   "source": [
    " * datetime(라이브러리).combine(date객체, time객체) : 두 객체를 합쳐 datetime 객체로 만들기"
   ]
  },
  {
   "cell_type": "code",
   "execution_count": 26,
   "metadata": {},
   "outputs": [
    {
     "data": {
      "text/plain": [
       "datetime.datetime(2019, 2, 16, 16, 23, 11, 5400)"
      ]
     },
     "execution_count": 26,
     "metadata": {},
     "output_type": "execute_result"
    }
   ],
   "source": [
    "a = date(2019, 2, 16)\n",
    "b = time(16, 23, 11, 5400)\n",
    "\n",
    "datetime.combine(a, b)"
   ]
  },
  {
   "cell_type": "markdown",
   "metadata": {},
   "source": [
    "* datetime.now() : 현재 시각에 대한 datetime객체 생성\n",
    "    * 입력 인자로 시간대 지정가능"
   ]
  },
  {
   "cell_type": "code",
   "execution_count": 27,
   "metadata": {},
   "outputs": [
    {
     "data": {
      "text/plain": [
       "datetime.datetime(2021, 11, 24, 17, 32, 36, 13328)"
      ]
     },
     "execution_count": 27,
     "metadata": {},
     "output_type": "execute_result"
    }
   ],
   "source": [
    "datetime.now()"
   ]
  },
  {
   "cell_type": "code",
   "execution_count": 29,
   "metadata": {},
   "outputs": [
    {
     "data": {
      "text/plain": [
       "datetime.datetime(2021, 11, 25, 0, 33, 1, 571812, tzinfo=datetime.timezone(datetime.timedelta(seconds=57600)))"
      ]
     },
     "execution_count": 29,
     "metadata": {},
     "output_type": "execute_result"
    }
   ],
   "source": [
    "datetime.now(timezone(timedelta(hours = 16)))"
   ]
  },
  {
   "cell_type": "markdown",
   "metadata": {},
   "source": [
    "### datetime객체.strftime('날짜양식') : 양식에 맞추어 datetime 객체를 문자열로 반환\n",
    "        * 문자열 양식은 파이썬 공식 레퍼런스 참조\n",
    "            * https://docs.python.org/3/library/datetime.html#strftime-and-strptime-format-codes\n",
    "    \n",
    "### datetime.strptime('문자열', '날짜양식') 양식에 맞추어 문자열을 datetime 객체로 재반환"
   ]
  },
  {
   "cell_type": "markdown",
   "metadata": {},
   "source": [
    " * datetime객체.strftime(문자열 양식)\n",
    "     * 문자열 양식은 파이썬 공식 레퍼런스 참조\n",
    "            * https://docs.python.org/3/library/datetime.html#strftime-and-strptime-format-codes\n",
    "            \n",
    "        * %a : 요일 약어 (Sun)\n",
    "        * %A : 요일 풀네임 (Sunday)\n",
    "        * %w : 요일 숫자(0(일요일)~6(토요일))\n",
    "        * %U : 일년 중 몇째 주인지 (00~53, 주 시작은 일요일)\n",
    "        * %W : 일년 중 몇째 주인지 (00~53, 주 시작은 월요일)\n",
    "\n",
    "    * 년, 월, 일, 시, 분, 초, 마이크로초, 시간대\n",
    "    * %Y(4자리수), %m(2자리수), %d(2자리수), %I(시간 01~12), %M(00~59), %S(00~59), %f(000000~999999), %z(timezone HH:MM[SS[.ffffff]] \n",
    "            \n",
    "        * %y : 년(뒤에 2자리만)\n",
    "        * %B : 월 알파벳 풀네임\n",
    "        * %b : 월 알파벳 약어\n",
    "        * %H : 시간(00 ~ 23)\n",
    "        * %I : 시간(01 ~ 12)\n",
    "        * %p : AM or PM\n",
    "        * %Z : 시간대 명(empth, UTC, GMT)\n",
    "        * %j : 연중 일(001~366)        \n",
    "        * %c : Tue Aug 16 21:30:00 1988\n",
    "        * %D : 10/11/21\n",
    "        * %x : 08/16/1988\n",
    "        * %X : 21:30:00"
   ]
  },
  {
   "cell_type": "code",
   "execution_count": 95,
   "metadata": {},
   "outputs": [
    {
     "data": {
      "text/plain": [
       "'2021/10/10'"
      ]
     },
     "execution_count": 95,
     "metadata": {},
     "output_type": "execute_result"
    }
   ],
   "source": [
    "d = datetime.now()\n",
    "\n",
    "d.strftime(\"%Y/%m/%d\")"
   ]
  },
  {
   "cell_type": "code",
   "execution_count": 100,
   "metadata": {},
   "outputs": [
    {
     "name": "stdout",
     "output_type": "stream",
     "text": [
      "Sun\n",
      "Sunday\n",
      "0\n",
      "40\n"
     ]
    }
   ],
   "source": [
    "print(d.strftime('%a')) # 요일 약어\n",
    "print(d.strftime('%A')) # 요일 풀네임\n",
    "print(d.strftime('%w')) # 요일 숫자\n",
    "print(d.strftime('%W')) # 주차"
   ]
  },
  {
   "cell_type": "code",
   "execution_count": 111,
   "metadata": {},
   "outputs": [
    {
     "data": {
      "text/plain": [
       "'2021 / 10(October) / 11 / 1(Monday) / AM / 03 / 08 / 19 / 338425 / UTC+17:00 / +1700'"
      ]
     },
     "execution_count": 111,
     "metadata": {},
     "output_type": "execute_result"
    }
   ],
   "source": [
    "e = datetime.now(timezone(timedelta(hours = 17)))\n",
    "\n",
    "# 연 / 월 / 일 / (0~6 일~토)요일 / AM or PM / 시 / 분 / 초 / 마이크로초 / 시간대명 / 시간대\n",
    "e.strftime(\"%Y / %m(%B) / %d / %w(%A) / %p / %I / %M / %S / %f / %Z / %z\")"
   ]
  },
  {
   "cell_type": "code",
   "execution_count": 110,
   "metadata": {},
   "outputs": [
    {
     "name": "stdout",
     "output_type": "stream",
     "text": [
      "10/11/21\n",
      "Mon Oct 11 03:05:42 2021\n",
      "10/11/21\n",
      "03:05:42\n"
     ]
    }
   ],
   "source": [
    "# 헷갈리는 것\n",
    "print(e.strftime(\"%D\"))    # day아님 주의, 월/일/년\n",
    "print(e.strftime(\"%c\"))    # 요일 월 일 시:분:초 년\n",
    "print(e.strftime(\"%x\"))    # 월/일/년\n",
    "print(e.strftime(\"%X\"))    # 시:분:초"
   ]
  },
  {
   "cell_type": "markdown",
   "metadata": {},
   "source": [
    " * datetime.strptime(\"문자열\", \"양식\") : 문자열을 datetime객체로 재변환"
   ]
  },
  {
   "cell_type": "code",
   "execution_count": 112,
   "metadata": {},
   "outputs": [
    {
     "data": {
      "text/plain": [
       "datetime.datetime(2021, 7, 29, 0, 0)"
      ]
     },
     "execution_count": 112,
     "metadata": {},
     "output_type": "execute_result"
    }
   ],
   "source": [
    "datetime.strptime(\"2021-07-29\", \"%Y-%m-%d\")"
   ]
  },
  {
   "cell_type": "markdown",
   "metadata": {},
   "source": [
    "### datetime.timedelta : 기간 표현(일, 초, 마이크로 초)\n",
    "\n",
    "    * datetime.timedelta : 기간 표현, 기간에 대한 사칙연산 가능, 크기 비교가능\n",
    "        * timedelta 객체는 내부적으로 일, 초, 마이크로 초 단위만 저장\n",
    "        \n",
    "    * timezone\n",
    "        * UTC 기준으로 시차를 표현하는 객체\n",
    "        * timedelta 객체를 인자로 받아 timezone 객체 생성"
   ]
  },
  {
   "cell_type": "markdown",
   "metadata": {},
   "source": [
    "### date 객체와 timedelta 객체간 연산"
   ]
  },
  {
   "cell_type": "markdown",
   "metadata": {},
   "source": [
    " * today, timedelta 덧셈"
   ]
  },
  {
   "cell_type": "code",
   "execution_count": 29,
   "metadata": {},
   "outputs": [
    {
     "data": {
      "text/plain": [
       "datetime.date(2021, 10, 17)"
      ]
     },
     "execution_count": 29,
     "metadata": {},
     "output_type": "execute_result"
    }
   ],
   "source": [
    "datetime.date.today() + datetime.timedelta(weeks = 1)"
   ]
  },
  {
   "cell_type": "code",
   "execution_count": 31,
   "metadata": {},
   "outputs": [
    {
     "data": {
      "text/plain": [
       "datetime.date(2021, 8, 29)"
      ]
     },
     "execution_count": 31,
     "metadata": {},
     "output_type": "execute_result"
    }
   ],
   "source": [
    "datetime.date.today() - datetime.timedelta(weeks = 6)"
   ]
  },
  {
   "cell_type": "markdown",
   "metadata": {},
   "source": [
    " * timedelta 객체 생성 및 사칙연산"
   ]
  },
  {
   "cell_type": "code",
   "execution_count": 5,
   "metadata": {},
   "outputs": [
    {
     "data": {
      "text/plain": [
       "datetime.timedelta(days=1, seconds=5400)"
      ]
     },
     "execution_count": 5,
     "metadata": {},
     "output_type": "execute_result"
    }
   ],
   "source": [
    "# timedelta 객체는 내부적으로 일, 초, 마이크로 초 단위만 저장하기 때문에, \n",
    "# hours, minutes 옵션은 seconds로 변환됨\n",
    "\n",
    "datetime.timedelta(days=1, hours=1, minutes=30)"
   ]
  },
  {
   "cell_type": "code",
   "execution_count": 8,
   "metadata": {},
   "outputs": [
    {
     "data": {
      "text/plain": [
       "datetime.timedelta(days=7)"
      ]
     },
     "execution_count": 8,
     "metadata": {},
     "output_type": "execute_result"
    }
   ],
   "source": [
    "datetime.timedelta(weeks = 1)"
   ]
  },
  {
   "cell_type": "code",
   "execution_count": 10,
   "metadata": {},
   "outputs": [
    {
     "data": {
      "text/plain": [
       "datetime.timedelta(days=14)"
      ]
     },
     "execution_count": 10,
     "metadata": {},
     "output_type": "execute_result"
    }
   ],
   "source": [
    "# 덧셈\n",
    "datetime.timedelta(weeks = 1) + datetime.timedelta(weeks = 1)"
   ]
  },
  {
   "cell_type": "code",
   "execution_count": 11,
   "metadata": {},
   "outputs": [
    {
     "data": {
      "text/plain": [
       "datetime.timedelta(days=1, seconds=5399, microseconds=999900)"
      ]
     },
     "execution_count": 11,
     "metadata": {},
     "output_type": "execute_result"
    }
   ],
   "source": [
    "# 뺄셈\n",
    "datetime.timedelta(days=1, hours=1, minutes=30) - datetime.timedelta(microseconds = 100)"
   ]
  },
  {
   "cell_type": "code",
   "execution_count": 13,
   "metadata": {},
   "outputs": [
    {
     "data": {
      "text/plain": [
       "datetime.timedelta(days=49)"
      ]
     },
     "execution_count": 13,
     "metadata": {},
     "output_type": "execute_result"
    }
   ],
   "source": [
    "# 곱셈\n",
    "datetime.timedelta(weeks = 1) * 7"
   ]
  },
  {
   "cell_type": "code",
   "execution_count": 14,
   "metadata": {},
   "outputs": [
    {
     "data": {
      "text/plain": [
       "datetime.timedelta(days=1)"
      ]
     },
     "execution_count": 14,
     "metadata": {},
     "output_type": "execute_result"
    }
   ],
   "source": [
    "# 나눗셈\n",
    "datetime.timedelta(weeks = 1) / 7"
   ]
  },
  {
   "cell_type": "code",
   "execution_count": 18,
   "metadata": {},
   "outputs": [
    {
     "name": "stdout",
     "output_type": "stream",
     "text": [
      "7.0\n",
      "<class 'float'>\n"
     ]
    }
   ],
   "source": [
    "# 나눗셈\n",
    "print(datetime.timedelta(weeks = 1) / datetime.timedelta(days = 1))\n",
    "print(type(datetime.timedelta(weeks = 1) / datetime.timedelta(days = 1)))"
   ]
  },
  {
   "cell_type": "code",
   "execution_count": 19,
   "metadata": {},
   "outputs": [
    {
     "data": {
      "text/plain": [
       "datetime.timedelta(days=2, seconds=28800)"
      ]
     },
     "execution_count": 19,
     "metadata": {},
     "output_type": "execute_result"
    }
   ],
   "source": [
    "datetime.timedelta(weeks = 1) / 3"
   ]
  },
  {
   "cell_type": "code",
   "execution_count": 20,
   "metadata": {},
   "outputs": [
    {
     "data": {
      "text/plain": [
       "datetime.timedelta(days=2, seconds=28800)"
      ]
     },
     "execution_count": 20,
     "metadata": {},
     "output_type": "execute_result"
    }
   ],
   "source": [
    "datetime.timedelta(weeks = 1) // 3"
   ]
  },
  {
   "cell_type": "code",
   "execution_count": 21,
   "metadata": {},
   "outputs": [
    {
     "ename": "TypeError",
     "evalue": "unsupported operand type(s) for %: 'datetime.timedelta' and 'int'",
     "output_type": "error",
     "traceback": [
      "\u001b[1;31m---------------------------------------------------------------------------\u001b[0m",
      "\u001b[1;31mTypeError\u001b[0m                                 Traceback (most recent call last)",
      "\u001b[1;32m<ipython-input-21-413b9905e8fb>\u001b[0m in \u001b[0;36m<module>\u001b[1;34m\u001b[0m\n\u001b[1;32m----> 1\u001b[1;33m \u001b[0mdatetime\u001b[0m\u001b[1;33m.\u001b[0m\u001b[0mtimedelta\u001b[0m\u001b[1;33m(\u001b[0m\u001b[0mweeks\u001b[0m \u001b[1;33m=\u001b[0m \u001b[1;36m1\u001b[0m\u001b[1;33m)\u001b[0m \u001b[1;33m%\u001b[0m \u001b[1;36m3\u001b[0m\u001b[1;33m\u001b[0m\u001b[1;33m\u001b[0m\u001b[0m\n\u001b[0m",
      "\u001b[1;31mTypeError\u001b[0m: unsupported operand type(s) for %: 'datetime.timedelta' and 'int'"
     ]
    }
   ],
   "source": [
    "datetime.timedelta(weeks = 1) % 3"
   ]
  },
  {
   "cell_type": "markdown",
   "metadata": {},
   "source": [
    " * 크기 비교"
   ]
  },
  {
   "cell_type": "code",
   "execution_count": 30,
   "metadata": {},
   "outputs": [
    {
     "data": {
      "text/plain": [
       "False"
      ]
     },
     "execution_count": 30,
     "metadata": {},
     "output_type": "execute_result"
    }
   ],
   "source": [
    "datetime.timedelta(weeks = 1) >= datetime.timedelta(days=14)"
   ]
  },
  {
   "cell_type": "markdown",
   "metadata": {},
   "source": [
    "### datetime.timezone : 시간대(UTC 시차) 표현\n",
    "    * 시간대(UTC 시차)를 표현하는 객체\n",
    "        * 입력인자로 timedelta객체를 받아 그 만큼의 시차 객체(timezone객체) 생성\n",
    "    * time객체, datetime객체의 tzinfo 속성 값으로 사용됨"
   ]
  },
  {
   "cell_type": "code",
   "execution_count": 78,
   "metadata": {},
   "outputs": [
    {
     "data": {
      "text/plain": [
       "datetime.timezone(datetime.timedelta(seconds=32400))"
      ]
     },
     "execution_count": 78,
     "metadata": {},
     "output_type": "execute_result"
    }
   ],
   "source": [
    "from datetime import timezone\n",
    "\n",
    "timezone(timedelta(hours = 9))"
   ]
  },
  {
   "cell_type": "markdown",
   "metadata": {},
   "source": [
    " * timezone.utc : UTC 기준 시간대(UTC+0)는 .utc로 바로 얻을 수 있다"
   ]
  },
  {
   "cell_type": "code",
   "execution_count": 80,
   "metadata": {},
   "outputs": [
    {
     "data": {
      "text/plain": [
       "datetime.timezone.utc"
      ]
     },
     "execution_count": 80,
     "metadata": {},
     "output_type": "execute_result"
    }
   ],
   "source": [
    "timezone.utc"
   ]
  },
  {
   "cell_type": "code",
   "execution_count": 79,
   "metadata": {},
   "outputs": [
    {
     "data": {
      "text/plain": [
       "datetime.timezone.utc"
      ]
     },
     "execution_count": 79,
     "metadata": {},
     "output_type": "execute_result"
    }
   ],
   "source": [
    "timezone(timedelta(0))"
   ]
  },
  {
   "cell_type": "markdown",
   "metadata": {},
   "source": [
    "## LeetCode 기본 라이브러리"
   ]
  },
  {
   "cell_type": "code",
   "execution_count": 17,
   "metadata": {},
   "outputs": [],
   "source": [
    "import collections\n",
    "import itertools\n",
    "import heapq\n",
    "import bisect\n",
    "import functools\n",
    "import math\n",
    "import re\n",
    "import sys\n",
    "from typing import *"
   ]
  },
  {
   "cell_type": "code",
   "execution_count": 4,
   "metadata": {},
   "outputs": [
    {
     "ename": "NameError",
     "evalue": "name 'ListNode' is not defined",
     "output_type": "error",
     "traceback": [
      "\u001b[1;31m---------------------------------------------------------------------------\u001b[0m",
      "\u001b[1;31mNameError\u001b[0m                                 Traceback (most recent call last)",
      "\u001b[1;32m<ipython-input-4-e91666042274>\u001b[0m in \u001b[0;36m<module>\u001b[1;34m\u001b[0m\n\u001b[0;32m      1\u001b[0m \u001b[1;32mfrom\u001b[0m \u001b[0mtyping\u001b[0m \u001b[1;32mimport\u001b[0m \u001b[1;33m*\u001b[0m\u001b[1;33m\u001b[0m\u001b[1;33m\u001b[0m\u001b[0m\n\u001b[0;32m      2\u001b[0m \u001b[1;33m\u001b[0m\u001b[0m\n\u001b[1;32m----> 3\u001b[1;33m \u001b[0ma\u001b[0m \u001b[1;33m:\u001b[0m \u001b[0mListNode\u001b[0m\u001b[1;33m\u001b[0m\u001b[1;33m\u001b[0m\u001b[0m\n\u001b[0m",
      "\u001b[1;31mNameError\u001b[0m: name 'ListNode' is not defined"
     ]
    }
   ],
   "source": [
    "from typing import *\n",
    "\n",
    "a : ListNode"
   ]
  },
  {
   "cell_type": "markdown",
   "metadata": {},
   "source": [
    "# 1. collections\n",
    "\n",
    "# !딕셔너리 관련 컨테이너 자료형(collections 모듈)\n",
    "'\n",
    "### defaultdict\n",
    "### Counter\n",
    "### OrderedDict"
   ]
  },
  {
   "cell_type": "markdown",
   "metadata": {},
   "source": [
    "## defaultdict\n",
    "    * defaultdict는 존재하지 않는 키를 조회할 경우, 에러메시지를 출력하는 대신 디폴트 값을 기준으로 해당 키에 대한 딕셔너리 아이템을 생성해준다.\n",
    "    * 변수 = collections.defaultdict(자료형)"
   ]
  },
  {
   "cell_type": "markdown",
   "metadata": {},
   "source": [
    "### 일반 딕셔너리의 경우, 없는 키 'C' 접근으로 Key 에러 발생"
   ]
  },
  {
   "cell_type": "code",
   "execution_count": 1,
   "metadata": {},
   "outputs": [
    {
     "data": {
      "text/plain": [
       "{'A': 5, 'B': 4}"
      ]
     },
     "execution_count": 1,
     "metadata": {},
     "output_type": "execute_result"
    }
   ],
   "source": [
    "b = dict()\n",
    "\n",
    "b['A'] = 5\n",
    "b['B'] = 4\n",
    "\n",
    "b"
   ]
  },
  {
   "cell_type": "code",
   "execution_count": 2,
   "metadata": {},
   "outputs": [
    {
     "ename": "KeyError",
     "evalue": "'C'",
     "output_type": "error",
     "traceback": [
      "\u001b[1;31m---------------------------------------------------------------------------\u001b[0m",
      "\u001b[1;31mKeyError\u001b[0m                                  Traceback (most recent call last)",
      "\u001b[1;32m<ipython-input-2-698a736c8d02>\u001b[0m in \u001b[0;36m<module>\u001b[1;34m\u001b[0m\n\u001b[1;32m----> 1\u001b[1;33m \u001b[0mb\u001b[0m\u001b[1;33m[\u001b[0m\u001b[1;34m'C'\u001b[0m\u001b[1;33m]\u001b[0m \u001b[1;33m+=\u001b[0m \u001b[1;36m1\u001b[0m\u001b[1;33m\u001b[0m\u001b[1;33m\u001b[0m\u001b[0m\n\u001b[0m\u001b[0;32m      2\u001b[0m \u001b[0mb\u001b[0m\u001b[1;33m\u001b[0m\u001b[1;33m\u001b[0m\u001b[0m\n",
      "\u001b[1;31mKeyError\u001b[0m: 'C'"
     ]
    }
   ],
   "source": [
    "b['C'] += 1\n",
    "b"
   ]
  },
  {
   "cell_type": "markdown",
   "metadata": {},
   "source": [
    "### defaultdict의 경우, 없는 키 'C'에 접근하더라도,\n",
    "### 디폴트 값인 0을 기준으로,(int의 디폴트가 0인가 봄) 값 생성 후, 연산 수행"
   ]
  },
  {
   "cell_type": "code",
   "execution_count": 31,
   "metadata": {},
   "outputs": [
    {
     "name": "stdout",
     "output_type": "stream",
     "text": [
      "0\n"
     ]
    },
    {
     "data": {
      "text/plain": [
       "defaultdict(int, {'A': 0})"
      ]
     },
     "execution_count": 31,
     "metadata": {},
     "output_type": "execute_result"
    }
   ],
   "source": [
    "import collections\n",
    "\n",
    "a = collections.defaultdict(int)\n",
    "\n",
    "print(a['A'])\n",
    "a"
   ]
  },
  {
   "cell_type": "code",
   "execution_count": 5,
   "metadata": {},
   "outputs": [
    {
     "data": {
      "text/plain": [
       "defaultdict(int, {'A': 5, 'B': 4})"
      ]
     },
     "execution_count": 5,
     "metadata": {},
     "output_type": "execute_result"
    }
   ],
   "source": [
    "import collections\n",
    "\n",
    "a = collections.defaultdict(int)\n",
    "\n",
    "a['A'] = 5\n",
    "a['B'] = 4\n",
    "\n",
    "a"
   ]
  },
  {
   "cell_type": "code",
   "execution_count": 6,
   "metadata": {},
   "outputs": [
    {
     "data": {
      "text/plain": [
       "defaultdict(int, {'A': 5, 'B': 4, 'C': 1})"
      ]
     },
     "execution_count": 6,
     "metadata": {},
     "output_type": "execute_result"
    }
   ],
   "source": [
    "a['C'] += 1\n",
    "a"
   ]
  },
  {
   "cell_type": "markdown",
   "metadata": {},
   "source": [
    "## Counter\n",
    "* 각 아이템(요소)의 갯수를 세어, 요소:갯수 = 키:값 형태의 Counter 객체(딕셔너리)로 리턴\n",
    "* 객체명 = collections.Counter(리스트)\n",
    "* 가장 갯수가 많은 것 n개를 뽑아내는 Counter객체의 함수 : 객체.most_common()"
   ]
  },
  {
   "cell_type": "code",
   "execution_count": 32,
   "metadata": {},
   "outputs": [
    {
     "name": "stdout",
     "output_type": "stream",
     "text": [
      "Counter({'A': 3, 'C': 2, 'B': 1})\n",
      "3\n"
     ]
    }
   ],
   "source": [
    "import collections\n",
    "\n",
    "a = [\"A\", \"A\", \"A\", \"B\", \"C\", \"C\"]\n",
    "\n",
    "a = collections.Counter(a)\n",
    "\n",
    "print(a)\n",
    "print(a[\"A\"])"
   ]
  },
  {
   "cell_type": "markdown",
   "metadata": {},
   "source": [
    "### 리스트가 튜플을 감싼 형태로 반환됨에  주의"
   ]
  },
  {
   "cell_type": "code",
   "execution_count": 8,
   "metadata": {},
   "outputs": [
    {
     "data": {
      "text/plain": [
       "[('A', 3), ('C', 2)]"
      ]
     },
     "execution_count": 8,
     "metadata": {},
     "output_type": "execute_result"
    }
   ],
   "source": [
    "# 요소가 많은 순으로 2개 요소 뽑아내기\n",
    "\n",
    "a.most_common(2)"
   ]
  },
  {
   "cell_type": "markdown",
   "metadata": {},
   "source": [
    "### Counter 객체\n",
    "\n",
    "    * 편리하고 빠르게 개수를 세도록 지원하는 계수기 도구\n",
    "    * 키-값을 갖는 해시형 자료형\n",
    "    * 파이썬 딕셔너리랑 비슷하지만 더 많은 하위 메소드를 가지고 있어서 쓰기 좋음\n",
    "    * 기본적으로 리스트를 넣으면 각 요소의 갯수를 세줌"
   ]
  },
  {
   "cell_type": "markdown",
   "metadata": {},
   "source": [
    " * 리스트 -> Counter 형으로 변환(각 요소를 키로, 요소의 갯수를 값으로 받음)"
   ]
  },
  {
   "cell_type": "code",
   "execution_count": 27,
   "metadata": {},
   "outputs": [
    {
     "data": {
      "text/plain": [
       "Counter({'red': 2, 'blue': 3, 'green': 1})"
      ]
     },
     "execution_count": 27,
     "metadata": {},
     "output_type": "execute_result"
    }
   ],
   "source": [
    "import collections\n",
    "\n",
    "list_a = ['red', 'blue', 'red', 'green', 'blue', 'blue']\n",
    "\n",
    "c = collections.Counter(list_a)\n",
    "\n",
    "c"
   ]
  },
  {
   "cell_type": "code",
   "execution_count": 28,
   "metadata": {},
   "outputs": [
    {
     "name": "stdout",
     "output_type": "stream",
     "text": [
      "2\n",
      "3\n"
     ]
    }
   ],
   "source": [
    "print(c['red'])\n",
    "print(c['blue'])"
   ]
  },
  {
   "cell_type": "markdown",
   "metadata": {},
   "source": [
    " *  .most_common([n])        # 대괄호 [ ]는 생략가능을 의미\n",
    "    - 요소의 갯수가 가장 많은 것 부터 적은 순으로 n개를 나열\n",
    "    - n을 생략하거나 None이면 모든 요소 반환\n",
    "    - collections.Counter().most_common()\n",
    "    \n",
    "    주의!!!\n",
    "        * Counter형 일 때는, 자료형이 dict와 비슷한 Counter 형이지만,  ({키:값})\n",
    "        * .most_common()으로 반환된 값은 튜플 형태이다.  (키, 값)"
   ]
  },
  {
   "cell_type": "code",
   "execution_count": 21,
   "metadata": {},
   "outputs": [
    {
     "data": {
      "text/plain": [
       "[('blue', 3), ('red', 2)]"
      ]
     },
     "execution_count": 21,
     "metadata": {},
     "output_type": "execute_result"
    }
   ],
   "source": [
    "c.most_common(2)"
   ]
  },
  {
   "cell_type": "markdown",
   "metadata": {},
   "source": [
    " * 딕셔너리 -> Counter()형 변환"
   ]
  },
  {
   "cell_type": "code",
   "execution_count": 18,
   "metadata": {},
   "outputs": [
    {
     "data": {
      "text/plain": [
       "Counter({'red': 5, 'blue': 2, 'green': 8})"
      ]
     },
     "execution_count": 18,
     "metadata": {},
     "output_type": "execute_result"
    }
   ],
   "source": [
    "dict_a = {'red': 5, 'blue': 2, 'green': 8}\n",
    "\n",
    "c2 = collections.Counter(dict_a)\n",
    "\n",
    "c2"
   ]
  },
  {
   "cell_type": "markdown",
   "metadata": {},
   "source": [
    "## deque(데크)\n",
    "\n",
    "     * 양방향 큐임\n",
    "     * Queue 라이브러리도 있지만, 일반적인 큐 자료구조를 구현하는 것은 아님\n",
    "     * 파이썬에서 큐는 deque를 사용해서 구현한다.\n",
    "     \n",
    "     * .appendleft(값) : 왼쪽에 값 추가 - 시간복잡도 : O(1)\n",
    "     * .popleft(값) : 왼쪽에 값 빼기 - 시간복잡도 : O(1)\n",
    "     * .append(값) : 왼쪽에 값 추가 - 시간복잡도 : O(1)\n",
    "     * .pop(값) : 왼쪽에 값 추가 - 시간복잡도 : O(1)\n",
    "     * 리스트를 사용하면 왼쪽 추가제거는 O(N)임\n",
    "     \n",
    "     * deque는 인덱싱, 슬라이싱 기능 없음"
   ]
  },
  {
   "cell_type": "code",
   "execution_count": 29,
   "metadata": {},
   "outputs": [
    {
     "data": {
      "text/plain": [
       "deque([1, 2, 3, 4, 5])"
      ]
     },
     "execution_count": 29,
     "metadata": {},
     "output_type": "execute_result"
    }
   ],
   "source": [
    "from collections import *\n",
    "\n",
    "# 만들기 => 그냥 리스트 넣으면 끝\n",
    "a = [1,2,3,4,5]\n",
    "q = deque(a)\n",
    "q"
   ]
  },
  {
   "cell_type": "markdown",
   "metadata": {},
   "source": [
    " * deque.rotate(n)\n",
    "\n",
    "    * n번 돌리기"
   ]
  },
  {
   "cell_type": "code",
   "execution_count": 11,
   "metadata": {},
   "outputs": [
    {
     "data": {
      "text/plain": [
       "deque([4, 5, 1, 2, 3])"
      ]
     },
     "execution_count": 11,
     "metadata": {},
     "output_type": "execute_result"
    }
   ],
   "source": [
    "q.rotate(2)\n",
    "q"
   ]
  },
  {
   "cell_type": "code",
   "execution_count": 12,
   "metadata": {},
   "outputs": [
    {
     "data": {
      "text/plain": [
       "[4, 5, 1, 2, 3]"
      ]
     },
     "execution_count": 12,
     "metadata": {},
     "output_type": "execute_result"
    }
   ],
   "source": [
    "# 다시 리스트로 변환\n",
    "    \n",
    "a = list(q)\n",
    "a"
   ]
  },
  {
   "cell_type": "markdown",
   "metadata": {},
   "source": [
    " * 값 추가하기\n",
    "      * appendleft : 왼쪽 추가\n",
    "      * append : 오른쪽 추가"
   ]
  },
  {
   "cell_type": "code",
   "execution_count": 13,
   "metadata": {},
   "outputs": [
    {
     "name": "stdout",
     "output_type": "stream",
     "text": [
      "deque(['leftttt', 4, 5, 1, 2, 3])\n",
      "deque(['leftttt', 4, 5, 1, 2, 3, 'Right'])\n"
     ]
    }
   ],
   "source": [
    "q.appendleft(\"leftttt\")\n",
    "print(q)\n",
    "q.append(\"Right\")\n",
    "print(q)"
   ]
  },
  {
   "cell_type": "markdown",
   "metadata": {},
   "source": [
    " * 값 뽑아내기(삭제)\n",
    "     * popleft() : 왼쪽 뽑기\n",
    "     * pop() : 오른쪽 뽑기"
   ]
  },
  {
   "cell_type": "code",
   "execution_count": 14,
   "metadata": {},
   "outputs": [
    {
     "name": "stdout",
     "output_type": "stream",
     "text": [
      "deque(['leftttt', 4, 5, 1, 2, 3])\n",
      "deque([4, 5, 1, 2, 3])\n"
     ]
    }
   ],
   "source": [
    "q.pop()\n",
    "print(q)\n",
    "q.popleft()\n",
    "print(q)"
   ]
  },
  {
   "cell_type": "code",
   "execution_count": 31,
   "metadata": {},
   "outputs": [
    {
     "data": {
      "text/plain": [
       "5"
      ]
     },
     "execution_count": 31,
     "metadata": {},
     "output_type": "execute_result"
    }
   ],
   "source": [
    "b = [[3,5,7],[2,3,5]]\n",
    "q = deque(b)\n",
    "\n",
    "q.popleft()[1]"
   ]
  },
  {
   "cell_type": "code",
   "execution_count": 32,
   "metadata": {},
   "outputs": [],
   "source": [
    "for i in range(0):\n",
    "    print(\"gf\")"
   ]
  },
  {
   "cell_type": "markdown",
   "metadata": {},
   "source": [
    "## OrderedDict\n",
    "\n",
    "* 대부분의 언어에서 해시테이블을 이용한 자료형은 입력 순서가 유지되지 않는데, OrderedDict는 입력 순서가 유지되는 객체를 제공함\n",
    "### 하지만 파이썬 3.7 부터 딕셔너리는 내부적으로 인덱스를 이용하여 입력 순서가 유지되도록 개선됨.\n",
    "### 즉, OrderDict는 더 이상 필요 없으나,,,\n",
    "    * 코딩 테스트시, 인터프리터가 3.6 이하 버전을 제공할 수 있으므로, 이 때는 Dict가 입력 순서대로 출력할 것을 기대하지 말고, 필요하다면, collections.OrderedDict를 사용하자!!!"
   ]
  },
  {
   "cell_type": "markdown",
   "metadata": {},
   "source": [
    "# 그외 collections 모듈 들\n",
    "\n",
    "     * 파이썬의 컨테이너 dict, list, tuple에 대한 대안을 제공하는 특수 컨테이너 데이터형을 구현\n",
    "     \n",
    " * namedtuple()\n",
    "        * 이름 붙은 필드를 갖는 튜플 서브 클래스를 만들기 위한 팩토리 함수\n",
    "\n",
    "\n",
    "* ChainMap\n",
    "        * 여러 매핑의 단일 뷰를 만드는 딕셔너리류 클래스\n",
    "\n",
    "\n",
    "* UserDict\n",
    "        * 더 쉬운 딕셔너리 서브 클래싱을 위해 딕셔너리 객체를 감싸는 래퍼\n",
    "\n",
    "* UserList\n",
    "        * 더 쉬운 리스트 서브 클래싱을 위해 리스트 객체를 감싸는 래퍼\n",
    "\n",
    "* UserString\n",
    "        * 더 쉬운 문자열 서브 클래싱을 위해 문자열 객체를 감싸는 래퍼"
   ]
  },
  {
   "cell_type": "markdown",
   "metadata": {},
   "source": [
    "# 2. itertools"
   ]
  },
  {
   "cell_type": "code",
   "execution_count": 2,
   "metadata": {},
   "outputs": [],
   "source": [
    "import itertools\n",
    "\n",
    "# 주로 이터레이터 생성 함수들이 있음"
   ]
  },
  {
   "cell_type": "markdown",
   "metadata": {},
   "source": [
    " ### accumulate() : 누적합"
   ]
  },
  {
   "cell_type": "code",
   "execution_count": 3,
   "metadata": {},
   "outputs": [
    {
     "data": {
      "text/plain": [
       "<itertools.accumulate at 0x123fde16f00>"
      ]
     },
     "execution_count": 3,
     "metadata": {},
     "output_type": "execute_result"
    }
   ],
   "source": [
    "itertools.accumulate([1,2,3,4,5])"
   ]
  },
  {
   "cell_type": "code",
   "execution_count": 4,
   "metadata": {},
   "outputs": [
    {
     "name": "stdout",
     "output_type": "stream",
     "text": [
      "1\n",
      "3\n",
      "6\n",
      "10\n",
      "15\n"
     ]
    }
   ],
   "source": [
    "for x in itertools.accumulate([1,2,3,4,5]):\n",
    "    print(x)"
   ]
  },
  {
   "cell_type": "markdown",
   "metadata": {},
   "source": [
    " ### permutations(p, [,r]) , 순열\n",
    "     * r-길이 튜플들, 모든 가능한 순서, 반복되는 요소 없음"
   ]
  },
  {
   "cell_type": "code",
   "execution_count": 10,
   "metadata": {},
   "outputs": [],
   "source": [
    "import itertools"
   ]
  },
  {
   "cell_type": "code",
   "execution_count": 11,
   "metadata": {},
   "outputs": [
    {
     "data": {
      "text/plain": [
       "<itertools.permutations at 0x16677210180>"
      ]
     },
     "execution_count": 11,
     "metadata": {},
     "output_type": "execute_result"
    }
   ],
   "source": [
    "itertools.permutations('ABCD', 2)"
   ]
  },
  {
   "cell_type": "code",
   "execution_count": 7,
   "metadata": {},
   "outputs": [
    {
     "name": "stdout",
     "output_type": "stream",
     "text": [
      "('A', 'B')\n",
      "('A', 'C')\n",
      "('A', 'D')\n",
      "('B', 'A')\n",
      "('B', 'C')\n",
      "('B', 'D')\n",
      "('C', 'A')\n",
      "('C', 'B')\n",
      "('C', 'D')\n",
      "('D', 'A')\n",
      "('D', 'B')\n",
      "('D', 'C')\n"
     ]
    }
   ],
   "source": [
    "for x in itertools.permutations('ABCD', 2):\n",
    "    print(x)"
   ]
  },
  {
   "cell_type": "code",
   "execution_count": 8,
   "metadata": {},
   "outputs": [
    {
     "name": "stdout",
     "output_type": "stream",
     "text": [
      "('A', 'B', 'C', 'D')\n",
      "('A', 'B', 'D', 'C')\n",
      "('A', 'C', 'B', 'D')\n",
      "('A', 'C', 'D', 'B')\n",
      "('A', 'D', 'B', 'C')\n",
      "('A', 'D', 'C', 'B')\n",
      "('B', 'A', 'C', 'D')\n",
      "('B', 'A', 'D', 'C')\n",
      "('B', 'C', 'A', 'D')\n",
      "('B', 'C', 'D', 'A')\n",
      "('B', 'D', 'A', 'C')\n",
      "('B', 'D', 'C', 'A')\n",
      "('C', 'A', 'B', 'D')\n",
      "('C', 'A', 'D', 'B')\n",
      "('C', 'B', 'A', 'D')\n",
      "('C', 'B', 'D', 'A')\n",
      "('C', 'D', 'A', 'B')\n",
      "('C', 'D', 'B', 'A')\n",
      "('D', 'A', 'B', 'C')\n",
      "('D', 'A', 'C', 'B')\n",
      "('D', 'B', 'A', 'C')\n",
      "('D', 'B', 'C', 'A')\n",
      "('D', 'C', 'A', 'B')\n",
      "('D', 'C', 'B', 'A')\n"
     ]
    }
   ],
   "source": [
    "for x in itertools.permutations('ABCD'):\n",
    "    print(x)"
   ]
  },
  {
   "cell_type": "markdown",
   "metadata": {},
   "source": [
    " * 리스트-튜플 [(a, b)] 형태로 뽑아내기"
   ]
  },
  {
   "cell_type": "code",
   "execution_count": 5,
   "metadata": {},
   "outputs": [
    {
     "name": "stdout",
     "output_type": "stream",
     "text": [
      "[('A', 'B', 'C'), ('A', 'C', 'B'), ('B', 'A', 'C'), ('B', 'C', 'A'), ('C', 'A', 'B'), ('C', 'B', 'A')]\n"
     ]
    }
   ],
   "source": [
    "from itertools import permutations\n",
    "\n",
    "data = ['A', 'B', 'C']\n",
    "\n",
    "result = list(permutations(data, 3))\n",
    "\n",
    "print(result)"
   ]
  },
  {
   "cell_type": "markdown",
   "metadata": {},
   "source": [
    " * combinations(조합)과 비교(조합은 순서 달라도 같은 것으로 봄)"
   ]
  },
  {
   "cell_type": "code",
   "execution_count": 6,
   "metadata": {},
   "outputs": [
    {
     "name": "stdout",
     "output_type": "stream",
     "text": [
      "[('A', 'B', 'C')]\n"
     ]
    }
   ],
   "source": [
    "from itertools import combinations\n",
    "\n",
    "data = ['A', 'B', 'C']\n",
    "\n",
    "result = list(combinations(data, 3))\n",
    "\n",
    "print(result)"
   ]
  },
  {
   "cell_type": "code",
   "execution_count": 8,
   "metadata": {},
   "outputs": [
    {
     "name": "stdout",
     "output_type": "stream",
     "text": [
      "[('A', 'B'), ('A', 'C'), ('B', 'C')]\n"
     ]
    }
   ],
   "source": [
    "result = list(combinations(data, 2))\n",
    "print(result)"
   ]
  },
  {
   "cell_type": "markdown",
   "metadata": {},
   "source": [
    " ### combinations(p, r) , 조합\n",
    "     * r-길이 튜플들, 정렬된 순서, 반복되는 요소 없음"
   ]
  },
  {
   "cell_type": "code",
   "execution_count": 16,
   "metadata": {},
   "outputs": [
    {
     "data": {
      "text/plain": [
       "<itertools.combinations at 0x16677219f90>"
      ]
     },
     "execution_count": 16,
     "metadata": {},
     "output_type": "execute_result"
    }
   ],
   "source": [
    "itertools.combinations('ABCD', 2)"
   ]
  },
  {
   "cell_type": "code",
   "execution_count": 9,
   "metadata": {},
   "outputs": [
    {
     "name": "stdout",
     "output_type": "stream",
     "text": [
      "('A', 'B')\n",
      "('A', 'C')\n",
      "('A', 'D')\n",
      "('B', 'C')\n",
      "('B', 'D')\n",
      "('C', 'D')\n"
     ]
    }
   ],
   "source": [
    "for x in itertools.combinations('ABCD', 2):\n",
    "    print(x)"
   ]
  },
  {
   "cell_type": "markdown",
   "metadata": {},
   "source": [
    " ### combinations_with_replacement()\n",
    " \n",
    "     * 중복을 허용한 조합\n",
    "     * 순서는 고려하지 않음  \n",
    "         => ab, ba 중 한개만 출력"
   ]
  },
  {
   "cell_type": "code",
   "execution_count": 10,
   "metadata": {},
   "outputs": [
    {
     "name": "stdout",
     "output_type": "stream",
     "text": [
      "('A', 'A')\n",
      "('A', 'B')\n",
      "('A', 'C')\n",
      "('A', 'D')\n",
      "('B', 'B')\n",
      "('B', 'C')\n",
      "('B', 'D')\n",
      "('C', 'C')\n",
      "('C', 'D')\n",
      "('D', 'D')\n"
     ]
    }
   ],
   "source": [
    "for x in itertools.combinations_with_replacement('ABCD', 2):\n",
    "    print(x)"
   ]
  },
  {
   "cell_type": "markdown",
   "metadata": {},
   "source": [
    "### itertools.product\n",
    "\n",
    " * 중복을 허용한 순열(순서는 있고, 중복 뽑기 가능)\n",
    " * 뽑고자 하는 데이터수를 'repeat'라는 속성으로 지정"
   ]
  },
  {
   "cell_type": "code",
   "execution_count": 10,
   "metadata": {},
   "outputs": [
    {
     "name": "stdout",
     "output_type": "stream",
     "text": [
      "[(1, 1), (1, 2), (1, 3), (2, 1), (2, 2), (2, 3), (3, 1), (3, 2), (3, 3)]\n"
     ]
    }
   ],
   "source": [
    "from itertools import product\n",
    "\n",
    "data = [1,2,3]\n",
    "\n",
    "result = list(product(data,repeat=2))\n",
    "\n",
    "print(result)"
   ]
  },
  {
   "cell_type": "markdown",
   "metadata": {},
   "source": [
    "# 3. heapq\n",
    "\n",
    "* 우선 순위가 가장 높은 자료(data)를 가장 먼저 꺼낼 수 있는 우선 순위 큐\n",
    "* 리스트등을 사용하여 우선 순위 큐를 직접 구현하는 것이 어렵진 않지만   \n",
    "  이런 작업에 최적화된 파이썬 표준 라이브러리인 heapq를 사용하는 것이 좋다.\n",
    "* 다익스트라 등 다양한 알고리즘에 사용  \n",
    "* 파이썬의 heapq은 최소힙으로 넣었다가(heappush) 빼면(heappop) 최소 값 출력\n",
    "* 최상단 원소가 가장 작은 원소\n",
    "* 시간복잡도 O(NlogN)의 오름차순 정렬  \n",
    "  \n",
    "  \n",
    "* heapq.heappush(리스트명, 넣을 값) : 리스트에 힙 형태로 값을 집어넣음\n",
    "    * 시간복잡도 : O(logN)\n",
    "* heapq.heappop(리스트명) : 힙형태로 저장된 리스트에서 최소 값을 뺌\n",
    "    * 시간복잡도 : O(logN)\n",
    "        * 추출 후 다시 최소힙 형태를 갖추기위한 작업 소요"
   ]
  },
  {
   "cell_type": "code",
   "execution_count": 22,
   "metadata": {},
   "outputs": [
    {
     "name": "stdout",
     "output_type": "stream",
     "text": [
      "(11.57, '차동현')\n",
      "(11.67, '차정웅')\n",
      "(11.92, '한시우')\n"
     ]
    }
   ],
   "source": [
    "import heapq\n",
    "\n",
    "data = [\n",
    "    (12.23, \"강보람\"),\n",
    "    (12.31, \"김지원\"),\n",
    "    (11.98, \"박시우\"),\n",
    "    (11.99, \"장준혁\"),\n",
    "    (11.67, \"차정웅\"),\n",
    "    (12.02, \"박중수\"),\n",
    "    (11.57, \"차동현\"),\n",
    "    (12.04, \"고미숙\"),\n",
    "    (11.92, \"한시우\"),\n",
    "    (12.22, \"이민석\"),\n",
    "]\n",
    "\n",
    "h = []  # 힙 생성\n",
    "for score in data:\n",
    "    heapq.heappush(h, score)  # 힙에 데이터 저장\n",
    "    \n",
    "# print(h)  # 뽑아도 2진 트리라 정렬되있지 않음\n",
    "\n",
    "for i in range(3):\n",
    "    print(heapq.heappop(h))  # 우선 순위 작은 값 순으로 힙 반환"
   ]
  },
  {
   "cell_type": "markdown",
   "metadata": {},
   "source": [
    "### heapify() : 리스트 내부의 원소들이 최소 힙 구조로 재배치됨 (인덱스 0 이 최솟값)\n",
    "    \n",
    "    * (오름차순으로) 정렬된 형태는 아님, 그냥 최솟값만 맨 앞인 것\n",
    "    * 시간복잡도 : O(N)"
   ]
  },
  {
   "cell_type": "code",
   "execution_count": 23,
   "metadata": {},
   "outputs": [
    {
     "name": "stdout",
     "output_type": "stream",
     "text": [
      "(11.57, '차동현')\n",
      "(11.67, '차정웅')\n",
      "(11.92, '한시우')\n"
     ]
    }
   ],
   "source": [
    "import heapq\n",
    "\n",
    "data = [\n",
    "    (12.23, \"강보람\"),\n",
    "    (12.31, \"김지원\"),\n",
    "    (11.98, \"박시우\"),\n",
    "    (11.99, \"장준혁\"),\n",
    "    (11.67, \"차정웅\"),\n",
    "    (12.02, \"박중수\"),\n",
    "    (11.57, \"차동현\"),\n",
    "    (12.04, \"고미숙\"),\n",
    "    (11.92, \"한시우\"),\n",
    "    (12.22, \"이민석\"),\n",
    "]\n",
    "\n",
    "heapq.heapify(data)  # data를 힙으로 만든다.\n",
    "\n",
    "for i in range(3):\n",
    "    print(heapq.heappop(data))  # 최소값부터 힙 반환"
   ]
  },
  {
   "cell_type": "markdown",
   "metadata": {},
   "source": [
    "## heapq를 이용한 (최소)힙정렬 구현"
   ]
  },
  {
   "cell_type": "code",
   "execution_count": 12,
   "metadata": {},
   "outputs": [
    {
     "name": "stdout",
     "output_type": "stream",
     "text": [
      "[0, 1, 2, 3, 4, 5, 6, 7, 8, 9]\n"
     ]
    }
   ],
   "source": [
    "import heapq\n",
    "\n",
    "def heapsort(iterable):\n",
    "    h = []\n",
    "    result = []\n",
    "    \n",
    "    # 모든 원소를 차례대로 힙에 삽입\n",
    "    for value in iterable:\n",
    "        heapq.heappush(h, value)\n",
    "        \n",
    "        \n",
    "    for i in range(len(h)):\n",
    "        result.append(heapq.heappop(h))\n",
    "        \n",
    "    return result\n",
    "\n",
    "result = heapsort([1,3,5,7,9,2,4,6,8,0])\n",
    "\n",
    "print(result)"
   ]
  },
  {
   "cell_type": "markdown",
   "metadata": {},
   "source": [
    "## heapq를 이용한 (최대)힙정렬 구현\n",
    "\n",
    " * 원소의 부호를 바꿔서 삽입하고,\n",
    " * 원소를 꺼낸뒤에 다시 부호를 바꿈\n",
    " \n",
    " * 시간복잡도 : O(NlogN)\n",
    " \n",
    "     * 계산\n",
    "         * heappush를 n번 = nlogn\n",
    "         * heappop를 n번 = nlogn\n",
    "         * total = 2nlogn => O(nlogn)"
   ]
  },
  {
   "cell_type": "code",
   "execution_count": 36,
   "metadata": {},
   "outputs": [
    {
     "name": "stdout",
     "output_type": "stream",
     "text": [
      "[9, 8, 7, 6, 5, 4, 3, 2, 1, 0]\n"
     ]
    }
   ],
   "source": [
    "import heapq\n",
    "\n",
    "def heapsort(iterable):\n",
    "    h = []\n",
    "    result = []\n",
    "    \n",
    "    # 모든 원소를 차례대로 힙에 삽입\n",
    "    for value in iterable:\n",
    "        heapq.heappush(h, -value)   # 부호를 바꿔서 집어 넣는다.\n",
    "        \n",
    "    for i in range(len(h)):\n",
    "        result.append(-heapq.heappop(h))   # 꺼낸 값에 부호를 바꾼다, 그냥 pop으로 해도 되지 않나?? => 안됨\n",
    "        \n",
    "    return result\n",
    "\n",
    "result = heapsort([1,3,5,7,9,2,4,6,8,0])\n",
    "\n",
    "print(result)"
   ]
  },
  {
   "cell_type": "markdown",
   "metadata": {},
   "source": [
    "### heapqpop 대신 그냥 pop으로 변경\n",
    "\n",
    "### 결과 안 됨(처음 최솟값 추출 이후, 남은 h가 힙구조를 유지하지 못함)"
   ]
  },
  {
   "cell_type": "code",
   "execution_count": 35,
   "metadata": {},
   "outputs": [
    {
     "name": "stdout",
     "output_type": "stream",
     "text": [
      "[0, 6, 1, 3, 2, 5, 7, 4, 8, 9]\n"
     ]
    }
   ],
   "source": [
    "import heapq\n",
    "\n",
    "def heapsort(iterable):\n",
    "    h = []\n",
    "    result = []\n",
    "    \n",
    "    # 모든 원소를 차례대로 힙에 삽입\n",
    "    for value in iterable:\n",
    "        heapq.heappush(h, -value)   # 부호를 바꿔서 집어 넣는다.\n",
    "        \n",
    "    for i in range(len(h)):\n",
    "        result.append(-h.pop())   # 꺼낸 값에 부호를 바꾼다, 그냥 pop으로 해도 되지 않나??\n",
    "        \n",
    "    return result\n",
    "\n",
    "result = heapsort([1,3,5,7,9,2,4,6,8,0])\n",
    "\n",
    "print(result)"
   ]
  },
  {
   "cell_type": "markdown",
   "metadata": {},
   "source": [
    "# 4. bisect(이진탐색)\n",
    "\n",
    "## BST(이진 탐색 트리, Binary Search Tree)\n",
    "    * 이진 트리 : 모든 노드가 둘 이하의 자식 노드를 갖는 트리\n",
    "    * 이진 탐색 트리 : 왼쪽 자식은 부모보다 작고, 오른쪽 자식은 부모보다 크거나 같은 이진 트리\n",
    "    * 이진 탐색 트리의 탐색 시, 시간 복잡도 : O(logn)\n",
    "\n",
    "* 정렬된 배열에서 특정한 원소를 찾을 때 효과적임\n",
    "* .bisect_left() 함수와 bisect_right() 함수가 가장 중요하게 사용됨\n",
    "* 아래 두함수는 시간복잡도가 O(logN)이다.\n",
    "\n",
    "\n",
    "### 정렬된 곳에 어떤 값을 삽입할 알맞은 인덱스 찾기\n",
    "* .bisect_left(리스트a, 값b)\n",
    "    * 정렬된 순서를 유지하면서, 리스트 a에 데이터 b를 삽입할 가장 왼쪽 인덱스를 찾는 메서드\n",
    "    * 시간복잡도 : O(logN)\n",
    "    \n",
    "    \n",
    "* .bisect_right(a, b)\n",
    "    * 정렬된 순서를 유지하면서, 리스트 a에 데이터 b를 삽입할 가장 오른쪽 인덱스를 찾는 메서드\n",
    "    * 시간복잡도 : O(logN)"
   ]
  },
  {
   "cell_type": "code",
   "execution_count": 14,
   "metadata": {},
   "outputs": [
    {
     "name": "stdout",
     "output_type": "stream",
     "text": [
      "2\n",
      "4\n"
     ]
    }
   ],
   "source": [
    "from bisect import bisect_left, bisect_right\n",
    "\n",
    "a = [1, 2, 4, 4, 8]\n",
    "x = 4\n",
    "\n",
    "print(bisect_left(a, x))\n",
    "print(bisect_right(a, x))"
   ]
  },
  {
   "cell_type": "markdown",
   "metadata": {},
   "source": [
    "### 특정 범위에 속하는 원소의 갯수 구하기"
   ]
  },
  {
   "cell_type": "code",
   "execution_count": 15,
   "metadata": {},
   "outputs": [
    {
     "name": "stdout",
     "output_type": "stream",
     "text": [
      "2\n",
      "6\n"
     ]
    }
   ],
   "source": [
    "from bisect import bisect_left, bisect_right\n",
    "\n",
    "# 값이 [a, b] 범위내에 있는 데이터 갯수 반환하는 함수 count_by_range(리스트, a, b) 정의\n",
    "def count_by_range(a, left_value, right_value):\n",
    "    right_index = bisect_right(a, right_value)\n",
    "    left_index= bisect_left(a, left_value)\n",
    "    return right_index - left_index\n",
    "\n",
    "# 리스트 선언\n",
    "a = [1,2,3,3,3,3,4,4,8,9]\n",
    "\n",
    "# 값이 4인 데이터 갯수 출력\n",
    "print(count_by_range(a, 4, 4))\n",
    "\n",
    "# 값이 -1 이상, 3 이하인 데이터 갯수 출력\n",
    "print(count_by_range(a, -1, 3))"
   ]
  },
  {
   "cell_type": "markdown",
   "metadata": {},
   "source": [
    "### 리스트 안에 각 값들을 특정 범위의 인덱스로 반환하기"
   ]
  },
  {
   "cell_type": "markdown",
   "metadata": {},
   "source": [
    " * 일단 코드를 보고 아래 분석 글 써봄\n",
    " * [33, 99, 77, 70, 89, 90, 100]의 각 값을 60이하, 70이하, 80이하, 등에 따라\n",
    " * F 학점, D 학점, C 학점 등으로 변경"
   ]
  },
  {
   "cell_type": "code",
   "execution_count": 26,
   "metadata": {},
   "outputs": [
    {
     "name": "stdout",
     "output_type": "stream",
     "text": [
      "['F', 'A', 'C', 'C', 'B', 'A', 'A']\n"
     ]
    }
   ],
   "source": [
    "import bisect\n",
    "\n",
    "result = []\n",
    "for score in [33, 99, 77, 70, 89, 90, 100]:\n",
    "    pos = bisect.bisect([60, 70, 80, 90], score)  # 점수가 정렬되어 삽입될 수 있는 포지션을 반환\n",
    "    # score값이 60 미만이면 pos는 0\n",
    "    # score값이 60 이상 70미만이면 pos는 1\n",
    "    # score값이 70 이상 80미만이면 pos는 2\n",
    "    # score값이 80 이상 90미만이면 pos는 3\n",
    "    # score값이 90 이상이면 pos는 4\n",
    "    \n",
    "    grade = 'FDCBA'[pos]\n",
    "    # pos가 0이면 grade는 'F'\n",
    "    # pos가 1이면 grade는 'D'\n",
    "    \n",
    "    result.append(grade)\n",
    "\n",
    "print(result)"
   ]
  },
  {
   "cell_type": "markdown",
   "metadata": {},
   "source": [
    " * bisect.bisect(리스트 a, 값 b) :   \n",
    "     리스트 a에 값 b가 정렬된 상태로 삽입될수 있는 인덱스 값 반환"
   ]
  },
  {
   "cell_type": "code",
   "execution_count": 18,
   "metadata": {},
   "outputs": [
    {
     "data": {
      "text/plain": [
       "2"
      ]
     },
     "execution_count": 18,
     "metadata": {},
     "output_type": "execute_result"
    }
   ],
   "source": [
    "import bisect\n",
    "\n",
    "bisect.bisect([60, 70, 80, 90], 75)"
   ]
  },
  {
   "cell_type": "markdown",
   "metadata": {},
   "source": [
    " * 만일 같은 값이 여러개면??? => 가장 오른쪽에 배치할 인덱스 반환"
   ]
  },
  {
   "cell_type": "code",
   "execution_count": 25,
   "metadata": {},
   "outputs": [
    {
     "data": {
      "text/plain": [
       "5"
      ]
     },
     "execution_count": 25,
     "metadata": {},
     "output_type": "execute_result"
    }
   ],
   "source": [
    "import bisect\n",
    "\n",
    "bisect.bisect([60, 70, 75, 75, 75, 80, 90], 75)"
   ]
  },
  {
   "cell_type": "code",
   "execution_count": 26,
   "metadata": {},
   "outputs": [
    {
     "name": "stdout",
     "output_type": "stream",
     "text": [
      "0\n",
      "4\n",
      "2\n",
      "2\n",
      "3\n",
      "4\n",
      "4\n"
     ]
    }
   ],
   "source": [
    "for score in [33, 99, 77, 70, 89, 90, 100]:\n",
    "    pos1 = bisect.bisect([60, 70, 80, 90], score)\n",
    "    print(pos1)\n"
   ]
  },
  {
   "cell_type": "code",
   "execution_count": 27,
   "metadata": {},
   "outputs": [
    {
     "data": {
      "text/plain": [
       "'A'"
      ]
     },
     "execution_count": 27,
     "metadata": {},
     "output_type": "execute_result"
    }
   ],
   "source": [
    "'ABCDE'[0]"
   ]
  },
  {
   "cell_type": "code",
   "execution_count": 28,
   "metadata": {},
   "outputs": [
    {
     "data": {
      "text/plain": [
       "'D'"
      ]
     },
     "execution_count": 28,
     "metadata": {},
     "output_type": "execute_result"
    }
   ],
   "source": [
    "'ABCDE'[3]"
   ]
  },
  {
   "cell_type": "markdown",
   "metadata": {},
   "source": [
    "# 5. functools\n",
    "\n",
    "    * 모듈은 고차 함수를 위한 것입니다\n",
    "    * 다른 함수에 작용하거나 다른 함수를 반환하는 함수"
   ]
  },
  {
   "cell_type": "markdown",
   "metadata": {},
   "source": [
    "### functools.reduce(function, iterable[, initializer])\n",
    "\n",
    "    * 함수를 왼쪽에서 오른쪽으로 iterable의 항목에 누적적으로 적용"
   ]
  },
  {
   "cell_type": "code",
   "execution_count": 23,
   "metadata": {},
   "outputs": [
    {
     "data": {
      "text/plain": [
       "15"
      ]
     },
     "execution_count": 23,
     "metadata": {},
     "output_type": "execute_result"
    }
   ],
   "source": [
    "from functools import *\n",
    "\n",
    "reduce(lambda x, y: x+y, [1, 2, 3, 4, 5])"
   ]
  },
  {
   "cell_type": "markdown",
   "metadata": {},
   "source": [
    "# 6. math"
   ]
  },
  {
   "cell_type": "code",
   "execution_count": 2,
   "metadata": {},
   "outputs": [
    {
     "name": "stdout",
     "output_type": "stream",
     "text": [
      "24\n",
      "5.0\n",
      "12\n",
      "3.141592653589793\n",
      "2.718281828459045\n",
      "\n",
      "<class 'int'>\n",
      "<class 'float'>\n",
      "<class 'int'>\n",
      "<class 'float'>\n",
      "<class 'float'>\n"
     ]
    }
   ],
   "source": [
    "import math\n",
    "\n",
    "print(math.factorial(4))   # 팩토리얼\n",
    "print(math.sqrt(25))       #제곱근\n",
    "print(math.gcd(24, 60))    #최대공약수(greatest common divisor)\n",
    "print(math.pi)   # 파이\n",
    "print(math.e)    # 자연상수 e\n",
    "\n",
    "print()\n",
    "print(type(math.factorial(4)))   # 팩토리얼\n",
    "print(type(math.sqrt(25)))       #제곱근\n",
    "print(type(math.gcd(24, 60)))    #최대공약수(greatest common divisor)\n",
    "print(type(math.pi))   # 파이\n",
    "print(type(math.e))    # 자연상수 e"
   ]
  },
  {
   "cell_type": "markdown",
   "metadata": {},
   "source": [
    "## locals : 로컬에 선언된 모든 변수 확인(디버깅용)\n",
    "\n",
    "* locals : 로컬 심볼 테이블 딕셔너리를 가져오는 메서드\n",
    "* 로컬에 선언된 모든 변수를 조회할 수 있는 강력한 명령으로 디버깅 시 많은 도움이 된다.\n",
    "* 로컬 스코프에 제한해 정보를 조회하므로, 클래스의 특정 메소드 내부에서나 함수 내부의 로컬 정보를 조회해 잘못 선언한 부분이 있는지 확인할 수 있다.\n",
    "* 변수명을 일일이 찾아낼 필요 없이 로컬 스코프에 정의된 모든 변수를 출력하기 떄문에 편리함\n",
    "* Leetcode 문제 풀이 중에도 코드 내부에 출력해 활용할 수 있다."
   ]
  },
  {
   "cell_type": "code",
   "execution_count": 1,
   "metadata": {},
   "outputs": [],
   "source": [
    "a = 123\n",
    "b = 'bgf'\n",
    "c = True"
   ]
  },
  {
   "cell_type": "code",
   "execution_count": 2,
   "metadata": {},
   "outputs": [
    {
     "name": "stdout",
     "output_type": "stream",
     "text": [
      "{'In': ['',\n",
      "        \"a = 123\\nb = 'bgf'\\nc = True\",\n",
      "        'import pprint\\n\\npprint.pprint(locals())'],\n",
      " 'Out': {},\n",
      " '_': '',\n",
      " '__': '',\n",
      " '___': '',\n",
      " '__builtin__': <module 'builtins' (built-in)>,\n",
      " '__builtins__': <module 'builtins' (built-in)>,\n",
      " '__doc__': 'Automatically created module for IPython interactive environment',\n",
      " '__loader__': None,\n",
      " '__name__': '__main__',\n",
      " '__package__': None,\n",
      " '__spec__': None,\n",
      " '_dh': ['C:\\\\Users\\\\sangu\\\\OneDrive\\\\상운\\\\000_Coding\\\\Python\\\\python_Grammer'],\n",
      " '_i': \"a = 123\\nb = 'bgf'\\nc = True\",\n",
      " '_i1': \"a = 123\\nb = 'bgf'\\nc = True\",\n",
      " '_i2': 'import pprint\\n\\npprint.pprint(locals())',\n",
      " '_ih': ['',\n",
      "         \"a = 123\\nb = 'bgf'\\nc = True\",\n",
      "         'import pprint\\n\\npprint.pprint(locals())'],\n",
      " '_ii': '',\n",
      " '_iii': '',\n",
      " '_oh': {},\n",
      " 'a': 123,\n",
      " 'b': 'bgf',\n",
      " 'c': True,\n",
      " 'exit': <IPython.core.autocall.ZMQExitAutocall object at 0x0000022F3C021670>,\n",
      " 'get_ipython': <bound method InteractiveShell.get_ipython of <ipykernel.zmqshell.ZMQInteractiveShell object at 0x0000022F3BF90F40>>,\n",
      " 'pprint': <module 'pprint' from 'C:\\\\Users\\\\sangu\\\\anaconda3\\\\lib\\\\pprint.py'>,\n",
      " 'quit': <IPython.core.autocall.ZMQExitAutocall object at 0x0000022F3C021670>}\n"
     ]
    }
   ],
   "source": [
    "import pprint\n",
    "\n",
    "pprint.pprint(locals())"
   ]
  }
 ],
 "metadata": {
  "kernelspec": {
   "display_name": "Python 3",
   "language": "python",
   "name": "python3"
  },
  "language_info": {
   "codemirror_mode": {
    "name": "ipython",
    "version": 3
   },
   "file_extension": ".py",
   "mimetype": "text/x-python",
   "name": "python",
   "nbconvert_exporter": "python",
   "pygments_lexer": "ipython3",
   "version": "3.8.8"
  }
 },
 "nbformat": 4,
 "nbformat_minor": 4
}
