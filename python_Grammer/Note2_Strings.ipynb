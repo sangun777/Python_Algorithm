{
 "cells": [
  {
   "cell_type": "markdown",
   "id": "5be6ffd7",
   "metadata": {},
   "source": [
    "# 문자열(Strings)"
   ]
  },
  {
   "cell_type": "markdown",
   "id": "e45ca2f7",
   "metadata": {},
   "source": [
    "## 내용 정리 목차\n",
    "* !입력\n",
    "    * 기본 : input(), int(input())\n",
    "    * 표준 입력\n",
    "        * from sys import stdin\n",
    "        * 변수 = stdin.readline().rstrip()\n",
    "    * 여러 값을 리스트로 받기\n",
    "        * 문자열 요소로 받기 : 리스트명 = input().split()\n",
    "        * 정수형 요소로 받기 : 리스트명 = list(map(int, input().split()))\n",
    "* !출력\n",
    "    * 문자열 포매팅(변수 삽입)\n",
    "        * % 이용(%s, %c, %d, %f, %o, %x)\n",
    "        * \"..{인덱스}..\".format(변수명)\n",
    "        * f\"...{변수명}...\"\n",
    "    * 이스케이프 문자(escape sequence)\n",
    "    * 원시문자열\n",
    "    * 여러 줄 출력\n",
    "    \n",
    "    \n",
    "* !시퀀스 공통 기능\n",
    "    * +, *\n",
    "    * 인덱싱, 슬라이스\n",
    "    \n",
    "    \n",
    "* !값 추가/제거 관련\n",
    "    1. 슬라이스 + 값 추가/제거 + 슬라이스\n",
    "    2. .replace('지울 내용', '')\n",
    "        * append(), Insert()는 리스트 전용 함수임, 문자열 사용 불가!\n",
    "        * remove(), pop() 함수는 문자열에서 사용 불가!  \n",
    "        \n",
    "        \n",
    "* !값 추가 관련\n",
    "    * 요소 사이사이 값 추가 : \"추가문자\".join(문자열 or 리스트)\n",
    "    * 공백추가+정렬 : ljust, rjust, center\n",
    "    * 영추가 : zfill()  \n",
    "          \n",
    "          \n",
    "* !값 제거 관련       \n",
    "    * 공백문자(\\n, \\t) or 특정 문자 제거 : strip(), lstrip(), rstrip()\n",
    "    * 모든 특수 문자 제거(.strip(string.punctuation) + ' '이용)\n",
    "            \n",
    "            \n",
    "* !값 확인/검색\n",
    "    * 문자열 내 특정 문자 갯수 확인 : count()\n",
    "    * 문자열 내 특정 문자열 인덱스 확인 : find(), index()\n",
    "        * .find() 이용해서 특정 문자 유무 확인 가능\n",
    "    * 특정 문자로 시작하는/끝나는 문자열 색출 : startswith(), endswith()\n",
    "    * 알파벳, 숫자, 대소문자 확인: isalpha, isdecimal, isalnum, isupper, islower, istitle\n",
    "        \n",
    "        \n",
    "* !값 변경\n",
    "    * 문자열 내에 문자 'a'를 'b'로 변경 : .replace(a, b)\n",
    "        * 좌측부터 순서대로 갯수 설정 가능\n",
    "        * replaceRight 함수 만들기 : 우측부터 ~\n",
    "    * 문자 1:1 매칭으로 변경 => translate()\n",
    "        * 만일 바꾸는 문자가 길이가 일치하지 않고, 종류가 많지 않다면,  \n",
    "          replace(a, b)문을 여러번 사용하자.\n",
    "    * re.sub()\n",
    "    * 대소문자 변경(upper, lower)\n",
    "        \n",
    "\n",
    "* !값 비교  \n",
    "    ・ 완전 일치 : == , !=  \n",
    "    ・ 부분 일치 : in , not in  \n",
    "    ・ 전방 일치 : startswith()  \n",
    "    ・ 후방 일치 : endswith()  \n",
    "    \n",
    "\n",
    "* !값 정렬\n",
    "    * 문자열 뒤집기\n",
    "        1. 슬라이스 인덱스 [::-1]\n",
    "        2. list로 변경 => .reverse()함수 => str로 재변경\n",
    "        3. reversed(문자열) 객체 생성 => for문으로 출력\n",
    "    * 오름차순, 내림차순 정렬\n",
    "        * list(문자열), sorted(리스트, reverse = 0/1), \"\".join(리스트) 이용\n",
    "        \n",
    "        \n",
    "\n",
    "* !형 변환\n",
    "    * 문자 <=> 숫자(ASCII)\n",
    "    * Boolean 변환\n",
    "        * bool() 함수 이용\n",
    "    * 리스트로 변경\n",
    "        * 문자열->리스트\n",
    "            1. list(문자열) : 문자 하나하나를 요소로 리스트 변환\n",
    "            2. 문자열.split() : 문자열의 공백을 기준으로 요소를 나누어 리스트 반환\n",
    "        * 리스트->문자열 : = \"\".join(리스트)\n",
    "        * 변형(문자열/리스트 요소 사이에 다른 문자 추가): \"추가문자\".join(리스트)\n",
    "    * 튜플 변환\n",
    "        * -> 튜플 : tuple(문자열)\n",
    "        * -> 문자열 : \"\".join(튜플)\n",
    "    * 바이트/바이트배열 변환\n",
    "        * -> 바이트/바이트배열 : bytes(문자열, encoding='인코딩방식') / bytearray(문자열, encoding = '인코딩방식')\n",
    "        * -> 문자열 : 바이트.decode(\"인코딩방식\")\n",
    "    * 세트 변환\n",
    "        * -> 세트 : set(문자열)\n",
    "        * -> 문자열 : \"\".join(세트)   =>    중복 값 누락 발생\n",
    "    * 딕셔너리 변환\n",
    "        * -> 딕셔너리 : for k, v in enumerate(문자열): 딕셔너리[키]=값\n",
    "        * -> 문자열 : for k, v, in 딕셔너리.items(): 이후는 코드 참조\n",
    "        \n",
    "    \n",
    "           \n",
    "             \n",
    "* !그 외 기능들\n",
    "    * 정규표현식 관련\n",
    "    * 점프 투 파이썬, 코딩 도장 내용 중 빠진 것 있응지 확인\n",
    "    * dir(str)에서 나오는 메소드 중 필요한 것 확인\n",
    "    * 문자열의 길이를 기준으로 정렬  \n",
    "        https://velog.io/@asas33/python-%EB%AC%B8%EC%9E%90%EC%97%B4-%EB%A6%AC%EC%8A%A4%ED%8A%B8-%EC%A0%95%EB%A0%AC\n",
    "\n",
    "* 노션 정리 내용 재 정리\n",
    "* 목차 복사\n",
    "* 깃허브 커밋"
   ]
  },
  {
   "cell_type": "markdown",
   "id": "e0fe1a51",
   "metadata": {},
   "source": [
    "# !입력(input) 관련"
   ]
  },
  {
   "cell_type": "markdown",
   "id": "05f06437",
   "metadata": {},
   "source": [
    " * input(\"~\")\n",
    "     - ~를 출력하고, \n",
    "     - 키보드로 부터 입력을 받음(입력 값은 str type)\n",
    "     - 정수로 입력 받기 : int(input())"
   ]
  },
  {
   "cell_type": "markdown",
   "id": "7221bfba",
   "metadata": {},
   "source": [
    " * 문자열 입력 받기"
   ]
  },
  {
   "cell_type": "code",
   "execution_count": 9,
   "id": "91584235",
   "metadata": {},
   "outputs": [
    {
     "data": {
      "text/plain": [
       "['23', '1', '1', '234']"
      ]
     },
     "execution_count": 9,
     "metadata": {},
     "output_type": "execute_result"
    }
   ],
   "source": [
    "'2301010234'.split('0')"
   ]
  },
  {
   "cell_type": "code",
   "execution_count": 8,
   "id": "c3450321",
   "metadata": {},
   "outputs": [
    {
     "ename": "ValueError",
     "evalue": "invalid literal for int() with base 10: ''",
     "output_type": "error",
     "traceback": [
      "\u001b[1;31m---------------------------------------------------------------------------\u001b[0m",
      "\u001b[1;31mValueError\u001b[0m                                Traceback (most recent call last)",
      "\u001b[1;32m<ipython-input-8-e4f84bb32d50>\u001b[0m in \u001b[0;36m<module>\u001b[1;34m\u001b[0m\n\u001b[1;32m----> 1\u001b[1;33m \u001b[0mint\u001b[0m\u001b[1;33m(\u001b[0m\u001b[1;34m''\u001b[0m\u001b[1;33m)\u001b[0m\u001b[1;33m\u001b[0m\u001b[1;33m\u001b[0m\u001b[0m\n\u001b[0m",
      "\u001b[1;31mValueError\u001b[0m: invalid literal for int() with base 10: ''"
     ]
    }
   ],
   "source": [
    "int('')"
   ]
  },
  {
   "cell_type": "markdown",
   "id": "e8093abf",
   "metadata": {},
   "source": [
    " * 비워진 문자열은 조건문에서 false 역할도 한다"
   ]
  },
  {
   "cell_type": "code",
   "execution_count": 1,
   "id": "adb37edf",
   "metadata": {},
   "outputs": [],
   "source": [
    "if '':\n",
    "    print('hi')"
   ]
  },
  {
   "cell_type": "code",
   "execution_count": 2,
   "id": "4ea730ed",
   "metadata": {},
   "outputs": [
    {
     "data": {
      "text/plain": [
       "'ab'"
      ]
     },
     "execution_count": 2,
     "metadata": {},
     "output_type": "execute_result"
    }
   ],
   "source": [
    "'' + 'a'+'b'"
   ]
  },
  {
   "cell_type": "code",
   "execution_count": 71,
   "id": "e86fb756",
   "metadata": {},
   "outputs": [
    {
     "name": "stdout",
     "output_type": "stream",
     "text": [
      "숫자를 입력하세요 : 123\n",
      "입력한 숫자는 :  123\n",
      "<class 'str'>\n"
     ]
    }
   ],
   "source": [
    "s = input(\"숫자를 입력하세요 : \")\n",
    "print(\"입력한 숫자는 : \", s)\n",
    "print(type(s))"
   ]
  },
  {
   "cell_type": "markdown",
   "id": "c5c702e7",
   "metadata": {},
   "source": [
    " * 정수 입력 받기"
   ]
  },
  {
   "cell_type": "code",
   "execution_count": 73,
   "id": "145d1c22",
   "metadata": {},
   "outputs": [
    {
     "name": "stdout",
     "output_type": "stream",
     "text": [
      "숫자를 입력하세요 : 123\n",
      "입력한 숫자는 :  123\n",
      "<class 'int'>\n"
     ]
    }
   ],
   "source": [
    "s = int(input(\"숫자를 입력하세요 : \"))    # int(input()) 사용\n",
    "print(\"입력한 숫자는 : \", s)\n",
    "print(type(s))"
   ]
  },
  {
   "cell_type": "markdown",
   "id": "af2cc77a",
   "metadata": {},
   "source": [
    "## 표준 입력!!\n",
    "\n",
    "\n",
    "     * !!! 주피터 노트북은 sys.stdin을 지원하지 않음 !!!\n",
    "         * https://blog.naver.com/luvwithcat/222200084036\n",
    "         \n",
    "     * 코딩 테스트에서 입력값을 여러줄을 받아야 할 때,\n",
    "         * input()과 반복문으로 입력 받으면 시간초과가 발생가능\n",
    "         \n",
    "     * 카카오에서는 아예 표준 입출력하라고 명시까지 해놨음\n",
    "     \n",
    "     * sys 라이브러리를 사용할 때에는 한줄 입력 받은 후 꼭 rstrip() 함수를 호출한다.\n",
    "         * readline()으로 입력하면, 입력 후 엔터가 줄바꿈 기호로 입력되는데, 이 공백문자를 제거하기 위함."
   ]
  },
  {
   "cell_type": "code",
   "execution_count": 75,
   "id": "b020267f",
   "metadata": {},
   "outputs": [
    {
     "name": "stdout",
     "output_type": "stream",
     "text": [
      "\n"
     ]
    }
   ],
   "source": [
    "from sys import stdin\n",
    "\n",
    "a = stdin.readline().rstrip()    ### jupyter notebook에서 실행 안됨\n",
    "\n",
    "print(a)"
   ]
  },
  {
   "cell_type": "markdown",
   "id": "280c4cb6",
   "metadata": {},
   "source": [
    "### 여러 값을 동시에 입력해서 리스트로 받기\n",
    "\n",
    "    * input().split() 사용\n",
    "    * 값 구분은 띄어쓰기로 함\n",
    "    * 각 값은 문자열 형태로 들어감"
   ]
  },
  {
   "cell_type": "code",
   "execution_count": 76,
   "id": "c32806d1",
   "metadata": {},
   "outputs": [
    {
     "name": "stdout",
     "output_type": "stream",
     "text": [
      "10 20 30 40\n"
     ]
    },
    {
     "data": {
      "text/plain": [
       "['10', '20', '30', '40']"
      ]
     },
     "execution_count": 76,
     "metadata": {},
     "output_type": "execute_result"
    }
   ],
   "source": [
    "a = input().split()   ### 숫자를 입력해도 정수형(str)로 받는 것에 주의\n",
    "a"
   ]
  },
  {
   "cell_type": "markdown",
   "id": "7d4f6a30",
   "metadata": {},
   "source": [
    "### 여러 값을 동시에 숫자(int형)로 받아 리스트로 반환\n",
    "     * map 함수는 map class를 반환하므로, list()로 감싸주어야함\n",
    "     * map(파라미터1,파라미터2)\n",
    "         * 파라미터 1은 함수명을 그대로 씀 => () 소괄호 안씀\n",
    "         * 파라미터 2는 반복가능객체 사용 => list입력을 위해 input().split() 사용  \n",
    "         (()소괄호 모두 적어주어야함 주의!!)"
   ]
  },
  {
   "cell_type": "code",
   "execution_count": 78,
   "id": "fe90f4d8",
   "metadata": {},
   "outputs": [
    {
     "name": "stdout",
     "output_type": "stream",
     "text": [
      "10 20 30 40\n",
      "[10, 20, 30, 40]\n"
     ]
    }
   ],
   "source": [
    "a = list(map(int, input().split()))\n",
    "print(a)"
   ]
  },
  {
   "cell_type": "markdown",
   "id": "fa10186b",
   "metadata": {},
   "source": [
    "## !출력 관련"
   ]
  },
  {
   "cell_type": "markdown",
   "id": "44a92a2c",
   "metadata": {},
   "source": [
    "### 문자열 포매팅(변수 삽입)\n",
    "    * %s : 문자열\n",
    "    * %c : 문자 한개\n",
    "    * %d : 정수(int형)\n",
    "    * %f : 부동소수(floating-point)\n",
    "    * %o : 8진수\n",
    "    * %x : 16진수\n",
    "    * %% : '%' 문자 자체를 넣음(다른 포멧팅이 같이 있을 때, (하단 추가 설명 있음))"
   ]
  },
  {
   "cell_type": "markdown",
   "id": "8af93a5f",
   "metadata": {},
   "source": [
    "* 숫자 대입(%d)"
   ]
  },
  {
   "cell_type": "code",
   "execution_count": 7,
   "id": "1f471dba",
   "metadata": {},
   "outputs": [
    {
     "name": "stdout",
     "output_type": "stream",
     "text": [
      "3 apples.\n"
     ]
    }
   ],
   "source": [
    "a = 3\n",
    "print(\"%d apples.\" % a)"
   ]
  },
  {
   "cell_type": "code",
   "execution_count": 6,
   "id": "0e5978b9",
   "metadata": {},
   "outputs": [
    {
     "name": "stdout",
     "output_type": "stream",
     "text": [
      "3 apples, 2 bananas\n"
     ]
    }
   ],
   "source": [
    "a = 3\n",
    "b = 2\n",
    "print(\"%d apples, %d bananas\" % (a, b))"
   ]
  },
  {
   "cell_type": "markdown",
   "id": "1d36ca41",
   "metadata": {},
   "source": [
    " * 문자열 대입(%s)"
   ]
  },
  {
   "cell_type": "code",
   "execution_count": 12,
   "id": "d4672469",
   "metadata": {},
   "outputs": [
    {
     "name": "stdout",
     "output_type": "stream",
     "text": [
      "My name is Sangun\n"
     ]
    }
   ],
   "source": [
    "t = \"Sangun\"\n",
    "print(\"My name is %s\" % t)"
   ]
  },
  {
   "cell_type": "markdown",
   "id": "b6844f6f",
   "metadata": {},
   "source": [
    " * 혼합"
   ]
  },
  {
   "cell_type": "code",
   "execution_count": 13,
   "id": "48bf9e85",
   "metadata": {},
   "outputs": [
    {
     "name": "stdout",
     "output_type": "stream",
     "text": [
      "Sangun has 3 apples.\n"
     ]
    }
   ],
   "source": [
    "print(\"%s has %d apples.\" %(t, a))"
   ]
  },
  {
   "cell_type": "markdown",
   "id": "bcbcf2b5",
   "metadata": {},
   "source": [
    "###  %%의 사용"
   ]
  },
  {
   "cell_type": "markdown",
   "id": "54b33ff5",
   "metadata": {},
   "source": [
    "* 다른 포맷팅이 없을 때는 그냥 % 갯수만큼 들어감"
   ]
  },
  {
   "cell_type": "code",
   "execution_count": 25,
   "id": "630d1073",
   "metadata": {},
   "outputs": [
    {
     "name": "stdout",
     "output_type": "stream",
     "text": [
      "hello % hi\n",
      "hello %% hi\n"
     ]
    }
   ],
   "source": [
    "print(\"hello % hi\")\n",
    "print(\"hello %% hi\")"
   ]
  },
  {
   "cell_type": "markdown",
   "id": "21c71b49",
   "metadata": {},
   "source": [
    " * 다른 포맷팅이 있으면 %%를 써주어야 % 한 개가 들어감"
   ]
  },
  {
   "cell_type": "code",
   "execution_count": 5,
   "id": "485c6318",
   "metadata": {},
   "outputs": [
    {
     "name": "stdout",
     "output_type": "stream",
     "text": [
      "The Probability is 3 %\n"
     ]
    }
   ],
   "source": [
    "print(\"The Probability is %d %%\" % 3)"
   ]
  },
  {
   "cell_type": "code",
   "execution_count": 4,
   "id": "907a9755",
   "metadata": {},
   "outputs": [
    {
     "name": "stdout",
     "output_type": "stream",
     "text": [
      "The Probability is % sadf 3 asd asd %\n"
     ]
    }
   ],
   "source": [
    "print(\"The Probability is %% sadf %d asd asd %%\" % 3)"
   ]
  },
  {
   "cell_type": "code",
   "execution_count": 24,
   "id": "01cc4612",
   "metadata": {},
   "outputs": [
    {
     "data": {
      "text/plain": [
       "'persent %%'"
      ]
     },
     "execution_count": 24,
     "metadata": {},
     "output_type": "execute_result"
    }
   ],
   "source": [
    "'persent %%'"
   ]
  },
  {
   "cell_type": "code",
   "execution_count": 13,
   "id": "c053fc99",
   "metadata": {},
   "outputs": [
    {
     "name": "stdout",
     "output_type": "stream",
     "text": [
      "%\n",
      "%%\n",
      "\\%\n",
      "The Probability is 3 %\n"
     ]
    },
    {
     "ename": "ValueError",
     "evalue": "incomplete format",
     "output_type": "error",
     "traceback": [
      "\u001b[1;31m---------------------------------------------------------------------------\u001b[0m",
      "\u001b[1;31mValueError\u001b[0m                                Traceback (most recent call last)",
      "\u001b[1;32m<ipython-input-13-dc4f41b0d992>\u001b[0m in \u001b[0;36m<module>\u001b[1;34m\u001b[0m\n\u001b[0;32m      3\u001b[0m \u001b[0mprint\u001b[0m\u001b[1;33m(\u001b[0m\u001b[1;34m\"\\%\"\u001b[0m\u001b[1;33m)\u001b[0m\u001b[1;33m\u001b[0m\u001b[1;33m\u001b[0m\u001b[0m\n\u001b[0;32m      4\u001b[0m \u001b[0mprint\u001b[0m\u001b[1;33m(\u001b[0m\u001b[1;34m\"The Probability is %d %%\"\u001b[0m \u001b[1;33m%\u001b[0m \u001b[1;36m3\u001b[0m\u001b[1;33m)\u001b[0m\u001b[1;33m\u001b[0m\u001b[1;33m\u001b[0m\u001b[0m\n\u001b[1;32m----> 5\u001b[1;33m \u001b[0mprint\u001b[0m\u001b[1;33m(\u001b[0m\u001b[1;34m\"The Probability is %d \\%\"\u001b[0m \u001b[1;33m%\u001b[0m \u001b[1;36m3\u001b[0m\u001b[1;33m)\u001b[0m\u001b[1;33m\u001b[0m\u001b[1;33m\u001b[0m\u001b[0m\n\u001b[0m",
      "\u001b[1;31mValueError\u001b[0m: incomplete format"
     ]
    }
   ],
   "source": [
    "print(\"%\")\n",
    "print(\"%%\")\n",
    "print(\"\\%\")\n",
    "print(\"The Probability is %d %%\" % 3)\n",
    "print(\"The Probability is %d \\%\" % 3)"
   ]
  },
  {
   "cell_type": "code",
   "execution_count": 14,
   "id": "c9e60728",
   "metadata": {},
   "outputs": [
    {
     "ename": "ValueError",
     "evalue": "incomplete format",
     "output_type": "error",
     "traceback": [
      "\u001b[1;31m---------------------------------------------------------------------------\u001b[0m",
      "\u001b[1;31mValueError\u001b[0m                                Traceback (most recent call last)",
      "\u001b[1;32m<ipython-input-14-45207b922d71>\u001b[0m in \u001b[0;36m<module>\u001b[1;34m\u001b[0m\n\u001b[1;32m----> 1\u001b[1;33m \u001b[0mprint\u001b[0m\u001b[1;33m(\u001b[0m\u001b[1;34m\"The Probability is %d %\"\u001b[0m \u001b[1;33m%\u001b[0m \u001b[1;36m3\u001b[0m\u001b[1;33m)\u001b[0m\u001b[1;33m\u001b[0m\u001b[1;33m\u001b[0m\u001b[0m\n\u001b[0m",
      "\u001b[1;31mValueError\u001b[0m: incomplete format"
     ]
    }
   ],
   "source": [
    "print(\"The Probability is %d %\" % 3)"
   ]
  },
  {
   "cell_type": "markdown",
   "id": "b116cec2",
   "metadata": {},
   "source": [
    " * 공간 설정 및 문자 정렬\n",
    "     * %s에서 %와 s 사이 숫자로 공간 설정\n",
    "         * 양수 : 오른쪽 정렬\n",
    "         * 음수 : 왼쪽 정렬"
   ]
  },
  {
   "cell_type": "code",
   "execution_count": 31,
   "id": "00338c71",
   "metadata": {},
   "outputs": [
    {
     "name": "stdout",
     "output_type": "stream",
     "text": [
      "My       name is Sangun\n"
     ]
    }
   ],
   "source": [
    "print(\"My %10s is Sangun\" % \"name\")    # 양수 : 오른쪽 정렬"
   ]
  },
  {
   "cell_type": "code",
   "execution_count": 33,
   "id": "48e362ed",
   "metadata": {},
   "outputs": [
    {
     "name": "stdout",
     "output_type": "stream",
     "text": [
      "My name       is Sangun\n"
     ]
    }
   ],
   "source": [
    "print(\"My %-10s is Sangun\" % \"name\")    # 음수 : 왼쪽 정렬"
   ]
  },
  {
   "cell_type": "markdown",
   "id": "f944c062",
   "metadata": {},
   "source": [
    " * 소숫점 자릿수 표현\n",
    "    * %f에서 %와 f사이에 0.자릿수 추가"
   ]
  },
  {
   "cell_type": "code",
   "execution_count": 34,
   "id": "653bc87b",
   "metadata": {},
   "outputs": [
    {
     "data": {
      "text/plain": [
       "'3.1416'"
      ]
     },
     "execution_count": 34,
     "metadata": {},
     "output_type": "execute_result"
    }
   ],
   "source": [
    "\"%0.4f\" % 3.1415926535"
   ]
  },
  {
   "cell_type": "markdown",
   "id": "0ae668ca",
   "metadata": {},
   "source": [
    "* 공간 + 왼쪽/오른쪽 정렬 + 소숫점 자릿수"
   ]
  },
  {
   "cell_type": "code",
   "execution_count": 36,
   "id": "8e2f85be",
   "metadata": {},
   "outputs": [
    {
     "data": {
      "text/plain": [
       "'3.1416    '"
      ]
     },
     "execution_count": 36,
     "metadata": {},
     "output_type": "execute_result"
    }
   ],
   "source": [
    "# - : 왼쪽 정렬\n",
    "# 10 : 10칸의 공간 마련\n",
    "# .4 : 소수점 아래 내자리까지 반올림\n",
    "\"%-10.4f\" % 3.141592653589"
   ]
  },
  {
   "cell_type": "code",
   "execution_count": 37,
   "id": "fb562908",
   "metadata": {},
   "outputs": [
    {
     "data": {
      "text/plain": [
       "'    3.1416'"
      ]
     },
     "execution_count": 37,
     "metadata": {},
     "output_type": "execute_result"
    }
   ],
   "source": [
    "# - 안붙이면 오른쪽 정렬됨\n",
    "\"%10.4f\" % 3.141592653589"
   ]
  },
  {
   "cell_type": "markdown",
   "id": "4a22b284",
   "metadata": {},
   "source": [
    "### \".....{}.......\".format() 이용"
   ]
  },
  {
   "cell_type": "markdown",
   "id": "87815f9e",
   "metadata": {},
   "source": [
    " * 기본형"
   ]
  },
  {
   "cell_type": "code",
   "execution_count": 38,
   "id": "103aa1d8",
   "metadata": {},
   "outputs": [
    {
     "name": "stdout",
     "output_type": "stream",
     "text": [
      "My name is sangun\n"
     ]
    }
   ],
   "source": [
    "a = \"is\"\n",
    "print(\"My name {} sangun\".format(a))"
   ]
  },
  {
   "cell_type": "markdown",
   "id": "bd0dc7d5",
   "metadata": {},
   "source": [
    " * 숫자 + 문자 혼합 삽입"
   ]
  },
  {
   "cell_type": "code",
   "execution_count": 41,
   "id": "288d0226",
   "metadata": {},
   "outputs": [
    {
     "name": "stdout",
     "output_type": "stream",
     "text": [
      "I ate 3 apples.\n"
     ]
    }
   ],
   "source": [
    "fruit = \"apple\"\n",
    "num = 3\n",
    "\n",
    "print(\"I ate {} {}s.\".format(num, fruit))"
   ]
  },
  {
   "cell_type": "markdown",
   "id": "ea192336",
   "metadata": {},
   "source": [
    " * 변수 삽입 순서 설정 => {} 안에 숫자로 순서 설정 가능"
   ]
  },
  {
   "cell_type": "code",
   "execution_count": 40,
   "id": "a14e51db",
   "metadata": {},
   "outputs": [
    {
     "name": "stdout",
     "output_type": "stream",
     "text": [
      "I ate 3 apples.\n"
     ]
    }
   ],
   "source": [
    "fruit = \"apple\"\n",
    "num = 3\n",
    "\n",
    "print(\"I ate {1} {0}s.\".format(fruit, num))"
   ]
  },
  {
   "cell_type": "markdown",
   "id": "92cacef4",
   "metadata": {},
   "source": [
    " * 변수 이름으로 삽입"
   ]
  },
  {
   "cell_type": "code",
   "execution_count": 42,
   "id": "ab3bc9b1",
   "metadata": {},
   "outputs": [
    {
     "data": {
      "text/plain": [
       "'I ate 10 apples. so I was sick for 3 days.'"
      ]
     },
     "execution_count": 42,
     "metadata": {},
     "output_type": "execute_result"
    }
   ],
   "source": [
    "\"I ate {number} apples. so I was sick for{day} days.\".format(number=10, day=3)"
   ]
  },
  {
   "cell_type": "markdown",
   "id": "a333f427",
   "metadata": {},
   "source": [
    " ### => 변수의 값을 format()함수 안에서 설정 해주어야함"
   ]
  },
  {
   "cell_type": "code",
   "execution_count": 43,
   "id": "8c4ee3f8",
   "metadata": {},
   "outputs": [
    {
     "ename": "KeyError",
     "evalue": "'number'",
     "output_type": "error",
     "traceback": [
      "\u001b[1;31m---------------------------------------------------------------------------\u001b[0m",
      "\u001b[1;31mKeyError\u001b[0m                                  Traceback (most recent call last)",
      "\u001b[1;32m<ipython-input-43-cd6da577143d>\u001b[0m in \u001b[0;36m<module>\u001b[1;34m\u001b[0m\n\u001b[0;32m      2\u001b[0m \u001b[0mday\u001b[0m\u001b[1;33m=\u001b[0m\u001b[1;36m3\u001b[0m\u001b[1;33m\u001b[0m\u001b[1;33m\u001b[0m\u001b[0m\n\u001b[0;32m      3\u001b[0m \u001b[1;33m\u001b[0m\u001b[0m\n\u001b[1;32m----> 4\u001b[1;33m \u001b[1;34m\"I ate {number} apples. so I was sick for{day} days.\"\u001b[0m\u001b[1;33m.\u001b[0m\u001b[0mformat\u001b[0m\u001b[1;33m(\u001b[0m\u001b[0mnumber\u001b[0m\u001b[1;33m,\u001b[0m \u001b[0mday\u001b[0m\u001b[1;33m)\u001b[0m\u001b[1;33m\u001b[0m\u001b[1;33m\u001b[0m\u001b[0m\n\u001b[0m",
      "\u001b[1;31mKeyError\u001b[0m: 'number'"
     ]
    }
   ],
   "source": [
    "number=10\n",
    "day=3\n",
    "\n",
    "\"I ate {number} apples. so I was sick for{day} days.\".format(number, day)"
   ]
  },
  {
   "cell_type": "markdown",
   "id": "6be18862",
   "metadata": {},
   "source": [
    " * 인덱스, 이름 혼용해서 넣기"
   ]
  },
  {
   "cell_type": "code",
   "execution_count": 44,
   "id": "651549d6",
   "metadata": {},
   "outputs": [
    {
     "data": {
      "text/plain": [
       "'I ate 10 apples. so I was sick for 3 days.'"
      ]
     },
     "execution_count": 44,
     "metadata": {},
     "output_type": "execute_result"
    }
   ],
   "source": [
    "\"I ate {0} apples. so I was sick for {day} days.\".format(10, day=3)"
   ]
  },
  {
   "cell_type": "markdown",
   "id": "3b43c5d1",
   "metadata": {},
   "source": [
    "* 왼쪽/오른쪽 정렬\n",
    "\n",
    "    {인덱스 : 정렬방향 자릿수}"
   ]
  },
  {
   "cell_type": "code",
   "execution_count": 47,
   "id": "d4f4ff79",
   "metadata": {},
   "outputs": [
    {
     "name": "stdout",
     "output_type": "stream",
     "text": [
      "I ate 3          ***      apples.\n"
     ]
    }
   ],
   "source": [
    "fruit = \"apple\"\n",
    "num = 3\n",
    "\n",
    "print(\"I ate {1:<10} *** {0:>10}s.\".format(fruit, num))"
   ]
  },
  {
   "cell_type": "markdown",
   "id": "30347cef",
   "metadata": {},
   "source": [
    "* 가운데 정렬  \n",
    "{인덱스:^자릿수}"
   ]
  },
  {
   "cell_type": "code",
   "execution_count": 48,
   "id": "9da97402",
   "metadata": {},
   "outputs": [
    {
     "name": "stdout",
     "output_type": "stream",
     "text": [
      "I ate     3      ***   apple   s.\n"
     ]
    }
   ],
   "source": [
    "fruit = \"apple\"\n",
    "num = 3\n",
    "\n",
    "print(\"I ate {1:^10} *** {0:^10}s.\".format(fruit, num))"
   ]
  },
  {
   "cell_type": "markdown",
   "id": "ce354556",
   "metadata": {},
   "source": [
    " * 공백 채운 정렬  \n",
    " {인덱스:채울문자^자릿수}"
   ]
  },
  {
   "cell_type": "code",
   "execution_count": 49,
   "id": "bddecb65",
   "metadata": {},
   "outputs": [
    {
     "name": "stdout",
     "output_type": "stream",
     "text": [
      "I ate @@@@3@@@@@ *** ==apple===s.\n"
     ]
    }
   ],
   "source": [
    "fruit = \"apple\"\n",
    "num = 3\n",
    "\n",
    "print(\"I ate {1:@^10} *** {0:=^10}s.\".format(fruit, num))"
   ]
  },
  {
   "cell_type": "markdown",
   "id": "7862f5b4",
   "metadata": {},
   "source": [
    "* 자릿수 + 소수점 표현"
   ]
  },
  {
   "cell_type": "code",
   "execution_count": 51,
   "id": "3e06125b",
   "metadata": {},
   "outputs": [
    {
     "data": {
      "text/plain": [
       "'    3.1416'"
      ]
     },
     "execution_count": 51,
     "metadata": {},
     "output_type": "execute_result"
    }
   ],
   "source": [
    "p = 3.1415926535\n",
    "\"{0:10.4f}\".format(p)"
   ]
  },
  {
   "cell_type": "markdown",
   "id": "5dacac37",
   "metadata": {},
   "source": [
    " * 중괄호 문자 표현 => 포매팅 기능과 무관\n",
    "    * 연속으로 2개 쓰기"
   ]
  },
  {
   "cell_type": "code",
   "execution_count": 15,
   "id": "86cceaa7",
   "metadata": {},
   "outputs": [
    {
     "data": {
      "text/plain": [
       "'{ and }'"
      ]
     },
     "execution_count": 15,
     "metadata": {},
     "output_type": "execute_result"
    }
   ],
   "source": [
    "\"{{ and }}\".format() # 바깥쪽 중괄호는 .format 함수와 짝궁 기능 역할, 안쪽 중괄호는 문자 취급"
   ]
  },
  {
   "cell_type": "code",
   "execution_count": 1,
   "id": "94ffc4e2",
   "metadata": {},
   "outputs": [
    {
     "name": "stdout",
     "output_type": "stream",
     "text": [
      "{{}}\n"
     ]
    }
   ],
   "source": [
    "# .format을 안쓰면 중괄호 2개 모두 출력됨\n",
    "print('{{}}')"
   ]
  },
  {
   "cell_type": "code",
   "execution_count": 6,
   "id": "f6532f44",
   "metadata": {},
   "outputs": [
    {
     "ename": "ValueError",
     "evalue": "unexpected '{' in field name",
     "output_type": "error",
     "traceback": [
      "\u001b[1;31m---------------------------------------------------------------------------\u001b[0m",
      "\u001b[1;31mValueError\u001b[0m                                Traceback (most recent call last)",
      "\u001b[1;32m<ipython-input-6-624ef9cebc0b>\u001b[0m in \u001b[0;36m<module>\u001b[1;34m\u001b[0m\n\u001b[0;32m      1\u001b[0m \u001b[0ma\u001b[0m \u001b[1;33m=\u001b[0m \u001b[1;36m123\u001b[0m\u001b[1;33m\u001b[0m\u001b[1;33m\u001b[0m\u001b[0m\n\u001b[1;32m----> 2\u001b[1;33m \u001b[0mprint\u001b[0m\u001b[1;33m(\u001b[0m\u001b[1;34m\"{qwe{ and }ewq }\"\u001b[0m\u001b[1;33m.\u001b[0m\u001b[0mformat\u001b[0m\u001b[1;33m(\u001b[0m\u001b[0ma\u001b[0m\u001b[1;33m)\u001b[0m\u001b[1;33m)\u001b[0m\u001b[1;33m\u001b[0m\u001b[1;33m\u001b[0m\u001b[0m\n\u001b[0m",
      "\u001b[1;31mValueError\u001b[0m: unexpected '{' in field name"
     ]
    }
   ],
   "source": [
    "a = 123\n",
    "print(\"{qwe{ and }ewq }\".format(a))"
   ]
  },
  {
   "cell_type": "markdown",
   "id": "a4c813b5",
   "metadata": {},
   "source": [
    "### 돈 단위 표현하기(3자리 ,)　　　=>　　　format(숫자, ',')"
   ]
  },
  {
   "cell_type": "markdown",
   "id": "e192ae37",
   "metadata": {},
   "source": [
    " * % 포매팅\n",
    "     * 서식지정자(%)의 경우 뒤에 , ',' 만 추가하면 됨"
   ]
  },
  {
   "cell_type": "code",
   "execution_count": 1,
   "id": "a704f966",
   "metadata": {},
   "outputs": [
    {
     "data": {
      "text/plain": [
       "'           1,493,500'"
      ]
     },
     "execution_count": 1,
     "metadata": {},
     "output_type": "execute_result"
    }
   ],
   "source": [
    "'%20s' % format(1493500, ',')"
   ]
  },
  {
   "cell_type": "code",
   "execution_count": 2,
   "id": "d5e9de9a",
   "metadata": {},
   "outputs": [
    {
     "data": {
      "text/plain": [
       "'1,493,500'"
      ]
     },
     "execution_count": 2,
     "metadata": {},
     "output_type": "execute_result"
    }
   ],
   "source": [
    "format(1493500, ',')"
   ]
  },
  {
   "cell_type": "code",
   "execution_count": 16,
   "id": "b0fea93c",
   "metadata": {},
   "outputs": [
    {
     "data": {
      "text/plain": [
       "str"
      ]
     },
     "execution_count": 16,
     "metadata": {},
     "output_type": "execute_result"
    }
   ],
   "source": [
    "type(format(1493500, ','))"
   ]
  },
  {
   "cell_type": "markdown",
   "id": "5b104916",
   "metadata": {},
   "source": [
    " * \"\".format() 함수 이용\n",
    "      * {인덱스:채우기+정렬+길이+콤마+소수점}으로 넣어야됨"
   ]
  },
  {
   "cell_type": "code",
   "execution_count": 3,
   "id": "12b2fb97",
   "metadata": {},
   "outputs": [
    {
     "data": {
      "text/plain": [
       "'000000000001,493,500'"
      ]
     },
     "execution_count": 3,
     "metadata": {},
     "output_type": "execute_result"
    }
   ],
   "source": [
    "'{0:0>20,}'.format(1493500) "
   ]
  },
  {
   "cell_type": "markdown",
   "id": "49812778",
   "metadata": {},
   "source": [
    " * float 형"
   ]
  },
  {
   "cell_type": "code",
   "execution_count": 4,
   "id": "7870b07c",
   "metadata": {},
   "outputs": [
    {
     "data": {
      "text/plain": [
       "'000000001,493,500.00'"
      ]
     },
     "execution_count": 4,
     "metadata": {},
     "output_type": "execute_result"
    }
   ],
   "source": [
    "'{0:0>20,.2f}'.format(1493500)"
   ]
  },
  {
   "cell_type": "markdown",
   "id": "31f4fc83",
   "metadata": {},
   "source": [
    "## f 문자열 포매팅　　=> 　　f'.....{외부변수}.....'\n",
    "    * .format 함수를 쓰지 않고도 f''을 사용하면 포매팅 가능(파이썬 3.6 이상부터)\n",
    "    * 기능상 .format에서 쓰인 형식 그대로 사용 가능(정렬, 소수점, 중괄호 등)\n",
    "        .format() 에서 {}안에 인덱스가 쓰이면, f포매팅은 \"문자열변수명\" or \"문자열\"이 그대로 쓰임"
   ]
  },
  {
   "cell_type": "code",
   "execution_count": 55,
   "id": "d8d2165a",
   "metadata": {},
   "outputs": [
    {
     "data": {
      "text/plain": [
       "'내 이름은 홍길동이고, 나이는 17입니다.'"
      ]
     },
     "execution_count": 55,
     "metadata": {},
     "output_type": "execute_result"
    }
   ],
   "source": [
    "name = \"홍길동\"\n",
    "age = 17\n",
    "\n",
    "f'내 이름은 {name}이고, 나이는 {age}입니다.'"
   ]
  },
  {
   "cell_type": "code",
   "execution_count": 58,
   "id": "b26eddd7",
   "metadata": {},
   "outputs": [
    {
     "data": {
      "text/plain": [
       "'내년이면 18살 입니다.'"
      ]
     },
     "execution_count": 58,
     "metadata": {},
     "output_type": "execute_result"
    }
   ],
   "source": [
    "f'내년이면 {age+1}살 입니다.'"
   ]
  },
  {
   "cell_type": "markdown",
   "id": "64a38431",
   "metadata": {},
   "source": [
    " * f포매팅 + 딕셔너리 이용"
   ]
  },
  {
   "cell_type": "code",
   "execution_count": 59,
   "id": "ebe78349",
   "metadata": {},
   "outputs": [
    {
     "data": {
      "text/plain": [
       "'나의 이름은 홍길동입니다. 나이는 30입니다.'"
      ]
     },
     "execution_count": 59,
     "metadata": {},
     "output_type": "execute_result"
    }
   ],
   "source": [
    "d = {'name':'홍길동', 'age':30}\n",
    "f'나의 이름은 {d[\"name\"]}입니다. 나이는 {d[\"age\"]}입니다.'"
   ]
  },
  {
   "cell_type": "code",
   "execution_count": 52,
   "id": "caa76c2f",
   "metadata": {},
   "outputs": [
    {
     "data": {
      "text/plain": [
       "'hi        '"
      ]
     },
     "execution_count": 52,
     "metadata": {},
     "output_type": "execute_result"
    }
   ],
   "source": [
    "f\"{'hi':<10}\"  # 왼쪽 정렬"
   ]
  },
  {
   "cell_type": "markdown",
   "id": "12153508",
   "metadata": {},
   "source": [
    "### 이 때, f포메팅 과 안에 문자열 기호는 서로 큰-작은 따옴표 또는 작은-큰 따옴표로 달라야한다(아닐시 에러)"
   ]
  },
  {
   "cell_type": "code",
   "execution_count": 61,
   "id": "30b04efd",
   "metadata": {},
   "outputs": [
    {
     "data": {
      "text/plain": [
       "'        hi'"
      ]
     },
     "execution_count": 61,
     "metadata": {},
     "output_type": "execute_result"
    }
   ],
   "source": [
    "f'{\"hi\":>10}'  # 오른쪽 정렬"
   ]
  },
  {
   "cell_type": "code",
   "execution_count": 62,
   "id": "40272791",
   "metadata": {},
   "outputs": [
    {
     "data": {
      "text/plain": [
       "'    hi    '"
      ]
     },
     "execution_count": 62,
     "metadata": {},
     "output_type": "execute_result"
    }
   ],
   "source": [
    "f'{\"hi\":^10}'  # 가운데 정렬"
   ]
  },
  {
   "cell_type": "code",
   "execution_count": 63,
   "id": "e3f8a6d6",
   "metadata": {},
   "outputs": [
    {
     "data": {
      "text/plain": [
       "'====hi===='"
      ]
     },
     "execution_count": 63,
     "metadata": {},
     "output_type": "execute_result"
    }
   ],
   "source": [
    "f'{\"hi\":=^10}'  # 가운데 정렬하고 '=' 문자로 공백 채우기"
   ]
  },
  {
   "cell_type": "code",
   "execution_count": 64,
   "id": "6ac753ad",
   "metadata": {},
   "outputs": [
    {
     "data": {
      "text/plain": [
       "'hi!!!!!!!!'"
      ]
     },
     "execution_count": 64,
     "metadata": {},
     "output_type": "execute_result"
    }
   ],
   "source": [
    "f'{\"hi\":!<10}'  # 왼쪽 정렬하고 '!' 문자로 공백 채우기"
   ]
  },
  {
   "cell_type": "code",
   "execution_count": 65,
   "id": "0a258ce8",
   "metadata": {},
   "outputs": [
    {
     "data": {
      "text/plain": [
       "'    3.1416'"
      ]
     },
     "execution_count": 65,
     "metadata": {},
     "output_type": "execute_result"
    }
   ],
   "source": [
    "y = 3.14159265\n",
    "f'{y:10.4f}'  # 소수점 4자리까지 표현하고 총 자리수를 10으로 맞춤"
   ]
  },
  {
   "cell_type": "markdown",
   "id": "7c648f7d",
   "metadata": {},
   "source": [
    "### 이스케이프 문자(\\\\, \\', \\\", \\n, \\T) (escape Sequence)\n",
    "    - https://www.programiz.com/python-programming/string 여기서 'escape sequence' 검색\n",
    "    - \\(백슬래시), \", '(큰, 작은따옴표)들은 문자열 기호('')안에서 앞에 백슬래시 한번 더 써줘야함\n",
    "    - 띄어쓰기 문자 : \\n(줄바꿈), \\t(탭)"
   ]
  },
  {
   "cell_type": "markdown",
   "id": "b0b34b49",
   "metadata": {},
   "source": [
    " * \\\\\\\\"
   ]
  },
  {
   "cell_type": "code",
   "execution_count": 8,
   "id": "27d840e5",
   "metadata": {},
   "outputs": [
    {
     "name": "stdout",
     "output_type": "stream",
     "text": [
      "백 슬래시 :  \\\n"
     ]
    }
   ],
   "source": [
    "print(\"백 슬래시 : \", '\\\\')"
   ]
  },
  {
   "cell_type": "markdown",
   "id": "8be58f08",
   "metadata": {},
   "source": [
    "* \\\\'"
   ]
  },
  {
   "cell_type": "code",
   "execution_count": null,
   "id": "452791d2",
   "metadata": {},
   "outputs": [],
   "source": [
    "print(\"작은 따옴표 : \", '\\'')"
   ]
  },
  {
   "cell_type": "markdown",
   "id": "89430cd2",
   "metadata": {},
   "source": [
    "* \\\\\""
   ]
  },
  {
   "cell_type": "code",
   "execution_count": null,
   "id": "7cd7245f",
   "metadata": {},
   "outputs": [],
   "source": [
    "print(\"큰 따옴표 : \",'\\\"')"
   ]
  },
  {
   "cell_type": "markdown",
   "id": "fc54d077",
   "metadata": {},
   "source": [
    "* \\n (line feed)"
   ]
  },
  {
   "cell_type": "code",
   "execution_count": 11,
   "id": "57571026",
   "metadata": {},
   "outputs": [
    {
     "name": "stdout",
     "output_type": "stream",
     "text": [
      "줄바꿈\n",
      "줄바꿈\n"
     ]
    }
   ],
   "source": [
    "print(\"줄바꿈\\n줄바꿈\") #  = line feed"
   ]
  },
  {
   "cell_type": "markdown",
   "id": "9db77887",
   "metadata": {},
   "source": [
    "* \\t (tab)"
   ]
  },
  {
   "cell_type": "code",
   "execution_count": 12,
   "id": "aa3b0626",
   "metadata": {},
   "outputs": [
    {
     "name": "stdout",
     "output_type": "stream",
     "text": [
      "탭\t탭\n"
     ]
    }
   ],
   "source": [
    "print(\"탭\\t탭\")"
   ]
  },
  {
   "cell_type": "markdown",
   "id": "7bf769dc",
   "metadata": {},
   "source": [
    "* \\r (Carriage Return) : 커서를 맨 앞으로 옮김"
   ]
  },
  {
   "cell_type": "code",
   "execution_count": 18,
   "id": "6efb8c0c",
   "metadata": {},
   "outputs": [
    {
     "name": "stdout",
     "output_type": "stream",
     "text": [
      "가나다라마바사아자차카타파하\r",
      "덮어쓰기\n"
     ]
    }
   ],
   "source": [
    "print(\"가나다라마바사아자차카타파하\\r덮어쓰기\")"
   ]
  },
  {
   "cell_type": "markdown",
   "id": "5ac14fe7",
   "metadata": {},
   "source": [
    "* \\b (back space) : 백스페이스"
   ]
  },
  {
   "cell_type": "code",
   "execution_count": 19,
   "id": "cea55bb1",
   "metadata": {},
   "outputs": [
    {
     "name": "stdout",
     "output_type": "stream",
     "text": [
      "가나다\b\n"
     ]
    }
   ],
   "source": [
    "print(\"가나다\\b\")"
   ]
  },
  {
   "cell_type": "markdown",
   "id": "0a971729",
   "metadata": {},
   "source": [
    "* \\a (bell) : 별표인듯??"
   ]
  },
  {
   "cell_type": "code",
   "execution_count": 18,
   "id": "6dc5a826",
   "metadata": {},
   "outputs": [
    {
     "name": "stdout",
     "output_type": "stream",
     "text": [
      "가나다\u0007가나다\n",
      "\u0007\n"
     ]
    }
   ],
   "source": [
    "print(\"가나다\\a가나다\")\n",
    "print(\"\\a\")"
   ]
  },
  {
   "cell_type": "markdown",
   "id": "ac2921b5",
   "metadata": {},
   "source": [
    " * \\\\newline(줄마지막에 \\\\) : 코드 상에서 여러줄로 쓰고 한줄로 이어서 출력(\\는 출력 안됨)"
   ]
  },
  {
   "cell_type": "code",
   "execution_count": 5,
   "id": "76dc73f6",
   "metadata": {},
   "outputs": [
    {
     "name": "stdout",
     "output_type": "stream",
     "text": [
      "asdasd\n"
     ]
    }
   ],
   "source": [
    "print('asd\\\n",
    "asd')"
   ]
  },
  {
   "cell_type": "markdown",
   "id": "63c18f12",
   "metadata": {},
   "source": [
    "* \\ooo (ooo는 8진수) : 해당 8진수 값에 해당하는 문자"
   ]
  },
  {
   "cell_type": "code",
   "execution_count": 32,
   "id": "b7b4b2ea",
   "metadata": {},
   "outputs": [
    {
     "name": "stdout",
     "output_type": "stream",
     "text": [
      "A\n",
      "B\n"
     ]
    }
   ],
   "source": [
    "print('\\101') # 65(10진수)\n",
    "print('\\102') # 66(10진수)"
   ]
  },
  {
   "cell_type": "markdown",
   "id": "260c908c",
   "metadata": {},
   "source": [
    "* \\xHH (HH는 16진수): 16진수 값에 해당하는 문자\n",
    "    * 해당하는 문자가 없으면 그대로 표기됨"
   ]
  },
  {
   "cell_type": "code",
   "execution_count": 33,
   "id": "1664ff83",
   "metadata": {},
   "outputs": [
    {
     "name": "stdout",
     "output_type": "stream",
     "text": [
      "A\n",
      "B\n"
     ]
    }
   ],
   "source": [
    "print('\\x41') # 65(10진수)\n",
    "print('\\x42')"
   ]
  },
  {
   "cell_type": "markdown",
   "id": "d56002f1",
   "metadata": {},
   "source": [
    "### 원시 문자열(raw string)\n",
    "    * 문자열 작은 따옴표 앞에 r을 붙여서 표기\n",
    "    * 이스케이프 문자등의 기능을 안쓰고 그대로 표기하기 원할 때 사용\n",
    "    \n",
    "    * !! 원시 문자열 표기시, 마지막에 백슬래시(\\)를 홀수 개 쓸 경우, 에러남!!(백준 10171 고양이 문제)\n",
    "    * 이거는 따로 +'\\\\' 하던지 하자"
   ]
  },
  {
   "cell_type": "code",
   "execution_count": 9,
   "id": "d8da28b7",
   "metadata": {},
   "outputs": [
    {
     "name": "stdout",
     "output_type": "stream",
     "text": [
      "Please don't touch it\n",
      "Please don\\'t touch it\n"
     ]
    }
   ],
   "source": [
    "print('Please don\\'t touch it')\n",
    "print(r'Please don\\'t touch it')"
   ]
  },
  {
   "cell_type": "code",
   "execution_count": 22,
   "id": "560738f4",
   "metadata": {},
   "outputs": [
    {
     "name": "stdout",
     "output_type": "stream",
     "text": [
      "This is a \n",
      "good example\n",
      "This is \\x61 \\ngood example\n"
     ]
    }
   ],
   "source": [
    "print(\"This is \\x61 \\ngood example\")\n",
    "print(r\"This is \\x61 \\ngood example\")"
   ]
  },
  {
   "cell_type": "markdown",
   "id": "9aae6368",
   "metadata": {},
   "source": [
    "* 에러 상황(마지막 백슬래시)"
   ]
  },
  {
   "cell_type": "code",
   "execution_count": 21,
   "id": "b8592cc0",
   "metadata": {},
   "outputs": [
    {
     "ename": "SyntaxError",
     "evalue": "EOL while scanning string literal (<ipython-input-21-fcaef753b6d5>, line 1)",
     "output_type": "error",
     "traceback": [
      "\u001b[1;36m  File \u001b[1;32m\"<ipython-input-21-fcaef753b6d5>\"\u001b[1;36m, line \u001b[1;32m1\u001b[0m\n\u001b[1;33m    print(r'Please don\\'t touch it\\')\u001b[0m\n\u001b[1;37m                                     ^\u001b[0m\n\u001b[1;31mSyntaxError\u001b[0m\u001b[1;31m:\u001b[0m EOL while scanning string literal\n"
     ]
    }
   ],
   "source": [
    "print(r'Please don\\'t touch it\\')"
   ]
  },
  {
   "cell_type": "markdown",
   "id": "2f596af3",
   "metadata": {},
   "source": [
    " * 해결 방안( + ' \\\\\\\\ ')"
   ]
  },
  {
   "cell_type": "code",
   "execution_count": 27,
   "id": "7c92d2e0",
   "metadata": {},
   "outputs": [
    {
     "name": "stdout",
     "output_type": "stream",
     "text": [
      "Please don\\'t touch it\\\n"
     ]
    }
   ],
   "source": [
    "print(r'Please don\\'t touch it'+'\\\\')"
   ]
  },
  {
   "cell_type": "markdown",
   "id": "8619ad27",
   "metadata": {},
   "source": [
    "* SyntaxError: EOL while scanning string literal\n",
    "    - 프로그램 구문이 잘못 쓰였을 때 발생\n",
    "    - 주로 따옴표, 괄호 등 제대로 여닫지 않았을 때 발생\n",
    "    - 철자 틀릴 경우도 발생?"
   ]
  },
  {
   "cell_type": "code",
   "execution_count": 22,
   "id": "268e7268",
   "metadata": {},
   "outputs": [
    {
     "name": "stdout",
     "output_type": "stream",
     "text": [
      "Please don\\'t touch it\\\\\n"
     ]
    }
   ],
   "source": [
    "print(r'Please don\\'t touch it\\\\')"
   ]
  },
  {
   "cell_type": "code",
   "execution_count": 23,
   "id": "a93b773c",
   "metadata": {},
   "outputs": [
    {
     "ename": "SyntaxError",
     "evalue": "EOL while scanning string literal (<ipython-input-23-3ca2b3955a4b>, line 1)",
     "output_type": "error",
     "traceback": [
      "\u001b[1;36m  File \u001b[1;32m\"<ipython-input-23-3ca2b3955a4b>\"\u001b[1;36m, line \u001b[1;32m1\u001b[0m\n\u001b[1;33m    print(r'Please don\\'t touch it\\\\\\')\u001b[0m\n\u001b[1;37m                                       ^\u001b[0m\n\u001b[1;31mSyntaxError\u001b[0m\u001b[1;31m:\u001b[0m EOL while scanning string literal\n"
     ]
    }
   ],
   "source": [
    "print(r'Please don\\'t touch it\\\\\\')"
   ]
  },
  {
   "cell_type": "code",
   "execution_count": 24,
   "id": "948ed13c",
   "metadata": {},
   "outputs": [
    {
     "name": "stdout",
     "output_type": "stream",
     "text": [
      "Please don\\'t touch it\\\\\\\\\n"
     ]
    }
   ],
   "source": [
    "print(r'Please don\\'t touch it\\\\\\\\')"
   ]
  },
  {
   "cell_type": "markdown",
   "id": "be52d0c1",
   "metadata": {},
   "source": [
    "### 여러줄로 출력\n",
    "    - \"\"\" 사용\n",
    "    - 코드상 표현 뿐만아니라 출력도 여러줄로 됨"
   ]
  },
  {
   "cell_type": "code",
   "execution_count": 53,
   "id": "aa16e918",
   "metadata": {},
   "outputs": [
    {
     "name": "stdout",
     "output_type": "stream",
     "text": [
      " asdfgjkl\n",
      "sdklfsdklfjl\n",
      " asdfgjkl\n",
      "    sdklfsdklfjl\n"
     ]
    }
   ],
   "source": [
    "print(\"\"\" asdfgjkl\n",
    "sdklfsdklfjl\"\"\")\n",
    "\n",
    "print(\"\"\" asdfgjkl\n",
    "    sdklfsdklfjl\"\"\")"
   ]
  },
  {
   "cell_type": "markdown",
   "id": "c1633147",
   "metadata": {},
   "source": [
    "## !시퀀스 공동 기능"
   ]
  },
  {
   "cell_type": "markdown",
   "id": "27d7bbf4",
   "metadata": {},
   "source": [
    "* +, * 연산"
   ]
  },
  {
   "cell_type": "code",
   "execution_count": 54,
   "id": "d7ecad03",
   "metadata": {},
   "outputs": [
    {
     "data": {
      "text/plain": [
       "'student'"
      ]
     },
     "execution_count": 54,
     "metadata": {},
     "output_type": "execute_result"
    }
   ],
   "source": [
    "'stu' + 'dent'"
   ]
  },
  {
   "cell_type": "code",
   "execution_count": 19,
   "id": "ef1d5b12",
   "metadata": {},
   "outputs": [
    {
     "data": {
      "text/plain": [
       "('stu', 'dent')"
      ]
     },
     "execution_count": 19,
     "metadata": {},
     "output_type": "execute_result"
    }
   ],
   "source": [
    "'stu','dent'"
   ]
  },
  {
   "cell_type": "code",
   "execution_count": 55,
   "id": "dcbc349b",
   "metadata": {},
   "outputs": [
    {
     "data": {
      "text/plain": [
       "'ststst'"
      ]
     },
     "execution_count": 55,
     "metadata": {},
     "output_type": "execute_result"
    }
   ],
   "source": [
    "'st'*3"
   ]
  },
  {
   "cell_type": "markdown",
   "id": "b790e830",
   "metadata": {},
   "source": [
    " * !인덱싱"
   ]
  },
  {
   "cell_type": "code",
   "execution_count": 58,
   "id": "8e266059",
   "metadata": {},
   "outputs": [
    {
     "name": "stdout",
     "output_type": "stream",
     "text": [
      "h\n",
      "o\n",
      "o\n",
      "h\n"
     ]
    }
   ],
   "source": [
    "word = \"hello\"\n",
    "\n",
    "print(word[0])    # 처음\n",
    "print(word[4])    # 끝\n",
    "\n",
    "print(word[-1])   # 끝\n",
    "print(word[-5])   #처음"
   ]
  },
  {
   "cell_type": "markdown",
   "id": "4427d809",
   "metadata": {},
   "source": [
    "* !슬라이스"
   ]
  },
  {
   "cell_type": "code",
   "execution_count": 61,
   "id": "ae2381b4",
   "metadata": {},
   "outputs": [
    {
     "name": "stdout",
     "output_type": "stream",
     "text": [
      "hel\n",
      "hel\n",
      "hel\n",
      "hel\n"
     ]
    }
   ],
   "source": [
    "word = \"hello\"\n",
    "\n",
    "print(word[0:3])    # 양수\n",
    "print(word[-5:-2])  # 음수\n",
    "print(word[-5:3])   # 혼합\n",
    "print(word[0:-2])   # 혼합"
   ]
  },
  {
   "cell_type": "markdown",
   "id": "fa274df7",
   "metadata": {},
   "source": [
    "### 요소 유무 확인(in/not in)"
   ]
  },
  {
   "cell_type": "code",
   "execution_count": 41,
   "id": "ba60b5f4",
   "metadata": {},
   "outputs": [
    {
     "data": {
      "text/plain": [
       "True"
      ]
     },
     "execution_count": 41,
     "metadata": {},
     "output_type": "execute_result"
    }
   ],
   "source": [
    "a = \"hello\"\n",
    "\n",
    "'e' in a"
   ]
  },
  {
   "cell_type": "code",
   "execution_count": 42,
   "id": "3734a46c",
   "metadata": {},
   "outputs": [
    {
     "data": {
      "text/plain": [
       "False"
      ]
     },
     "execution_count": 42,
     "metadata": {},
     "output_type": "execute_result"
    }
   ],
   "source": [
    "'x' in a"
   ]
  },
  {
   "cell_type": "code",
   "execution_count": 44,
   "id": "50f1e30a",
   "metadata": {},
   "outputs": [
    {
     "data": {
      "text/plain": [
       "False"
      ]
     },
     "execution_count": 44,
     "metadata": {},
     "output_type": "execute_result"
    }
   ],
   "source": [
    "'e' not in a"
   ]
  },
  {
   "cell_type": "code",
   "execution_count": 45,
   "id": "2eb54419",
   "metadata": {},
   "outputs": [
    {
     "data": {
      "text/plain": [
       "True"
      ]
     },
     "execution_count": 45,
     "metadata": {},
     "output_type": "execute_result"
    }
   ],
   "source": [
    "'x' not in a"
   ]
  },
  {
   "cell_type": "markdown",
   "id": "637194b3",
   "metadata": {},
   "source": [
    "### 인덱스와 값 뽑아내기(enumerate)"
   ]
  },
  {
   "cell_type": "code",
   "execution_count": 49,
   "id": "4064213e",
   "metadata": {},
   "outputs": [
    {
     "name": "stdout",
     "output_type": "stream",
     "text": [
      "0 h\n",
      "1 e\n",
      "2 l\n",
      "3 l\n",
      "4 o\n"
     ]
    }
   ],
   "source": [
    "a = 'hello'\n",
    "\n",
    "for k,v in enumerate(a):\n",
    "    print(k, v)"
   ]
  },
  {
   "cell_type": "markdown",
   "id": "bd899103",
   "metadata": {},
   "source": [
    "### map()으로 특정 함수 적용\n",
    "\n",
    "    * map객체를 for문으로 한번 쓰면, 객체 내에 요소를 다시 뽑을 수 없음\n",
    "        * 즉, map 객체는 1회용임"
   ]
  },
  {
   "cell_type": "code",
   "execution_count": 25,
   "id": "46cabc36",
   "metadata": {},
   "outputs": [
    {
     "data": {
      "text/plain": [
       "<map at 0x195fbc66c10>"
      ]
     },
     "execution_count": 25,
     "metadata": {},
     "output_type": "execute_result"
    }
   ],
   "source": [
    "# 알파벳을 아스키 코드로 대칭 되는 숫자로 변경\n",
    "\n",
    "a = 'ABCDEabcde'\n",
    "b = map(ord, a)\n",
    "b"
   ]
  },
  {
   "cell_type": "markdown",
   "id": "86f535b4",
   "metadata": {},
   "source": [
    " * map 객체는 enumerate로 활용 가능"
   ]
  },
  {
   "cell_type": "code",
   "execution_count": 26,
   "id": "adf44bd7",
   "metadata": {},
   "outputs": [
    {
     "name": "stdout",
     "output_type": "stream",
     "text": [
      "0 65\n",
      "1 66\n",
      "2 67\n",
      "3 68\n",
      "4 69\n",
      "5 97\n",
      "6 98\n",
      "7 99\n",
      "8 100\n",
      "9 101\n"
     ]
    }
   ],
   "source": [
    "for k, v in enumerate(b):\n",
    "    print(k, v)"
   ]
  },
  {
   "cell_type": "code",
   "execution_count": 38,
   "id": "9b0dff88",
   "metadata": {},
   "outputs": [
    {
     "data": {
      "text/plain": [
       "<map at 0x195fbd52820>"
      ]
     },
     "execution_count": 38,
     "metadata": {},
     "output_type": "execute_result"
    }
   ],
   "source": [
    "# 알파벳을 아스키 코드로 대칭 되는 숫자로 변경\n",
    "\n",
    "a = 'ABCDEabcde'\n",
    "b = map(ord, a)\n",
    "b"
   ]
  },
  {
   "cell_type": "code",
   "execution_count": 41,
   "id": "487057a5",
   "metadata": {},
   "outputs": [
    {
     "name": "stdout",
     "output_type": "stream",
     "text": [
      "[]\n"
     ]
    }
   ],
   "source": [
    "# 이 셀을 수행 했을 때, 안했을 떄, 바로 아래 수행 결과가 달라짐\n",
    "print(list(b))"
   ]
  },
  {
   "cell_type": "code",
   "execution_count": 40,
   "id": "f8532703",
   "metadata": {},
   "outputs": [
    {
     "data": {
      "text/plain": [
       "<map at 0x195fbd52820>"
      ]
     },
     "execution_count": 40,
     "metadata": {},
     "output_type": "execute_result"
    }
   ],
   "source": [
    "b"
   ]
  },
  {
   "cell_type": "code",
   "execution_count": 30,
   "id": "18ef121a",
   "metadata": {},
   "outputs": [],
   "source": [
    "for i in b:\n",
    "    print(i)"
   ]
  },
  {
   "cell_type": "code",
   "execution_count": 34,
   "id": "4d51c9a2",
   "metadata": {},
   "outputs": [
    {
     "name": "stdout",
     "output_type": "stream",
     "text": [
      "[]\n"
     ]
    }
   ],
   "source": [
    "print(list(b))"
   ]
  },
  {
   "cell_type": "markdown",
   "id": "7afcd7c3",
   "metadata": {},
   "source": [
    "### 즉, map 객체는 list() 든, for in enumerate() 든 한번 밖에 못 씀"
   ]
  },
  {
   "cell_type": "code",
   "execution_count": 31,
   "id": "b611c691",
   "metadata": {},
   "outputs": [],
   "source": [
    "for i in b:\n",
    "    print(i)"
   ]
  },
  {
   "cell_type": "code",
   "execution_count": 23,
   "id": "bee280db",
   "metadata": {},
   "outputs": [
    {
     "data": {
      "text/plain": [
       "map"
      ]
     },
     "execution_count": 23,
     "metadata": {},
     "output_type": "execute_result"
    }
   ],
   "source": [
    "type(b)"
   ]
  },
  {
   "cell_type": "markdown",
   "id": "2ad31e49",
   "metadata": {},
   "source": [
    "## !값 추가/제거 관련\n",
    "    * 기본적을 + '~~' 와 인덱스 슬라이스를 활용하여 값 추가/변경\n",
    "    1. 슬라이스 + 값 추가/제거 + 슬라이스\n",
    "    2. 문자열.replace(\"a\", \"b\") 이용\n",
    "    \n",
    "        * insert, append는 리스트 함수이고, 문자열은 사용 불가\n",
    "        * remove, pop함수도 문자열은 사용 불가"
   ]
  },
  {
   "cell_type": "markdown",
   "id": "3ef26e6b",
   "metadata": {},
   "source": [
    "### 슬라이스 + 값 추가/제거 + 슬라이스\n",
    "* 값 추가/제거\n",
    "    * 중간에 값을 추가/제거하려면 슬라이스이용  \n",
    "        * 슬라이스[시작:중간] + 값 추가/제거 + 슬라이스[중간:끝]"
   ]
  },
  {
   "cell_type": "code",
   "execution_count": 16,
   "id": "fb44a32c",
   "metadata": {},
   "outputs": [
    {
     "data": {
      "text/plain": [
       "'hello'"
      ]
     },
     "execution_count": 16,
     "metadata": {},
     "output_type": "execute_result"
    }
   ],
   "source": [
    "a = 'helo'\n",
    "a = a[:3] + 'l' + a[3:]\n",
    "a"
   ]
  },
  {
   "cell_type": "code",
   "execution_count": 38,
   "id": "de927dc3",
   "metadata": {},
   "outputs": [
    {
     "data": {
      "text/plain": [
       "'hello'"
      ]
     },
     "execution_count": 38,
     "metadata": {},
     "output_type": "execute_result"
    }
   ],
   "source": [
    "# 방법 2\n",
    "a = 'helo'\n",
    "a = a.replace('elo', 'ello')\n",
    "a"
   ]
  },
  {
   "cell_type": "code",
   "execution_count": 17,
   "id": "68f43a8c",
   "metadata": {},
   "outputs": [
    {
     "data": {
      "text/plain": [
       "'ho'"
      ]
     },
     "execution_count": 17,
     "metadata": {},
     "output_type": "execute_result"
    }
   ],
   "source": [
    "b = 'hello'\n",
    "b = b[:1] + b[-1:]\n",
    "b"
   ]
  },
  {
   "cell_type": "code",
   "execution_count": 39,
   "id": "7b7e617c",
   "metadata": {},
   "outputs": [
    {
     "data": {
      "text/plain": [
       "'ho'"
      ]
     },
     "execution_count": 39,
     "metadata": {},
     "output_type": "execute_result"
    }
   ],
   "source": [
    "b = 'hello'\n",
    "b = b.replace('hello', 'ho')\n",
    "b"
   ]
  },
  {
   "cell_type": "markdown",
   "id": "9493bc7d",
   "metadata": {},
   "source": [
    "## !값 추가"
   ]
  },
  {
   "cell_type": "markdown",
   "id": "9eb1f842",
   "metadata": {},
   "source": [
    "### 요소 사이사이 값 추가(\"추가 문자\".join(문자열))\n",
    "* \"추가문자\".join(문자열 or 리스트)\n",
    "* 반환 형은 문자열임"
   ]
  },
  {
   "cell_type": "code",
   "execution_count": 64,
   "id": "ff10b2d3",
   "metadata": {},
   "outputs": [
    {
     "data": {
      "text/plain": [
       "'1x2x3x4x5'"
      ]
     },
     "execution_count": 64,
     "metadata": {},
     "output_type": "execute_result"
    }
   ],
   "source": [
    "c = '12345'\n",
    "d = \"x\".join(c)\n",
    "d"
   ]
  },
  {
   "cell_type": "markdown",
   "id": "17dd47dd",
   "metadata": {},
   "source": [
    "### \"\".join(리스트)로 문자열 변환시, 각 리스트의 요소는 문자열형 이어야 한다!!!\n",
    "### 아니면 map(str, 리스트)로 강제 형변환 해줘야 한다!"
   ]
  },
  {
   "cell_type": "code",
   "execution_count": 44,
   "id": "27fed80b",
   "metadata": {},
   "outputs": [
    {
     "ename": "TypeError",
     "evalue": "sequence item 0: expected str instance, int found",
     "output_type": "error",
     "traceback": [
      "\u001b[1;31m---------------------------------------------------------------------------\u001b[0m",
      "\u001b[1;31mTypeError\u001b[0m                                 Traceback (most recent call last)",
      "\u001b[1;32m<ipython-input-44-05140bd88dc4>\u001b[0m in \u001b[0;36m<module>\u001b[1;34m\u001b[0m\n\u001b[0;32m      1\u001b[0m \u001b[0mc1\u001b[0m \u001b[1;33m=\u001b[0m \u001b[1;33m[\u001b[0m\u001b[1;36m1\u001b[0m\u001b[1;33m,\u001b[0m\u001b[1;36m2\u001b[0m\u001b[1;33m,\u001b[0m\u001b[1;36m3\u001b[0m\u001b[1;33m,\u001b[0m\u001b[1;36m4\u001b[0m\u001b[1;33m,\u001b[0m\u001b[1;36m5\u001b[0m\u001b[1;33m]\u001b[0m\u001b[1;33m\u001b[0m\u001b[1;33m\u001b[0m\u001b[0m\n\u001b[1;32m----> 2\u001b[1;33m \u001b[0md1\u001b[0m \u001b[1;33m=\u001b[0m \u001b[1;34m\"\"\u001b[0m\u001b[1;33m.\u001b[0m\u001b[0mjoin\u001b[0m\u001b[1;33m(\u001b[0m\u001b[0mc1\u001b[0m\u001b[1;33m)\u001b[0m\u001b[1;33m\u001b[0m\u001b[1;33m\u001b[0m\u001b[0m\n\u001b[0m\u001b[0;32m      3\u001b[0m \u001b[0md1\u001b[0m\u001b[1;33m\u001b[0m\u001b[1;33m\u001b[0m\u001b[0m\n",
      "\u001b[1;31mTypeError\u001b[0m: sequence item 0: expected str instance, int found"
     ]
    }
   ],
   "source": [
    "c1 = [1,2,3,4,5]\n",
    "d1 = \"x\".join(c1)\n",
    "d1"
   ]
  },
  {
   "cell_type": "code",
   "execution_count": 48,
   "id": "da0035ea",
   "metadata": {},
   "outputs": [
    {
     "data": {
      "text/plain": [
       "'1x2x3x4x5'"
      ]
     },
     "execution_count": 48,
     "metadata": {},
     "output_type": "execute_result"
    }
   ],
   "source": [
    "c2 = [1,2,3,4,5]\n",
    "d2 = \"x\".join(map(str,c2))\n",
    "d2"
   ]
  },
  {
   "cell_type": "code",
   "execution_count": 45,
   "id": "00194a8c",
   "metadata": {},
   "outputs": [
    {
     "data": {
      "text/plain": [
       "'1x2x3x4x5'"
      ]
     },
     "execution_count": 45,
     "metadata": {},
     "output_type": "execute_result"
    }
   ],
   "source": [
    "c1 = ['1','2','3','4','5']\n",
    "d1 = \"x\".join(c1)\n",
    "d1"
   ]
  },
  {
   "cell_type": "markdown",
   "id": "641e3e61",
   "metadata": {},
   "source": [
    "### 공백추가+정렬 : ljust, rjust, center\n",
    "    - ljust(숫자) : 숫자 만큼 칸을 만들고 왼쪽 정렬(오른쪽 남은 칸은 공백)\n",
    "    - rjust(숫자) : 숫자 만큼 칸을 만들고 오른쪽 정렬(왼쪽 남은 칸은 공백)\n",
    "    - center(숫자) : 숫자 만큼 칸을 만들고 가운데 정렬  \n",
    "                     (남은 칸은 공백, 홀수개면 왼쪽이 공백 1개 더 많음)"
   ]
  },
  {
   "cell_type": "code",
   "execution_count": 40,
   "id": "abe708aa",
   "metadata": {},
   "outputs": [
    {
     "data": {
      "text/plain": [
       "'python    '"
      ]
     },
     "execution_count": 40,
     "metadata": {},
     "output_type": "execute_result"
    }
   ],
   "source": [
    "# 문자열을 10칸으로 만들고 왼쪽 정렬\n",
    "'python'.ljust(10)"
   ]
  },
  {
   "cell_type": "markdown",
   "id": "f65008dd",
   "metadata": {},
   "source": [
    " * 같은 의미 다른 표현(큰,작은 따옴표 섞어 써야됨)"
   ]
  },
  {
   "cell_type": "code",
   "execution_count": 50,
   "id": "f5d66c26",
   "metadata": {},
   "outputs": [
    {
     "data": {
      "text/plain": [
       "'python    '"
      ]
     },
     "execution_count": 50,
     "metadata": {},
     "output_type": "execute_result"
    }
   ],
   "source": [
    "f'{\"python\":<10}'"
   ]
  },
  {
   "cell_type": "code",
   "execution_count": 41,
   "id": "e1466f43",
   "metadata": {},
   "outputs": [
    {
     "data": {
      "text/plain": [
       "'    python'"
      ]
     },
     "execution_count": 41,
     "metadata": {},
     "output_type": "execute_result"
    }
   ],
   "source": [
    "# 문자열을 10칸으로 만들고 오른쪽 정렬\n",
    "'python'.rjust(10)"
   ]
  },
  {
   "cell_type": "code",
   "execution_count": 42,
   "id": "05051074",
   "metadata": {},
   "outputs": [
    {
     "data": {
      "text/plain": [
       "'  python '"
      ]
     },
     "execution_count": 42,
     "metadata": {},
     "output_type": "execute_result"
    }
   ],
   "source": [
    "# 문자열을 9칸으로 만들고 가운데 정렬\n",
    "# 왼쪽 공백이 1개 더 많음\n",
    "'python'.center(9)"
   ]
  },
  {
   "cell_type": "markdown",
   "id": "7be153fe",
   "metadata": {},
   "source": [
    "### 영 추가 : 문자열.zfill(문자열 길이)\n",
    "     * 문자열 전체 길이를 설정하면, 기존 길이에서 남는 길이 만큼 왼쪽부터 0이 채워진다.\n",
    "     * +,- 문자가 포함될 경우, 첫 번째 + or - 문자 뒤부터 0이 채워진다."
   ]
  },
  {
   "cell_type": "code",
   "execution_count": 22,
   "id": "3119f2c4",
   "metadata": {},
   "outputs": [
    {
     "data": {
      "text/plain": [
       "'00000hello'"
      ]
     },
     "execution_count": 22,
     "metadata": {},
     "output_type": "execute_result"
    }
   ],
   "source": [
    "a = 'hello'\n",
    "a.zfill(10)"
   ]
  },
  {
   "cell_type": "code",
   "execution_count": 23,
   "id": "c9399f03",
   "metadata": {},
   "outputs": [
    {
     "name": "stdout",
     "output_type": "stream",
     "text": [
      "-0000290\n",
      "+0000290\n",
      "-0000000-random+text\n"
     ]
    }
   ],
   "source": [
    "number = \"-290\"\n",
    "print(number.zfill(8))\n",
    "\n",
    "number = \"+290\"\n",
    "print(number.zfill(8))\n",
    "\n",
    "text = \"--random+text\"\n",
    "print(text.zfill(20))"
   ]
  },
  {
   "cell_type": "markdown",
   "id": "3ef0eb7a",
   "metadata": {},
   "source": [
    "## !값 제거"
   ]
  },
  {
   "cell_type": "markdown",
   "id": "65d192b4",
   "metadata": {},
   "source": [
    "    1. 슬라이스 + 값 추가/제거 + 슬라이스\n",
    "    2. .replace('지울 내용', '')\n",
    "        * append(), Insert()는 리스트 전용 함수임, 문자열 사용 불가!\n",
    "        * remove(), pop() 함수는 문자열에서 사용 불가!  "
   ]
  },
  {
   "cell_type": "markdown",
   "id": "636e39c1",
   "metadata": {},
   "source": [
    "### !공백문자(\\n, \\t) or 특정 문자 제거 : strip(), lstrip(), rstrip()\n",
    "\n",
    "    - strip() : 양 끝 공백 제거\n",
    "    - lstrip() : 왼쪽 끝 공백 제거\n",
    "    - rstrip('지울문자') : 오른쪽 끝 '지울문자' 제거\n",
    "    "
   ]
  },
  {
   "cell_type": "markdown",
   "id": "d41841b8",
   "metadata": {},
   "source": [
    " * '...{}...'.format(문자열) 기법 사용"
   ]
  },
  {
   "cell_type": "code",
   "execution_count": 55,
   "id": "6dd5bb61",
   "metadata": {},
   "outputs": [],
   "source": [
    "txt = \"      Strip white spaces.      \""
   ]
  },
  {
   "cell_type": "code",
   "execution_count": 56,
   "id": "1113b5a2",
   "metadata": {},
   "outputs": [
    {
     "name": "stdout",
     "output_type": "stream",
     "text": [
      "[      Strip white spaces.      ]\n"
     ]
    }
   ],
   "source": [
    "print('[{}]'.format(txt))"
   ]
  },
  {
   "cell_type": "code",
   "execution_count": 57,
   "id": "c71fb54d",
   "metadata": {},
   "outputs": [
    {
     "name": "stdout",
     "output_type": "stream",
     "text": [
      "[Strip white spaces.]\n"
     ]
    }
   ],
   "source": [
    "#- 양쪽 공백 제거 : strip()\n",
    "print('[{}]'.format(txt.strip()))"
   ]
  },
  {
   "cell_type": "code",
   "execution_count": 58,
   "id": "d30c6bad",
   "metadata": {},
   "outputs": [
    {
     "name": "stdout",
     "output_type": "stream",
     "text": [
      "[Strip white spaces.      ]\n"
     ]
    }
   ],
   "source": [
    "#- 왼쪽 공백 제거 : lstrip()\n",
    "print('[{}]'.format(txt.lstrip()))"
   ]
  },
  {
   "cell_type": "code",
   "execution_count": 59,
   "id": "dfb34f6b",
   "metadata": {},
   "outputs": [
    {
     "name": "stdout",
     "output_type": "stream",
     "text": [
      "[      Strip white spaces.]\n"
     ]
    }
   ],
   "source": [
    "#- 오른쪽 공백 제거 : rstrip()\n",
    "print('[{}]'.format(txt.rstrip()))"
   ]
  },
  {
   "cell_type": "markdown",
   "id": "f48e3717",
   "metadata": {},
   "source": [
    "* 기호 제거"
   ]
  },
  {
   "cell_type": "code",
   "execution_count": 60,
   "id": "ef40fed5",
   "metadata": {},
   "outputs": [
    {
     "data": {
      "text/plain": [
       "', python'"
      ]
     },
     "execution_count": 60,
     "metadata": {},
     "output_type": "execute_result"
    }
   ],
   "source": [
    "', python.'.rstrip(',.')"
   ]
  },
  {
   "cell_type": "code",
   "execution_count": 61,
   "id": "b7f1500f",
   "metadata": {},
   "outputs": [
    {
     "data": {
      "text/plain": [
       "' python.'"
      ]
     },
     "execution_count": 61,
     "metadata": {},
     "output_type": "execute_result"
    }
   ],
   "source": [
    "', python.'.lstrip(',.')"
   ]
  },
  {
   "cell_type": "code",
   "execution_count": 62,
   "id": "bec2a5e9",
   "metadata": {},
   "outputs": [
    {
     "data": {
      "text/plain": [
       "' python'"
      ]
     },
     "execution_count": 62,
     "metadata": {},
     "output_type": "execute_result"
    }
   ],
   "source": [
    "', python.'.strip(',.')"
   ]
  },
  {
   "cell_type": "code",
   "execution_count": 63,
   "id": "b47ea2f7",
   "metadata": {},
   "outputs": [
    {
     "data": {
      "text/plain": [
       "' pyt,.hon'"
      ]
     },
     "execution_count": 63,
     "metadata": {},
     "output_type": "execute_result"
    }
   ],
   "source": [
    "', pyt,.hon.'.strip(',.')"
   ]
  },
  {
   "cell_type": "markdown",
   "id": "7deeb386",
   "metadata": {},
   "source": [
    " * 문자 제거"
   ]
  },
  {
   "cell_type": "code",
   "execution_count": 64,
   "id": "d324339c",
   "metadata": {},
   "outputs": [
    {
     "data": {
      "text/plain": [
       "'thon'"
      ]
     },
     "execution_count": 64,
     "metadata": {},
     "output_type": "execute_result"
    }
   ],
   "source": [
    "'python'.strip(\"py\")"
   ]
  },
  {
   "cell_type": "code",
   "execution_count": 67,
   "id": "4bd5be75",
   "metadata": {},
   "outputs": [
    {
     "data": {
      "text/plain": [
       "'XpyXXpyX'"
      ]
     },
     "execution_count": 67,
     "metadata": {},
     "output_type": "execute_result"
    }
   ],
   "source": [
    "'pyXpyXXpyXpy'.strip(\"py\")\n"
   ]
  },
  {
   "cell_type": "markdown",
   "id": "e8f799c4",
   "metadata": {},
   "source": [
    "### 모든 특수문자 삭제하기\n",
    "\n",
    "    * string.punctuation + ' ' 이용"
   ]
  },
  {
   "cell_type": "code",
   "execution_count": 69,
   "id": "9b16a652",
   "metadata": {},
   "outputs": [
    {
     "data": {
      "text/plain": [
       "'!\"#$%&\\'()*+,-./:;<=>?@[\\\\]^_`{|}~'"
      ]
     },
     "execution_count": 69,
     "metadata": {},
     "output_type": "execute_result"
    }
   ],
   "source": [
    "import string\n",
    "\n",
    "string.punctuation"
   ]
  },
  {
   "cell_type": "code",
   "execution_count": 12,
   "id": "64d891f1",
   "metadata": {},
   "outputs": [
    {
     "data": {
      "text/plain": [
       "' python'"
      ]
     },
     "execution_count": 12,
     "metadata": {},
     "output_type": "execute_result"
    }
   ],
   "source": [
    "import string\n",
    "', python.!@#'.strip(string.punctuation)"
   ]
  },
  {
   "cell_type": "markdown",
   "id": "c831c1e1",
   "metadata": {},
   "source": [
    " * 공백도 포함해서 삭제"
   ]
  },
  {
   "cell_type": "code",
   "execution_count": 39,
   "id": "7bd03e82",
   "metadata": {},
   "outputs": [
    {
     "data": {
      "text/plain": [
       "'python'"
      ]
     },
     "execution_count": 39,
     "metadata": {},
     "output_type": "execute_result"
    }
   ],
   "source": [
    "', python.!@#'.strip(string.punctuation + ' ')"
   ]
  },
  {
   "cell_type": "code",
   "execution_count": 70,
   "id": "360697d4",
   "metadata": {},
   "outputs": [
    {
     "data": {
      "text/plain": [
       "'python #$%&*$^ python'"
      ]
     },
     "execution_count": 70,
     "metadata": {},
     "output_type": "execute_result"
    }
   ],
   "source": [
    "', python #$%&*$^ python .!@#'.strip(string.punctuation + ' ')"
   ]
  },
  {
   "cell_type": "code",
   "execution_count": 74,
   "id": "e2e51b8e",
   "metadata": {},
   "outputs": [
    {
     "data": {
      "text/plain": [
       "', python #$%&*$^ python .!@#'"
      ]
     },
     "execution_count": 74,
     "metadata": {},
     "output_type": "execute_result"
    }
   ],
   "source": [
    "', python #$%&*$^ python .!@#'.replace(string.punctuation, \"\") # 이렇게는 안 됌"
   ]
  },
  {
   "cell_type": "markdown",
   "id": "3878ede6",
   "metadata": {},
   "source": [
    "## !값 확인/검색"
   ]
  },
  {
   "cell_type": "markdown",
   "id": "b41f3fe1",
   "metadata": {},
   "source": [
    "* count()\n",
    "* find(), index()\n",
    "    * find()의 경우, 없으면 -1 반환, 문자열만 사용가능(리스트.find 사용불가)\n",
    "    * index()의 경우, 찾는 요소가 없으면, 에러 발생, 문자열, 리스트 모두 사용 가능\n",
    "* startswith\n",
    "* endswith"
   ]
  },
  {
   "cell_type": "markdown",
   "id": "57aa91ff",
   "metadata": {},
   "source": [
    "### 특정 문자 갯수 확인 : count()"
   ]
  },
  {
   "cell_type": "code",
   "execution_count": 75,
   "id": "35437a57",
   "metadata": {},
   "outputs": [
    {
     "data": {
      "text/plain": [
       "3"
      ]
     },
     "execution_count": 75,
     "metadata": {},
     "output_type": "execute_result"
    }
   ],
   "source": [
    "'apple pine'.count('p')"
   ]
  },
  {
   "cell_type": "markdown",
   "id": "ddc6bab5",
   "metadata": {},
   "source": [
    "### 문자열 내 특정 문자 인덱스 찾기 : find(), index()\n",
    "    * find('찾을 문자열') : 왼쪽부터 찾아서 찾은 문자의 시작하는 인덱스를 반환\n",
    "    * rfind('찾을 문자열') : 오른쪽부터 찾아서 찾은 문자의 (왼쪽부터) 시작하는 인덱스를 반환\n",
    "    * 찾는 문자열이 없으면 -1 반환\n",
    "    * index(), rindex() 도 동일한 기능이나 이 함수들은 찾는 문자열이 없으면 에러 발생시킴"
   ]
  },
  {
   "cell_type": "code",
   "execution_count": 1,
   "id": "04eb5363",
   "metadata": {},
   "outputs": [
    {
     "data": {
      "text/plain": [
       "2"
      ]
     },
     "execution_count": 1,
     "metadata": {},
     "output_type": "execute_result"
    }
   ],
   "source": [
    "# 'pl'이 2개 있는데 왼쪽부터 처음찾은 문자열의 인덱스를 반환\n",
    "'apple pineapple mellon'.find('pl')"
   ]
  },
  {
   "cell_type": "code",
   "execution_count": 20,
   "id": "45c3bab9",
   "metadata": {},
   "outputs": [
    {
     "data": {
      "text/plain": [
       "2"
      ]
     },
     "execution_count": 20,
     "metadata": {},
     "output_type": "execute_result"
    }
   ],
   "source": [
    "a = 'apple pineapple melon'\n",
    "\n",
    "a.find('pl')"
   ]
  },
  {
   "cell_type": "code",
   "execution_count": 21,
   "id": "56e2b49d",
   "metadata": {},
   "outputs": [
    {
     "data": {
      "text/plain": [
       "2"
      ]
     },
     "execution_count": 21,
     "metadata": {},
     "output_type": "execute_result"
    }
   ],
   "source": [
    "a.index('pl')"
   ]
  },
  {
   "cell_type": "code",
   "execution_count": 72,
   "id": "cdf4c890",
   "metadata": {},
   "outputs": [
    {
     "data": {
      "text/plain": [
       "12"
      ]
     },
     "execution_count": 72,
     "metadata": {},
     "output_type": "execute_result"
    }
   ],
   "source": [
    "a.rfind('pl')"
   ]
  },
  {
   "cell_type": "markdown",
   "id": "d23566ff",
   "metadata": {},
   "source": [
    "* 찾는 문자열이 없으면 -1 반환"
   ]
  },
  {
   "cell_type": "code",
   "execution_count": 73,
   "id": "4f63f7dd",
   "metadata": {},
   "outputs": [
    {
     "data": {
      "text/plain": [
       "-1"
      ]
     },
     "execution_count": 73,
     "metadata": {},
     "output_type": "execute_result"
    }
   ],
   "source": [
    "a.find('x')"
   ]
  },
  {
   "cell_type": "markdown",
   "id": "933d2bac",
   "metadata": {},
   "source": [
    "* 찾는 문자열이 없으면 에러 발생"
   ]
  },
  {
   "cell_type": "code",
   "execution_count": 18,
   "id": "3ee5583f",
   "metadata": {},
   "outputs": [
    {
     "ename": "NameError",
     "evalue": "name 'a' is not defined",
     "output_type": "error",
     "traceback": [
      "\u001b[1;31m---------------------------------------------------------------------------\u001b[0m",
      "\u001b[1;31mNameError\u001b[0m                                 Traceback (most recent call last)",
      "\u001b[1;32m<ipython-input-18-db33b01aaa81>\u001b[0m in \u001b[0;36m<module>\u001b[1;34m\u001b[0m\n\u001b[0;32m      1\u001b[0m \u001b[1;31m# index()함수는 찾는 문자가 없으면 에러 반환\u001b[0m\u001b[1;33m\u001b[0m\u001b[1;33m\u001b[0m\u001b[1;33m\u001b[0m\u001b[0m\n\u001b[1;32m----> 2\u001b[1;33m \u001b[0ma\u001b[0m\u001b[1;33m.\u001b[0m\u001b[0mindex\u001b[0m\u001b[1;33m(\u001b[0m\u001b[1;34m'x'\u001b[0m\u001b[1;33m)\u001b[0m\u001b[1;33m\u001b[0m\u001b[1;33m\u001b[0m\u001b[0m\n\u001b[0m",
      "\u001b[1;31mNameError\u001b[0m: name 'a' is not defined"
     ]
    }
   ],
   "source": [
    "# index()함수는 찾는 문자가 없으면 에러 반환\n",
    "a.index('x')"
   ]
  },
  {
   "cell_type": "markdown",
   "id": "f6901275",
   "metadata": {},
   "source": [
    "### 특정 문자로 시작하는/끝나는 문자열 색출 : startswith(), endswith()\n",
    "\n",
    "    * startswith : 특정 문자로 시작하는 문자열 찾음\n",
    "        * 문자열 변수명.startswith(\"찾는문자\") => T/F 반환\n",
    "    * endswith : 특정 문자로 끝하는 문자열 찾음\n",
    "        * 문자열 변수명.startswith(\"찾는문자\") => T/F 반환\n",
    "        * 주로 파일명 \"확장자 검색(.exe 등)\"에서 많이 쓰임"
   ]
  },
  {
   "cell_type": "code",
   "execution_count": 5,
   "id": "13d15ebd",
   "metadata": {},
   "outputs": [
    {
     "name": "stdout",
     "output_type": "stream",
     "text": [
      "True\n",
      "False\n"
     ]
    }
   ],
   "source": [
    "# startswith 예시\n",
    "\n",
    "a = \"Hello\"\n",
    "print(a.startswith(\"He\"))\n",
    "print(a.startswith(\"Hw\"))"
   ]
  },
  {
   "cell_type": "code",
   "execution_count": 4,
   "id": "270e2790",
   "metadata": {},
   "outputs": [
    {
     "name": "stdout",
     "output_type": "stream",
     "text": [
      "['OB94382', 'OB32308', 'OB83461', 'OB74830', 'OB82345']\n",
      "['OW34723', 'OW37402', 'OW11235']\n"
     ]
    }
   ],
   "source": [
    "EmployeeID = ['OB94382', 'OW34723', 'OB32308', 'OB83461', 'OB74830', 'OW37402', 'OW11235', 'OB82345']\n",
    "\n",
    "# 'OB'로 시작하는 요소만 찾아 리스트업\n",
    "OB_list = [OB for OB in EmployeeID if OB.startswith('OB')]\n",
    "\n",
    "# 'OW'로 시작하는 요소만 찾아 리스트업\n",
    "OW_list = [OW for OW in EmployeeID if OW.startswith('OW')]\n",
    "\n",
    "print(OB_list)\n",
    "print(OW_list)"
   ]
  },
  {
   "cell_type": "markdown",
   "id": "2cc548ac",
   "metadata": {},
   "source": [
    "### 알파벳, 숫자, 대소문자 확인: isalpha, isdecimal, isalnum, isupper, islower, istitle\n",
    "\n",
    "- isalpha() : 문자열이 모두  알파벳으로 되어있으면, True, 아니면 False로 반환\n",
    "- isalnum(): 문자열이 모두 알파벳 문자와 숫자로만 되어 있으면 True, 그렇지 않으면 False를 반환\n",
    "- isdecimal(): 문자열이 모두 숫자로만 되어 있으면 True, 그렇지 않으면 False를 반환\n",
    "\n",
    "- isupper() : 문자열이 모두 대문자로 되어있으면, True, 아니면 False로 반환\n",
    "- islower() : 문자열이 모두 소문자로 되어있으면, True, 아니면 False로 반환\n",
    "- istitle() : 문자열의 첫글자만 대문자로 되어있으면, True, 아니면 False로 반환"
   ]
  },
  {
   "cell_type": "code",
   "execution_count": 28,
   "id": "1906a456",
   "metadata": {},
   "outputs": [
    {
     "name": "stdout",
     "output_type": "stream",
     "text": [
      "True\n",
      "True\n",
      "False\n",
      "False\n",
      "False\n"
     ]
    }
   ],
   "source": [
    "print(\"asdABD\".isalpha())    # 알파벳 인지\n",
    "print(\"asdABD\".isalnum())    # 알파벳+숫자인지\n",
    "print(\"asdABD\".isdecimal())  # 숫자인지\n",
    "print(\"asdABD\".isupper())    # 오직 대문자인지\n",
    "print(\"asdABD\".islower())    # 오직 소문자인지"
   ]
  },
  {
   "cell_type": "code",
   "execution_count": 29,
   "id": "c8b1b125",
   "metadata": {},
   "outputs": [
    {
     "name": "stdout",
     "output_type": "stream",
     "text": [
      "False\n",
      "True\n"
     ]
    }
   ],
   "source": [
    "print(\"45678\".isalpha())    # 알파벳 인지\n",
    "print(\"45678\".isdecimal())  # 숫자인지"
   ]
  },
  {
   "cell_type": "code",
   "execution_count": 30,
   "id": "201fb2e7",
   "metadata": {},
   "outputs": [
    {
     "name": "stdout",
     "output_type": "stream",
     "text": [
      "True\n",
      "False\n"
     ]
    }
   ],
   "source": [
    "print(\"ABD\".isupper())    # 오직 대문자인지\n",
    "print(\"ABD\".islower())    # 오직 소문자인지"
   ]
  },
  {
   "cell_type": "code",
   "execution_count": 31,
   "id": "39083b38",
   "metadata": {},
   "outputs": [
    {
     "name": "stdout",
     "output_type": "stream",
     "text": [
      "False\n",
      "True\n"
     ]
    }
   ],
   "source": [
    "print(\"asd\".isupper())    # 오직 대문자인지\n",
    "print(\"asd\".islower())    # 오직 소문자인지"
   ]
  },
  {
   "cell_type": "markdown",
   "id": "17c2fc0f",
   "metadata": {},
   "source": [
    "### 유사한 변경함수"
   ]
  },
  {
   "cell_type": "code",
   "execution_count": 40,
   "id": "af3ce537",
   "metadata": {},
   "outputs": [
    {
     "data": {
      "text/plain": [
       "'ASD'"
      ]
     },
     "execution_count": 40,
     "metadata": {},
     "output_type": "execute_result"
    }
   ],
   "source": [
    "\"asd\".upper()"
   ]
  },
  {
   "cell_type": "code",
   "execution_count": 41,
   "id": "b4c6b007",
   "metadata": {},
   "outputs": [
    {
     "data": {
      "text/plain": [
       "'ADSFGF'"
      ]
     },
     "execution_count": 41,
     "metadata": {},
     "output_type": "execute_result"
    }
   ],
   "source": [
    "\"aDSfgf\".upper()"
   ]
  },
  {
   "cell_type": "code",
   "execution_count": 43,
   "id": "72932c39",
   "metadata": {},
   "outputs": [
    {
     "data": {
      "text/plain": [
       "'adsfgf'"
      ]
     },
     "execution_count": 43,
     "metadata": {},
     "output_type": "execute_result"
    }
   ],
   "source": [
    "\"aDSfgf\".lower()"
   ]
  },
  {
   "cell_type": "code",
   "execution_count": 44,
   "id": "7deaf544",
   "metadata": {},
   "outputs": [
    {
     "data": {
      "text/plain": [
       "'Adsfgf'"
      ]
     },
     "execution_count": 44,
     "metadata": {},
     "output_type": "execute_result"
    }
   ],
   "source": [
    "\"aDSfgf\".capitalize()"
   ]
  },
  {
   "cell_type": "markdown",
   "id": "b2a32727",
   "metadata": {},
   "source": [
    "## !값 변경\n",
    "* replace()\n",
    "* translate()\n",
    "* re.sub()  (정규표현식)"
   ]
  },
  {
   "cell_type": "markdown",
   "id": "919a9796",
   "metadata": {},
   "source": [
    "### 문자열 내에 문자 'a'를 'b'로 변경 : .replace(a, b)\n",
    "\n",
    "* __replace(a, b) 함수__ 이용 => 모두 바꾸기 기능임\n",
    "* __replace(a, b, count)__ : 좌측부터 순서대로 정해진 count 갯수만큼 변경\n",
    "    * 문자 1:1 매칭으로 변경 => translate()      \n",
    "    * 인덱스 사용해서 바꿀수는 없을까?  \n",
    "        => 파이썬 특성상 한번에 바꾸는 것은 안됨  \n",
    "        => 해당 인덱스 기준으로 슬라이스[시작:인덱스]+바꿀애+슬라이스[인덱스:끝]"
   ]
  },
  {
   "cell_type": "code",
   "execution_count": 63,
   "id": "cc14f4e9",
   "metadata": {},
   "outputs": [
    {
     "name": "stdout",
     "output_type": "stream",
     "text": [
      "I can do it, I made it\n",
      "You can do it, You made it\n",
      "I can do it, I made it\n"
     ]
    }
   ],
   "source": [
    "sent = \"I can do it, I made it\"\n",
    "print(sent)\n",
    "print(sent.replace('I', \"You\"))\n",
    "print(sent)"
   ]
  },
  {
   "cell_type": "code",
   "execution_count": 5,
   "id": "a209e00a",
   "metadata": {},
   "outputs": [
    {
     "name": "stdout",
     "output_type": "stream",
     "text": [
      "결과 :\n",
      ", 제거 전 : 123,456,789,999\n",
      ", 전부 제거 : 123456789999\n",
      ", 왼쪽 한개 제거 : 123456,789,999\n",
      ", 왼쪽 두개 제거 : 123456789,999\n",
      ", 왼쪽 세개 제거 : 123456789999\n",
      "원본은 유지 된다!! : 123,456,789,999\n"
     ]
    }
   ],
   "source": [
    "text = '123,456,789,999'\n",
    "\n",
    "print(\"결과 :\")\n",
    "print(\", 제거 전 : \"+text)\n",
    "print(\", 전부 제거 : \" + text.replace(\",\",\"\"))\n",
    "print(\", 왼쪽 한개 제거 : \"+text.replace(\",\", \"\",1))\n",
    "print(\", 왼쪽 두개 제거 : \"+text.replace(\",\", \"\",2))\n",
    "\n",
    "replace_t3 = text.replace(\",\", \"\",3)\n",
    "\n",
    "print(\", 왼쪽 세개 제거 : \"+replace_t3)\n",
    "\n",
    "print(\"원본은 유지 된다!! : \"+text)"
   ]
  },
  {
   "cell_type": "markdown",
   "id": "fc13a57a",
   "metadata": {},
   "source": [
    "### 오른쪽 부터 바꾸는 replaceRight 함수 만들기\n",
    "    * rfind()를 이용해서 인덱스를 찾은 후,\n",
    "    * 슬라이스 + 변경문 + 슬라이스 이용"
   ]
  },
  {
   "cell_type": "code",
   "execution_count": 99,
   "id": "e60f965d",
   "metadata": {},
   "outputs": [],
   "source": [
    "def replaceRight(original, old, new, count_right):\n",
    "    repeat = 0    # 바꿀 횟수\n",
    "    text = original\n",
    "    old_len = len(old)  # 바꿀 부분의 글자 길이\n",
    "    \n",
    "    count_find = original.count(old) ## 바꿀 부분이 몇 개 있는지 확인\n",
    "    if count_right > count_find: \n",
    "        repeat = count_find\n",
    "    else:\n",
    "        repeat = count_right\n",
    "\n",
    "    while(repeat):\n",
    "        find_index = text.rfind(old)    # 오른쪽의 바꿀 인덱스 확인\n",
    "        text = text[:find_index] + new + text[find_index+old_len:]\n",
    "        repeat -= 1\n",
    "    return text    "
   ]
  },
  {
   "cell_type": "code",
   "execution_count": 102,
   "id": "0d8dd107",
   "metadata": {},
   "outputs": [
    {
     "name": "stdout",
     "output_type": "stream",
     "text": [
      "123,456,789,999\n",
      "123,456,789999\n",
      "123,456789999\n",
      "123456789999\n"
     ]
    }
   ],
   "source": [
    "text = '123,456,789,999'\n",
    "\n",
    "print(replaceRight(text, \",\", \"\", 0))\n",
    "print(replaceRight(text, \",\", \"\", 1))\n",
    "print(replaceRight(text, \",\", \"\", 2))\n",
    "print(replaceRight(text, \",\", \"\", 3))"
   ]
  },
  {
   "cell_type": "markdown",
   "id": "cc0b1f0d",
   "metadata": {},
   "source": [
    "### !문자 1:1 매칭으로 변경 => str.maketrans(a, b)  /  문자열.translate()  \n",
    "    ex) a => 1, e => 2, i => 3\n",
    "    * 순서\n",
    "        - table명 = str.maketrans(변경전 문자들, 변경후 문자들)\n",
    "        - .translate(table명)  \n",
    "        \n",
    "        \n",
    "    * 만일 바꾸는 문자가 길이가 일치하지 않고, 종류가 많지 않다면,   \n",
    "      replace(a, b)문을 여러번 사용하자."
   ]
  },
  {
   "cell_type": "code",
   "execution_count": 16,
   "id": "74e0c901",
   "metadata": {},
   "outputs": [
    {
     "data": {
      "text/plain": [
       "'1ppl2'"
      ]
     },
     "execution_count": 16,
     "metadata": {},
     "output_type": "execute_result"
    }
   ],
   "source": [
    "# 먼저 변환테이블 생성\n",
    "trans_table = str.maketrans('aeiou', '12345')\n",
    "\n",
    "\n",
    "# translate(테이블) 적용\n",
    "'apple'.translate(trans_table)"
   ]
  },
  {
   "cell_type": "code",
   "execution_count": 68,
   "id": "8122feab",
   "metadata": {},
   "outputs": [
    {
     "data": {
      "text/plain": [
       "'1ppl2'"
      ]
     },
     "execution_count": 68,
     "metadata": {},
     "output_type": "execute_result"
    }
   ],
   "source": [
    "x = 'apple'\n",
    "\n",
    "t_table = str.maketrans('aeiou', '12345')\n",
    "\n",
    "x.translate(t_table)"
   ]
  },
  {
   "cell_type": "code",
   "execution_count": 6,
   "id": "bf2a8bdd",
   "metadata": {},
   "outputs": [
    {
     "data": {
      "text/plain": [
       "'1ppl2'"
      ]
     },
     "execution_count": 6,
     "metadata": {},
     "output_type": "execute_result"
    }
   ],
   "source": [
    "a = 'apple'\n",
    "\n",
    "t = str.maketrans('aeiou', '12345')\n",
    "\n",
    "a.translate(t)"
   ]
  },
  {
   "cell_type": "markdown",
   "id": "78e982eb",
   "metadata": {},
   "source": [
    "### !re.sub() + 정규표현식 이용\n",
    "    \n",
    "    => 정규표현식 노트(추후 정리) 참고"
   ]
  },
  {
   "cell_type": "markdown",
   "id": "c6073565",
   "metadata": {},
   "source": [
    "* re.sub(\"바꿀 문자형식\", \"새롭게 넣을 내용\", 문자열)"
   ]
  },
  {
   "cell_type": "code",
   "execution_count": 74,
   "id": "62334051",
   "metadata": {},
   "outputs": [
    {
     "data": {
      "text/plain": [
       "'slknio__234--234_.....slkg'"
      ]
     },
     "execution_count": 74,
     "metadata": {},
     "output_type": "execute_result"
    }
   ],
   "source": [
    "import re\n",
    "\n",
    "str_2 = \"slknDLGH!@#^io^*__234--234_..,;;!#@...WFDGslkg\"\n",
    "str_2 = re.sub(r\"[^0-9a-z._-]+\", \"\", str_2)   # 0-9, a-z 순서는 바뀌어도 됨= \"slknDLGH!@#^io^*__234--234_..,;;!#@...WFDGslkg\"str_2 = re.sub(r\"[^0-9a-z._-]+\", \"\", str_2)   # 0-9, a-z 순서는 바뀌어도 됨\n",
    "str_2"
   ]
  },
  {
   "cell_type": "markdown",
   "id": "0a8e07c3",
   "metadata": {},
   "source": [
    "### 대소문자 변경(upper, lower)"
   ]
  },
  {
   "cell_type": "code",
   "execution_count": 67,
   "id": "877a1a6f",
   "metadata": {},
   "outputs": [
    {
     "data": {
      "text/plain": [
       "'HELLO'"
      ]
     },
     "execution_count": 67,
     "metadata": {},
     "output_type": "execute_result"
    }
   ],
   "source": [
    "a = \"hello\"\n",
    "a.upper()"
   ]
  },
  {
   "cell_type": "code",
   "execution_count": 68,
   "id": "09649de6",
   "metadata": {},
   "outputs": [
    {
     "data": {
      "text/plain": [
       "'hello'"
      ]
     },
     "execution_count": 68,
     "metadata": {},
     "output_type": "execute_result"
    }
   ],
   "source": [
    "b=\"HELLO\"\n",
    "b.lower()"
   ]
  },
  {
   "cell_type": "code",
   "execution_count": 10,
   "id": "a7dcecbf",
   "metadata": {},
   "outputs": [
    {
     "data": {
      "text/plain": [
       "'Hello'"
      ]
     },
     "execution_count": 10,
     "metadata": {},
     "output_type": "execute_result"
    }
   ],
   "source": [
    "c=\"HELLO\"\n",
    "c.capitalize()   # 맨 앞글자만 대문자"
   ]
  },
  {
   "cell_type": "markdown",
   "id": "b5e3df4e",
   "metadata": {},
   "source": [
    "## !값 비교\n",
    "\n",
    "    ・ 완전 일치 : == , !=  (값이 일치하는지 비교)\n",
    "    * 완전 일치 : is, not is (같은 객체인지, 같은 주소인지 비교)\n",
    "    ・ 부분 일치 : in , not in  \n",
    "    ・ 전방 일치 : startswith()  \n",
    "    ・ 후방 일치 : endswith() "
   ]
  },
  {
   "cell_type": "markdown",
   "id": "c9fff528",
   "metadata": {},
   "source": [
    "### 알파벳 문자 하나하나는 사전순으로 비교가 가능하다!!!\n",
    "\n",
    "    * 순서가 뒤이면 크다\n",
    "    * 대소문자도 구분한다\n",
    "        * 소문자 > 대문자\n",
    "        * 아마도 ord() 기준인 듯"
   ]
  },
  {
   "cell_type": "code",
   "execution_count": 6,
   "id": "62f337f6",
   "metadata": {},
   "outputs": [
    {
     "data": {
      "text/plain": [
       "True"
      ]
     },
     "execution_count": 6,
     "metadata": {},
     "output_type": "execute_result"
    }
   ],
   "source": [
    "'a' < 'b'"
   ]
  },
  {
   "cell_type": "code",
   "execution_count": 9,
   "id": "1f2242dd",
   "metadata": {},
   "outputs": [
    {
     "data": {
      "text/plain": [
       "False"
      ]
     },
     "execution_count": 9,
     "metadata": {},
     "output_type": "execute_result"
    }
   ],
   "source": [
    "'b' < 'a'"
   ]
  },
  {
   "cell_type": "code",
   "execution_count": 8,
   "id": "d41f535b",
   "metadata": {},
   "outputs": [
    {
     "data": {
      "text/plain": [
       "True"
      ]
     },
     "execution_count": 8,
     "metadata": {},
     "output_type": "execute_result"
    }
   ],
   "source": [
    "'B' < 'a'"
   ]
  },
  {
   "cell_type": "code",
   "execution_count": 10,
   "id": "0b028dce",
   "metadata": {},
   "outputs": [
    {
     "data": {
      "text/plain": [
       "False"
      ]
     },
     "execution_count": 10,
     "metadata": {},
     "output_type": "execute_result"
    }
   ],
   "source": [
    "'z' == 'Z'"
   ]
  },
  {
   "cell_type": "code",
   "execution_count": 12,
   "id": "89e7b03e",
   "metadata": {},
   "outputs": [
    {
     "name": "stdout",
     "output_type": "stream",
     "text": [
      "65\n",
      "66\n",
      "90\n",
      "97\n",
      "98\n",
      "122\n"
     ]
    }
   ],
   "source": [
    "print(ord('A'))\n",
    "print(ord('B'))\n",
    "print(ord('Z'))\n",
    "print(ord('a'))\n",
    "print(ord('b'))\n",
    "print(ord('z'))"
   ]
  },
  {
   "cell_type": "code",
   "execution_count": 15,
   "id": "00d60307",
   "metadata": {},
   "outputs": [
    {
     "name": "stdout",
     "output_type": "stream",
     "text": [
      "chr(89) : Y\n",
      "chr(90) : Z\n",
      "chr(91) : [\n",
      "chr(92) : \\\n",
      "chr(93) : ]\n",
      "chr(94) : ^\n",
      "chr(95) : _\n",
      "chr(96) : `\n",
      "chr(97) : a\n",
      "chr(98) : b\n"
     ]
    }
   ],
   "source": [
    "for i in range(89, 99):\n",
    "    print('chr(%d) : %s'%(i, chr(i)))"
   ]
  },
  {
   "cell_type": "markdown",
   "id": "fc7c58f8",
   "metadata": {},
   "source": [
    "## !값 정렬\n",
    "\n",
    "### sorted(문자열) => 리스트 반환\n",
    "### 객체.sort() 는 문자열에서는 못쓰고, 리스트에서 사용 가능"
   ]
  },
  {
   "cell_type": "markdown",
   "id": "92329f8c",
   "metadata": {},
   "source": [
    "### 오름차순, 내림차순 정렬\n",
    "    * 오름차순 변경\n",
    "        1. 리스트로 변경 list(문자열)\n",
    "        2. 리스트 = sorted(리스트)\n",
    "        3. 문자열로 재변경 \"\".join(리스트)\n",
    "          \n",
    "    * 내림차순 변경\n",
    "        1. 리스트로 변경\n",
    "        2. 리스트 = sorted(리스트, reverse=True)\n",
    "        3. 문자열로 재변경"
   ]
  },
  {
   "cell_type": "markdown",
   "id": "576b35f9",
   "metadata": {},
   "source": [
    "### sorted 함수는 문자열을 받아, 정렬한 후 리스트로 반환한다.\n",
    "### sorted 함수는 리스트도 받을 수도 있다."
   ]
  },
  {
   "cell_type": "markdown",
   "id": "bbfdbd95",
   "metadata": {},
   "source": [
    " * 오름차순 한번에"
   ]
  },
  {
   "cell_type": "code",
   "execution_count": 78,
   "id": "df5cd800",
   "metadata": {},
   "outputs": [
    {
     "data": {
      "text/plain": [
       "['a', 'e', 'f', 'k', 'q', 'x']"
      ]
     },
     "execution_count": 78,
     "metadata": {},
     "output_type": "execute_result"
    }
   ],
   "source": [
    "a = 'fxkqae'\n",
    "\n",
    "sorted(a)"
   ]
  },
  {
   "cell_type": "code",
   "execution_count": 79,
   "id": "8b3f4304",
   "metadata": {},
   "outputs": [
    {
     "data": {
      "text/plain": [
       "'fxkqae'"
      ]
     },
     "execution_count": 79,
     "metadata": {},
     "output_type": "execute_result"
    }
   ],
   "source": [
    "a # 원본 변경되지 않음"
   ]
  },
  {
   "cell_type": "code",
   "execution_count": 76,
   "id": "d8e1e06e",
   "metadata": {},
   "outputs": [
    {
     "ename": "AttributeError",
     "evalue": "'str' object has no attribute 'sort'",
     "output_type": "error",
     "traceback": [
      "\u001b[1;31m---------------------------------------------------------------------------\u001b[0m",
      "\u001b[1;31mAttributeError\u001b[0m                            Traceback (most recent call last)",
      "\u001b[1;32m<ipython-input-76-bb854ecaf2fa>\u001b[0m in \u001b[0;36m<module>\u001b[1;34m\u001b[0m\n\u001b[0;32m      1\u001b[0m \u001b[0ma\u001b[0m \u001b[1;33m=\u001b[0m \u001b[1;34m'fxkqae'\u001b[0m\u001b[1;33m\u001b[0m\u001b[1;33m\u001b[0m\u001b[0m\n\u001b[0;32m      2\u001b[0m \u001b[1;33m\u001b[0m\u001b[0m\n\u001b[1;32m----> 3\u001b[1;33m \u001b[0ma\u001b[0m\u001b[1;33m.\u001b[0m\u001b[0msort\u001b[0m\u001b[1;33m(\u001b[0m\u001b[1;33m)\u001b[0m\u001b[1;33m\u001b[0m\u001b[1;33m\u001b[0m\u001b[0m\n\u001b[0m",
      "\u001b[1;31mAttributeError\u001b[0m: 'str' object has no attribute 'sort'"
     ]
    }
   ],
   "source": [
    "a = 'fxkqae'\n",
    "\n",
    "a.sort()"
   ]
  },
  {
   "cell_type": "code",
   "execution_count": 2,
   "id": "97f74ba4",
   "metadata": {},
   "outputs": [
    {
     "data": {
      "text/plain": [
       "'aefkqx'"
      ]
     },
     "execution_count": 2,
     "metadata": {},
     "output_type": "execute_result"
    }
   ],
   "source": [
    "a = 'fxkqae'\n",
    "\n",
    "\"\".join(sorted(a))"
   ]
  },
  {
   "cell_type": "markdown",
   "id": "9bd4ccdf",
   "metadata": {},
   "source": [
    " * 역순 한번에"
   ]
  },
  {
   "cell_type": "code",
   "execution_count": 3,
   "id": "4f38f934",
   "metadata": {},
   "outputs": [
    {
     "data": {
      "text/plain": [
       "'xqkfea'"
      ]
     },
     "execution_count": 3,
     "metadata": {},
     "output_type": "execute_result"
    }
   ],
   "source": [
    "a = 'fxkqae'\n",
    "\n",
    "\"\".join(sorted(a, reverse=True))"
   ]
  },
  {
   "cell_type": "markdown",
   "id": "81d08b1d",
   "metadata": {},
   "source": [
    "* 과정 확인"
   ]
  },
  {
   "cell_type": "code",
   "execution_count": 1,
   "id": "ecd35348",
   "metadata": {},
   "outputs": [
    {
     "data": {
      "text/plain": [
       "['a', 'e', 'f', 'k', 'q', 'x']"
      ]
     },
     "execution_count": 1,
     "metadata": {},
     "output_type": "execute_result"
    }
   ],
   "source": [
    "a = 'fxkqae'\n",
    "sorted(a)"
   ]
  },
  {
   "cell_type": "markdown",
   "id": "3a6c3b86",
   "metadata": {},
   "source": [
    " * 오름차순 변경"
   ]
  },
  {
   "cell_type": "code",
   "execution_count": 3,
   "id": "96c72d07",
   "metadata": {},
   "outputs": [
    {
     "data": {
      "text/plain": [
       "'aefkqx'"
      ]
     },
     "execution_count": 3,
     "metadata": {},
     "output_type": "execute_result"
    }
   ],
   "source": [
    "a = 'fxkqae'\n",
    "a = sorted(a)    # 문자열을 리스트로 만들고 오름 정렬\n",
    "a = \"\".join(a)    # 리스트를 문자열로 재변경\n",
    "\n",
    "a"
   ]
  },
  {
   "cell_type": "markdown",
   "id": "8d5c5753",
   "metadata": {},
   "source": [
    " * 내림차순 변경"
   ]
  },
  {
   "cell_type": "code",
   "execution_count": 5,
   "id": "1b07caee",
   "metadata": {},
   "outputs": [
    {
     "data": {
      "text/plain": [
       "'xqkfea'"
      ]
     },
     "execution_count": 5,
     "metadata": {},
     "output_type": "execute_result"
    }
   ],
   "source": [
    "a = 'fxkqae'\n",
    "a = sorted(list(a), reverse=True)\n",
    "a = \"\".join(a)\n",
    "\n",
    "a"
   ]
  },
  {
   "cell_type": "markdown",
   "id": "0462b539",
   "metadata": {},
   "source": [
    "### 만일 숫자+영문+대소문 섞여있다면??\n",
    "\n",
    "    * 숫자 -> 대문자 -> 소문자 순으로 정렬됨!!\n",
    "    * reverse 옵션 적용시, 소문자 -> 대문자 -> 숫자!"
   ]
  },
  {
   "cell_type": "code",
   "execution_count": 5,
   "id": "b8ac8739",
   "metadata": {},
   "outputs": [
    {
     "data": {
      "text/plain": [
       "'124568KXaefq'"
      ]
     },
     "execution_count": 5,
     "metadata": {},
     "output_type": "execute_result"
    }
   ],
   "source": [
    "a = 'f12K8Xqa546e'\n",
    "\n",
    "\"\".join(sorted(a))"
   ]
  },
  {
   "cell_type": "code",
   "execution_count": 6,
   "id": "1cb7be3b",
   "metadata": {},
   "outputs": [
    {
     "data": {
      "text/plain": [
       "'qfeaXK865421'"
      ]
     },
     "execution_count": 6,
     "metadata": {},
     "output_type": "execute_result"
    }
   ],
   "source": [
    "a = 'f12K8Xqa546e'\n",
    "\n",
    "\"\".join(sorted(a, reverse=True))"
   ]
  },
  {
   "cell_type": "markdown",
   "id": "63e210d9",
   "metadata": {},
   "source": [
    "### 문자열 뒤집기\n",
    "    1. 슬라이스 인덱스[::-1] 이용\n",
    "    2. reverse()함수(리스트를 뒤집는 함수) 이용\n",
    "    3. reversed()함수(이터레이터?) 이용"
   ]
  },
  {
   "cell_type": "markdown",
   "id": "8bbca88a",
   "metadata": {},
   "source": [
    "1. 슬라이스 인덱스[::-1] 이용"
   ]
  },
  {
   "cell_type": "code",
   "execution_count": 30,
   "id": "1da3a2aa",
   "metadata": {},
   "outputs": [
    {
     "name": "stdout",
     "output_type": "stream",
     "text": [
      "edcba\n"
     ]
    }
   ],
   "source": [
    "s = 'abcde'\n",
    "print(s[::-1])  # 'edcba'"
   ]
  },
  {
   "cell_type": "markdown",
   "id": "16de2bb5",
   "metadata": {},
   "source": [
    "* 응용(뒤집고, 건너뛰기)"
   ]
  },
  {
   "cell_type": "code",
   "execution_count": 31,
   "id": "89f387ec",
   "metadata": {},
   "outputs": [
    {
     "name": "stdout",
     "output_type": "stream",
     "text": [
      "eca\n"
     ]
    }
   ],
   "source": [
    "s = 'abcde'\n",
    "print(s[::-2])  # 'edcba'"
   ]
  },
  {
   "cell_type": "markdown",
   "id": "6f144449",
   "metadata": {},
   "source": [
    "\n",
    "2. reverse()함수 이용\n",
    "    - 리스트.reverse() => 문자열에 쓰면 에러남\n",
    "    - 함수 사용 시, 원본이 변경되는 함수임  \n",
    "      => a = a.reverse() 처럼 '변수 = 함수'쓰지 않고 원본 변경\n",
    "    - reverse() 함수는 문자열에서는 못쓰고, 리스트형을 지원하므로, 리스트로 바꿔서 적용하고, 다시 문자열로 변환"
   ]
  },
  {
   "cell_type": "code",
   "execution_count": 45,
   "id": "1c9f667c",
   "metadata": {},
   "outputs": [
    {
     "ename": "AttributeError",
     "evalue": "'str' object has no attribute 'reverse'",
     "output_type": "error",
     "traceback": [
      "\u001b[1;31m---------------------------------------------------------------------------\u001b[0m",
      "\u001b[1;31mAttributeError\u001b[0m                            Traceback (most recent call last)",
      "\u001b[1;32m<ipython-input-45-274163551a6a>\u001b[0m in \u001b[0;36m<module>\u001b[1;34m\u001b[0m\n\u001b[0;32m      1\u001b[0m \u001b[1;31m# 문자열에 그냥 쓰면 에러난다!\u001b[0m\u001b[1;33m\u001b[0m\u001b[1;33m\u001b[0m\u001b[1;33m\u001b[0m\u001b[0m\n\u001b[0;32m      2\u001b[0m \u001b[0ma\u001b[0m \u001b[1;33m=\u001b[0m \u001b[1;34m'abcde'\u001b[0m\u001b[1;33m\u001b[0m\u001b[1;33m\u001b[0m\u001b[0m\n\u001b[1;32m----> 3\u001b[1;33m \u001b[0ma\u001b[0m\u001b[1;33m.\u001b[0m\u001b[0mreverse\u001b[0m\u001b[1;33m(\u001b[0m\u001b[1;33m)\u001b[0m\u001b[1;33m\u001b[0m\u001b[1;33m\u001b[0m\u001b[0m\n\u001b[0m\u001b[0;32m      4\u001b[0m \u001b[1;33m\u001b[0m\u001b[0m\n\u001b[0;32m      5\u001b[0m \u001b[1;31m# reverse() 함수는 문자열에서는 못쓰고, 리스트형을 지원하므로, 리스트로 바꿔서 적용하고, 다시 문자열로 변환\u001b[0m\u001b[1;33m\u001b[0m\u001b[1;33m\u001b[0m\u001b[1;33m\u001b[0m\u001b[0m\n",
      "\u001b[1;31mAttributeError\u001b[0m: 'str' object has no attribute 'reverse'"
     ]
    }
   ],
   "source": [
    "# 문자열에 그냥 쓰면 에러난다!\n",
    "a = 'abcde'\n",
    "a.reverse()\n",
    "\n",
    "# reverse() 함수는 문자열에서는 못쓰고, 리스트형을 지원하므로, 리스트로 바꿔서 적용하고, 다시 문자열로 변환"
   ]
  },
  {
   "cell_type": "markdown",
   "id": "9260a01b",
   "metadata": {},
   "source": [
    "단계1. 문자열 -> 리스트 변환"
   ]
  },
  {
   "cell_type": "code",
   "execution_count": 15,
   "id": "bd89d65b",
   "metadata": {},
   "outputs": [
    {
     "data": {
      "text/plain": [
       "['a', 'b', 'c', 'd', 'e']"
      ]
     },
     "execution_count": 15,
     "metadata": {},
     "output_type": "execute_result"
    }
   ],
   "source": [
    "# 리스트 변환 후, reverse()사용한 후, 재 변환\n",
    "\n",
    "a_list = list(a)\n",
    "a_list"
   ]
  },
  {
   "cell_type": "markdown",
   "id": "401e0325",
   "metadata": {},
   "source": [
    "단계2 리스트에 reverse()함수 적용  \n",
    "    => 리스트 변수의 원본이 변경됨"
   ]
  },
  {
   "cell_type": "code",
   "execution_count": 59,
   "id": "50c0a18a",
   "metadata": {},
   "outputs": [
    {
     "data": {
      "text/plain": [
       "['e', 'd', 'c', 'b', 'a']"
      ]
     },
     "execution_count": 59,
     "metadata": {},
     "output_type": "execute_result"
    }
   ],
   "source": [
    "a_list.reverse()\n",
    "a_list   # 원본 변경됨 주의(2번 쓰면 원상복구됨)"
   ]
  },
  {
   "cell_type": "markdown",
   "id": "4903aab4",
   "metadata": {},
   "source": [
    "### .reverse() 함수는  None 값 반환"
   ]
  },
  {
   "cell_type": "code",
   "execution_count": 17,
   "id": "02bd8e45",
   "metadata": {},
   "outputs": [
    {
     "name": "stdout",
     "output_type": "stream",
     "text": [
      "None\n"
     ]
    }
   ],
   "source": [
    "b = a_list.reverse()\n",
    "print(b)"
   ]
  },
  {
   "cell_type": "markdown",
   "id": "b4694abf",
   "metadata": {},
   "source": [
    "### reversed()는 reversed 클래스로 반환\n",
    "\n",
    "### 문자열 뒤집기 한방 사용법\n",
    " *  ''.join(list(reversed(문자열)))"
   ]
  },
  {
   "cell_type": "code",
   "execution_count": 18,
   "id": "f071b39e",
   "metadata": {},
   "outputs": [
    {
     "data": {
      "text/plain": [
       "<reversed at 0x1eb0c04c250>"
      ]
     },
     "execution_count": 18,
     "metadata": {},
     "output_type": "execute_result"
    }
   ],
   "source": [
    "reversed('12345')"
   ]
  },
  {
   "cell_type": "code",
   "execution_count": 19,
   "id": "f2d46776",
   "metadata": {},
   "outputs": [
    {
     "data": {
      "text/plain": [
       "['5', '4', '3', '2', '1']"
      ]
     },
     "execution_count": 19,
     "metadata": {},
     "output_type": "execute_result"
    }
   ],
   "source": [
    "list(reversed('12345'))"
   ]
  },
  {
   "cell_type": "markdown",
   "id": "d725314b",
   "metadata": {},
   "source": [
    "단계3. 리스트 -> 문자열 변환"
   ]
  },
  {
   "cell_type": "code",
   "execution_count": 62,
   "id": "407ccd58",
   "metadata": {},
   "outputs": [
    {
     "data": {
      "text/plain": [
       "'edcba'"
      ]
     },
     "execution_count": 62,
     "metadata": {},
     "output_type": "execute_result"
    }
   ],
   "source": [
    "''.join(a_list)"
   ]
  },
  {
   "cell_type": "code",
   "execution_count": 48,
   "id": "47c6c355",
   "metadata": {},
   "outputs": [
    {
     "name": "stdout",
     "output_type": "stream",
     "text": [
      "<reversed object at 0x000001984509D5E0>\n"
     ]
    },
    {
     "data": {
      "text/plain": [
       "\"['5', '4', '3', '2', '1']\""
      ]
     },
     "execution_count": 48,
     "metadata": {},
     "output_type": "execute_result"
    }
   ],
   "source": [
    "# 바로 문자열 변환안하고 reversed -> list -> str 하는 이유\n",
    "print(str(reversed('12345')))\n",
    "\n",
    "# .join 함수 대신 str를 쓴다면?\n",
    "str(['5', '4', '3', '2', '1'])"
   ]
  },
  {
   "cell_type": "code",
   "execution_count": 49,
   "id": "785b2622",
   "metadata": {},
   "outputs": [
    {
     "data": {
      "text/plain": [
       "'54321'"
      ]
     },
     "execution_count": 49,
     "metadata": {},
     "output_type": "execute_result"
    }
   ],
   "source": [
    "# 올바른 한방 변환\n",
    "''.join(list(reversed('12345')))"
   ]
  },
  {
   "cell_type": "markdown",
   "id": "a5d7028b",
   "metadata": {},
   "source": [
    "### 3. reversed() 함수 이용\n",
    "     - 해당 변수를 reversed class로 만듬\n",
    "     - for문으로 출력 가능\n",
    "     - 리스트도 사용 가능"
   ]
  },
  {
   "cell_type": "code",
   "execution_count": 9,
   "id": "6e3c8a7b",
   "metadata": {},
   "outputs": [
    {
     "name": "stdout",
     "output_type": "stream",
     "text": [
      "<reversed object at 0x000001EB0BF5FF10>\n",
      "<class 'reversed'>\n"
     ]
    }
   ],
   "source": [
    "x = \"hello\"\n",
    "\n",
    "print(reversed(x))\n",
    "print(type(reversed(x)))"
   ]
  },
  {
   "cell_type": "code",
   "execution_count": 11,
   "id": "1b2c3178",
   "metadata": {},
   "outputs": [
    {
     "data": {
      "text/plain": [
       "['h', 'e', 'l', 'l', 'o']"
      ]
     },
     "execution_count": 11,
     "metadata": {},
     "output_type": "execute_result"
    }
   ],
   "source": [
    "list(x)  # 원본이 바뀌지는 않틑다."
   ]
  },
  {
   "cell_type": "code",
   "execution_count": 12,
   "id": "3a0ddbfe",
   "metadata": {},
   "outputs": [
    {
     "data": {
      "text/plain": [
       "['o', 'l', 'l', 'e', 'h']"
      ]
     },
     "execution_count": 12,
     "metadata": {},
     "output_type": "execute_result"
    }
   ],
   "source": [
    "list(reversed(x))"
   ]
  },
  {
   "cell_type": "code",
   "execution_count": 48,
   "id": "64af31ae",
   "metadata": {},
   "outputs": [
    {
     "name": "stdout",
     "output_type": "stream",
     "text": [
      "olleh"
     ]
    }
   ],
   "source": [
    "# reversed() 함수의 결과물을 for문으로 출력\n",
    "for i in reversed(x):\n",
    "    print(i, end='')"
   ]
  },
  {
   "cell_type": "code",
   "execution_count": 34,
   "id": "a2e50858",
   "metadata": {},
   "outputs": [
    {
     "name": "stdout",
     "output_type": "stream",
     "text": [
      "edcba\n"
     ]
    }
   ],
   "source": [
    "# 한번에 쓰기\n",
    "s = 'abcde'\n",
    "x = ''.join(reversed(s))\n",
    "print(x)"
   ]
  },
  {
   "cell_type": "markdown",
   "id": "19786197",
   "metadata": {},
   "source": [
    "# !형 변환"
   ]
  },
  {
   "cell_type": "markdown",
   "id": "48dd2224",
   "metadata": {},
   "source": [
    "### 대소문자 변환\n",
    "    * upper() : 모든 문자열을 대문자로 변환\n",
    "    * lower() : 모든 문자열을 소문자로 변환\n",
    "    * capitalize() : 첫 글자만 대문자로 변환\n",
    "    * 위의 함수들은 1회성 반환이므로, 변수에 다시 넣어 줘야 변환되서 저장됨"
   ]
  },
  {
   "cell_type": "code",
   "execution_count": 1,
   "id": "00a28a84",
   "metadata": {},
   "outputs": [
    {
     "name": "stdout",
     "output_type": "stream",
     "text": [
      "HELLO\n",
      "hello\n",
      "HELLO\n",
      "Hello\n"
     ]
    }
   ],
   "source": [
    "txt1 = \"hello\"\n",
    "\n",
    "# 한번만 변환됨\n",
    "print(txt1.upper())\n",
    "\n",
    "print(txt1)\n",
    "\n",
    "# 변환되어 저장\n",
    "txt1 = txt1.upper()\n",
    "print(txt1)\n",
    "\n",
    "txt2 = txt1.capitalize()\n",
    "print(txt2)\n"
   ]
  },
  {
   "cell_type": "markdown",
   "id": "7dab21ea",
   "metadata": {},
   "source": [
    "* 문자열 -> 숫자(아스키 변환)\n",
    "    * ord() : 아스키 코드의 문자를 해당 코드 숫자로 변경"
   ]
  },
  {
   "cell_type": "code",
   "execution_count": 49,
   "id": "4f57140e",
   "metadata": {},
   "outputs": [
    {
     "data": {
      "text/plain": [
       "65"
      ]
     },
     "execution_count": 49,
     "metadata": {},
     "output_type": "execute_result"
    }
   ],
   "source": [
    "ord('A')"
   ]
  },
  {
   "cell_type": "markdown",
   "id": "32b53bc3",
   "metadata": {},
   "source": [
    "* 숫자 -> 문자열(아스키 변환)\n",
    "    * chr() : 아스키 코드의 숫자를 해당 코드 문자로 변경"
   ]
  },
  {
   "cell_type": "code",
   "execution_count": 52,
   "id": "8b269747",
   "metadata": {},
   "outputs": [
    {
     "data": {
      "text/plain": [
       "'A'"
      ]
     },
     "execution_count": 52,
     "metadata": {},
     "output_type": "execute_result"
    }
   ],
   "source": [
    "chr(65)"
   ]
  },
  {
   "cell_type": "markdown",
   "id": "fe96e1dc",
   "metadata": {},
   "source": [
    "### boolean 변환\n",
    "    * bool() 함수 이용"
   ]
  },
  {
   "cell_type": "markdown",
   "id": "75d20f1b",
   "metadata": {},
   "source": [
    "* 문자열의 요소가 존재하면 True"
   ]
  },
  {
   "cell_type": "code",
   "execution_count": 53,
   "id": "3aaee372",
   "metadata": {},
   "outputs": [
    {
     "data": {
      "text/plain": [
       "True"
      ]
     },
     "execution_count": 53,
     "metadata": {},
     "output_type": "execute_result"
    }
   ],
   "source": [
    "bool('hello')"
   ]
  },
  {
   "cell_type": "markdown",
   "id": "f4dbb5ad",
   "metadata": {},
   "source": [
    "* 문자열이 비어있으면 False"
   ]
  },
  {
   "cell_type": "code",
   "execution_count": 56,
   "id": "cf1b2f04",
   "metadata": {},
   "outputs": [
    {
     "data": {
      "text/plain": [
       "False"
      ]
     },
     "execution_count": 56,
     "metadata": {},
     "output_type": "execute_result"
    }
   ],
   "source": [
    "bool('')"
   ]
  },
  {
   "cell_type": "markdown",
   "id": "91909f5a",
   "metadata": {},
   "source": [
    "### !리스트 변환"
   ]
  },
  {
   "cell_type": "markdown",
   "id": "aefe5c04",
   "metadata": {},
   "source": [
    "### 문자열 -> 리스트 변경 => 문자열.split()\n",
    "    * list(문자열) : 문자 하나하나를 리스트의 요소로 변경\n",
    "    * 문자열.split() : 띄어쓰기를 기준으로 리스트의 요소로 변경"
   ]
  },
  {
   "cell_type": "code",
   "execution_count": 94,
   "id": "2314640f",
   "metadata": {},
   "outputs": [
    {
     "data": {
      "text/plain": [
       "['h', 'e', 'l', 'l', 'o']"
      ]
     },
     "execution_count": 94,
     "metadata": {},
     "output_type": "execute_result"
    }
   ],
   "source": [
    "a = \"hello\"\n",
    "a = list(a)\n",
    "a"
   ]
  },
  {
   "cell_type": "code",
   "execution_count": 91,
   "id": "d7fa5379",
   "metadata": {},
   "outputs": [
    {
     "data": {
      "text/plain": [
       "['My', 'name', 'is', 'sangun']"
      ]
     },
     "execution_count": 91,
     "metadata": {},
     "output_type": "execute_result"
    }
   ],
   "source": [
    "c = \"My name is sangun\"\n",
    "c = c.split()\n",
    "c"
   ]
  },
  {
   "cell_type": "code",
   "execution_count": 22,
   "id": "eecdc748",
   "metadata": {},
   "outputs": [
    {
     "ename": "AttributeError",
     "evalue": "'tuple' object has no attribute 'split'",
     "output_type": "error",
     "traceback": [
      "\u001b[1;31m---------------------------------------------------------------------------\u001b[0m",
      "\u001b[1;31mAttributeError\u001b[0m                            Traceback (most recent call last)",
      "\u001b[1;32m<ipython-input-22-fb524f334bf9>\u001b[0m in \u001b[0;36m<module>\u001b[1;34m\u001b[0m\n\u001b[0;32m      1\u001b[0m \u001b[0mc\u001b[0m \u001b[1;33m=\u001b[0m \u001b[1;33m(\u001b[0m\u001b[1;34m'My'\u001b[0m\u001b[1;33m,\u001b[0m \u001b[1;34m'name'\u001b[0m\u001b[1;33m,\u001b[0m \u001b[1;34m'is'\u001b[0m\u001b[1;33m,\u001b[0m \u001b[1;34m'sangun'\u001b[0m\u001b[1;33m)\u001b[0m\u001b[1;33m\u001b[0m\u001b[1;33m\u001b[0m\u001b[0m\n\u001b[1;32m----> 2\u001b[1;33m \u001b[0mc\u001b[0m \u001b[1;33m=\u001b[0m \u001b[0mc\u001b[0m\u001b[1;33m.\u001b[0m\u001b[0msplit\u001b[0m\u001b[1;33m(\u001b[0m\u001b[1;33m)\u001b[0m\u001b[1;33m\u001b[0m\u001b[1;33m\u001b[0m\u001b[0m\n\u001b[0m\u001b[0;32m      3\u001b[0m \u001b[0mc\u001b[0m\u001b[1;33m\u001b[0m\u001b[1;33m\u001b[0m\u001b[0m\n",
      "\u001b[1;31mAttributeError\u001b[0m: 'tuple' object has no attribute 'split'"
     ]
    }
   ],
   "source": [
    "c = ('My', 'name', 'is', 'sangun')\n",
    "c = c.split() ## 튜플은 안됨\n",
    "c"
   ]
  },
  {
   "cell_type": "markdown",
   "id": "be8f5c3c",
   "metadata": {},
   "source": [
    "### 리스트 -> 문자열 변경 ( ''.join(리스트) ,  str(리스트)아님 주의!!!)\n",
    "\n",
    "### 이 때, 리스트 안에 요소는 모두 str형이어야함, 아닐 경우, ''.join(map(str, 리스트)) 로 변경\n",
    "     * ''.join(반복가능객체)\n",
    "         - 반복가능 객체의 각 요소를 합쳐 문자열을 만들어 반환\n",
    "             반복가능객체(iterable) : 시퀀스 6종 + dict, set\n",
    "         - '' 사이에 요소간 추가 문자를 넣을 수 있음"
   ]
  },
  {
   "cell_type": "code",
   "execution_count": 17,
   "id": "80375c99",
   "metadata": {},
   "outputs": [
    {
     "name": "stdout",
     "output_type": "stream",
     "text": [
      "Help on built-in function join:\n",
      "\n",
      "join(iterable, /) method of builtins.str instance\n",
      "    Concatenate any number of strings.\n",
      "    \n",
      "    The string whose method is called is inserted in between each given string.\n",
      "    The result is returned as a new string.\n",
      "    \n",
      "    Example: '.'.join(['ab', 'pq', 'rs']) -> 'ab.pq.rs'\n",
      "\n"
     ]
    }
   ],
   "source": [
    "help(\"\".join)"
   ]
  },
  {
   "cell_type": "code",
   "execution_count": null,
   "id": "222a1d88",
   "metadata": {},
   "outputs": [],
   "source": [
    "\"\".join"
   ]
  },
  {
   "cell_type": "code",
   "execution_count": null,
   "id": "ddcf361b",
   "metadata": {},
   "outputs": [],
   "source": [
    ".join"
   ]
  },
  {
   "cell_type": "code",
   "execution_count": 8,
   "id": "b7892256",
   "metadata": {},
   "outputs": [
    {
     "name": "stdout",
     "output_type": "stream",
     "text": [
      "hello\n",
      "My name is sangun\n"
     ]
    }
   ],
   "source": [
    "a = ['h', 'e', 'l', 'l', 'o']\n",
    "c = ['My', 'name', 'is', 'sangun']\n",
    "b1 = \"\".join(a)\n",
    "b2 = \" \".join(c)\n",
    "print(b1)\n",
    "print(b2)"
   ]
  },
  {
   "cell_type": "markdown",
   "id": "321bbab7",
   "metadata": {},
   "source": [
    "* 변형(문자열/리스트 요소 사이 다른 문자 집어 넣기)"
   ]
  },
  {
   "cell_type": "code",
   "execution_count": 7,
   "id": "51c80dba",
   "metadata": {},
   "outputs": [
    {
     "data": {
      "text/plain": [
       "'h,,,e,,,l,,,l,,,o'"
      ]
     },
     "execution_count": 7,
     "metadata": {},
     "output_type": "execute_result"
    }
   ],
   "source": [
    "a = \"hello\"\n",
    "b = \",,,\".join(a)\n",
    "b"
   ]
  },
  {
   "cell_type": "markdown",
   "id": "8ddbd899",
   "metadata": {},
   "source": [
    "### !튜플 변환"
   ]
  },
  {
   "cell_type": "markdown",
   "id": "e3edc496",
   "metadata": {},
   "source": [
    "### 문자열 -> 튜플 변경\n",
    "    * tuple(문자열)"
   ]
  },
  {
   "cell_type": "code",
   "execution_count": 78,
   "id": "b1db949f",
   "metadata": {},
   "outputs": [
    {
     "data": {
      "text/plain": [
       "('h', 'e', 'l', 'l', 'o')"
      ]
     },
     "execution_count": 78,
     "metadata": {},
     "output_type": "execute_result"
    }
   ],
   "source": [
    "a = \"hello\"\n",
    "a = tuple(a)\n",
    "a"
   ]
  },
  {
   "cell_type": "markdown",
   "id": "42f29e2f",
   "metadata": {},
   "source": [
    "### 튜플 -> 문자열 변경 (''.join(튜플))\n",
    "     * ''.join(튜플)"
   ]
  },
  {
   "cell_type": "code",
   "execution_count": 80,
   "id": "f1fa48c6",
   "metadata": {},
   "outputs": [
    {
     "data": {
      "text/plain": [
       "'hello'"
      ]
     },
     "execution_count": 80,
     "metadata": {},
     "output_type": "execute_result"
    }
   ],
   "source": [
    "# 위에 코드 실행 후 실행\n",
    "b = \"\".join(a)\n",
    "b"
   ]
  },
  {
   "cell_type": "markdown",
   "id": "47a5e3c9",
   "metadata": {},
   "source": [
    "### bytes 변환"
   ]
  },
  {
   "cell_type": "markdown",
   "id": "e0b00383",
   "metadata": {},
   "source": [
    "### 문자열 -> 바이트 변경\n",
    "    * bytes(문자열, encoding='ascii')\n",
    "    * encoding 옵션은 ascii, utf-8, euc-kr, cp949 등 선택 가능"
   ]
  },
  {
   "cell_type": "code",
   "execution_count": 22,
   "id": "c201e0e8",
   "metadata": {},
   "outputs": [
    {
     "data": {
      "text/plain": [
       "b'hello'"
      ]
     },
     "execution_count": 22,
     "metadata": {},
     "output_type": "execute_result"
    }
   ],
   "source": [
    "a1 = \"hello\"\n",
    "a1 = bytes(a1, encoding = 'ascii')    # encoding 옵션을 지정해주어야 에러가 안남\n",
    "a1"
   ]
  },
  {
   "cell_type": "code",
   "execution_count": 23,
   "id": "95298b02",
   "metadata": {},
   "outputs": [
    {
     "data": {
      "text/plain": [
       "b'hello'"
      ]
     },
     "execution_count": 23,
     "metadata": {},
     "output_type": "execute_result"
    }
   ],
   "source": [
    "a2 = \"hello\"\n",
    "a2 = bytes(a2, encoding = 'utf-8')    # encoding 옵션을 지정해주어야 에러가 안남\n",
    "a2"
   ]
  },
  {
   "cell_type": "code",
   "execution_count": 24,
   "id": "13d830cb",
   "metadata": {},
   "outputs": [
    {
     "data": {
      "text/plain": [
       "b'hello'"
      ]
     },
     "execution_count": 24,
     "metadata": {},
     "output_type": "execute_result"
    }
   ],
   "source": [
    "a3 = \"hello\"\n",
    "a3 = bytes(a3, encoding = 'euc-kr')    # encoding 옵션을 지정해주어야 에러가 안남\n",
    "a3"
   ]
  },
  {
   "cell_type": "code",
   "execution_count": 25,
   "id": "72e51156",
   "metadata": {},
   "outputs": [
    {
     "data": {
      "text/plain": [
       "b'hello'"
      ]
     },
     "execution_count": 25,
     "metadata": {},
     "output_type": "execute_result"
    }
   ],
   "source": [
    "a4 = \"hello\"\n",
    "a4 = bytes(a4, encoding = 'cp949')    # encoding 옵션을 지정해주어야 에러가 안남\n",
    "a4"
   ]
  },
  {
   "cell_type": "markdown",
   "id": "05c426ee",
   "metadata": {},
   "source": [
    "=> 4가지 모두 인코딩 방식이 달라도, ascii 범위(0~127)내에 있는 알파벳은 같은 값으로 인코딩됨"
   ]
  },
  {
   "cell_type": "code",
   "execution_count": 103,
   "id": "aa43b759",
   "metadata": {},
   "outputs": [
    {
     "data": {
      "text/plain": [
       "b'hello'"
      ]
     },
     "execution_count": 103,
     "metadata": {},
     "output_type": "execute_result"
    }
   ],
   "source": [
    "# 방법2 (문자열을 변수형태가 아니라 직접 b''안에 적어주어야 함)\n",
    "a = b\"hello\"\n",
    "a"
   ]
  },
  {
   "cell_type": "markdown",
   "id": "f94a3a6e",
   "metadata": {},
   "source": [
    "### 바이트 -> 문자열 변경\n",
    "    * 변수 = 바이트.decode('인코딩방식')"
   ]
  },
  {
   "cell_type": "code",
   "execution_count": 28,
   "id": "5a7cb486",
   "metadata": {},
   "outputs": [
    {
     "data": {
      "text/plain": [
       "'hello'"
      ]
     },
     "execution_count": 28,
     "metadata": {},
     "output_type": "execute_result"
    }
   ],
   "source": [
    "a = b\"hello\"\n",
    "a = a.decode()\n",
    "a"
   ]
  },
  {
   "cell_type": "markdown",
   "id": "f6beff70",
   "metadata": {},
   "source": [
    "여기부터 추가 작성\n",
    "https://dojang.io/mod/page/view.php?id=2462\n"
   ]
  },
  {
   "cell_type": "code",
   "execution_count": 29,
   "id": "1809b90c",
   "metadata": {},
   "outputs": [
    {
     "data": {
      "text/plain": [
       "b'\\xbe\\xc8\\xb3\\xe7'"
      ]
     },
     "execution_count": 29,
     "metadata": {},
     "output_type": "execute_result"
    }
   ],
   "source": [
    "a5 = \"안녕\"\n",
    "a5 = bytes(a5, encoding = 'cp949')\n",
    "a5"
   ]
  },
  {
   "cell_type": "code",
   "execution_count": 31,
   "id": "9c6d98a6",
   "metadata": {},
   "outputs": [
    {
     "data": {
      "text/plain": [
       "'안녕'"
      ]
     },
     "execution_count": 31,
     "metadata": {},
     "output_type": "execute_result"
    }
   ],
   "source": [
    "a5 = a5.decode('cp949')\n",
    "a5"
   ]
  },
  {
   "cell_type": "markdown",
   "id": "925759a5",
   "metadata": {},
   "source": [
    "### bytearray 변환\n",
    "    * bytearray는 bytes의 변경가능(mutable) 버전"
   ]
  },
  {
   "cell_type": "markdown",
   "id": "4f9f0db5",
   "metadata": {},
   "source": [
    "### 문자열 -> 바이트배열 변경\n",
    "    * bytearray(문자열, encoding='ascii')\n",
    "    * encoding 옵션은 ascii, utf-8, euc-kr, cp949 등 선택 가능"
   ]
  },
  {
   "cell_type": "code",
   "execution_count": 32,
   "id": "da53126b",
   "metadata": {},
   "outputs": [
    {
     "data": {
      "text/plain": [
       "bytearray(b'\\xbe\\xc8\\xb3\\xe7')"
      ]
     },
     "execution_count": 32,
     "metadata": {},
     "output_type": "execute_result"
    }
   ],
   "source": [
    "bytearray(\"안녕\", encoding='euc-kr')"
   ]
  },
  {
   "cell_type": "markdown",
   "id": "4976e1d1",
   "metadata": {},
   "source": [
    "### 바이트배열 => 문자열 변경\n",
    "    * 바이트와 동일\n",
    "    * 변수 = 바이트배열.decode('인코딩방식')"
   ]
  },
  {
   "cell_type": "code",
   "execution_count": 33,
   "id": "70975388",
   "metadata": {},
   "outputs": [
    {
     "data": {
      "text/plain": [
       "'안녕'"
      ]
     },
     "execution_count": 33,
     "metadata": {},
     "output_type": "execute_result"
    }
   ],
   "source": [
    "a = bytearray(\"안녕\", encoding='euc-kr')\n",
    "a = a.decode('euc-kr')\n",
    "a"
   ]
  },
  {
   "cell_type": "markdown",
   "id": "b43d3353",
   "metadata": {},
   "source": [
    "### 세트 변환"
   ]
  },
  {
   "cell_type": "markdown",
   "id": "a835d5d1",
   "metadata": {},
   "source": [
    "### 문자열 -> 세트 변경\n",
    "    * set(문자열)"
   ]
  },
  {
   "cell_type": "code",
   "execution_count": 76,
   "id": "a49c396a",
   "metadata": {},
   "outputs": [
    {
     "data": {
      "text/plain": [
       "{'e', 'h', 'l', 'o'}"
      ]
     },
     "execution_count": 76,
     "metadata": {},
     "output_type": "execute_result"
    }
   ],
   "source": [
    "a = \"hello\"\n",
    "a = set(a)\n",
    "a"
   ]
  },
  {
   "cell_type": "markdown",
   "id": "1090192a",
   "metadata": {},
   "source": [
    "### 세트 -> 문자열 변경\n",
    "     * ''.join(세트)    (!!! 문자 순서가 바뀜에 주의 !!!)"
   ]
  },
  {
   "cell_type": "code",
   "execution_count": 77,
   "id": "2132c1c7",
   "metadata": {},
   "outputs": [
    {
     "data": {
      "text/plain": [
       "'oehl'"
      ]
     },
     "execution_count": 77,
     "metadata": {},
     "output_type": "execute_result"
    }
   ],
   "source": [
    "# 위에 코드 실행 후 실행\n",
    "b = \"\".join(a)\n",
    "b"
   ]
  },
  {
   "cell_type": "markdown",
   "id": "a9fb0540",
   "metadata": {},
   "source": [
    "### 딕셔너리 변환"
   ]
  },
  {
   "cell_type": "markdown",
   "id": "3d1893ef",
   "metadata": {},
   "source": [
    "### 문자열 -> 딕셔너리 변환\n",
    "    * enumerate()를 이용해서 문자와 인덱스를 각각 키와 값으로 설정 가능"
   ]
  },
  {
   "cell_type": "code",
   "execution_count": 60,
   "id": "b29b66c9",
   "metadata": {},
   "outputs": [
    {
     "name": "stdout",
     "output_type": "stream",
     "text": [
      "{0: 'h', 1: 'e', 2: 'l', 3: 'l', 4: 'o'}\n",
      "{'h': 0, 'e': 1, 'l': 3, 'o': 4}\n"
     ]
    }
   ],
   "source": [
    "a = \"hello\"\n",
    "dict_a = dict()\n",
    "dict_a2 = dict()\n",
    "\n",
    "for k, v in enumerate(a):\n",
    "    dict_a[k] = v    # 인덱스를 키로 문자를 값으로 설정\n",
    "\n",
    "for k, v in enumerate(a):\n",
    "    dict_a2[v] = k    # 문자를 키로 인덱스를 값으로 설정\n",
    "    \n",
    "print(dict_a)\n",
    "print(dict_a2)    # 키는 유일해야 하므로, 키 'ㅣ'에 대해서는 \n",
    "                  # 첫 인덱스 2는 나중 값인 3으로 덮어써짐"
   ]
  },
  {
   "cell_type": "markdown",
   "id": "c2326ec8",
   "metadata": {},
   "source": [
    "* 띄어쓰기로 이루어진 문자열을 단어별로 딕셔너리 변환"
   ]
  },
  {
   "cell_type": "code",
   "execution_count": 66,
   "id": "f4f4f4af",
   "metadata": {},
   "outputs": [
    {
     "name": "stdout",
     "output_type": "stream",
     "text": [
      "{0: 'my', 1: 'name', 2: 'is', 3: 'sangun'}\n"
     ]
    }
   ],
   "source": [
    "b = \"my name is sangun\"\n",
    "\n",
    "for k, v in enumerate(b.split()):\n",
    "    dict_b[k] = v\n",
    "    \n",
    "print(dict_b)"
   ]
  },
  {
   "cell_type": "markdown",
   "id": "af7e10b1",
   "metadata": {},
   "source": [
    " * 딕셔너리 정의 코드가 문자열로 되어 있을때 딕셔너리로 변경\n",
    " * 엄밀히 말하면 문자열 된 코드를 적용시키는 것\n",
    "     - eval(문자열)"
   ]
  },
  {
   "cell_type": "code",
   "execution_count": 39,
   "id": "bd4782d7",
   "metadata": {},
   "outputs": [
    {
     "name": "stdout",
     "output_type": "stream",
     "text": [
      "{'red':['apple', 'strawberry'], 'yellow':['banana', 'lemon']}\n",
      "{'red': ['apple', 'strawberry'], 'yellow': ['banana', 'lemon']}\n",
      "<class 'dict'>\n"
     ]
    }
   ],
   "source": [
    "x = \"{'red':['apple', 'strawberry'], 'yellow':['banana', 'lemon']}\"\n",
    "print(x)\n",
    "\n",
    "dict_x = eval(x)\n",
    "print(dict_x)\n",
    "print(type(dict_x))"
   ]
  },
  {
   "cell_type": "markdown",
   "id": "45a58935",
   "metadata": {},
   "source": [
    "* literal_eval() : eval과 동일한 기능\n",
    "    * 보안 상 더 좋다고 함\n",
    "    * eval, literal_eval 둘의 차이 : https://bluese05.tistory.com/65"
   ]
  },
  {
   "cell_type": "code",
   "execution_count": 38,
   "id": "0d408759",
   "metadata": {},
   "outputs": [
    {
     "name": "stdout",
     "output_type": "stream",
     "text": [
      "{'red':['apple', 'strawberry'], 'yellow':['banana', 'lemon']}\n",
      "{'red': ['apple', 'strawberry'], 'yellow': ['banana', 'lemon']}\n",
      "<class 'dict'>\n"
     ]
    }
   ],
   "source": [
    "from ast import literal_eval\n",
    "\n",
    "x = \"{'red':['apple', 'strawberry'], 'yellow':['banana', 'lemon']}\"\n",
    "print(x)\n",
    "\n",
    "dict_x = literal_eval(x)\n",
    "print(dict_x)\n",
    "print(type(dict_x))"
   ]
  },
  {
   "cell_type": "markdown",
   "id": "cbddcd6c",
   "metadata": {},
   "source": [
    "### 딕셔너리 -> 문자열 변환\n",
    "    * 딕셔너리.items()를 이용해서 key와 value를 가져올 수 있음"
   ]
  },
  {
   "cell_type": "code",
   "execution_count": 68,
   "id": "7a328774",
   "metadata": {},
   "outputs": [
    {
     "name": "stdout",
     "output_type": "stream",
     "text": [
      "0 my\n",
      "1 name\n",
      "2 is\n",
      "3 sangun\n"
     ]
    }
   ],
   "source": [
    "a = {0: 'my', 1: 'name', 2: 'is', 3: 'sangun'}\n",
    "\n",
    "for k, v in a.items():\n",
    "    print(k,v)"
   ]
  },
  {
   "cell_type": "markdown",
   "id": "786cabb8",
   "metadata": {},
   "source": [
    " * 키를 문자열로 가져오기"
   ]
  },
  {
   "cell_type": "code",
   "execution_count": 69,
   "id": "ad4525c6",
   "metadata": {},
   "outputs": [
    {
     "name": "stdout",
     "output_type": "stream",
     "text": [
      "0123\n"
     ]
    }
   ],
   "source": [
    "a = {0: 'my', 1: 'name', 2: 'is', 3: 'sangun'}\n",
    "txt = ''\n",
    "\n",
    "for k, v in a.items():\n",
    "    txt += str(k)\n",
    "    \n",
    "print(txt)"
   ]
  },
  {
   "cell_type": "markdown",
   "id": "3234215e",
   "metadata": {},
   "source": [
    " * key가 문자열 이라면, ''.join(a) 가능"
   ]
  },
  {
   "cell_type": "code",
   "execution_count": 51,
   "id": "46c14ccf",
   "metadata": {},
   "outputs": [
    {
     "data": {
      "text/plain": [
       "'0123'"
      ]
     },
     "execution_count": 51,
     "metadata": {},
     "output_type": "execute_result"
    }
   ],
   "source": [
    "a = {'0': 'my', '1': 'name', '2': 'is', '3': 'sangun'}\n",
    "\n",
    "''.join(a)"
   ]
  },
  {
   "cell_type": "code",
   "execution_count": 65,
   "id": "bc6f4d18",
   "metadata": {},
   "outputs": [
    {
     "data": {
      "text/plain": [
       "'0123'"
      ]
     },
     "execution_count": 65,
     "metadata": {},
     "output_type": "execute_result"
    }
   ],
   "source": [
    "# 사실 문자열 아니어도 map으로 문자열 바꿔서 변경할 수 있음\n",
    "\n",
    "\n",
    "a = {0: 'my', 1: 'name', 2: 'is', 3: 'sangun'}\n",
    "\n",
    "''.join(map(str, a))"
   ]
  },
  {
   "cell_type": "markdown",
   "id": "d58a604b",
   "metadata": {},
   "source": [
    " * 값을 문자열로 가져오기(방법1)"
   ]
  },
  {
   "cell_type": "code",
   "execution_count": 70,
   "id": "1fefe9a7",
   "metadata": {},
   "outputs": [
    {
     "name": "stdout",
     "output_type": "stream",
     "text": [
      "mynameissangun\n"
     ]
    }
   ],
   "source": [
    "a = {0: 'my', 1: 'name', 2: 'is', 3: 'sangun'}\n",
    "txt = ''\n",
    "\n",
    "for k, v in a.items():\n",
    "    txt += str(v)\n",
    "    \n",
    "print(txt)"
   ]
  },
  {
   "cell_type": "markdown",
   "id": "d35014b9",
   "metadata": {},
   "source": [
    "* 값을 문자열로 가져오기(방법2)"
   ]
  },
  {
   "cell_type": "code",
   "execution_count": 54,
   "id": "2494a4ef",
   "metadata": {},
   "outputs": [
    {
     "name": "stdout",
     "output_type": "stream",
     "text": [
      "mynameissangun\n",
      "my name is sangun\n"
     ]
    }
   ],
   "source": [
    "a = {0: 'my', 1: 'name', 2: 'is', 3: 'sangun'}\n",
    "\n",
    "print(''.join(a.values()))\n",
    "print(' '.join(a.values()))"
   ]
  },
  {
   "cell_type": "markdown",
   "id": "823ce300",
   "metadata": {},
   "source": [
    "-----------------------------------------------------------"
   ]
  },
  {
   "cell_type": "code",
   "execution_count": 72,
   "id": "cb6f567e",
   "metadata": {},
   "outputs": [
    {
     "data": {
      "text/plain": [
       "['__add__',\n",
       " '__class__',\n",
       " '__contains__',\n",
       " '__delattr__',\n",
       " '__dir__',\n",
       " '__doc__',\n",
       " '__eq__',\n",
       " '__format__',\n",
       " '__ge__',\n",
       " '__getattribute__',\n",
       " '__getitem__',\n",
       " '__getnewargs__',\n",
       " '__gt__',\n",
       " '__hash__',\n",
       " '__init__',\n",
       " '__init_subclass__',\n",
       " '__iter__',\n",
       " '__le__',\n",
       " '__len__',\n",
       " '__lt__',\n",
       " '__mod__',\n",
       " '__mul__',\n",
       " '__ne__',\n",
       " '__new__',\n",
       " '__reduce__',\n",
       " '__reduce_ex__',\n",
       " '__repr__',\n",
       " '__rmod__',\n",
       " '__rmul__',\n",
       " '__setattr__',\n",
       " '__sizeof__',\n",
       " '__str__',\n",
       " '__subclasshook__',\n",
       " 'capitalize',\n",
       " 'casefold',\n",
       " 'center',\n",
       " 'count',\n",
       " 'encode',\n",
       " 'endswith',\n",
       " 'expandtabs',\n",
       " 'find',\n",
       " 'format',\n",
       " 'format_map',\n",
       " 'index',\n",
       " 'isalnum',\n",
       " 'isalpha',\n",
       " 'isascii',\n",
       " 'isdecimal',\n",
       " 'isdigit',\n",
       " 'isidentifier',\n",
       " 'islower',\n",
       " 'isnumeric',\n",
       " 'isprintable',\n",
       " 'isspace',\n",
       " 'istitle',\n",
       " 'isupper',\n",
       " 'join',\n",
       " 'ljust',\n",
       " 'lower',\n",
       " 'lstrip',\n",
       " 'maketrans',\n",
       " 'partition',\n",
       " 'replace',\n",
       " 'rfind',\n",
       " 'rindex',\n",
       " 'rjust',\n",
       " 'rpartition',\n",
       " 'rsplit',\n",
       " 'rstrip',\n",
       " 'split',\n",
       " 'splitlines',\n",
       " 'startswith',\n",
       " 'strip',\n",
       " 'swapcase',\n",
       " 'title',\n",
       " 'translate',\n",
       " 'upper',\n",
       " 'zfill']"
      ]
     },
     "execution_count": 72,
     "metadata": {},
     "output_type": "execute_result"
    }
   ],
   "source": [
    "dir(\"\")"
   ]
  },
  {
   "cell_type": "code",
   "execution_count": 71,
   "id": "b3b48603",
   "metadata": {},
   "outputs": [
    {
     "name": "stdout",
     "output_type": "stream",
     "text": [
      "Help on class str in module builtins:\n",
      "\n",
      "class str(object)\n",
      " |  str(object='') -> str\n",
      " |  str(bytes_or_buffer[, encoding[, errors]]) -> str\n",
      " |  \n",
      " |  Create a new string object from the given object. If encoding or\n",
      " |  errors is specified, then the object must expose a data buffer\n",
      " |  that will be decoded using the given encoding and error handler.\n",
      " |  Otherwise, returns the result of object.__str__() (if defined)\n",
      " |  or repr(object).\n",
      " |  encoding defaults to sys.getdefaultencoding().\n",
      " |  errors defaults to 'strict'.\n",
      " |  \n",
      " |  Methods defined here:\n",
      " |  \n",
      " |  __add__(self, value, /)\n",
      " |      Return self+value.\n",
      " |  \n",
      " |  __contains__(self, key, /)\n",
      " |      Return key in self.\n",
      " |  \n",
      " |  __eq__(self, value, /)\n",
      " |      Return self==value.\n",
      " |  \n",
      " |  __format__(self, format_spec, /)\n",
      " |      Return a formatted version of the string as described by format_spec.\n",
      " |  \n",
      " |  __ge__(self, value, /)\n",
      " |      Return self>=value.\n",
      " |  \n",
      " |  __getattribute__(self, name, /)\n",
      " |      Return getattr(self, name).\n",
      " |  \n",
      " |  __getitem__(self, key, /)\n",
      " |      Return self[key].\n",
      " |  \n",
      " |  __getnewargs__(...)\n",
      " |  \n",
      " |  __gt__(self, value, /)\n",
      " |      Return self>value.\n",
      " |  \n",
      " |  __hash__(self, /)\n",
      " |      Return hash(self).\n",
      " |  \n",
      " |  __iter__(self, /)\n",
      " |      Implement iter(self).\n",
      " |  \n",
      " |  __le__(self, value, /)\n",
      " |      Return self<=value.\n",
      " |  \n",
      " |  __len__(self, /)\n",
      " |      Return len(self).\n",
      " |  \n",
      " |  __lt__(self, value, /)\n",
      " |      Return self<value.\n",
      " |  \n",
      " |  __mod__(self, value, /)\n",
      " |      Return self%value.\n",
      " |  \n",
      " |  __mul__(self, value, /)\n",
      " |      Return self*value.\n",
      " |  \n",
      " |  __ne__(self, value, /)\n",
      " |      Return self!=value.\n",
      " |  \n",
      " |  __repr__(self, /)\n",
      " |      Return repr(self).\n",
      " |  \n",
      " |  __rmod__(self, value, /)\n",
      " |      Return value%self.\n",
      " |  \n",
      " |  __rmul__(self, value, /)\n",
      " |      Return value*self.\n",
      " |  \n",
      " |  __sizeof__(self, /)\n",
      " |      Return the size of the string in memory, in bytes.\n",
      " |  \n",
      " |  __str__(self, /)\n",
      " |      Return str(self).\n",
      " |  \n",
      " |  capitalize(self, /)\n",
      " |      Return a capitalized version of the string.\n",
      " |      \n",
      " |      More specifically, make the first character have upper case and the rest lower\n",
      " |      case.\n",
      " |  \n",
      " |  casefold(self, /)\n",
      " |      Return a version of the string suitable for caseless comparisons.\n",
      " |  \n",
      " |  center(self, width, fillchar=' ', /)\n",
      " |      Return a centered string of length width.\n",
      " |      \n",
      " |      Padding is done using the specified fill character (default is a space).\n",
      " |  \n",
      " |  count(...)\n",
      " |      S.count(sub[, start[, end]]) -> int\n",
      " |      \n",
      " |      Return the number of non-overlapping occurrences of substring sub in\n",
      " |      string S[start:end].  Optional arguments start and end are\n",
      " |      interpreted as in slice notation.\n",
      " |  \n",
      " |  encode(self, /, encoding='utf-8', errors='strict')\n",
      " |      Encode the string using the codec registered for encoding.\n",
      " |      \n",
      " |      encoding\n",
      " |        The encoding in which to encode the string.\n",
      " |      errors\n",
      " |        The error handling scheme to use for encoding errors.\n",
      " |        The default is 'strict' meaning that encoding errors raise a\n",
      " |        UnicodeEncodeError.  Other possible values are 'ignore', 'replace' and\n",
      " |        'xmlcharrefreplace' as well as any other name registered with\n",
      " |        codecs.register_error that can handle UnicodeEncodeErrors.\n",
      " |  \n",
      " |  endswith(...)\n",
      " |      S.endswith(suffix[, start[, end]]) -> bool\n",
      " |      \n",
      " |      Return True if S ends with the specified suffix, False otherwise.\n",
      " |      With optional start, test S beginning at that position.\n",
      " |      With optional end, stop comparing S at that position.\n",
      " |      suffix can also be a tuple of strings to try.\n",
      " |  \n",
      " |  expandtabs(self, /, tabsize=8)\n",
      " |      Return a copy where all tab characters are expanded using spaces.\n",
      " |      \n",
      " |      If tabsize is not given, a tab size of 8 characters is assumed.\n",
      " |  \n",
      " |  find(...)\n",
      " |      S.find(sub[, start[, end]]) -> int\n",
      " |      \n",
      " |      Return the lowest index in S where substring sub is found,\n",
      " |      such that sub is contained within S[start:end].  Optional\n",
      " |      arguments start and end are interpreted as in slice notation.\n",
      " |      \n",
      " |      Return -1 on failure.\n",
      " |  \n",
      " |  format(...)\n",
      " |      S.format(*args, **kwargs) -> str\n",
      " |      \n",
      " |      Return a formatted version of S, using substitutions from args and kwargs.\n",
      " |      The substitutions are identified by braces ('{' and '}').\n",
      " |  \n",
      " |  format_map(...)\n",
      " |      S.format_map(mapping) -> str\n",
      " |      \n",
      " |      Return a formatted version of S, using substitutions from mapping.\n",
      " |      The substitutions are identified by braces ('{' and '}').\n",
      " |  \n",
      " |  index(...)\n",
      " |      S.index(sub[, start[, end]]) -> int\n",
      " |      \n",
      " |      Return the lowest index in S where substring sub is found,\n",
      " |      such that sub is contained within S[start:end].  Optional\n",
      " |      arguments start and end are interpreted as in slice notation.\n",
      " |      \n",
      " |      Raises ValueError when the substring is not found.\n",
      " |  \n",
      " |  isalnum(self, /)\n",
      " |      Return True if the string is an alpha-numeric string, False otherwise.\n",
      " |      \n",
      " |      A string is alpha-numeric if all characters in the string are alpha-numeric and\n",
      " |      there is at least one character in the string.\n",
      " |  \n",
      " |  isalpha(self, /)\n",
      " |      Return True if the string is an alphabetic string, False otherwise.\n",
      " |      \n",
      " |      A string is alphabetic if all characters in the string are alphabetic and there\n",
      " |      is at least one character in the string.\n",
      " |  \n",
      " |  isascii(self, /)\n",
      " |      Return True if all characters in the string are ASCII, False otherwise.\n",
      " |      \n",
      " |      ASCII characters have code points in the range U+0000-U+007F.\n",
      " |      Empty string is ASCII too.\n",
      " |  \n",
      " |  isdecimal(self, /)\n",
      " |      Return True if the string is a decimal string, False otherwise.\n",
      " |      \n",
      " |      A string is a decimal string if all characters in the string are decimal and\n",
      " |      there is at least one character in the string.\n",
      " |  \n",
      " |  isdigit(self, /)\n",
      " |      Return True if the string is a digit string, False otherwise.\n",
      " |      \n",
      " |      A string is a digit string if all characters in the string are digits and there\n",
      " |      is at least one character in the string.\n",
      " |  \n",
      " |  isidentifier(self, /)\n",
      " |      Return True if the string is a valid Python identifier, False otherwise.\n",
      " |      \n",
      " |      Call keyword.iskeyword(s) to test whether string s is a reserved identifier,\n",
      " |      such as \"def\" or \"class\".\n",
      " |  \n",
      " |  islower(self, /)\n",
      " |      Return True if the string is a lowercase string, False otherwise.\n",
      " |      \n",
      " |      A string is lowercase if all cased characters in the string are lowercase and\n",
      " |      there is at least one cased character in the string.\n",
      " |  \n",
      " |  isnumeric(self, /)\n",
      " |      Return True if the string is a numeric string, False otherwise.\n",
      " |      \n",
      " |      A string is numeric if all characters in the string are numeric and there is at\n",
      " |      least one character in the string.\n",
      " |  \n",
      " |  isprintable(self, /)\n",
      " |      Return True if the string is printable, False otherwise.\n",
      " |      \n",
      " |      A string is printable if all of its characters are considered printable in\n",
      " |      repr() or if it is empty.\n",
      " |  \n",
      " |  isspace(self, /)\n",
      " |      Return True if the string is a whitespace string, False otherwise.\n",
      " |      \n",
      " |      A string is whitespace if all characters in the string are whitespace and there\n",
      " |      is at least one character in the string.\n",
      " |  \n",
      " |  istitle(self, /)\n",
      " |      Return True if the string is a title-cased string, False otherwise.\n",
      " |      \n",
      " |      In a title-cased string, upper- and title-case characters may only\n",
      " |      follow uncased characters and lowercase characters only cased ones.\n",
      " |  \n",
      " |  isupper(self, /)\n",
      " |      Return True if the string is an uppercase string, False otherwise.\n",
      " |      \n",
      " |      A string is uppercase if all cased characters in the string are uppercase and\n",
      " |      there is at least one cased character in the string.\n",
      " |  \n",
      " |  join(self, iterable, /)\n",
      " |      Concatenate any number of strings.\n",
      " |      \n",
      " |      The string whose method is called is inserted in between each given string.\n",
      " |      The result is returned as a new string.\n",
      " |      \n",
      " |      Example: '.'.join(['ab', 'pq', 'rs']) -> 'ab.pq.rs'\n",
      " |  \n",
      " |  ljust(self, width, fillchar=' ', /)\n",
      " |      Return a left-justified string of length width.\n",
      " |      \n",
      " |      Padding is done using the specified fill character (default is a space).\n",
      " |  \n",
      " |  lower(self, /)\n",
      " |      Return a copy of the string converted to lowercase.\n",
      " |  \n",
      " |  lstrip(self, chars=None, /)\n",
      " |      Return a copy of the string with leading whitespace removed.\n",
      " |      \n",
      " |      If chars is given and not None, remove characters in chars instead.\n",
      " |  \n",
      " |  partition(self, sep, /)\n",
      " |      Partition the string into three parts using the given separator.\n",
      " |      \n",
      " |      This will search for the separator in the string.  If the separator is found,\n",
      " |      returns a 3-tuple containing the part before the separator, the separator\n",
      " |      itself, and the part after it.\n",
      " |      \n",
      " |      If the separator is not found, returns a 3-tuple containing the original string\n",
      " |      and two empty strings.\n",
      " |  \n",
      " |  replace(self, old, new, count=-1, /)\n",
      " |      Return a copy with all occurrences of substring old replaced by new.\n",
      " |      \n",
      " |        count\n",
      " |          Maximum number of occurrences to replace.\n",
      " |          -1 (the default value) means replace all occurrences.\n",
      " |      \n",
      " |      If the optional argument count is given, only the first count occurrences are\n",
      " |      replaced.\n",
      " |  \n",
      " |  rfind(...)\n",
      " |      S.rfind(sub[, start[, end]]) -> int\n",
      " |      \n",
      " |      Return the highest index in S where substring sub is found,\n",
      " |      such that sub is contained within S[start:end].  Optional\n",
      " |      arguments start and end are interpreted as in slice notation.\n",
      " |      \n",
      " |      Return -1 on failure.\n",
      " |  \n",
      " |  rindex(...)\n",
      " |      S.rindex(sub[, start[, end]]) -> int\n",
      " |      \n",
      " |      Return the highest index in S where substring sub is found,\n",
      " |      such that sub is contained within S[start:end].  Optional\n",
      " |      arguments start and end are interpreted as in slice notation.\n",
      " |      \n",
      " |      Raises ValueError when the substring is not found.\n",
      " |  \n",
      " |  rjust(self, width, fillchar=' ', /)\n",
      " |      Return a right-justified string of length width.\n",
      " |      \n",
      " |      Padding is done using the specified fill character (default is a space).\n",
      " |  \n",
      " |  rpartition(self, sep, /)\n",
      " |      Partition the string into three parts using the given separator.\n",
      " |      \n",
      " |      This will search for the separator in the string, starting at the end. If\n",
      " |      the separator is found, returns a 3-tuple containing the part before the\n",
      " |      separator, the separator itself, and the part after it.\n",
      " |      \n",
      " |      If the separator is not found, returns a 3-tuple containing two empty strings\n",
      " |      and the original string.\n",
      " |  \n",
      " |  rsplit(self, /, sep=None, maxsplit=-1)\n",
      " |      Return a list of the words in the string, using sep as the delimiter string.\n",
      " |      \n",
      " |        sep\n",
      " |          The delimiter according which to split the string.\n",
      " |          None (the default value) means split according to any whitespace,\n",
      " |          and discard empty strings from the result.\n",
      " |        maxsplit\n",
      " |          Maximum number of splits to do.\n",
      " |          -1 (the default value) means no limit.\n",
      " |      \n",
      " |      Splits are done starting at the end of the string and working to the front.\n",
      " |  \n",
      " |  rstrip(self, chars=None, /)\n",
      " |      Return a copy of the string with trailing whitespace removed.\n",
      " |      \n",
      " |      If chars is given and not None, remove characters in chars instead.\n",
      " |  \n",
      " |  split(self, /, sep=None, maxsplit=-1)\n",
      " |      Return a list of the words in the string, using sep as the delimiter string.\n",
      " |      \n",
      " |      sep\n",
      " |        The delimiter according which to split the string.\n",
      " |        None (the default value) means split according to any whitespace,\n",
      " |        and discard empty strings from the result.\n",
      " |      maxsplit\n",
      " |        Maximum number of splits to do.\n",
      " |        -1 (the default value) means no limit.\n",
      " |  \n",
      " |  splitlines(self, /, keepends=False)\n",
      " |      Return a list of the lines in the string, breaking at line boundaries.\n",
      " |      \n",
      " |      Line breaks are not included in the resulting list unless keepends is given and\n",
      " |      true.\n",
      " |  \n",
      " |  startswith(...)\n",
      " |      S.startswith(prefix[, start[, end]]) -> bool\n",
      " |      \n",
      " |      Return True if S starts with the specified prefix, False otherwise.\n",
      " |      With optional start, test S beginning at that position.\n",
      " |      With optional end, stop comparing S at that position.\n",
      " |      prefix can also be a tuple of strings to try.\n",
      " |  \n",
      " |  strip(self, chars=None, /)\n",
      " |      Return a copy of the string with leading and trailing whitespace removed.\n",
      " |      \n",
      " |      If chars is given and not None, remove characters in chars instead.\n",
      " |  \n",
      " |  swapcase(self, /)\n",
      " |      Convert uppercase characters to lowercase and lowercase characters to uppercase.\n",
      " |  \n",
      " |  title(self, /)\n",
      " |      Return a version of the string where each word is titlecased.\n",
      " |      \n",
      " |      More specifically, words start with uppercased characters and all remaining\n",
      " |      cased characters have lower case.\n",
      " |  \n",
      " |  translate(self, table, /)\n",
      " |      Replace each character in the string using the given translation table.\n",
      " |      \n",
      " |        table\n",
      " |          Translation table, which must be a mapping of Unicode ordinals to\n",
      " |          Unicode ordinals, strings, or None.\n",
      " |      \n",
      " |      The table must implement lookup/indexing via __getitem__, for instance a\n",
      " |      dictionary or list.  If this operation raises LookupError, the character is\n",
      " |      left untouched.  Characters mapped to None are deleted.\n",
      " |  \n",
      " |  upper(self, /)\n",
      " |      Return a copy of the string converted to uppercase.\n",
      " |  \n",
      " |  zfill(self, width, /)\n",
      " |      Pad a numeric string with zeros on the left, to fill a field of the given width.\n",
      " |      \n",
      " |      The string is never truncated.\n",
      " |  \n",
      " |  ----------------------------------------------------------------------\n",
      " |  Static methods defined here:\n",
      " |  \n",
      " |  __new__(*args, **kwargs) from builtins.type\n",
      " |      Create and return a new object.  See help(type) for accurate signature.\n",
      " |  \n",
      " |  maketrans(...)\n",
      " |      Return a translation table usable for str.translate().\n",
      " |      \n",
      " |      If there is only one argument, it must be a dictionary mapping Unicode\n",
      " |      ordinals (integers) or characters to Unicode ordinals, strings or None.\n",
      " |      Character keys will be then converted to ordinals.\n",
      " |      If there are two arguments, they must be strings of equal length, and\n",
      " |      in the resulting dictionary, each character in x will be mapped to the\n",
      " |      character at the same position in y. If there is a third argument, it\n",
      " |      must be a string, whose characters will be mapped to None in the result.\n",
      "\n"
     ]
    }
   ],
   "source": [
    "help(\"\")"
   ]
  }
 ],
 "metadata": {
  "kernelspec": {
   "display_name": "Python 3",
   "language": "python",
   "name": "python3"
  },
  "language_info": {
   "codemirror_mode": {
    "name": "ipython",
    "version": 3
   },
   "file_extension": ".py",
   "mimetype": "text/x-python",
   "name": "python",
   "nbconvert_exporter": "python",
   "pygments_lexer": "ipython3",
   "version": "3.8.8"
  }
 },
 "nbformat": 4,
 "nbformat_minor": 5
}
