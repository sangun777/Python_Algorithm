{
 "cells": [
  {
   "cell_type": "markdown",
   "metadata": {},
   "source": [
    "# sort, sorted, sort(reverse=True), reverse, reversed의 비교\n",
    "\n",
    "## 사용 형태\n",
    "\n",
    "### 리스트.sort() : 정렬\n",
    "    1. 원본을 바꾼다\n",
    "    2. 반환 값은 None 이다.\n",
    "    3. 문자열은 못 쓴다\n",
    "    \n",
    "\n",
    "### 객체명 = sorted(리스트)\n",
    "    1. 원본 유지\n",
    "    2. 리스트형으로 반환\n",
    "    3. 리스트, 문자열도 수행 가능(문자열 => 리스트로 변환하여 반환)\n",
    "    \n",
    "### 리스트.reverse() : 뒤집기(정렬은 안하고 뒤집기만 함, 뒤집어 정렬(내림차순)과 다름)\n",
    "    1. 원본을 바꾼다.\n",
    "    2. 반환 값은 None이다.\n",
    "    3. 문자열은 못 쓴다.\n",
    "    \n",
    "### 객체명 = reversed(리스트 or 문자열)\n",
    "    1. 원본 유지\n",
    "    2. reversed 객체(이터레이터)로 반환\n",
    "    3. 문자열, 리스트 모두 사용 가능"
   ]
  },
  {
   "cell_type": "markdown",
   "metadata": {},
   "source": [
    "# 리스트.sort() : 정렬\n",
    "\n",
    "    1. 원본을 바꾼다\n",
    "    2. 반환 값은 None 이다.\n",
    "    3. 문자열은 못 쓴다"
   ]
  },
  {
   "cell_type": "markdown",
   "metadata": {},
   "source": [
    "### 원본을 바꾼다"
   ]
  },
  {
   "cell_type": "code",
   "execution_count": 1,
   "metadata": {},
   "outputs": [
    {
     "data": {
      "text/plain": [
       "[10, 20, 30, 40]"
      ]
     },
     "execution_count": 1,
     "metadata": {},
     "output_type": "execute_result"
    }
   ],
   "source": [
    "a = [40, 20, 10, 30]\n",
    "a.sort()  \n",
    "a    # 원본을 바꾼다."
   ]
  },
  {
   "cell_type": "markdown",
   "metadata": {},
   "source": [
    "### 반환값은 0이다."
   ]
  },
  {
   "cell_type": "code",
   "execution_count": 5,
   "metadata": {},
   "outputs": [
    {
     "name": "stdout",
     "output_type": "stream",
     "text": [
      "None\n"
     ]
    }
   ],
   "source": [
    "a = [40, 20, 10, 30]\n",
    "b = a.sort()\n",
    "print(b)"
   ]
  },
  {
   "cell_type": "markdown",
   "metadata": {},
   "source": [
    "### 문자열은 못씀"
   ]
  },
  {
   "cell_type": "code",
   "execution_count": 14,
   "metadata": {},
   "outputs": [
    {
     "ename": "AttributeError",
     "evalue": "'str' object has no attribute 'sort'",
     "output_type": "error",
     "traceback": [
      "\u001b[1;31m---------------------------------------------------------------------------\u001b[0m",
      "\u001b[1;31mAttributeError\u001b[0m                            Traceback (most recent call last)",
      "\u001b[1;32m<ipython-input-14-4de7f3655b6f>\u001b[0m in \u001b[0;36m<module>\u001b[1;34m\u001b[0m\n\u001b[0;32m      1\u001b[0m \u001b[0ma\u001b[0m \u001b[1;33m=\u001b[0m \u001b[1;34m\"DBAC\"\u001b[0m\u001b[1;33m\u001b[0m\u001b[1;33m\u001b[0m\u001b[0m\n\u001b[1;32m----> 2\u001b[1;33m \u001b[0ma\u001b[0m\u001b[1;33m.\u001b[0m\u001b[0msort\u001b[0m\u001b[1;33m(\u001b[0m\u001b[1;33m)\u001b[0m\u001b[1;33m\u001b[0m\u001b[1;33m\u001b[0m\u001b[0m\n\u001b[0m\u001b[0;32m      3\u001b[0m \u001b[0ma\u001b[0m    \u001b[1;31m# 문자열은 못 쓴다.\u001b[0m\u001b[1;33m\u001b[0m\u001b[1;33m\u001b[0m\u001b[0m\n",
      "\u001b[1;31mAttributeError\u001b[0m: 'str' object has no attribute 'sort'"
     ]
    }
   ],
   "source": [
    "a = \"DBAC\"\n",
    "a.sort()  \n",
    "a    # 문자열은 못 쓴다."
   ]
  },
  {
   "cell_type": "markdown",
   "metadata": {},
   "source": [
    "### 뒤집어 정렬(내림차순)"
   ]
  },
  {
   "cell_type": "code",
   "execution_count": 18,
   "metadata": {},
   "outputs": [
    {
     "data": {
      "text/plain": [
       "[40, 30, 20, 10]"
      ]
     },
     "execution_count": 18,
     "metadata": {},
     "output_type": "execute_result"
    }
   ],
   "source": [
    "a = [40, 20, 10, 30]\n",
    "a.sort(reverse = True)  \n",
    "a    # 원본을 바꾼다."
   ]
  },
  {
   "cell_type": "markdown",
   "metadata": {},
   "source": [
    "# 객체명 = sorted(리스트)\n",
    "\n",
    "    1. 원본 유지\n",
    "    2. 리스트형으로 반환\n",
    "    3. 리스트, 문자열도 수행 가능(문자열 => 리스트로 변환하여 반환)"
   ]
  },
  {
   "cell_type": "code",
   "execution_count": 7,
   "metadata": {},
   "outputs": [
    {
     "name": "stdout",
     "output_type": "stream",
     "text": [
      "[40, 20, 10, 30]\n",
      "[10, 20, 30, 40]\n"
     ]
    }
   ],
   "source": [
    "a = [40, 20, 10, 30]\n",
    "\n",
    "b = sorted(a)  # 리스트형으로 반환\n",
    "\n",
    "print(a)    # 원본이 바뀌지 않는다.\n",
    "print(b)"
   ]
  },
  {
   "cell_type": "code",
   "execution_count": 9,
   "metadata": {},
   "outputs": [
    {
     "data": {
      "text/plain": [
       "['A', 'B', 'C', 'D']"
      ]
     },
     "execution_count": 9,
     "metadata": {},
     "output_type": "execute_result"
    }
   ],
   "source": [
    "c = \"DBAC\"\n",
    "d = sorted(c)  # 문자열 사용 가능\n",
    "d    # 리스트로 변환되어 반환"
   ]
  },
  {
   "cell_type": "markdown",
   "metadata": {},
   "source": [
    "### 뒤집어 정렬"
   ]
  },
  {
   "cell_type": "code",
   "execution_count": 19,
   "metadata": {},
   "outputs": [
    {
     "data": {
      "text/plain": [
       "['D', 'C', 'B', 'A']"
      ]
     },
     "execution_count": 19,
     "metadata": {},
     "output_type": "execute_result"
    }
   ],
   "source": [
    "c = \"DBAC\"\n",
    "d = sorted(c, reverse=True)  # 문자열 사용 가능\n",
    "d    # 리스트로 변환되어 반환"
   ]
  },
  {
   "cell_type": "markdown",
   "metadata": {},
   "source": [
    "# 리스트.reverse() : 뒤집기(정렬은 안하고 뒤집기만)\n",
    "## (뒤집어 정렬(내림차순)과 다름)\n",
    "\n",
    "    1. 원본을 바꾼다.\n",
    "    2. 반환 값은 None이다.\n",
    "    3. 문자열은 못 쓴다."
   ]
  },
  {
   "cell_type": "markdown",
   "metadata": {},
   "source": [
    " * 원본 변경"
   ]
  },
  {
   "cell_type": "code",
   "execution_count": 10,
   "metadata": {},
   "outputs": [
    {
     "data": {
      "text/plain": [
       "[30, 10, 20, 40]"
      ]
     },
     "execution_count": 10,
     "metadata": {},
     "output_type": "execute_result"
    }
   ],
   "source": [
    "a = [40, 20, 10, 30]\n",
    "a.reverse()  \n",
    "a    # 원본을 바꾼다."
   ]
  },
  {
   "cell_type": "markdown",
   "metadata": {},
   "source": [
    "* None 값 반환"
   ]
  },
  {
   "cell_type": "code",
   "execution_count": 16,
   "metadata": {},
   "outputs": [
    {
     "name": "stdout",
     "output_type": "stream",
     "text": [
      "None\n"
     ]
    }
   ],
   "source": [
    "a = [40, 20, 10, 30]\n",
    "b = a.reverse()\n",
    "print(b)"
   ]
  },
  {
   "cell_type": "markdown",
   "metadata": {},
   "source": [
    " * 문자열 못 써"
   ]
  },
  {
   "cell_type": "code",
   "execution_count": 12,
   "metadata": {},
   "outputs": [
    {
     "ename": "AttributeError",
     "evalue": "'str' object has no attribute 'reverse'",
     "output_type": "error",
     "traceback": [
      "\u001b[1;31m---------------------------------------------------------------------------\u001b[0m",
      "\u001b[1;31mAttributeError\u001b[0m                            Traceback (most recent call last)",
      "\u001b[1;32m<ipython-input-12-badbdd4ebeab>\u001b[0m in \u001b[0;36m<module>\u001b[1;34m\u001b[0m\n\u001b[0;32m      1\u001b[0m \u001b[0ma\u001b[0m \u001b[1;33m=\u001b[0m \u001b[1;34m\"DBAC\"\u001b[0m\u001b[1;33m\u001b[0m\u001b[1;33m\u001b[0m\u001b[0m\n\u001b[1;32m----> 2\u001b[1;33m \u001b[0ma\u001b[0m\u001b[1;33m.\u001b[0m\u001b[0mreverse\u001b[0m\u001b[1;33m(\u001b[0m\u001b[1;33m)\u001b[0m\u001b[1;33m\u001b[0m\u001b[1;33m\u001b[0m\u001b[0m\n\u001b[0m\u001b[0;32m      3\u001b[0m \u001b[0ma\u001b[0m    \u001b[1;31m# 문자열은 못 쓴다.\u001b[0m\u001b[1;33m\u001b[0m\u001b[1;33m\u001b[0m\u001b[0m\n",
      "\u001b[1;31mAttributeError\u001b[0m: 'str' object has no attribute 'reverse'"
     ]
    }
   ],
   "source": [
    "a = \"DBAC\"\n",
    "a.reverse()  \n",
    "a    # 문자열은 못 쓴다."
   ]
  },
  {
   "cell_type": "markdown",
   "metadata": {},
   "source": [
    "# 객체명 = reversed(리스트 or 문자열)\n",
    "\n",
    "    1. 원본 유지\n",
    "    2. reversed 객체(이터레이터)로 반환\n",
    "        * list(), tuple() 함수로 변환 가능\n",
    "    3. 문자열, 리스트 모두 사용 가능"
   ]
  },
  {
   "cell_type": "code",
   "execution_count": 21,
   "metadata": {},
   "outputs": [
    {
     "name": "stdout",
     "output_type": "stream",
     "text": [
      "[40, 20, 10, 30]\n",
      "<list_reverseiterator object at 0x0000025D0EB30970>\n"
     ]
    }
   ],
   "source": [
    "a = [40, 20, 10, 30]\n",
    "\n",
    "b = reversed(a)  # reversed 객체로 반환\n",
    "\n",
    "print(a)    # 원본이 바뀌지 않는다.\n",
    "print(b)    # reversed 객체로 반환"
   ]
  },
  {
   "cell_type": "code",
   "execution_count": 24,
   "metadata": {},
   "outputs": [
    {
     "name": "stdout",
     "output_type": "stream",
     "text": [
      "<reversed object at 0x0000025D0EC18850>\n",
      "CABD"
     ]
    }
   ],
   "source": [
    "c = \"DBAC\"\n",
    "d = reversed(c)  # 문자열 사용 가능\n",
    "\n",
    "print(d)    # reversed 객체로 변환되어 반환\n",
    "\n",
    "for i in d:\n",
    "    print(i, end='')"
   ]
  },
  {
   "cell_type": "code",
   "execution_count": 25,
   "metadata": {},
   "outputs": [
    {
     "data": {
      "text/plain": [
       "[30, 10, 20, 40]"
      ]
     },
     "execution_count": 25,
     "metadata": {},
     "output_type": "execute_result"
    }
   ],
   "source": [
    "a = [40, 20, 10, 30]\n",
    "\n",
    "b = reversed(a)  # reversed 객체로 반환\n",
    "\n",
    "list(b)"
   ]
  },
  {
   "cell_type": "code",
   "execution_count": 27,
   "metadata": {},
   "outputs": [
    {
     "data": {
      "text/plain": [
       "(30, 10, 20, 40)"
      ]
     },
     "execution_count": 27,
     "metadata": {},
     "output_type": "execute_result"
    }
   ],
   "source": [
    "a = [40, 20, 10, 30]\n",
    "\n",
    "b = reversed(a)  # reversed 객체로 반환\n",
    "\n",
    "tuple(b)"
   ]
  },
  {
   "cell_type": "code",
   "execution_count": null,
   "metadata": {},
   "outputs": [],
   "source": []
  }
 ],
 "metadata": {
  "kernelspec": {
   "display_name": "Python 3",
   "language": "python",
   "name": "python3"
  },
  "language_info": {
   "codemirror_mode": {
    "name": "ipython",
    "version": 3
   },
   "file_extension": ".py",
   "mimetype": "text/x-python",
   "name": "python",
   "nbconvert_exporter": "python",
   "pygments_lexer": "ipython3",
   "version": "3.8.8"
  }
 },
 "nbformat": 4,
 "nbformat_minor": 4
}
