{
 "cells": [
  {
   "cell_type": "markdown",
   "id": "88b8e772",
   "metadata": {},
   "source": [
    "# 숫자"
   ]
  },
  {
   "cell_type": "code",
   "execution_count": 5,
   "id": "9bcdcdfd",
   "metadata": {},
   "outputs": [
    {
     "data": {
      "text/plain": [
       "6"
      ]
     },
     "execution_count": 5,
     "metadata": {},
     "output_type": "execute_result"
    }
   ],
   "source": [
    "# 이진수\n",
    "0b110"
   ]
  },
  {
   "cell_type": "code",
   "execution_count": 6,
   "id": "bdcc4d38",
   "metadata": {},
   "outputs": [
    {
     "data": {
      "text/plain": [
       "15"
      ]
     },
     "execution_count": 6,
     "metadata": {},
     "output_type": "execute_result"
    }
   ],
   "source": [
    "# 8진수\n",
    "0o017"
   ]
  },
  {
   "cell_type": "code",
   "execution_count": 7,
   "id": "6b77bb44",
   "metadata": {},
   "outputs": [
    {
     "data": {
      "text/plain": [
       "15"
      ]
     },
     "execution_count": 7,
     "metadata": {},
     "output_type": "execute_result"
    }
   ],
   "source": [
    "# 16진수\n",
    "0x0f"
   ]
  },
  {
   "cell_type": "code",
   "execution_count": 10,
   "id": "87628b32",
   "metadata": {},
   "outputs": [
    {
     "data": {
      "text/plain": [
       "0.6299117863026296"
      ]
     },
     "execution_count": 10,
     "metadata": {},
     "output_type": "execute_result"
    }
   ],
   "source": [
    "import random\n",
    "\n",
    "random.random()    # 0~1사이의 난수"
   ]
  },
  {
   "cell_type": "code",
   "execution_count": 43,
   "id": "ce3bad7f",
   "metadata": {},
   "outputs": [
    {
     "data": {
      "text/plain": [
       "4"
      ]
     },
     "execution_count": 43,
     "metadata": {},
     "output_type": "execute_result"
    }
   ],
   "source": [
    "random.randint(1, 6)    # 1~6사이의 난수"
   ]
  },
  {
   "cell_type": "markdown",
   "id": "7563777c",
   "metadata": {},
   "source": [
    "# 문자열(Strings)"
   ]
  },
  {
   "cell_type": "markdown",
   "id": "ec9dfab2",
   "metadata": {},
   "source": [
    "* 기본 연산"
   ]
  },
  {
   "cell_type": "code",
   "execution_count": 54,
   "id": "19f56efb",
   "metadata": {},
   "outputs": [
    {
     "data": {
      "text/plain": [
       "'student'"
      ]
     },
     "execution_count": 54,
     "metadata": {},
     "output_type": "execute_result"
    }
   ],
   "source": [
    "'stu' + 'dent'"
   ]
  },
  {
   "cell_type": "code",
   "execution_count": 55,
   "id": "071e0afb",
   "metadata": {},
   "outputs": [
    {
     "data": {
      "text/plain": [
       "'ststst'"
      ]
     },
     "execution_count": 55,
     "metadata": {},
     "output_type": "execute_result"
    }
   ],
   "source": [
    "'st'*3"
   ]
  },
  {
   "cell_type": "markdown",
   "id": "7f890f3b",
   "metadata": {},
   "source": [
    " * 인덱싱"
   ]
  },
  {
   "cell_type": "code",
   "execution_count": 58,
   "id": "c1b75fdd",
   "metadata": {},
   "outputs": [
    {
     "name": "stdout",
     "output_type": "stream",
     "text": [
      "h\n",
      "o\n",
      "o\n",
      "h\n"
     ]
    }
   ],
   "source": [
    "word = \"hello\"\n",
    "\n",
    "print(word[0])    # 처음\n",
    "print(word[4])    # 끝\n",
    "\n",
    "print(word[-1])   # 끝\n",
    "print(word[-5])   #처음"
   ]
  },
  {
   "cell_type": "code",
   "execution_count": 61,
   "id": "44ef7158",
   "metadata": {},
   "outputs": [
    {
     "name": "stdout",
     "output_type": "stream",
     "text": [
      "hel\n",
      "hel\n",
      "hel\n",
      "hel\n"
     ]
    }
   ],
   "source": [
    "word = \"hello\"\n",
    "\n",
    "print(word[0:3])    # 양수\n",
    "print(word[-5:-2])  # 음수\n",
    "print(word[-5:3])   # 혼합\n",
    "print(word[0:-2])   # 혼합"
   ]
  },
  {
   "cell_type": "markdown",
   "id": "c086d979",
   "metadata": {},
   "source": [
    "* 값 추가/제거\n",
    "    * 중간에 값을 추가/제거하려면 슬라이스이용  \n",
    "        * 슬라이스[시작:중간] + 값 추가/제거 + 슬라이스[중간:끝]"
   ]
  },
  {
   "cell_type": "markdown",
   "id": "9e5b149e",
   "metadata": {},
   "source": [
    "## 값 변경!! 중요!!"
   ]
  },
  {
   "cell_type": "markdown",
   "id": "3c339f01",
   "metadata": {},
   "source": [
    "* 값 변경(문자열 안에 a문자를 b문자로)\n",
    "    * __replace() 함수__ 이용 => 모두 바꾸기 기능임\n",
    "    * 바꿀 항목이 중복해서 여러개일 떄? 한개만 바꾸는 방법은?  \n",
    "        replace(a, b, count) : 로 가능하지만, 좌측부터 순서대로 정해진 갯수만큼만 바꿀수 있음\n",
    "    * 문자 1:1 매칭으로 변경 => translate()      \n",
    "  \n",
    "  \n",
    "    * 인덱스 사용해서 바꿀수는 없을까?  \n",
    "        => 파이썬 특성상 한번에 바꾸는 것은 안됨  \n",
    "        => 해당 인덱스 기준으로 슬라이스[시작:인덱스]+바꿀애+슬라이스[인덱스:끝]"
   ]
  },
  {
   "cell_type": "code",
   "execution_count": 63,
   "id": "c0e0c54b",
   "metadata": {},
   "outputs": [
    {
     "name": "stdout",
     "output_type": "stream",
     "text": [
      "I can do it, I made it\n",
      "You can do it, You made it\n",
      "I can do it, I made it\n"
     ]
    }
   ],
   "source": [
    "sent = \"I can do it, I made it\"\n",
    "print(sent)\n",
    "print(sent.replace('I', \"You\"))\n",
    "print(sent)"
   ]
  },
  {
   "cell_type": "code",
   "execution_count": 65,
   "id": "7ac4d820",
   "metadata": {},
   "outputs": [
    {
     "name": "stdout",
     "output_type": "stream",
     "text": [
      "결과 :\n",
      "123456789999\n",
      "123456,789,999\n",
      "123456789,999\n",
      "123456789999\n"
     ]
    }
   ],
   "source": [
    "text = '123,456,789,999'\n",
    "\n",
    "replaceAll= text.replace(\",\",\"\")\n",
    "replace_t1 = text.replace(\",\", \"\",1)\n",
    "replace_t2 = text.replace(\",\", \"\",2)\n",
    "replace_t3 = text.replace(\",\", \"\",3)\n",
    "\n",
    "print(\"결과 :\")\n",
    "print(replaceAll)\n",
    "print(replace_t1)\n",
    "print(replace_t2)\n",
    "print(replace_t3)"
   ]
  },
  {
   "cell_type": "markdown",
   "id": "6759e22c",
   "metadata": {},
   "source": [
    "### 오른쪽 부터 바꾸는 replaceRight 함수 만들기"
   ]
  },
  {
   "cell_type": "code",
   "execution_count": 99,
   "id": "b6cbf0d6",
   "metadata": {},
   "outputs": [],
   "source": [
    "def replaceRight(original, old, new, count_right):\n",
    "    repeat = 0    # 바꿀 횟수\n",
    "    text = original\n",
    "    old_len = len(old)\n",
    "    \n",
    "    count_find = original.count(old) ## 바꿀 부분이 몇 개 있는지 확인\n",
    "    if count_right > count_find:\n",
    "        repeat = count_find\n",
    "    else:\n",
    "        repeat = count_right\n",
    "\n",
    "    while(repeat):\n",
    "        find_index = text.rfind(old)    # 오른쪽의 바꿀 인덱스 확인\n",
    "        text = text[:find_index] + new + text[find_index+old_len:]\n",
    "        repeat -= 1\n",
    "    return text    "
   ]
  },
  {
   "cell_type": "code",
   "execution_count": 102,
   "id": "d073ee28",
   "metadata": {},
   "outputs": [
    {
     "name": "stdout",
     "output_type": "stream",
     "text": [
      "123,456,789,999\n",
      "123,456,789999\n",
      "123,456789999\n",
      "123456789999\n"
     ]
    }
   ],
   "source": [
    "text = '123,456,789,999'\n",
    "\n",
    "print(replaceRight(text, \",\", \"\", 0))\n",
    "print(replaceRight(text, \",\", \"\", 1))\n",
    "print(replaceRight(text, \",\", \"\", 2))\n",
    "print(replaceRight(text, \",\", \"\", 3))"
   ]
  },
  {
   "cell_type": "code",
   "execution_count": 85,
   "id": "bdcbc88b",
   "metadata": {},
   "outputs": [],
   "source": [
    "while(0):\n",
    "    print(\"hello\")\n",
    "    "
   ]
  },
  {
   "cell_type": "markdown",
   "id": "2b456a4a",
   "metadata": {},
   "source": [
    "* 문자 1:1 매칭으로 변경 => translate()  \n",
    "    ex) a => 1, e => 2, i => 3"
   ]
  },
  {
   "cell_type": "code",
   "execution_count": 66,
   "id": "780b1433",
   "metadata": {},
   "outputs": [
    {
     "data": {
      "text/plain": [
       "'1ppl2'"
      ]
     },
     "execution_count": 66,
     "metadata": {},
     "output_type": "execute_result"
    }
   ],
   "source": [
    "# 문자 1:1 매칭으로 변경 => translate()\n",
    "\n",
    "# 먼저 변환테이블 생성\n",
    "trans_table = str.maketrans('aeiou', '12345')\n",
    "\n",
    "\n",
    "'apple'.translate(trans_table)"
   ]
  },
  {
   "cell_type": "code",
   "execution_count": 68,
   "id": "2e61b993",
   "metadata": {},
   "outputs": [
    {
     "data": {
      "text/plain": [
       "'1ppl2'"
      ]
     },
     "execution_count": 68,
     "metadata": {},
     "output_type": "execute_result"
    }
   ],
   "source": [
    "x = 'apple'\n",
    "\n",
    "t_table = str.maketrans('aeiou', '12345')\n",
    "\n",
    "x.translate(t_table)"
   ]
  },
  {
   "cell_type": "code",
   "execution_count": 69,
   "id": "c84c2427",
   "metadata": {},
   "outputs": [
    {
     "data": {
      "text/plain": [
       "'1pple'"
      ]
     },
     "execution_count": 69,
     "metadata": {},
     "output_type": "execute_result"
    }
   ],
   "source": [
    "a = 'apple'\n",
    "\n",
    "tt = str.maketrans('abc', '123')\n",
    "\n",
    "a.translate(tt)"
   ]
  },
  {
   "cell_type": "markdown",
   "id": "00fd402c",
   "metadata": {},
   "source": [
    "### 문자열에서 특정 문자 인덱스 찾기\n",
    "    \n",
    "    * find('찾을 문자열') : 왼쪽부터 찾아서 찾은 문자의 시작하는 인덱스를 반환\n",
    "    * rfind('찾을 문자열') : 오른쪽부터 찾아서 찾은 문자의 (왼쪽부터) 시작하는 인덱스를 반환\n",
    "    * 찾는 문자열이 없으면 -1 반환\n",
    "    * index(), rindex() 도 동일한 기능이나 이 함수들은 찾는 문자열이 없으면 에러 발생시킴"
   ]
  },
  {
   "cell_type": "code",
   "execution_count": 71,
   "id": "2caa598d",
   "metadata": {},
   "outputs": [
    {
     "data": {
      "text/plain": [
       "2"
      ]
     },
     "execution_count": 71,
     "metadata": {},
     "output_type": "execute_result"
    }
   ],
   "source": [
    "a = 'apple pineapple melon'\n",
    "\n",
    "a.find('pl')"
   ]
  },
  {
   "cell_type": "code",
   "execution_count": 72,
   "id": "8bcf8106",
   "metadata": {},
   "outputs": [
    {
     "data": {
      "text/plain": [
       "12"
      ]
     },
     "execution_count": 72,
     "metadata": {},
     "output_type": "execute_result"
    }
   ],
   "source": [
    "a.rfind('pl')"
   ]
  },
  {
   "cell_type": "code",
   "execution_count": 73,
   "id": "8f1bb1df",
   "metadata": {},
   "outputs": [
    {
     "data": {
      "text/plain": [
       "-1"
      ]
     },
     "execution_count": 73,
     "metadata": {},
     "output_type": "execute_result"
    }
   ],
   "source": [
    "a.find('x')"
   ]
  },
  {
   "cell_type": "code",
   "execution_count": 74,
   "id": "3411f7af",
   "metadata": {},
   "outputs": [
    {
     "ename": "ValueError",
     "evalue": "substring not found",
     "output_type": "error",
     "traceback": [
      "\u001b[1;31m---------------------------------------------------------------------------\u001b[0m",
      "\u001b[1;31mValueError\u001b[0m                                Traceback (most recent call last)",
      "\u001b[1;32m<ipython-input-74-51f0d5bb66b2>\u001b[0m in \u001b[0;36m<module>\u001b[1;34m\u001b[0m\n\u001b[1;32m----> 1\u001b[1;33m \u001b[0ma\u001b[0m\u001b[1;33m.\u001b[0m\u001b[0mindex\u001b[0m\u001b[1;33m(\u001b[0m\u001b[1;34m'x'\u001b[0m\u001b[1;33m)\u001b[0m\u001b[1;33m\u001b[0m\u001b[1;33m\u001b[0m\u001b[0m\n\u001b[0m",
      "\u001b[1;31mValueError\u001b[0m: substring not found"
     ]
    }
   ],
   "source": [
    "a.index('x')"
   ]
  },
  {
   "cell_type": "code",
   "execution_count": null,
   "id": "f2487b0d",
   "metadata": {},
   "outputs": [],
   "source": []
  },
  {
   "cell_type": "markdown",
   "id": "edd8d1f9",
   "metadata": {},
   "source": [
    " * 뒤집기(reversed 함수)\n",
    "     - 해당 변수를 reversed class로 만듬\n",
    "     - for문으로 출력 가능\n",
    "     - 리스트도 사용 가능"
   ]
  },
  {
   "cell_type": "code",
   "execution_count": 46,
   "id": "15a2e96f",
   "metadata": {},
   "outputs": [
    {
     "name": "stdout",
     "output_type": "stream",
     "text": [
      "<reversed object at 0x0000020C5F0565E0>\n",
      "<class 'reversed'>\n"
     ]
    }
   ],
   "source": [
    "x = \"hello\"\n",
    "\n",
    "print(reversed(x))\n",
    "print(type(reversed(x)))"
   ]
  },
  {
   "cell_type": "code",
   "execution_count": 48,
   "id": "47def580",
   "metadata": {},
   "outputs": [
    {
     "name": "stdout",
     "output_type": "stream",
     "text": [
      "olleh"
     ]
    }
   ],
   "source": [
    "for i in reversed(x):\n",
    "    print(i, end='')"
   ]
  },
  {
   "cell_type": "markdown",
   "id": "1586317b",
   "metadata": {},
   "source": [
    "* 여러줄로 출력 : \"\"\" 사용\n",
    "    - 코드상 표현 뿐만아니라 출력도 여러줄로 됨"
   ]
  },
  {
   "cell_type": "code",
   "execution_count": 53,
   "id": "7914f311",
   "metadata": {},
   "outputs": [
    {
     "name": "stdout",
     "output_type": "stream",
     "text": [
      " asdfgjkl\n",
      "sdklfsdklfjl\n",
      " asdfgjkl\n",
      "    sdklfsdklfjl\n"
     ]
    }
   ],
   "source": [
    "print(\"\"\" asdfgjkl\n",
    "sdklfsdklfjl\"\"\")\n",
    "\n",
    "print(\"\"\" asdfgjkl\n",
    "    sdklfsdklfjl\"\"\")"
   ]
  },
  {
   "cell_type": "markdown",
   "id": "ca136ca1",
   "metadata": {},
   "source": [
    " * 문자열 갯수 세기 : count()"
   ]
  },
  {
   "cell_type": "code",
   "execution_count": 75,
   "id": "dbc2b9e0",
   "metadata": {},
   "outputs": [
    {
     "data": {
      "text/plain": [
       "3"
      ]
     },
     "execution_count": 75,
     "metadata": {},
     "output_type": "execute_result"
    }
   ],
   "source": [
    "'apple pine'.count('p')"
   ]
  }
 ],
 "metadata": {
  "kernelspec": {
   "display_name": "Python 3",
   "language": "python",
   "name": "python3"
  },
  "language_info": {
   "codemirror_mode": {
    "name": "ipython",
    "version": 3
   },
   "file_extension": ".py",
   "mimetype": "text/x-python",
   "name": "python",
   "nbconvert_exporter": "python",
   "pygments_lexer": "ipython3",
   "version": "3.8.8"
  }
 },
 "nbformat": 4,
 "nbformat_minor": 5
}
