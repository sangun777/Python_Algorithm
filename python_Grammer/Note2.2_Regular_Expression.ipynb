{
 "cells": [
  {
   "cell_type": "markdown",
   "metadata": {},
   "source": [
    "# 정규표현식(regular expression)"
   ]
  },
  {
   "cell_type": "code",
   "execution_count": 2,
   "metadata": {},
   "outputs": [],
   "source": [
    "import re"
   ]
  },
  {
   "cell_type": "markdown",
   "metadata": {},
   "source": [
    "# 목차\n",
    "## 1. 개념\n",
    "## 2. re 모듈 사용\n",
    "    * 주요 사용 메소드 : re.compile, re.match, re.search, re.findall, re.sub\n",
    "        * re.compile : 정규식 컴파일 객체를 만듦,  정규식을 객체명으로 간략히 표현하게 함\n",
    "        * re.match : 문자열의 처음부터 정규식과 매치되는지 조사하여, Match 객체 반환\n",
    "        * re.search : 문자열의 전체를 정규식과 매치되는지 조사하여, Match 객체 반환\n",
    "            * Match 객체의 메소드\n",
    "                * group() : 매치된 문자열 반환\n",
    "                * start() : 매치된 문자열의 시작위치 반환\n",
    "                * end() : 매치된 문자열의 끝 위치 반환\n",
    "                * span() : 매치된 문자열의 (시작, 끝)에 해당하는 튜플 반환\n",
    "        * re.findall() : 매치되는 모든 문자열을 리스트로 반환\n",
    "        * re.finditer() : 매치되는 모든 문자열을 반복가능한객체(iterable)로 반환\n",
    "        * re.sub(a, b, txt) : 매치되는 문자열을 다른 문자열로 변경\n",
    "            * txt에서 a부분을 찾아 b로 바꾼 문자열을 반환\n",
    "## 3. 각종 메타문자들\n",
    "    * | : or 와 동일한 의미\n",
    "    * ^ : 문자열의 맨처음과 매치함을 의미 / 문자클래스[] 안에서는 반대 의미임에 주의!\n",
    "    * $ : 문자열의 맨끝과 매치함을 의미\n",
    "    * \\A : 문자열의 처음과 매치됨을 의미\n",
    "    * \\Z : 문자의열 끝과 매치됨을 의미\n",
    "    \n",
    "## 4. 역슬래시(\\)와 r prefix\n",
    "\n",
    "## 5. 그루핑\n",
    "    * 그루핑으로 전화번호 찾기\n",
    "    * 그루핑의 재참조\n",
    "    * 그루핑의 이름 붙이기\n",
    "\n",
    "## 6. 전방탐색\n",
    "\n",
    "## 7. 문자열 바꾸기\n",
    "\n",
    "## 8. greedy VS non-greedy\n",
    "\n",
    "## 9. 정규표현식 응용\n",
    "    * 연도 검색\n",
    "    * 전화번호부 검색\n",
    "    * 이메일 검색\n"
   ]
  },
  {
   "cell_type": "markdown",
   "metadata": {},
   "source": [
    "# 1. 개념\n",
    "\n",
    "# 정규 표현식(Regular Expressions)\n",
    "- 일정한 규칙(패턴)을 가진 문자열을 표현하는 방법\n",
    "- 정규 표현식은 줄여서 간단히 \"정규식\"이라고도 함\n",
    "- 아래 서술할 메타문자(문자클래스[], \\d, Dot(.)), 문자열, r prefix 등으로 표현\n",
    "- 주 사용 상황\n",
    "    - 복잡한 문자열 속에서 특정한 규칙으로 된 문자열을 검색한 뒤, 해당 값을\n",
    "        * 추출하거나 \n",
    "        * 변경하거나\n",
    "        * 문자열이 정해진 규칙에 맞는지 판단할 때도 사용\n",
    "- 파이썬에서는 re 모듈을 가져와서 사용 (re는 regular expression의 약자).\n",
    "      \n",
    "      \n",
    "## 메타 문자(meta characters)\n",
    "- 메타문자란 원래 그 문자가 가진 뜻이 아닌 특별한 용도로 사용하는 문자\n",
    "    - 문자 클래스, Dot 등 아래 서술할 표현들\n",
    "- . ? $ ^ + * { } [ ] \\ | ( ) 등\n",
    "- 정규 표현식에 위 메타 문자를 사용하면 특별한 의미를 갖게 됨  \n",
    "    \n",
    "## 문자 클래스(Character class) = '[ ]'\n",
    "- \\d, \\w 등 과 비슷한 용도지만, 저 문자들로 표현이 안되는 범위를 설정하기 위해서 쓰인다고 생각하면 될 듯\n",
    "- 문자열 기호 '  '안에 대괄호[  ]를 써서 표현 \n",
    "- \" [ ] 사이의 문자들과 매치\"라는 의미 \"\n",
    "- 메타 문자인 [ ] 사이에는 어떤 문자도 들어갈 수 있음\n",
    "### 보통 여러 문자중 어느 하나와 매칭되는 범위를 설정할 때 사용하고, \n",
    "### 찾아야할 단어가 구체적으로 정해진 경우 문자클래스가 아니라 문자열을 집어 넣으면 됨\n",
    "  \n",
    "  \n",
    "## 정규 표현식이 [abc]라면 이 표현식의 의미는 \"a, b, c <span style=\"color:red\">중 한 개의 문자</span>와 매치\"(제일 중요!)**\n",
    "## a, b, c 다 있어야 하는게 아님!!!\n",
    "    \n",
    "    - \"a\"는 정규식과 일치하는 문자인 \"a\"가 있으므로 a가 매치됨\n",
    "    - \"before\"는 정규식과 일치하는 문자인 \"b\"가 있으므로 b가 매치됨\n",
    "    - \"dude\"는 정규식과 일치하는 문자인 a, b, c 중 어느 하나도 포함하고 있지 않으므로 매치되지 않음  \n",
    "  \n",
    "  "
   ]
  },
  {
   "cell_type": "code",
   "execution_count": 6,
   "metadata": {},
   "outputs": [
    {
     "data": {
      "text/plain": [
       "['a', 'b', 'c']"
      ]
     },
     "execution_count": 6,
     "metadata": {},
     "output_type": "execute_result"
    }
   ],
   "source": [
    "### 잘 이해가 안가므로 예제를 만들어보자!\n",
    "txt = \"abefore dudec\"\n",
    "a = re.findall('[abc]', txt)\n",
    "a"
   ]
  },
  {
   "cell_type": "markdown",
   "metadata": {},
   "source": [
    "=> 단어가 아니라, 정규식에 포함된 각 문자 한개에 매칭되는 것을 확인할 것!!"
   ]
  },
  {
   "cell_type": "code",
   "execution_count": 3,
   "metadata": {},
   "outputs": [
    {
     "name": "stdout",
     "output_type": "stream",
     "text": [
      "['a', 'b', 'c']\n",
      "<re.Match object; span=(0, 1), match='a'>\n",
      "<re.Match object; span=(0, 1), match='a'>\n"
     ]
    }
   ],
   "source": [
    "### 잘 이해가 안가므로 예제를 만들어보자!\n",
    "txt = \"abcde\"\n",
    "a1 = re.findall('[abc]', txt)\n",
    "a2 = re.match('[abc]', txt)\n",
    "a3 = re.search('[abc]', txt)\n",
    "print(a1)\n",
    "print(a2)\n",
    "print(a3)"
   ]
  },
  {
   "cell_type": "code",
   "execution_count": 30,
   "metadata": {},
   "outputs": [
    {
     "name": "stdout",
     "output_type": "stream",
     "text": [
      "[]\n",
      "None\n"
     ]
    }
   ],
   "source": [
    "### 잘 이해가 안가므로 예제를 만들어보자!\n",
    "txt = \"dude\"\n",
    "a1 = re.findall('[abc]', txt)\n",
    "a2 = re.match('[abc]', txt)\n",
    "print(a1)\n",
    "print(a2)"
   ]
  },
  {
   "cell_type": "markdown",
   "metadata": {},
   "source": [
    "### 그렇다면 단어?? 를 기준으로 매칭하려면??"
   ]
  },
  {
   "cell_type": "markdown",
   "metadata": {},
   "source": [
    "1. 특정 단어를 찾으려면 문자클래스가 아니라 대괄호[]없이 문자열''로 매칭\n",
    "2. 경계 표현(\\b\\B) 사용"
   ]
  },
  {
   "cell_type": "markdown",
   "metadata": {},
   "source": [
    "- 안의 두 문자 사이에 **하이픈(-)을 사용하면 두 문자 사이의 범위(From - To)를 의미**\n",
    "    - **[a-zA-Z] : 알파벳 모두**\n",
    "    - **[0-9] : 숫자**  \n",
    "  \n",
    "  \n",
    "- 문자 클래스 안에 **^ 메타 문자**를 사용할 경우에는 **반대(not)**라는 의미\n",
    "    - [^0-9]라는 정규 표현식은 숫자가 아닌 문자만 매치\n",
    "  \n",
    "  \n",
    "## 다른 형태 같은 뜻의 정규 표현식\n",
    "    - `\\d` - 숫자와 매치, [0-9]와 동일한 표현식이다.\n",
    "    - `\\D` - 숫자가 아닌 것과 매치, `[^0-9]`와 동일한 표현식이다.\n",
    "    - `\\s` - whitespace 문자와 매치, `[ \\t\\n\\r\\f\\v]`와 동일한 표현식이다. 맨 앞의 빈 칸은 공백문자(space)를 의미한다.\n",
    "    - `\\S` - whitespace 문자가 아닌 것과 매치, `[^ \\t\\n\\r\\f\\v]`와 동일한 표현식이다.\n",
    "    - `\\w` - 문자+숫자(alphanumeric)+_(언더바)와 매치, `[a-zA-Z0-9_]`와 동일한 표현식이다.\n",
    "    - `\\W` - 문자+숫자(alphanumeric)+_(언더바)가 아닌 문자와 매치, `[^a-zA-Z0-9_]`와 동일한 표현식이다.\n",
    "    \n",
    "        - 위에 표현을 사용할 때는 r prefix를 쓰든, 안쓰든 결과는 동일한거 같은데(내 경험 상)\n",
    "        - 혹시나 \\쪽이 꼬이는 문제가 발생할까봐 대부분 코드들이 써주는 거 같음\n",
    "    \n",
    "    - `\\b` - 단어 경계와 매치\n",
    "    - `\\B` - 비단어 경계와 매치\n",
    "        -  `\\b`나 `\\B`를 사용하기 위해서는 정규표현식 앞에 r prefix를 붙여줘야 함\n",
    "            - 기존의 이스케이프 문자(escape sequence) \\b (backspace)와 겹쳐서 그런거 같음"
   ]
  },
  {
   "cell_type": "markdown",
   "metadata": {},
   "source": [
    "## \\b, \\B (비)단어 경계 관련 예제\n",
    "### \\b 단어 경계란?\n",
    "    - 단어 문자와 비 단어 문자 사이와 매칭된다고 보면 된다.\n",
    "    - 하나의 문자를 지칭하는 것이 아니라, 단어문자와 비단어문자가 붙어있는지 여부를 의미!!\n",
    "    - 여기서 단어란 숫자를 포함함 즉, \\w와 \\W가 붙어있는 경우가 \\b다.\n",
    "    \n",
    "### \\B 비단어 경계란\n",
    "    - 단어와 단어가 붙어있는 경우, 또는 비단어와 비단어가 붙어있는 경우 매칭됨"
   ]
  },
  {
   "cell_type": "code",
   "execution_count": 23,
   "metadata": {},
   "outputs": [
    {
     "name": "stdout",
     "output_type": "stream",
     "text": [
      "['b ', 'd ', 'e=']\n"
     ]
    }
   ],
   "source": [
    "# 예시\n",
    "a = re.findall(r'\\w\\b\\W\\B', 'ab  c d  == = e= =f')\n",
    "print(a)"
   ]
  },
  {
   "cell_type": "markdown",
   "metadata": {},
   "source": [
    "* 여기서 처음에 a는 \\w에는 속하지만 \n",
    "* 다음 문자가 b로 같은 단어문자이므로, 단어경계인 \\b에 매칭되지 않음\n",
    "* b는 공백과 연결되므로 단어경계인 \\b와 매칭이 됨\n",
    "* b와 다음에 나오는 공백은 \\W와 매칭되고, \n",
    "* 공백 다음에 다시 공백이 나오므로, 비단어경계인 \\B에도 매칭된다고 볼 수 있다."
   ]
  },
  {
   "cell_type": "markdown",
   "metadata": {},
   "source": [
    "### 응용\n",
    "문제 1: ‘line’과는 일치하지만, ‘outline’나 ‘linear’ 등과는 일치하지 않는 정규표현식을 작성하라. 즉, 정확히 ‘line’ 단어와만 일치해야 한다."
   ]
  },
  {
   "cell_type": "markdown",
   "metadata": {},
   "source": [
    "정답 : \\bline\\b"
   ]
  },
  {
   "cell_type": "code",
   "execution_count": 25,
   "metadata": {},
   "outputs": [
    {
     "data": {
      "text/plain": [
       "['line', 'line', 'line']"
      ]
     },
     "execution_count": 25,
     "metadata": {},
     "output_type": "execute_result"
    }
   ],
   "source": [
    "txt = \"line outline line linear line \"\n",
    "a = re.findall(r'\\bline\\b', txt)\n",
    "a"
   ]
  },
  {
   "cell_type": "markdown",
   "metadata": {},
   "source": [
    "문제 2: ‘stacatto’에는 일치하지만, ‘cat’이나 ‘catch’, ‘copycat’ 등과는 일치하지 않는 정규표현식을 작성하라."
   ]
  },
  {
   "cell_type": "markdown",
   "metadata": {},
   "source": [
    "정답 : \\Bcat\\B"
   ]
  },
  {
   "cell_type": "code",
   "execution_count": 26,
   "metadata": {},
   "outputs": [
    {
     "data": {
      "text/plain": [
       "['cat', 'cat']"
      ]
     },
     "execution_count": 26,
     "metadata": {},
     "output_type": "execute_result"
    }
   ],
   "source": [
    "txt = \"stacatto cat catch copycat stacatto cat\"\n",
    "a = re.findall(r'\\Bcat\\B', txt)\n",
    "a"
   ]
  },
  {
   "cell_type": "markdown",
   "metadata": {},
   "source": [
    "### **Dot(.)**\n",
    "    - Dot(.) 메타 문자는 줄바꿈 문자인 **\\n을 제외한 모든 문자와 매치**됨을 의미\n",
    "        - re.DOTALL 옵션을 주면 \\n 문자와도 매치됨\n",
    "        - ex) **a.b는 \"a + 모든문자 + b\"를 의미**\n",
    "### 정말 문자 . 을 정규식으로 쓰고 싶다면?\n",
    "    - [.] 또는 \\.을 사용\n",
    "    \n",
    "    - 문자 클래스([]) 내에 Dot(.)이 사용된다면 이것은 \"모든 문자\"가 아닌 문자. 그대로를 의미\n",
    "    - ex) a[.]b는 \"a.b\" 문자열과 매치되고, \"a0b\" 문자열과는 매치되지 않음"
   ]
  },
  {
   "cell_type": "markdown",
   "metadata": {},
   "source": [
    "* dot에 대해서 : \"[.]\", \"\\\\.\" 은 문자 . 으로 인식"
   ]
  },
  {
   "cell_type": "code",
   "execution_count": 240,
   "metadata": {},
   "outputs": [
    {
     "name": "stdout",
     "output_type": "stream",
     "text": [
      "dot1 :  <re.Match object; span=(0, 1), match='a'>\n",
      "dot2 :  None\n",
      "dot3 :  None\n",
      "dot1 :  <re.Match object; span=(0, 1), match='a'>\n",
      "dot2 :  <re.Match object; span=(2, 3), match='.'>\n",
      "dot3 :  <re.Match object; span=(2, 3), match='.'>\n"
     ]
    }
   ],
   "source": [
    "dot1 = re.compile(\".\")\n",
    "dot2 = re.compile(\"\\.\")\n",
    "dot3 = re.compile(\"[.]\")\n",
    "\n",
    "a = dot1.search(\"abcd\")    # 아무 문자나 매칭\n",
    "print(\"dot1 : \", a)\n",
    "a = dot2.search(\"abcd\")    # 문자.만 매칭\n",
    "print(\"dot2 : \", a)\n",
    "a = dot3.search(\"abcd\")    # 문자.만 매칭\n",
    "print(\"dot3 : \", a)\n",
    "\n",
    "b = dot1.search(\"ab.cd\")    # 아무 문자나 매칭\n",
    "print(\"dot1 : \", b)\n",
    "b = dot2.search(\"ab.cd\")    # 문자.만 매칭\n",
    "print(\"dot2 : \", b)\n",
    "b = dot3.search(\"ab.cd\")    # 문자.만 매칭\n",
    "print(\"dot3 : \", b)"
   ]
  },
  {
   "cell_type": "markdown",
   "metadata": {},
   "source": [
    "### 반복 (*)\n",
    "    - * 바로 앞에 있는 문자가 0부터 무한대로 반복될 수 있다는 의미\n",
    "    - ex) ca*t 는 ct, cat, caat, caaat, caaaaaaaaaat, 등과 매치 가능\n",
    "  \n",
    "  \n",
    "### 반복 (+)\n",
    "    - +는 최소 1번 이상 반복될 때 사용\n",
    "    - ex) ca+t 는 cat, caat, caaat, caaaaaaaaaat, 등과 매치 가능, ct는 매치 안됨\n",
    "    \n",
    "  \n",
    "### 반복 ({m,n}, ?)\n",
    "    - {m} : 반드시 m번 반복\n",
    "        - ca{2}t  ⇒ caat만 매치\n",
    "    - {m,n} : m~n회 반복\n",
    "        - ca{2,5}t ⇒ caat, caaat, caaaat, caaaaat\n",
    "    - (m, }\n",
    "        - m회 이상\n",
    "    - { ,n}\n",
    "        - n회 이하\n",
    "    - {1,}은 +와 동일하고, {0,}은 *와 동일하다.\n",
    "    \n",
    "  \n",
    "### ?\n",
    "    - 0회 이상 1회 이하\n",
    "    - ?는 {0, 1}을 의미 ⇒ '있어도 되고, 없어도 된다.'"
   ]
  },
  {
   "cell_type": "code",
   "execution_count": 104,
   "metadata": {},
   "outputs": [],
   "source": [
    "# ?\n",
    "\n",
    "import re\n",
    "\n",
    "p = re.compile(\"ab?c\")\n",
    "p.search(\"a\")"
   ]
  },
  {
   "cell_type": "code",
   "execution_count": 105,
   "metadata": {},
   "outputs": [
    {
     "data": {
      "text/plain": [
       "<re.Match object; span=(0, 2), match='ac'>"
      ]
     },
     "execution_count": 105,
     "metadata": {},
     "output_type": "execute_result"
    }
   ],
   "source": [
    "# ?\n",
    "\n",
    "import re\n",
    "\n",
    "p = re.compile(\"ab?c\")\n",
    "p.search(\"ac\")"
   ]
  },
  {
   "cell_type": "code",
   "execution_count": 106,
   "metadata": {},
   "outputs": [
    {
     "data": {
      "text/plain": [
       "<re.Match object; span=(0, 3), match='abc'>"
      ]
     },
     "execution_count": 106,
     "metadata": {},
     "output_type": "execute_result"
    }
   ],
   "source": [
    "# ?\n",
    "\n",
    "import re\n",
    "\n",
    "p = re.compile(\"ab?c\")\n",
    "p.search(\"abc\")"
   ]
  },
  {
   "cell_type": "code",
   "execution_count": 107,
   "metadata": {},
   "outputs": [],
   "source": [
    "# ?\n",
    "\n",
    "import re\n",
    "\n",
    "p = re.compile(\"ab?c\")\n",
    "p.search(\"abbc\")"
   ]
  },
  {
   "cell_type": "markdown",
   "metadata": {},
   "source": [
    "# 2. re 모듈 사용\n",
    "\n",
    "    * 주요 사용 메소드 : re.compile, re.match, re.search, re.findall, re.sub\n",
    "        * re.compile : 정규식 컴파일 객체를 만듦,  정규식을 객체명으로 간략히 표현하게 함\n",
    "        * re.match : 문자열의 처음부터 정규식과 매치되는지 조사하여, Match 객체 반환\n",
    "        * re.search : 문자열의 전체를 정규식과 매치되는지 조사하여, Match 객체 반환\n",
    "            * Match 객체의 메소드\n",
    "                * group() : 매치된 문자열 반환\n",
    "                * start() : 매치된 문자열의 시작위치 반환\n",
    "                * end() : 매치된 문자열의 끝 위치 반환\n",
    "                * span() : 매치된 문자열의 (시작, 끝)에 해당하는 튜플 반환\n",
    "        * re.findall() : 매치되는 모든 문자열을 리스트로 반환\n",
    "        * re.finditer() : 매치되는 모든 문자열을 반복가능한객체(iterable)로 반환\n",
    "        * re.sub() : 매치되는 문자열을 다른 문자열로 변경\n",
    "        \n",
    "    * dir(re)로 나중에 쓸만한 메소드 추가 확인해보기\n",
    "\n",
    "### re.compile(정규식, [옵션]) : 컴파일 객체 생성\n",
    "    * re 모듈의 메소드(re.match, re.search, re.findall, re.sub 등) 사용 시, \n",
    "      기본적으로 메소드 마다 정규식을 반복해서 적어주어야 하나,\n",
    "        ex)   \n",
    "        re.match(정규식, 문자열)  \n",
    "        re.match(정규식, 문자열2)\n",
    "        re.match(정규식, 문자열3)\n",
    "        re.search(정규식, 문자열4)\n",
    "        re.sub(정규식, 바꿀문자, 문자열2)\n",
    "        \n",
    "    * 같은 정규식으로 여러 메소드 사용시, 컴파일 객체를 불러와서 사용하면 됨\n",
    "        ex)  \n",
    "        p(=컴파일객체명) = re.compile(정규식)\n",
    "        p.match(문자열)  \n",
    "        p.match(문자열2)\n",
    "        p.match(문자열3)\n",
    "        p.search(문자열4)\n",
    "        P.sub(바꿀문자, 문자열2)\n",
    "        \n",
    "    * re.compile()함수의 옵션들 (생략 가능)  \n",
    "        \n",
    "        * DOTALL(S) \n",
    "            - . 이 줄바꿈 문자를 포함하여 모든 문자와 매치할 수 있도록 한다.  \n",
    "      \n",
    "      \n",
    "        * IGNORECASE(I) \n",
    "            - 대소문자에 관계없이 매치할 수 있도록 한다.  \n",
    "      \n",
    "      \n",
    "        * MULTILINE(M) \n",
    "            - 여러줄과 매치할 수 있도록 한다. \n",
    "            - (^, $ 메타문자의 사용과 관계가 있는 옵션이다)  \n",
    "      \n",
    "      \n",
    "        * VERBOSE(X) \n",
    "            - verbose 모드를 사용할 수 있도록 한다. \n",
    "            - (정규식을 보기 편하게 만들수 있고 주석등을 사용할 수 있게된다.)\n",
    "        "
   ]
  },
  {
   "cell_type": "markdown",
   "metadata": {},
   "source": [
    "## re.compile(정규식)\n",
    "    * 컴파일 객체 생성\n",
    "    * 반복적으로 같은 정규식을 사용하며, 다른 함수들을 여러번 사용할 때,  \n",
    "      정규식을 매번 써주어야 하는 겻을 간단히 객체명으로 쓸수 있게 해줌"
   ]
  },
  {
   "cell_type": "markdown",
   "metadata": {},
   "source": [
    " * 예시(compile 안 쓸때,)"
   ]
  },
  {
   "cell_type": "code",
   "execution_count": 46,
   "metadata": {},
   "outputs": [
    {
     "data": {
      "text/plain": [
       "'Hi, world!'"
      ]
     },
     "execution_count": 46,
     "metadata": {},
     "output_type": "execute_result"
    }
   ],
   "source": [
    "import re\n",
    "\n",
    "re.sub('Hello', 'Hi', 'Hello, world!') \n",
    "# re.sub(A(정규식), B(문자열), C(문자열)) : C에서 A랑 매칭되는 부분을 B로 변경"
   ]
  },
  {
   "cell_type": "markdown",
   "metadata": {},
   "source": [
    " * 예시(compile 쓸때,)"
   ]
  },
  {
   "cell_type": "code",
   "execution_count": 47,
   "metadata": {},
   "outputs": [
    {
     "data": {
      "text/plain": [
       "'Hi, world!'"
      ]
     },
     "execution_count": 47,
     "metadata": {},
     "output_type": "execute_result"
    }
   ],
   "source": [
    "import re\n",
    "\n",
    "p = re.compile('Hello') # 정규식 A 컴파일\n",
    "\n",
    "p.sub('Hi', 'Hello, world!')  # 정규식 A 생략"
   ]
  },
  {
   "cell_type": "markdown",
   "metadata": {},
   "source": [
    "## re.compile 옵션들"
   ]
  },
  {
   "cell_type": "markdown",
   "metadata": {},
   "source": [
    "### DOTALL (S) (= re.DOTALL, re.S)\n",
    "    * 이 줄바꿈 문자를 포함하여 모든 문자와 매치할 수 있도록 한다.  \n",
    "    * Dot(.) 메타 문자는 원래 줄바꿈 문자인 \\n을 제외한 모든 문자와 매치됨을 의미"
   ]
  },
  {
   "cell_type": "code",
   "execution_count": 42,
   "metadata": {},
   "outputs": [
    {
     "name": "stdout",
     "output_type": "stream",
     "text": [
      "None\n"
     ]
    }
   ],
   "source": [
    "import re\n",
    "p = re.compile('a.b')\n",
    "m = p.match('a\\nb')\n",
    "print(m)"
   ]
  },
  {
   "cell_type": "code",
   "execution_count": 43,
   "metadata": {},
   "outputs": [
    {
     "name": "stdout",
     "output_type": "stream",
     "text": [
      "<re.Match object; span=(0, 3), match='a\\nb'>\n"
     ]
    }
   ],
   "source": [
    "import re\n",
    "p = re.compile('a.b', re.DOTALL)\n",
    "m = p.match('a\\nb')\n",
    "print(m)"
   ]
  },
  {
   "cell_type": "code",
   "execution_count": 44,
   "metadata": {},
   "outputs": [
    {
     "name": "stdout",
     "output_type": "stream",
     "text": [
      "<re.Match object; span=(0, 3), match='a\\nb'>\n"
     ]
    }
   ],
   "source": [
    "import re\n",
    "p = re.compile('a.b', re.S)\n",
    "m = p.match('a\\nb')\n",
    "print(m)"
   ]
  },
  {
   "cell_type": "markdown",
   "metadata": {},
   "source": [
    "### IGNORECASE (I)  (= re.IGNORECASE, re.I)\n",
    "    - 대소문자에 관계없이 매치할 수 있도록 한다. "
   ]
  },
  {
   "cell_type": "code",
   "execution_count": 45,
   "metadata": {},
   "outputs": [
    {
     "data": {
      "text/plain": [
       "<re.Match object; span=(0, 1), match='p'>"
      ]
     },
     "execution_count": 45,
     "metadata": {},
     "output_type": "execute_result"
    }
   ],
   "source": [
    "p = re.compile('[a-z]', re.I)\n",
    "p.match('python')"
   ]
  },
  {
   "cell_type": "code",
   "execution_count": 46,
   "metadata": {},
   "outputs": [
    {
     "data": {
      "text/plain": [
       "<re.Match object; span=(0, 1), match='P'>"
      ]
     },
     "execution_count": 46,
     "metadata": {},
     "output_type": "execute_result"
    }
   ],
   "source": [
    "p = re.compile('[a-z]', re.I)\n",
    "p.match('Python')"
   ]
  },
  {
   "cell_type": "code",
   "execution_count": 48,
   "metadata": {},
   "outputs": [
    {
     "data": {
      "text/plain": [
       "<re.Match object; span=(0, 1), match='P'>"
      ]
     },
     "execution_count": 48,
     "metadata": {},
     "output_type": "execute_result"
    }
   ],
   "source": [
    "p = re.compile('[a-z]', re.I)\n",
    "p.match('PYTHON')"
   ]
  },
  {
   "cell_type": "code",
   "execution_count": 50,
   "metadata": {},
   "outputs": [],
   "source": [
    "# 옵션 빼면 매칭 안됨\n",
    "p = re.compile('[a-z]')\n",
    "p.match('PYTHON')"
   ]
  },
  {
   "cell_type": "markdown",
   "metadata": {},
   "source": [
    " ### MULTILINE (M) (= re.MULTILINE, M)\n",
    "    - 여러줄과 매치할 수 있도록 한다. \n",
    "    - (^, $ 메타문자의 사용과 관계가 있는 옵션이다) "
   ]
  },
  {
   "cell_type": "code",
   "execution_count": 201,
   "metadata": {},
   "outputs": [
    {
     "name": "stdout",
     "output_type": "stream",
     "text": [
      "['python one']\n"
     ]
    }
   ],
   "source": [
    "import re\n",
    "p = re.compile(\"^python\\s\\w+\")    \n",
    "# python으로 시작하고(^python), whitespace(\\s)가 나오고, 단어(\\w)가 나와야됨\n",
    "# ^는 클래스[] 에서는 반대의 의미지만,~~\n",
    "\n",
    "data = \"\"\"python one\n",
    "life is too short\n",
    "python two\n",
    "you need python\n",
    "python three\"\"\"\n",
    "\n",
    "print(p.findall(data))"
   ]
  },
  {
   "cell_type": "code",
   "execution_count": 49,
   "metadata": {},
   "outputs": [
    {
     "name": "stdout",
     "output_type": "stream",
     "text": [
      "['python one', 'python two', 'python three']\n"
     ]
    }
   ],
   "source": [
    "import re\n",
    "p = re.compile(\"^python\\s\\w+\", re.MULTILINE) \n",
    "# 옵션을 주어 각 라인에서의 처음을 정규식과 매칭시킴\n",
    "\n",
    "data = \"\"\"python one\n",
    "life is too short\n",
    "python two\n",
    "you need python\n",
    "python three\"\"\"\n",
    "\n",
    "print(p.findall(data))"
   ]
  },
  {
   "cell_type": "code",
   "execution_count": 51,
   "metadata": {},
   "outputs": [
    {
     "name": "stdout",
     "output_type": "stream",
     "text": [
      "['python one', 'python two', 'python three']\n"
     ]
    }
   ],
   "source": [
    "import re\n",
    "p = re.compile(\"^python\\s\\w+\", re.M) \n",
    "# 옵션을 주어 각 라인에서의 처음을 정규식과 매칭시킴\n",
    "\n",
    "data = \"\"\"python one\n",
    "life is too short\n",
    "python two\n",
    "you need python\n",
    "python three\"\"\"\n",
    "\n",
    "print(p.findall(data))"
   ]
  },
  {
   "cell_type": "markdown",
   "metadata": {},
   "source": [
    "### VERBOSE, X (re.VERBOSE, re.X)\n",
    "\n",
    "    * 복잡한 정규식을 쉽게 보기 위해, \n",
    "    * 정규식 ''안에 whitespace와 주석 #을 쓸 수있게 해주는 기능"
   ]
  },
  {
   "cell_type": "markdown",
   "metadata": {},
   "source": [
    " * 같은 식을 VERBOSE를 쓰고, 안쓰고 로 구분"
   ]
  },
  {
   "cell_type": "code",
   "execution_count": 51,
   "metadata": {},
   "outputs": [],
   "source": [
    "# 방식 1(안쓰고)\n",
    "charref = re.compile(r'&[#](0[0-7]+|[0-9]+|x[0-9a-fA-F]+);')"
   ]
  },
  {
   "cell_type": "code",
   "execution_count": 50,
   "metadata": {},
   "outputs": [],
   "source": [
    "# 방식 2(쓰고)  => 위와 같은 의미임\n",
    "charref = re.compile(r\"\"\"\n",
    " &[#]                # Start of a numeric entity reference\n",
    " (\n",
    "     0[0-7]+         # Octal form\n",
    "   | [0-9]+          # Decimal form\n",
    "   | x[0-9a-fA-F]+   # Hexadecimal form\n",
    " )\n",
    " ;                   # Trailing semicolon\n",
    "\"\"\", re.VERBOSE)\n",
    "# re.VERBOSE 옵션으로 #뒤와 whitespace는 무의미 처리됨"
   ]
  },
  {
   "cell_type": "markdown",
   "metadata": {},
   "source": [
    "## re.match(\"A(문자열 또는 정규식)\", 문자열 B)\n",
    "## = 컴파일객체.match(문자열B)\n",
    "    * 문자열 B 내에서 A(문자열 또는 정규식)에 해당하는 부분을 찾아 re.Match 객체로 생성\n",
    "    * re.Match 객체는 group(), start(), end(), span()등 메소드 사용 가능  \n",
    "    \n",
    "        * group()\n",
    "            * 매치된 문자열을 돌려준다.  \n",
    "        \n",
    "        * start()\n",
    "            * 매치된 문자열의 시작 위치(인덱스)를 돌려준다.  \n",
    "            * .match()로 얻은 Match객체의 start() 값은 항상 0이다.\n",
    "                *re.match()는 비교하는 문자열의 시작에서 매칭이 안되면, None을 반환함\n",
    "        \n",
    "        * end()\n",
    "            * 매치된 문자열의 끝 위치를 돌려준다.\n",
    "        \n",
    "        * span()\n",
    "            * 매치된 문자열의 (시작, 끝)에 해당하는 튜플을 돌려준다.\n",
    "            "
   ]
  },
  {
   "cell_type": "code",
   "execution_count": 14,
   "metadata": {},
   "outputs": [
    {
     "data": {
      "text/plain": [
       "<re.Match object; span=(0, 5), match='Hello'>"
      ]
     },
     "execution_count": 14,
     "metadata": {},
     "output_type": "execute_result"
    }
   ],
   "source": [
    "import re\n",
    "\n",
    "re.match('Hello', 'Hello, world!')\n",
    "# 문자열이 있으므로 정규표현식 매치 객체가 반환됨"
   ]
  },
  {
   "cell_type": "code",
   "execution_count": 5,
   "metadata": {},
   "outputs": [
    {
     "data": {
      "text/plain": [
       "'Hello'"
      ]
     },
     "execution_count": 5,
     "metadata": {},
     "output_type": "execute_result"
    }
   ],
   "source": [
    "re_obj1 = re.match('Hello', 'Hello, world!')\n",
    "\n",
    "## 매치된 문자 반환\n",
    "re_obj1.group()"
   ]
  },
  {
   "cell_type": "code",
   "execution_count": 6,
   "metadata": {},
   "outputs": [
    {
     "data": {
      "text/plain": [
       "0"
      ]
     },
     "execution_count": 6,
     "metadata": {},
     "output_type": "execute_result"
    }
   ],
   "source": [
    "# 문자열에서 매치된 문자의 시작 인덱스 반환\n",
    "re_obj1.start()"
   ]
  },
  {
   "cell_type": "code",
   "execution_count": 7,
   "metadata": {},
   "outputs": [
    {
     "data": {
      "text/plain": [
       "5"
      ]
     },
     "execution_count": 7,
     "metadata": {},
     "output_type": "execute_result"
    }
   ],
   "source": [
    "# 문자열에서 매치된 문자의 끝 인덱스 반환\n",
    "re_obj1.end()"
   ]
  },
  {
   "cell_type": "code",
   "execution_count": 9,
   "metadata": {},
   "outputs": [
    {
     "data": {
      "text/plain": [
       "(0, 5)"
      ]
     },
     "execution_count": 9,
     "metadata": {},
     "output_type": "execute_result"
    }
   ],
   "source": [
    "# 문자열에서 매치된 문자의 (시작idx, 끝idx) 튜플 반환\n",
    "re_obj1.span()"
   ]
  },
  {
   "cell_type": "code",
   "execution_count": 46,
   "metadata": {},
   "outputs": [],
   "source": [
    "re.match('Python', 'Hello, world!')    \n",
    "# 문자열이 없으므로 아무것도 반환되지 않음"
   ]
  },
  {
   "cell_type": "markdown",
   "metadata": {},
   "source": [
    " * 응용"
   ]
  },
  {
   "cell_type": "code",
   "execution_count": 15,
   "metadata": {},
   "outputs": [
    {
     "data": {
      "text/plain": [
       "<re.Match object; span=(0, 6), match='10 295'>"
      ]
     },
     "execution_count": 15,
     "metadata": {},
     "output_type": "execute_result"
    }
   ],
   "source": [
    "m = re.match('([0-9]+) ([0-9]+)', '10 295') ## 정규식 의미 0~9까지 숫자중 하나가 최소 한개 이상 있다.\n",
    "m"
   ]
  },
  {
   "cell_type": "markdown",
   "metadata": {},
   "source": [
    "## re.search(정규식, 문자열)\n",
    "## = p.search(문자열)\n",
    "## p : 컴파일 객체"
   ]
  },
  {
   "cell_type": "markdown",
   "metadata": {},
   "source": [
    "### match()와 search()의 차이\n",
    "\n",
    "    * 공동점 : 둘다 re.Match 객체로 반환\n",
    "\n",
    "     * match()\n",
    "         * 문자열의 처음부터 정규식과 매치되는지 조사한다.\n",
    "         * 시작에 매치되는 정규식이 없으면 None 반환!!(Match 객체가 생성되지 않음)\n",
    "         \n",
    "     * search()\n",
    "         * 문자열 전체를 검색하여 정규식과 매치되는지 조사한다.\n",
    "         * 매칭이 여러번 되는 문자열의 경우 맨 앞쪽(왼쪽) 한번만 매칭됨"
   ]
  },
  {
   "cell_type": "code",
   "execution_count": 13,
   "metadata": {},
   "outputs": [],
   "source": [
    "import re\n",
    "\n",
    "p = re.compile('[a-z]+')    # a부터 z까지 하나이상인가?"
   ]
  },
  {
   "cell_type": "code",
   "execution_count": 14,
   "metadata": {},
   "outputs": [],
   "source": [
    "m = p.match(\"3 python\")  # match는 처음부터 비교, 문자 3이 매칭되지 않아서 None 반환\n",
    "m"
   ]
  },
  {
   "cell_type": "code",
   "execution_count": 15,
   "metadata": {},
   "outputs": [
    {
     "ename": "AttributeError",
     "evalue": "'NoneType' object has no attribute 'group'",
     "output_type": "error",
     "traceback": [
      "\u001b[1;31m---------------------------------------------------------------------------\u001b[0m",
      "\u001b[1;31mAttributeError\u001b[0m                            Traceback (most recent call last)",
      "\u001b[1;32m<ipython-input-15-b9a6738fa293>\u001b[0m in \u001b[0;36m<module>\u001b[1;34m\u001b[0m\n\u001b[1;32m----> 1\u001b[1;33m \u001b[0mm\u001b[0m\u001b[1;33m.\u001b[0m\u001b[0mgroup\u001b[0m\u001b[1;33m(\u001b[0m\u001b[1;33m)\u001b[0m\u001b[1;33m\u001b[0m\u001b[1;33m\u001b[0m\u001b[0m\n\u001b[0m",
      "\u001b[1;31mAttributeError\u001b[0m: 'NoneType' object has no attribute 'group'"
     ]
    }
   ],
   "source": [
    "m.group()"
   ]
  },
  {
   "cell_type": "code",
   "execution_count": 23,
   "metadata": {},
   "outputs": [
    {
     "data": {
      "text/plain": [
       "<re.Match object; span=(0, 6), match='python'>"
      ]
     },
     "execution_count": 23,
     "metadata": {},
     "output_type": "execute_result"
    }
   ],
   "source": [
    "m = p.match(\"python 3\")  # python까지는 매칭하고 다음 space는 매칭하지 않음\n",
    "m"
   ]
  },
  {
   "cell_type": "code",
   "execution_count": 24,
   "metadata": {},
   "outputs": [
    {
     "data": {
      "text/plain": [
       "<re.Match object; span=(0, 6), match='python'>"
      ]
     },
     "execution_count": 24,
     "metadata": {},
     "output_type": "execute_result"
    }
   ],
   "source": [
    "m = p.match(\"python 3 python\")  # python까지는 매칭하고 다음 space는 매칭하지 않음\n",
    "m"
   ]
  },
  {
   "cell_type": "code",
   "execution_count": 20,
   "metadata": {},
   "outputs": [
    {
     "data": {
      "text/plain": [
       "<re.Match object; span=(2, 8), match='python'>"
      ]
     },
     "execution_count": 20,
     "metadata": {},
     "output_type": "execute_result"
    }
   ],
   "source": [
    "m = p.search(\"3 python\") # 전체 중 \"python\"부분은 매칭됨\n",
    "m"
   ]
  },
  {
   "cell_type": "code",
   "execution_count": 41,
   "metadata": {},
   "outputs": [
    {
     "data": {
      "text/plain": [
       "<re.Match object; span=(2, 8), match='python'>"
      ]
     },
     "execution_count": 41,
     "metadata": {},
     "output_type": "execute_result"
    }
   ],
   "source": [
    "m = p.search(\"3 python 3 python\") # 전체 중 \"python\"부분은 매칭됨\n",
    "m    # 결과를 보니 문자열을 한번 만 찾나봄"
   ]
  },
  {
   "cell_type": "code",
   "execution_count": 37,
   "metadata": {},
   "outputs": [
    {
     "data": {
      "text/plain": [
       "2"
      ]
     },
     "execution_count": 37,
     "metadata": {},
     "output_type": "execute_result"
    }
   ],
   "source": [
    "m.start()"
   ]
  },
  {
   "cell_type": "code",
   "execution_count": 39,
   "metadata": {},
   "outputs": [
    {
     "data": {
      "text/plain": [
       "8"
      ]
     },
     "execution_count": 39,
     "metadata": {},
     "output_type": "execute_result"
    }
   ],
   "source": [
    "m.end()"
   ]
  },
  {
   "cell_type": "code",
   "execution_count": 40,
   "metadata": {},
   "outputs": [
    {
     "data": {
      "text/plain": [
       "(2, 8)"
      ]
     },
     "execution_count": 40,
     "metadata": {},
     "output_type": "execute_result"
    }
   ],
   "source": [
    "m.span()"
   ]
  },
  {
   "cell_type": "markdown",
   "metadata": {},
   "source": [
    "## re.findall(정규식, 문자열)\n",
    "## = p.findall(문자열)\n",
    "## p : 컴파일 객체\n",
    "     * 정규식과 매치되는 모든 문자열(substring)을 리스트로 돌려준다."
   ]
  },
  {
   "cell_type": "code",
   "execution_count": 59,
   "metadata": {},
   "outputs": [],
   "source": [
    "import re\n",
    "\n",
    "p = re.compile('[a-z]+')    # a부터 z까지 하나 이상인가?"
   ]
  },
  {
   "cell_type": "code",
   "execution_count": 60,
   "metadata": {},
   "outputs": [
    {
     "name": "stdout",
     "output_type": "stream",
     "text": [
      "['life', 'is', 'too', 'short']\n"
     ]
    }
   ],
   "source": [
    "result = p.findall(\"life is too short\")\n",
    "print(result)"
   ]
  },
  {
   "cell_type": "markdown",
   "metadata": {},
   "source": [
    " * +역할 확인(문자 한개가 아닌 뭉텡이(단어)로 매칭시킴)"
   ]
  },
  {
   "cell_type": "code",
   "execution_count": 61,
   "metadata": {},
   "outputs": [],
   "source": [
    "import re\n",
    "\n",
    "p = re.compile('[a-z]')    # a부터 z까지 중 문자 한개랑 매칭"
   ]
  },
  {
   "cell_type": "code",
   "execution_count": 62,
   "metadata": {},
   "outputs": [
    {
     "name": "stdout",
     "output_type": "stream",
     "text": [
      "['l', 'i', 'f', 'e', 'i', 's', 't', 'o', 'o', 's', 'h', 'o', 'r', 't']\n"
     ]
    }
   ],
   "source": [
    "result = p.findall(\"life is too short\")\n",
    "print(result)"
   ]
  },
  {
   "cell_type": "markdown",
   "metadata": {},
   "source": [
    "### re.findall과 re.split의 차이\n",
    "     * re.split은 정규식으로 매치되지 않는 부분도 각각 리스트의 요소로 생성"
   ]
  },
  {
   "cell_type": "code",
   "execution_count": 113,
   "metadata": {},
   "outputs": [
    {
     "name": "stdout",
     "output_type": "stream",
     "text": [
      "['ABC', 'ABC']\n"
     ]
    }
   ],
   "source": [
    "import re\n",
    "\n",
    "p = re.compile('(ABC)+')\n",
    "\n",
    "m = p.findall('ABCwerABCABC OK?')\n",
    "\n",
    "print(m)"
   ]
  },
  {
   "cell_type": "code",
   "execution_count": 114,
   "metadata": {},
   "outputs": [
    {
     "name": "stdout",
     "output_type": "stream",
     "text": [
      "['', 'ABC', 'wer', 'ABC', ' OK?']\n"
     ]
    }
   ],
   "source": [
    "import re\n",
    "\n",
    "p = re.compile('(ABC)+')\n",
    "\n",
    "m = p.split('ABCwerABCABC OK?')\n",
    "\n",
    "print(m)"
   ]
  },
  {
   "cell_type": "markdown",
   "metadata": {},
   "source": [
    "## re.finditer(정규식, 문자열)\n",
    "## = p.finditer(문자열)\n",
    "## p : 컴파일 객체\n",
    "\n",
    "    * 문자열에서 정규식과 매칭되는 모든 부분을 각각 Match 객체로 만들어  \n",
    "      이것들을 요소로하는 이터레이터(iterator) 생성  \n",
    "    * re.match(), re.search()는 처음에 매칭되는 한 부분만 객체로 만들기 때문에,  \n",
    "      re.finditer()가 사용 용도가 훨씬 다양함"
   ]
  },
  {
   "cell_type": "code",
   "execution_count": 20,
   "metadata": {},
   "outputs": [],
   "source": [
    "import re\n",
    "\n",
    "p = re.compile('[a-z]+')    # a부터 z까지 하나 이상인가?"
   ]
  },
  {
   "cell_type": "code",
   "execution_count": 33,
   "metadata": {},
   "outputs": [
    {
     "data": {
      "text/plain": [
       "<callable_iterator at 0x25761e290a0>"
      ]
     },
     "execution_count": 33,
     "metadata": {},
     "output_type": "execute_result"
    }
   ],
   "source": [
    "result = p.finditer(\"life is too short\")\n",
    "result"
   ]
  },
  {
   "cell_type": "code",
   "execution_count": 34,
   "metadata": {},
   "outputs": [
    {
     "data": {
      "text/plain": [
       "<re.Match object; span=(0, 4), match='life'>"
      ]
     },
     "execution_count": 34,
     "metadata": {},
     "output_type": "execute_result"
    }
   ],
   "source": [
    "result1 = result.__next__()\n",
    "result1"
   ]
  },
  {
   "cell_type": "code",
   "execution_count": 35,
   "metadata": {},
   "outputs": [
    {
     "data": {
      "text/plain": [
       "<re.Match object; span=(5, 7), match='is'>"
      ]
     },
     "execution_count": 35,
     "metadata": {},
     "output_type": "execute_result"
    }
   ],
   "source": [
    "result2 = result.__next__()\n",
    "result2"
   ]
  },
  {
   "cell_type": "code",
   "execution_count": 36,
   "metadata": {},
   "outputs": [
    {
     "data": {
      "text/plain": [
       "<re.Match object; span=(8, 11), match='too'>"
      ]
     },
     "execution_count": 36,
     "metadata": {},
     "output_type": "execute_result"
    }
   ],
   "source": [
    "result3 = result.__next__()\n",
    "result3"
   ]
  },
  {
   "cell_type": "code",
   "execution_count": 37,
   "metadata": {},
   "outputs": [
    {
     "data": {
      "text/plain": [
       "<re.Match object; span=(12, 17), match='short'>"
      ]
     },
     "execution_count": 37,
     "metadata": {},
     "output_type": "execute_result"
    }
   ],
   "source": [
    "result4 = result.__next__()\n",
    "result4"
   ]
  },
  {
   "cell_type": "code",
   "execution_count": 38,
   "metadata": {},
   "outputs": [
    {
     "ename": "StopIteration",
     "evalue": "",
     "output_type": "error",
     "traceback": [
      "\u001b[1;31m---------------------------------------------------------------------------\u001b[0m",
      "\u001b[1;31mStopIteration\u001b[0m                             Traceback (most recent call last)",
      "\u001b[1;32m<ipython-input-38-bd90f78bb6f0>\u001b[0m in \u001b[0;36m<module>\u001b[1;34m\u001b[0m\n\u001b[0;32m      1\u001b[0m \u001b[1;31m# 다른 이터레이터와 마찬가지로 StopIter 에러 발생\u001b[0m\u001b[1;33m\u001b[0m\u001b[1;33m\u001b[0m\u001b[1;33m\u001b[0m\u001b[0m\n\u001b[1;32m----> 2\u001b[1;33m \u001b[0mresult5\u001b[0m \u001b[1;33m=\u001b[0m \u001b[0mresult\u001b[0m\u001b[1;33m.\u001b[0m\u001b[0m__next__\u001b[0m\u001b[1;33m(\u001b[0m\u001b[1;33m)\u001b[0m\u001b[1;33m\u001b[0m\u001b[1;33m\u001b[0m\u001b[0m\n\u001b[0m\u001b[0;32m      3\u001b[0m \u001b[0mresult5\u001b[0m\u001b[1;33m\u001b[0m\u001b[1;33m\u001b[0m\u001b[0m\n",
      "\u001b[1;31mStopIteration\u001b[0m: "
     ]
    }
   ],
   "source": [
    "# 다른 이터레이터와 마찬가지로 StopIter 에러 발생\n",
    "result5 = result.__next__()\n",
    "result5"
   ]
  },
  {
   "cell_type": "markdown",
   "metadata": {},
   "source": [
    "### re.sub(pattern, repl, string, count, flags)\n",
    "    - 패턴에 일치하는 문자열을 다른 문자열로 바꿔주는 것\n",
    "    - pattern : 바꿔야하는 대상(패턴) ⇒ 문자열 or 정규식으로 표현\n",
    "    - repl : 매칭된 부분을 바꾼 결과가 될 다른 문자열\n",
    "    - string : 함수를 적용할 대상 문자열\n",
    "    - count : 문자열 변경 작업을 최대 몇 번 까지 수행할 것인지\n",
    "    - flags"
   ]
  },
  {
   "cell_type": "code",
   "execution_count": 78,
   "metadata": {},
   "outputs": [
    {
     "data": {
      "text/plain": [
       "'Hi, world!'"
      ]
     },
     "execution_count": 78,
     "metadata": {},
     "output_type": "execute_result"
    }
   ],
   "source": [
    "import re\n",
    "\n",
    "re.sub('Hello', 'Hi', 'Hello, world!') \n",
    "# re.sub(A(정규식), B(문자열), C(문자열)) : C에서 A랑 매칭되는 부분을 B로 변경"
   ]
  },
  {
   "cell_type": "markdown",
   "metadata": {},
   "source": [
    "## 3. 각종 메타문자들"
   ]
  },
  {
   "cell_type": "markdown",
   "metadata": {},
   "source": [
    "* | : or 와 동일한 의미"
   ]
  },
  {
   "cell_type": "code",
   "execution_count": 172,
   "metadata": {},
   "outputs": [
    {
     "name": "stdout",
     "output_type": "stream",
     "text": [
      "<re.Match object; span=(2, 7), match='Servo'>\n"
     ]
    }
   ],
   "source": [
    "p = re.compile('Crow|Servo')\n",
    "m = p.search('CrServoHello')\n",
    "print(m)"
   ]
  },
  {
   "cell_type": "markdown",
   "metadata": {},
   "source": [
    "* ^ : 문자열의 맨처음과 매치함을 의미 / 문자클래스[] 안에서는 반대 의미임에 주의!"
   ]
  },
  {
   "cell_type": "code",
   "execution_count": 173,
   "metadata": {},
   "outputs": [
    {
     "data": {
      "text/plain": [
       "<re.Match object; span=(0, 4), match='Life'>"
      ]
     },
     "execution_count": 173,
     "metadata": {},
     "output_type": "execute_result"
    }
   ],
   "source": [
    "re.search('^Life', 'Life is too short')"
   ]
  },
  {
   "cell_type": "code",
   "execution_count": 176,
   "metadata": {},
   "outputs": [],
   "source": [
    "re.search('^Life', 'my Life')"
   ]
  },
  {
   "cell_type": "markdown",
   "metadata": {},
   "source": [
    "* $ : 문자열의 맨끝과 매치함을 의미"
   ]
  },
  {
   "cell_type": "code",
   "execution_count": 178,
   "metadata": {},
   "outputs": [],
   "source": [
    "re.search('short$', 'short pants')"
   ]
  },
  {
   "cell_type": "code",
   "execution_count": 177,
   "metadata": {},
   "outputs": [
    {
     "data": {
      "text/plain": [
       "<re.Match object; span=(12, 17), match='short'>"
      ]
     },
     "execution_count": 177,
     "metadata": {},
     "output_type": "execute_result"
    }
   ],
   "source": [
    "re.search('short$', 'Life is too short')"
   ]
  },
  {
   "cell_type": "markdown",
   "metadata": {},
   "source": [
    "* \\A : 문자열의 처음과 매치됨을 의미\n",
    "    * ^ 메타 문자와 동일한 의미이지만, re.MULTILINE 옵션을 사용할 경우에는 다르게 해석됨\n",
    "    * re.MULTILINE 옵션을 사용할 경우 ^은 각 줄의 문자열의 처음과 매치되지만 \\A는 줄과 상관없이 전체 문자열의 처음하고만 매치된다."
   ]
  },
  {
   "cell_type": "markdown",
   "metadata": {},
   "source": [
    "* \\Z : 문자의열 끝과 매치됨을 의미\n",
    "    * $ 메타 문자와 동일한 의미이지만, re.MULTILINE 옵션을 사용할 경우에는 다르게 해석됨  \n",
    "    \n",
    "    * re.MULTILINE 옵션을 사용할 경우 $은 각 줄의 문자열의 끝과 매치되지만 \\A는 줄과 상관없이 전체 문자열의 끝하고만 매치된다."
   ]
  },
  {
   "cell_type": "markdown",
   "metadata": {},
   "source": [
    "## 4. 백슬래쉬와 r prefix(raw String)\n",
    "\n",
    "    * 정규표현식에서 백스페이스\\를 매칭하고 싶으면, 연속 2번써서 이스케이프 처리하면됨\n",
    "    * r prefix (Raw string) 관련\n",
    "        * https://wikidocs.net/4308 => '백슬래시 문제' 검색"
   ]
  },
  {
   "cell_type": "markdown",
   "metadata": {},
   "source": [
    " *  \"\\section\" 문자열을 찾기 위한 정규식\n",
    "     * 예를 들어 정규식에 \"\\section\"으로 적으면, '\\s'와 'ection'을 따로 인식하여,\n",
    "     * [ \\t\\n\\r\\f\\v]ection로 인식하게됨\n",
    "     * 따라서 정규식을 '\\\\section'으로 적어야 함"
   ]
  },
  {
   "cell_type": "markdown",
   "metadata": {},
   "source": [
    "* 파이썬에서 '\\section' 문자열을 정의하기 위해서는, 코드상 '\\\\\\section'으로 정의"
   ]
  },
  {
   "cell_type": "code",
   "execution_count": 191,
   "metadata": {},
   "outputs": [
    {
     "name": "stdout",
     "output_type": "stream",
     "text": [
      "\\section\n"
     ]
    }
   ],
   "source": [
    "txt = \"\\\\section\"\n",
    "print(txt)"
   ]
  },
  {
   "cell_type": "markdown",
   "metadata": {},
   "source": [
    "### 파이썬의 백슬래시 문제 : \n",
    "### 파이썬에서 정규식으로 '\\section'을 검색하기 위해서는 '\\\\\\\\\\\\\\\\section'을 적어야함\n",
    "\n",
    "* '\\' 4개를 적어야 2개가 정규식엔진으로 들어가고\n",
    "* '\\' 2개가 파이썬 문자열 규칙에 따라 실제 '\\'가 한 개 포함된 문자열을 탐색한다 "
   ]
  },
  {
   "cell_type": "code",
   "execution_count": 190,
   "metadata": {},
   "outputs": [
    {
     "data": {
      "text/plain": [
       "<re.Match object; span=(0, 8), match='\\\\section'>"
      ]
     },
     "execution_count": 190,
     "metadata": {},
     "output_type": "execute_result"
    }
   ],
   "source": [
    "p = re.compile('\\\\\\\\section') # 백슬래시 4개를 적으면 2개가 들어간다\n",
    "\n",
    "m = p.search(txt)\n",
    "m"
   ]
  },
  {
   "cell_type": "code",
   "execution_count": 194,
   "metadata": {},
   "outputs": [
    {
     "data": {
      "text/plain": [
       "'\\\\section'"
      ]
     },
     "execution_count": 194,
     "metadata": {},
     "output_type": "execute_result"
    }
   ],
   "source": [
    "m.group()    # 그냥 치면 문자열 표현식에 따라 \\가 2개 보이지만"
   ]
  },
  {
   "cell_type": "code",
   "execution_count": 196,
   "metadata": {},
   "outputs": [
    {
     "name": "stdout",
     "output_type": "stream",
     "text": [
      "\\section\n"
     ]
    }
   ],
   "source": [
    "print(m.group())    # 실제로 print로 출력해보면, \\가 한 개 인 것을 알 수 있음"
   ]
  },
  {
   "cell_type": "markdown",
   "metadata": {},
   "source": [
    "### 문제 해결을 위해서 r prefix를 사용"
   ]
  },
  {
   "cell_type": "code",
   "execution_count": 198,
   "metadata": {},
   "outputs": [
    {
     "data": {
      "text/plain": [
       "<re.Match object; span=(0, 8), match='\\\\section'>"
      ]
     },
     "execution_count": 198,
     "metadata": {},
     "output_type": "execute_result"
    }
   ],
   "source": [
    "p2 = re.compile(r'\\\\section') # 백슬래시 2개를 적으면 2개가 들어간다 2개가 들어가야 실제 문자열 1개를 찾는다.\n",
    "\n",
    "m = p2.search(txt)\n",
    "\n",
    "m"
   ]
  },
  {
   "cell_type": "markdown",
   "metadata": {},
   "source": [
    "* r prefix 사용시, 문자열 사용했을 때, \\를 두번 연속쓴 것과 같은 효과"
   ]
  },
  {
   "cell_type": "code",
   "execution_count": 11,
   "metadata": {},
   "outputs": [
    {
     "data": {
      "text/plain": [
       "'456\\\\n123'"
      ]
     },
     "execution_count": 11,
     "metadata": {},
     "output_type": "execute_result"
    }
   ],
   "source": [
    "r\"456\\n123\""
   ]
  },
  {
   "cell_type": "markdown",
   "metadata": {},
   "source": [
    "* 큰 따옴표와 작은 따옴표를 섞어쓰면, 백슬래시가 없어도 출력되기 때문에,   \n",
    "  r\" \\\\' \"에서 '은 \\와 상관없이 출력이 되는 부분이고,   \n",
    "  앞에 \\가 출력되기 위해 문자열 표현에서는 \\\\\\\\로 보이는 것 "
   ]
  },
  {
   "cell_type": "code",
   "execution_count": 4,
   "metadata": {},
   "outputs": [
    {
     "data": {
      "text/plain": [
       "\"\\\\'\""
      ]
     },
     "execution_count": 4,
     "metadata": {},
     "output_type": "execute_result"
    }
   ],
   "source": [
    "r\"\\'\""
   ]
  },
  {
   "cell_type": "code",
   "execution_count": 200,
   "metadata": {},
   "outputs": [
    {
     "data": {
      "text/plain": [
       "\"'\""
      ]
     },
     "execution_count": 200,
     "metadata": {},
     "output_type": "execute_result"
    }
   ],
   "source": [
    "\"'\""
   ]
  },
  {
   "cell_type": "code",
   "execution_count": 9,
   "metadata": {},
   "outputs": [
    {
     "data": {
      "text/plain": [
       "\"'\""
      ]
     },
     "execution_count": 9,
     "metadata": {},
     "output_type": "execute_result"
    }
   ],
   "source": [
    "\"\\'\""
   ]
  },
  {
   "cell_type": "code",
   "execution_count": 10,
   "metadata": {},
   "outputs": [
    {
     "data": {
      "text/plain": [
       "\"\\\\'\""
      ]
     },
     "execution_count": 10,
     "metadata": {},
     "output_type": "execute_result"
    }
   ],
   "source": [
    "r\"\\'\""
   ]
  },
  {
   "cell_type": "code",
   "execution_count": 11,
   "metadata": {},
   "outputs": [
    {
     "ename": "SyntaxError",
     "evalue": "EOL while scanning string literal (<ipython-input-11-a16852ba415a>, line 1)",
     "output_type": "error",
     "traceback": [
      "\u001b[1;36m  File \u001b[1;32m\"<ipython-input-11-a16852ba415a>\"\u001b[1;36m, line \u001b[1;32m1\u001b[0m\n\u001b[1;33m    \"\\\"\u001b[0m\n\u001b[1;37m       ^\u001b[0m\n\u001b[1;31mSyntaxError\u001b[0m\u001b[1;31m:\u001b[0m EOL while scanning string literal\n"
     ]
    }
   ],
   "source": [
    "\"\\\""
   ]
  },
  {
   "cell_type": "code",
   "execution_count": 12,
   "metadata": {},
   "outputs": [
    {
     "ename": "SyntaxError",
     "evalue": "EOL while scanning string literal (<ipython-input-12-be4b0bde9d98>, line 1)",
     "output_type": "error",
     "traceback": [
      "\u001b[1;36m  File \u001b[1;32m\"<ipython-input-12-be4b0bde9d98>\"\u001b[1;36m, line \u001b[1;32m1\u001b[0m\n\u001b[1;33m    r\"\\\"\u001b[0m\n\u001b[1;37m        ^\u001b[0m\n\u001b[1;31mSyntaxError\u001b[0m\u001b[1;31m:\u001b[0m EOL while scanning string literal\n"
     ]
    }
   ],
   "source": [
    "r\"\\\""
   ]
  },
  {
   "cell_type": "markdown",
   "metadata": {},
   "source": [
    "=> 알수 있는 것\n",
    "    * 문자열 안에 들어간 백슬래시 \\은 일반적으로 단독으로 마지막에 쓰이면 => 에러 발생\n",
    "    * 기호들 앞에 쓰이면, 기호만 출력되는데, \n",
    "        * r prefix를 사용하면, \\까지 문자로 인식되도록 함"
   ]
  },
  {
   "cell_type": "code",
   "execution_count": 21,
   "metadata": {},
   "outputs": [
    {
     "data": {
      "text/plain": [
       "\"\\\\'\""
      ]
     },
     "execution_count": 21,
     "metadata": {},
     "output_type": "execute_result"
    }
   ],
   "source": [
    "\"\\\\'\""
   ]
  },
  {
   "cell_type": "markdown",
   "metadata": {},
   "source": [
    "## 5. 그루핑"
   ]
  },
  {
   "cell_type": "markdown",
   "metadata": {},
   "source": [
    " * ()로 ABC를 감싸면 group으로 출력시 반복되서 나옴"
   ]
  },
  {
   "cell_type": "code",
   "execution_count": 110,
   "metadata": {},
   "outputs": [
    {
     "name": "stdout",
     "output_type": "stream",
     "text": [
      "<re.Match object; span=(0, 9), match='ABCABCABC'>\n",
      "ABCABCABC\n"
     ]
    }
   ],
   "source": [
    "import re\n",
    "\n",
    "p = re.compile('(ABC)+')\n",
    "\n",
    "m = p.search('ABCABCABC OK?')\n",
    "\n",
    "print(m)\n",
    "print(m.group())"
   ]
  },
  {
   "cell_type": "markdown",
   "metadata": {},
   "source": [
    " * 중간에 단어들이 끼면 맨 앞쪽 한번만 찾음(search 특성)"
   ]
  },
  {
   "cell_type": "code",
   "execution_count": 111,
   "metadata": {},
   "outputs": [
    {
     "name": "stdout",
     "output_type": "stream",
     "text": [
      "<re.Match object; span=(0, 3), match='ABC'>\n",
      "ABC\n"
     ]
    }
   ],
   "source": [
    "import re\n",
    "\n",
    "p = re.compile('(ABC)+')\n",
    "\n",
    "m = p.search('ABCwerABCABC OK?')\n",
    "print(m)\n",
    "\n",
    "print(m.group())"
   ]
  },
  {
   "cell_type": "markdown",
   "metadata": {},
   "source": [
    " * findall 수행\n",
    "     * 왜 ABCABC를 요소로 못잡지?"
   ]
  },
  {
   "cell_type": "markdown",
   "metadata": {},
   "source": [
    "### findall()은 그룹핑 된 정규식을 한개로만 매칭시키는 문제가 있는 듯??\n",
    "    * finditer()를 사용하자"
   ]
  },
  {
   "cell_type": "code",
   "execution_count": 135,
   "metadata": {},
   "outputs": [
    {
     "name": "stdout",
     "output_type": "stream",
     "text": [
      "['ABC']\n"
     ]
    }
   ],
   "source": [
    "import re\n",
    "\n",
    "p = re.compile('(ABC)+')\n",
    "\n",
    "m = p.findall('ABCABC OK?')\n",
    "\n",
    "print(m)"
   ]
  },
  {
   "cell_type": "code",
   "execution_count": 121,
   "metadata": {},
   "outputs": [
    {
     "name": "stdout",
     "output_type": "stream",
     "text": [
      "['ABC', 'ABC']\n"
     ]
    }
   ],
   "source": [
    "import re\n",
    "\n",
    "p = re.compile('(ABC)+')\n",
    "\n",
    "m = p.findall('ABCwerABCABC OK?')\n",
    "\n",
    "print(m)"
   ]
  },
  {
   "cell_type": "code",
   "execution_count": 128,
   "metadata": {},
   "outputs": [
    {
     "name": "stdout",
     "output_type": "stream",
     "text": [
      "<callable_iterator object at 0x0000025761E29B50>\n"
     ]
    }
   ],
   "source": [
    "import re\n",
    "\n",
    "p = re.compile('(ABC)+')\n",
    "\n",
    "m = p.finditer('ABCwerABCABC OK?')\n",
    "\n",
    "print(m)"
   ]
  },
  {
   "cell_type": "code",
   "execution_count": 129,
   "metadata": {},
   "outputs": [
    {
     "data": {
      "text/plain": [
       "<re.Match object; span=(0, 3), match='ABC'>"
      ]
     },
     "execution_count": 129,
     "metadata": {},
     "output_type": "execute_result"
    }
   ],
   "source": [
    "a1 = m.__next__()\n",
    "a1"
   ]
  },
  {
   "cell_type": "code",
   "execution_count": 132,
   "metadata": {},
   "outputs": [
    {
     "data": {
      "text/plain": [
       "'ABC'"
      ]
     },
     "execution_count": 132,
     "metadata": {},
     "output_type": "execute_result"
    }
   ],
   "source": [
    "a1.group()"
   ]
  },
  {
   "cell_type": "code",
   "execution_count": 130,
   "metadata": {},
   "outputs": [
    {
     "data": {
      "text/plain": [
       "<re.Match object; span=(6, 12), match='ABCABC'>"
      ]
     },
     "execution_count": 130,
     "metadata": {},
     "output_type": "execute_result"
    }
   ],
   "source": [
    "a2 = m.__next__()\n",
    "a2"
   ]
  },
  {
   "cell_type": "code",
   "execution_count": 133,
   "metadata": {},
   "outputs": [
    {
     "data": {
      "text/plain": [
       "'ABCABC'"
      ]
     },
     "execution_count": 133,
     "metadata": {},
     "output_type": "execute_result"
    }
   ],
   "source": [
    "a2.group()"
   ]
  },
  {
   "cell_type": "code",
   "execution_count": 131,
   "metadata": {},
   "outputs": [
    {
     "ename": "StopIteration",
     "evalue": "",
     "output_type": "error",
     "traceback": [
      "\u001b[1;31m---------------------------------------------------------------------------\u001b[0m",
      "\u001b[1;31mStopIteration\u001b[0m                             Traceback (most recent call last)",
      "\u001b[1;32m<ipython-input-131-c2d44ba4e921>\u001b[0m in \u001b[0;36m<module>\u001b[1;34m\u001b[0m\n\u001b[1;32m----> 1\u001b[1;33m \u001b[0ma3\u001b[0m \u001b[1;33m=\u001b[0m \u001b[0mm\u001b[0m\u001b[1;33m.\u001b[0m\u001b[0m__next__\u001b[0m\u001b[1;33m(\u001b[0m\u001b[1;33m)\u001b[0m\u001b[1;33m\u001b[0m\u001b[1;33m\u001b[0m\u001b[0m\n\u001b[0m",
      "\u001b[1;31mStopIteration\u001b[0m: "
     ]
    }
   ],
   "source": [
    "a3 = m.__next__()"
   ]
  },
  {
   "cell_type": "markdown",
   "metadata": {},
   "source": [
    " * () 없이 ABC 쓰면 group으로 출력시 하나만 나옴(+가 C에만 적용됨)"
   ]
  },
  {
   "cell_type": "code",
   "execution_count": 3,
   "metadata": {},
   "outputs": [
    {
     "name": "stdout",
     "output_type": "stream",
     "text": [
      "<re.Match object; span=(0, 3), match='ABC'>\n",
      "ABC\n"
     ]
    }
   ],
   "source": [
    "import re\n",
    "\n",
    "p = re.compile('ABC+')\n",
    "\n",
    "m = p.search('ABCABCABC OK?')\n",
    "print(m)\n",
    "\n",
    "print(m.group())"
   ]
  },
  {
   "cell_type": "code",
   "execution_count": 102,
   "metadata": {},
   "outputs": [
    {
     "name": "stdout",
     "output_type": "stream",
     "text": [
      "<re.Match object; span=(0, 6), match='ABCCCC'>\n",
      "ABCCCC\n"
     ]
    }
   ],
   "source": [
    "import re\n",
    "\n",
    "p = re.compile('ABC+')\n",
    "\n",
    "m = p.search('ABCCCCABCCABC OK?')\n",
    "print(m)\n",
    "\n",
    "print(m.group())"
   ]
  },
  {
   "cell_type": "markdown",
   "metadata": {},
   "source": [
    "### 그루핑으로 전화번호 찾기"
   ]
  },
  {
   "cell_type": "code",
   "execution_count": 207,
   "metadata": {},
   "outputs": [],
   "source": [
    "p = re.compile(r\"(\\w+)\\s+((\\d+)[-]\\d+[-]\\d+)\") # r prefix 안써도 결과는 동일\n",
    "m = p.search(\"park 010-1234-1234\")"
   ]
  },
  {
   "cell_type": "markdown",
   "metadata": {},
   "source": [
    "* group(0) : 전체"
   ]
  },
  {
   "cell_type": "code",
   "execution_count": 208,
   "metadata": {},
   "outputs": [
    {
     "name": "stdout",
     "output_type": "stream",
     "text": [
      "park 010-1234-1234\n"
     ]
    }
   ],
   "source": [
    "print(m.group(0))"
   ]
  },
  {
   "cell_type": "markdown",
   "metadata": {},
   "source": [
    "* group(1) : 첫 번째 괄호 - 이름"
   ]
  },
  {
   "cell_type": "code",
   "execution_count": 209,
   "metadata": {},
   "outputs": [
    {
     "name": "stdout",
     "output_type": "stream",
     "text": [
      "park\n"
     ]
    }
   ],
   "source": [
    "print(m.group(1))"
   ]
  },
  {
   "cell_type": "markdown",
   "metadata": {},
   "source": [
    "* group(2) : 두 번째 괄호 - 전화번호"
   ]
  },
  {
   "cell_type": "code",
   "execution_count": 210,
   "metadata": {},
   "outputs": [
    {
     "name": "stdout",
     "output_type": "stream",
     "text": [
      "010-1234-1234\n"
     ]
    }
   ],
   "source": [
    "print(m.group(2))"
   ]
  },
  {
   "cell_type": "markdown",
   "metadata": {},
   "source": [
    "* group(3) : 세 번째 괄호 - 앞번호"
   ]
  },
  {
   "cell_type": "code",
   "execution_count": 211,
   "metadata": {},
   "outputs": [
    {
     "name": "stdout",
     "output_type": "stream",
     "text": [
      "010\n"
     ]
    }
   ],
   "source": [
    "print(m.group(3))"
   ]
  },
  {
   "cell_type": "markdown",
   "metadata": {},
   "source": [
    "### 재참조\n",
    "\n",
    "### 정규식을 재참조하는 것이 아니라 매칭된 문자열을 다시 참조하는 것임!\n",
    "\n",
    "- \\1\n",
    "    - 첫 번째 그룹(group(1))과 동일한 문자열을 재참조"
   ]
  },
  {
   "cell_type": "code",
   "execution_count": 222,
   "metadata": {},
   "outputs": [
    {
     "data": {
      "text/plain": [
       "'the the'"
      ]
     },
     "execution_count": 222,
     "metadata": {},
     "output_type": "execute_result"
    }
   ],
   "source": [
    "p = re.compile(r'(\\b\\w+)\\s+\\1')    # \\b를 사용하기 때문에 r prefix 써주어여함\n",
    "m = p.search('Paris in the the spring')\n",
    "m.group()"
   ]
  },
  {
   "cell_type": "markdown",
   "metadata": {},
   "source": [
    "* 재참조가 없다면,"
   ]
  },
  {
   "cell_type": "code",
   "execution_count": 169,
   "metadata": {},
   "outputs": [
    {
     "data": {
      "text/plain": [
       "'Paris '"
      ]
     },
     "execution_count": 169,
     "metadata": {},
     "output_type": "execute_result"
    }
   ],
   "source": [
    "p = re.compile(r'(\\b\\w+)\\s+')\n",
    "p.search('Paris in the the spring').group()"
   ]
  },
  {
   "cell_type": "markdown",
   "metadata": {},
   "source": [
    "=> 위와 같이 'Paris '가 매칭되지만,  \n",
    "r'(\\b\\w+)\\s+\\1' 와 같이 정규식을 적으면,  \n",
    "(\\b\\w+)로 매칭 되었던 단어(Paris)가 반복해서 나와야 매칭되므로,  \n",
    "동일한 단어가 2번 나오는 the the가 매칭되는 것"
   ]
  },
  {
   "cell_type": "markdown",
   "metadata": {},
   "source": [
    "- \\2\n",
    "    - 두 번째 그룹(group(2))과 동일한 문자열을 재참조"
   ]
  },
  {
   "cell_type": "code",
   "execution_count": 166,
   "metadata": {},
   "outputs": [
    {
     "data": {
      "text/plain": [
       "'park 010-1234-1234 010-1234-1234'"
      ]
     },
     "execution_count": 166,
     "metadata": {},
     "output_type": "execute_result"
    }
   ],
   "source": [
    "p = re.compile(r\"(\\w+)\\s+((\\d+)[-]\\d+[-]\\d+)\\s+\\2\")\n",
    "m = p.search(\"park 010-1234-1234 010-1234-1234 park ji sung\")\n",
    "m.group()"
   ]
  },
  {
   "cell_type": "markdown",
   "metadata": {},
   "source": [
    "### 그루핑에 이름 붙이기\n",
    "\n",
    "    * (\\w+) --> (?P<그룹명>\\w+)\n",
    "    * 출력: Match객체.group(\"그룹명\")"
   ]
  },
  {
   "cell_type": "code",
   "execution_count": 226,
   "metadata": {},
   "outputs": [
    {
     "name": "stdout",
     "output_type": "stream",
     "text": [
      "park\n"
     ]
    }
   ],
   "source": [
    "p = re.compile(r\"(?P<name>\\w+)\\s+((\\d+)[-]\\d+[-]\\d+)\")    # 여기는 r prefix 안써도 동일\n",
    "m = p.search(\"park 010-1234-1234\")\n",
    "print(m.group(\"name\"))"
   ]
  },
  {
   "cell_type": "code",
   "execution_count": 224,
   "metadata": {},
   "outputs": [
    {
     "name": "stdout",
     "output_type": "stream",
     "text": [
      "park 010-1234-1234\n"
     ]
    }
   ],
   "source": [
    "print(m.group(0))"
   ]
  },
  {
   "cell_type": "code",
   "execution_count": 225,
   "metadata": {},
   "outputs": [
    {
     "name": "stdout",
     "output_type": "stream",
     "text": [
      "park\n"
     ]
    }
   ],
   "source": [
    "print(m.group(1))"
   ]
  },
  {
   "cell_type": "markdown",
   "metadata": {},
   "source": [
    "## 6. 전방 탐색(Lookahead Assertions)\n",
    "\n",
    "    * 매칭되는 조건에는 포함되지만, 출력이나, Match 객체에는 포함되지 않아야 할 문자가 있을 때,  \n",
    "\n",
    "### 긍정형 전방 탐색((?=...)) \n",
    "*  ... 에 해당되는 정규식과 매치되어야 하며 조건이 통과되어도 문자열이 소비되지 않는다.\n",
    "        \n",
    "### 부정형 전방 탐색((?!...)) \n",
    "* ...에 해당되는 정규식과 <span style=\"color:red\">매치되지 않아야 하며,</span> 조건이 통과되어도 문자열이 소비되지 않는다."
   ]
  },
  {
   "cell_type": "markdown",
   "metadata": {},
   "source": [
    "* : 앞에있는 문자들 매칭"
   ]
  },
  {
   "cell_type": "code",
   "execution_count": 170,
   "metadata": {},
   "outputs": [
    {
     "name": "stdout",
     "output_type": "stream",
     "text": [
      "http\n"
     ]
    }
   ],
   "source": [
    "p = re.compile(\".+(?=:)\")\n",
    "m = p.search(\"http://google.com\")\n",
    "print(m.group())"
   ]
  },
  {
   "cell_type": "markdown",
   "metadata": {},
   "source": [
    " * 확장자 매칭\n",
    "    \n",
    "        * .*[.].*$"
   ]
  },
  {
   "cell_type": "markdown",
   "metadata": {},
   "source": [
    "### 부정형 전방 탐색"
   ]
  },
  {
   "cell_type": "markdown",
   "metadata": {},
   "source": [
    " * .bat이 아닌 확장자 매칭"
   ]
  },
  {
   "cell_type": "code",
   "execution_count": 41,
   "metadata": {},
   "outputs": [
    {
     "data": {
      "text/plain": [
       "re.compile(r'.*[.](?!bat$).*$', re.UNICODE)"
      ]
     },
     "execution_count": 41,
     "metadata": {},
     "output_type": "execute_result"
    }
   ],
   "source": [
    "import re\n",
    "\n",
    "re.compile(\".*[.](?!bat$).*$\")\n",
    "\n",
    "\n",
    "# $   뒤에서 부터 \n",
    "# .*  아무문자 0개 이상 가져오는데\n",
    "# [.](?!bat$) .뒤 맨 뒤가 bat이면 안됨"
   ]
  },
  {
   "cell_type": "markdown",
   "metadata": {},
   "source": [
    " * .bat 또는 exe가  아닌 확장자 매칭"
   ]
  },
  {
   "cell_type": "code",
   "execution_count": 42,
   "metadata": {},
   "outputs": [
    {
     "data": {
      "text/plain": [
       "re.compile(r'.*[.](?!bat$|exe$).*$', re.UNICODE)"
      ]
     },
     "execution_count": 42,
     "metadata": {},
     "output_type": "execute_result"
    }
   ],
   "source": [
    "re.compile(\".*[.](?!bat$|exe$).*$\")"
   ]
  },
  {
   "cell_type": "markdown",
   "metadata": {},
   "source": [
    "## 7. 문자열 바꾸기(sub())\n",
    "\n",
    "    * sub('바꿀 문자열', '')\n",
    "    * subn : sub과 동일하지만, 결과를 튜플(변경된 문자열, 변경 횟수)로 반환\n",
    "    * 그룹 참조 시 : \\g<그룹이름> 사용"
   ]
  },
  {
   "cell_type": "code",
   "execution_count": 43,
   "metadata": {},
   "outputs": [
    {
     "data": {
      "text/plain": [
       "'colour socks and colour shoes'"
      ]
     },
     "execution_count": 43,
     "metadata": {},
     "output_type": "execute_result"
    }
   ],
   "source": [
    "import re\n",
    "\n",
    "p = re.compile('(blue|white|red)')    # |는 or을 의미\n",
    "\n",
    "p.sub('colour', 'blue socks and red shoes')"
   ]
  },
  {
   "cell_type": "markdown",
   "metadata": {},
   "source": [
    "* 그룹 참조 시 : \\g<그룹이름> 사용"
   ]
  },
  {
   "cell_type": "code",
   "execution_count": 44,
   "metadata": {},
   "outputs": [
    {
     "name": "stdout",
     "output_type": "stream",
     "text": [
      "010-1234-1234 park\n"
     ]
    }
   ],
   "source": [
    "p = re.compile(r\"(?P<name>\\w+)\\s+(?P<phone>(\\d+)[-]\\d+[-]\\d+)\")\n",
    "\n",
    "print(p.sub(\"\\g<phone> \\g<name>\", \"park 010-1234-1234\"))"
   ]
  },
  {
   "cell_type": "markdown",
   "metadata": {},
   "source": [
    " * 그룹 번호 사용"
   ]
  },
  {
   "cell_type": "code",
   "execution_count": 45,
   "metadata": {},
   "outputs": [
    {
     "name": "stdout",
     "output_type": "stream",
     "text": [
      "010-1234-1234 park\n"
     ]
    }
   ],
   "source": [
    "p = re.compile(r\"(?P<name>\\w+)\\s+(?P<phone>(\\d+)[-]\\d+[-]\\d+)\")\n",
    "\n",
    "print(p.sub(\"\\g<2> \\g<1>\", \"park 010-1234-1234\"))"
   ]
  },
  {
   "cell_type": "code",
   "execution_count": 47,
   "metadata": {},
   "outputs": [
    {
     "data": {
      "text/plain": [
       "'010-1234-1234 park'"
      ]
     },
     "execution_count": 47,
     "metadata": {},
     "output_type": "execute_result"
    }
   ],
   "source": [
    "p.sub(\"\\g<2> \\g<1>\", \"park 010-1234-1234\")"
   ]
  },
  {
   "cell_type": "markdown",
   "metadata": {},
   "source": [
    "### sub 매개변수로 함수 사용하기\n",
    "\n",
    "### 컴파일객체.sub(함수, 문자열)\n",
    "    * 컴파일에 사용된 정규식을 이용해 문자열을 탐색하고, \n",
    "    * 문자열에서 정규식에 매칭되는 모든 부분을 Match 객체로 만들어 함수에 입력 값으로 제공\n",
    "    * 따라서 함수는 Match 객체를 입력받아 무언가 출력물을 return하는 식으로 적용\n",
    "\n",
    "    * sub 메서드의 첫 번째 매개변수로 함수를 넣을 수도 있다.\n",
    "    * 아래에서 hexrepl 함수는 match 객체(위에서 숫자에 매치되는)를 입력으로 받아\n",
    "      16진수로 변환하여 돌려주는 함수\n",
    "    *  sub의 첫 번째 매개변수로 함수를 사용할 경우 \n",
    "      해당 함수의 첫 번째 매개변수에는 정규식과 매치된 match 객체가 입력된다.\n",
    "    * 그리고 매치되는 문자열은 함수의 반환 값으로 바뀌게 된다."
   ]
  },
  {
   "cell_type": "code",
   "execution_count": 227,
   "metadata": {},
   "outputs": [
    {
     "data": {
      "text/plain": [
       "'Call 0xffd2 for printing, 0xc000 for user code.'"
      ]
     },
     "execution_count": 227,
     "metadata": {},
     "output_type": "execute_result"
    }
   ],
   "source": [
    "def hexrepl(match):              # Match 객체를 입력받아서\n",
    "    value = int(match.group())   # 출력결과를 int형으로 바꾸고\n",
    "    return hex(value)            # 그 값을 16진수로 변경\n",
    "\n",
    "p = re.compile(r'\\d+')\n",
    "p.sub(hexrepl, 'Call 65490 for printing, 49152 for user code.') \n",
    "## 컴파일된 정규식을 적용해서 Match객체를 만들고, 그 값을 함수에 입력값으로 사용"
   ]
  },
  {
   "cell_type": "markdown",
   "metadata": {},
   "source": [
    "## 8. Greedy vs Non-Greedy\n",
    "\n",
    "    * 정규식 사용의 특징은 정규식은 탐욕스럽게(Greedy) 적용된다는 것\n",
    "    * 아래 예시 처럼 '<.*>'라는 정규식에,\n",
    "    * <html>로도 매칭이 되고, <html><head><title>Title</title>로도 매칭이 되는 문자열에서는\n",
    "    * <html><head><title>Title</title>으로 매칭이 된다."
   ]
  },
  {
   "cell_type": "code",
   "execution_count": 49,
   "metadata": {},
   "outputs": [
    {
     "data": {
      "text/plain": [
       "32"
      ]
     },
     "execution_count": 49,
     "metadata": {},
     "output_type": "execute_result"
    }
   ],
   "source": [
    "s = '<html><head><title>Title</title>'\n",
    "len(s)"
   ]
  },
  {
   "cell_type": "code",
   "execution_count": 50,
   "metadata": {},
   "outputs": [
    {
     "name": "stdout",
     "output_type": "stream",
     "text": [
      "(0, 32)\n"
     ]
    }
   ],
   "source": [
    "print(re.match('<.*>', s).span())"
   ]
  },
  {
   "cell_type": "code",
   "execution_count": 51,
   "metadata": {},
   "outputs": [
    {
     "name": "stdout",
     "output_type": "stream",
     "text": [
      "<html><head><title>Title</title>\n"
     ]
    }
   ],
   "source": [
    "print(re.match('<.*>', s).group())"
   ]
  },
  {
   "cell_type": "markdown",
   "metadata": {},
   "source": [
    " => 결과를 보면 <html>이 아니라 .*이 가질수 있는 최대한으로 매칭이됨"
   ]
  },
  {
   "cell_type": "markdown",
   "metadata": {},
   "source": [
    " * 위 현상을 Non-Greedy 문자 ?를 사용하면 *?의 탐욕을 막을 수 있음"
   ]
  },
  {
   "cell_type": "code",
   "execution_count": 52,
   "metadata": {},
   "outputs": [
    {
     "name": "stdout",
     "output_type": "stream",
     "text": [
      "<html>\n"
     ]
    }
   ],
   "source": [
    "print(re.match('<.*?>', s).group())"
   ]
  },
  {
   "cell_type": "markdown",
   "metadata": {},
   "source": [
    "## 9. 정규표현식 응용"
   ]
  },
  {
   "cell_type": "markdown",
   "metadata": {},
   "source": [
    "* 연도 검색"
   ]
  },
  {
   "cell_type": "code",
   "execution_count": 228,
   "metadata": {},
   "outputs": [
    {
     "data": {
      "text/plain": [
       "['1993', '1995', '2019', '2000', '2002', '2013', '2015', '2017']"
      ]
     },
     "execution_count": 228,
     "metadata": {},
     "output_type": "execute_result"
    }
   ],
   "source": [
    "#- 연도(숫자)\n",
    "text = \"\"\"\n",
    "The first season of America Premiere League  was played in 1993. \n",
    "The second season was played in 1995 in South Africa. \n",
    "Last season was played in 2019 and won by Chennai Super Kings (CSK).\n",
    "CSK won the title in 2000 and 2002 as well.\n",
    "Mumbai Indians (MI) has also won the title 3 times in 2013, 2015 and 2017.\n",
    "\"\"\"\n",
    "\n",
    "pattern = re.compile(\"[1-2]\\d\\d\\d\")    # 1-2와 숫자 3개\n",
    "pattern.findall(text)"
   ]
  },
  {
   "cell_type": "markdown",
   "metadata": {},
   "source": [
    "* 전화번호부 검색"
   ]
  },
  {
   "cell_type": "code",
   "execution_count": 230,
   "metadata": {},
   "outputs": [
    {
     "name": "stdout",
     "output_type": "stream",
     "text": [
      "010-111-1111\n",
      "------\n"
     ]
    }
   ],
   "source": [
    "#- 전화번호(숫자, 기호)\n",
    "p = re.compile('\\d\\d\\d-\\d\\d\\d-\\d\\d\\d\\d')\n",
    "\n",
    "phone = p.search('This is my phone number 010-111-1111')\n",
    "\n",
    "if phone:\n",
    "  print(phone.group())\n",
    "\n",
    "print('------')\n",
    "\n",
    "phone = p.match ('This is my phone number 010-111-1111')    # match는 못찾으니까 search 써라!\n",
    "\n",
    "if phone:\n",
    "  print(phone.group())"
   ]
  },
  {
   "cell_type": "markdown",
   "metadata": {},
   "source": [
    "* 이메일 검색"
   ]
  },
  {
   "cell_type": "code",
   "execution_count": 231,
   "metadata": {},
   "outputs": [
    {
     "data": {
      "text/plain": [
       "['doingharu@aiffel.com', 'tomorrow@aiffel.com']"
      ]
     },
     "execution_count": 231,
     "metadata": {},
     "output_type": "execute_result"
    }
   ],
   "source": [
    "#- 이메일(알파벳, 숫자, 기호)\n",
    "text = \"My e-mail adress is doingharu@aiffel.com, and tomorrow@aiffel.com\"\n",
    "\n",
    "p = re.compile(\"[0-9a-zA-Z]+@[0-9a-z]+\\.[0-9a-z]+\")\n",
    "\n",
    "p.findall(text)"
   ]
  }
 ],
 "metadata": {
  "kernelspec": {
   "display_name": "Python 3",
   "language": "python",
   "name": "python3"
  },
  "language_info": {
   "codemirror_mode": {
    "name": "ipython",
    "version": 3
   },
   "file_extension": ".py",
   "mimetype": "text/x-python",
   "name": "python",
   "nbconvert_exporter": "python",
   "pygments_lexer": "ipython3",
   "version": "3.8.8"
  }
 },
 "nbformat": 4,
 "nbformat_minor": 4
}
