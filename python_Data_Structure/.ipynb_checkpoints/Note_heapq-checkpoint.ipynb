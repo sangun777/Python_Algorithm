{
 "cells": [
  {
   "cell_type": "markdown",
   "metadata": {},
   "source": [
    "# 파이썬 heapq\n",
    "\n",
    "* 파이썬 heapq 모듈은 heapq (priority queue) 알고리즘을 제공\n",
    "    * 내부적으로는 인덱스 0에서 시작해 k번째 원소가 항상 자식 원소들(2k+1, 2k+2) 보다  \n",
    "      작거나 같은 최소 힙의 형태로 정렬  \n",
    "\n",
    "### 힙의 특징\n",
    "    * 데이터 삽입, 삭제의 시간복잡도가 모두 : O(logN) 임\n",
    "    * 리스트의 경우: 삽입=O(1), 삭제=O(N)\n",
    "\n",
    "\n",
    "### heapq 모듈 주요 기능\n",
    " * heapq.heappush(heap, item) : item을 heap에 추가\n",
    "     * heappush() 시간복잡도 : O(logN)\n",
    " * heapq.heappop(heap)\n",
    "     + heap에서 가장 작은 원소를 pop & 리턴. 비어 있는 경우 IndexError가 호출됨. \n",
    "     * 부모가 최솟값이므로 부모가 빠쪄나오고 새로운 최솟값이 부모가 됨\n",
    "     * heappop() 시간복잡도 : O(logN)\n",
    " * heapq.heapify(x) : 리스트 x를 즉각적으로 heap으로 변환함 (in linear time, O(N) )"
   ]
  },
  {
   "cell_type": "markdown",
   "metadata": {},
   "source": [
    " * 빈 리스트에 힙 구조로 값 추가"
   ]
  },
  {
   "cell_type": "code",
   "execution_count": 1,
   "metadata": {},
   "outputs": [
    {
     "name": "stdout",
     "output_type": "stream",
     "text": [
      "[10, 50, 20]\n"
     ]
    }
   ],
   "source": [
    "import heapq\n",
    "\n",
    "heap = []\n",
    "heapq.heappush(heap, 50)\n",
    "heapq.heappush(heap, 10)\n",
    "heapq.heappush(heap, 20)\n",
    "\n",
    "print(heap)   # 가장 작은 값이 부모 노드로 옮겨짐"
   ]
  },
  {
   "cell_type": "markdown",
   "metadata": {},
   "source": [
    " * 기존의 리스트를 최소 힙 구조로 변경"
   ]
  },
  {
   "cell_type": "code",
   "execution_count": 2,
   "metadata": {},
   "outputs": [
    {
     "data": {
      "text/plain": [
       "[13, 20, 14, 89, 62, 31, 50]"
      ]
     },
     "execution_count": 2,
     "metadata": {},
     "output_type": "execute_result"
    }
   ],
   "source": [
    "h = [50, 89, 13, 20, 62, 31, 14]\n",
    "\n",
    "heapq.heapify(h)\n",
    "\n",
    "h"
   ]
  },
  {
   "cell_type": "markdown",
   "metadata": {},
   "source": [
    " * heappop() 연산\n",
    "     * 최솟값이 부모가 빠져나오고, \n",
    "     * 나머지 중 최솟값이 다시 부모로 변경됨"
   ]
  },
  {
   "cell_type": "code",
   "execution_count": 3,
   "metadata": {},
   "outputs": [
    {
     "name": "stdout",
     "output_type": "stream",
     "text": [
      "13\n",
      "[14, 20, 31, 89, 62, 50]\n"
     ]
    }
   ],
   "source": [
    "h = [13, 20, 14, 89, 62, 31, 50]\n",
    "\n",
    "result = heapq.heappop(h)\n",
    "\n",
    "print(result)\n",
    "print(h)"
   ]
  },
  {
   "cell_type": "markdown",
   "metadata": {},
   "source": [
    " * 최솟값을 삭제하지 않고 가져오기  => [0] 인덱싱 이용"
   ]
  },
  {
   "cell_type": "code",
   "execution_count": 4,
   "metadata": {},
   "outputs": [
    {
     "name": "stdout",
     "output_type": "stream",
     "text": [
      "13\n",
      "[13, 20, 14, 89, 62, 31, 50]\n"
     ]
    }
   ],
   "source": [
    "h = [13, 20, 14, 89, 62, 31, 50]\n",
    "\n",
    "print(h[0])\n",
    "print(h)"
   ]
  },
  {
   "cell_type": "markdown",
   "metadata": {},
   "source": [
    "# 최대 힙 만들기\n",
    "\n",
    "## 모든 값에 -를 붙이고 heap에 넣은 뒤, -를 빼면 됨!!!"
   ]
  },
  {
   "cell_type": "code",
   "execution_count": 6,
   "metadata": {},
   "outputs": [
    {
     "name": "stdout",
     "output_type": "stream",
     "text": [
      "[(-9, 9), (-7, 7), (-3, 3), (-1, 1), (-5, 5)]\n"
     ]
    }
   ],
   "source": [
    "h = [1, 3, 5, 7, 9]\n",
    "\n",
    "max_heap = []\n",
    "for i in h:\n",
    "    heapq.heappush(max_heap, (-i, i))\n",
    "    \n",
    "print(max_heap)"
   ]
  },
  {
   "cell_type": "markdown",
   "metadata": {},
   "source": [
    " => 이렇게 튜플 형태로 넣어 놓고 값을 접근 할 때는 인덱싱[1]을 이용해서 출력"
   ]
  },
  {
   "cell_type": "code",
   "execution_count": 7,
   "metadata": {},
   "outputs": [
    {
     "name": "stdout",
     "output_type": "stream",
     "text": [
      "9\n"
     ]
    }
   ],
   "source": [
    "max_item = heapq.heappop(max_heap)[1]\n",
    "print(max_item)"
   ]
  },
  {
   "cell_type": "markdown",
   "metadata": {},
   "source": [
    "# 힙정렬 구현하기\n",
    "\n",
    "    * 힙을 이용한 정렬 임\n",
    "    * 그냥 데이터를 힙에 넣었다가 빼서 출력하면 끝\n",
    "    * 시간복잡도 : O(NlogN)"
   ]
  },
  {
   "cell_type": "code",
   "execution_count": 2,
   "metadata": {},
   "outputs": [
    {
     "name": "stdout",
     "output_type": "stream",
     "text": [
      "[0, 1, 2, 3, 4, 5, 6, 7, 8, 9]\n"
     ]
    }
   ],
   "source": [
    "import heapq\n",
    "\n",
    "def heapsort(iterable):\n",
    "    h = []\n",
    "    result = []\n",
    "    \n",
    "    for i in iterable:\n",
    "        heapq.heappush(h, i)\n",
    "        \n",
    "    for i in range(len(h)):\n",
    "        result.append(heapq.heappop(h))\n",
    "        \n",
    "    return result\n",
    "\n",
    "a = heapsort([1, 3, 5, 7, 9, 2, 4, 6, 8, 0])\n",
    "print(a)"
   ]
  },
  {
   "cell_type": "markdown",
   "metadata": {},
   "source": [
    "* 내림차순 정렬"
   ]
  },
  {
   "cell_type": "code",
   "execution_count": 3,
   "metadata": {},
   "outputs": [
    {
     "name": "stdout",
     "output_type": "stream",
     "text": [
      "[9, 8, 7, 6, 5, 4, 3, 2, 1, 0]\n"
     ]
    }
   ],
   "source": [
    "import heapq\n",
    "\n",
    "def heapsort(iterable):\n",
    "    h = []\n",
    "    result = []\n",
    "    \n",
    "    for i in iterable:\n",
    "        heapq.heappush(h, -i)    # 넣을 때, 음수로 넣고(역으로 정렬하기 위함)\n",
    "        \n",
    "    for i in range(len(h)):\n",
    "        result.append(-heapq.heappop(h)) # 뺄 때, 다시 음수로 뺀다(원래 값으로 돌려주기 위함)\n",
    "        \n",
    "    return result\n",
    "\n",
    "a = heapsort([1, 3, 5, 7, 9, 2, 4, 6, 8, 0])\n",
    "print(a)"
   ]
  },
  {
   "cell_type": "markdown",
   "metadata": {},
   "source": [
    "## 예제 (최솟값을 계속 뽑아내야 하는 문제)"
   ]
  },
  {
   "cell_type": "markdown",
   "metadata": {},
   "source": [
    "### [예제] 주어진 리스트의 모든 값이 T 이상이 될 때까지 최솟값 두 개를 합치기\n",
    "\n",
    "* N개의 비커에 액체가 담겨 있다. \n",
    "* 모든 비커에 있는 액체의 양이 T 이상이 될 때까지, 액체가 가장 적게 담긴 두 비커의 액체를 합쳐가려 한다.\n",
    "* 각각의 비커에 담겨있는 액체의 양을 표기한 리스트 L과 기준 T가 주어질 때, \n",
    "* 모든 비커의 양이 T 이상이 될 때까지 필요한 작업 횟수를 리턴하는 함수를 구현해보자. \n",
    "* (구현할 수 없는 경우 -1을 리턴)\n"
   ]
  },
  {
   "cell_type": "markdown",
   "metadata": {},
   "source": [
    "T = 4  \n",
    "\n",
    "L = [1, 2, 3, 4, 5, 6, 7]\n",
    "\n",
    "step1. [1, 2]를 합침\n",
    "    => [3, 3, 4, 5, 6, 7]\n",
    "    \n",
    "step2. [3, 3]을 합침\n",
    "    => [6, 4, 5, 6, 7]\n",
    "    \n",
    "=> 모든 비커의 액체의 양이 기준인 4보다 크므로 STOP"
   ]
  },
  {
   "cell_type": "code",
   "execution_count": 14,
   "metadata": {},
   "outputs": [
    {
     "name": "stdout",
     "output_type": "stream",
     "text": [
      "2\n"
     ]
    }
   ],
   "source": [
    "import heapq\n",
    "\n",
    "T = 4\n",
    "L = [1, 2, 3, 4, 5, 6, 7]\n",
    "\n",
    "cnt = 0   # 작업횟수\n",
    "\n",
    "if T > sum(L):\n",
    "    cnt = -1\n",
    "    \n",
    "else:\n",
    "    heapq.heapify(L)\n",
    "\n",
    "    while(L[0] < T):\n",
    "        min_1 = heapq.heappop(L)\n",
    "        min_2 = heapq.heappop(L)\n",
    "        heapq.heappush(L, min_1+min_2)\n",
    "        cnt +=1\n",
    "\n",
    "\n",
    "    \n",
    "print(cnt)"
   ]
  },
  {
   "cell_type": "code",
   "execution_count": 16,
   "metadata": {},
   "outputs": [
    {
     "name": "stdout",
     "output_type": "stream",
     "text": [
      "-1\n"
     ]
    }
   ],
   "source": [
    "import heapq\n",
    "\n",
    "T = 50\n",
    "L = [3, 5, 1, 8, 3, 2, 1, 9]\n",
    "\n",
    "cnt = 0   # 작업횟수\n",
    "\n",
    "if T > sum(L):\n",
    "    cnt = -1\n",
    "    \n",
    "else:\n",
    "    heapq.heapify(L)\n",
    "\n",
    "    while(L[0] < T):\n",
    "        min_1 = heapq.heappop(L)\n",
    "        min_2 = heapq.heappop(L)\n",
    "        heapq.heappush(L, min_1+min_2)\n",
    "        cnt +=1\n",
    "\n",
    "\n",
    "    \n",
    "print(cnt)"
   ]
  },
  {
   "cell_type": "code",
   "execution_count": null,
   "metadata": {},
   "outputs": [],
   "source": []
  }
 ],
 "metadata": {
  "kernelspec": {
   "display_name": "Python 3",
   "language": "python",
   "name": "python3"
  },
  "language_info": {
   "codemirror_mode": {
    "name": "ipython",
    "version": 3
   },
   "file_extension": ".py",
   "mimetype": "text/x-python",
   "name": "python",
   "nbconvert_exporter": "python",
   "pygments_lexer": "ipython3",
   "version": "3.8.5"
  }
 },
 "nbformat": 4,
 "nbformat_minor": 4
}
