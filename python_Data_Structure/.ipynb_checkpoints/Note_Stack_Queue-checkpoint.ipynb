{
 "cells": [
  {
   "cell_type": "markdown",
   "id": "e069ab0c",
   "metadata": {},
   "source": [
    "# 스택(Stack)\n",
    "\n",
    "* 후입선출(LIFO, Last In First Out) 구조\n",
    "\n",
    "### 파이썬은 기존 리스트 자료형으로 스택 역할 가능!!"
   ]
  },
  {
   "cell_type": "markdown",
   "id": "07e99a4b",
   "metadata": {},
   "source": [
    "* 스택 생성"
   ]
  },
  {
   "cell_type": "code",
   "execution_count": 2,
   "id": "949dbc63",
   "metadata": {},
   "outputs": [],
   "source": [
    "# 빈 리스트로 스택 초기화\n",
    "stack = []"
   ]
  },
  {
   "cell_type": "markdown",
   "id": "17ee3c48",
   "metadata": {},
   "source": [
    " * push() : 스택에 원소 추가  =>  리스트.append() "
   ]
  },
  {
   "cell_type": "code",
   "execution_count": 3,
   "id": "89748f8c",
   "metadata": {},
   "outputs": [
    {
     "data": {
      "text/plain": [
       "[1, 2, 3]"
      ]
     },
     "execution_count": 3,
     "metadata": {},
     "output_type": "execute_result"
    }
   ],
   "source": [
    "stack.append(1)\n",
    "stack.append(2)\n",
    "stack.append(3)\n",
    "stack"
   ]
  },
  {
   "cell_type": "markdown",
   "id": "66c939b5",
   "metadata": {},
   "source": [
    "* pop(): 스택의 마지막 원소를 제거하고 반환   => 리스트.pop()"
   ]
  },
  {
   "cell_type": "code",
   "execution_count": 5,
   "id": "4697736a",
   "metadata": {},
   "outputs": [
    {
     "name": "stdout",
     "output_type": "stream",
     "text": [
      "3\n",
      "[1, 2]\n"
     ]
    }
   ],
   "source": [
    "print(stack.pop())\n",
    "print(stack)"
   ]
  },
  {
   "cell_type": "markdown",
   "id": "dbd61e3d",
   "metadata": {},
   "source": [
    "* peek(): 스택의 마지막 원소 제거하지 않고 반환   => 리스트[-1]"
   ]
  },
  {
   "cell_type": "code",
   "execution_count": 7,
   "id": "ac9dbd86",
   "metadata": {},
   "outputs": [
    {
     "name": "stdout",
     "output_type": "stream",
     "text": [
      "[1, 2]\n",
      "2\n",
      "[1, 2]\n"
     ]
    }
   ],
   "source": [
    "print(stack)\n",
    "print(stack[-1])\n",
    "print(stack)"
   ]
  },
  {
   "cell_type": "markdown",
   "id": "19bffe90",
   "metadata": {},
   "source": [
    "* top : 스택의 마지막 값의 인덱스\n",
    "    => -1 또는 len(stack)-1\n"
   ]
  },
  {
   "cell_type": "markdown",
   "id": "972b110e",
   "metadata": {},
   "source": [
    "# 큐(Queue)\n",
    "\n",
    "    * 선입선출(FIFO, First In First Out) 구조\n",
    "    * 용어\n",
    "        * enqueue : 큐에 요소 삽입\n",
    "        * dequeue : 큐에 요소 삭제\n",
    "        * front : 맨 처음 값이 들어간 자리 => dequeue 시, front에 위치한 값이 반환\n",
    "        * rear : 값이 들어간 맨 뒤 위치\n",
    "        \n",
    "# 파이썬에서 큐 사용\n",
    "\n",
    "    1. 리스트에서 pop(0)로 dequeue 이용\n",
    "    2. collections 모듈의 deque 이용\n",
    "    3. queue 모듈 이용"
   ]
  },
  {
   "cell_type": "markdown",
   "id": "179ba7fc",
   "metadata": {},
   "source": [
    "## 2. collections 모듈의 deque 이용\n",
    "\n",
    "    * 시간 복잡도\n",
    "        * 데이터 추가/삭제 : O(1)  (Queue class와 동일)\n",
    "        * 데이터 접근 : O(N)   (Queue class와 동일)"
   ]
  },
  {
   "cell_type": "markdown",
   "id": "08dc9dc2",
   "metadata": {},
   "source": [
    "### deque 생성"
   ]
  },
  {
   "cell_type": "code",
   "execution_count": 9,
   "id": "5190d1a1",
   "metadata": {},
   "outputs": [
    {
     "data": {
      "text/plain": [
       "deque([1, 2, 3, 4, 5])"
      ]
     },
     "execution_count": 9,
     "metadata": {},
     "output_type": "execute_result"
    }
   ],
   "source": [
    "from collections import deque\n",
    "\n",
    "# 큐 생성\n",
    "q = deque([1, 2, 3, 4, 5])\n",
    "q"
   ]
  },
  {
   "cell_type": "markdown",
   "id": "8bf36d9d",
   "metadata": {},
   "source": [
    "### deque에서 값 넣기(enqueue) => dq.append() 이용"
   ]
  },
  {
   "cell_type": "code",
   "execution_count": 10,
   "id": "e6b786da",
   "metadata": {},
   "outputs": [
    {
     "data": {
      "text/plain": [
       "deque([1, 2, 3, 4, 5, 7, 8])"
      ]
     },
     "execution_count": 10,
     "metadata": {},
     "output_type": "execute_result"
    }
   ],
   "source": [
    "q.append(7)\n",
    "q.append(8)\n",
    "q"
   ]
  },
  {
   "cell_type": "markdown",
   "id": "2167a620",
   "metadata": {},
   "source": [
    "### dequeue에서 앞 쪽 값 삭제+반환(dequeue) => dq.popleft() 이용"
   ]
  },
  {
   "cell_type": "code",
   "execution_count": 11,
   "id": "1a77ebfd",
   "metadata": {},
   "outputs": [
    {
     "name": "stdout",
     "output_type": "stream",
     "text": [
      "1\n",
      "deque([2, 3, 4, 5, 7, 8])\n"
     ]
    }
   ],
   "source": [
    "result = q.popleft()\n",
    "\n",
    "print(result)\n",
    "print(q)"
   ]
  },
  {
   "cell_type": "markdown",
   "id": "72069fe4",
   "metadata": {},
   "source": [
    "### dequeue를 활용한 양방향 큐 기능\n",
    "\n",
    "    * dq.pop() : 마지막 요소 삭제+반환\n",
    "    * dq.appendleft() : 앞쪽에 요소를 넣고, 나머지를 밀어냄"
   ]
  },
  {
   "cell_type": "markdown",
   "id": "bc415e3e",
   "metadata": {},
   "source": [
    " * de.pop : 마지막 값 삭제+반환"
   ]
  },
  {
   "cell_type": "code",
   "execution_count": 12,
   "id": "aae89e79",
   "metadata": {},
   "outputs": [
    {
     "name": "stdout",
     "output_type": "stream",
     "text": [
      "8\n",
      "deque([2, 3, 4, 5, 7])\n"
     ]
    }
   ],
   "source": [
    "result = q.pop()\n",
    "\n",
    "print(result)\n",
    "print(q)"
   ]
  },
  {
   "cell_type": "markdown",
   "id": "a9cf5ac4",
   "metadata": {},
   "source": [
    "* dq.appendleft() : 앞쪽에 요소를 넣고, 나머지를 밀어냄"
   ]
  },
  {
   "cell_type": "code",
   "execution_count": 13,
   "id": "48842b19",
   "metadata": {},
   "outputs": [
    {
     "name": "stdout",
     "output_type": "stream",
     "text": [
      "deque([123, 2, 3, 4, 5, 7])\n"
     ]
    }
   ],
   "source": [
    "q.appendleft(123)\n",
    "\n",
    "print(q)"
   ]
  },
  {
   "cell_type": "code",
   "execution_count": null,
   "id": "63e75cfa",
   "metadata": {},
   "outputs": [],
   "source": []
  },
  {
   "cell_type": "markdown",
   "id": "c6bf37ac",
   "metadata": {},
   "source": [
    "## 3. queue 모듈 이용\n",
    "\n",
    "    * deque와 달리 방향성 없이, 추가와 삭제가 하나의 메서드로 처리 됨\n",
    "    * 데이터 삽입(enqueue)은 .put()\n",
    "    * 데이터 삭제(dequeue)는 .get() 으로 수행"
   ]
  },
  {
   "cell_type": "markdown",
   "id": "6227083a",
   "metadata": {},
   "source": [
    "### 큐 생성\n",
    "    * queue.Queue() : 일반적인 선입선출 구조의 큐 생성\n",
    "    * queue.LifoQueue() : 후입선출 구조의 자료(=스택) 생성\n",
    "        => get, put 사용시 후입선출\n",
    "    * queue.PriorityQueue : 우선 순위에 따라 데이터를 넣고 빼는 자료형 생성\n",
    "        => (우선순위, 데이터) 형태의 튜플을 넣어야 함!"
   ]
  },
  {
   "cell_type": "code",
   "execution_count": 26,
   "id": "b4e8592a",
   "metadata": {},
   "outputs": [],
   "source": [
    "import queue\n",
    "\n",
    "q2 = queue.Queue()"
   ]
  },
  {
   "cell_type": "markdown",
   "id": "7eb00a72",
   "metadata": {},
   "source": [
    "### 데이터 삽입 => q.put()"
   ]
  },
  {
   "cell_type": "code",
   "execution_count": 27,
   "id": "36ed3601",
   "metadata": {},
   "outputs": [
    {
     "data": {
      "text/plain": [
       "<queue.Queue at 0x1fcb29b43d0>"
      ]
     },
     "execution_count": 27,
     "metadata": {},
     "output_type": "execute_result"
    }
   ],
   "source": [
    "q2.put(4)\n",
    "q2.put(5)\n",
    "q2.put(6)\n",
    "q2"
   ]
  },
  {
   "cell_type": "markdown",
   "id": "b402c291",
   "metadata": {},
   "source": [
    "### 큐 사이즈 확인"
   ]
  },
  {
   "cell_type": "code",
   "execution_count": 28,
   "id": "249ce09d",
   "metadata": {},
   "outputs": [
    {
     "data": {
      "text/plain": [
       "3"
      ]
     },
     "execution_count": 28,
     "metadata": {},
     "output_type": "execute_result"
    }
   ],
   "source": [
    "q2.qsize()"
   ]
  },
  {
   "cell_type": "markdown",
   "id": "42134cd1",
   "metadata": {},
   "source": [
    "### 데이터 삭제 및 반환 => q.get()"
   ]
  },
  {
   "cell_type": "code",
   "execution_count": 29,
   "id": "b4978c6d",
   "metadata": {},
   "outputs": [
    {
     "name": "stdout",
     "output_type": "stream",
     "text": [
      "4\n",
      "2\n"
     ]
    }
   ],
   "source": [
    "result = q2.get()\n",
    "\n",
    "print(result)\n",
    "print(q2.qsize())"
   ]
  },
  {
   "cell_type": "markdown",
   "id": "f076ddf9",
   "metadata": {},
   "source": [
    " * queue는 반복가능객체가 아님"
   ]
  },
  {
   "cell_type": "code",
   "execution_count": 20,
   "id": "f4a8516d",
   "metadata": {},
   "outputs": [
    {
     "ename": "TypeError",
     "evalue": "'Queue' object is not iterable",
     "output_type": "error",
     "traceback": [
      "\u001b[1;31m---------------------------------------------------------------------------\u001b[0m",
      "\u001b[1;31mTypeError\u001b[0m                                 Traceback (most recent call last)",
      "\u001b[1;32m<ipython-input-20-6b0fee46bafe>\u001b[0m in \u001b[0;36m<module>\u001b[1;34m\u001b[0m\n\u001b[1;32m----> 1\u001b[1;33m \u001b[1;32mfor\u001b[0m \u001b[0mi\u001b[0m \u001b[1;32min\u001b[0m \u001b[0mq2\u001b[0m\u001b[1;33m:\u001b[0m\u001b[1;33m\u001b[0m\u001b[1;33m\u001b[0m\u001b[0m\n\u001b[0m\u001b[0;32m      2\u001b[0m     \u001b[0mprint\u001b[0m\u001b[1;33m(\u001b[0m\u001b[0mi\u001b[0m\u001b[1;33m)\u001b[0m\u001b[1;33m\u001b[0m\u001b[1;33m\u001b[0m\u001b[0m\n",
      "\u001b[1;31mTypeError\u001b[0m: 'Queue' object is not iterable"
     ]
    }
   ],
   "source": [
    "for i in q2:\n",
    "    print(i)"
   ]
  },
  {
   "cell_type": "markdown",
   "id": "c3863ffd",
   "metadata": {},
   "source": [
    "### 큐가 비워져있는지 확인(isempty) => q.empty()"
   ]
  },
  {
   "cell_type": "code",
   "execution_count": 33,
   "id": "464320aa",
   "metadata": {},
   "outputs": [
    {
     "data": {
      "text/plain": [
       "False"
      ]
     },
     "execution_count": 33,
     "metadata": {},
     "output_type": "execute_result"
    }
   ],
   "source": [
    "q2.empty()"
   ]
  },
  {
   "cell_type": "code",
   "execution_count": 34,
   "id": "8211a3a6",
   "metadata": {},
   "outputs": [
    {
     "data": {
      "text/plain": [
       "5"
      ]
     },
     "execution_count": 34,
     "metadata": {},
     "output_type": "execute_result"
    }
   ],
   "source": [
    "q2.get()"
   ]
  },
  {
   "cell_type": "code",
   "execution_count": 35,
   "id": "88fbe7de",
   "metadata": {},
   "outputs": [
    {
     "data": {
      "text/plain": [
       "6"
      ]
     },
     "execution_count": 35,
     "metadata": {},
     "output_type": "execute_result"
    }
   ],
   "source": [
    "q2.get()"
   ]
  },
  {
   "cell_type": "code",
   "execution_count": null,
   "id": "5354f4ed",
   "metadata": {},
   "outputs": [],
   "source": [
    "q2.get()"
   ]
  },
  {
   "cell_type": "code",
   "execution_count": null,
   "id": "576e0585",
   "metadata": {},
   "outputs": [],
   "source": [
    "q2.empty()"
   ]
  },
  {
   "cell_type": "markdown",
   "id": "16490128",
   "metadata": {},
   "source": [
    "# 원형 큐"
   ]
  }
 ],
 "metadata": {
  "kernelspec": {
   "display_name": "Python 3",
   "language": "python",
   "name": "python3"
  },
  "language_info": {
   "codemirror_mode": {
    "name": "ipython",
    "version": 3
   },
   "file_extension": ".py",
   "mimetype": "text/x-python",
   "name": "python",
   "nbconvert_exporter": "python",
   "pygments_lexer": "ipython3",
   "version": "3.8.8"
  }
 },
 "nbformat": 4,
 "nbformat_minor": 5
}
