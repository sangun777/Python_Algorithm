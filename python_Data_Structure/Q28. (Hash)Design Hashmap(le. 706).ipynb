{
 "cells": [
  {
   "cell_type": "markdown",
   "id": "a5083303",
   "metadata": {},
   "source": [
    "# 문제\n",
    "\n",
    "### 내장 해시테이블 라이브러리를 사용하지 않고, 해시맵(=해시 테이블)을 구현하라\n",
    "\n",
    "    * MyHashMap() : 비워있는 상태로 초기화된 객체 생성\n",
    "    * void put(int key, int value) : 해시 맵에 (key, value) 값을 넣는다.\n",
    "        * 만일 해시맵 안에 key가 이미 들어있으면, 대응되는 value를 업데이트 한다.\n",
    "    * int get(int key) : key와 매핑된 value를 반환한다. (없으면, -1 을 반환)\n",
    "    * void remove(key) : 해시맵 안에 대응되는 키가 있다면 키, 그리고 키와 대응되는 값을 지운다."
   ]
  },
  {
   "cell_type": "markdown",
   "id": "df8b979d",
   "metadata": {},
   "source": [
    "# 내 풀이(Success, 804ms, 17.2 MB)\n",
    "\n",
    "    * 일단 그냥 리스트로 만들어보자!\n",
    "    * 탐색을 위해, 키 따로, 값 따로 리스트를 만든다.\n",
    "    * 탐색용 idx 변수를 하나 만든다."
   ]
  },
  {
   "cell_type": "code",
   "execution_count": null,
   "id": "a7b5ff39",
   "metadata": {},
   "outputs": [],
   "source": [
    "class MyHashMap:\n",
    "\n",
    "    def __init__(self):\n",
    "        \"\"\"\n",
    "        Initialize your data structure here.\n",
    "        \"\"\"\n",
    "        self.keys = []\n",
    "        self.values = []\n",
    "        self.idx = None\n",
    "\n",
    "    def put(self, key: int, value: int) -> None:\n",
    "        \"\"\"\n",
    "        value will always be non-negative.\n",
    "        \"\"\"\n",
    "        if key in self.keys:\n",
    "            self.idx = self.keys.index(key)\n",
    "            self.values[self.idx] = value\n",
    "        else:\n",
    "            self.keys.append(key)\n",
    "            self.values.append(value)\n",
    "        \n",
    "\n",
    "    def get(self, key: int) -> int:\n",
    "        \"\"\"\n",
    "        Returns the value to which the specified key is mapped, or -1 if this map contains no mapping for the key\n",
    "        \"\"\"\n",
    "        if key in self.keys:\n",
    "            self.idx = self.keys.index(key)\n",
    "            return self.values[self.idx]\n",
    "        else:\n",
    "            return -1       \n",
    "\n",
    "    def remove(self, key: int) -> None:\n",
    "        \"\"\"\n",
    "        Removes the mapping of the specified value key if this map contains a mapping for the key\n",
    "        \"\"\"\n",
    "        if key in self.keys:\n",
    "            self.idx = self.keys.index(key)\n",
    "            del self.keys[self.idx]\n",
    "            del self.values[self.idx]\n",
    "\n",
    "# Your MyHashMap object will be instantiated and called as such:\n",
    "# obj = MyHashMap()\n",
    "# obj.put(key,value)\n",
    "# param_2 = obj.get(key)\n",
    "# obj.remove(key)"
   ]
  },
  {
   "cell_type": "markdown",
   "id": "226383cb",
   "metadata": {},
   "source": [
    "# 책 풀이(개별 체이닝 방식, defaultdict 사용, 나중에 필요하면 깃허브 찾아보자!)"
   ]
  }
 ],
 "metadata": {
  "kernelspec": {
   "display_name": "Python 3",
   "language": "python",
   "name": "python3"
  },
  "language_info": {
   "codemirror_mode": {
    "name": "ipython",
    "version": 3
   },
   "file_extension": ".py",
   "mimetype": "text/x-python",
   "name": "python",
   "nbconvert_exporter": "python",
   "pygments_lexer": "ipython3",
   "version": "3.8.8"
  }
 },
 "nbformat": 4,
 "nbformat_minor": 5
}
