{
 "cells": [
  {
   "cell_type": "markdown",
   "metadata": {},
   "source": [
    "## Leetcode에서 파이썬 ListNode"
   ]
  },
  {
   "cell_type": "code",
   "execution_count": null,
   "metadata": {},
   "outputs": [],
   "source": [
    "# Definition for singly-linked list.\n",
    "class ListNode:\n",
    "    def __init__(self, val=0, next=None):\n",
    "        self.val = val\n",
    "        self.next = next"
   ]
  },
  {
   "cell_type": "code",
   "execution_count": null,
   "metadata": {},
   "outputs": [],
   "source": []
  },
  {
   "cell_type": "code",
   "execution_count": null,
   "metadata": {},
   "outputs": [],
   "source": [
    "class Node:\n",
    "    def __init__(self, data):\n",
    "        self.data = data\n",
    "        self.next = None\n",
    "        \n",
    "    def add(self, node): # 맨 뒤 노드에 값 추가\n",
    "        if self.next is None:\n",
    "            self.next = node\n",
    "        else:\n",
    "            n = self.next # 뒷 노드 주소를 임시로 n에 저장\n",
    "            while True:\n",
    "                if n.next is None:\n",
    "                    n.next = node\n",
    "                    break\n",
    "                else:\n",
    "                    n = n.next\n",
    "    \n",
    "    # idx를 이용해서 값을 조회하는 함수\n",
    "    # 여기서는 처음 객체(head)는 data를 갖지 않고, 다음부터 값을 갖는 구조\n",
    "    # idx의 시작은 1인 듯\n",
    "    def select(self, idx):\n",
    "        n = self.next\n",
    "        for i in range(idx-1): # 위에서 한번 next 탓으니 -1 \n",
    "            n=n.next\n",
    "        return n.data\n",
    "    \n",
    "    # 삭제할 노드 이전 노드의 next값을 다음 노드와 연결\n",
    "    def delete(self, idx):\n",
    "        n = self.next\n",
    "        for i in range(idx-2):\n",
    "            n = n.next # 삭제노드 이전 노드까지 n 이동\n",
    "        t = n.next # t: 삭제할 노드\n",
    "        n.next = t.next # 이전 노드 next에 삭제할 노드의 next 저장\n",
    "        del t\n",
    "    \n",
    "    # delete와 똑같고 마지막 부분만 del 대신 return\n",
    "    def pop(self, idx):\n",
    "        n = self.next\n",
    "        for i in range(idx-2):\n",
    "            n = n.next # 삭제노드 이전 노드까지 n 이동\n",
    "        t = n.next # t: 삭제할 노드\n",
    "        n.next = t.next # 이전 노드 next에 삭제할 노드의 next 저장\n",
    "        return t\n",
    "        \n",
    "    # 전체 노드 출력 함수\n",
    "    def prt(self):\n",
    "        n = self.next:\n",
    "            while True:\n",
    "                if n.next is None:\n",
    "                    print(n.data, end=\" \"):\n",
    "                    break\n",
    "                else:\n",
    "                    print(n.data, end=\" \")\n",
    "                    n = n.next\n",
    "            print()\n",
    "            \n",
    "    # 값을 중간(idx)에 추가하는 함수\n",
    "    def insert(self, idx, node):\n",
    "        n = self.next\n",
    "        for i in range(idx-2):\n",
    "            n = n.next # n : 삽입 이전 노드\n",
    "        t = n.next # 삽입할 위치에 원래 있던 노드 임시 저장\n",
    "        n.next = node\n",
    "        node.next = t"
   ]
  },
  {
   "cell_type": "code",
   "execution_count": null,
   "metadata": {},
   "outputs": [],
   "source": [
    "head = Node"
   ]
  },
  {
   "cell_type": "code",
   "execution_count": null,
   "metadata": {},
   "outputs": [],
   "source": []
  },
  {
   "cell_type": "code",
   "execution_count": 1,
   "metadata": {},
   "outputs": [
    {
     "name": "stdout",
     "output_type": "stream",
     "text": [
      "140733604046912\n",
      "140733604046912\n",
      "140733604046912\n"
     ]
    }
   ],
   "source": [
    "a = 10\n",
    "b = 10\n",
    "print(id(a))\n",
    "print(id(b))\n",
    "print(id(10))"
   ]
  },
  {
   "cell_type": "markdown",
   "metadata": {},
   "source": [
    "# 연결리스트를 이용한 stack"
   ]
  },
  {
   "cell_type": "code",
   "execution_count": 8,
   "metadata": {},
   "outputs": [],
   "source": [
    "class Node:\n",
    "    def __init__(self, item, next):\n",
    "        self.item = item\n",
    "        self.next = next\n",
    "        \n",
    "\n",
    "class Stack:\n",
    "    def __init__(self):\n",
    "        self.last = None # last는 꼭대기점(Top) 을 말하는 듯\n",
    "        \n",
    "    def push(self, item):\n",
    "        self.last = Node(item, self.last) # last는 새로 추가하는 Node를 가리키고, 그 추가되는 Node의 pointer(next)가 기존 Last를 가리키도록 함\n",
    "        \n",
    "    def pop(self):\n",
    "        item = self.last.item\n",
    "        self.last = self.last.next\n",
    "        return item    "
   ]
  },
  {
   "cell_type": "code",
   "execution_count": 9,
   "metadata": {},
   "outputs": [],
   "source": [
    "stack = Stack()\n",
    "stack.push(1)\n",
    "stack.push(2)\n",
    "stack.push(3)\n",
    "stack.push(4)\n",
    "stack.push(5)"
   ]
  },
  {
   "cell_type": "code",
   "execution_count": 10,
   "metadata": {},
   "outputs": [
    {
     "name": "stdout",
     "output_type": "stream",
     "text": [
      "5\n",
      "4\n",
      "3\n",
      "2\n",
      "1\n"
     ]
    }
   ],
   "source": [
    "for _ in range(5):\n",
    "    print(stack.pop())"
   ]
  },
  {
   "cell_type": "code",
   "execution_count": null,
   "metadata": {},
   "outputs": [],
   "source": []
  }
 ],
 "metadata": {
  "kernelspec": {
   "display_name": "Python 3",
   "language": "python",
   "name": "python3"
  },
  "language_info": {
   "codemirror_mode": {
    "name": "ipython",
    "version": 3
   },
   "file_extension": ".py",
   "mimetype": "text/x-python",
   "name": "python",
   "nbconvert_exporter": "python",
   "pygments_lexer": "ipython3",
   "version": "3.8.8"
  }
 },
 "nbformat": 4,
 "nbformat_minor": 4
}
