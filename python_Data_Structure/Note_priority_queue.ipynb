{
 "cells": [
  {
   "cell_type": "markdown",
   "metadata": {},
   "source": [
    "# 우선순위 큐\n",
    "\n",
    "## 선입/후입선출이 아닌 특정 조건에 의해서 우선 순위가 가장 높은 요소가 추출되는 자료형\n",
    "\n",
    "* 예시 ) [1, 4, 5, 3, 2]가 들어있고, 최댓값을 추출하는 우선순위 큐에서는 5, 4, 3, 2, 1 순으로 요소가 추출됨\n",
    "\n",
    "* 이런 경우, 정렬 알고리름을 사용하여 우선 순위 큐를 만들 수 있다.\n",
    "    * 보통은 힙정렬등 효율적인 정렬 알고리즘 사용\n",
    "\n",
    "* 우선순위 큐는 최단 경로를 탐색하는 다익스트라 알고리즘 등 다양한 분야에 활용되며,\n",
    "* 힙(heap) 자료구조와 관련이 깊다.\n",
    "\n"
   ]
  },
  {
   "cell_type": "code",
   "execution_count": null,
   "metadata": {},
   "outputs": [],
   "source": []
  },
  {
   "cell_type": "markdown",
   "metadata": {},
   "source": [
    "# queue.PriorityQueue 이용\n",
    "\n",
    "    * queue.PriorityQueue : 우선 순위에 따라 데이터를 넣고 빼는 자료형 생성\n",
    "        => (우선순위, 데이터) 형태의 튜플을 넣어야 함!\n",
    "        \n",
    "    * 객체명.put(원소) : 원소 추가\n",
    "    * 객체명.get() : 원소 삭제+반환\n",
    "        * 원소는 우선순위로 최솟값이 삭제됨\n",
    "        \n",
    "### 우선 순위 이용 => (우선순위, 값) 튜플 형태로 넣고 뺀다.\n",
    "    * 객체명.put((우선순위, 값)) : 원소 추가\n",
    "    * 객체명.get()[1] : 우선순위로 값이 삭제+반환됨"
   ]
  },
  {
   "cell_type": "code",
   "execution_count": 4,
   "metadata": {},
   "outputs": [],
   "source": [
    "from queue import PriorityQueue"
   ]
  },
  {
   "cell_type": "markdown",
   "metadata": {},
   "source": [
    " * 우선순위 큐 생성"
   ]
  },
  {
   "cell_type": "code",
   "execution_count": 5,
   "metadata": {},
   "outputs": [],
   "source": [
    "# 우선순위 큐 생성\n",
    "q = PriorityQueue()\n",
    "q2 = PriorityQueue(maxsize=8)"
   ]
  },
  {
   "cell_type": "markdown",
   "metadata": {},
   "source": [
    " * 원소 추가"
   ]
  },
  {
   "cell_type": "code",
   "execution_count": 6,
   "metadata": {},
   "outputs": [
    {
     "data": {
      "text/plain": [
       "<queue.PriorityQueue at 0x25b2b7a4130>"
      ]
     },
     "execution_count": 6,
     "metadata": {},
     "output_type": "execute_result"
    }
   ],
   "source": [
    "q.put(4)\n",
    "q.put(1)\n",
    "q.put(7)\n",
    "q.put(3)\n",
    "q"
   ]
  },
  {
   "cell_type": "markdown",
   "metadata": {},
   "source": [
    "* 원소 삭제+반환"
   ]
  },
  {
   "cell_type": "code",
   "execution_count": 7,
   "metadata": {},
   "outputs": [
    {
     "data": {
      "text/plain": [
       "1"
      ]
     },
     "execution_count": 7,
     "metadata": {},
     "output_type": "execute_result"
    }
   ],
   "source": [
    "q.get()"
   ]
  },
  {
   "cell_type": "code",
   "execution_count": 8,
   "metadata": {},
   "outputs": [
    {
     "data": {
      "text/plain": [
       "3"
      ]
     },
     "execution_count": 8,
     "metadata": {},
     "output_type": "execute_result"
    }
   ],
   "source": [
    "q.get()"
   ]
  },
  {
   "cell_type": "code",
   "execution_count": 9,
   "metadata": {},
   "outputs": [
    {
     "data": {
      "text/plain": [
       "4"
      ]
     },
     "execution_count": 9,
     "metadata": {},
     "output_type": "execute_result"
    }
   ],
   "source": [
    "q.get()"
   ]
  },
  {
   "cell_type": "code",
   "execution_count": 10,
   "metadata": {},
   "outputs": [
    {
     "data": {
      "text/plain": [
       "7"
      ]
     },
     "execution_count": 10,
     "metadata": {},
     "output_type": "execute_result"
    }
   ],
   "source": [
    "q.get() # 여기서 한번 더하면 멈춤"
   ]
  },
  {
   "cell_type": "markdown",
   "metadata": {},
   "source": [
    "### 우선순위 이용"
   ]
  },
  {
   "cell_type": "code",
   "execution_count": 11,
   "metadata": {},
   "outputs": [],
   "source": [
    "q2.put((3, 'Apple'))\n",
    "q2.put((1, 'Banana'))\n",
    "q2.put((2, 'Cherry'))"
   ]
  },
  {
   "cell_type": "code",
   "execution_count": 12,
   "metadata": {},
   "outputs": [
    {
     "data": {
      "text/plain": [
       "(1, 'Banana')"
      ]
     },
     "execution_count": 12,
     "metadata": {},
     "output_type": "execute_result"
    }
   ],
   "source": [
    "q2.get()"
   ]
  },
  {
   "cell_type": "code",
   "execution_count": 13,
   "metadata": {},
   "outputs": [
    {
     "data": {
      "text/plain": [
       "(2, 'Cherry')"
      ]
     },
     "execution_count": 13,
     "metadata": {},
     "output_type": "execute_result"
    }
   ],
   "source": [
    "q2.get()"
   ]
  },
  {
   "cell_type": "code",
   "execution_count": 14,
   "metadata": {},
   "outputs": [
    {
     "data": {
      "text/plain": [
       "(3, 'Apple')"
      ]
     },
     "execution_count": 14,
     "metadata": {},
     "output_type": "execute_result"
    }
   ],
   "source": [
    "q2.get()"
   ]
  }
 ],
 "metadata": {
  "kernelspec": {
   "display_name": "Python 3",
   "language": "python",
   "name": "python3"
  },
  "language_info": {
   "codemirror_mode": {
    "name": "ipython",
    "version": 3
   },
   "file_extension": ".py",
   "mimetype": "text/x-python",
   "name": "python",
   "nbconvert_exporter": "python",
   "pygments_lexer": "ipython3",
   "version": "3.8.5"
  }
 },
 "nbformat": 4,
 "nbformat_minor": 5
}
