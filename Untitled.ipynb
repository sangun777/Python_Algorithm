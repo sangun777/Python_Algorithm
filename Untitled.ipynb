{
 "cells": [
  {
   "cell_type": "code",
   "execution_count": 1,
   "metadata": {},
   "outputs": [],
   "source": [
    "# Test case 1\n",
    "orders = [\"ABCFG\", \"AC\", \"CDE\", \"ACDE\", \"BCFG\", \"ACDEH\"]\n",
    "course = [2,3,4]  # 2, 3, 4개 짜리 코스 메뉴를 만들어라\n",
    "\n",
    "# correct result = [\"AC\", \"ACDE\", \"BCFG\", \"CDE\"]"
   ]
  },
  {
   "cell_type": "code",
   "execution_count": 2,
   "metadata": {},
   "outputs": [],
   "source": [
    "import collections\n",
    "import itertools\n",
    "\n",
    "\n",
    "for course_size in course:\n",
    "        order_combinations = []\n",
    "        for order in orders:\n",
    "            order_combinations += itertools.combinations(sorted(order), course_size)\n",
    "            # course_size(코스 크기)에 따른 모든 조합을 생성"
   ]
  },
  {
   "cell_type": "code",
   "execution_count": 3,
   "metadata": {},
   "outputs": [
    {
     "data": {
      "text/plain": [
       "[('A', 'B', 'C', 'F'),\n",
       " ('A', 'B', 'C', 'G'),\n",
       " ('A', 'B', 'F', 'G'),\n",
       " ('A', 'C', 'F', 'G'),\n",
       " ('B', 'C', 'F', 'G'),\n",
       " ('A', 'C', 'D', 'E'),\n",
       " ('B', 'C', 'F', 'G'),\n",
       " ('A', 'C', 'D', 'E'),\n",
       " ('A', 'C', 'D', 'H'),\n",
       " ('A', 'C', 'E', 'H'),\n",
       " ('A', 'D', 'E', 'H'),\n",
       " ('C', 'D', 'E', 'H')]"
      ]
     },
     "execution_count": 3,
     "metadata": {},
     "output_type": "execute_result"
    }
   ],
   "source": [
    "order_combinations"
   ]
  },
  {
   "cell_type": "code",
   "execution_count": 4,
   "metadata": {},
   "outputs": [
    {
     "name": "stdout",
     "output_type": "stream",
     "text": [
      "('A', 'B')\n",
      "('A', 'C')\n",
      "('A', 'F')\n",
      "('A', 'G')\n",
      "('B', 'C')\n",
      "('B', 'F')\n",
      "('B', 'G')\n",
      "('C', 'F')\n",
      "('C', 'G')\n",
      "('F', 'G')\n"
     ]
    }
   ],
   "source": [
    "for a in itertools.combinations(\"ABCFG\", 2):\n",
    "    print(a)"
   ]
  }
 ],
 "metadata": {
  "kernelspec": {
   "display_name": "Python 3",
   "language": "python",
   "name": "python3"
  },
  "language_info": {
   "codemirror_mode": {
    "name": "ipython",
    "version": 3
   },
   "file_extension": ".py",
   "mimetype": "text/x-python",
   "name": "python",
   "nbconvert_exporter": "python",
   "pygments_lexer": "ipython3",
   "version": "3.8.5"
  }
 },
 "nbformat": 4,
 "nbformat_minor": 4
}
