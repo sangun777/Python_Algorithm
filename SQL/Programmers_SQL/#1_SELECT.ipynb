{
 "cells": [
  {
   "cell_type": "markdown",
   "metadata": {},
   "source": [
    "# 7. 가장 작은 수 한 개 출력"
   ]
  },
  {
   "cell_type": "markdown",
   "metadata": {},
   "source": [
    "### 문제 : 가장 먼저 보호소에 들어온 동물의 이름을 출력하라"
   ]
  },
  {
   "cell_type": "markdown",
   "metadata": {},
   "source": [
    "* 나의 답안"
   ]
  },
  {
   "cell_type": "code",
   "execution_count": 2,
   "metadata": {},
   "outputs": [
    {
     "ename": "SyntaxError",
     "evalue": "invalid syntax (<ipython-input-2-1854961bb56a>, line 1)",
     "output_type": "error",
     "traceback": [
      "\u001b[1;36m  File \u001b[1;32m\"<ipython-input-2-1854961bb56a>\"\u001b[1;36m, line \u001b[1;32m1\u001b[0m\n\u001b[1;33m    SELECT NAME\u001b[0m\n\u001b[1;37m           ^\u001b[0m\n\u001b[1;31mSyntaxError\u001b[0m\u001b[1;31m:\u001b[0m invalid syntax\n"
     ]
    }
   ],
   "source": [
    "SELECT NAME\n",
    "FROM ANIMAL_INS\n",
    "WHERE DATETIME IN\n",
    "    (SELECT MIN(DATETIME)\n",
    "     FROM ANIMAL_INS)"
   ]
  },
  {
   "cell_type": "markdown",
   "metadata": {},
   "source": [
    "### 깨달은 점\n",
    "    * DATETIME 타입의 속성도 MIN, MAX는 먹힌다.\n",
    "    * 집단 함수는 SELECT절과 HAVING 절만 쓸 수 있는데, 위 처럼 그룹화하지 않고 전체에 대하여 적용할 때는\n",
    "        * GROUP BY, HAVING이 아닌 SELECT와 중첩 질의를 통해 해결이 가능하다!\n",
    "    * 프로그래머스에서 mySQL은 세미콜론 ; 안써도 먹힌다."
   ]
  },
  {
   "cell_type": "markdown",
   "metadata": {},
   "source": [
    "### 나중에 찾은 정답 화면\n",
    "    * LIMIT 구문을 사용한다.(MY SQL)\n",
    "    * 오라클의 겨우, rownum을 사용한다.\n",
    "    * 참조 링크 : https://chanhuiseok.github.io/posts/db-3/"
   ]
  },
  {
   "cell_type": "markdown",
   "metadata": {},
   "source": [
    "* My SQL"
   ]
  },
  {
   "cell_type": "code",
   "execution_count": null,
   "metadata": {},
   "outputs": [],
   "source": [
    "SELECT NAME\n",
    "FROM ANIMAL_INS\n",
    "ORDER BY DATETIME\n",
    "LIMIT 1"
   ]
  },
  {
   "cell_type": "markdown",
   "metadata": {},
   "source": [
    "* 오라클"
   ]
  },
  {
   "cell_type": "code",
   "execution_count": null,
   "metadata": {},
   "outputs": [],
   "source": [
    "SELECT NAME\n",
    "FROM (SELECT * FROM ANIMAL_INS ORDER BY DATETIME)\n",
    "WHERE rownum = 1;"
   ]
  }
 ],
 "metadata": {
  "kernelspec": {
   "display_name": "Python 3",
   "language": "python",
   "name": "python3"
  },
  "language_info": {
   "codemirror_mode": {
    "name": "ipython",
    "version": 3
   },
   "file_extension": ".py",
   "mimetype": "text/x-python",
   "name": "python",
   "nbconvert_exporter": "python",
   "pygments_lexer": "ipython3",
   "version": "3.8.5"
  }
 },
 "nbformat": 4,
 "nbformat_minor": 4
}
