{
 "cells": [
  {
   "cell_type": "markdown",
   "id": "c357cdd9",
   "metadata": {},
   "source": [
    "# Union-Find\n",
    "\n",
    "    * 그래프에 연결된 노드 중 가장 작은 값이 그 그래프의 각 노드들의 부모 노드 값\n",
    "    * 재귀 함수 이용해서 구현"
   ]
  },
  {
   "cell_type": "code",
   "execution_count": null,
   "id": "df95b8d2",
   "metadata": {},
   "outputs": [],
   "source": [
    "# 특정 원소가 속한 집합을 찾기\n",
    "\n",
    "\n",
    "# v : 노드의 갯수\n",
    "# e : 간선(union 연산)의 갯수\n",
    "v, e = map(int, input().split())\n",
    "\n",
    "# 부모 테이블 초기화\n",
    "parent = [i for in range(v+1)]\n",
    "\n",
    "\n",
    "# 부모 찾기(재귀)\n",
    "def find_parent(parent, x):\n",
    "    if parent[x] != x:  # 부모가 본인이 아니면\n",
    "        parent[x] = find_parent(parent, parent[x])   # 바로 부모노드를 갱신하여 시간을 단축 시킴\n",
    "        return parnet[x] # 그 부모의 부모를 찾아 리턴\n",
    "    return x   # 아니면 본인 리턴\n",
    "\n",
    "# 부모 합치기(그래프 연결하기)\n",
    "def union_parent(parent, a, b):\n",
    "    a = find_parent(parent, a)\n",
    "    b = find_parent(parent, b)\n",
    "    \n",
    "    if a<b:\n",
    "        parent[b] = a\n",
    "    else:\n",
    "        parent[a] = b\n",
    "        \n",
    "# 모든 간선e 에 대하여 union 수행\n",
    "for i in range(e):\n",
    "    a, b = map(int, input().split())\n",
    "    union_parent(parent, a, b)\n",
    "    \n",
    "# 각 원소가 속한 집합 출력\n",
    "print('각 원소가 속한 집합: ', end='')\n",
    "for i in range(1, v+1):\n",
    "    print(find_parent(parent, i), end=' ')\n",
    "    \n",
    "print()\n",
    "\n",
    "# 부모 테이블 내용 출력하기\n",
    "print('부모 테이블: ', end='')\n",
    "for i in range(1, v+1):\n",
    "    print(parent[i], end=' ')"
   ]
  },
  {
   "cell_type": "code",
   "execution_count": null,
   "id": "dfbc460e",
   "metadata": {},
   "outputs": [],
   "source": []
  }
 ],
 "metadata": {
  "kernelspec": {
   "display_name": "Python 3",
   "language": "python",
   "name": "python3"
  },
  "language_info": {
   "codemirror_mode": {
    "name": "ipython",
    "version": 3
   },
   "file_extension": ".py",
   "mimetype": "text/x-python",
   "name": "python",
   "nbconvert_exporter": "python",
   "pygments_lexer": "ipython3",
   "version": "3.8.8"
  }
 },
 "nbformat": 4,
 "nbformat_minor": 5
}
