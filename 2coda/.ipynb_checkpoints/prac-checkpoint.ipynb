{
 "cells": [
  {
   "cell_type": "code",
   "execution_count": null,
   "id": "1f572d31",
   "metadata": {},
   "outputs": [],
   "source": [
    "v, e = map(int, input().split())\n",
    "\n",
    "parent = [i  for i in range(v+1)]\n",
    "\n",
    "def find_parent(parent, x):\n",
    "    if parent !=x:\n",
    "        parent[x] = find_parent(parent, parent[x])\n",
    "        return parent[x]\n",
    "    return x\n",
    "\n",
    "def union_parent(parent, a, b):\n",
    "    a = find_parent(parent, a)\n",
    "    b = find_parent(parent, b)\n",
    "    \n",
    "    if a<b:\n",
    "        parent[b]=a\n",
    "    else:\n",
    "        parent[a]=b\n",
    "        \n",
    "for i in range(e):\n",
    "    a, b = map(int, input().split())\n",
    "    union_parent(parent, a, b)\n",
    "    \n",
    "print()\n",
    "\n",
    "for i in range(1, v+1):\n",
    "    print(find_parent(parent, i))\n"
   ]
  },
  {
   "cell_type": "code",
   "execution_count": 2,
   "id": "86a98261",
   "metadata": {},
   "outputs": [],
   "source": [
    "# a노드에 b, c, d가 연결되어 있으면, graph[a] = [b, c, d]\n",
    "graph = [\n",
    "    [],   # 노상관\n",
    "    [2, 3, 8],  # 1-2, 1-3, 1-8\n",
    "    [1, 7],     #2\n",
    "    [1, 4, 5],  #3\n",
    "    [3, 5],     #4\n",
    "    [3, 4],     #5\n",
    "    [7],        #6\n",
    "    [2, 6, 8],  #7\n",
    "    [1, 7],     #8\n",
    "]"
   ]
  },
  {
   "cell_type": "code",
   "execution_count": 3,
   "id": "322bd9bb",
   "metadata": {},
   "outputs": [
    {
     "name": "stdout",
     "output_type": "stream",
     "text": [
      "1 2 7 6 8 3 4 5 "
     ]
    }
   ],
   "source": [
    "visited = [0]*9\n",
    "\n",
    "def dfs(graph, v, visited):\n",
    "    visited[v] = True\n",
    "    print(v, end=' ')\n",
    "    \n",
    "    for i in graph[v]:\n",
    "        if not visited[i]:\n",
    "            dfs(graph, i, visited)\n",
    "            \n",
    "dfs(graph, 1, visited)\n",
    "        "
   ]
  },
  {
   "cell_type": "code",
   "execution_count": 4,
   "id": "c59eba47",
   "metadata": {},
   "outputs": [
    {
     "name": "stdout",
     "output_type": "stream",
     "text": [
      "1 2 3 8 7 4 5 6 "
     ]
    }
   ],
   "source": [
    "from collections import deque\n",
    "\n",
    "visited = [False]*9\n",
    "\n",
    "def bfs(graph, start, visited):\n",
    "    \n",
    "    q = deque([start])\n",
    "    visited[start] = True\n",
    "    \n",
    "    while q:\n",
    "        v = q.popleft()\n",
    "        print(v, end=' ')\n",
    "        \n",
    "        for i in graph[v]:\n",
    "            if not visited[i]:\n",
    "                q.append(i)\n",
    "                visited[i] = True\n",
    "                \n",
    "bfs(graph, 1, visited)"
   ]
  },
  {
   "cell_type": "code",
   "execution_count": null,
   "id": "4dda07ef",
   "metadata": {},
   "outputs": [],
   "source": []
  },
  {
   "cell_type": "code",
   "execution_count": null,
   "id": "d648e3cb",
   "metadata": {},
   "outputs": [],
   "source": [
    "end = min(times)*h\n",
    "start = 1\n",
    "\n",
    "while(start<=end):\n",
    "    mid (start+end)//2\n",
    "    \n",
    "    cnt = [mid//i for i in times]\n",
    "    total = sum(cnt)\n",
    "    \n",
    "    if total>=n:\n",
    "        answeer = mid\n",
    "        end = mid-1\n",
    "        \n",
    "    else:\n",
    "        start = mid+1\n",
    "        \n",
    "    "
   ]
  },
  {
   "cell_type": "code",
   "execution_count": null,
   "id": "a155b7a2",
   "metadata": {},
   "outputs": [],
   "source": [
    "import heapq\n",
    "import sys\n",
    "input = sys.stdin.readline\n",
    "INF = int(1e9)\n",
    "\n",
    "n, m # 노드 , 간선\n",
    "\n",
    "start = int(input())\n",
    "\n",
    "graph = [[] for i in range(n+1)] # 인덱스를 노드 만큼\n",
    "\n",
    "distance = [INF]*(n+1)  # 최단 거리 테이블(시작점으로부터 인덱스 까지 거리)\n",
    "\n",
    "for _ in range(m):\n",
    "    a, b, c = map(int, input().split()) # \n",
    "    graph[a].append((b, c))\n",
    "    \n",
    "def dijk(start):\n",
    "    q = []\n",
    "    heap.heappush(q, (0, start))   # (거리, 노드) 넣으면 거리순 정렬\n",
    "    distance[start] = 0            # 거리 갱신\n",
    "    \n",
    "    while q:\n",
    "        dist, now = heapq.heappop(q)  # 거리와 현재 위치\n",
    "        \n",
    "        if distance[now] < dist:\n",
    "            continue\n",
    "            \n",
    "        for i in graph[now]:\n",
    "            cost = dist + i[1]\n",
    "            \n",
    "            if cost < distance[i[0]]:\n",
    "                distance[i[0]] = cost\n",
    "                heapq.heappush(q, (cost, i[0]))\n",
    "            \n",
    "    \n",
    "    \n",
    "    \n",
    "    "
   ]
  },
  {
   "cell_type": "code",
   "execution_count": null,
   "id": "e4be7784",
   "metadata": {},
   "outputs": [],
   "source": [
    "graph = [[] for i in range(n+1)] #노드 비용\n",
    "distance = [INF]*(n+1)\n",
    "\n",
    "for _ in range(m):\n",
    "    a, b, c, \n",
    "    graph[a].append((b, c))\n",
    "    \n",
    "def dijk(start):\n",
    "    q = []\n",
    "    heap.heappush(q, (0, start))\n",
    "    distance[start] = 0\n",
    "    \n",
    "    while q:\n",
    "        dist, now = heapq.heappop(q)\n",
    "        \n",
    "        if distance(now) < dist:\n",
    "            continue\n",
    "        \n",
    "        for i in graph[now]:\n",
    "            cost = dist + i[1]\n",
    "            \n",
    "            if cost<distance[i[0]]:\n",
    "                distance[i[0]] = cost\n",
    "                \n",
    "                \n",
    "    "
   ]
  }
 ],
 "metadata": {
  "kernelspec": {
   "display_name": "Python 3",
   "language": "python",
   "name": "python3"
  },
  "language_info": {
   "codemirror_mode": {
    "name": "ipython",
    "version": 3
   },
   "file_extension": ".py",
   "mimetype": "text/x-python",
   "name": "python",
   "nbconvert_exporter": "python",
   "pygments_lexer": "ipython3",
   "version": "3.8.8"
  }
 },
 "nbformat": 4,
 "nbformat_minor": 5
}
