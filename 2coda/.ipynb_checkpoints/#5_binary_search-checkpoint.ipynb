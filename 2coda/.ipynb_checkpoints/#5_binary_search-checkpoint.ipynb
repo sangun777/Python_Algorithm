{
 "cells": [
  {
   "cell_type": "markdown",
   "id": "fa121f9b",
   "metadata": {},
   "source": [
    "# 이진 탐색(Binary_Search)\n",
    "\n",
    "    * 순차 탐색(Sequential Search) : 리스트 안에 있는 특정한 데이터를 찾기 위해 앞에서 부터 데이터를 하나씩 확인하는 방법\n",
    "    \n",
    "    * 이진 탐색\n",
    "        * 정렬되어 있는 리스트에서, 탐색 범위를 절반씩 좁혀가며, 데이터를 탐색하는 방법\n",
    "        * 이진 탐색은 시작점, 끝점, 중간점을 이용하여 탐색 범위를 결정합니다.\n",
    "        * 연산 횟수는 log_2(N)에 비례\n",
    "        * 시간복잡도 : O(logN)\n",
    "        \n",
    "        * 이진 탐색은 범위를 나눈 후, 재귀 함수를 적용하는 방식으로 구현\n",
    "        "
   ]
  },
  {
   "cell_type": "markdown",
   "id": "57e77dfe",
   "metadata": {},
   "source": [
    "# test case\n",
    "\n",
    "## 문제 :  10개 데이터가 주어지고, 7이 몇 번째인지 찾아라  \n",
    "### 입력 값 : \n",
    "10 7  \n",
    "1 3 5 7 9 11 13 15 17 19\n",
    "\n",
    "### 정답 : 4"
   ]
  },
  {
   "cell_type": "code",
   "execution_count": 4,
   "id": "1cdb404c",
   "metadata": {},
   "outputs": [
    {
     "name": "stdout",
     "output_type": "stream",
     "text": [
      "10 7\n",
      "1 3 5 7 9 11 13 15 17 19\n",
      "4\n"
     ]
    }
   ],
   "source": [
    "# arr : 찾을 데이터 배열\n",
    "# target : 찾고자 하는 데이터\n",
    "# start : 탐색 범위(시작점)\n",
    "# end : 탐색 범위(끝점)\n",
    "\n",
    "\n",
    "def binary_search(arr, target, start, end):\n",
    "    if start > end:    # 탐색 범위에 데이터가 없는 상태(혹은 오입력)\n",
    "        return None\n",
    "    mid = (start + end) // 2\n",
    "    \n",
    "    if arr[mid] == target:\n",
    "        return mid\n",
    "    \n",
    "    elif arr[mid] > target:    # 찾는 값이 중간값보다 작을 떄, \n",
    "        return binary_search(arr, target, start, mid-1)\n",
    "    \n",
    "    else:    # 찾는 값이 중간값보다 클 떄, \n",
    "        return binary_search(arr, target, mid+1, end)\n",
    "    \n",
    "# 데이터 입력 받기\n",
    "# n : 데이터 갯수\n",
    "# target : 찾을 값\n",
    "# array = 전체 데이터 배열\n",
    "\n",
    "n, target = list(map(int, input().split()))\n",
    "\n",
    "array = list(map(int, input().split()))\n",
    "\n",
    "result = binary_search(array, target, 0, n-1)\n",
    "\n",
    "if result == None:\n",
    "    print(\"원소가 존재하지 않습니다.\")\n",
    "else:\n",
    "    print(result+1)    # 인덱스 값에 +1 해주는 것 주의!!!"
   ]
  },
  {
   "cell_type": "code",
   "execution_count": 5,
   "id": "bef2f5ea",
   "metadata": {},
   "outputs": [
    {
     "data": {
      "text/plain": [
       "4"
      ]
     },
     "execution_count": 5,
     "metadata": {},
     "output_type": "execute_result"
    }
   ],
   "source": [
    "9//2"
   ]
  },
  {
   "cell_type": "markdown",
   "id": "3b5dc7bf",
   "metadata": {},
   "source": [
    "# 파이썬 이진 탐색 라이브러리\n",
    "\n",
    "    * bisect_left(리스트a, x): 정렬된 순서를 유지하면서 리스트a에 x값을 삽입할 가장 왼쪽 인덱스 반환\n",
    "    * bisect_right(리스트a, x): 정렬된 순서를 유지하면서 리스트a에 x값을 삽입할 가장 오른쪽 인덱스 반환"
   ]
  },
  {
   "cell_type": "code",
   "execution_count": 6,
   "id": "7dfa3309",
   "metadata": {},
   "outputs": [
    {
     "name": "stdout",
     "output_type": "stream",
     "text": [
      "2\n",
      "4\n"
     ]
    }
   ],
   "source": [
    "from bisect import bisect_left, bisect_right\n",
    "\n",
    "a = [1, 2, 4, 4, 8]\n",
    "x = 4\n",
    "\n",
    "print(bisect_left(a, x))\n",
    "print(bisect_right(a, x))"
   ]
  },
  {
   "cell_type": "markdown",
   "id": "9e7aafdc",
   "metadata": {},
   "source": [
    "### 위 함수를 이용해서, 특정 범위에 속하는 데이터 갯수 구하기"
   ]
  },
  {
   "cell_type": "code",
   "execution_count": 7,
   "id": "9240c40e",
   "metadata": {},
   "outputs": [
    {
     "name": "stdout",
     "output_type": "stream",
     "text": [
      "2\n",
      "6\n"
     ]
    }
   ],
   "source": [
    "from bisect import bisect_left, bisect_right\n",
    "\n",
    "def count_by_range(a, l_v, r_v):\n",
    "    l_idx = bisect_left(a, l_v)\n",
    "    r_idx = bisect_right(a, r_v)\n",
    "    return r_idx - l_idx\n",
    "\n",
    "a = [1, 2, 3, 3, 3, 3, 4, 4, 8, 9]\n",
    "\n",
    "print(count_by_range(a, 4, 4))\n",
    "print(count_by_range(a, -1, 3))"
   ]
  },
  {
   "cell_type": "markdown",
   "id": "ca443d4c",
   "metadata": {},
   "source": [
    "# 파라메트릭 서치(Parametric Search)\n",
    "    * 이진 탐색 문제는 파라메트릭 서치 문제로 많이 출제됨\n",
    "    * 파라메트릭 서치란 최적화 문제룰 결정 문제(예 or 아니오)로 바꾸어 해결하는 기법\n",
    "        * 예시: 특정한 조건을 만족하는 가장 알맞은 값을 빠르게 찾는 최적화 문제\n",
    "    * 일반적으로 코딩테스트에서 파라메트릭 서치 문제는 이진 탐색을 이용하여 해결할 수 있습니다."
   ]
  },
  {
   "cell_type": "code",
   "execution_count": null,
   "id": "4db0a8c9",
   "metadata": {},
   "outputs": [],
   "source": [
    "## 떡 만들기 문제\n",
    "\n",
    "### 입력 값\n",
    "# N, M   \n",
    "# 떡1, 떡2, 떡3, ... ,떡N\n",
    "4, 6\n",
    "19, 14, 10, 17\n",
    "\n",
    "# N : 떡의 갯수, \n",
    "# M: 원하는 총 길이 (떡이 잘린 후 남은 것들의 총합)\n",
    "\n",
    "\n",
    "N : 1 ~ 백만\n",
    "M : 1 ~ 20억\n",
    "떡의 개별 높이 0 ~ 10억\n",
    "\n",
    "이 때, 원하는 길이의 떡을 가져가기 위해 절단기에 설정할 수 있는 H의 최댓값은??"
   ]
  },
  {
   "cell_type": "markdown",
   "id": "03e83fef",
   "metadata": {},
   "source": [
    "## 접근법\n",
    "\n",
    "    * 적절한 H를 찾는 문제 => 이진 탐색으로 H를 찾자\n",
    "    * 이 높이로 자르면 조건(남은 떡의 총길이가 M을 만족)에 만족하는가? 를 예, 아니오로 탐색범위를 좁일 수 있음\n",
    "    * 탐색 범위는 떡의 개별 높이 10억\n",
    "        => 이렇게 큰 수를 보면 가장 먼저 이진 탐색을 생각할 것!!"
   ]
  },
  {
   "cell_type": "markdown",
   "id": "6ec858ce",
   "metadata": {},
   "source": [
    "# 아이디어\n",
    "    * 이진 탐색에서 중간 값은 시간을 지날수록 최적화 하게된 값\n",
    "    * 얻을수 있는 떡의 총 길이가 필요한 떡의 길이보다 크거나 같을 때 마다 기록\n",
    "    * 중간 값을 더이상 찾을 수 없는 시점에 종료"
   ]
  },
  {
   "cell_type": "code",
   "execution_count": 17,
   "id": "642eb9e8",
   "metadata": {},
   "outputs": [
    {
     "name": "stdout",
     "output_type": "stream",
     "text": [
      "4 6\n",
      "19 10 14 17\n",
      "[5, -4, 0, 3]\n",
      "[8, -1, 3, 6]\n",
      "[7, -2, 2, 5]\n",
      "[6, -3, 1, 4]\n",
      "13\n"
     ]
    }
   ],
   "source": [
    "# N : 떡의 갯수\n",
    "# M = 원하는 총 길이\n",
    "N, M = map(int, input().split())\n",
    "\n",
    "dducks = list(map(int, input().split()))\n",
    "\n",
    "end = max(dducks)\n",
    "start = min(dducks)\n",
    "\n",
    "# 이진 탐색 수행\n",
    "result = 0\n",
    "\n",
    "while(start <= end):\n",
    "    total = 0\n",
    "    \n",
    "    mid = (start + end) // 2\n",
    "    \n",
    "    zal_lin_dducks = [i-mid for i in dducks if i-mid>=0 else 0]  #잘린 떡둘\n",
    "    \n",
    "    total = sum(zal_lin_dducks)\n",
    "    \n",
    "    if total == M:\n",
    "        result = mid\n",
    "        \n",
    "    elif total < M:\n",
    "        end = mid-1\n",
    "        \n",
    "    else:\n",
    "        result = mid\n",
    "        start = mid+1\n",
    "        \n",
    "print(result)"
   ]
  },
  {
   "cell_type": "code",
   "execution_count": 37,
   "id": "8f8adafa",
   "metadata": {},
   "outputs": [
    {
     "name": "stdout",
     "output_type": "stream",
     "text": [
      "4 6\n",
      "19 10 14 17\n",
      "15\n"
     ]
    }
   ],
   "source": [
    "a = [1, 56, 55, 9]\n",
    "# N : 떡의 갯수\n",
    "# M = 원하는 총 길이\n",
    "N, M = list(map(int, input().split(\" \")))\n",
    "\n",
    "dducks = list(map(int, input().split()))\n",
    "\n",
    "end = max(dducks)\n",
    "start = 0\n",
    "\n",
    "# 이진 탐색 수행\n",
    "result = 0\n",
    "\n",
    "while(start <= end):\n",
    "    total = 0\n",
    "    \n",
    "    mid = (start + end) // 2\n",
    "    \n",
    "    for x in dducks:\n",
    "        if x > mid:\n",
    "            total += x-mid\n",
    "    \n",
    "    if total < M:\n",
    "        end = mid-1\n",
    "        \n",
    "    else:\n",
    "        result = mid\n",
    "        start = mid+1\n",
    "        \n",
    "print(result)"
   ]
  },
  {
   "cell_type": "code",
   "execution_count": 30,
   "id": "0cef322b",
   "metadata": {},
   "outputs": [
    {
     "data": {
      "text/plain": [
       "8"
      ]
     },
     "execution_count": 30,
     "metadata": {},
     "output_type": "execute_result"
    }
   ],
   "source": [
    "25//3"
   ]
  },
  {
   "cell_type": "markdown",
   "id": "63c8c974",
   "metadata": {},
   "source": [
    "# 정렬됨 배열에서 특정 수의 갯수 구하기"
   ]
  },
  {
   "cell_type": "code",
   "execution_count": 38,
   "id": "446c8534",
   "metadata": {},
   "outputs": [],
   "source": [
    "arr = [1, 1, 2, 2, 2, 3]\n",
    "tgt = 2"
   ]
  },
  {
   "cell_type": "code",
   "execution_count": 40,
   "id": "f931df55",
   "metadata": {},
   "outputs": [
    {
     "name": "stdout",
     "output_type": "stream",
     "text": [
      "3\n"
     ]
    }
   ],
   "source": [
    "from bisect import *\n",
    "\n",
    "result = bisect_right(arr, tgt) - bisect_left(arr, tgt)\n",
    "\n",
    "print(result)"
   ]
  },
  {
   "cell_type": "code",
   "execution_count": null,
   "id": "c7d78548",
   "metadata": {},
   "outputs": [],
   "source": []
  }
 ],
 "metadata": {
  "kernelspec": {
   "display_name": "Python 3",
   "language": "python",
   "name": "python3"
  },
  "language_info": {
   "codemirror_mode": {
    "name": "ipython",
    "version": 3
   },
   "file_extension": ".py",
   "mimetype": "text/x-python",
   "name": "python",
   "nbconvert_exporter": "python",
   "pygments_lexer": "ipython3",
   "version": "3.8.8"
  }
 },
 "nbformat": 4,
 "nbformat_minor": 5
}
