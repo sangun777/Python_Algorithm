{
 "cells": [
  {
   "cell_type": "markdown",
   "id": "4958d3db",
   "metadata": {},
   "source": [
    "### 피보나치수(탑다운)\n",
    "\n",
    "    * 메모이제이션을 이용하는 경우, 피보나치 수열의 시간복잡도는 O(N) 이다."
   ]
  },
  {
   "cell_type": "code",
   "execution_count": 1,
   "id": "bf6bfb1f",
   "metadata": {},
   "outputs": [
    {
     "name": "stdout",
     "output_type": "stream",
     "text": [
      "218922995834555169026\n"
     ]
    }
   ],
   "source": [
    "d = [0] * 100\n",
    "\n",
    "def fibo(x):\n",
    "    \n",
    "    if x==1 or x==2:\n",
    "        return 1\n",
    "    \n",
    "    if d[x] !=0 : # 이미 계산한적이 있으면 그 값을 반환\n",
    "        return d[x]\n",
    "    \n",
    "    d[x] = fibo(x-1) + fibo(x-2)\n",
    "    return d[x]\n",
    "\n",
    "print(fibo(99))"
   ]
  },
  {
   "cell_type": "markdown",
   "id": "13da6c98",
   "metadata": {},
   "source": [
    "### 피보나치수(바텀업)"
   ]
  },
  {
   "cell_type": "code",
   "execution_count": 2,
   "id": "31bb1e90",
   "metadata": {},
   "outputs": [
    {
     "name": "stdout",
     "output_type": "stream",
     "text": [
      "218922995834555169026\n"
     ]
    }
   ],
   "source": [
    "d = [0]*100\n",
    "\n",
    "d[1] = 1\n",
    "d[2] = 1\n",
    "n =99\n",
    "\n",
    "for i in range(3, n+1):\n",
    "    d[i] = d[i-1] + d[i-2]\n",
    "\n",
    "print(d[n])"
   ]
  },
  {
   "cell_type": "markdown",
   "id": "653ef7ca",
   "metadata": {},
   "source": [
    "# 개미전사"
   ]
  },
  {
   "cell_type": "code",
   "execution_count": 4,
   "id": "669b4ed8",
   "metadata": {},
   "outputs": [
    {
     "data": {
      "text/plain": [
       "32"
      ]
     },
     "execution_count": 4,
     "metadata": {},
     "output_type": "execute_result"
    }
   ],
   "source": [
    "max(5, 32)"
   ]
  },
  {
   "cell_type": "code",
   "execution_count": 6,
   "id": "bab79afc",
   "metadata": {},
   "outputs": [
    {
     "name": "stdout",
     "output_type": "stream",
     "text": [
      "4\n",
      "1 3 1 5\n",
      "8\n"
     ]
    }
   ],
   "source": [
    "N = int(input())\n",
    "S = list(map(int, input().split()))\n",
    "\n",
    "Max_S = [0]*len(S)\n",
    "\n",
    "Max_S[0] = S[0]\n",
    "Max_S[1] = S[1]\n",
    "\n",
    "for i in range(2, len(Max_S)):\n",
    "    Max_S[i] = max(Max_S[i-1], Max_S[i-2]+S[i])\n",
    "    \n",
    "print(Max_S[N-1])"
   ]
  },
  {
   "cell_type": "markdown",
   "id": "b0489f45",
   "metadata": {},
   "source": [
    "# 1로 만들기\n",
    "\n",
    "### 아이디어\n",
    "    * X를 만들기 위한 최적의 해는\n",
    "         * x/5를 만들기 위한 최적의 해\n",
    "         * X/3을 만들기 위한 최적의 해\n",
    "         * x/2를 만들기 위한 최적의 해\n",
    "         * x-1을 만들기 위한 최적의 해\n",
    "         * 중에서 최적 값을 고르면 됨\n",
    "         \n",
    "         점화식 f(x) = min(f(x-1), f(x/2), f(x/3), f(x/5) + 1"
   ]
  },
  {
   "cell_type": "code",
   "execution_count": 8,
   "id": "6a3d9338",
   "metadata": {},
   "outputs": [
    {
     "name": "stdout",
     "output_type": "stream",
     "text": [
      "50\n",
      "3\n"
     ]
    }
   ],
   "source": [
    "x = int(input())\n",
    "\n",
    "d = [0]*30001\n",
    "\n",
    "for i in range(2, x+1):\n",
    "    d[i] = d[i-1] + 1\n",
    "    \n",
    "    if i % 2 ==0:   \n",
    "        d[i] = min(d[i], d[i//2]+1)\n",
    "        \n",
    "    if i % 3 ==0:\n",
    "        d[i] = min(d[i], d[i//3]+1)\n",
    "        \n",
    "    if i % 5 ==0:\n",
    "        d[i] = min(d[i], d[i//5]+1)\n",
    "        \n",
    "print(d[x])"
   ]
  },
  {
   "cell_type": "code",
   "execution_count": 7,
   "id": "52646c4a",
   "metadata": {},
   "outputs": [
    {
     "data": {
      "text/plain": [
       "4"
      ]
     },
     "execution_count": 7,
     "metadata": {},
     "output_type": "execute_result"
    }
   ],
   "source": [
    "8//2"
   ]
  },
  {
   "cell_type": "code",
   "execution_count": null,
   "id": "cfd79d49",
   "metadata": {},
   "outputs": [],
   "source": []
  }
 ],
 "metadata": {
  "kernelspec": {
   "display_name": "Python 3",
   "language": "python",
   "name": "python3"
  },
  "language_info": {
   "codemirror_mode": {
    "name": "ipython",
    "version": 3
   },
   "file_extension": ".py",
   "mimetype": "text/x-python",
   "name": "python",
   "nbconvert_exporter": "python",
   "pygments_lexer": "ipython3",
   "version": "3.8.8"
  }
 },
 "nbformat": 4,
 "nbformat_minor": 5
}
