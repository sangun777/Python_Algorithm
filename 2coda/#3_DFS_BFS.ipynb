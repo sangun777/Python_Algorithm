{
 "cells": [
  {
   "cell_type": "markdown",
   "id": "03ae5035",
   "metadata": {},
   "source": [
    "# DFS(깊이 우선 탐색, Deep First Search)\n",
    "\n",
    "    * 후입선출 구조의 스택을 사용함\n",
    "        * 컴퓨터는 구조적으로 스택의 원리를 이용하기 때문에 별도의 스택없이 구현 가능\n",
    "        * 스택을 사용하지 않더라도, 재귀함수를 이용하여 구현 가능\n",
    "        * 재귀함수의 구조 자체가 스택 구조에 차곡차곡 쌓이는 형태와 동일\n",
    "        * 일반형은 스택을 이용하지만,\n",
    "        * 실제 대회에서는 보통 재귀함수 형태로 구현하는 것이 쉽고 간결하고 빠름\n",
    "        \n",
    "### 탐색 방법\n",
    "\n",
    "    1. 시작 노드를 스택에 넣어주고, 방문처리\n",
    "    2. 스택의 최상단 노드(마지막에 들어온 노드)의 인접 노드를 확인하여, \n",
    "       방문하지 않은 인접 노드가 있으면, 그 노드를 스택에 넣고 방문처리  \n",
    "       (방문하지 않은 인접 노드가 여러개 일 경우, (우선순위 높은) 한 개에 대하여 처리 진행)\n",
    "       방문하지 않은 인접 노드가 없으면, 그 노드를 스택에서 빼기\n",
    "    3. 2. 반복"
   ]
  },
  {
   "cell_type": "code",
   "execution_count": 1,
   "id": "eebb34a5",
   "metadata": {},
   "outputs": [],
   "source": [
    "# a노드에 b, c, d가 연결되어 있으면, graph[a] = [b, c, d]\n",
    "graph = [\n",
    "    [],   # 노상관\n",
    "    [2, 3, 8],  # 1-2, 1-3, 1-8\n",
    "    [1, 7],     #2\n",
    "    [1, 4, 5],  #3\n",
    "    [3, 5],     #4\n",
    "    [3, 4],     #5\n",
    "    [7],        #6\n",
    "    [2, 6, 8],  #7\n",
    "    [1, 7],     #8\n",
    "]"
   ]
  },
  {
   "cell_type": "code",
   "execution_count": 2,
   "id": "0bddb425",
   "metadata": {},
   "outputs": [
    {
     "name": "stdout",
     "output_type": "stream",
     "text": [
      "1 2 7 6 8 3 4 5 "
     ]
    }
   ],
   "source": [
    "visited = [False] * 9\n",
    "\n",
    "def dfs(graph, v, visited): # v는 시작 노드\n",
    "    \n",
    "    visited[v] = True  # 방문처리 후, 출력\n",
    "    print(v, end=' ')\n",
    "    \n",
    "    for i in graph[v]:  # v의 인접 노드 확인\n",
    "        if not visited[i]:\n",
    "            dfs(graph, i, visited)\n",
    "            \n",
    "dfs(graph, 1, visited)"
   ]
  },
  {
   "cell_type": "markdown",
   "id": "09ac0be0",
   "metadata": {},
   "source": [
    "# BFS(너비 우선 탐색, Breath First Search)\n",
    "\n",
    "    * 맹목적인 탐색, 최단거리 탐색 시 사용\n",
    "    * 큐(queue, FIFO 구조)가 필요함\n",
    "    \n",
    "## 탐색 방법\n",
    "\n",
    "    1. 처음 방문한 노드를 큐에 넣어 주고, 노드를 방문처리 해준다\n",
    "    2. 큐에서 노드를 꺼내서 출력, 꺼낸 노드에 연결된 노드 중 방문하지 않은 노드를 차례대로 모두 큐에 넣고, 방문처리를 해준다\n",
    "    3. 2를 반복한다\n",
    "    "
   ]
  },
  {
   "cell_type": "code",
   "execution_count": 3,
   "id": "7ca69420",
   "metadata": {},
   "outputs": [
    {
     "name": "stdout",
     "output_type": "stream",
     "text": [
      "1 2 3 8 7 4 5 6 "
     ]
    }
   ],
   "source": [
    "from collections import deque\n",
    "\n",
    "def bfs(graph, start, visited):\n",
    "    \n",
    "    queue = deque([start]) # 현재노드를 큐에 넣고\n",
    "    visited[start] = True  # 방문처리\n",
    "    \n",
    "    while queue:        \n",
    "        v = queue.popleft()  # 큐에서 하나 꺼내서\n",
    "        print(v, end=' ')    # 출력\n",
    "        \n",
    "        for i in graph[v]:   # 꺼낸 v에 인접한 내용물 순회\n",
    "            if not visited[i]:  # 방문 안한 것들은\n",
    "                queue.append(i) # 큐에 넣고\n",
    "                visited[i] = True  # 방문처리\n",
    "                \n",
    "visited = [False]*9\n",
    "\n",
    "bfs(graph, 1, visited)"
   ]
  },
  {
   "cell_type": "code",
   "execution_count": null,
   "id": "a1e505ce",
   "metadata": {},
   "outputs": [],
   "source": []
  },
  {
   "cell_type": "markdown",
   "id": "f766e94d",
   "metadata": {},
   "source": [
    "# 음료수 얼려먹기\n",
    "\n",
    "    * 연결 요소(Connected Component) 찾기 문제"
   ]
  },
  {
   "cell_type": "code",
   "execution_count": null,
   "id": "971bf667",
   "metadata": {},
   "outputs": [],
   "source": [
    "# 입력 예시\n",
    "4, 5   # 행, 열\n",
    "00110\n",
    "00011\n",
    "11111\n",
    "00000"
   ]
  },
  {
   "cell_type": "code",
   "execution_count": 4,
   "id": "a99b3514",
   "metadata": {},
   "outputs": [
    {
     "name": "stdout",
     "output_type": "stream",
     "text": [
      "4 5\n",
      "00110\n",
      "00011\n",
      "11111\n",
      "00000\n"
     ]
    },
    {
     "data": {
      "text/plain": [
       "[[0, 0, 1, 1, 0], [0, 0, 0, 1, 1], [1, 1, 1, 1, 1], [0, 0, 0, 0, 0]]"
      ]
     },
     "execution_count": 4,
     "metadata": {},
     "output_type": "execute_result"
    }
   ],
   "source": [
    "n, m = map(int, input().split())\n",
    "\n",
    "graph = []\n",
    "\n",
    "for i in range(n):\n",
    "    graph.append(list(map(int, input())))\n",
    "    \n",
    "graph"
   ]
  },
  {
   "cell_type": "code",
   "execution_count": 7,
   "id": "535c91b1",
   "metadata": {},
   "outputs": [
    {
     "name": "stdout",
     "output_type": "stream",
     "text": [
      "3\n"
     ]
    }
   ],
   "source": [
    "def dfs(x, y):\n",
    "    \n",
    "    if x <=-1 or x>=n or y<=-1 or y>=m:\n",
    "        return False\n",
    "    \n",
    "    if graph[x][y]==0:\n",
    "        \n",
    "        graph[x][y]=1 # 방문처리\n",
    "        \n",
    "        dfs(x-1, y) # 상\n",
    "        dfs(x, y-1) # 좌\n",
    "        dfs(x+1, y) # 하\n",
    "        dfs(x, y+1) # 우\n",
    "        return True\n",
    "    return False\n",
    "\n",
    "result = 0\n",
    "\n",
    "for i in range(n):\n",
    "    for j in range(m):\n",
    "        if dfs(i, j) == True:\n",
    "            result +=1\n",
    "            \n",
    "print(result)        "
   ]
  },
  {
   "cell_type": "code",
   "execution_count": null,
   "id": "afb6ef72",
   "metadata": {},
   "outputs": [],
   "source": []
  },
  {
   "cell_type": "code",
   "execution_count": null,
   "id": "1cbecf48",
   "metadata": {},
   "outputs": [],
   "source": []
  }
 ],
 "metadata": {
  "kernelspec": {
   "display_name": "Python 3",
   "language": "python",
   "name": "python3"
  },
  "language_info": {
   "codemirror_mode": {
    "name": "ipython",
    "version": 3
   },
   "file_extension": ".py",
   "mimetype": "text/x-python",
   "name": "python",
   "nbconvert_exporter": "python",
   "pygments_lexer": "ipython3",
   "version": "3.8.8"
  }
 },
 "nbformat": 4,
 "nbformat_minor": 5
}
