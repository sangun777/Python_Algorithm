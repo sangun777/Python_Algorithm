{
 "cells": [
  {
   "cell_type": "markdown",
   "id": "11ffbad7",
   "metadata": {},
   "source": [
    "# 최단 경로 알고리즘\n",
    "\n",
    "## 다양한 문제 상황\n",
    "\n",
    "    1. 한 지점에서 다른 한 지점까지의 최단 경로\n",
    "    2. 한 지점에서 다른 모든 지점까지의 최단 경로\n",
    "    3. 모든 지점에서 다른 모든 지점까지의 최단 경로\n",
    "    \n",
    "* 각 지점은 그래프에서 노드로 표현\n",
    "* 지점 간 연결된 도로는 그래프에서 간선으로 표현"
   ]
  },
  {
   "cell_type": "markdown",
   "id": "789d8574",
   "metadata": {},
   "source": [
    "# 다익스트라 최단 경로 알고리즘\n",
    "\n",
    "    * 줄여서 다익스트라 알고리즘\n",
    "    * 특정한 노드에서 출발하여, 다른 모든 노드로 가는 최단 경로를 모두 계산함\n",
    "    * 음의 간선이 없을 때, 정상적으로 동작\n",
    "    * 다익스트라 알고리즘은 그리디 알고리즘으로 분류\n",
    "    * 매 상황에서 가장 비용이 적은 노드를 선택해 임의의 과정을 반복합니다.\n",
    "    \n",
    "## 동작 과정\n",
    "\n",
    "1. 출발 노드를 설정\n",
    "2. 최단 거리 테이블을 초기화(자기 자신은 0, 나머지는 무한대로 초기화)\n",
    "3. 방문하지 않은 노드 중에서 최단거리가 가장 짧은 노드를 선택\n",
    "4. 해당 노드를 거쳐 다른 노드로 가는 비용을 계산하여 최단 거리 테이블을 갱신\n",
    "5. 3-4과정을 반복\n",
    "\n",
    "## 특징\n",
    "* 총 O(V)번에 걸쳐서 최단 거리가 가장 짧은 노드를 매번 선형 탐색해야 함\n",
    "    * v : 노드의 갯수\n",
    "* 전체 시간 복잡도 : O(V^2)\n",
    "* 일반적으로 최단 경로 문제에서 노드의 갯수가 5000개 이하면 해결 가능  \n",
    "  \n",
    "  \n",
    "    * 노드의 갯수가 10000개가 넘어가면?? \n",
    "        * 복잡도가 1억이 넘어가므로 시간 초과 가능성 있음\n",
    "        * 이 해결을 위해 우선 순위 큐(Priority Queue)를 이용한다.\n",
    "            * 최소/최대 힙(heaq)을 이용하여 주로 우선순위 큐를 구현한다.\n",
    "            * 힙에서 데이터 삽입 or 삭제 복잡도 = O(logN)\n",
    "    "
   ]
  },
  {
   "cell_type": "code",
   "execution_count": 1,
   "id": "39b305af",
   "metadata": {},
   "outputs": [
    {
     "data": {
      "text/plain": [
       "[0, 0, 0, 0, 0, 0, 0]"
      ]
     },
     "execution_count": 1,
     "metadata": {},
     "output_type": "execute_result"
    }
   ],
   "source": [
    "[0] * 7"
   ]
  }
 ],
 "metadata": {
  "kernelspec": {
   "display_name": "Python 3",
   "language": "python",
   "name": "python3"
  },
  "language_info": {
   "codemirror_mode": {
    "name": "ipython",
    "version": 3
   },
   "file_extension": ".py",
   "mimetype": "text/x-python",
   "name": "python",
   "nbconvert_exporter": "python",
   "pygments_lexer": "ipython3",
   "version": "3.8.8"
  }
 },
 "nbformat": 4,
 "nbformat_minor": 5
}
