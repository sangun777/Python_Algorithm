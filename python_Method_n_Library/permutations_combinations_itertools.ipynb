{
 "cells": [
  {
   "cell_type": "markdown",
   "id": "1afd5d25",
   "metadata": {},
   "source": [
    "# ZIP\n",
    "\n",
    "* 2개 이상 배열을 하나씩 요소를 뽑아, 튜플을 만들어줌\n",
    "* 각 배열의 최소 갯수 만큼만 나옴\n",
    "\n",
    "# *(asterisk) \n",
    "* 언패킹 기능 수행(리스트, 튜플 등)"
   ]
  },
  {
   "cell_type": "code",
   "execution_count": 5,
   "id": "e970651e",
   "metadata": {},
   "outputs": [
    {
     "name": "stdout",
     "output_type": "stream",
     "text": [
      "<zip object at 0x0000016B2F73CAC0>\n",
      "(1, 'a', 'ㄱ') (2, 'b', 'ㄴ') \n",
      "(1, 'a') (2, 'b') (3, 'c') "
     ]
    }
   ],
   "source": [
    "a = [1, 2, 3, 4]\n",
    "b = ['a', 'b', 'c']\n",
    "c = ['ㄱ', 'ㄴ']\n",
    "\n",
    "print(zip(a, b, c))\n",
    "\n",
    "for i in zip(a, b, c):\n",
    "    print(i, end=' ')\n",
    "    \n",
    "print()\n",
    "\n",
    "for i in zip(a, b):\n",
    "    print(i, end=' ')"
   ]
  },
  {
   "cell_type": "code",
   "execution_count": 7,
   "id": "10023495",
   "metadata": {},
   "outputs": [
    {
     "name": "stdout",
     "output_type": "stream",
     "text": [
      "1 a 2 b 3 c "
     ]
    }
   ],
   "source": [
    "for i in zip(a, b):\n",
    "    print(*i, end=' ')"
   ]
  },
  {
   "cell_type": "code",
   "execution_count": 8,
   "id": "4feddf09",
   "metadata": {},
   "outputs": [
    {
     "ename": "TypeError",
     "evalue": "append() takes exactly one argument (2 given)",
     "output_type": "error",
     "traceback": [
      "\u001b[1;31m---------------------------------------------------------------------------\u001b[0m",
      "\u001b[1;31mTypeError\u001b[0m                                 Traceback (most recent call last)",
      "\u001b[1;32m<ipython-input-8-6104bc34e06b>\u001b[0m in \u001b[0;36m<module>\u001b[1;34m\u001b[0m\n\u001b[0;32m      1\u001b[0m \u001b[0mlist1\u001b[0m \u001b[1;33m=\u001b[0m \u001b[1;33m[\u001b[0m\u001b[1;33m]\u001b[0m\u001b[1;33m\u001b[0m\u001b[1;33m\u001b[0m\u001b[0m\n\u001b[0;32m      2\u001b[0m \u001b[1;32mfor\u001b[0m \u001b[0mi\u001b[0m \u001b[1;32min\u001b[0m \u001b[0mzip\u001b[0m\u001b[1;33m(\u001b[0m\u001b[0ma\u001b[0m\u001b[1;33m,\u001b[0m \u001b[0mb\u001b[0m\u001b[1;33m)\u001b[0m\u001b[1;33m:\u001b[0m\u001b[1;33m\u001b[0m\u001b[1;33m\u001b[0m\u001b[0m\n\u001b[1;32m----> 3\u001b[1;33m     \u001b[0mlist1\u001b[0m\u001b[1;33m.\u001b[0m\u001b[0mappend\u001b[0m\u001b[1;33m(\u001b[0m\u001b[1;33m*\u001b[0m\u001b[0mi\u001b[0m\u001b[1;33m)\u001b[0m\u001b[1;33m\u001b[0m\u001b[1;33m\u001b[0m\u001b[0m\n\u001b[0m\u001b[0;32m      4\u001b[0m \u001b[1;33m\u001b[0m\u001b[0m\n\u001b[0;32m      5\u001b[0m \u001b[0mlist1\u001b[0m\u001b[1;33m\u001b[0m\u001b[1;33m\u001b[0m\u001b[0m\n",
      "\u001b[1;31mTypeError\u001b[0m: append() takes exactly one argument (2 given)"
     ]
    }
   ],
   "source": [
    "list1 = []\n",
    "for i in zip(a, b):\n",
    "    list1.append(*i)\n",
    "    \n",
    "list1"
   ]
  },
  {
   "cell_type": "markdown",
   "id": "da25142f",
   "metadata": {},
   "source": [
    "# 순열(permutations)\n",
    "\n",
    "### 같은 요소도 순서가 다르면 다른 것으로 봄 ((1, 4)와 (4, 1)은 다른 것)\n",
    "\n",
    "    * 뽑아서 순서대로 정렬하는 모든 경우의 수\n",
    "    * itertools 모듈 사용\n",
    "    \n",
    "    * for 문으로 하나하나 뽑으면 튜플을 반환한다\n",
    "\n",
    "### permutation(iterable, [n]) : 반복가능객체(iterable)에서 n개를 뽑아 나열하는 경우의 수"
   ]
  },
  {
   "cell_type": "code",
   "execution_count": 2,
   "id": "52ab0251",
   "metadata": {},
   "outputs": [],
   "source": [
    "from itertools import permutations"
   ]
  },
  {
   "cell_type": "markdown",
   "id": "0216b9ef",
   "metadata": {},
   "source": [
    " * 자체는 permutations class임"
   ]
  },
  {
   "cell_type": "code",
   "execution_count": 3,
   "id": "7ac20c73",
   "metadata": {},
   "outputs": [
    {
     "data": {
      "text/plain": [
       "<itertools.permutations at 0x1b3137e0900>"
      ]
     },
     "execution_count": 3,
     "metadata": {},
     "output_type": "execute_result"
    }
   ],
   "source": [
    "permutations(range(3))"
   ]
  },
  {
   "cell_type": "code",
   "execution_count": 4,
   "id": "b69a6361",
   "metadata": {},
   "outputs": [
    {
     "name": "stdout",
     "output_type": "stream",
     "text": [
      "<class 'tuple'>\n",
      "<class 'int'>\n",
      "(1, 2) (1, 3) (1, 4) (2, 1) (2, 3) (2, 4) (3, 1) (3, 2) (3, 4) (4, 1) (4, 2) (4, 3) "
     ]
    }
   ],
   "source": [
    "for i in permutations([1, 2, 3, 4], 2):\n",
    "    \n",
    "    if i == (1, 2):\n",
    "        print(type(i))\n",
    "        print(type(i[0]))\n",
    "    \n",
    "    print(i, end=' ')"
   ]
  },
  {
   "cell_type": "code",
   "execution_count": 5,
   "id": "0eca74b5",
   "metadata": {},
   "outputs": [
    {
     "data": {
      "text/plain": [
       "<itertools.permutations at 0x1b31383e220>"
      ]
     },
     "execution_count": 5,
     "metadata": {},
     "output_type": "execute_result"
    }
   ],
   "source": [
    "permutations([1, 2, 3, 4], 2)"
   ]
  },
  {
   "cell_type": "code",
   "execution_count": 7,
   "id": "0d3c438a",
   "metadata": {},
   "outputs": [
    {
     "data": {
      "text/plain": [
       "[(1, 2), (1, 3), (2, 1), (2, 3), (3, 1), (3, 2)]"
      ]
     },
     "execution_count": 7,
     "metadata": {},
     "output_type": "execute_result"
    }
   ],
   "source": [
    "list(permutations([1, 2, 3], 2))"
   ]
  },
  {
   "cell_type": "markdown",
   "id": "ff0ff467",
   "metadata": {},
   "source": [
    "### 문자열로 합쳐서 리스트에 저장하기"
   ]
  },
  {
   "cell_type": "code",
   "execution_count": 32,
   "id": "2f2faa4c",
   "metadata": {},
   "outputs": [
    {
     "data": {
      "text/plain": [
       "['12', '13', '14', '21', '23', '24', '31', '32', '34', '41', '42', '43']"
      ]
     },
     "execution_count": 32,
     "metadata": {},
     "output_type": "execute_result"
    }
   ],
   "source": [
    "# permutation의 원소가 문자열이기 떄문에 가능한 것\n",
    "a = list(map(''.join, permutations(['1', '2', '3', '4'], 2)))\n",
    "a"
   ]
  },
  {
   "cell_type": "markdown",
   "id": "01066d4a",
   "metadata": {},
   "source": [
    " * 숫자요소를 바로 문자열로 합치면 에러발생!"
   ]
  },
  {
   "cell_type": "code",
   "execution_count": 33,
   "id": "109cb10e",
   "metadata": {},
   "outputs": [
    {
     "ename": "TypeError",
     "evalue": "sequence item 0: expected str instance, int found",
     "output_type": "error",
     "traceback": [
      "\u001b[1;31m---------------------------------------------------------------------------\u001b[0m",
      "\u001b[1;31mTypeError\u001b[0m                                 Traceback (most recent call last)",
      "\u001b[1;32m<ipython-input-33-a033040f6c60>\u001b[0m in \u001b[0;36m<module>\u001b[1;34m\u001b[0m\n\u001b[0;32m      1\u001b[0m \u001b[1;31m# permutation의 원소가 문자열이기 떄문에 가능한 것\u001b[0m\u001b[1;33m\u001b[0m\u001b[1;33m\u001b[0m\u001b[1;33m\u001b[0m\u001b[0m\n\u001b[1;32m----> 2\u001b[1;33m \u001b[0ma\u001b[0m \u001b[1;33m=\u001b[0m \u001b[0mlist\u001b[0m\u001b[1;33m(\u001b[0m\u001b[0mmap\u001b[0m\u001b[1;33m(\u001b[0m\u001b[1;34m''\u001b[0m\u001b[1;33m.\u001b[0m\u001b[0mjoin\u001b[0m\u001b[1;33m,\u001b[0m \u001b[0mpermutations\u001b[0m\u001b[1;33m(\u001b[0m\u001b[1;33m[\u001b[0m\u001b[1;36m1\u001b[0m\u001b[1;33m,\u001b[0m \u001b[1;36m2\u001b[0m\u001b[1;33m,\u001b[0m \u001b[1;36m3\u001b[0m\u001b[1;33m,\u001b[0m \u001b[1;36m4\u001b[0m\u001b[1;33m]\u001b[0m\u001b[1;33m,\u001b[0m \u001b[1;36m2\u001b[0m\u001b[1;33m)\u001b[0m\u001b[1;33m)\u001b[0m\u001b[1;33m)\u001b[0m\u001b[1;33m\u001b[0m\u001b[1;33m\u001b[0m\u001b[0m\n\u001b[0m\u001b[0;32m      3\u001b[0m \u001b[0ma\u001b[0m\u001b[1;33m\u001b[0m\u001b[1;33m\u001b[0m\u001b[0m\n",
      "\u001b[1;31mTypeError\u001b[0m: sequence item 0: expected str instance, int found"
     ]
    }
   ],
   "source": [
    "# permutation의 원소가 문자열이기 떄문에 가능한 것\n",
    "a = list(map(''.join, permutations([1, 2, 3, 4], 2)))\n",
    "a"
   ]
  },
  {
   "cell_type": "markdown",
   "id": "f86647e3",
   "metadata": {},
   "source": [
    " * map 함수를 활용해서 문자열로 변경 해준 후, ''.join 수행"
   ]
  },
  {
   "cell_type": "code",
   "execution_count": 38,
   "id": "7a0318e3",
   "metadata": {},
   "outputs": [
    {
     "data": {
      "text/plain": [
       "['12', '13', '14', '21', '23', '24', '31', '32', '34', '41', '42', '43']"
      ]
     },
     "execution_count": 38,
     "metadata": {},
     "output_type": "execute_result"
    }
   ],
   "source": [
    "# permutation의 원소가 문자열이기 떄문에 가능한 것\n",
    "a = list(map(''.join, permutations(map(str, [1, 2, 3, 4]), 2)))\n",
    "a"
   ]
  },
  {
   "cell_type": "code",
   "execution_count": null,
   "id": "31f95646",
   "metadata": {},
   "outputs": [],
   "source": []
  },
  {
   "cell_type": "code",
   "execution_count": 14,
   "id": "a59dcc15",
   "metadata": {},
   "outputs": [
    {
     "name": "stdout",
     "output_type": "stream",
     "text": [
      "(1, 2, 3, 4) (1, 2, 4, 3) (1, 3, 2, 4) (1, 3, 4, 2) (1, 4, 2, 3) (1, 4, 3, 2) (2, 1, 3, 4) (2, 1, 4, 3) (2, 3, 1, 4) (2, 3, 4, 1) (2, 4, 1, 3) (2, 4, 3, 1) (3, 1, 2, 4) (3, 1, 4, 2) (3, 2, 1, 4) (3, 2, 4, 1) (3, 4, 1, 2) (3, 4, 2, 1) (4, 1, 2, 3) (4, 1, 3, 2) (4, 2, 1, 3) (4, 2, 3, 1) (4, 3, 1, 2) (4, 3, 2, 1) "
     ]
    }
   ],
   "source": [
    "for i in permutations([1, 2, 3, 4]):\n",
    "    print(i, end=' ')"
   ]
  },
  {
   "cell_type": "code",
   "execution_count": 8,
   "id": "bf72dd0d",
   "metadata": {},
   "outputs": [
    {
     "name": "stdout",
     "output_type": "stream",
     "text": [
      "(0, 1, 2)\n",
      "(0, 2, 1)\n",
      "(1, 0, 2)\n",
      "(1, 2, 0)\n",
      "(2, 0, 1)\n",
      "(2, 1, 0)\n"
     ]
    }
   ],
   "source": [
    "for i in permutations(range(3)):\n",
    "    print(i)"
   ]
  },
  {
   "cell_type": "markdown",
   "id": "39d3066e",
   "metadata": {},
   "source": [
    " * 가끔 코테 환경(=>프로스래머스)에서 아래 같이 list(permutaions())이 안될 떄도 있는데\n",
    " * 그 때는, for 문과 append 이용해서 수동으로 넣어 줄 것!!"
   ]
  },
  {
   "cell_type": "code",
   "execution_count": 17,
   "id": "bc0388cb",
   "metadata": {},
   "outputs": [
    {
     "data": {
      "text/plain": [
       "[(0, 1, 2), (0, 2, 1), (1, 0, 2), (1, 2, 0), (2, 0, 1), (2, 1, 0)]"
      ]
     },
     "execution_count": 17,
     "metadata": {},
     "output_type": "execute_result"
    }
   ],
   "source": [
    "a = list(permutations(range(3)))\n",
    "a"
   ]
  },
  {
   "cell_type": "code",
   "execution_count": null,
   "id": "607d5ba5",
   "metadata": {},
   "outputs": [],
   "source": []
  },
  {
   "cell_type": "markdown",
   "id": "9fe93609",
   "metadata": {},
   "source": [
    "# 조합(combinations)\n",
    "\n",
    "### 순서 상관없이 요소만 같은 것은 같은 것 ((1, 4)와 (4, 1)은 같은 것)\n",
    "\n",
    "    * 반복가능한 객체에서 중복을 허용하지 않고, r개 뽑아 나열한다.  \n",
    "    * itertools 동일하게 사용\n",
    "    \n",
    "### combinations(iterable, [n])"
   ]
  },
  {
   "cell_type": "code",
   "execution_count": 6,
   "id": "d8270fe3",
   "metadata": {},
   "outputs": [],
   "source": [
    "from itertools import combinations"
   ]
  },
  {
   "cell_type": "code",
   "execution_count": 7,
   "id": "a72a7ae3",
   "metadata": {},
   "outputs": [
    {
     "name": "stdout",
     "output_type": "stream",
     "text": [
      "<class 'tuple'>\n",
      "(1, 2) (1, 3) (1, 4) (2, 3) (2, 4) (3, 4) "
     ]
    }
   ],
   "source": [
    "for i in combinations([1, 2, 3, 4], 2):\n",
    "\n",
    "    if i == (1, 2):\n",
    "        print(type(i))\n",
    "        \n",
    "    print(i, end=' ')"
   ]
  },
  {
   "cell_type": "markdown",
   "id": "40615e7b",
   "metadata": {},
   "source": [
    "# 중복 순열(product)\n",
    "\n",
    "### 같은 요소를 반복 뽑기 가능\n",
    "\n",
    "### 순서 다르면 다른것으로 인식 ((X, Y), (Y, X)는 다른 것)\n",
    "\n",
    "    * 2개 이상의 반복가능객체에서 하나씩 뽑아 나열하는 경우의 수\n",
    "    * 여러개의 리스트에서 값을 뽑아 조합할 때 사용!!"
   ]
  },
  {
   "cell_type": "code",
   "execution_count": 11,
   "id": "15beb60e",
   "metadata": {},
   "outputs": [],
   "source": [
    "from itertools import *"
   ]
  },
  {
   "cell_type": "code",
   "execution_count": 12,
   "id": "44b4e415",
   "metadata": {},
   "outputs": [
    {
     "name": "stdout",
     "output_type": "stream",
     "text": [
      "('X', 'X')\n",
      "('X', 'Y')\n",
      "('X', 'Z')\n",
      "('Y', 'X')\n",
      "('Y', 'Y')\n",
      "('Y', 'Z')\n",
      "('Z', 'X')\n",
      "('Z', 'Y')\n",
      "('Z', 'Z')\n",
      "('X', 'X') ('X', 'Y') ('X', 'Z') ('Y', 'Y') ('Y', 'Z') ('Z', 'Z') "
     ]
    }
   ],
   "source": [
    "for i in product(['X', 'Y', 'Z'], repeat = 2):\n",
    "    print(i)\n",
    "    \n",
    "for i in combinations_with_replacement(['X', 'Y', 'Z'], 2): \n",
    "    print(i, end=' ')"
   ]
  },
  {
   "cell_type": "code",
   "execution_count": 15,
   "id": "724f0ee4",
   "metadata": {},
   "outputs": [
    {
     "name": "stdout",
     "output_type": "stream",
     "text": [
      "(0,)\n",
      "(1,)\n",
      "(2,)\n"
     ]
    }
   ],
   "source": [
    "for i in product(range(3)):\n",
    "    print(i)"
   ]
  },
  {
   "cell_type": "code",
   "execution_count": 16,
   "id": "941df53e",
   "metadata": {},
   "outputs": [
    {
     "name": "stdout",
     "output_type": "stream",
     "text": [
      "(1, 'a')\n",
      "(1, 'b')\n",
      "(2, 'a')\n",
      "(2, 'b')\n",
      "(3, 'a')\n",
      "(3, 'b')\n"
     ]
    }
   ],
   "source": [
    "for i in product([1, 2, 3], ('a', 'b')):\n",
    "    print(i)"
   ]
  },
  {
   "cell_type": "code",
   "execution_count": 22,
   "id": "e3baed3b",
   "metadata": {},
   "outputs": [
    {
     "name": "stdout",
     "output_type": "stream",
     "text": [
      "('X', 'a', 0)\n",
      "('X', 'a', 1)\n",
      "('X', 'a', 2)\n",
      "('X', 'b', 0)\n",
      "('X', 'b', 1)\n",
      "('X', 'b', 2)\n",
      "('Y', 'a', 0)\n",
      "('Y', 'a', 1)\n",
      "('Y', 'a', 2)\n",
      "('Y', 'b', 0)\n",
      "('Y', 'b', 1)\n",
      "('Y', 'b', 2)\n",
      "('Z', 'a', 0)\n",
      "('Z', 'a', 1)\n",
      "('Z', 'a', 2)\n",
      "('Z', 'b', 0)\n",
      "('Z', 'b', 1)\n",
      "('Z', 'b', 2)\n"
     ]
    }
   ],
   "source": [
    "for i in product(['X', 'Y', 'Z'], ('a', 'b'), range(3)):\n",
    "    print(i)"
   ]
  },
  {
   "cell_type": "code",
   "execution_count": 24,
   "id": "d5d7a9c4",
   "metadata": {},
   "outputs": [
    {
     "name": "stdout",
     "output_type": "stream",
     "text": [
      "('a', 'a')\n",
      "('a', 'b')\n",
      "('b', 'a')\n",
      "('b', 'b')\n"
     ]
    }
   ],
   "source": [
    "for i in product(['a', 'b'], repeat = 2):\n",
    "    print(i)"
   ]
  },
  {
   "cell_type": "markdown",
   "id": "c34e25d3",
   "metadata": {},
   "source": [
    "# 중복 조합(combination_with_replacement)\n",
    "\n",
    "### 순서 달라도 요소가 같으면 같은 것으로 인식 ((X, Y), (Y, X)는 같은 것)\n",
    "\n",
    "    * 중복해서 반복적으로 꺼낼수 있는 조합"
   ]
  },
  {
   "cell_type": "code",
   "execution_count": 27,
   "id": "a6dc9aa7",
   "metadata": {},
   "outputs": [
    {
     "name": "stdout",
     "output_type": "stream",
     "text": [
      "(1, 1) (1, 2) (1, 3) (1, 4) (2, 2) (2, 3) (2, 4) (3, 3) (3, 4) (4, 4) "
     ]
    }
   ],
   "source": [
    "from itertools import combinations_with_replacement\n",
    "\n",
    "for i in combinations_with_replacement([1, 2, 3, 4], 2): \n",
    "    print(i, end=' ')\n",
    "    \n",
    "# 기존 combinations 값에서 (1, 1), (2, 2), (3, 3), (4, 4)가 추가 됨!!!"
   ]
  },
  {
   "cell_type": "markdown",
   "id": "91e591ef",
   "metadata": {},
   "source": [
    "* 일반 조합과 비교"
   ]
  },
  {
   "cell_type": "code",
   "execution_count": 28,
   "id": "669c759c",
   "metadata": {},
   "outputs": [
    {
     "name": "stdout",
     "output_type": "stream",
     "text": [
      "(1, 2) (1, 3) (1, 4) (2, 3) (2, 4) (3, 4) "
     ]
    }
   ],
   "source": [
    "from itertools import combinations\n",
    "\n",
    "for i in combinations([1, 2, 3, 4], 2): \n",
    "    print(i, end=' ')"
   ]
  }
 ],
 "metadata": {
  "kernelspec": {
   "display_name": "Python 3",
   "language": "python",
   "name": "python3"
  },
  "language_info": {
   "codemirror_mode": {
    "name": "ipython",
    "version": 3
   },
   "file_extension": ".py",
   "mimetype": "text/x-python",
   "name": "python",
   "nbconvert_exporter": "python",
   "pygments_lexer": "ipython3",
   "version": "3.8.8"
  }
 },
 "nbformat": 4,
 "nbformat_minor": 5
}
