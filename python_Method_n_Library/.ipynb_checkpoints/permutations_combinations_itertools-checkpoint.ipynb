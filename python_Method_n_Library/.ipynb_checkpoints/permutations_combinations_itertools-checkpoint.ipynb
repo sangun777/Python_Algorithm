{
 "cells": [
  {
   "cell_type": "markdown",
   "id": "f23cb329",
   "metadata": {},
   "source": [
    "# 순열(permutations)\n",
    "\n",
    "    * 뽑아서 순서대로 정렬하는 모든 경우의 수\n",
    "    * itertools 모듈 사용\n",
    "    \n",
    "    * for 문으로 하나하나 뽑으면 튜플을 반환한다\n",
    "\n",
    "### permutation(iterable, [n]) : 반복가능객체(iterable)에서 n개를 뽑아 나열하는 경우의 수"
   ]
  },
  {
   "cell_type": "code",
   "execution_count": 4,
   "id": "5b341931",
   "metadata": {},
   "outputs": [],
   "source": [
    "from itertools import permutations"
   ]
  },
  {
   "cell_type": "markdown",
   "id": "60f3e5ae",
   "metadata": {},
   "source": [
    " * 자체는 permutations class임"
   ]
  },
  {
   "cell_type": "code",
   "execution_count": 5,
   "id": "fb4e6319",
   "metadata": {},
   "outputs": [
    {
     "data": {
      "text/plain": [
       "<itertools.permutations at 0x2e940071130>"
      ]
     },
     "execution_count": 5,
     "metadata": {},
     "output_type": "execute_result"
    }
   ],
   "source": [
    "permutations(range(3))"
   ]
  },
  {
   "cell_type": "code",
   "execution_count": 7,
   "id": "609b9ce9",
   "metadata": {},
   "outputs": [
    {
     "name": "stdout",
     "output_type": "stream",
     "text": [
      "(1, 2) <class 'tuple'>\n",
      "(1, 3) (1, 4) (2, 1) (2, 3) (2, 4) (3, 1) (3, 2) (3, 4) (4, 1) (4, 2) (4, 3) "
     ]
    }
   ],
   "source": [
    "for i in permutations([1, 2, 3, 4], 2):\n",
    "    print(i, end=' ')\n",
    "    \n",
    "    if i == (1, 2):\n",
    "        print(type(i))"
   ]
  },
  {
   "cell_type": "markdown",
   "id": "668fd91b",
   "metadata": {},
   "source": [
    "### 문자열로 합쳐서 리스트에 저장하기"
   ]
  },
  {
   "cell_type": "code",
   "execution_count": 32,
   "id": "1d2d82c4",
   "metadata": {},
   "outputs": [
    {
     "data": {
      "text/plain": [
       "['12', '13', '14', '21', '23', '24', '31', '32', '34', '41', '42', '43']"
      ]
     },
     "execution_count": 32,
     "metadata": {},
     "output_type": "execute_result"
    }
   ],
   "source": [
    "# permutation의 원소가 문자열이기 떄문에 가능한 것\n",
    "a = list(map(''.join, permutations(['1', '2', '3', '4'], 2)))\n",
    "a"
   ]
  },
  {
   "cell_type": "markdown",
   "id": "6b99e4a8",
   "metadata": {},
   "source": [
    " * 숫자요소를 바로 문자열로 합치면 에러발생!"
   ]
  },
  {
   "cell_type": "code",
   "execution_count": 33,
   "id": "c252b576",
   "metadata": {},
   "outputs": [
    {
     "ename": "TypeError",
     "evalue": "sequence item 0: expected str instance, int found",
     "output_type": "error",
     "traceback": [
      "\u001b[1;31m---------------------------------------------------------------------------\u001b[0m",
      "\u001b[1;31mTypeError\u001b[0m                                 Traceback (most recent call last)",
      "\u001b[1;32m<ipython-input-33-a033040f6c60>\u001b[0m in \u001b[0;36m<module>\u001b[1;34m\u001b[0m\n\u001b[0;32m      1\u001b[0m \u001b[1;31m# permutation의 원소가 문자열이기 떄문에 가능한 것\u001b[0m\u001b[1;33m\u001b[0m\u001b[1;33m\u001b[0m\u001b[1;33m\u001b[0m\u001b[0m\n\u001b[1;32m----> 2\u001b[1;33m \u001b[0ma\u001b[0m \u001b[1;33m=\u001b[0m \u001b[0mlist\u001b[0m\u001b[1;33m(\u001b[0m\u001b[0mmap\u001b[0m\u001b[1;33m(\u001b[0m\u001b[1;34m''\u001b[0m\u001b[1;33m.\u001b[0m\u001b[0mjoin\u001b[0m\u001b[1;33m,\u001b[0m \u001b[0mpermutations\u001b[0m\u001b[1;33m(\u001b[0m\u001b[1;33m[\u001b[0m\u001b[1;36m1\u001b[0m\u001b[1;33m,\u001b[0m \u001b[1;36m2\u001b[0m\u001b[1;33m,\u001b[0m \u001b[1;36m3\u001b[0m\u001b[1;33m,\u001b[0m \u001b[1;36m4\u001b[0m\u001b[1;33m]\u001b[0m\u001b[1;33m,\u001b[0m \u001b[1;36m2\u001b[0m\u001b[1;33m)\u001b[0m\u001b[1;33m)\u001b[0m\u001b[1;33m)\u001b[0m\u001b[1;33m\u001b[0m\u001b[1;33m\u001b[0m\u001b[0m\n\u001b[0m\u001b[0;32m      3\u001b[0m \u001b[0ma\u001b[0m\u001b[1;33m\u001b[0m\u001b[1;33m\u001b[0m\u001b[0m\n",
      "\u001b[1;31mTypeError\u001b[0m: sequence item 0: expected str instance, int found"
     ]
    }
   ],
   "source": [
    "# permutation의 원소가 문자열이기 떄문에 가능한 것\n",
    "a = list(map(''.join, permutations([1, 2, 3, 4], 2)))\n",
    "a"
   ]
  },
  {
   "cell_type": "markdown",
   "id": "98b64d02",
   "metadata": {},
   "source": [
    " * map 함수를 활용해서 문자열로 변경 해준 후, ''.join 수행"
   ]
  },
  {
   "cell_type": "code",
   "execution_count": 38,
   "id": "552388a8",
   "metadata": {},
   "outputs": [
    {
     "data": {
      "text/plain": [
       "['12', '13', '14', '21', '23', '24', '31', '32', '34', '41', '42', '43']"
      ]
     },
     "execution_count": 38,
     "metadata": {},
     "output_type": "execute_result"
    }
   ],
   "source": [
    "# permutation의 원소가 문자열이기 떄문에 가능한 것\n",
    "a = list(map(''.join, permutations(map(str, [1, 2, 3, 4]), 2)))\n",
    "a"
   ]
  },
  {
   "cell_type": "code",
   "execution_count": null,
   "id": "bd8360c7",
   "metadata": {},
   "outputs": [],
   "source": []
  },
  {
   "cell_type": "code",
   "execution_count": 14,
   "id": "bdfa7348",
   "metadata": {},
   "outputs": [
    {
     "name": "stdout",
     "output_type": "stream",
     "text": [
      "(1, 2, 3, 4) (1, 2, 4, 3) (1, 3, 2, 4) (1, 3, 4, 2) (1, 4, 2, 3) (1, 4, 3, 2) (2, 1, 3, 4) (2, 1, 4, 3) (2, 3, 1, 4) (2, 3, 4, 1) (2, 4, 1, 3) (2, 4, 3, 1) (3, 1, 2, 4) (3, 1, 4, 2) (3, 2, 1, 4) (3, 2, 4, 1) (3, 4, 1, 2) (3, 4, 2, 1) (4, 1, 2, 3) (4, 1, 3, 2) (4, 2, 1, 3) (4, 2, 3, 1) (4, 3, 1, 2) (4, 3, 2, 1) "
     ]
    }
   ],
   "source": [
    "for i in permutations([1, 2, 3, 4]):\n",
    "    print(i, end=' ')"
   ]
  },
  {
   "cell_type": "code",
   "execution_count": 8,
   "id": "8c4e6b5a",
   "metadata": {},
   "outputs": [
    {
     "name": "stdout",
     "output_type": "stream",
     "text": [
      "(0, 1, 2)\n",
      "(0, 2, 1)\n",
      "(1, 0, 2)\n",
      "(1, 2, 0)\n",
      "(2, 0, 1)\n",
      "(2, 1, 0)\n"
     ]
    }
   ],
   "source": [
    "for i in permutations(range(3)):\n",
    "    print(i)"
   ]
  },
  {
   "cell_type": "markdown",
   "id": "edd2ed96",
   "metadata": {},
   "source": [
    " * 가끔 코테 환경(=>프로스래머스)에서 아래 같이 list(permutaions())이 안될 떄도 있는데\n",
    " * 그 때는, for 문과 append 이용해서 수동으로 넣어 줄 것!!"
   ]
  },
  {
   "cell_type": "code",
   "execution_count": 17,
   "id": "13dbf91f",
   "metadata": {},
   "outputs": [
    {
     "data": {
      "text/plain": [
       "[(0, 1, 2), (0, 2, 1), (1, 0, 2), (1, 2, 0), (2, 0, 1), (2, 1, 0)]"
      ]
     },
     "execution_count": 17,
     "metadata": {},
     "output_type": "execute_result"
    }
   ],
   "source": [
    "a = list(permutations(range(3)))\n",
    "a"
   ]
  },
  {
   "cell_type": "code",
   "execution_count": null,
   "id": "15e03db6",
   "metadata": {},
   "outputs": [],
   "source": []
  },
  {
   "cell_type": "markdown",
   "id": "b3dedba6",
   "metadata": {},
   "source": [
    "# 조합(combinations)\n",
    "\n",
    "    * 반복가능한 객체에서 중복을 허용하지 않고, r개 뽑아 나열한다.  \n",
    "        즉, (1, 2)와 (2, 1)을 같은 것으로 보고 하나만 출력!\n",
    "    * itertools 동일하게 사용\n",
    "    \n",
    "### combinations(iterable, [n])"
   ]
  },
  {
   "cell_type": "code",
   "execution_count": 9,
   "id": "91a65956",
   "metadata": {},
   "outputs": [],
   "source": [
    "from itertools import combinations"
   ]
  },
  {
   "cell_type": "code",
   "execution_count": 12,
   "id": "24e29103",
   "metadata": {},
   "outputs": [
    {
     "name": "stdout",
     "output_type": "stream",
     "text": [
      "(1, 2) <class 'tuple'>\n",
      "(1, 3) (1, 4) (2, 3) (2, 4) (3, 4) "
     ]
    }
   ],
   "source": [
    "for i in combinations([1, 2, 3, 4], 2):\n",
    "    print(i, end=' ')\n",
    "    \n",
    "    if i == (1, 2):\n",
    "        print(type(i))"
   ]
  },
  {
   "cell_type": "markdown",
   "id": "03091992",
   "metadata": {},
   "source": [
    "# 중복 순열(product)\n",
    "\n",
    "    * 2개 이상의 반복가능객체에서 하나씩 뽑아 나열하는 경우의 수\n",
    "    * 여러개의 리스트에서 값을 뽑아 조합할 때 사용!!"
   ]
  },
  {
   "cell_type": "code",
   "execution_count": 13,
   "id": "f022b5d8",
   "metadata": {},
   "outputs": [],
   "source": [
    "from itertools import product"
   ]
  },
  {
   "cell_type": "code",
   "execution_count": 15,
   "id": "ef9d57e7",
   "metadata": {},
   "outputs": [
    {
     "name": "stdout",
     "output_type": "stream",
     "text": [
      "(0,)\n",
      "(1,)\n",
      "(2,)\n"
     ]
    }
   ],
   "source": [
    "for i in product(range(3)):\n",
    "    print(i)"
   ]
  },
  {
   "cell_type": "code",
   "execution_count": 16,
   "id": "b7102f47",
   "metadata": {},
   "outputs": [
    {
     "name": "stdout",
     "output_type": "stream",
     "text": [
      "(1, 'a')\n",
      "(1, 'b')\n",
      "(2, 'a')\n",
      "(2, 'b')\n",
      "(3, 'a')\n",
      "(3, 'b')\n"
     ]
    }
   ],
   "source": [
    "for i in product([1, 2, 3], ('a', 'b')):\n",
    "    print(i)"
   ]
  },
  {
   "cell_type": "code",
   "execution_count": 22,
   "id": "c2c2e75a",
   "metadata": {},
   "outputs": [
    {
     "name": "stdout",
     "output_type": "stream",
     "text": [
      "('X', 'a', 0)\n",
      "('X', 'a', 1)\n",
      "('X', 'a', 2)\n",
      "('X', 'b', 0)\n",
      "('X', 'b', 1)\n",
      "('X', 'b', 2)\n",
      "('Y', 'a', 0)\n",
      "('Y', 'a', 1)\n",
      "('Y', 'a', 2)\n",
      "('Y', 'b', 0)\n",
      "('Y', 'b', 1)\n",
      "('Y', 'b', 2)\n",
      "('Z', 'a', 0)\n",
      "('Z', 'a', 1)\n",
      "('Z', 'a', 2)\n",
      "('Z', 'b', 0)\n",
      "('Z', 'b', 1)\n",
      "('Z', 'b', 2)\n"
     ]
    }
   ],
   "source": [
    "for i in product(['X', 'Y', 'Z'], ('a', 'b'), range(3)):\n",
    "    print(i)"
   ]
  },
  {
   "cell_type": "code",
   "execution_count": 23,
   "id": "5b65e7c7",
   "metadata": {},
   "outputs": [
    {
     "name": "stdout",
     "output_type": "stream",
     "text": [
      "('X', 'X', 'X')\n",
      "('X', 'X', 'Y')\n",
      "('X', 'X', 'Z')\n",
      "('X', 'Y', 'X')\n",
      "('X', 'Y', 'Y')\n",
      "('X', 'Y', 'Z')\n",
      "('X', 'Z', 'X')\n",
      "('X', 'Z', 'Y')\n",
      "('X', 'Z', 'Z')\n",
      "('Y', 'X', 'X')\n",
      "('Y', 'X', 'Y')\n",
      "('Y', 'X', 'Z')\n",
      "('Y', 'Y', 'X')\n",
      "('Y', 'Y', 'Y')\n",
      "('Y', 'Y', 'Z')\n",
      "('Y', 'Z', 'X')\n",
      "('Y', 'Z', 'Y')\n",
      "('Y', 'Z', 'Z')\n",
      "('Z', 'X', 'X')\n",
      "('Z', 'X', 'Y')\n",
      "('Z', 'X', 'Z')\n",
      "('Z', 'Y', 'X')\n",
      "('Z', 'Y', 'Y')\n",
      "('Z', 'Y', 'Z')\n",
      "('Z', 'Z', 'X')\n",
      "('Z', 'Z', 'Y')\n",
      "('Z', 'Z', 'Z')\n"
     ]
    }
   ],
   "source": [
    "for i in product(['X', 'Y', 'Z'], repeat = 3):\n",
    "    print(i)"
   ]
  },
  {
   "cell_type": "code",
   "execution_count": 24,
   "id": "22206a36",
   "metadata": {},
   "outputs": [
    {
     "name": "stdout",
     "output_type": "stream",
     "text": [
      "('a', 'a')\n",
      "('a', 'b')\n",
      "('b', 'a')\n",
      "('b', 'b')\n"
     ]
    }
   ],
   "source": [
    "for i in product(['a', 'b'], repeat = 2):\n",
    "    print(i)"
   ]
  },
  {
   "cell_type": "markdown",
   "id": "3d0a9dbc",
   "metadata": {},
   "source": [
    "# 중복 조합(combination_with_replacement)\n",
    "\n",
    "    * 중복해서 반복적으로 꺼낼수 있는 조합"
   ]
  },
  {
   "cell_type": "code",
   "execution_count": 27,
   "id": "c92c3624",
   "metadata": {},
   "outputs": [
    {
     "name": "stdout",
     "output_type": "stream",
     "text": [
      "(1, 1) (1, 2) (1, 3) (1, 4) (2, 2) (2, 3) (2, 4) (3, 3) (3, 4) (4, 4) "
     ]
    }
   ],
   "source": [
    "from itertools import combinations_with_replacement\n",
    "\n",
    "for i in combinations_with_replacement([1, 2, 3, 4], 2): \n",
    "    print(i, end=' ')\n",
    "    \n",
    "# 기존 combinations 값에서 (1, 1), (2, 2), (3, 3), (4, 4)가 추가 됨!!!"
   ]
  },
  {
   "cell_type": "markdown",
   "id": "662911aa",
   "metadata": {},
   "source": [
    "* 일반 조합과 비교"
   ]
  },
  {
   "cell_type": "code",
   "execution_count": 28,
   "id": "2ccedbd3",
   "metadata": {},
   "outputs": [
    {
     "name": "stdout",
     "output_type": "stream",
     "text": [
      "(1, 2) (1, 3) (1, 4) (2, 3) (2, 4) (3, 4) "
     ]
    }
   ],
   "source": [
    "from itertools import combinations\n",
    "\n",
    "for i in combinations([1, 2, 3, 4], 2): \n",
    "    print(i, end=' ')"
   ]
  }
 ],
 "metadata": {
  "kernelspec": {
   "display_name": "Python 3",
   "language": "python",
   "name": "python3"
  },
  "language_info": {
   "codemirror_mode": {
    "name": "ipython",
    "version": 3
   },
   "file_extension": ".py",
   "mimetype": "text/x-python",
   "name": "python",
   "nbconvert_exporter": "python",
   "pygments_lexer": "ipython3",
   "version": "3.8.8"
  }
 },
 "nbformat": 4,
 "nbformat_minor": 5
}
