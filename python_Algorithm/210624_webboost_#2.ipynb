{
 "cells": [
  {
   "cell_type": "code",
   "execution_count": 2,
   "id": "d87d3dd6",
   "metadata": {},
   "outputs": [],
   "source": [
    "data = [\"BOOL\", \"BOOL\", \"INT\", \"FLOAT\", \"LONG\", \"SHORT\"]"
   ]
  },
  {
   "cell_type": "code",
   "execution_count": 15,
   "id": "0411c076",
   "metadata": {},
   "outputs": [],
   "source": [
    "def solution(data):\n",
    "    \n",
    "    answer = ''\n",
    "    answer_list = []\n",
    "    using_memory = 0\n",
    "    tmp = ''\n",
    "    \n",
    "    for i in data:\n",
    "        if i == \"LONG\":\n",
    "            if len(tmp)!=0:\n",
    "                while len(tmp) < 8:\n",
    "                    tmp += \".\"\n",
    "                answer_list.append(tmp)\n",
    "                using_memory += 8\n",
    "                tmp = ''\n",
    "                answer_list.append(\"########,########\")\n",
    "                using_memory += 16\n",
    "            else:\n",
    "                answer_list.append(\"########,########\")\n",
    "                using_memory += 16\n",
    "        \n",
    "        elif i == \"INT\":\n",
    "            if len(tmp)!=0:\n",
    "                while len(tmp) < 8:\n",
    "                    tmp += \".\"\n",
    "                answer_list.append(tmp)\n",
    "                using_memory += 8\n",
    "                tmp = ''\n",
    "                answer_list.append(\"########\")\n",
    "                using_memory += 8\n",
    "            else:\n",
    "                answer_list.append(\"########\")\n",
    "                using_memory += 8\n",
    "            \n",
    "            \n",
    "        elif i == \"FLOAT\":\n",
    "            if len(tmp) <= 4 and lag == 0:\n",
    "                tmp += \"####\"\n",
    "            elif len(tmp) <= 3 and lag == 1:\n",
    "                tmp += \".####\"\n",
    "            else:\n",
    "                while len(tmp) < 8:\n",
    "                    tmp += \".\"\n",
    "                answer_list.append(tmp)\n",
    "                using_memory += 8\n",
    "                tmp = \"####\"\n",
    "                \n",
    "        elif i == \"SHORT\":\n",
    "            if len(tmp) <= 6 and lag == 0:\n",
    "                tmp += \"##\"\n",
    "            elif len(tmp) <= 5 and lag == 1:\n",
    "                tmp += \".##\"\n",
    "            else:\n",
    "                while len(tmp) < 8:\n",
    "                    tmp += \".\"\n",
    "                answer_list.append(tmp)\n",
    "                using_memory += 8\n",
    "                tmp = \"##\"\n",
    "        \n",
    "        elif i == \"BOOL\":\n",
    "            tmp += \"#\"\n",
    "            \n",
    "        if len(tmp) >= 8:\n",
    "            answer_list.append(tmp)\n",
    "            using_memory += 8\n",
    "            tmp = ''\n",
    "        \n",
    "        if i == \"BOOL\":\n",
    "            lag = 1\n",
    "        \n",
    "        elif i != \"BOOL\":\n",
    "            lag = 0\n",
    "            \n",
    "        if using_memory >= 128:\n",
    "            break\n",
    "    \n",
    "    if len(tmp) != 0 and using_memory <= 120:   # 마지막 남은 tmp 추가\n",
    "        while len(tmp) < 8:\n",
    "            tmp += \".\"\n",
    "        answer_list.append(tmp)\n",
    "        using_memory += 8\n",
    "        \n",
    "    answer = ','.join(answer_list)\n",
    "    return print(answer)"
   ]
  },
  {
   "cell_type": "code",
   "execution_count": 16,
   "id": "81325045",
   "metadata": {},
   "outputs": [
    {
     "name": "stdout",
     "output_type": "stream",
     "text": [
      "##......,########,####....,########,########,##......\n"
     ]
    }
   ],
   "source": [
    "solution(data)"
   ]
  },
  {
   "cell_type": "code",
   "execution_count": 6,
   "id": "a9200798",
   "metadata": {},
   "outputs": [
    {
     "data": {
      "text/plain": [
       "'##'"
      ]
     },
     "execution_count": 6,
     "metadata": {},
     "output_type": "execute_result"
    }
   ],
   "source": [
    "b = \"#\"\n",
    "\n",
    "b+=\"#\"\n",
    "\n",
    "b"
   ]
  },
  {
   "cell_type": "code",
   "execution_count": null,
   "id": "6c239cb7",
   "metadata": {},
   "outputs": [],
   "source": []
  },
  {
   "cell_type": "code",
   "execution_count": null,
   "id": "241b1b1e",
   "metadata": {},
   "outputs": [],
   "source": []
  },
  {
   "cell_type": "code",
   "execution_count": 1,
   "id": "31e48f1d",
   "metadata": {},
   "outputs": [
    {
     "data": {
      "text/plain": [
       "'#,#,#'"
      ]
     },
     "execution_count": 1,
     "metadata": {},
     "output_type": "execute_result"
    }
   ],
   "source": [
    "a = list()\n",
    "\n",
    "a.append(\"#\")\n",
    "a.append(\"#,#\")\n",
    "\n",
    "\",\".join(a)"
   ]
  }
 ],
 "metadata": {
  "kernelspec": {
   "display_name": "Python 3",
   "language": "python",
   "name": "python3"
  },
  "language_info": {
   "codemirror_mode": {
    "name": "ipython",
    "version": 3
   },
   "file_extension": ".py",
   "mimetype": "text/x-python",
   "name": "python",
   "nbconvert_exporter": "python",
   "pygments_lexer": "ipython3",
   "version": "3.8.8"
  }
 },
 "nbformat": 4,
 "nbformat_minor": 5
}
