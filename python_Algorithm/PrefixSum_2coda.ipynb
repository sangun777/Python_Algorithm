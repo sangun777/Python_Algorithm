{
 "cells": [
  {
   "cell_type": "markdown",
   "id": "9e387386",
   "metadata": {},
   "source": [
    "# 접두사 합(Prefix Sum)\n",
    "\n",
    "     * 참고 : 이코다 482page\n",
    "\n",
    "     * 구간 합 계산을 빠르게 하기 위해 많이 사용되는 기법\n",
    "     * 접두사합 : 배열의 맨 앞부터 특정 위치까지 합을 구해 놓은 것\n",
    "     \n",
    "## 접두사 합을 이용한 구간합 빠르게 구하는 알고리즘\n",
    "1. N개의 수에 대하여 접두사 합을 계산하여 배열 P에 저장한다.\n",
    "    * 일반적으로 누적합과 동일\n",
    "2. [L, R] 범위의 구간합을 구할 때, 구간합은 P[R] - P[L-1] 이다.\n"
   ]
  },
  {
   "cell_type": "code",
   "execution_count": 1,
   "id": "5fdf59db",
   "metadata": {},
   "outputs": [],
   "source": [
    "# 데이터 갯수 n과 데이터 선언\n",
    "n = 5\n",
    "data = [10, 20, 30, 40, 50]"
   ]
  },
  {
   "cell_type": "code",
   "execution_count": 3,
   "id": "42ab8242",
   "metadata": {},
   "outputs": [
    {
     "data": {
      "text/plain": [
       "[0, 10, 30, 60, 100, 150]"
      ]
     },
     "execution_count": 3,
     "metadata": {},
     "output_type": "execute_result"
    }
   ],
   "source": [
    "from functools import reduce\n",
    "\n",
    "# 접두사 합(Prefix Sum) 계산\n",
    "prefixSum = [0]\n",
    "for i in data:\n",
    "    prefixSum.append(prefixSum[-1]+i)\n",
    "    \n",
    "prefixSum"
   ]
  },
  {
   "cell_type": "markdown",
   "id": "2467a14a",
   "metadata": {},
   "source": [
    " * 구간 합 계산\n",
    "     * 여기서 배열의 구간 인덱스는 1 ~ 5 임에 주의!"
   ]
  },
  {
   "cell_type": "code",
   "execution_count": 4,
   "id": "788fdfc3",
   "metadata": {},
   "outputs": [],
   "source": [
    "def Gsum(L, R):\n",
    "    return prefixSum[R] - prefixSum[L-1]"
   ]
  },
  {
   "cell_type": "code",
   "execution_count": 8,
   "id": "df719e68",
   "metadata": {},
   "outputs": [
    {
     "data": {
      "text/plain": [
       "10"
      ]
     },
     "execution_count": 8,
     "metadata": {},
     "output_type": "execute_result"
    }
   ],
   "source": [
    "Gsum(1, 1)"
   ]
  },
  {
   "cell_type": "code",
   "execution_count": 10,
   "id": "22dbeacd",
   "metadata": {},
   "outputs": [
    {
     "data": {
      "text/plain": [
       "60"
      ]
     },
     "execution_count": 10,
     "metadata": {},
     "output_type": "execute_result"
    }
   ],
   "source": [
    "Gsum(1, 3)"
   ]
  },
  {
   "cell_type": "code",
   "execution_count": 11,
   "id": "6229a820",
   "metadata": {},
   "outputs": [
    {
     "data": {
      "text/plain": [
       "150"
      ]
     },
     "execution_count": 11,
     "metadata": {},
     "output_type": "execute_result"
    }
   ],
   "source": [
    "Gsum(1, 5)"
   ]
  }
 ],
 "metadata": {
  "kernelspec": {
   "display_name": "Python 3",
   "language": "python",
   "name": "python3"
  },
  "language_info": {
   "codemirror_mode": {
    "name": "ipython",
    "version": 3
   },
   "file_extension": ".py",
   "mimetype": "text/x-python",
   "name": "python",
   "nbconvert_exporter": "python",
   "pygments_lexer": "ipython3",
   "version": "3.8.8"
  }
 },
 "nbformat": 4,
 "nbformat_minor": 5
}
