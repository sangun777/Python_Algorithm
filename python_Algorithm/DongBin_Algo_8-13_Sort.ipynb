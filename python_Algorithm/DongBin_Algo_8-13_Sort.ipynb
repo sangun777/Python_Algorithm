{
 "cells": [
  {
   "cell_type": "markdown",
   "metadata": {},
   "source": [
    "# 8강 병합 정렬(Merge Sort)\n",
    "\n",
    "* 개념\n",
    "    * 배열 전체를 반으로 계속 쪼갠후, \n",
    "    * 병합하면서 정렬하는 방식\n",
    "\n",
    "* 특징\n",
    "    * 분할 정복 방법을 채택함\n",
    "    * 퀵 정렬은 편향되게 정렬할수 있지만, \n",
    "    * 병합정렬은 정확히 반으로 나누기 때문에, O(nlogn)을 더 잘 보장함\n",
    "    * 평균적으로 퀵정렬보다 빠른 것은 아님\n",
    "    * 시간 복잡도 : O(nlogn)"
   ]
  },
  {
   "cell_type": "code",
   "execution_count": 14,
   "metadata": {},
   "outputs": [
    {
     "name": "stdout",
     "output_type": "stream",
     "text": [
      "[1, 3, 5, 5, 6, 7, 8, 9]\n"
     ]
    }
   ],
   "source": [
    "list_input = [7, 6, 5, 8, 3, 5, 9, 1]\n",
    "n = len(list_input)\n",
    "\n",
    "list_temp = [0 for i in range(n)]    # 전역 변수 리스트가 필요함\n",
    "\n",
    "def merge(data, start, middle, end):\n",
    "    \n",
    "    i = start\n",
    "    j = middle +1\n",
    "    k = start\n",
    "    \n",
    "    # 작은 순서대로, list_temp에 삽입\n",
    "    while(i<=middle and j<=end):\n",
    "        if data[i] <= data[j]:\n",
    "            list_temp[k] = data[i]\n",
    "            i+=1\n",
    "        else:\n",
    "            list_temp[k] = data[j]\n",
    "            j+=1\n",
    "            \n",
    "        k+=1\n",
    "        \n",
    "    # 남은 데이터 삽입\n",
    "    if i > middle:    # 앞 배열이 먼저 끝난경우 뒷 배열 나머지 넣기\n",
    "        for a in range(j, end+1):\n",
    "            list_temp[k] = data[j]\n",
    "            k+=1\n",
    "    else:            # 뒷 배열이 먼저 끝난경우 앞 배열 나머지 넣기\n",
    "        for a in range(i, middle+1):\n",
    "            list_temp[k] = data[i]\n",
    "            k+=1\n",
    "    \n",
    "    for a in range(start, end+1):\n",
    "        data[a] = list_temp[a]\n",
    "        \n",
    "def mergeSort(data, start, end):\n",
    "    \n",
    "    # 크기가 1보다 큰 경우\n",
    "    if start < end:\n",
    "        middle = int((start + end)/2)\n",
    "        mergeSort(data, start, middle)\n",
    "        mergeSort(data, middle+1, end)\n",
    "        merge(data, start, middle, end)\n",
    "        \n",
    "        \n",
    "mergeSort(list_input, 0, len(list_input)-1)\n",
    "print(list_input)\n"
   ]
  },
  {
   "cell_type": "markdown",
   "metadata": {},
   "source": [
    "# 힙 정렬(Heap Sort)\n",
    "\n",
    "* 최대 힙 : 부모 노드가 자식 노드보다 큰 힙\n",
    "* 최소 힙 : 부모 노드가 자식 노드보다 작은 힙\n",
    "\n",
    "* 힙을 만드는(heapify) 시간 복잡도 : O(logn)\n",
    "* 힙을 이용한 정렬의 시간 복잡도 : O(n*logn)   # 루트 뽑아내기와 heapify 반복\n",
    "\n",
    "파이썬은 그냥 heapq 모듈 쓰자!\n",
    "Note_heapq 참조"
   ]
  },
  {
   "cell_type": "code",
   "execution_count": 19,
   "metadata": {},
   "outputs": [],
   "source": [
    "arr = [8, 3, 5, 4, 6, 1]"
   ]
  },
  {
   "cell_type": "code",
   "execution_count": 20,
   "metadata": {},
   "outputs": [
    {
     "name": "stdout",
     "output_type": "stream",
     "text": [
      "1 3 4 5 6 8 "
     ]
    }
   ],
   "source": [
    "import heapq\n",
    "\n",
    "h = arr\n",
    "\n",
    "heapq.heapify(h)\n",
    "\n",
    "while(len(h)>0):\n",
    "    print(heapq.heappop(h), end=\" \")"
   ]
  },
  {
   "cell_type": "markdown",
   "metadata": {},
   "source": [
    "# 계수 정렬(Counting Sort)\n",
    "\n",
    "\n",
    "* 특정 조건 : 정해진 값(0~N) 이하의 숫자들에 대한 정렬\n",
    "\n",
    "* 개념\n",
    "    * 0~N 범위의 수 열을 정렬할 때,\n",
    "    * N 개의 0 배열을 만들고,\n",
    "    * 수를 하나씩 읽어가며, 해당 숫자 값 위치에 counting을 해준 후,\n",
    "    * 마지막에 counting 한 수 만큼 표현하는 방식\n",
    "\n",
    "* 시간 복잡도 : O(N)"
   ]
  },
  {
   "cell_type": "code",
   "execution_count": 16,
   "metadata": {},
   "outputs": [],
   "source": [
    "arr = [1, 3, 2, 4, 3, 2, 5, 3, 1, 2, \n",
    "       3, 4, 4, 3, 5, 1, 2, 3, 5, 2, \n",
    "       3, 1, 4, 3, 5, 1, 2, 1, 1, 1]"
   ]
  },
  {
   "cell_type": "code",
   "execution_count": 17,
   "metadata": {},
   "outputs": [
    {
     "data": {
      "text/plain": [
       "[0, 0, 0, 0, 0, 0]"
      ]
     },
     "execution_count": 17,
     "metadata": {},
     "output_type": "execute_result"
    }
   ],
   "source": [
    "count = [0 for i in range(6)] # 인덱스를 5까지 사용하기 위해 6개 요소 생성\n",
    "count"
   ]
  },
  {
   "cell_type": "code",
   "execution_count": 18,
   "metadata": {},
   "outputs": [
    {
     "name": "stdout",
     "output_type": "stream",
     "text": [
      "1 1 1 1 1 1 1 1 2 2 2 2 2 2 3 3 3 3 3 3 3 3 4 4 4 4 5 5 5 5 "
     ]
    }
   ],
   "source": [
    "for i in arr:\n",
    "    count[i] +=1\n",
    "    \n",
    "for i in range(1, 6):\n",
    "    if count[i] != 0:\n",
    "        for j in range(count[i]):\n",
    "            print(i, end = \" \")"
   ]
  },
  {
   "cell_type": "code",
   "execution_count": null,
   "metadata": {},
   "outputs": [],
   "source": []
  },
  {
   "cell_type": "markdown",
   "metadata": {},
   "source": [
    "# 심화 정렬 문제 풀어보기"
   ]
  },
  {
   "cell_type": "markdown",
   "metadata": {},
   "source": [
    "# 백준_1181_ 단어 정렬"
   ]
  },
  {
   "cell_type": "code",
   "execution_count": 31,
   "metadata": {},
   "outputs": [
    {
     "name": "stdout",
     "output_type": "stream",
     "text": [
      "13\n",
      "but\n",
      "i\n",
      "wont\n",
      "hesitate\n",
      "no\n",
      "more\n",
      "no\n",
      "more\n",
      "it\n",
      "cannot\n",
      "wait\n",
      "im\n",
      "yours\n",
      "i\n",
      "im\n",
      "it\n",
      "no\n",
      "but\n",
      "more\n",
      "wait\n",
      "wont\n",
      "yours\n",
      "cannot\n",
      "hesitate\n"
     ]
    }
   ],
   "source": [
    "cnt = int(input())\n",
    "arr = []\n",
    "\n",
    "for i in range(cnt):\n",
    "    a = input()\n",
    "    arr.append((len(a), a))     # (길이, 입력값)를 튜플로 삽입\n",
    "\n",
    "    \n",
    "# 중복 값 제거\n",
    "arr = list(set(arr))\n",
    "\n",
    "arr.sort()   ## 첫번째 요소 = 길이순, 두번째 단어순으로 정렬\n",
    "\n",
    "for i in range(len(arr)):\n",
    "    print(arr[i][1])"
   ]
  },
  {
   "cell_type": "markdown",
   "metadata": {},
   "source": [
    " * 표준 입력"
   ]
  },
  {
   "cell_type": "code",
   "execution_count": null,
   "metadata": {},
   "outputs": [],
   "source": [
    "from sys import stdin\n",
    "\n",
    "cnt = int(stdin.readline().rstrip())\n",
    "arr = []\n",
    "\n",
    "for i in range(cnt):\n",
    "    a = stdin.readline().rstrip()\n",
    "    arr.append((len(a), a))     # (길이, 입력값)를 튜플로 삽입\n",
    "\n",
    "    \n",
    "# 중복 값 제거\n",
    "arr = list(set(arr))\n",
    "\n",
    "arr.sort()   ## 첫번째 요소 = 길이순, 두번째 단어순으로 정렬\n",
    "\n",
    "for i in range(len(arr)):\n",
    "    print(arr[i][1])"
   ]
  },
  {
   "cell_type": "markdown",
   "metadata": {},
   "source": [
    "# 백준_1431_시리얼 번호"
   ]
  },
  {
   "cell_type": "markdown",
   "metadata": {},
   "source": [
    "1. 길이가 짧은것 부터\n",
    "2. 자릿수 합이 작은 것부터(숫자만 더할 것)\n",
    "3. 1-2로 비교 안되면, 사전순(숫자가 알파벳보다 먼저)"
   ]
  },
  {
   "cell_type": "markdown",
   "metadata": {},
   "source": [
    " * 확인용(표준입력 사용불가)"
   ]
  },
  {
   "cell_type": "code",
   "execution_count": 35,
   "metadata": {},
   "outputs": [
    {
     "name": "stdout",
     "output_type": "stream",
     "text": [
      "5\n",
      "ABCD\n",
      "145C\n",
      "A\n",
      "A910\n",
      "Z321\n"
     ]
    },
    {
     "data": {
      "text/plain": [
       "[(1, 'A'), (4, '145C'), (4, 'A910'), (4, 'ABCD'), (4, 'Z321')]"
      ]
     },
     "execution_count": 35,
     "metadata": {},
     "output_type": "execute_result"
    }
   ],
   "source": [
    "n = int(input())\n",
    "\n",
    "arr = []\n",
    "\n",
    "for i in range(n):\n",
    "    d = input()\n",
    "    arr.append((len(d), d))\n",
    "    \n",
    "arr.sort()   # sort 함수가 길이가 짧은 순, 알파벳순, 숫자가 알파벳보다 먼저 조건은 처리해 줌\n",
    "\n",
    "arr"
   ]
  },
  {
   "cell_type": "markdown",
   "metadata": {},
   "source": [
    " * 각 숫자의 합을 2번쨰 요소로 만들자!"
   ]
  },
  {
   "cell_type": "code",
   "execution_count": 37,
   "metadata": {},
   "outputs": [
    {
     "data": {
      "text/plain": [
       "49"
      ]
     },
     "execution_count": 37,
     "metadata": {},
     "output_type": "execute_result"
    }
   ],
   "source": [
    "ord('1')"
   ]
  },
  {
   "cell_type": "code",
   "execution_count": 49,
   "metadata": {},
   "outputs": [
    {
     "data": {
      "text/plain": [
       "'1'"
      ]
     },
     "execution_count": 49,
     "metadata": {},
     "output_type": "execute_result"
    }
   ],
   "source": [
    "chr(49)"
   ]
  },
  {
   "cell_type": "code",
   "execution_count": 38,
   "metadata": {},
   "outputs": [
    {
     "data": {
      "text/plain": [
       "57"
      ]
     },
     "execution_count": 38,
     "metadata": {},
     "output_type": "execute_result"
    }
   ],
   "source": [
    "ord('9')"
   ]
  },
  {
   "cell_type": "code",
   "execution_count": 50,
   "metadata": {},
   "outputs": [
    {
     "data": {
      "text/plain": [
       "[[1, 0, 'A'], [4, 10, '145C'], [4, 10, 'A910'], [4, 0, 'ABCD'], [4, 6, 'Z321']]"
      ]
     },
     "execution_count": 50,
     "metadata": {},
     "output_type": "execute_result"
    }
   ],
   "source": [
    "a = [(1, 'A'), (4, '145C'), (4, 'A910'), (4, 'ABCD'), (4, 'Z321')]\n",
    "\n",
    "for i in a:\n",
    "    hap = 0\n",
    "    for j in i[1]:\n",
    "        if ord(j) >= 49 and ord(j) <= 57:\n",
    "            hap += int(chr(ord(j)))\n",
    "    a[a.index(i)] = [a[a.index(i)][0], hap, a[a.index(i)][1]]\n",
    "    \n",
    "a"
   ]
  },
  {
   "cell_type": "code",
   "execution_count": 51,
   "metadata": {},
   "outputs": [
    {
     "data": {
      "text/plain": [
       "[[1, 0, 'A'], [4, 0, 'ABCD'], [4, 6, 'Z321'], [4, 10, '145C'], [4, 10, 'A910']]"
      ]
     },
     "execution_count": 51,
     "metadata": {},
     "output_type": "execute_result"
    }
   ],
   "source": [
    "a.sort()\n",
    "a"
   ]
  },
  {
   "cell_type": "code",
   "execution_count": 55,
   "metadata": {},
   "outputs": [
    {
     "name": "stdout",
     "output_type": "stream",
     "text": [
      "5\n",
      "ABCD\n",
      "145C\n",
      "A\n",
      "A910\n",
      "Z321\n",
      "A\n",
      "ABCD\n",
      "Z321\n",
      "145C\n",
      "A910\n"
     ]
    }
   ],
   "source": [
    "n = int(input())\n",
    "\n",
    "arr = []\n",
    "\n",
    "for i in range(n):\n",
    "    d = input()\n",
    "    arr.append((len(d), d))\n",
    "    \n",
    "arr.sort()   # sort 함수가 길이가 짧은 순, 알파벳순, 숫자가 알파벳보다 먼저 조건은 처리해 줌\n",
    "\n",
    "for i in arr:\n",
    "    hap = 0\n",
    "    for j in i[1]:\n",
    "        if ord(j) >= 49 and ord(j) <= 57:\n",
    "            hap += int(chr(ord(j)))\n",
    "    arr[arr.index(i)] = [arr[arr.index(i)][0], hap, arr[arr.index(i)][1]]\n",
    "    \n",
    "arr.sort()\n",
    "\n",
    "for i in arr:\n",
    "    print(i[2])"
   ]
  },
  {
   "cell_type": "markdown",
   "metadata": {},
   "source": [
    "# 백준_10989_수 정렬하기 3\n",
    "\n",
    "    * 매우 빠르게 정렬해서 풀리는 문제 => 계수 정렬 사용\n",
    "    * 데이터 갯수 10,000,000 이하\n",
    "        => 천만 => n+logn 하면 거의 2억인데, 이 정도면 보통 오답처리 한다.\n",
    "    * 데이터 값의 범위 10,000 이하 자연수\n",
    "    \n",
    "### 데이터 범위 조건이 있으므로 빼박, 계수 정렬 문제이다.   "
   ]
  },
  {
   "cell_type": "code",
   "execution_count": null,
   "metadata": {},
   "outputs": [],
   "source": [
    "from sys import stdin\n",
    "\n",
    "N = int(stdin.readline().rstrip())\n",
    "\n",
    "counting = [0 for i in range(10001)]\n",
    "\n",
    "for i in range(N):\n",
    "    counting[int(stdin.readline().rstrip())] += 1\n",
    "    \n",
    "for i in range(1, 10001):\n",
    "    for j in range(counting[i]):\n",
    "        print(i)"
   ]
  },
  {
   "cell_type": "markdown",
   "metadata": {},
   "source": [
    " * 확인용"
   ]
  },
  {
   "cell_type": "code",
   "execution_count": 56,
   "metadata": {},
   "outputs": [
    {
     "name": "stdout",
     "output_type": "stream",
     "text": [
      "10\n",
      "5\n",
      "2\n",
      "3\n",
      "1\n",
      "4\n",
      "2\n",
      "3\n",
      "5\n",
      "1\n",
      "7\n",
      "1\n",
      "1\n",
      "2\n",
      "2\n",
      "3\n",
      "3\n",
      "4\n",
      "5\n",
      "5\n",
      "7\n"
     ]
    }
   ],
   "source": [
    "N = int(input())\n",
    "\n",
    "counting = [0 for i in range(10001)]\n",
    "\n",
    "for i in range(N):\n",
    "    counting[int(input())] += 1\n",
    "    \n",
    "for i in range(1, 10001):\n",
    "    for j in range(counting[i]):\n",
    "        print(i)"
   ]
  }
 ],
 "metadata": {
  "kernelspec": {
   "display_name": "Python 3",
   "language": "python",
   "name": "python3"
  },
  "language_info": {
   "codemirror_mode": {
    "name": "ipython",
    "version": 3
   },
   "file_extension": ".py",
   "mimetype": "text/x-python",
   "name": "python",
   "nbconvert_exporter": "python",
   "pygments_lexer": "ipython3",
   "version": "3.8.8"
  }
 },
 "nbformat": 4,
 "nbformat_minor": 4
}
