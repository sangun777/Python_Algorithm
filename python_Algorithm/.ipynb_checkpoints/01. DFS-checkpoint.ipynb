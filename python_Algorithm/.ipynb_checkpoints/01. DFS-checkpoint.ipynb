{
 "cells": [
  {
   "cell_type": "markdown",
   "id": "8069478d",
   "metadata": {},
   "source": [
    "# 이코다(이것이 코딩 테스트다) - DFS 설명"
   ]
  },
  {
   "cell_type": "markdown",
   "id": "9a393390",
   "metadata": {},
   "source": [
    "# DFS(깊이 우선 탐색, Deep First Search)\n",
    "\n",
    "1. 후입선출 구조의 스택을 사용함\n",
    "    * 컴퓨터는 구조적으로 스택의 원리를 이용하기 때문에 별도의 스택없이 구현 가능\n",
    "    * 파이썬의 경우, 리스트를 스택으로 사용 가능\n",
    "        \n",
    "2. 스택을 사용하지 않더라도, 재귀함수를 이용하여 구현 가능\n",
    "    * 재귀함수의 구조 자체가 스택 구조에 차곡차곡 쌓이는 형태와 동일\n",
    "    * 일반형은 스택을 이용하지만,\n",
    "    * 실제 대회에서는 보통 재귀함수 형태로 구현하는 것이 쉽고 간결하고 빠름\n",
    "        \n",
    "### 탐색 방법\n",
    "\n",
    "    1. 시작 노드를 스택에 넣어주고, 방문처리\n",
    "    2. 스택의 최상단 노드(마지막에 들어온 노드)의 인접 노드를 확인하여, \n",
    "       방문하지 않은 인접 노드가 있으면, 그 노드를 스택에 넣고 방문처리  \n",
    "       (방문하지 않은 인접 노드가 여러개 일 경우, (우선순위 높은) 한 개에 대하여 처리 진행)\n",
    "       방문하지 않은 인접 노드가 없으면, 그 노드를 스택에서 빼기\n",
    "    3. 2. 반복"
   ]
  },
  {
   "cell_type": "code",
   "execution_count": 2,
   "id": "16151f95",
   "metadata": {},
   "outputs": [],
   "source": [
    "# a노드에 b, c, d가 연결되어 있으면, graph[a] = [b, c, d]\n",
    "graph = [\n",
    "    [],   # 노상관\n",
    "    [2, 3, 8],  # 1-2, 1-3, 1-8\n",
    "    [1, 7],     #2\n",
    "    [1, 4, 5],  #3\n",
    "    [3, 5],     #4\n",
    "    [3, 4],     #5\n",
    "    [7],        #6\n",
    "    [2, 6, 8],  #7\n",
    "    [1, 7],     #8\n",
    "]"
   ]
  },
  {
   "cell_type": "code",
   "execution_count": 3,
   "id": "5e1126b9",
   "metadata": {},
   "outputs": [
    {
     "name": "stdout",
     "output_type": "stream",
     "text": [
      "1 2 7 6 8 3 4 5 "
     ]
    }
   ],
   "source": [
    "visited = [False] * 9    # 노드가 1~8까지 있으므로, 인덱스 8까지 생성\n",
    "\n",
    "def dfs(graph, v, visited): # v는 시작 노드\n",
    "    \n",
    "    visited[v] = True  # 방문처리 후, 출력\n",
    "    print(v, end=' ')\n",
    "    \n",
    "    for i in graph[v]:  # v의 인접 노드 확인\n",
    "        if not visited[i]:\n",
    "            dfs(graph, i, visited)\n",
    "            \n",
    "dfs(graph, 1, visited)"
   ]
  },
  {
   "cell_type": "code",
   "execution_count": null,
   "id": "9db64c14",
   "metadata": {},
   "outputs": [],
   "source": []
  }
 ],
 "metadata": {
  "kernelspec": {
   "display_name": "Python 3",
   "language": "python",
   "name": "python3"
  },
  "language_info": {
   "codemirror_mode": {
    "name": "ipython",
    "version": 3
   },
   "file_extension": ".py",
   "mimetype": "text/x-python",
   "name": "python",
   "nbconvert_exporter": "python",
   "pygments_lexer": "ipython3",
   "version": "3.8.8"
  }
 },
 "nbformat": 4,
 "nbformat_minor": 5
}
