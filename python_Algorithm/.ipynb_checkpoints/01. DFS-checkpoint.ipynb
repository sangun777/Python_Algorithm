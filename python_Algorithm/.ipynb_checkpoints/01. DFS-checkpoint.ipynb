{
 "cells": [
  {
   "cell_type": "markdown",
   "id": "8069478d",
   "metadata": {},
   "source": [
    "# 이코다(이것이 코딩 테스트다) - DFS 설명"
   ]
  },
  {
   "cell_type": "markdown",
   "id": "9a393390",
   "metadata": {},
   "source": [
    "# DFS(깊이 우선 탐색, Deep First Search)\n",
    "\n",
    "1. 후입선출 구조의 스택을 사용함\n",
    "    * 컴퓨터는 구조적으로 스택의 원리를 이용하기 때문에 별도의 스택없이 구현 가능\n",
    "    * 파이썬의 경우, 리스트를 스택으로 사용 가능\n",
    "        \n",
    "2. 스택을 사용하지 않더라도, 재귀함수를 이용하여 구현 가능\n",
    "    * 재귀함수의 구조 자체가 스택 구조에 차곡차곡 쌓이는 형태와 동일\n",
    "    * 일반형은 스택을 이용하지만,\n",
    "    * 실제 대회에서는 보통 재귀함수 형태로 구현하는 것이 쉽고 간결하고 빠름"
   ]
  },
  {
   "cell_type": "markdown",
   "id": "0f245790",
   "metadata": {},
   "source": [
    "![](01-02.graph.png)"
   ]
  },
  {
   "cell_type": "code",
   "execution_count": 23,
   "id": "16151f95",
   "metadata": {},
   "outputs": [],
   "source": [
    "# a노드에 b, c, d가 연결되어 있으면, graph[a] = [b, c, d]\n",
    "graph = [\n",
    "    [],   # 노상관\n",
    "    [2, 3, 8],  # 1-2, 1-3, 1-8\n",
    "    [1, 7],     #2\n",
    "    [1, 4, 5],  #3\n",
    "    [3, 5],     #4\n",
    "    [3, 4],     #5\n",
    "    [7],        #6\n",
    "    [2, 6, 8],  #7\n",
    "    [1, 7],     #8\n",
    "]"
   ]
  },
  {
   "cell_type": "markdown",
   "id": "39bbf6f6",
   "metadata": {},
   "source": [
    "### 재귀를 이용한 DFS\n",
    "\n",
    "1. 방문처리 후, 출력\n",
    "2. 현재 노드에 연결된 모든 인접 노드를 순회하며, 방문되지 않았다면, dfs(인접노드) 처리"
   ]
  },
  {
   "cell_type": "code",
   "execution_count": 12,
   "id": "5e1126b9",
   "metadata": {},
   "outputs": [
    {
     "name": "stdout",
     "output_type": "stream",
     "text": [
      "1 2 7 6 8 3 4 5 "
     ]
    }
   ],
   "source": [
    "visited = [False] * 9    # 노드가 1~8까지 있으므로, 인덱스 8까지 생성\n",
    "\n",
    "def dfs(graph, v, visited): # v는 시작 노드\n",
    "    \n",
    "    visited[v] = True  # 방문처리 후, 출력\n",
    "    print(v, end=' ')\n",
    "    \n",
    "    for i in graph[v]:  # v의 인접 노드 확인\n",
    "        if not visited[i]:\n",
    "            dfs(graph, i, visited)\n",
    "            \n",
    "dfs(graph, 1, visited)"
   ]
  },
  {
   "cell_type": "markdown",
   "id": "aa61bb66",
   "metadata": {},
   "source": [
    "### Stack을 이용한 DFS (쓰지 말자! 헷갈린다! 무시하자!)\n",
    "\n",
    "    1. 시작 노드를 스택에 넣어주고, 방문처리\n",
    "    2. 스택의 최상단 노드(마지막에 들어온 노드)의 인접 노드를 확인하여, \n",
    "       방문하지 않은 인접 노드가 있으면, 그 노드를 스택에 넣고 방문처리  \n",
    "       (방문하지 않은 인접 노드가 여러개 일 경우, (우선순위 높은) 한 개에 대하여 처리 진행)\n",
    "       방문하지 않은 인접 노드가 없으면, 그 노드를 스택에서 빼기\n",
    "    3. 2. 반복"
   ]
  },
  {
   "cell_type": "code",
   "execution_count": 25,
   "id": "8623e7a8",
   "metadata": {},
   "outputs": [
    {
     "name": "stdout",
     "output_type": "stream",
     "text": [
      "1 8 7 6 2 3 5 4 "
     ]
    }
   ],
   "source": [
    "visited = [False] * 9    # 노드가 1~8까지 있으므로, 인덱스 8까지 생성\n",
    "\n",
    "def dfs(graph, v, visited): # v는 시작 노드\n",
    "    \n",
    "    stack = [v]    # 스택 생성 + 시작 노드 넣기\n",
    "                   # BFS와 다르게 방문처리 하지 않음\n",
    "    \n",
    "    while stack:\n",
    "        v = stack.pop()  # 스택에서 하나 꺼냄\n",
    "        \n",
    "        if not visited[v]:            \n",
    "            visited[v] = True  # 방문처리 후, 출력\n",
    "            print(v, end=' ')\n",
    "            \n",
    "            for i in graph[v]:\n",
    "                stack.append(i)\n",
    "                    \n",
    "dfs(graph, 1, visited)"
   ]
  },
  {
   "cell_type": "markdown",
   "id": "4a6a8ac2",
   "metadata": {},
   "source": [
    "### BFS의 경우, 방문 확인 조건문이 for문 안에 있고 DFS는 밖에 있음 주의\n",
    "\n",
    "## DFS이지만, 위에 재귀형태 DFS와 순서가 다른 것은 각 노드의 간선에 대해 역순으로 방문하기 때문\n",
    "\n",
    "### 다른 순서가 코딩 테스트에 다른 결과를 줄 수 있으므로 주의!!"
   ]
  },
  {
   "cell_type": "markdown",
   "id": "7539c54c",
   "metadata": {},
   "source": [
    "stack 상태\n",
    "[1] \n",
    "[]           출력 : 1  \n",
    "[2, 3, 8]\n",
    "[2, 3]       출력 : 1, 8\n",
    "[2, 3, 7]\n",
    "[2, 3]       출력 : 1, 8, 7\n",
    "[2, 3, 2, 6, 8]\n",
    "[2, 3]       출력 : 1, 8, 7, 6, 2\n",
    "[2]          출력 : 1, 8, 7, 6, 2, 3\n",
    "[2, 4, 5]\n",
    "             출력 : 1, 8, 7, 6, 2, 3, 5, 4"
   ]
  },
  {
   "cell_type": "markdown",
   "id": "9bd71b05",
   "metadata": {},
   "source": [
    "## bfs와 개념적 차이\n",
    "\n",
    "* 위 그래프처럼 노드 1에 [2, 3, 8]이 연결되어 있을 때, \n",
    "    * dfs는 for문 2, 3, 8을 순서대로 도는 과정에서\n",
    "        * 2 호출시, 3, 8을 돌기 전에 재귀로 dfs(2)로 2에 연결된 노드를 방문하는 것이고,\n",
    "    * bfs는 for문 2, 3, 8이 전부 큐에 들어간 후, 전부 방문처리 되고 난 후에, 큐에서 2를 꺼내, 연결된 노드를 방문하는 방식"
   ]
  },
  {
   "cell_type": "code",
   "execution_count": null,
   "id": "dc28d8cf",
   "metadata": {},
   "outputs": [],
   "source": []
  },
  {
   "cell_type": "code",
   "execution_count": null,
   "id": "c878abe7",
   "metadata": {},
   "outputs": [],
   "source": []
  },
  {
   "cell_type": "code",
   "execution_count": null,
   "id": "50f5a685",
   "metadata": {},
   "outputs": [],
   "source": [
    "# 추가수정추가수정추가수정"
   ]
  }
 ],
 "metadata": {
  "kernelspec": {
   "display_name": "Python 3",
   "language": "python",
   "name": "python3"
  },
  "language_info": {
   "codemirror_mode": {
    "name": "ipython",
    "version": 3
   },
   "file_extension": ".py",
   "mimetype": "text/x-python",
   "name": "python",
   "nbconvert_exporter": "python",
   "pygments_lexer": "ipython3",
   "version": "3.8.8"
  }
 },
 "nbformat": 4,
 "nbformat_minor": 5
}
