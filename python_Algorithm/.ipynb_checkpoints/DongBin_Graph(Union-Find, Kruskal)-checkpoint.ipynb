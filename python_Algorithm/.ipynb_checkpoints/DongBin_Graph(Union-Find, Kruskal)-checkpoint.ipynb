{
 "cells": [
  {
   "cell_type": "markdown",
   "id": "4cc6e1b5",
   "metadata": {},
   "source": [
    "# 합집합 찾기(Union-Find)\n",
    "\n",
    "    * 대표적인 그래프 알고리즘\n",
    "    * 서로소 집합(Disjoint-Set) 알고리즘이라고도 부름\n",
    "    * 여러 개의 노드가 존재할 때, 두 개의 노드를 선택해서, 현재 이 두 노드가 서로 같은 그래프에 속하는지 판별하는 알고리즘\n",
    "    * 합집합 찾기에 사용되는 원리는, Strongly Connected Component 등과 같은 고급 알고리즘에서도 적용이 되는 원리임(알아두는것이 좋음)"
   ]
  },
  {
   "cell_type": "markdown",
   "id": "e4156780",
   "metadata": {},
   "source": [
    "# 노드 표현 방식\n",
    "\n",
    "    * 노드 하나로 이루어진 그래프의 경우 자기 자신을 부모 노드로 칭함\n",
    "    * 2개의 노드가 연결되었을 경우, 더 작은 값을 부모 노드로 칭함(ex) 1-2 그래프는, 1의 부모=1, 2의 부모=1\n",
    "        * 이렇게 서로 다른 노드(or 그래프)가 하나로 합쳐지면서, 노드의 부모를 작은 값으로 변경하는 것을 \"합침(Union)\"이라 부름\n",
    "    * 1-2 그래프 중, 2 노드에 3이 추가 연결되어서 1-2-3이 될 경우,\n",
    "        * 먼저 3에 연결된 2가 3의 부모 노드로 설정되고, \n",
    "        * 그다음 \"재귀함수\"에 의해서 2의 부모노드인 1로 3의 부모 노드가 최종적으로 설정된다.\n",
    "        => 결론적으로 1, 2, 3의 부모 노드는 모두 1로 동일하므로, 1, 2, 3은 같은 그래프에 속한다고 할 수 있다.\n",
    "        => 이 것이 Union-Find의 전부임!"
   ]
  },
  {
   "cell_type": "code",
   "execution_count": 3,
   "id": "09864e29",
   "metadata": {},
   "outputs": [
    {
     "name": "stdout",
     "output_type": "stream",
     "text": [
      "1과 5는 연결되어 있나요? 0\n"
     ]
    }
   ],
   "source": [
    "\n",
    "# 특정 노드 x의 부모 노드를 찾아주는 함수, parent는 각 노드의 부모가 담긴 배열\n",
    "def getParent(parent, x):    \n",
    "    \n",
    "    if parent[x] == x:    # 노드와 부모가 같으면 종료\n",
    "        return x    # 재귀 함수의 종료 부분\n",
    "    \n",
    "    else:\n",
    "        parent[x] = getParent(parent, parent[x])    # 부모 노드에 대한 부모 노드를 다시 찾는 재귀적인 과정\n",
    "        return parent[x]\n",
    "    \n",
    "# 두 부모 노드를 합치는 함수\n",
    "def unionParent(parent, a, b):\n",
    "    \n",
    "    a = getParent(parent, a)   # 두 노드 각각의 부모노드를 찾은 후, \n",
    "    b = getParent(parent, b)\n",
    "    \n",
    "    if a < b:    # 부모노드 끼리 비교해서 작은 값을 서로의 부모로 설정\n",
    "        parent[b] = a\n",
    "    else:\n",
    "        parent[a] = b\n",
    "        \n",
    "# 두 노드가 같은 부모를 가지는지(=같은 그래프에 속해 있는지) 확인하는 함수\n",
    "def findParent(parent, a, b):\n",
    "    a = getParent(parent, a)\n",
    "    b = getParent(parent, b)\n",
    "    if a==b:\n",
    "        return 1\n",
    "    else:\n",
    "        return 0\n",
    "    \n",
    "\n",
    "# 서로 각각 개별적으로 분리된 노드 10개(1~10) 설정\n",
    "# 각 노드는 자기 자신을 부모로 가짐\n",
    "parent = [i for i in range(11)]\n",
    "\n",
    "# 노드를 그래프로 합치기(1-2-3-4, 5-6-7-8, 9, 10)\n",
    "unionParent(parent, 1, 2)\n",
    "unionParent(parent, 2, 3)\n",
    "unionParent(parent, 3, 4)\n",
    "unionParent(parent, 5, 6)\n",
    "unionParent(parent, 6, 7)\n",
    "unionParent(parent, 7, 8)\n",
    "\n",
    "print(\"1과 5는 연결되어 있나요? %d\" % findParent(parent, 1, 5))\n"
   ]
  },
  {
   "cell_type": "markdown",
   "id": "5574c383",
   "metadata": {},
   "source": [
    "* 1과 6를 연결한 이후에 재확인 (5와 6은 서로 연결되어 있으므로, 1과 5도 연결됨)"
   ]
  },
  {
   "cell_type": "code",
   "execution_count": 4,
   "id": "773bebed",
   "metadata": {},
   "outputs": [
    {
     "name": "stdout",
     "output_type": "stream",
     "text": [
      "1과 5는 연결되어 있나요? 1\n"
     ]
    }
   ],
   "source": [
    "unionParent(parent, 1, 6)\n",
    "print(\"1과 5는 연결되어 있나요? %d\" % findParent(parent, 1, 5))"
   ]
  },
  {
   "cell_type": "markdown",
   "id": "c2a78d11",
   "metadata": {},
   "source": [
    "# 크루스칼 알고리즘(Kruskal Algorithm)\n",
    "\n",
    "    * 가장 적은 비용으로 모든 노드를 연결하기 위해 사용하는 알고리즘\n",
    "    * 탐욕적인(greedy) 방법이다.\n",
    "    * \"최소 비용 신장 트리(MST, Minimum Spanning Tree)\"를 만들기 위한 대표적인 알고리즘\n",
    "    \n",
    "        * Spanning Tree = 신장 트리 = 스패닝 트리\n",
    "            * 그래프 내의 모든 정점을 포함하며, 사이클이 존재하자 않는 그래프\n",
    "            * 트리 구조는 사이클이 존재하지 않음\n",
    "            \n",
    "        * MST란?\n",
    "            * Spenning Tree 중에서 가중치 합이 최소인 트리\n",
    "            \n",
    "    \n",
    "    * 흔히 여러 개의 도시가 있을 떄, 모든 도시를 도로로 연결할 때 최소 비용을 사용하기 위한 알고리즘\n",
    "   \n",
    "    * 노드 = 정점 = 도시\n",
    "        * 그래프에서 동그라미에 해당하는 부분\n",
    "        \n",
    "    * 간선 = 거리 = 비용\n",
    "        * 그래프에서 선에 해당하는 부분\n",
    "    \n",
    "### 모든 노드를 연결하기 위해 필요한 최소 간선의 수 = 전체 노드 수 -1\n",
    "\n",
    "## 크루스칼 알고리즘 : 거리(비용)가 짧은 순서대로 간선을 그래프에 포함 시킨다.\n",
    "\n",
    "    1. 모든 간선 정보를 비용순으로 오름차순 정렬시킨다.\n",
    "    2. 비용이 가장 작은 간선에 대해서 그래프에 추가시 사이클이 형성되는지 확인한다.(Union-Find 알고리즘 이용)\n",
    "        => 사이클 테이블(Union-find 에서 노드별 부모노드를 가지는 테이블 = 부모 테이블(parent table))\n",
    "    3. 사이클을 형성하지 않을 경우, 그래프에 포함시킨다."
   ]
  },
  {
   "cell_type": "markdown",
   "id": "3267cee4",
   "metadata": {},
   "source": [
    "* 프로그래밍에서는 간선이 (노드1, 노드2, 가중치) 값을 가짐"
   ]
  },
  {
   "cell_type": "code",
   "execution_count": 5,
   "id": "e48c74a5",
   "metadata": {},
   "outputs": [
    {
     "ename": "SyntaxError",
     "evalue": "invalid syntax (<ipython-input-5-44ac7846463f>, line 2)",
     "output_type": "error",
     "traceback": [
      "\u001b[1;36m  File \u001b[1;32m\"<ipython-input-5-44ac7846463f>\"\u001b[1;36m, line \u001b[1;32m2\u001b[0m\n\u001b[1;33m    class Edge\u001b[0m\n\u001b[1;37m              ^\u001b[0m\n\u001b[1;31mSyntaxError\u001b[0m\u001b[1;31m:\u001b[0m invalid syntax\n"
     ]
    }
   ],
   "source": [
    "# 간선 클래스 선언\n",
    "class Edge:\n",
    "    def __init__(self, a, b, distance):\n",
    "        self.node = []\n",
    "        self.node.append(a)\n",
    "        self.node.append(b)\n",
    "        self.distance = distance\n",
    "    \n",
    "    "
   ]
  },
  {
   "cell_type": "code",
   "execution_count": null,
   "id": "a9ae21b2",
   "metadata": {},
   "outputs": [],
   "source": []
  }
 ],
 "metadata": {
  "kernelspec": {
   "display_name": "Python 3",
   "language": "python",
   "name": "python3"
  },
  "language_info": {
   "codemirror_mode": {
    "name": "ipython",
    "version": 3
   },
   "file_extension": ".py",
   "mimetype": "text/x-python",
   "name": "python",
   "nbconvert_exporter": "python",
   "pygments_lexer": "ipython3",
   "version": "3.8.8"
  }
 },
 "nbformat": 4,
 "nbformat_minor": 5
}
