{
 "cells": [
  {
   "cell_type": "markdown",
   "id": "17e571ac",
   "metadata": {},
   "source": [
    "# 이코다 Chapter 7. 이진 탐색(= 파라메트릭 서치)"
   ]
  },
  {
   "cell_type": "markdown",
   "id": "bf1648c7",
   "metadata": {},
   "source": [
    "## 파라메트릭 서치(Parametric Search)\n",
    "\n",
    "- 파라메트릭 서치는 **최적화 문제를 결정 문제로 바꾸어 해결하는 기법** 을 말한다.\n",
    "    - 결정문제 : '예', '아니오'로 답하는 문제\n",
    "- '원하는 조건을 만족하는 가장 알맞은 값을 찾는 문제'에 사용\n",
    "    \n",
    "    예를 들어) 범위내에서 조건을 만족하는 가능 큰 값을 찾으라는 최적화 문제를\n",
    "    \n",
    "    ⇒ 이진 탐색으로 결정문제를 해결하면서, 범위를 좁혀 나갈 수 있다.\n",
    "    \n",
    "- 코딩 테스트나 프로그래밍 대회에서 보통 파라메트릭 서치 문제는 이진 탐색을 이용하여 해결한다."
   ]
  },
  {
   "cell_type": "markdown",
   "id": "3bfa7744",
   "metadata": {},
   "source": [
    "## 이진 검색( = 이진 탐색 = Binary Search)\n",
    "\n",
    "- (파이썬 알고리즘 인터뷰 515 page)\n",
    "\n",
    "- 탐색 속도가 log2로 매우 빠름,\n",
    "    - 10억 ⇒ 약 2^30 ⇒ 약 30번 연산\n",
    "    - 1억 ⇒ 약 2^27 ⇒ 약 27번 연산\n",
    "\n",
    "### 코딩테스트에서 제한 사항이 억 단위 라면, 바로 이진 탐색을 생각할 것!!\n",
    "\n",
    "### 이진 탐색 트리(Binary Search Tree = BST)와 차이\n",
    "\n",
    "- BST는 정렬된 구조를 저장하고 탐색하는 '자료 구조'를 말하고\n",
    "- 왼쪽 자식 노드는 부모노드 보다 작고, 오른쪽 자식 노드는 부모노드보다 크거나 같은 이진 트리 구조\n",
    "- **이진 검색은 정렬된 배열에서 값을 찾아내는 '알고리즘'** 그 자체를 말한다.\n",
    "\n",
    "### 이진 검색 구현\n",
    "\n",
    "- start, end 혹은 left, right와 같은 2개의 인덱스를 시작점, 끝점으로 이용\n",
    "- mid = (left+right)/2 로 추가 인덱스로 이용\n",
    "- 조건 일치 여부에 따라, left, 또는 right를 mid로 치환에 가면서 반복 수행\n",
    "\n",
    "### 책에서는 BST를 언급할 때는 \"이진 탐색 트리\" 로, Binary search를 언급할 때는 \"이진 검색\"으로 번역"
   ]
  },
  {
   "cell_type": "markdown",
   "id": "ed764cc3",
   "metadata": {},
   "source": [
    "# 예제) 3. 떡볶이 떡 만들기(이코다 201 page)\n",
    "\n",
    "- 서로 다른 길이의 떡이 주어진다.\n",
    "- 절단기 높이를 H로 지정하면, 떡이 한번에 잘린다.\n",
    "    - H보다 긴 떡은 H부분이 잘리고, 짧은 떡은 잘리지 않는다.\n",
    "    - 예시)\n",
    "        - 19, 14, 10, 17 길이의 떡을 H=15로 자르면,\n",
    "        - 자른뒤, 15, 14, 10, 15 길이의 떡이 되고, 4, 0, 0, 2 만큼 남는다.\n",
    "        - 손님은 남은 떡의 합인 6만큼 길이를 가져간다.\n",
    "        \n",
    "- 손님이 왔을 때, 요청한 길이가 M 일 때, 적어도 M 만큼의 떡을 얻기 위해 절단기에 설정할 수 있는 높이 H의 최댓값을 구하는 프로그램을 작성하시오.  \n",
    "\n",
    "\n",
    "\n",
    "- 입력 조건\n",
    "    - 첫째 줄에 떡의 갯수 N과 요청한 떡의 길이 M이 주어진다.\n",
    "        - 1 ≤ N ≤ 1,000,000\n",
    "        - 1 ≤ M ≤ 2,000,000,000\n",
    "    - 둘째 줄에는 떡의 개별 높이가 주어진다.\n",
    "        - 떡의 높이 총합은 항상 M이상이다.\n",
    "        - 절단기의 높이는 10억 이하 양의 정수 또는 0 이다.\n",
    "- 출력조건\n",
    "    - 적어도 M길이 만큼을 가져갈 수 있는 절단기 설정 높이의 최댓값 출력"
   ]
  },
  {
   "cell_type": "code",
   "execution_count": null,
   "id": "bb613c58",
   "metadata": {},
   "outputs": [],
   "source": [
    "# 입력 예시\n",
    "4 6\n",
    "19 15 10 17\n",
    "\n",
    "# 출력 예시\n",
    "15"
   ]
  },
  {
   "cell_type": "markdown",
   "id": "e14789ac",
   "metadata": {},
   "source": [
    "### 책 풀이(205 page)"
   ]
  },
  {
   "cell_type": "code",
   "execution_count": 10,
   "id": "7642b1e7",
   "metadata": {},
   "outputs": [
    {
     "name": "stdout",
     "output_type": "stream",
     "text": [
      "4 6\n",
      "19 15 10 17\n",
      "15\n"
     ]
    }
   ],
   "source": [
    "# n : 떡의 갯수\n",
    "# m : 요청한 떡의 기링\n",
    "n, m = list(map(int, input().split(' ')))    # map(int, input().split()) 이렇게 써도 됨\n",
    "\n",
    "# 각 떡의 개별 높이 입력 받기\n",
    "arr = list(map(int, input().split()))\n",
    "\n",
    "# 이진 탐색을 위한 시작점, 끝점 설정\n",
    "start = 0\n",
    "end = max(arr)    # 가장 깉 떡을 끝점으로 설정!\n",
    "\n",
    "# 이진 탐색 수행\n",
    "result = 0\n",
    "\n",
    "while(start <= end):\n",
    "    \n",
    "    total = 0\n",
    "    \n",
    "    mid = (start + end) // 2\n",
    "    \n",
    "    for x in arr: \n",
    "        if x > mid:\n",
    "            total += x - mid    # 자르고 남은 떡을 total에 종합\n",
    "            \n",
    "    if total < m:    # 요청한 떡 길이보다 모자르면,\n",
    "        end = mid - 1    # 자르는 구간을 더 짧게(남는 떡이 더 많아지도록)\n",
    "        \n",
    "    else:    # 요청한 떡길이거나 더 많으면\n",
    "        result = mid    # 일단 결과에 넣고,\n",
    "        start = mid + 1     # 자르는 구긴을 더 길게(더 조금 남도록)\n",
    "        \n",
    "# 결과 출력\n",
    "print(result)"
   ]
  },
  {
   "cell_type": "code",
   "execution_count": 4,
   "id": "7c0425d1",
   "metadata": {},
   "outputs": [
    {
     "data": {
      "text/plain": [
       "4"
      ]
     },
     "execution_count": 4,
     "metadata": {},
     "output_type": "execute_result"
    }
   ],
   "source": [
    "n"
   ]
  },
  {
   "cell_type": "markdown",
   "id": "82278892",
   "metadata": {},
   "source": [
    "m"
   ]
  },
  {
   "cell_type": "code",
   "execution_count": 6,
   "id": "28dcbc6f",
   "metadata": {},
   "outputs": [
    {
     "name": "stdout",
     "output_type": "stream",
     "text": [
      "1 3\n"
     ]
    }
   ],
   "source": [
    "# n : 떡의 갯수\n",
    "# m : 요청한 떡의 기링\n",
    "n, m = map(int, input().split())"
   ]
  },
  {
   "cell_type": "code",
   "execution_count": 7,
   "id": "e86b4227",
   "metadata": {},
   "outputs": [
    {
     "data": {
      "text/plain": [
       "1"
      ]
     },
     "execution_count": 7,
     "metadata": {},
     "output_type": "execute_result"
    }
   ],
   "source": [
    "n"
   ]
  },
  {
   "cell_type": "code",
   "execution_count": 8,
   "id": "ded3bbdf",
   "metadata": {},
   "outputs": [
    {
     "data": {
      "text/plain": [
       "3"
      ]
     },
     "execution_count": 8,
     "metadata": {},
     "output_type": "execute_result"
    }
   ],
   "source": [
    "m"
   ]
  },
  {
   "cell_type": "code",
   "execution_count": null,
   "id": "30e22970",
   "metadata": {},
   "outputs": [],
   "source": []
  }
 ],
 "metadata": {
  "kernelspec": {
   "display_name": "Python 3",
   "language": "python",
   "name": "python3"
  },
  "language_info": {
   "codemirror_mode": {
    "name": "ipython",
    "version": 3
   },
   "file_extension": ".py",
   "mimetype": "text/x-python",
   "name": "python",
   "nbconvert_exporter": "python",
   "pygments_lexer": "ipython3",
   "version": "3.8.8"
  }
 },
 "nbformat": 4,
 "nbformat_minor": 5
}
