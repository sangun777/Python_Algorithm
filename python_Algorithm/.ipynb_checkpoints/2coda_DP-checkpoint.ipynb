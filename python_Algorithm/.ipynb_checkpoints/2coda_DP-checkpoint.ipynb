{
 "cells": [
  {
   "cell_type": "markdown",
   "metadata": {},
   "source": [
    "# 다이나믹 프로그래밍(DP)\n",
    "    - 한번 계산한 문제는 다시 계산하지 않도록 하는 알고리즘\n",
    "    - 컴퓨터에서는 연산속도와 메모리 공간을 최대한으로 활용할 수 있는 효율적인 알고리즘을 짜야함\n",
    "    - DP는 특정 문제에서 메모리를 조금 더쓰고, 연산속도를 비약적으로 상승시킴\n",
    "\n",
    "    - DP의 2가지 방식 : Top-down, Bottom-up\n",
    "    - 메모이제이션(Memoization) : DP를 위해 자주 사용되는 기법\n",
    "    - 다이나믹은 \"프로그램이 실행되는 도중에\" 라는 의미"
   ]
  },
  {
   "cell_type": "markdown",
   "metadata": {},
   "source": [
    "## DP 이코다 기본 예제1) 피보나치수"
   ]
  },
  {
   "cell_type": "markdown",
   "metadata": {},
   "source": [
    "### 일반적 피보나치수열 점화식 코드(DP 적용전)"
   ]
  },
  {
   "cell_type": "code",
   "execution_count": 1,
   "metadata": {},
   "outputs": [
    {
     "name": "stdout",
     "output_type": "stream",
     "text": [
      "3\n"
     ]
    }
   ],
   "source": [
    "def fibo(x):\n",
    "    if x==1 or x==2:\n",
    "        return 1\n",
    "    return fibo(x-1)+fibo(x-2)\n",
    "\n",
    "print(fibo(4))"
   ]
  },
  {
   "cell_type": "markdown",
   "metadata": {},
   "source": [
    "* 문제점\n",
    "    - fibo(n)의 n이 커질수록 시간복잡도가 기하급수적으로 커짐\n",
    "    - O(2^n) 지수시간 필요\n",
    "    - N=30이면 10억개의 연산 필요\n",
    "    - N=6일 때, 함수 호출 과정"
   ]
  },
  {
   "cell_type": "markdown",
   "metadata": {},
   "source": [
    "### 탑다운방식, 메모이제이션을 활용한 코드(DP 적용후)"
   ]
  },
  {
   "cell_type": "code",
   "execution_count": 2,
   "metadata": {},
   "outputs": [
    {
     "name": "stdout",
     "output_type": "stream",
     "text": [
      "218922995834555169026\n"
     ]
    }
   ],
   "source": [
    "# 메모이제이션용 리스트 초기화\n",
    "# 함수 밖에 있는 것에 유의\n",
    "d = [0]*100\n",
    "\n",
    "def fibo(x):\n",
    "    \n",
    "    # 종료조건(x=1 or 2)\n",
    "    if x==1 or x==2:\n",
    "        return 1\n",
    "    \n",
    "    # 계산된 적이 있으면 그대로 반환\n",
    "    if d[x] !=0:\n",
    "        return d[x]\n",
    "    \n",
    "    # 아직 계산되지 않았을 때 계산\n",
    "    d[x] = fibo(x-1) + fibo(x-2)\n",
    "    \n",
    "    return d[x]\n",
    "\n",
    "print(fibo(99))"
   ]
  },
  {
   "cell_type": "markdown",
   "metadata": {},
   "source": [
    "###  보텀업 방식 코드\n",
    "- 같은말로 **상향식** 이라고도 함\n",
    "- 보텀업방식이 전형적인 DP 방식임\n",
    "- 보텀업 방식에서 사용되는 결과 저장용 리스트를 **'DP 테이블'** 이라고 부름\n",
    "- 가능하면 탑다운 보다 보텀업 방식을 쓰는 것을 권장함\n",
    "    - 시스템상 재귀 함수의 스택 크기가 한정될 수 있으므로\n",
    "        - 재귀 횟수에 따라 재귀 함수 깊이 오류(recursion depth) 발생 가능함\n",
    "        - 파이썬은 sys.setrecursion()으로 재귀 제한을 완화할 수 있다"
   ]
  },
  {
   "cell_type": "code",
   "execution_count": 10,
   "metadata": {},
   "outputs": [
    {
     "name": "stdout",
     "output_type": "stream",
     "text": [
      "218922995834555169026\n"
     ]
    }
   ],
   "source": [
    "d = [0]*100\n",
    "\n",
    "d[1] = 1\n",
    "d[2] = 1\n",
    "n=99\n",
    "\n",
    "for i in range(3, n+1):\n",
    "    d[i] = d[i-1] + d[i-2]\n",
    "    \n",
    "print(d[n])"
   ]
  },
  {
   "cell_type": "markdown",
   "metadata": {},
   "source": [
    "### 코드 호출 수 비교"
   ]
  },
  {
   "cell_type": "markdown",
   "metadata": {},
   "source": [
    "* 점화식 방식"
   ]
  },
  {
   "cell_type": "code",
   "execution_count": 9,
   "metadata": {},
   "outputs": [
    {
     "name": "stdout",
     "output_type": "stream",
     "text": [
      "f(6) f(5) f(4) f(3) f(2) f(1) f(2) f(3) f(2) f(1) f(4) f(3) f(2) f(1) f(2) 8\n"
     ]
    }
   ],
   "source": [
    "def fibo(x):\n",
    "    print('f(' + str(x) + ')', end=' ')   # 코드호출 확인 코드\n",
    "    if x==1 or x==2:\n",
    "        return 1\n",
    "    return fibo(x-1)+fibo(x-2)\n",
    "\n",
    "print(fibo(6))"
   ]
  },
  {
   "cell_type": "markdown",
   "metadata": {},
   "source": [
    " * 탑다운 방식에서 호출되는 함수 확인 코드"
   ]
  },
  {
   "cell_type": "code",
   "execution_count": 8,
   "metadata": {},
   "outputs": [
    {
     "name": "stdout",
     "output_type": "stream",
     "text": [
      "f(6) f(5) f(4) f(3) f(2) f(1) f(2) f(3) f(4) 8\n"
     ]
    }
   ],
   "source": [
    "# 메모이제이션용 리스트 초기화\n",
    "# 함수 밖에 있는 것에 유의\n",
    "d = [0]*100\n",
    "\n",
    "def fibo(x):\n",
    "    print('f(' + str(x) + ')', end=' ')     # 코드호출 확인 코드\n",
    "    \n",
    "    # 종료조건(x=1 or 2)\n",
    "    if x==1 or x==2:\n",
    "        return 1\n",
    "    \n",
    "    # 계산된 적이 있으면 그대로 반환\n",
    "    if d[x] !=0:\n",
    "        return d[x]\n",
    "    \n",
    "    # 아직 계산되지 않았을 때 계산\n",
    "    d[x] = fibo(x-1) + fibo(x-2)\n",
    "    \n",
    "    return d[x]\n",
    "\n",
    "print(fibo(6))"
   ]
  },
  {
   "cell_type": "markdown",
   "metadata": {},
   "source": [
    " * 보텁업 방식"
   ]
  },
  {
   "cell_type": "code",
   "execution_count": 13,
   "metadata": {},
   "outputs": [
    {
     "name": "stdout",
     "output_type": "stream",
     "text": [
      "f(3) f(4) f(5) f(6) 8\n"
     ]
    }
   ],
   "source": [
    "d = [0]*100\n",
    "\n",
    "d[1] = 1\n",
    "d[2] = 1\n",
    "n=6\n",
    "\n",
    "for i in range(3, n+1):\n",
    "    print('f(' + str(i) + ')', end=' ')     # 코드호출 확인 코드\n",
    "    d[i] = d[i-1] + d[i-2]\n",
    "    \n",
    "print(d[n])"
   ]
  },
  {
   "cell_type": "markdown",
   "metadata": {},
   "source": [
    "### 점화식과 DP 시간 비교"
   ]
  },
  {
   "cell_type": "code",
   "execution_count": 17,
   "metadata": {},
   "outputs": [
    {
     "name": "stdout",
     "output_type": "stream",
     "text": [
      "9227465\n",
      "방법1 재귀: 2.423806초 걸렸습니다.\n",
      "9227465\n",
      "방법2 탑다운: 0.000214초 걸렸습니다.\n",
      "9227465\n",
      "방법3 보텁업: 0.000190초 걸렸습니다.\n"
     ]
    }
   ],
   "source": [
    "import timeit\n",
    "\n",
    "\n",
    "# 피보나치 수 35 계산_방법1_그냥 재귀\n",
    "\n",
    "start_time = timeit.default_timer()    # 시작 시간 체크\n",
    "\n",
    "def fibo_1(x):\n",
    "    if x==1 or x==2:\n",
    "        return 1\n",
    "    return fibo_1(x-1)+fibo_1(x-2)\n",
    "\n",
    "print(fibo_1(35))\n",
    "    \n",
    "terminate_time = timeit.default_timer()    # 종료 시간 체크\n",
    "\n",
    "print(\"방법1 재귀: %f초 걸렸습니다.\" % (terminate_time-start_time))\n",
    "\n",
    "\n",
    "# 피보나치 수 35 계산_방법2_탑다운\n",
    "\n",
    "start_time = timeit.default_timer()    # 시작 시간 체크\n",
    "\n",
    "d = [0]*100\n",
    "\n",
    "def fibo_2(x):\n",
    "    \n",
    "    # 종료조건(x=1 or 2)\n",
    "    if x==1 or x==2:\n",
    "        return 1\n",
    "    \n",
    "    # 계산된 적이 있으면 그대로 반환\n",
    "    if d[x] !=0:\n",
    "        return d[x]\n",
    "    \n",
    "    # 아직 계산되지 않았을 때 계산\n",
    "    d[x] = fibo_2(x-1) + fibo_2(x-2)\n",
    "    \n",
    "    return d[x]\n",
    "\n",
    "print(fibo_2(35))\n",
    "terminate_time = timeit.default_timer()    # 종료 시간 체크\n",
    "\n",
    "print(\"방법2 탑다운: %f초 걸렸습니다.\" % (terminate_time-start_time))\n",
    "\n",
    "\n",
    "# 피보나치 수 35 계산_방법3_보텀업다운\n",
    "\n",
    "start_time = timeit.default_timer()    # 시작 시간 체크\n",
    "\n",
    "d = [0]*100\n",
    "\n",
    "d[1] = 1\n",
    "d[2] = 1\n",
    "n=35\n",
    "\n",
    "for i in range(3, n+1):\n",
    "    d[i] = d[i-1] + d[i-2]\n",
    "    \n",
    "print(d[n])\n",
    "\n",
    "terminate_time = timeit.default_timer()    # 종료 시간 체크\n",
    "\n",
    "print(\"방법3 보텁업: %f초 걸렸습니다.\" % (terminate_time-start_time))"
   ]
  },
  {
   "cell_type": "markdown",
   "metadata": {},
   "source": [
    "시행 할때마다 탑다운이 빠를때도, 보텀업이 빠를때도 있음  \n",
    "(평균적으로 보텀업이 빠른듯?)"
   ]
  },
  {
   "cell_type": "markdown",
   "metadata": {},
   "source": [
    "### 예제2) 1로 만들기\n",
    "\n",
    "정수 X가 주어질 때, 정수 X에 사용할 수 있는 연산은 아래 4가지다.\n",
    "\n",
    "1. X가 5로 나누어 떨어지면, 5로 나눈다.\n",
    "2. X가 3로 나누어 떨어지면, 3으로 나눈다.\n",
    "3. X가 2로 나누어 떨어지면, 2로 나눈다.\n",
    "4. X에서 1을 뺀다.\n",
    "\n",
    "정수X가 주어졌을 때, 위 1~4 연산을 적절히 사용해서 1로 만들려 할 때, 연산을 사용하는 횟수의 최솟값을 출력하시오"
   ]
  },
  {
   "cell_type": "code",
   "execution_count": 4,
   "metadata": {},
   "outputs": [
    {
     "name": "stdout",
     "output_type": "stream",
     "text": [
      "26\n",
      "3\n"
     ]
    }
   ],
   "source": [
    "X = int(input())\n",
    "\n",
    "# DP 테이블 초기화\n",
    "d = [0] * 300001\n",
    "\n",
    "# d[1] 설정\n",
    "# d[1] = 0 #처음에 0으로 초기화 했으니 안해도 상관 없음\n",
    "\n",
    "for i in range(2, X+1):\n",
    "    \n",
    "    d[i] = d[i-1]+1\n",
    "    \n",
    "    if i % 2 == 0:\n",
    "        # 1 빼는 경우와, 2로 나눈 경우 중 작은 것을 d[i]에 저장\n",
    "        d[i] = min(d[i], d[i//2]+1)    \n",
    "        \n",
    "    if i % 3 == 0:\n",
    "        # 위에서 저장한 것과 3으로 나눈 경우 중 작은 것을 d[i]에 저장\n",
    "        d[i] = min(d[i], d[i//3]+1)\n",
    "        \n",
    "    if i % 5 == 0:\n",
    "        d[i] = min(d[i], d[i//5]+1)\n",
    "        \n",
    "print(d[X])"
   ]
  },
  {
   "cell_type": "markdown",
   "metadata": {},
   "source": [
    " * 여러 경우의 수를 비교할 때, 위처럼 하나씩 비교하는 방법이 있는 것을 기억할 것!"
   ]
  },
  {
   "cell_type": "markdown",
   "metadata": {},
   "source": [
    "### 예제 3) 개미 전사\n",
    "\n",
    "- 개미전사는 메꾸기들의 식량 창고를 털거임\n",
    "- 식량창고는 여러개가 일직선으로 연결됨\n",
    "- 각 창고는 정해진 수의 식량이 있음\n",
    "- 들키지 않으려 최소 한칸 이상 떨어진 창고를 털어야함\n",
    "- 최대한 많은 식량을 터는 방법은?\n",
    "\n",
    "    예시) [1, 3, 1, 5]\n",
    "\n",
    "    ⇒ 3, 5를 털어서 최댓값인 8을 얻는다.  \n",
    "    \n",
    "\n",
    "- 입력 조건\n",
    "    - 첫째 줄에 식량 창고의 갯수 N이 주어진다. (3 ≤ N ≤ 100)\n",
    "    - 둘째 줄에 공백으로 구분되어 각 식량창고에 저장된 식량 갯수 K가 주어진다.  \n",
    "    (0 ≤ K ≤ 1000)"
   ]
  },
  {
   "cell_type": "code",
   "execution_count": 9,
   "metadata": {},
   "outputs": [
    {
     "name": "stdout",
     "output_type": "stream",
     "text": [
      "4\n",
      "1 3 1 5\n",
      "8\n"
     ]
    }
   ],
   "source": [
    "# 나의 풀이\n",
    "N = int(input())\n",
    "\n",
    "warehouse = input().split()\n",
    "\n",
    "for i in range(N):\n",
    "    warehouse[i] = int(warehouse[i])\n",
    "\n",
    "d = [0] * N\n",
    "d[0] = warehouse[0]\n",
    "d[1] = max(warehouse[0], warehouse[1])\n",
    "\n",
    "for i in range(2, N):\n",
    "    d[i] = max(warehouse[i]+d[i-2], d[i-1])\n",
    "    \n",
    "print(d[N-1])"
   ]
  },
  {
   "cell_type": "code",
   "execution_count": 11,
   "metadata": {},
   "outputs": [
    {
     "name": "stdout",
     "output_type": "stream",
     "text": [
      "4\n",
      "1 3 1 5\n",
      "8\n"
     ]
    }
   ],
   "source": [
    "# 정답 풀이\n",
    "n = int(input())\n",
    "\n",
    "array = list(map(int, input().split()))\n",
    "\n",
    "d = [0]*100\n",
    "\n",
    "d[0] = array[0]\n",
    "d[1] = max(array[0], array[1])\n",
    "for i in range(2, n):\n",
    "    d[i] = max(d[i-1], d[i-2]+array[i])\n",
    "    \n",
    "print(d[n-1])"
   ]
  },
  {
   "cell_type": "markdown",
   "metadata": {},
   "source": [
    "### 예제 4) 바닥 공사"
   ]
  },
  {
   "cell_type": "code",
   "execution_count": 13,
   "metadata": {},
   "outputs": [
    {
     "name": "stdout",
     "output_type": "stream",
     "text": [
      "3\n",
      "5\n"
     ]
    }
   ],
   "source": [
    "# 내 풀이\n",
    "N = int(input())\n",
    "\n",
    "d = [0]*1001\n",
    "d[1] = 1\n",
    "d[2] = 3\n",
    "for i in range(3, N+1):\n",
    "    d[i] =  d[i-1]+2*d[i-2] % 796796\n",
    "\n",
    "print(d[N])"
   ]
  },
  {
   "cell_type": "markdown",
   "metadata": {},
   "source": [
    "### 예제 5) 효율적인 화폐 구성\n",
    "\n",
    "- N 가지 종류의 화폐가 있다.\n",
    "- 이 화폐들의 갯수를 최소한으로 이용해서 그 가치의 합이 M원이 되도록 하여라\n",
    "- 화폐 구성이 같고 순서가 다른 것은 같은 경우로 취급\n",
    "- 화폐 사용 갯수의 제한은 없음\n",
    "- ex) 2원, 3월 화폐가 있고, 15원을 만드려면,\n",
    "    - ⇒ 3원 5개를 사용하는 것이 최소한의 화폐 갯수임\n",
    "    \n",
    "* 입력조건 첫 줄에 N, M이 주어짐\n",
    "* 이후에는 N개의 줄에 화폐 가치가 주어짐\n"
   ]
  },
  {
   "cell_type": "markdown",
   "metadata": {},
   "source": [
    "# 입력 예시1\n",
    "2 15  \n",
    "\n",
    "2   \n",
    "\n",
    "3\n",
    "\n",
    "출력 : 5"
   ]
  },
  {
   "cell_type": "code",
   "execution_count": null,
   "metadata": {},
   "outputs": [],
   "source": [
    "# 내풀이 => 중간에 많이 수정함\n",
    "\n",
    "# N 화폐 종류\n",
    "# M 가치의 총합\n",
    "\n",
    "N, M = map(int, input().split())\n",
    "\n",
    "coins = [] \n",
    "\n",
    "for i in range(N):\n",
    "    coins.append(int(input()))\n",
    "\n",
    "# 인덱스가 만들 돈이고, 그 최댓 값이 10000이므로,\n",
    "# 10001개 해야 인덱스가 10000까지 생김 => m+1개만 하면 됨(수정)\n",
    "d = [10001] * m+1\n",
    "d[0] = 0\n",
    "\n",
    "for coin in coins:\n",
    "    for i in range(1, m+1):    # 10001 => m+1개만 하면 됨(수정)\n",
    "        \n",
    "#         # 첫 동전 일 경우 => 이코드가 없어도 아래서 해결됨\n",
    "#         if coin == coins[0] and i%coin==0:\n",
    "#             d[i] = i/coin\n",
    "            \n",
    "        # 그 다음 동전\n",
    "        if d[i-coin] != 10001:\n",
    "            d[i] = min(d[i], d[i-coin]+1)\n",
    "\n",
    "if d[m] == 10001:\n",
    "    print(-1)\n",
    "else:            \n",
    "    print(d[M])\n",
    "        \n",
    "            \n",
    "    "
   ]
  },
  {
   "cell_type": "code",
   "execution_count": null,
   "metadata": {},
   "outputs": [],
   "source": []
  },
  {
   "cell_type": "code",
   "execution_count": null,
   "metadata": {},
   "outputs": [],
   "source": []
  },
  {
   "cell_type": "code",
   "execution_count": null,
   "metadata": {},
   "outputs": [],
   "source": []
  },
  {
   "cell_type": "code",
   "execution_count": null,
   "metadata": {},
   "outputs": [],
   "source": []
  },
  {
   "cell_type": "code",
   "execution_count": null,
   "metadata": {},
   "outputs": [],
   "source": []
  },
  {
   "cell_type": "code",
   "execution_count": 14,
   "metadata": {},
   "outputs": [
    {
     "name": "stdout",
     "output_type": "stream",
     "text": [
      "2 4\n",
      "2\n",
      "4\n"
     ]
    }
   ],
   "source": [
    "# 내 풀이\n",
    "\n",
    "n, m = map(int, input().split())\n",
    "\n",
    "coin = []\n",
    "\n",
    "# 동전 총 갯수\n",
    "d = [0]*10001\n",
    "\n",
    "for i in range(i):\n",
    "    coin.append(int(input()))\n",
    "\n",
    "for j in range(m):\n",
    "    for k in range(len(coin)-1):\n",
    "        if j-coin[k] >= 0 and \n",
    "        d[j]= min(d[j-coin[k]]+1, d[j-coin[k+1]+1])\n",
    "        \n",
    "    ## 여기부터는 내일 하자 277 page?"
   ]
  },
  {
   "cell_type": "code",
   "execution_count": null,
   "metadata": {},
   "outputs": [],
   "source": [
    "# 정답 풀이\n",
    "# n : 화폐 종류의 갯수, m : 화폐를 조합하여 만들어야하는 수\n",
    "n, m = map(int, input().split())\n",
    "\n",
    "# array : n개의 화폐 단위 정보를 입력 받는 리스트\n",
    "array = []\n",
    "for i in range(n):\n",
    "    array.append(int(input()))\n",
    "\n",
    "# 해당 인덱스 값을 만들기 위해 필요한 최소 화폐 갯수\n",
    "# 10001원은 못만든다는 의미\n",
    "# M의 최댓값이 10000이고, 화폐 최소값이 1원 이므로, 10000을 넘을 수 없음\n",
    "d = [10001] * (m+1)\n",
    "# m+1은 d 리스트의 인덱스를 m까지 생성하기 위함\n",
    "\n",
    "d[0] = 0\n",
    "\n",
    "for i in range(n):\n",
    "    for j in range(array[i], m+1):\n",
    "        if d[j-array[i]] != 10001:\n",
    "            d[j] = min(d[j], d[j-array[i]]+1)\n",
    "            \n",
    "            \n",
    "if d[m] == 10001:\n",
    "    print(-1)\n",
    "else:\n",
    "    print(d[m])"
   ]
  }
 ],
 "metadata": {
  "kernelspec": {
   "display_name": "Python 3",
   "language": "python",
   "name": "python3"
  },
  "language_info": {
   "codemirror_mode": {
    "name": "ipython",
    "version": 3
   },
   "file_extension": ".py",
   "mimetype": "text/x-python",
   "name": "python",
   "nbconvert_exporter": "python",
   "pygments_lexer": "ipython3",
   "version": "3.8.5"
  }
 },
 "nbformat": 4,
 "nbformat_minor": 4
}
