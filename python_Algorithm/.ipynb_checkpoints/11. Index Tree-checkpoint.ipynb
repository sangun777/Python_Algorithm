{
 "cells": [
  {
   "cell_type": "markdown",
   "id": "139beaa5",
   "metadata": {},
   "source": [
    "### 나중에 해볼 것 : Index Tree를 이용한 Lazy Propagation"
   ]
  },
  {
   "cell_type": "code",
   "execution_count": 6,
   "id": "6fad7869",
   "metadata": {},
   "outputs": [
    {
     "name": "stdout",
     "output_type": "stream",
     "text": [
      "K = 0 일 때, K &-K : 0 \n",
      "0b0\n",
      "K = 1 일 때, K &-K : 1 \n",
      "0b1\n",
      "K = 2 일 때, K &-K : 2 \n",
      "0b10\n",
      "K = 3 일 때, K &-K : 1 \n",
      "0b11\n",
      "K = 4 일 때, K &-K : 4 \n",
      "0b100\n",
      "K = 5 일 때, K &-K : 1 \n",
      "0b101\n",
      "K = 6 일 때, K &-K : 2 \n",
      "0b110\n",
      "K = 7 일 때, K &-K : 1 \n",
      "0b111\n",
      "K = 8 일 때, K &-K : 8 \n",
      "0b1000\n",
      "K = 9 일 때, K &-K : 1 \n",
      "0b1001\n",
      "K = 10 일 때, K &-K : 2 \n",
      "0b1010\n",
      "K = 11 일 때, K &-K : 1 \n",
      "0b1011\n",
      "K = 12 일 때, K &-K : 4 \n",
      "0b1100\n",
      "K = 13 일 때, K &-K : 1 \n",
      "0b1101\n",
      "K = 14 일 때, K &-K : 2 \n",
      "0b1110\n",
      "K = 15 일 때, K &-K : 1 \n",
      "0b1111\n",
      "K = 16 일 때, K &-K : 16 \n",
      "0b10000\n"
     ]
    }
   ],
   "source": [
    "for i in range(17):\n",
    "    print(\"K = %d 일 때, K &-K : %d \" %(i, i&-i))\n",
    "    print(bin(i))"
   ]
  },
  {
   "cell_type": "code",
   "execution_count": 16,
   "id": "06fddc76",
   "metadata": {},
   "outputs": [],
   "source": [
    "tree = [0 for i in range(17)]   # 인덱스가 16까지 생성되도록 배열 초기화"
   ]
  },
  {
   "cell_type": "markdown",
   "id": "6fe48c85",
   "metadata": {},
   "source": [
    "![](idxtree1.png)"
   ]
  },
  {
   "cell_type": "markdown",
   "id": "01c6c9a1",
   "metadata": {},
   "source": [
    "### update() : 특정 값 변경\n",
    "* 아래 그림과 같이 tree[3]. tree[4]. tree [8]. tree[16]의 값이 갱신되어야함\n",
    "- 3 → 4 → 8 → 16\n",
    "- 0011 → 0100 → 1000 → 10000\n",
    "    * 0011 + (0011의 마지막 비트 = i&-i)0001 = 0100\n",
    "    * 0100 + (0100의 마지막 비트 = i&-i)0100 = 1000\n",
    "    * 1000 + (1000의 마지막 비트 = i&-i)1000 = 10000"
   ]
  },
  {
   "cell_type": "code",
   "execution_count": 17,
   "id": "9e20b3b2",
   "metadata": {},
   "outputs": [],
   "source": [
    "NUMBER = len(tree)-1 # 갯수, 여기서는 16\n",
    "\n",
    "def update(i, dif):    # i : 인덱스, dif : 추가할 값\n",
    "    while i <= NUMBER:\n",
    "        tree[i] += dif\n",
    "        i += (i & -i)"
   ]
  },
  {
   "cell_type": "markdown",
   "id": "ecc3d957",
   "metadata": {},
   "source": [
    "![](idxtree2.png)"
   ]
  },
  {
   "cell_type": "code",
   "execution_count": 18,
   "id": "f12f8cb6",
   "metadata": {},
   "outputs": [
    {
     "name": "stdout",
     "output_type": "stream",
     "text": [
      "[0, 0, 0, 3, 3, 0, 0, 0, 3, 0, 0, 0, 0, 0, 0, 0, 3]\n",
      "[0, 1, 2, 3, 4, 5, 6, 7, 8, 9, 10, 11, 12, 13, 14, 15, 16]\n"
     ]
    }
   ],
   "source": [
    "update(3, 3)\n",
    "print(tree)\n",
    "print([i for i in range(17)]) # 인덱스 확인용"
   ]
  },
  {
   "cell_type": "markdown",
   "id": "96a027f1",
   "metadata": {},
   "source": [
    "### Nsum() : 1~N 까지 합 구하기\n",
    "    * 1~11까지의 합은 tree[11] + tree[10] + tree[8] = (11의 값) + (9~10까지 합) + (1~8의 값)\n",
    "    * 비트로 표현하면, tree[1011] + tree[1010] + tree[1000] + tree[0000]"
   ]
  },
  {
   "cell_type": "code",
   "execution_count": 23,
   "id": "ea725cc8",
   "metadata": {},
   "outputs": [],
   "source": [
    "def Nsum(i):\n",
    "    res = 0\n",
    "    while(i > 0):\n",
    "        res += tree[i]\n",
    "        i -= (i&-i)\n",
    "\n",
    "    return res"
   ]
  },
  {
   "cell_type": "markdown",
   "id": "b508c63f",
   "metadata": {},
   "source": [
    "![](idxtree3.png)"
   ]
  },
  {
   "cell_type": "code",
   "execution_count": 25,
   "id": "83073d6f",
   "metadata": {},
   "outputs": [
    {
     "data": {
      "text/plain": [
       "21"
      ]
     },
     "execution_count": 25,
     "metadata": {},
     "output_type": "execute_result"
    }
   ],
   "source": [
    "update(4, 4)\n",
    "update(5, 5)\n",
    "update(9, 9)\n",
    "Nsum(11)"
   ]
  },
  {
   "cell_type": "markdown",
   "id": "076a69e6",
   "metadata": {},
   "source": [
    "* Gsum() : M~N 까지 구간 합 구하기"
   ]
  },
  {
   "cell_type": "code",
   "execution_count": 28,
   "id": "5cc7be69",
   "metadata": {},
   "outputs": [],
   "source": [
    "def Gsum(start, end):\n",
    "    return Nsum(end) - Nsum(start-1)"
   ]
  },
  {
   "cell_type": "code",
   "execution_count": 29,
   "id": "153f295d",
   "metadata": {},
   "outputs": [
    {
     "data": {
      "text/plain": [
       "14"
      ]
     },
     "execution_count": 29,
     "metadata": {},
     "output_type": "execute_result"
    }
   ],
   "source": [
    "Gsum(5, 9)"
   ]
  },
  {
   "cell_type": "markdown",
   "id": "c09e2a83",
   "metadata": {},
   "source": [
    "# 예제) 백준 2042, 구간 합 구하기"
   ]
  },
  {
   "cell_type": "markdown",
   "id": "54c524e7",
   "metadata": {},
   "source": [
    "![](boj2042_index_tree.png)"
   ]
  },
  {
   "cell_type": "code",
   "execution_count": null,
   "id": "c6daed7b",
   "metadata": {},
   "outputs": [],
   "source": []
  },
  {
   "cell_type": "markdown",
   "id": "d95ac4ca",
   "metadata": {},
   "source": [
    "### 2코다 동빈나 답안\n",
    "* https://www.youtube.com/watch?v=fg2iGP4e2mc&list=PLRx0vPvlEmdAghTr5mXQxGpHjWqSz0dgC&index=14"
   ]
  },
  {
   "cell_type": "code",
   "execution_count": 40,
   "id": "dab4ba99",
   "metadata": {},
   "outputs": [
    {
     "ename": "ValueError",
     "evalue": "not enough values to unpack (expected 3, got 0)",
     "output_type": "error",
     "traceback": [
      "\u001b[1;31m---------------------------------------------------------------------------\u001b[0m",
      "\u001b[1;31mValueError\u001b[0m                                Traceback (most recent call last)",
      "\u001b[1;32m<ipython-input-40-528c00265547>\u001b[0m in \u001b[0;36m<module>\u001b[1;34m\u001b[0m\n\u001b[0;32m      4\u001b[0m \u001b[1;33m\u001b[0m\u001b[0m\n\u001b[0;32m      5\u001b[0m \u001b[1;31m# n: 데이터의 갯수, m: 변경 횟수, k: 구간 합 횟수\u001b[0m\u001b[1;33m\u001b[0m\u001b[1;33m\u001b[0m\u001b[1;33m\u001b[0m\u001b[0m\n\u001b[1;32m----> 6\u001b[1;33m \u001b[0ma\u001b[0m\u001b[1;33m,\u001b[0m \u001b[0mb\u001b[0m\u001b[1;33m,\u001b[0m \u001b[0mc\u001b[0m \u001b[1;33m=\u001b[0m \u001b[0mmap\u001b[0m\u001b[1;33m(\u001b[0m\u001b[0mint\u001b[0m\u001b[1;33m,\u001b[0m \u001b[0minput\u001b[0m\u001b[1;33m(\u001b[0m\u001b[1;33m)\u001b[0m\u001b[1;33m.\u001b[0m\u001b[0msplit\u001b[0m\u001b[1;33m(\u001b[0m\u001b[1;33m)\u001b[0m\u001b[1;33m)\u001b[0m\u001b[1;33m\u001b[0m\u001b[1;33m\u001b[0m\u001b[0m\n\u001b[0m\u001b[0;32m      7\u001b[0m \u001b[1;33m\u001b[0m\u001b[0m\n\u001b[0;32m      8\u001b[0m \u001b[1;31m# 전체 데이터의 갯수는 최대 1,000,000개\u001b[0m\u001b[1;33m\u001b[0m\u001b[1;33m\u001b[0m\u001b[1;33m\u001b[0m\u001b[0m\n",
      "\u001b[1;31mValueError\u001b[0m: not enough values to unpack (expected 3, got 0)"
     ]
    }
   ],
   "source": [
    "import sys\n",
    "\n",
    "input = sys.stdin.readline\n",
    "\n",
    "# n: 데이터의 갯수, m: 변경 횟수, k: 구간 합 횟수\n",
    "n, m, k = map(int, input().split())\n",
    "\n",
    "# 전체 데이터의 갯수는 최대 1,000,000개\n",
    "arr = [0] * (n+1)\n",
    "tree = [0] * (n+1)\n",
    "\n",
    "# 1 ~ i 까지 누적합 계산 함수\n",
    "def prefixSum(i):\n",
    "    result = 0\n",
    "    while i > 0:\n",
    "        result += tree[i]\n",
    "        \n",
    "        # 0이 아닌 마지막 비트만큼 빼가면서 이동\n",
    "        i -= (i & -i)\n",
    "    return result\n",
    "\n",
    "# i번째 수를 dif만큼 더하는 함수\n",
    "def update(i, dif):\n",
    "    while i <= n:\n",
    "        tree[i] += dif\n",
    "        i += (i&-i)\n",
    "        \n",
    "# start부터 end까지 구간합 계산 함수\n",
    "def intervalSum(start, end):\n",
    "    return prefixSum(end) - prefixSum(start-1)\n",
    "\n",
    "# main 부분\n",
    "for i in range(1, n+1):\n",
    "    x = int(input())\n",
    "    arr[i] = x    # 입력 받은 값을 배열에 담음 (인덱스 1로 시작에 주의)\n",
    "    update(i, x)  # 구간 합 트리 tree 갱신\n",
    "    \n",
    "for i in range(m+k):\n",
    "    a, b, c = map(int, input().split())\n",
    "    \n",
    "    # 업데이트 연산인 경우,\n",
    "    if a == 1:\n",
    "        update(b, c - arr[b]) # 바뀐 크기(dif) 만큼 적용\n",
    "        arr[b] = c\n",
    "    \n",
    "    # 구간 합 인 경우\n",
    "    else:\n",
    "        print(intervalSum(b, c))"
   ]
  }
 ],
 "metadata": {
  "kernelspec": {
   "display_name": "Python 3",
   "language": "python",
   "name": "python3"
  },
  "language_info": {
   "codemirror_mode": {
    "name": "ipython",
    "version": 3
   },
   "file_extension": ".py",
   "mimetype": "text/x-python",
   "name": "python",
   "nbconvert_exporter": "python",
   "pygments_lexer": "ipython3",
   "version": "3.8.8"
  }
 },
 "nbformat": 4,
 "nbformat_minor": 5
}
