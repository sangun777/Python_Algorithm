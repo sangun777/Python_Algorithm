{
 "cells": [
  {
   "cell_type": "markdown",
   "id": "f50f6df0",
   "metadata": {},
   "source": [
    "![](Bit1.png)"
   ]
  },
  {
   "cell_type": "code",
   "execution_count": 12,
   "id": "6c4bdf9c",
   "metadata": {},
   "outputs": [],
   "source": [
    "A, B = 60, 13"
   ]
  },
  {
   "cell_type": "markdown",
   "id": "e2f8989c",
   "metadata": {},
   "source": [
    " * A & B (AND)"
   ]
  },
  {
   "cell_type": "code",
   "execution_count": 13,
   "id": "1e07056c",
   "metadata": {},
   "outputs": [
    {
     "data": {
      "text/plain": [
       "12"
      ]
     },
     "execution_count": 13,
     "metadata": {},
     "output_type": "execute_result"
    }
   ],
   "source": [
    "A&B"
   ]
  },
  {
   "cell_type": "markdown",
   "id": "2f3df783",
   "metadata": {},
   "source": [
    " * A | B (OR)"
   ]
  },
  {
   "cell_type": "code",
   "execution_count": 15,
   "id": "92f3a441",
   "metadata": {},
   "outputs": [
    {
     "data": {
      "text/plain": [
       "61"
      ]
     },
     "execution_count": 15,
     "metadata": {},
     "output_type": "execute_result"
    }
   ],
   "source": [
    "A|B"
   ]
  },
  {
   "cell_type": "markdown",
   "id": "15d00911",
   "metadata": {},
   "source": [
    " * A ^ B (XOR)"
   ]
  },
  {
   "cell_type": "code",
   "execution_count": 16,
   "id": "02184dcb",
   "metadata": {},
   "outputs": [
    {
     "data": {
      "text/plain": [
       "49"
      ]
     },
     "execution_count": 16,
     "metadata": {},
     "output_type": "execute_result"
    }
   ],
   "source": [
    "A^B"
   ]
  },
  {
   "cell_type": "markdown",
   "id": "a7c9443e",
   "metadata": {},
   "source": [
    "### ~ (NOT)\n",
    "* ~A, ~B (NOT)\n",
    "\n",
    "** Fact!!! 정수의 NOT 연산은 \"부호 전환-1\" 로 수행\n",
    "\n",
    "* NOT는 비트 전환 연산(= 1의 보수)임\n",
    "    * 인줄 알았는데 더 정확하게는 \"-부호 + 최상위자리올림 + 비트전환연산임\"\n",
    "    * 예시 ~1111(=15) => -0b10000\n",
    "* 따라서 NOT 연산 ~는 2의 보수(해당 수의 음수)에서 1을 뺀 값으로 계산된다.\n"
   ]
  },
  {
   "cell_type": "code",
   "execution_count": 44,
   "id": "fc4a262a",
   "metadata": {},
   "outputs": [
    {
     "name": "stdout",
     "output_type": "stream",
     "text": [
      "-61\n",
      "-14\n"
     ]
    }
   ],
   "source": [
    "A, B = 60, 13\n",
    "\n",
    "print(~A)\n",
    "print(~B)"
   ]
  },
  {
   "cell_type": "markdown",
   "id": "0b7fe63b",
   "metadata": {},
   "source": [
    "* bin() 함수는 음수를 그냥 -부호와 2진수 절대 값으로 표현됨"
   ]
  },
  {
   "cell_type": "code",
   "execution_count": 49,
   "id": "75811091",
   "metadata": {},
   "outputs": [
    {
     "data": {
      "text/plain": [
       "'-0b1111'"
      ]
     },
     "execution_count": 49,
     "metadata": {},
     "output_type": "execute_result"
    }
   ],
   "source": [
    "bin(-15)"
   ]
  },
  {
   "cell_type": "code",
   "execution_count": 68,
   "id": "2ddbdf9b",
   "metadata": {},
   "outputs": [
    {
     "data": {
      "text/plain": [
       "'-0b111'"
      ]
     },
     "execution_count": 68,
     "metadata": {},
     "output_type": "execute_result"
    }
   ],
   "source": [
    "bin(-7)"
   ]
  },
  {
   "cell_type": "markdown",
   "id": "619c49ea",
   "metadata": {},
   "source": [
    "### ** Fact!!! 정수의 NOT 연산은 \"부호 전환-1(=>절대값+1)\" 로 수행"
   ]
  },
  {
   "cell_type": "code",
   "execution_count": 52,
   "id": "c44e5460",
   "metadata": {},
   "outputs": [
    {
     "data": {
      "text/plain": [
       "-16"
      ]
     },
     "execution_count": 52,
     "metadata": {},
     "output_type": "execute_result"
    }
   ],
   "source": [
    "~15"
   ]
  },
  {
   "cell_type": "code",
   "execution_count": 53,
   "id": "dc64e271",
   "metadata": {},
   "outputs": [
    {
     "data": {
      "text/plain": [
       "14"
      ]
     },
     "execution_count": 53,
     "metadata": {},
     "output_type": "execute_result"
    }
   ],
   "source": [
    "~-15"
   ]
  },
  {
   "cell_type": "code",
   "execution_count": 50,
   "id": "5a13b624",
   "metadata": {},
   "outputs": [
    {
     "data": {
      "text/plain": [
       "'-0b10000'"
      ]
     },
     "execution_count": 50,
     "metadata": {},
     "output_type": "execute_result"
    }
   ],
   "source": [
    "bin(~15) # 15의 1의 보수 => 왜 '0b0000'이 아니지?"
   ]
  },
  {
   "cell_type": "code",
   "execution_count": 54,
   "id": "42739f0f",
   "metadata": {},
   "outputs": [
    {
     "data": {
      "text/plain": [
       "-13"
      ]
     },
     "execution_count": 54,
     "metadata": {},
     "output_type": "execute_result"
    }
   ],
   "source": [
    "~0b1100"
   ]
  },
  {
   "cell_type": "code",
   "execution_count": 56,
   "id": "82d6e032",
   "metadata": {},
   "outputs": [
    {
     "data": {
      "text/plain": [
       "'-0b1101'"
      ]
     },
     "execution_count": 56,
     "metadata": {},
     "output_type": "execute_result"
    }
   ],
   "source": [
    "bin(~0b1100)"
   ]
  },
  {
   "cell_type": "code",
   "execution_count": 57,
   "id": "43e0f1ef",
   "metadata": {},
   "outputs": [
    {
     "data": {
      "text/plain": [
       "'-0b1101'"
      ]
     },
     "execution_count": 57,
     "metadata": {},
     "output_type": "execute_result"
    }
   ],
   "source": [
    "bin(~12)"
   ]
  },
  {
   "cell_type": "markdown",
   "id": "9589d707",
   "metadata": {},
   "source": [
    " * A << 2"
   ]
  },
  {
   "cell_type": "code",
   "execution_count": 18,
   "id": "e9fe48d9",
   "metadata": {},
   "outputs": [
    {
     "data": {
      "text/plain": [
       "240"
      ]
     },
     "execution_count": 18,
     "metadata": {},
     "output_type": "execute_result"
    }
   ],
   "source": [
    "A<<2"
   ]
  },
  {
   "cell_type": "code",
   "execution_count": 19,
   "id": "223c804a",
   "metadata": {},
   "outputs": [
    {
     "data": {
      "text/plain": [
       "15"
      ]
     },
     "execution_count": 19,
     "metadata": {},
     "output_type": "execute_result"
    }
   ],
   "source": [
    "A>>2"
   ]
  },
  {
   "cell_type": "markdown",
   "id": "c50c1869",
   "metadata": {},
   "source": [
    "## 2진수 표기 산술 연산"
   ]
  },
  {
   "cell_type": "markdown",
   "id": "b6289790",
   "metadata": {},
   "source": [
    "* 표기\n",
    "    * 0b+숫자 => int형 10진수 표기\n",
    "    * bin(10진수) => str형 2진수 표기"
   ]
  },
  {
   "cell_type": "code",
   "execution_count": 34,
   "id": "13b69942",
   "metadata": {},
   "outputs": [
    {
     "data": {
      "text/plain": [
       "14"
      ]
     },
     "execution_count": 34,
     "metadata": {},
     "output_type": "execute_result"
    }
   ],
   "source": [
    "0b01110"
   ]
  },
  {
   "cell_type": "code",
   "execution_count": 31,
   "id": "15a20e1d",
   "metadata": {},
   "outputs": [
    {
     "data": {
      "text/plain": [
       "'0b110'"
      ]
     },
     "execution_count": 31,
     "metadata": {},
     "output_type": "execute_result"
    }
   ],
   "source": [
    "bin(6)"
   ]
  },
  {
   "cell_type": "code",
   "execution_count": 32,
   "id": "87fed7a8",
   "metadata": {},
   "outputs": [
    {
     "data": {
      "text/plain": [
       "str"
      ]
     },
     "execution_count": 32,
     "metadata": {},
     "output_type": "execute_result"
    }
   ],
   "source": [
    "type(bin(6))"
   ]
  },
  {
   "cell_type": "code",
   "execution_count": 33,
   "id": "c1fbd1a7",
   "metadata": {},
   "outputs": [
    {
     "data": {
      "text/plain": [
       "int"
      ]
     },
     "execution_count": 33,
     "metadata": {},
     "output_type": "execute_result"
    }
   ],
   "source": [
    "type(0b0110)"
   ]
  },
  {
   "cell_type": "markdown",
   "id": "f2509c44",
   "metadata": {},
   "source": [
    "* 산술 연산"
   ]
  },
  {
   "cell_type": "code",
   "execution_count": 35,
   "id": "3b557df7",
   "metadata": {},
   "outputs": [
    {
     "data": {
      "text/plain": [
       "'0b1000'"
      ]
     },
     "execution_count": 35,
     "metadata": {},
     "output_type": "execute_result"
    }
   ],
   "source": [
    "bin(0b0110 + 0b0010)"
   ]
  },
  {
   "cell_type": "code",
   "execution_count": 37,
   "id": "d8571918",
   "metadata": {},
   "outputs": [
    {
     "data": {
      "text/plain": [
       "'0b1111'"
      ]
     },
     "execution_count": 37,
     "metadata": {},
     "output_type": "execute_result"
    }
   ],
   "source": [
    "bin(0b0011 * 0b0101)  # 3 * 5 = 15"
   ]
  },
  {
   "cell_type": "markdown",
   "id": "3375c5a0",
   "metadata": {},
   "source": [
    "<img src = \"Bit2.jpg\" width = \"25%\" height = \"25%\" align=\"left\">"
   ]
  },
  {
   "cell_type": "code",
   "execution_count": 38,
   "id": "96ac8b77",
   "metadata": {},
   "outputs": [
    {
     "data": {
      "text/plain": [
       "'0b11'"
      ]
     },
     "execution_count": 38,
     "metadata": {},
     "output_type": "execute_result"
    }
   ],
   "source": [
    "bin(0b1101 >> 2)    # 2자리 지워짐"
   ]
  },
  {
   "cell_type": "code",
   "execution_count": 39,
   "id": "c8354247",
   "metadata": {},
   "outputs": [
    {
     "data": {
      "text/plain": [
       "'0b110100'"
      ]
     },
     "execution_count": 39,
     "metadata": {},
     "output_type": "execute_result"
    }
   ],
   "source": [
    "bin(0b1101 << 2)    # 2자리 더 생김"
   ]
  },
  {
   "cell_type": "code",
   "execution_count": 43,
   "id": "8b2cebeb",
   "metadata": {},
   "outputs": [
    {
     "data": {
      "text/plain": [
       "'-0b1010'"
      ]
     },
     "execution_count": 43,
     "metadata": {},
     "output_type": "execute_result"
    }
   ],
   "source": [
    "bin(0b0101 ^ ~0b1100)"
   ]
  },
  {
   "cell_type": "markdown",
   "id": "9643cc28",
   "metadata": {},
   "source": [
    "# 비트 마스크 (Bit MASK) 사용"
   ]
  },
  {
   "cell_type": "markdown",
   "id": "6da661dc",
   "metadata": {},
   "source": [
    "### 4비트 비트마스크 사용 예시"
   ]
  },
  {
   "cell_type": "markdown",
   "id": "51bd8ed2",
   "metadata": {},
   "source": [
    "<img src = \"Bit3.png\" align=\"left\">"
   ]
  },
  {
   "cell_type": "code",
   "execution_count": 59,
   "id": "72f421eb",
   "metadata": {},
   "outputs": [
    {
     "name": "stdout",
     "output_type": "stream",
     "text": [
      "0b0\n",
      "0b1\n",
      "0b111\n",
      "0b1000\n",
      "0b1001\n",
      "0b1111\n"
     ]
    }
   ],
   "source": [
    "MASK = 0xF    # 4비트의 비트마스크 MASK = 1111 정의\n",
    "\n",
    "# MASK를 이용한 4비트로 2의 보수 표현\n",
    "print(bin(0 & MASK))\n",
    "print(bin(1 & MASK))\n",
    "print(bin(7 & MASK))\n",
    "print(bin(-8 & MASK))\n",
    "print(bin(-7 & MASK))\n",
    "print(bin(-1 & MASK))"
   ]
  },
  {
   "cell_type": "markdown",
   "id": "61ba3659",
   "metadata": {},
   "source": [
    "### 파이썬에서 음수는 부호+양수표현으로 표현되지만, 2의보수와 계산결과는 동일함"
   ]
  },
  {
   "cell_type": "code",
   "execution_count": 71,
   "id": "feb4e56f",
   "metadata": {},
   "outputs": [
    {
     "data": {
      "text/plain": [
       "'0b101'"
      ]
     },
     "execution_count": 71,
     "metadata": {},
     "output_type": "execute_result"
    }
   ],
   "source": [
    "bin(5)"
   ]
  },
  {
   "cell_type": "code",
   "execution_count": 70,
   "id": "7aab8a86",
   "metadata": {},
   "outputs": [
    {
     "data": {
      "text/plain": [
       "'-0b100'"
      ]
     },
     "execution_count": 70,
     "metadata": {},
     "output_type": "execute_result"
    }
   ],
   "source": [
    "bin(-4)"
   ]
  },
  {
   "cell_type": "code",
   "execution_count": 72,
   "id": "d87ba858",
   "metadata": {},
   "outputs": [
    {
     "data": {
      "text/plain": [
       "'0b1100'"
      ]
     },
     "execution_count": 72,
     "metadata": {},
     "output_type": "execute_result"
    }
   ],
   "source": [
    "MASK = 0XF\n",
    "bin(-4 & MASK)"
   ]
  },
  {
   "cell_type": "code",
   "execution_count": 69,
   "id": "cc6e32b0",
   "metadata": {},
   "outputs": [
    {
     "data": {
      "text/plain": [
       "4"
      ]
     },
     "execution_count": 69,
     "metadata": {},
     "output_type": "execute_result"
    }
   ],
   "source": [
    "# 0101 & 1100 => 0100\n",
    "5 & -4"
   ]
  },
  {
   "cell_type": "code",
   "execution_count": 66,
   "id": "d87b880e",
   "metadata": {},
   "outputs": [
    {
     "data": {
      "text/plain": [
       "'-0b100'"
      ]
     },
     "execution_count": 66,
     "metadata": {},
     "output_type": "execute_result"
    }
   ],
   "source": [
    "bin(-4)"
   ]
  },
  {
   "cell_type": "code",
   "execution_count": null,
   "id": "7c304c43",
   "metadata": {},
   "outputs": [],
   "source": []
  },
  {
   "cell_type": "code",
   "execution_count": null,
   "id": "0e298e7c",
   "metadata": {},
   "outputs": [],
   "source": []
  },
  {
   "cell_type": "code",
   "execution_count": null,
   "id": "1519a24f",
   "metadata": {},
   "outputs": [],
   "source": []
  },
  {
   "cell_type": "code",
   "execution_count": 27,
   "id": "763f9608",
   "metadata": {},
   "outputs": [
    {
     "name": "stdout",
     "output_type": "stream",
     "text": [
      "[1, 0, 0, 1]\n",
      "[0, 1, 0, 1]\n",
      "[0, 1, 0, 1]\n",
      "[1, 0, 0, 1]\n"
     ]
    }
   ],
   "source": [
    "# and는 뒤에 것으로, or는 앞에 리스트로 덮여쓰이는데 이유는?\n",
    "\n",
    "A = [0, 1, 0, 1]\n",
    "B = [1, 0, 0, 1]\n",
    "\n",
    "C = A and B\n",
    "D = B and A\n",
    "E = A or B\n",
    "F = B or A\n",
    "\n",
    "print(C)\n",
    "print(D)\n",
    "print(E)\n",
    "print(F)"
   ]
  }
 ],
 "metadata": {
  "kernelspec": {
   "display_name": "Python 3",
   "language": "python",
   "name": "python3"
  },
  "language_info": {
   "codemirror_mode": {
    "name": "ipython",
    "version": 3
   },
   "file_extension": ".py",
   "mimetype": "text/x-python",
   "name": "python",
   "nbconvert_exporter": "python",
   "pygments_lexer": "ipython3",
   "version": "3.8.8"
  }
 },
 "nbformat": 4,
 "nbformat_minor": 5
}
