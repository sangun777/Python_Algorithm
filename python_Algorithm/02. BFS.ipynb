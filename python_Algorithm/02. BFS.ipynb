{
 "cells": [
  {
   "cell_type": "markdown",
   "id": "03836cd0",
   "metadata": {},
   "source": [
    "# 이것이 코딩 테스트다 BFS"
   ]
  },
  {
   "cell_type": "markdown",
   "id": "36ad5141",
   "metadata": {},
   "source": [
    "# BFS(너비 우선 탐색, Breath First Search)\n",
    "\n",
    "    * 맹목적인 탐색, 최단거리 탐색 시 사용\n",
    "    * 큐(queue, FIFO 구조)가 필요함"
   ]
  },
  {
   "cell_type": "markdown",
   "id": "16dc6a13",
   "metadata": {},
   "source": [
    "![](01-02.graph.png)"
   ]
  },
  {
   "cell_type": "code",
   "execution_count": 2,
   "id": "cd2c7fa6",
   "metadata": {},
   "outputs": [],
   "source": [
    "# a노드에 b, c, d가 연결되어 있으면, graph[a] = [b, c, d]\n",
    "graph = [\n",
    "    [],   # 노상관\n",
    "    [2, 3, 8],  # 1-2, 1-3, 1-8\n",
    "    [1, 7],     #2\n",
    "    [1, 4, 5],  #3\n",
    "    [3, 5],     #4\n",
    "    [3, 4],     #5\n",
    "    [7],        #6\n",
    "    [2, 6, 8],  #7\n",
    "    [1, 7],     #8\n",
    "]"
   ]
  },
  {
   "cell_type": "markdown",
   "id": "d7057adf",
   "metadata": {},
   "source": [
    "## 탐색 방법\n",
    "\n",
    "    1. 큐 생성\n",
    "    2. 시작 노드를 큐에 넣고 방문처리\n",
    "    \n",
    "    3. 큐에 대해 반복\n",
    "        4. 큐에서 하나 v에 뽑고, 출력 처리\n",
    "        \n",
    "        5. v의 인접노드 i 순회\n",
    "            6. i가 방문 되지 않았다면, 큐에 넣고 방문 처리"
   ]
  },
  {
   "cell_type": "code",
   "execution_count": 4,
   "id": "83d60ce1",
   "metadata": {},
   "outputs": [
    {
     "name": "stdout",
     "output_type": "stream",
     "text": [
      "1 2 3 8 7 4 5 6 "
     ]
    }
   ],
   "source": [
    "from collections import deque\n",
    "\n",
    "visited = [False]*9\n",
    "\n",
    "def bfs(graph, start, visited):\n",
    "    \n",
    "    queue = deque([start]) \n",
    "    visited[start] = True  # 큐 넣고 방문처리\n",
    "    \n",
    "    while queue:        \n",
    "        v = queue.popleft()  \n",
    "        print(v, end=' ')    # 꺼내서 출력\n",
    "        \n",
    "        for i in graph[v]:   # 꺼낸 v에 인접한 내용물 순회\n",
    "            if not visited[i]:  # 방문 안한 것들은\n",
    "                queue.append(i) \n",
    "                visited[i] = True  # 큐 넣고 방문처리\n",
    "            \n",
    "\n",
    "bfs(graph, 1, visited)"
   ]
  },
  {
   "cell_type": "markdown",
   "id": "9b36ef60",
   "metadata": {},
   "source": [
    "## dfs와 개념적 차이\n",
    "\n",
    "* 위 그래프처럼 노드 1에 [2, 3, 8]이 연결되어 있을 때, \n",
    "    * dfs는 for문 2, 3, 8을 순서대로 도는 과정에서\n",
    "        * 2 호출시, 3, 8을 돌기 전에 재귀로 dfs(2)로 2에 연결된 노드를 방문하는 것이고,\n",
    "    * bfs는 for문 2, 3, 8이 전부 큐에 들어간 후, 전부 방문처리 되고 난 후에, 큐에서 2를 꺼내, 연결된 노드를 방문하는 방식"
   ]
  }
 ],
 "metadata": {
  "kernelspec": {
   "display_name": "Python 3",
   "language": "python",
   "name": "python3"
  },
  "language_info": {
   "codemirror_mode": {
    "name": "ipython",
    "version": 3
   },
   "file_extension": ".py",
   "mimetype": "text/x-python",
   "name": "python",
   "nbconvert_exporter": "python",
   "pygments_lexer": "ipython3",
   "version": "3.8.8"
  }
 },
 "nbformat": 4,
 "nbformat_minor": 5
}
