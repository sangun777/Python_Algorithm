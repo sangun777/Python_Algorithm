{
 "cells": [
  {
   "cell_type": "markdown",
   "metadata": {},
   "source": [
    "# 다이나믹 프로그래밍(DP)\n",
    "    - 한번 계산한 문제는 다시 계산하지 않도록 하는 알고리즘\n",
    "    - 컴퓨터에서는 연산속도와 메모리 공간을 최대한으로 활용할 수 있는 효율적인 알고리즘을 짜야함\n",
    "    - DP는 특정 문제에서 메모리를 조금 더쓰고, 연산속도를 비약적으로 상승시킴\n",
    "\n",
    "    - DP의 2가지 방식 : Top-down, Bottom-up\n",
    "    - 메모이제이션(Memoization) : DP를 위해 자주 사용되는 기법\n",
    "    - 다이나믹은 \"프로그램이 실행되는 도중에\" 라는 의미"
   ]
  },
  {
   "cell_type": "markdown",
   "metadata": {},
   "source": [
    "## DP 이코다 기본 예제1) 피보나치수"
   ]
  },
  {
   "cell_type": "markdown",
   "metadata": {},
   "source": [
    "### 일반적 피보나치수열 점화식 코드(DP 적용전)"
   ]
  },
  {
   "cell_type": "code",
   "execution_count": 1,
   "metadata": {},
   "outputs": [
    {
     "name": "stdout",
     "output_type": "stream",
     "text": [
      "3\n"
     ]
    }
   ],
   "source": [
    "def fibo(x):\n",
    "    if x==1 or x==2:\n",
    "        return 1\n",
    "    return fibo(x-1)+fibo(x-2)\n",
    "\n",
    "print(fibo(4))"
   ]
  },
  {
   "cell_type": "markdown",
   "metadata": {},
   "source": [
    "* 문제점\n",
    "    - fibo(n)의 n이 커질수록 시간복잡도가 기하급수적으로 커짐\n",
    "    - O(2^n) 지수시간 필요\n",
    "    - N=30이면 10억개의 연산 필요\n",
    "    - N=6일 때, 함수 호출 과정"
   ]
  },
  {
   "cell_type": "markdown",
   "metadata": {},
   "source": [
    "### 탑다운방식, 메모이제이션을 활용한 코드(DP 적용후)"
   ]
  },
  {
   "cell_type": "code",
   "execution_count": 2,
   "metadata": {},
   "outputs": [
    {
     "name": "stdout",
     "output_type": "stream",
     "text": [
      "218922995834555169026\n"
     ]
    }
   ],
   "source": [
    "# 메모이제이션용 리스트 초기화\n",
    "# 함수 밖에 있는 것에 유의\n",
    "d = [0]*100\n",
    "\n",
    "def fibo(x):\n",
    "    \n",
    "    # 종료조건(x=1 or 2)\n",
    "    if x==1 or x==2:\n",
    "        return 1\n",
    "    \n",
    "    # 계산된 적이 있으면 그대로 반환\n",
    "    if d[x] !=0:\n",
    "        return d[x]\n",
    "    \n",
    "    # 아직 계산되지 않았을 때 계산\n",
    "    d[x] = fibo(x-1) + fibo(x-2)\n",
    "    \n",
    "    return d[x]\n",
    "\n",
    "print(fibo(99))"
   ]
  },
  {
   "cell_type": "markdown",
   "metadata": {},
   "source": [
    "###  보텀업 방식 코드\n",
    "- 같은말로 **상향식** 이라고도 함\n",
    "- 보텀업방식이 전형적인 DP 방식임\n",
    "- 보텀업 방식에서 사용되는 결과 저장용 리스트를 **'DP 테이블'** 이라고 부름\n",
    "- 가능하면 탑다운 보다 보텀업 방식을 쓰는 것을 권장함\n",
    "    - 시스템상 재귀 함수의 스택 크기가 한정될 수 있으므로\n",
    "        - 재귀 횟수에 따라 재귀 함수 깊이 오류(recursion depth) 발생 가능함\n",
    "        - 파이썬은 sys.setrecursion()으로 재귀 제한을 완화할 수 있다"
   ]
  },
  {
   "cell_type": "code",
   "execution_count": 10,
   "metadata": {},
   "outputs": [
    {
     "name": "stdout",
     "output_type": "stream",
     "text": [
      "218922995834555169026\n"
     ]
    }
   ],
   "source": [
    "d = [0]*100\n",
    "\n",
    "d[1] = 1\n",
    "d[2] = 1\n",
    "n=99\n",
    "\n",
    "for i in range(3, n+1):\n",
    "    d[i] = d[i-1] + d[i-2]\n",
    "    \n",
    "print(d[n])"
   ]
  },
  {
   "cell_type": "markdown",
   "metadata": {},
   "source": [
    "### 코드 호출 수 비교"
   ]
  },
  {
   "cell_type": "markdown",
   "metadata": {},
   "source": [
    "* 점화식 방식"
   ]
  },
  {
   "cell_type": "code",
   "execution_count": 9,
   "metadata": {},
   "outputs": [
    {
     "name": "stdout",
     "output_type": "stream",
     "text": [
      "f(6) f(5) f(4) f(3) f(2) f(1) f(2) f(3) f(2) f(1) f(4) f(3) f(2) f(1) f(2) 8\n"
     ]
    }
   ],
   "source": [
    "def fibo(x):\n",
    "    print('f(' + str(x) + ')', end=' ')   # 코드호출 확인 코드\n",
    "    if x==1 or x==2:\n",
    "        return 1\n",
    "    return fibo(x-1)+fibo(x-2)\n",
    "\n",
    "print(fibo(6))"
   ]
  },
  {
   "cell_type": "markdown",
   "metadata": {},
   "source": [
    " * 탑다운 방식에서 호출되는 함수 확인 코드"
   ]
  },
  {
   "cell_type": "code",
   "execution_count": 8,
   "metadata": {},
   "outputs": [
    {
     "name": "stdout",
     "output_type": "stream",
     "text": [
      "f(6) f(5) f(4) f(3) f(2) f(1) f(2) f(3) f(4) 8\n"
     ]
    }
   ],
   "source": [
    "# 메모이제이션용 리스트 초기화\n",
    "# 함수 밖에 있는 것에 유의\n",
    "d = [0]*100\n",
    "\n",
    "def fibo(x):\n",
    "    print('f(' + str(x) + ')', end=' ')     # 코드호출 확인 코드\n",
    "    \n",
    "    # 종료조건(x=1 or 2)\n",
    "    if x==1 or x==2:\n",
    "        return 1\n",
    "    \n",
    "    # 계산된 적이 있으면 그대로 반환\n",
    "    if d[x] !=0:\n",
    "        return d[x]\n",
    "    \n",
    "    # 아직 계산되지 않았을 때 계산\n",
    "    d[x] = fibo(x-1) + fibo(x-2)\n",
    "    \n",
    "    return d[x]\n",
    "\n",
    "print(fibo(6))"
   ]
  },
  {
   "cell_type": "markdown",
   "metadata": {},
   "source": [
    " * 보텁업 방식"
   ]
  },
  {
   "cell_type": "code",
   "execution_count": 13,
   "metadata": {},
   "outputs": [
    {
     "name": "stdout",
     "output_type": "stream",
     "text": [
      "f(3) f(4) f(5) f(6) 8\n"
     ]
    }
   ],
   "source": [
    "d = [0]*100\n",
    "\n",
    "d[1] = 1\n",
    "d[2] = 1\n",
    "n=6\n",
    "\n",
    "for i in range(3, n+1):\n",
    "    print('f(' + str(i) + ')', end=' ')     # 코드호출 확인 코드\n",
    "    d[i] = d[i-1] + d[i-2]\n",
    "    \n",
    "print(d[n])"
   ]
  },
  {
   "cell_type": "markdown",
   "metadata": {},
   "source": [
    "### 점화식과 DP 시간 비교"
   ]
  },
  {
   "cell_type": "code",
   "execution_count": 17,
   "metadata": {},
   "outputs": [
    {
     "name": "stdout",
     "output_type": "stream",
     "text": [
      "9227465\n",
      "방법1 재귀: 2.423806초 걸렸습니다.\n",
      "9227465\n",
      "방법2 탑다운: 0.000214초 걸렸습니다.\n",
      "9227465\n",
      "방법3 보텁업: 0.000190초 걸렸습니다.\n"
     ]
    }
   ],
   "source": [
    "import timeit\n",
    "\n",
    "\n",
    "# 피보나치 수 35 계산_방법1_그냥 재귀\n",
    "\n",
    "start_time = timeit.default_timer()    # 시작 시간 체크\n",
    "\n",
    "def fibo_1(x):\n",
    "    if x==1 or x==2:\n",
    "        return 1\n",
    "    return fibo_1(x-1)+fibo_1(x-2)\n",
    "\n",
    "print(fibo_1(35))\n",
    "    \n",
    "terminate_time = timeit.default_timer()    # 종료 시간 체크\n",
    "\n",
    "print(\"방법1 재귀: %f초 걸렸습니다.\" % (terminate_time-start_time))\n",
    "\n",
    "\n",
    "# 피보나치 수 35 계산_방법2_탑다운\n",
    "\n",
    "start_time = timeit.default_timer()    # 시작 시간 체크\n",
    "\n",
    "d = [0]*100\n",
    "\n",
    "def fibo_2(x):\n",
    "    \n",
    "    # 종료조건(x=1 or 2)\n",
    "    if x==1 or x==2:\n",
    "        return 1\n",
    "    \n",
    "    # 계산된 적이 있으면 그대로 반환\n",
    "    if d[x] !=0:\n",
    "        return d[x]\n",
    "    \n",
    "    # 아직 계산되지 않았을 때 계산\n",
    "    d[x] = fibo_2(x-1) + fibo_2(x-2)\n",
    "    \n",
    "    return d[x]\n",
    "\n",
    "print(fibo_2(35))\n",
    "terminate_time = timeit.default_timer()    # 종료 시간 체크\n",
    "\n",
    "print(\"방법2 탑다운: %f초 걸렸습니다.\" % (terminate_time-start_time))\n",
    "\n",
    "\n",
    "# 피보나치 수 35 계산_방법3_보텀업다운\n",
    "\n",
    "start_time = timeit.default_timer()    # 시작 시간 체크\n",
    "\n",
    "d = [0]*100\n",
    "\n",
    "d[1] = 1\n",
    "d[2] = 1\n",
    "n=35\n",
    "\n",
    "for i in range(3, n+1):\n",
    "    d[i] = d[i-1] + d[i-2]\n",
    "    \n",
    "print(d[n])\n",
    "\n",
    "terminate_time = timeit.default_timer()    # 종료 시간 체크\n",
    "\n",
    "print(\"방법3 보텁업: %f초 걸렸습니다.\" % (terminate_time-start_time))"
   ]
  },
  {
   "cell_type": "markdown",
   "metadata": {},
   "source": [
    "시행 할때마다 탑다운이 빠를때도, 보텀업이 빠를때도 있음  \n",
    "(평균적으로 보텀업이 빠른듯?)"
   ]
  },
  {
   "cell_type": "code",
   "execution_count": null,
   "metadata": {},
   "outputs": [],
   "source": []
  }
 ],
 "metadata": {
  "kernelspec": {
   "display_name": "Python 3",
   "language": "python",
   "name": "python3"
  },
  "language_info": {
   "codemirror_mode": {
    "name": "ipython",
    "version": 3
   },
   "file_extension": ".py",
   "mimetype": "text/x-python",
   "name": "python",
   "nbconvert_exporter": "python",
   "pygments_lexer": "ipython3",
   "version": "3.9.0"
  }
 },
 "nbformat": 4,
 "nbformat_minor": 4
}
