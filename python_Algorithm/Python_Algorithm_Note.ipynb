{
 "cells": [
  {
   "cell_type": "markdown",
   "metadata": {},
   "source": [
    "# DP (Dynamic Programming, 동적 계획법)\n",
    "\n",
    "     * 최적화 기법 중 하나\n",
    "     * 문제를 여러개의 작은 문제로 쪼갠 후,   \n",
    "       작은 문제의 해결 답안을 테이블에 저장한 후 ,   \n",
    "       그 값을 가지고 최종 문제를 해결하는 방식"
   ]
  },
  {
   "cell_type": "markdown",
   "metadata": {},
   "source": [
    " * 예제 1) 피보나치 수"
   ]
  },
  {
   "cell_type": "code",
   "execution_count": 2,
   "metadata": {},
   "outputs": [],
   "source": [
    "def fibo(n):\n",
    "    \n",
    "    f = [0, 1]    # f : n번째 피보나치수를 저장하는 리스트\n",
    "    \n",
    "    for i in range (2, n+1):\n",
    "        f.append(f[i-1]+f[i-2])\n",
    "        \n",
    "    return f[n]"
   ]
  },
  {
   "cell_type": "code",
   "execution_count": 12,
   "metadata": {},
   "outputs": [
    {
     "name": "stdout",
     "output_type": "stream",
     "text": [
      "0 1 1 2 3 5 8 13 21 34 "
     ]
    }
   ],
   "source": [
    "for i in range(10):\n",
    "    print(fibo(i), end=' ')"
   ]
  },
  {
   "cell_type": "markdown",
   "metadata": {},
   "source": [
    "## 프로그래머스_DP_1 : N으로 표현\n",
    "    "
   ]
  },
  {
   "cell_type": "markdown",
   "metadata": {},
   "source": [
    "[제한사항]\n",
    "\n",
    "     * 수식에는 괄호와 사칙연산만 가능하며 나누기 연산에서 나머지는 무시합니다.\n",
    "     * 최솟값이 8보다 크면 -1을 return 합니다.\n",
    "     "
   ]
  },
  {
   "cell_type": "code",
   "execution_count": null,
   "metadata": {},
   "outputs": [],
   "source": [
    "# N : 연산 재료 (0~9 사이 수)\n",
    "# number : 만들어야 되는 수 (0 ~ 32000 사이 수)\n",
    "\n",
    "def solution(N, number):\n",
    "    \n",
    "    answer = 0\n",
    "    \n",
    "    # list_a : 각 요소는 N 사용 횟수별 경우의 수\n",
    "    list_a = []\n",
    "    \n",
    "    for i in range(8):\n",
    "        list_a.append([int(str(N)*(i+1))])\n",
    "        \n",
    "        if int(str(N)*(i+1)) == number:\n",
    "            return i+1\n",
    "        \n",
    "        \n",
    "    for j in range(1, 8):\n",
    "        for k in range(len(list_a[]))\n",
    "        \n",
    "        list_a.append(list_a[j])\n",
    "        \n",
    "    \n",
    "    \n",
    "    \n",
    "    if answer > 8:\n",
    "        answer = -1\n",
    "    \n",
    "    return answer"
   ]
  },
  {
   "cell_type": "code",
   "execution_count": 16,
   "metadata": {},
   "outputs": [
    {
     "data": {
      "text/plain": [
       "[[3], [33], [333], [3333], [33333]]"
      ]
     },
     "execution_count": 16,
     "metadata": {},
     "output_type": "execute_result"
    }
   ],
   "source": [
    "list_b = []\n",
    "\n",
    "b = 3\n",
    "\n",
    "for i in range(5):\n",
    "    list_b.append([int(str(b)*(i+1))])\n",
    "    \n",
    "list_b"
   ]
  },
  {
   "cell_type": "markdown",
   "metadata": {},
   "source": [
    "# DFS / BFS 문제"
   ]
  },
  {
   "cell_type": "markdown",
   "metadata": {},
   "source": [
    "### 이취코 - Q15 특정 거리의 도시 찾기\n",
    "\n",
    "    * N : 도시 갯수\n",
    "    * K : 입력된 최단 거리\n",
    "    * X : 출발 도시\n",
    "        \n",
    "    [문제]\n",
    "     * 출발 도시 X에서 최단 거리 K인 모든 도시번호 출력"
   ]
  },
  {
   "cell_type": "code",
   "execution_count": null,
   "metadata": {},
   "outputs": [],
   "source": [
    "# Test case 1\n",
    "input1 = \"\"\"\n",
    "4 4 2 1\n",
    "1 2\n",
    "1 3\n",
    "2 3\n",
    "2 4\n",
    "\"\"\""
   ]
  },
  {
   "cell_type": "markdown",
   "metadata": {},
   "source": [
    "### Q15. 풀이\n",
    "\n",
    "    * '모든 도로의 거리는 1'이라는 조건 때문에 BFS 사용 가능\n",
    "    * 시간복잡도 O(N+M)\n",
    "        * N : 노드의 갯수 (최대 : 300,000)\n",
    "        * M : 간선의 갯수 (최대 : 1,000,000)"
   ]
  },
  {
   "cell_type": "code",
   "execution_count": null,
   "metadata": {},
   "outputs": [],
   "source": [
    "from collections import deque\n",
    "\n",
    "# 도시 수, 간선 수, 최단거리, 출발도시\n",
    "n, m, k, x = map(int, input().split())\n",
    "graph = [ [] for _ in range(n+1) ]\n",
    "\n",
    "# 모든 도로(간선) 정보 입력 받기\n",
    "for _ in range(m):    # 간선 수 m 만큼 입력 받기\n",
    "    a, b = map(int, input.split())\n",
    "    graph[a].append(b)    # graph의 인덱스(a)는 시작점, 들어있는 값은 \"시작점으로부터 도로가 있는 지점\"을 의미\n",
    "    \n",
    "# 모든 도시에 대한 최단 거리 초기화\n",
    "distance = [-1]*(n+1)\n",
    "distance[x] = 0    # x는 시작점이고, 0으로 초기화\n",
    "\n",
    "# 너비 우선 탐색(BFS) 수정\n",
    "q = deque([x])\n",
    "while q:\n",
    "    now = q.popleft()    # now : 현재 도시,            # popleft()를 통해 선입 선출 구현\n",
    "    \n",
    "    for next_node in graph[now]:                      # 현재 도시에서 이동할 수 있는 모든 도시를 확인\n",
    "        \n",
    "        # 아직 방문하지 않은 도시라면\n",
    "        if distance[next_node] == -1:\n",
    "            distance[next_node] = distance[now] + 1    # 간선이 있으면 거리를 +1 하고\n",
    "            q.append(next_node)                        # 큐에다가 현재 노드 집어 넣기\n",
    "            \n",
    "# 최단 거리가 K"
   ]
  },
  {
   "cell_type": "code",
   "execution_count": 18,
   "metadata": {},
   "outputs": [
    {
     "name": "stdout",
     "output_type": "stream",
     "text": [
      "4 4 2 1\n",
      "4\n",
      "4\n",
      "2\n",
      "1\n"
     ]
    }
   ],
   "source": [
    "from collections import deque\n",
    "\n",
    "# 도시 수, 간선 수, 최단거리, 출발도시\n",
    "n, m, k, x = map(int, input().split())\n",
    "print(n)\n",
    "print(m)\n",
    "print(k)\n",
    "print(x)"
   ]
  },
  {
   "cell_type": "code",
   "execution_count": 19,
   "metadata": {},
   "outputs": [
    {
     "name": "stdout",
     "output_type": "stream",
     "text": [
      "123\n",
      "234\n",
      "a:  123\n",
      "b:  234\n"
     ]
    }
   ],
   "source": [
    "a = input()\n",
    "b = input()\n",
    "print(\"a: \", a)\n",
    "print(\"b: \", b)"
   ]
  },
  {
   "cell_type": "code",
   "execution_count": 28,
   "metadata": {},
   "outputs": [
    {
     "name": "stdout",
     "output_type": "stream",
     "text": [
      "1 2\n",
      "1 3\n",
      "2 3\n",
      "2 4\n"
     ]
    },
    {
     "data": {
      "text/plain": [
       "[[], [2, 3], [3, 4], [], []]"
      ]
     },
     "execution_count": 28,
     "metadata": {},
     "output_type": "execute_result"
    }
   ],
   "source": [
    "graph = [ [] for _ in range(n+1) ]\n",
    "\n",
    "# 모든 도로(간선) 정보 입력 받기\n",
    "for _ in range(m):    # 간선 수 m 만큼 입력 받기\n",
    "    a, b = map(int, input().split())\n",
    "    graph[a].append(b)    # graph의 인덱스(a)는 시작점, 들어있는 값은 \"시작점으로부터 도로가 있는 지점\"을 의미\n",
    "    \n",
    "graph"
   ]
  },
  {
   "cell_type": "code",
   "execution_count": 29,
   "metadata": {},
   "outputs": [
    {
     "data": {
      "text/plain": [
       "[-1, -1, -1, -1, -1]"
      ]
     },
     "execution_count": 29,
     "metadata": {},
     "output_type": "execute_result"
    }
   ],
   "source": [
    "# 모든 도시에 대한 최단 거리 초기화\n",
    "distance = [-1]*(n+1)\n",
    "distance"
   ]
  },
  {
   "cell_type": "code",
   "execution_count": null,
   "metadata": {},
   "outputs": [],
   "source": []
  },
  {
   "cell_type": "code",
   "execution_count": null,
   "metadata": {},
   "outputs": [],
   "source": []
  },
  {
   "cell_type": "code",
   "execution_count": null,
   "metadata": {},
   "outputs": [],
   "source": []
  },
  {
   "cell_type": "code",
   "execution_count": null,
   "metadata": {},
   "outputs": [],
   "source": []
  },
  {
   "cell_type": "code",
   "execution_count": null,
   "metadata": {},
   "outputs": [],
   "source": []
  },
  {
   "cell_type": "code",
   "execution_count": null,
   "metadata": {},
   "outputs": [],
   "source": []
  },
  {
   "cell_type": "code",
   "execution_count": null,
   "metadata": {},
   "outputs": [],
   "source": []
  },
  {
   "cell_type": "code",
   "execution_count": null,
   "metadata": {},
   "outputs": [],
   "source": []
  }
 ],
 "metadata": {
  "kernelspec": {
   "display_name": "Python 3",
   "language": "python",
   "name": "python3"
  },
  "language_info": {
   "codemirror_mode": {
    "name": "ipython",
    "version": 3
   },
   "file_extension": ".py",
   "mimetype": "text/x-python",
   "name": "python",
   "nbconvert_exporter": "python",
   "pygments_lexer": "ipython3",
   "version": "3.8.5"
  }
 },
 "nbformat": 4,
 "nbformat_minor": 4
}
