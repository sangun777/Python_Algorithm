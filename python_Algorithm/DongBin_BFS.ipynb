{
 "cells": [
  {
   "cell_type": "markdown",
   "id": "47258f39",
   "metadata": {},
   "source": [
    "# BFS(너비 우선 탐색, Breath First Search)\n",
    "\n",
    "    * 맹목적인 탐색, 최단거리 탐색 시 사용\n",
    "    * 큐(queue, FIFO 구조)가 필요함\n",
    "    \n",
    "## 탐색 방법\n",
    "\n",
    "    1. 처음 방문한 노드를 큐에 넣어 주고, 노드를 방문처리 해준다\n",
    "    2. 큐에서 노드를 꺼내서 출력, 꺼낸 노드에 연결된 노드 중 방문하지 않은 노드를 차례대로 모두 큐에 넣고, 방문처리를 해준다\n",
    "    3. 2를 반복한다\n",
    "    "
   ]
  },
  {
   "cell_type": "markdown",
   "id": "e6ff410c",
   "metadata": {},
   "source": [
    "### 예제"
   ]
  },
  {
   "cell_type": "code",
   "execution_count": 7,
   "id": "74cb6a08",
   "metadata": {},
   "outputs": [
    {
     "name": "stdout",
     "output_type": "stream",
     "text": [
      "1 2 3 4 5 6 7 "
     ]
    }
   ],
   "source": [
    "import queue\n",
    "\n",
    "# [1, 2], [2, 1]는 노드 1과 노드 2가 연결된 것을 의미\n",
    "Nodes = [[1, 2], [2, 1], [1, 3], [3, 1], [2, 3], [3, 2], [2, 4], [4, 2], [2, 5], [5, 2], [3, 6], [6, 3], [3, 7], [7, 3], [6, 7], [7, 6]]\n",
    "\n",
    "num = 7   # 노드의 갯수\n",
    "c = [0 for i in range(num+1)]    # c : 방문처리를 위한 리스트, 인덱스를 7(노드 갯수)만큼 쓸수 있도록 초기화\n",
    "\n",
    "\n",
    "def bfs(start):\n",
    "    q = queue.Queue()\n",
    "    q.put(start)   # 큐에 데이터 넣기\n",
    "    c[start] = 1   # 방문처리 \n",
    "    while not q.empty():\n",
    "        x = q.get()   # 큐에서 하나를 꺼내서 담고\n",
    "        print(x, end=\" \")\n",
    "        edges = [i for i in Nodes if i[0]==x]    # 노드 x와 인접한 간선 모음\n",
    "        for i in range(len(edges)): # x와 인접한 노드 수만큼 반복\n",
    "            y = edges[i][1]   # x의 인접노드\n",
    "            if c[y] == 0:\n",
    "                q.put(y)    # x와 인접한 노드 중 방문하지 않은 노드 큐에 넣기\n",
    "                c[y] = 1    # x와 인접한 노드 중 방문하지 않은 노드 방문처리\n",
    "                \n",
    "bfs(1)\n",
    "            "
   ]
  },
  {
   "cell_type": "markdown",
   "id": "d794d694",
   "metadata": {},
   "source": [
    "### 노드가 1과 연결된 노드 갯수 구하기"
   ]
  },
  {
   "cell_type": "code",
   "execution_count": 3,
   "id": "f3f31cfd",
   "metadata": {},
   "outputs": [
    {
     "name": "stdout",
     "output_type": "stream",
     "text": [
      "[[1, 2], [1, 3]]\n",
      "2\n"
     ]
    }
   ],
   "source": [
    "Nodes = [[1, 2], [2, 1], [1, 3], [3, 1], [2, 3], [3, 2], [2, 4], [4, 2], [2, 5], [5, 2], [3, 6], [6, 3], [3, 7], [7, 3], [6, 7], [7, 6]]\n",
    "\n",
    "a = [i for i in Nodes if i[0]==1]\n",
    "\n",
    "print(a)\n",
    "print(len(a))"
   ]
  },
  {
   "cell_type": "code",
   "execution_count": 8,
   "id": "7e9ed5cb",
   "metadata": {},
   "outputs": [],
   "source": [
    "a = [[1, 2], [4, 5], [5, 6]]"
   ]
  },
  {
   "cell_type": "code",
   "execution_count": 9,
   "id": "df6ba6bf",
   "metadata": {},
   "outputs": [
    {
     "data": {
      "text/plain": [
       "4"
      ]
     },
     "execution_count": 9,
     "metadata": {},
     "output_type": "execute_result"
    }
   ],
   "source": [
    "a[1][0]"
   ]
  }
 ],
 "metadata": {
  "kernelspec": {
   "display_name": "Python 3",
   "language": "python",
   "name": "python3"
  },
  "language_info": {
   "codemirror_mode": {
    "name": "ipython",
    "version": 3
   },
   "file_extension": ".py",
   "mimetype": "text/x-python",
   "name": "python",
   "nbconvert_exporter": "python",
   "pygments_lexer": "ipython3",
   "version": "3.8.8"
  }
 },
 "nbformat": 4,
 "nbformat_minor": 5
}
