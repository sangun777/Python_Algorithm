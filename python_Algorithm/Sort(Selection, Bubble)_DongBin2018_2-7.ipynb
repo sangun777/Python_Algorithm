{
 "cells": [
  {
   "cell_type": "markdown",
   "metadata": {},
   "source": [
    "# 동빈나 2018 알고리즘 강의"
   ]
  },
  {
   "cell_type": "markdown",
   "metadata": {},
   "source": [
    "### 선택 정렬(selection Sort)\n",
    "    * 처음부터 끝까지 탐색하여 나온 최솟값을 맨 앞으로 보냄\n",
    "    * 맨 앞에 위치한 최솟값을 제외한 채 반복\n",
    "    * 시간 복잡도 : O(n^2)"
   ]
  },
  {
   "cell_type": "code",
   "execution_count": 2,
   "metadata": {},
   "outputs": [],
   "source": [
    "in_data = [1, 10, 5, 8, 7, 6, 4, 3, 2, 9]"
   ]
  },
  {
   "cell_type": "code",
   "execution_count": 3,
   "metadata": {},
   "outputs": [
    {
     "name": "stdout",
     "output_type": "stream",
     "text": [
      "[1, 2, 3, 4, 5, 6, 7, 8, 9, 10]\n"
     ]
    }
   ],
   "source": [
    "for i in range(10):\n",
    "    v_min = 9999\n",
    "    for j in range(i, 10):\n",
    "        if v_min > in_data[j]:\n",
    "            v_min = in_data[j]\n",
    "            index = j\n",
    "            \n",
    "    tmp = in_data[i]              # 맨 앞의 값 임시 저장\n",
    "    in_data[i] = in_data[index]   # 최솟값을 맨 앞으로 보냄\n",
    "    in_data[index] = tmp          # 최솟값이 있던 위치에 맨 앞 값을 넣음\n",
    "            \n",
    "\n",
    "print(in_data)"
   ]
  },
  {
   "cell_type": "markdown",
   "metadata": {},
   "source": [
    "### 버블 정렬(Bubble Sort)\n",
    "    * 왼쪽 부터 2개씩 비교해서 작은 것 왼쪽, 큰 것 오른쪽으로 옮김\n",
    "    * 이렇게 한바뀌 돌면 제일 큰 값이 맨 오른쪽으로 가짐\n",
    "    * 맨 뒤 값 제외 하고 반복\n",
    "    * 시간 복잡도 : O(n^2)"
   ]
  },
  {
   "cell_type": "code",
   "execution_count": 4,
   "metadata": {},
   "outputs": [],
   "source": [
    "in_data = [1, 10, 5, 8, 7, 6, 4, 3, 2, 9]"
   ]
  },
  {
   "cell_type": "code",
   "execution_count": 6,
   "metadata": {},
   "outputs": [
    {
     "name": "stdout",
     "output_type": "stream",
     "text": [
      "[1, 2, 3, 4, 5, 6, 7, 8, 9, 10]\n"
     ]
    }
   ],
   "source": [
    "# j, j+1 비교\n",
    "# 0 1 -> 1 2 -> 2 3 -> ... (9 까지)\n",
    "# 0 1 -> 1 2 -> 2 3 -> ... (8 까지)\n",
    "# 0 1 -> 1 2 -> 2 3 -> ... (7 까지)\n",
    "\n",
    "for i in range(10):\n",
    "    for j in range(0, 9-i):\n",
    "        if in_data[j] > in_data[j+1]:\n",
    "            tmp = in_data[j+1]\n",
    "            in_data[j+1] = in_data[j]\n",
    "            in_data[j] = tmp\n",
    "            \n",
    "print(in_data)"
   ]
  },
  {
   "cell_type": "markdown",
   "metadata": {},
   "source": [
    "### 삽입 정렬(Insertion Sort)\n",
    "\n",
    "* 개념\n",
    "    * 앞에서부터 쭉 읽으면서, 정렬이 되어 있는 것은 냅두고,\n",
    "    * 정렬이 안된 원소를 적절한 공간에 삽입하는 것\n",
    "    \n",
    "* 알고리즘 구현\n",
    "    * 왼쪽 부터 차례로 선택\n",
    "    * 선택된 값을 바로 왼쪽 값과 비교해서,\n",
    "        * 왼쪽보다 크면 냅두고,\n",
    "        * 왼쪽보다 작으면 변경하고, 다음 왼쪽과 다시 비교해서 반복\n",
    "        * 결과적으로 루프 한번 돌 때 마다 루프에서 선택된 값 중 가장 작은 값이 가장 왼쪽으로 가계됨\n",
    "        \n",
    "        \n",
    "\n",
    "* 특징\n",
    "    * 선택 정렬과 버블 정렬은 무조건 위치를 바꾸지만,\n",
    "    * 삽입 정렬은 필요할 때만 swap을 수행\n",
    "    * 특정한 상황(이미 정렬이 많이 되어 있는 경우)에서 빠름\n",
    "    * 다른 O(n^2) 알고리즘 중에서는 가장 효율적임\n",
    "    * 시간 복잡도 : O(n^2)"
   ]
  },
  {
   "cell_type": "markdown",
   "metadata": {},
   "source": [
    "![](insertionSort.png)"
   ]
  },
  {
   "cell_type": "code",
   "execution_count": 11,
   "metadata": {},
   "outputs": [],
   "source": [
    "in_data = [1, 10, 5, 8, 7, 6, 4, 3, 2, 9]"
   ]
  },
  {
   "cell_type": "code",
   "execution_count": 15,
   "metadata": {},
   "outputs": [
    {
     "name": "stdout",
     "output_type": "stream",
     "text": [
      "[1, 2, 3, 4, 5, 6, 7, 8, 9, 10]\n"
     ]
    }
   ],
   "source": [
    "# j, j+1 비교\n",
    "# (0 부터) 0 1\n",
    "# (1 부터) 0 1 <- 1 2 \n",
    "# (2 부터) 0 1 <- 1 2 <- 2 3\n",
    "\n",
    "for i in range(9):\n",
    "    j = i   # i 부터 시작해서 i 오른쪽으로 차례차례 비교할 것임\n",
    "    while(j >= 0 and in_data[j] > in_data[j+1]):\n",
    "        tmp = in_data[j]\n",
    "        in_data[j] = in_data[j+1]\n",
    "        in_data[j+1]=tmp\n",
    "        j-=1\n",
    "\n",
    "print(in_data)     "
   ]
  },
  {
   "cell_type": "markdown",
   "metadata": {},
   "source": [
    "## 퀵 정렬(Quick Sort)\n",
    "* 개념\n",
    "    * 왼쪽부터 차례로 피벗으로 설정\n",
    "    * 피벗 제외하고 나머지 숫자 중에서  \n",
    "        * 왼쪽부터 피벗보다 큰 값을 찾고,\n",
    "        * 오른쪽부터 왼쪽으로 피벗보다 작은 값을 찾음\n",
    "        \n",
    "        * 각 인덱스를 비교해서, \n",
    "            큰 값과 작은 값의 인덱스가 역전되지 않았으면, 서로 바꿈\n",
    "            큰 값과 작은 값의 인덱스가 역전되었으면, 피벗과 작은 값을 바꿈\n",
    "            그 후에는 피벗 기준으로 왼쪽, 오른쪽으로 분할하여 각각 퀵정렬 로직 반복\n",
    "        \n",
    "    \n",
    "    * 시간 복잡도 : O(n*logn)\n",
    "        * 이것은 평균 속도이고, 항상 n*logn을 보장해 주는 것은 아님"
   ]
  },
  {
   "cell_type": "markdown",
   "metadata": {},
   "source": [
    "3 7 8 1 5 9 6 10 2 4  # 피벗:3, 왼쪽에서 피벗보다 큰 값:7, 오른쪽에서 피벗보다 작은 값:2 => 7, 2 바꿈  \n",
    "\n",
    "3 2 8 1 5 9 6 10 7 4  # 피벗:3, 왼쪽에서 피벗보다 큰 값:8, 오른쪽에서 피벗보다 작은 값:1 => 8, 1 바꿈  \n",
    "\n",
    "3 2 1 8 5 9 6 10 7 4  # 피벗:3, 왼쪽에서...:8, 오른쪽에서...: 1  \n",
    "    => 작은 값의 인덱스가 큰 값의 인덱스보다 작음(엇갈림) => 작은 값(1)과 피벗(3)을 바꿈  \n",
    "    \n",
    "1 2 3 8 5 9 6 10 7 4  # 3을 기준으로 왼쪽, 오른쪽을 분할하여 각각 위 작업 수행"
   ]
  },
  {
   "cell_type": "code",
   "execution_count": 57,
   "metadata": {},
   "outputs": [],
   "source": [
    "data_1 = [3, 7, 8, 1, 5, 9, 6, 10, 2, 4]"
   ]
  },
  {
   "cell_type": "code",
   "execution_count": 58,
   "metadata": {},
   "outputs": [
    {
     "data": {
      "text/plain": [
       "10"
      ]
     },
     "execution_count": 58,
     "metadata": {},
     "output_type": "execute_result"
    }
   ],
   "source": [
    "len(data_1)"
   ]
  },
  {
   "cell_type": "markdown",
   "metadata": {},
   "source": [
    "## Line 11 줄 조건 순서에 따라 (i <= end를 뒤에 쓰면) Indexerror 발생!!!!\n",
    "\n",
    "        => 아무래도 조건(data[i] <= data[pivot] and i <= end) 에서\n",
    "       뒤에 있는 i > end 상황에서 and 앞에 있는 조건이 먼저 실행될 떄,\n",
    "       data[i]가 인덱스 초과가 발생해서 나타나는 것으로 생각됨"
   ]
  },
  {
   "cell_type": "code",
   "execution_count": 60,
   "metadata": {},
   "outputs": [
    {
     "name": "stdout",
     "output_type": "stream",
     "text": [
      "[1, 2, 3, 4, 5, 6, 7, 8, 9, 10]\n"
     ]
    }
   ],
   "source": [
    "def q_sort(data, start, end):\n",
    "    \n",
    "    if start >= end:\n",
    "        return\n",
    "    \n",
    "    pivot = start    \n",
    "    i = start + 1    # i : 왼쪽부터 찾는 인덱스\n",
    "    j = end          # j : 오른쪽부터 찾는 인덱스\n",
    "    \n",
    "    while (i<=j) :   # 엇갈릴 때까지(엇갈리지 않으면 계속해서) 반복\n",
    "        while(i <= end and data[i] <= data[pivot]):    # 피벗보다 큰 값을 만날 때까지 반복, i가 j보다 작을 때만 반복하므로, i가 data의 인덱스를 넘어가지는 않음\n",
    "            i+=1\n",
    "        while(data[j] >= data[pivot] and j > start):    # 피벗보다 작은 값을 만날 때까지 반복\n",
    "            j-=1\n",
    "        if i>j:    # 엇갈린 상태면, 피벗과 작은 값 바꿔줌\n",
    "            temp = data[j]\n",
    "            data[j] = data[pivot]\n",
    "            data[pivot] = temp\n",
    "        else:     \n",
    "            temp = data[j]\n",
    "            data[j] = data[i]\n",
    "            data[i] = temp\n",
    "            \n",
    "    q_sort(data, start, j-1)    # j: 피벗과 교환이 이루어진 지점 \n",
    "    q_sort(data, j+1, end)\n",
    "    \n",
    "q_sort(data_1, 0, len(data_1)-1)\n",
    "print(data_1)"
   ]
  },
  {
   "cell_type": "markdown",
   "metadata": {},
   "source": [
    "## Line 11 줄 조건 순서에 따라 Indexerror 발생!!!!\n",
    "    \n",
    "    => 아무래도 조건(data[i] <= data[pivot] and i <= end) 에서\n",
    "       뒤에 있는 i > end 상황에서 and 앞에 있는 조건이 먼저 실행될 떄,\n",
    "       data[i]가 인덱스 초과가 발생해서 나타나는 것으로 생각됨"
   ]
  },
  {
   "cell_type": "code",
   "execution_count": 62,
   "metadata": {},
   "outputs": [],
   "source": [
    "data_1 = [3, 7, 8, 1, 5, 9, 6, 10, 2, 4]"
   ]
  },
  {
   "cell_type": "code",
   "execution_count": 63,
   "metadata": {},
   "outputs": [
    {
     "data": {
      "text/plain": [
       "10"
      ]
     },
     "execution_count": 63,
     "metadata": {},
     "output_type": "execute_result"
    }
   ],
   "source": [
    "len(data_1)"
   ]
  },
  {
   "cell_type": "code",
   "execution_count": 64,
   "metadata": {},
   "outputs": [
    {
     "ename": "IndexError",
     "evalue": "list index out of range",
     "output_type": "error",
     "traceback": [
      "\u001b[1;31m---------------------------------------------------------------------------\u001b[0m",
      "\u001b[1;31mIndexError\u001b[0m                                Traceback (most recent call last)",
      "\u001b[1;32m<ipython-input-64-bfd66f5ae362>\u001b[0m in \u001b[0;36m<module>\u001b[1;34m\u001b[0m\n\u001b[0;32m     25\u001b[0m     \u001b[0mq_sort\u001b[0m\u001b[1;33m(\u001b[0m\u001b[0mdata\u001b[0m\u001b[1;33m,\u001b[0m \u001b[0mj\u001b[0m\u001b[1;33m+\u001b[0m\u001b[1;36m1\u001b[0m\u001b[1;33m,\u001b[0m \u001b[0mend\u001b[0m\u001b[1;33m)\u001b[0m\u001b[1;33m\u001b[0m\u001b[1;33m\u001b[0m\u001b[0m\n\u001b[0;32m     26\u001b[0m \u001b[1;33m\u001b[0m\u001b[0m\n\u001b[1;32m---> 27\u001b[1;33m \u001b[0mq_sort\u001b[0m\u001b[1;33m(\u001b[0m\u001b[0mdata_1\u001b[0m\u001b[1;33m,\u001b[0m \u001b[1;36m0\u001b[0m\u001b[1;33m,\u001b[0m \u001b[0mlen\u001b[0m\u001b[1;33m(\u001b[0m\u001b[0mdata_1\u001b[0m\u001b[1;33m)\u001b[0m\u001b[1;33m-\u001b[0m\u001b[1;36m1\u001b[0m\u001b[1;33m)\u001b[0m\u001b[1;33m\u001b[0m\u001b[1;33m\u001b[0m\u001b[0m\n\u001b[0m\u001b[0;32m     28\u001b[0m \u001b[0mprint\u001b[0m\u001b[1;33m(\u001b[0m\u001b[0mdata_1\u001b[0m\u001b[1;33m)\u001b[0m\u001b[1;33m\u001b[0m\u001b[1;33m\u001b[0m\u001b[0m\n",
      "\u001b[1;32m<ipython-input-64-bfd66f5ae362>\u001b[0m in \u001b[0;36mq_sort\u001b[1;34m(data, start, end)\u001b[0m\n\u001b[0;32m     23\u001b[0m \u001b[1;33m\u001b[0m\u001b[0m\n\u001b[0;32m     24\u001b[0m     \u001b[0mq_sort\u001b[0m\u001b[1;33m(\u001b[0m\u001b[0mdata\u001b[0m\u001b[1;33m,\u001b[0m \u001b[0mstart\u001b[0m\u001b[1;33m,\u001b[0m \u001b[0mj\u001b[0m\u001b[1;33m-\u001b[0m\u001b[1;36m1\u001b[0m\u001b[1;33m)\u001b[0m    \u001b[1;31m# j: 피벗과 교환이 이루어진 지점\u001b[0m\u001b[1;33m\u001b[0m\u001b[1;33m\u001b[0m\u001b[0m\n\u001b[1;32m---> 25\u001b[1;33m     \u001b[0mq_sort\u001b[0m\u001b[1;33m(\u001b[0m\u001b[0mdata\u001b[0m\u001b[1;33m,\u001b[0m \u001b[0mj\u001b[0m\u001b[1;33m+\u001b[0m\u001b[1;36m1\u001b[0m\u001b[1;33m,\u001b[0m \u001b[0mend\u001b[0m\u001b[1;33m)\u001b[0m\u001b[1;33m\u001b[0m\u001b[1;33m\u001b[0m\u001b[0m\n\u001b[0m\u001b[0;32m     26\u001b[0m \u001b[1;33m\u001b[0m\u001b[0m\n\u001b[0;32m     27\u001b[0m \u001b[0mq_sort\u001b[0m\u001b[1;33m(\u001b[0m\u001b[0mdata_1\u001b[0m\u001b[1;33m,\u001b[0m \u001b[1;36m0\u001b[0m\u001b[1;33m,\u001b[0m \u001b[0mlen\u001b[0m\u001b[1;33m(\u001b[0m\u001b[0mdata_1\u001b[0m\u001b[1;33m)\u001b[0m\u001b[1;33m-\u001b[0m\u001b[1;36m1\u001b[0m\u001b[1;33m)\u001b[0m\u001b[1;33m\u001b[0m\u001b[1;33m\u001b[0m\u001b[0m\n",
      "\u001b[1;32m<ipython-input-64-bfd66f5ae362>\u001b[0m in \u001b[0;36mq_sort\u001b[1;34m(data, start, end)\u001b[0m\n\u001b[0;32m     23\u001b[0m \u001b[1;33m\u001b[0m\u001b[0m\n\u001b[0;32m     24\u001b[0m     \u001b[0mq_sort\u001b[0m\u001b[1;33m(\u001b[0m\u001b[0mdata\u001b[0m\u001b[1;33m,\u001b[0m \u001b[0mstart\u001b[0m\u001b[1;33m,\u001b[0m \u001b[0mj\u001b[0m\u001b[1;33m-\u001b[0m\u001b[1;36m1\u001b[0m\u001b[1;33m)\u001b[0m    \u001b[1;31m# j: 피벗과 교환이 이루어진 지점\u001b[0m\u001b[1;33m\u001b[0m\u001b[1;33m\u001b[0m\u001b[0m\n\u001b[1;32m---> 25\u001b[1;33m     \u001b[0mq_sort\u001b[0m\u001b[1;33m(\u001b[0m\u001b[0mdata\u001b[0m\u001b[1;33m,\u001b[0m \u001b[0mj\u001b[0m\u001b[1;33m+\u001b[0m\u001b[1;36m1\u001b[0m\u001b[1;33m,\u001b[0m \u001b[0mend\u001b[0m\u001b[1;33m)\u001b[0m\u001b[1;33m\u001b[0m\u001b[1;33m\u001b[0m\u001b[0m\n\u001b[0m\u001b[0;32m     26\u001b[0m \u001b[1;33m\u001b[0m\u001b[0m\n\u001b[0;32m     27\u001b[0m \u001b[0mq_sort\u001b[0m\u001b[1;33m(\u001b[0m\u001b[0mdata_1\u001b[0m\u001b[1;33m,\u001b[0m \u001b[1;36m0\u001b[0m\u001b[1;33m,\u001b[0m \u001b[0mlen\u001b[0m\u001b[1;33m(\u001b[0m\u001b[0mdata_1\u001b[0m\u001b[1;33m)\u001b[0m\u001b[1;33m-\u001b[0m\u001b[1;36m1\u001b[0m\u001b[1;33m)\u001b[0m\u001b[1;33m\u001b[0m\u001b[1;33m\u001b[0m\u001b[0m\n",
      "\u001b[1;32m<ipython-input-64-bfd66f5ae362>\u001b[0m in \u001b[0;36mq_sort\u001b[1;34m(data, start, end)\u001b[0m\n\u001b[0;32m      9\u001b[0m \u001b[1;33m\u001b[0m\u001b[0m\n\u001b[0;32m     10\u001b[0m     \u001b[1;32mwhile\u001b[0m \u001b[1;33m(\u001b[0m\u001b[0mi\u001b[0m\u001b[1;33m<=\u001b[0m\u001b[0mj\u001b[0m\u001b[1;33m)\u001b[0m \u001b[1;33m:\u001b[0m   \u001b[1;31m# 엇갈릴 때까지(엇갈리지 않으면 계속해서) 반복\u001b[0m\u001b[1;33m\u001b[0m\u001b[1;33m\u001b[0m\u001b[0m\n\u001b[1;32m---> 11\u001b[1;33m         \u001b[1;32mwhile\u001b[0m\u001b[1;33m(\u001b[0m\u001b[0mdata\u001b[0m\u001b[1;33m[\u001b[0m\u001b[0mi\u001b[0m\u001b[1;33m]\u001b[0m \u001b[1;33m<=\u001b[0m \u001b[0mdata\u001b[0m\u001b[1;33m[\u001b[0m\u001b[0mpivot\u001b[0m\u001b[1;33m]\u001b[0m \u001b[1;32mand\u001b[0m \u001b[0mi\u001b[0m \u001b[1;33m<=\u001b[0m \u001b[0mend\u001b[0m\u001b[1;33m)\u001b[0m\u001b[1;33m:\u001b[0m    \u001b[1;31m# 피벗보다 큰 값을 만날 때까지 반복, i가 j보다 작을 때만 반복하므로, i가 data의 인덱스를 넘어가지는 않음\u001b[0m\u001b[1;33m\u001b[0m\u001b[1;33m\u001b[0m\u001b[0m\n\u001b[0m\u001b[0;32m     12\u001b[0m             \u001b[0mi\u001b[0m\u001b[1;33m+=\u001b[0m\u001b[1;36m1\u001b[0m\u001b[1;33m\u001b[0m\u001b[1;33m\u001b[0m\u001b[0m\n\u001b[0;32m     13\u001b[0m         \u001b[1;32mwhile\u001b[0m\u001b[1;33m(\u001b[0m\u001b[0mdata\u001b[0m\u001b[1;33m[\u001b[0m\u001b[0mj\u001b[0m\u001b[1;33m]\u001b[0m \u001b[1;33m>=\u001b[0m \u001b[0mdata\u001b[0m\u001b[1;33m[\u001b[0m\u001b[0mpivot\u001b[0m\u001b[1;33m]\u001b[0m \u001b[1;32mand\u001b[0m \u001b[0mj\u001b[0m \u001b[1;33m>\u001b[0m \u001b[0mstart\u001b[0m\u001b[1;33m)\u001b[0m\u001b[1;33m:\u001b[0m    \u001b[1;31m# 피벗보다 작은 값을 만날 때까지 반복\u001b[0m\u001b[1;33m\u001b[0m\u001b[1;33m\u001b[0m\u001b[0m\n",
      "\u001b[1;31mIndexError\u001b[0m: list index out of range"
     ]
    }
   ],
   "source": [
    "def q_sort(data, start, end):\n",
    "    \n",
    "    if start >= end:\n",
    "        return\n",
    "    \n",
    "    pivot = start    \n",
    "    i = start + 1    # i : 왼쪽부터 찾는 인덱스\n",
    "    j = end          # j : 오른쪽부터 찾는 인덱스\n",
    "    \n",
    "    while (i<=j) :   # 엇갈릴 때까지(엇갈리지 않으면 계속해서) 반복\n",
    "        while(data[i] <= data[pivot] and i <= end):    # 피벗보다 큰 값을 만날 때까지 반복, i가 j보다 작을 때만 반복하므로, i가 data의 인덱스를 넘어가지는 않음\n",
    "            i+=1\n",
    "        while(data[j] >= data[pivot] and j > start):    # 피벗보다 작은 값을 만날 때까지 반복\n",
    "            j-=1\n",
    "        if i>j:    # 엇갈린 상태면, 피벗과 작은 값 바꿔줌\n",
    "            temp = data[j]\n",
    "            data[j] = data[pivot]\n",
    "            data[pivot] = temp\n",
    "        else:     \n",
    "            temp = data[j]\n",
    "            data[j] = data[i]\n",
    "            data[i] = temp\n",
    "            \n",
    "    q_sort(data, start, j-1)    # j: 피벗과 교환이 이루어진 지점 \n",
    "    q_sort(data, j+1, end)\n",
    "    \n",
    "q_sort(data_1, 0, len(data_1)-1)\n",
    "print(data_1)"
   ]
  },
  {
   "cell_type": "markdown",
   "metadata": {},
   "source": [
    "# 문풀 백준_2750_ 수 정렬하기"
   ]
  },
  {
   "cell_type": "code",
   "execution_count": 76,
   "metadata": {},
   "outputs": [
    {
     "name": "stdout",
     "output_type": "stream",
     "text": [
      "5\n",
      "5\n",
      "2\n",
      "3\n",
      "4\n",
      "1\n",
      "1\n",
      "2\n",
      "3\n",
      "4\n",
      "5\n"
     ]
    }
   ],
   "source": [
    "cnt = int(input())\n",
    "\n",
    "arr = []\n",
    "\n",
    "while(cnt):\n",
    "    arr.append(int(input()))    # 데이터 넣고\n",
    "    cnt-=1\n",
    "    \n",
    "# 귀찮으니까 함수 쓰자\n",
    "arr.sort()\n",
    "\n",
    "for i in arr:\n",
    "    print(i)"
   ]
  },
  {
   "cell_type": "markdown",
   "metadata": {},
   "source": [
    "# 2752 세수정렬"
   ]
  },
  {
   "cell_type": "code",
   "execution_count": 1,
   "metadata": {},
   "outputs": [
    {
     "name": "stdout",
     "output_type": "stream",
     "text": [
      "3 1 2\n",
      "1 2 3 "
     ]
    }
   ],
   "source": [
    "a = list(map(int, input().split()))\n",
    "\n",
    "a.sort()\n",
    "\n",
    "for i in a:\n",
    "    print(i, end=\" \")"
   ]
  },
  {
   "cell_type": "markdown",
   "metadata": {},
   "source": [
    "# 2751 수 정렬하기 2\n",
    "    \n",
    "    * 시간복잡도 n*logn을 요구하는 문제\n",
    "    * 파이썬의 sort 함수는 n*logn으로 알고 있었는데 시간 초과 남 ㅠㅠ"
   ]
  },
  {
   "cell_type": "code",
   "execution_count": 4,
   "metadata": {},
   "outputs": [
    {
     "name": "stdout",
     "output_type": "stream",
     "text": [
      "5\n",
      "5\n",
      "4\n",
      "3\n",
      "2\n",
      "1\n",
      "1\n",
      "2\n",
      "3\n",
      "4\n",
      "5\n"
     ]
    }
   ],
   "source": [
    "# 2750이랑 똑같이 풂\n",
    "cnt = int(input())\n",
    "\n",
    "arr = []\n",
    "\n",
    "while(cnt):\n",
    "    arr.append(int(input()))    # 데이터 넣고\n",
    "    cnt-=1\n",
    "    \n",
    "# 귀찮으니까 함수 쓰자\n",
    "arr.sort()\n",
    "\n",
    "for i in arr:\n",
    "    print(i)"
   ]
  },
  {
   "cell_type": "markdown",
   "metadata": {},
   "source": [
    "### => 시간초과 에러발생  => 표준 입력으로 해결!!"
   ]
  },
  {
   "cell_type": "markdown",
   "metadata": {},
   "source": [
    "## 표준입력 적용!  => 정답처리됨\n",
    "\n",
    "    * 주피터 노트북은 표준입력 사용 안됨!!"
   ]
  },
  {
   "cell_type": "code",
   "execution_count": 5,
   "metadata": {},
   "outputs": [
    {
     "ename": "ValueError",
     "evalue": "invalid literal for int() with base 10: ''",
     "output_type": "error",
     "traceback": [
      "\u001b[1;31m---------------------------------------------------------------------------\u001b[0m",
      "\u001b[1;31mValueError\u001b[0m                                Traceback (most recent call last)",
      "\u001b[1;32m<ipython-input-5-edf163501d14>\u001b[0m in \u001b[0;36m<module>\u001b[1;34m\u001b[0m\n\u001b[0;32m      2\u001b[0m \u001b[1;32mfrom\u001b[0m \u001b[0msys\u001b[0m \u001b[1;32mimport\u001b[0m \u001b[0mstdin\u001b[0m\u001b[1;33m\u001b[0m\u001b[1;33m\u001b[0m\u001b[0m\n\u001b[0;32m      3\u001b[0m \u001b[1;33m\u001b[0m\u001b[0m\n\u001b[1;32m----> 4\u001b[1;33m \u001b[0mcnt\u001b[0m \u001b[1;33m=\u001b[0m \u001b[0mint\u001b[0m\u001b[1;33m(\u001b[0m\u001b[0mstdin\u001b[0m\u001b[1;33m.\u001b[0m\u001b[0mreadline\u001b[0m\u001b[1;33m(\u001b[0m\u001b[1;33m)\u001b[0m\u001b[1;33m)\u001b[0m\u001b[1;33m\u001b[0m\u001b[1;33m\u001b[0m\u001b[0m\n\u001b[0m\u001b[0;32m      5\u001b[0m \u001b[1;33m\u001b[0m\u001b[0m\n\u001b[0;32m      6\u001b[0m \u001b[0marr\u001b[0m \u001b[1;33m=\u001b[0m \u001b[1;33m[\u001b[0m\u001b[1;33m]\u001b[0m\u001b[1;33m\u001b[0m\u001b[1;33m\u001b[0m\u001b[0m\n",
      "\u001b[1;31mValueError\u001b[0m: invalid literal for int() with base 10: ''"
     ]
    }
   ],
   "source": [
    "# 표준입력 사용\n",
    "from sys import stdin\n",
    "\n",
    "cnt = int(stdin.readline())\n",
    "\n",
    "arr = []\n",
    "\n",
    "while(cnt):\n",
    "    arr.append(int(stdin.readline()))    # 데이터 넣고\n",
    "    cnt-=1\n",
    "    \n",
    "# 귀찮으니까 함수 쓰자\n",
    "arr.sort()\n",
    "\n",
    "for i in arr:\n",
    "    print(i)"
   ]
  },
  {
   "cell_type": "markdown",
   "metadata": {},
   "source": [
    "### 위에서 만든 퀵정렬과 input() 사용해보기"
   ]
  },
  {
   "cell_type": "code",
   "execution_count": 6,
   "metadata": {},
   "outputs": [
    {
     "name": "stdout",
     "output_type": "stream",
     "text": [
      "5\n",
      "4\n",
      "3\n",
      "5\n",
      "1\n",
      "2\n",
      "1\n",
      "2\n",
      "3\n",
      "4\n",
      "5\n"
     ]
    }
   ],
   "source": [
    "def q_sort(data, start, end):\n",
    "    \n",
    "    if start >= end:\n",
    "        return\n",
    "    \n",
    "    pivot = start    \n",
    "    i = start + 1    # i : 왼쪽부터 찾는 인덱스\n",
    "    j = end          # j : 오른쪽부터 찾는 인덱스\n",
    "    \n",
    "    while (i<=j) :   # 엇갈릴 때까지(엇갈리지 않으면 계속해서) 반복\n",
    "        while(data[i] <= data[pivot] and i <= end):    # 피벗보다 큰 값을 만날 때까지 반복, i가 j보다 작을 때만 반복하므로, i가 data의 인덱스를 넘어가지는 않음\n",
    "            i+=1\n",
    "        while(data[j] >= data[pivot] and j > start):    # 피벗보다 작은 값을 만날 때까지 반복\n",
    "            j-=1\n",
    "        if i>j:    # 엇갈린 상태면, 피벗과 작은 값 바꿔줌\n",
    "            temp = data[j]\n",
    "            data[j] = data[pivot]\n",
    "            data[pivot] = temp\n",
    "        else:     \n",
    "            temp = data[j]\n",
    "            data[j] = data[i]\n",
    "            data[i] = temp\n",
    "            \n",
    "    q_sort(data, start, j-1)    # j: 피벗과 교환이 이루어진 지점 \n",
    "    q_sort(data, j+1, end)\n",
    "    \n",
    "\n",
    "# 2750이랑 똑같이 풂\n",
    "cnt = int(input())\n",
    "\n",
    "arr = []\n",
    "\n",
    "while(cnt):\n",
    "    arr.append(int(input()))    # 데이터 넣고\n",
    "    cnt-=1\n",
    "    \n",
    "# 퀵정렬 사용\n",
    "q_sort(arr, 0, len(arr)-1)\n",
    "\n",
    "for i in arr:\n",
    "    print(i)"
   ]
  },
  {
   "cell_type": "markdown",
   "metadata": {},
   "source": [
    "### => 역시 시간초과남 => stdin 써서 다시 해보기!"
   ]
  },
  {
   "cell_type": "code",
   "execution_count": 8,
   "metadata": {},
   "outputs": [
    {
     "ename": "ValueError",
     "evalue": "invalid literal for int() with base 10: ''",
     "output_type": "error",
     "traceback": [
      "\u001b[1;31m---------------------------------------------------------------------------\u001b[0m",
      "\u001b[1;31mValueError\u001b[0m                                Traceback (most recent call last)",
      "\u001b[1;32m<ipython-input-8-46af46812004>\u001b[0m in \u001b[0;36m<module>\u001b[1;34m\u001b[0m\n\u001b[0;32m     29\u001b[0m \u001b[1;33m\u001b[0m\u001b[0m\n\u001b[0;32m     30\u001b[0m \u001b[1;31m# 2750이랑 똑같이 풂\u001b[0m\u001b[1;33m\u001b[0m\u001b[1;33m\u001b[0m\u001b[1;33m\u001b[0m\u001b[0m\n\u001b[1;32m---> 31\u001b[1;33m \u001b[0mcnt\u001b[0m \u001b[1;33m=\u001b[0m \u001b[0mint\u001b[0m\u001b[1;33m(\u001b[0m\u001b[0mstdin\u001b[0m\u001b[1;33m.\u001b[0m\u001b[0mreadline\u001b[0m\u001b[1;33m(\u001b[0m\u001b[1;33m)\u001b[0m\u001b[1;33m)\u001b[0m\u001b[1;33m\u001b[0m\u001b[1;33m\u001b[0m\u001b[0m\n\u001b[0m\u001b[0;32m     32\u001b[0m \u001b[1;33m\u001b[0m\u001b[0m\n\u001b[0;32m     33\u001b[0m \u001b[0marr\u001b[0m \u001b[1;33m=\u001b[0m \u001b[1;33m[\u001b[0m\u001b[1;33m]\u001b[0m\u001b[1;33m\u001b[0m\u001b[1;33m\u001b[0m\u001b[0m\n",
      "\u001b[1;31mValueError\u001b[0m: invalid literal for int() with base 10: ''"
     ]
    }
   ],
   "source": [
    "from sys import stdin\n",
    "\n",
    "def q_sort(data, start, end):\n",
    "    \n",
    "    if start >= end:\n",
    "        return\n",
    "    \n",
    "    pivot = start    \n",
    "    i = start + 1    # i : 왼쪽부터 찾는 인덱스\n",
    "    j = end          # j : 오른쪽부터 찾는 인덱스\n",
    "    \n",
    "    while (i<=j) :   # 엇갈릴 때까지(엇갈리지 않으면 계속해서) 반복\n",
    "        while(i <= end and data[i] <= data[pivot]):    # 피벗보다 큰 값을 만날 때까지 반복, i가 j보다 작을 때만 반복하므로, i가 data의 인덱스를 넘어가지는 않음\n",
    "            i+=1\n",
    "        while(data[j] >= data[pivot] and j > start):    # 피벗보다 작은 값을 만날 때까지 반복\n",
    "            j-=1\n",
    "        if i>j:    # 엇갈린 상태면, 피벗과 작은 값 바꿔줌\n",
    "            temp = data[j]\n",
    "            data[j] = data[pivot]\n",
    "            data[pivot] = temp\n",
    "        else:     \n",
    "            temp = data[j]\n",
    "            data[j] = data[i]\n",
    "            data[i] = temp\n",
    "            \n",
    "    q_sort(data, start, j-1)    # j: 피벗과 교환이 이루어진 지점 \n",
    "    q_sort(data, j+1, end)\n",
    "    \n",
    "\n",
    "# 2750이랑 똑같이 풂\n",
    "cnt = int(stdin.readline().rstrip())\n",
    "\n",
    "arr = []\n",
    "\n",
    "while(cnt):\n",
    "    arr.append(int(stdin.readline().rstrip()))    # 데이터 넣고\n",
    "    cnt-=1\n",
    "    \n",
    "# 퀵정렬 사용\n",
    "q_sort(arr, 0, len(arr)-1)\n",
    "\n",
    "for i in arr:\n",
    "    print(i)"
   ]
  },
  {
   "cell_type": "markdown",
   "metadata": {},
   "source": [
    "### => 시간 초과 남 ㅠㅠ"
   ]
  }
 ],
 "metadata": {
  "kernelspec": {
   "display_name": "Python 3",
   "language": "python",
   "name": "python3"
  },
  "language_info": {
   "codemirror_mode": {
    "name": "ipython",
    "version": 3
   },
   "file_extension": ".py",
   "mimetype": "text/x-python",
   "name": "python",
   "nbconvert_exporter": "python",
   "pygments_lexer": "ipython3",
   "version": "3.8.8"
  }
 },
 "nbformat": 4,
 "nbformat_minor": 4
}
