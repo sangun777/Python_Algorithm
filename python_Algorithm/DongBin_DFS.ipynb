{
 "cells": [
  {
   "cell_type": "markdown",
   "metadata": {},
   "source": [
    "# DFS(깊이 우선 탐색, Deep First Search)\n",
    "\n",
    "    * 후입선출 구조의 스택을 사용함\n",
    "        * 컴퓨터는 구조적으로 스택의 원리를 이용하기 때문에 별도의 스택없이 구현 가능\n",
    "        * 스택을 사용하지 않더라도, 재귀함수를 이용하여 구현 가능\n",
    "        * 재귀함수의 구조 자체가 스택 구조에 차곡차곡 쌓이는 형태와 동일\n",
    "        * 일반형은 스택을 이용하지만,\n",
    "        * 실제 대회에서는 보통 재귀함수 형태로 구현하는 것이 쉽고 간결하고 빠름\n",
    "        \n",
    "### 탐색 방법\n",
    "\n",
    "    1. 시작 노드를 스택에 넣어주고, 방문처리\n",
    "    2. 스택의 최상단 노드(마지막에 들어온 노드)의 인접 노드를 확인하여, \n",
    "       방문하지 않은 인접 노드가 있으면, 그 노드를 스택에 넣고 방문처리  \n",
    "       (방문하지 않은 인접 노드가 여러개 일 경우, (우선순위 높은) 한 개에 대하여 처리 진행)\n",
    "       방문하지 않은 인접 노드가 없으면, 그 노드를 스택에서 빼기\n",
    "    3. 2. 반복"
   ]
  },
  {
   "cell_type": "code",
   "execution_count": 2,
   "metadata": {},
   "outputs": [],
   "source": [
    "# 아래 구조에서 DFS 정답 방문 경로 : 1 2 3 6 7 4 5 여야함\n",
    "Nodes = [[1, 2], [2, 1], [1, 3], [3, 1], [2, 3], [3, 2], [2, 4], [4, 2], [2, 5], [5, 2], [4, 5], [5, 4], [3, 6], [6, 3], [3, 7], [7, 3], [6, 7], [7, 6]]"
   ]
  },
  {
   "cell_type": "code",
   "execution_count": 3,
   "metadata": {},
   "outputs": [
    {
     "name": "stdout",
     "output_type": "stream",
     "text": [
      "1 2 3 6 7 4 5 "
     ]
    }
   ],
   "source": [
    "num = 7    # 노드의 갯수\n",
    "c = [0 for i in range(8)]    # 방문 처리용 배열\n",
    "\n",
    "def dfs(x):    # x 노드가 들어왔을 때,\n",
    "    if c[x] == 1:\n",
    "        return\n",
    "        \n",
    "    c[x] = 1    # 방문 처리\n",
    "    print(x, end=\" \")    # 노드 출력\n",
    "    \n",
    "    edges = [i for i in Nodes if i[0]==x]    # 노드 x에 연결된 간건만 추출\n",
    "    \n",
    "    # 인접 노드 방문\n",
    "    for i in range(len(edges)):\n",
    "        y = edges[i][1]    # y = x의 인접 노드\n",
    "        dfs(y)\n",
    "        \n",
    "dfs(1)"
   ]
  },
  {
   "cell_type": "code",
   "execution_count": null,
   "metadata": {},
   "outputs": [],
   "source": []
  },
  {
   "cell_type": "code",
   "execution_count": null,
   "metadata": {},
   "outputs": [],
   "source": []
  },
  {
   "cell_type": "code",
   "execution_count": null,
   "metadata": {},
   "outputs": [],
   "source": []
  }
 ],
 "metadata": {
  "kernelspec": {
   "display_name": "Python 3",
   "language": "python",
   "name": "python3"
  },
  "language_info": {
   "codemirror_mode": {
    "name": "ipython",
    "version": 3
   },
   "file_extension": ".py",
   "mimetype": "text/x-python",
   "name": "python",
   "nbconvert_exporter": "python",
   "pygments_lexer": "ipython3",
   "version": "3.8.8"
  }
 },
 "nbformat": 4,
 "nbformat_minor": 4
}
