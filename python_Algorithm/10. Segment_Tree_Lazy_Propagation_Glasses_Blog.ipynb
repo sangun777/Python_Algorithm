{
 "cells": [
  {
   "cell_type": "markdown",
   "id": "2f262870",
   "metadata": {},
   "source": [
    "# 세그먼트 트리(Segment Tree)\n",
    "\n",
    "* 참고 글 : https://m.blog.naver.com/ndb796/221282210534 (안경잡이 개발자)\n"
   ]
  },
  {
   "cell_type": "markdown",
   "id": "9f2cd546",
   "metadata": {},
   "source": [
    "### 세그먼트 트리(Segment Tree)\n",
    "\n",
    "- [https://m.blog.naver.com/ndb796/221282210534](https://m.blog.naver.com/ndb796/221282210534)\n",
    "- **여러 개의 데이터가 연속적으로 존재할 때, 특정한 범위의 데이터의 합을 구하는 방법**\n",
    "- 비슷한 성능으로 인덱스 트리가 있으며, 인덱스 트리가 세그먼트 트리에 비해 메모리 성능이 더 좋음\n",
    "\n",
    "### 기존의 배열을 '구간 합 트리' 로 새롭게 생성하기\n",
    "\n",
    "- **구간 합 트리의 인덱스는 1로 시작한다.**\n",
    "    - **인덱스가 1로 시작하는 것은 2를 곱했을 때, 왼쪽 자식노드를 가리키므로, 검색에 효과적이어서.**\n",
    "- 구간 합 트리의 1번 노드에는 기존 인덱스 0~11까지(전체)의 값의 총합 66을 넣는다.\n",
    "- 1번 노드의 자식 노드인 2, 3번 노드에는 각각 절반씩 쪼갠 범위 합을 넣는다.\n",
    "    - 2번 노드 : 기존 인덱스 0~5까지의 값의 총합\n",
    "    - 3번 노드 : 기존 인덱스 6~11까지의 값의 총합"
   ]
  },
  {
   "cell_type": "code",
   "execution_count": 1,
   "id": "9dbb58cd",
   "metadata": {},
   "outputs": [],
   "source": [
    "arr = [1, 9, 3, 8, 4, 5, 5, 9, 10, 3, 4, 5]  # 원글 a\n",
    "tree = [0 for i in range(len(arr)*4)] # 원글 tree, 4를 곱하면 arr의 길이 12와 가까운 16의 2배인 32보다 크므로 전 범위 커버 가능"
   ]
  },
  {
   "cell_type": "markdown",
   "id": "79b8275b",
   "metadata": {},
   "source": [
    "![](seg0.png)"
   ]
  },
  {
   "cell_type": "markdown",
   "id": "819a5cd4",
   "metadata": {},
   "source": [
    "* init 함수\n",
    "    * tree를 누적합 트리로 초기화하는 함수\n",
    "    * L = 0, R = len(arr)-1, node = 1로 넣어주어 초기화\n",
    "        * L : arr의 첫 인덱스\n",
    "        * R : arr의 끝 인덱스\n",
    "        * node : 1 (누적합 트리의 루트 노드)  \n",
    "        \n",
    "          \n",
    "* (내 의문점) 굳이 node를 입력인자로 받을 필요가 있나?\n",
    "    * 어차피 초기화 목적이라면, node는 처음에 1값만 들어가고, ... 아..\n",
    "    * 재귀적 호출을 위해서 필요해 보임"
   ]
  },
  {
   "cell_type": "code",
   "execution_count": 2,
   "id": "0606dee6",
   "metadata": {},
   "outputs": [],
   "source": [
    "# L = 0, R = len(arr)-1 = 11, node = 1로 넣어주면, tree는 누적합 트리로 초기화하는 함수\n",
    "def init(L, R, node): \n",
    "    \n",
    "    if L == R:    # 로직 1, 인덱스가 같으면, 해당 노드값 반환 tree[node] = arr[L]\n",
    "        tree[node] = arr[L]    # 여기서 주의할 점 !!!. L과 node는 다른 값이다.(L은 0부터 시작하는 index이고, node는 1부터 시작하는 인덱스이므로)\n",
    "        return tree[node]\n",
    "    \n",
    "    # 로직 2, 인덱스 L, R 이 다를 경우, tree[node] = tree[2*node] + tree[2*node+1]\n",
    "    mid = (L+R) // 2\n",
    "    tree[node] = init(L, mid, 2*node) + init(mid+1, R, 2*node+1)\n",
    "    return tree[node]\n",
    "\n",
    "\n",
    "# 예시)\n",
    "#                                            init(0, 11, 1)\n",
    "# =                           init(0, 5, 2)          +         init(6, 11, 3)\n",
    "# =                 init(0, 2, 4)    +    init(3, 5, 5)    init(6, 8, 6) + init(9, 11, 7)\n",
    "# =         init(0, 1, 8)    +    init(1, 2, 9) ...\n",
    "# = init(0, 0, 16) + init(1, 1, 17) ..."
   ]
  },
  {
   "cell_type": "markdown",
   "id": "4496f46c",
   "metadata": {},
   "source": [
    "![](seg1.png)"
   ]
  },
  {
   "cell_type": "code",
   "execution_count": 27,
   "id": "b04edd3b",
   "metadata": {},
   "outputs": [
    {
     "name": "stdout",
     "output_type": "stream",
     "text": [
      "[0, 66, 30, 36, 13, 17, 24, 12, 10, 3, 12, 5, 14, 10, 7, 5, 1, 9, 0, 0, 8, 4, 0, 0, 5, 9, 0, 0, 3, 4, 0, 0, 0, 0, 0, 0, 0, 0, 0, 0, 0, 0, 0, 0, 0, 0, 0, 0]\n"
     ]
    }
   ],
   "source": [
    "init(0, len(arr)-1, 1)\n",
    "\n",
    "print(tree)"
   ]
  },
  {
   "cell_type": "markdown",
   "id": "3c4f4bbb",
   "metadata": {},
   "source": [
    "![](seg2.png)"
   ]
  },
  {
   "cell_type": "markdown",
   "id": "26ece6d4",
   "metadata": {},
   "source": [
    " * Gsum : 구간 합을 구하는 함수\n",
    " \n",
    "     * 누적합 트리를 보면, 아래 로직대로, node값에 따른 L, R이 정해지는 것을 알 수 있음\n",
    "     * 초깃값을 L = 0, R = len(arr)-1, node=1 로 설정하면,\n",
    "     * 누적합 트리에 따라 2번 노드는 0 ~ mid까지의 누적합을 나타냄"
   ]
  },
  {
   "cell_type": "code",
   "execution_count": 18,
   "id": "51945af5",
   "metadata": {},
   "outputs": [],
   "source": [
    "# L, R : 투 포인터와 비슷한 역할(탐색할 범위), 초깃값은 누적합 트리의 원래 배열 인덱스 범위(0 ~ 11)\n",
    "# start, end : 구간 합에 대한 범위 인덱스\n",
    "\n",
    "def Gsum(L, R, node, start, end):\n",
    "    \n",
    "    # 범위 밖에 있는 경우\n",
    "    if R < start or end < L :\n",
    "        return 0\n",
    "    \n",
    "    # 범위 안에 있는 경우\n",
    "    if start <= L and R <= end:\n",
    "        return tree[node]\n",
    "    \n",
    "    mid = (L + R) // 2\n",
    "    \n",
    "    return Gsum(L, mid, 2*node, start, end) + Gsum(mid+1, R, 2*node+1, start, end)"
   ]
  },
  {
   "cell_type": "code",
   "execution_count": 16,
   "id": "477a7fc3",
   "metadata": {},
   "outputs": [
    {
     "data": {
      "text/plain": [
       "66"
      ]
     },
     "execution_count": 16,
     "metadata": {},
     "output_type": "execute_result"
    }
   ],
   "source": [
    "Gsum(0, 11, 1, 0, 11)"
   ]
  },
  {
   "cell_type": "code",
   "execution_count": 17,
   "id": "09fb276a",
   "metadata": {},
   "outputs": [
    {
     "data": {
      "text/plain": [
       "41"
      ]
     },
     "execution_count": 17,
     "metadata": {},
     "output_type": "execute_result"
    }
   ],
   "source": [
    "Gsum(0, 11, 1, 3, 8)"
   ]
  },
  {
   "cell_type": "markdown",
   "id": "a50afc41",
   "metadata": {},
   "source": [
    " * update : 특정 원소의 값을 수정하는 함수\n",
    "     * 수정할 원소를 포함하고 있는 모든 구간 합 노드들을 갱신해줌\n",
    "     * 예를 들어 인덱스 7번 값을 수정할 경우, 아래와 같은 노드 수정"
   ]
  },
  {
   "cell_type": "markdown",
   "id": "5370024b",
   "metadata": {},
   "source": [
    "![](seg3.png)"
   ]
  },
  {
   "cell_type": "code",
   "execution_count": 21,
   "id": "53a7998d",
   "metadata": {},
   "outputs": [],
   "source": [
    "# index : 수정하고자 하는 값의 인덱스\n",
    "# dif : 수정할 값(바뀐 값 자체가 아니라 원래 값과 변경된 값의 차이)\n",
    "\n",
    "def update(L, R, node, index, dif):\n",
    "    \n",
    "    # 범위 밖에 있는 경우\n",
    "    if index < L or index > R :\n",
    "        return\n",
    "    \n",
    "    # 범위 안에 있는 경우, 내려가며, 연쇄적으로 다른 원소도 갱신\n",
    "    tree[node] += dif\n",
    "    \n",
    "    if L == R:\n",
    "        return\n",
    "    \n",
    "    mid = (L + R) // 2\n",
    "    \n",
    "    update(L, mid, 2*node, index, dif)\n",
    "    update(mid+1, R, 2*node+1, index, dif)"
   ]
  },
  {
   "cell_type": "code",
   "execution_count": 32,
   "id": "0044d949",
   "metadata": {},
   "outputs": [],
   "source": [
    "def main():\n",
    "    \n",
    "    init(0, len(arr)-1, 1)\n",
    "    \n",
    "    print(\"0 ~ 11까지의 구간 합 : \", Gsum(0, 11, 1, 0, 11))\n",
    "    print(\"3 ~ 8까지의 구간 합 : \", Gsum(0, 11, 1, 3, 8))\n",
    "    \n",
    "    print()\n",
    "    print(\" * 수정 전 tree\")\n",
    "    print(tree)\n",
    "    print()\n",
    "    \n",
    "    print(\"* 인덱스 7을 +2 만큼 수정 후 tree\")\n",
    "    update(0, 11, 1, 7, 2)\n",
    "    print(tree)"
   ]
  },
  {
   "cell_type": "code",
   "execution_count": 33,
   "id": "59066e81",
   "metadata": {},
   "outputs": [
    {
     "name": "stdout",
     "output_type": "stream",
     "text": [
      "0 ~ 11까지의 구간 합 :  66\n",
      "3 ~ 8까지의 구간 합 :  41\n",
      "\n",
      " * 수정 전 tree\n",
      "[0, 66, 30, 36, 13, 17, 24, 12, 10, 3, 12, 5, 14, 10, 7, 5, 1, 9, 0, 0, 8, 4, 0, 0, 5, 9, 0, 0, 3, 4, 0, 0, 0, 0, 0, 0, 0, 0, 0, 0, 0, 0, 0, 0, 0, 0, 0, 0]\n",
      "\n",
      "* 인덱스 7을 +2 만큼 수정 후 tree\n",
      "[0, 68, 30, 38, 13, 17, 26, 12, 10, 3, 12, 5, 16, 10, 7, 5, 1, 9, 0, 0, 8, 4, 0, 0, 5, 11, 0, 0, 3, 4, 0, 0, 0, 0, 0, 0, 0, 0, 0, 0, 0, 0, 0, 0, 0, 0, 0, 0]\n"
     ]
    }
   ],
   "source": [
    "main()"
   ]
  },
  {
   "cell_type": "markdown",
   "id": "e954cd42",
   "metadata": {},
   "source": [
    "# Lazy Propagation\n",
    "\n",
    "- 참고 글\n",
    "    - [https://ojt90902.tistory.com/562](https://ojt90902.tistory.com/562)\n",
    "    - [https://baeharam.github.io/posts/algorithm/lazy-propagation/]\n",
    "    \n",
    "### 세그먼트 트리의 한계\n",
    "\n",
    "- 세그먼트 트리는 구간 합을 구하는데, O(logN)이 필요\n",
    "- 그러나, 구간의 값을 업데이트하는 상황이면,\n",
    "    - 단일 노드 수정시, O(logN)\n",
    "    - 구간(n개 범위)의 노드 수정시, O(nlogN)\n",
    "        - 업데이트가 m번 수행된다면, O(nmlogN)\n",
    "        \n",
    "### Lazy propagation은 m번의 쿼리가 들어왔을 때, O(mlogN)의 시간 복잡도를 가짐  "
   ]
  },
  {
   "cell_type": "markdown",
   "id": "9fd6474c",
   "metadata": {},
   "source": [
    "# Lazy Propagation 구현\n",
    "\n",
    "### Lazy Propagation을 위해서 기본 세그먼트 트리와 달라지는 점은 크게 2가지\n",
    "\n",
    "1. 트리 초기화 시에 리스트 형식으로 각 노드를 구성해 Lazy 값을 저장할 수 있게 한다.\n",
    "2. 업데이트, 쿼리 시에 함수 형식이 조금 바뀐다."
   ]
  },
  {
   "cell_type": "markdown",
   "id": "bfe75659",
   "metadata": {},
   "source": [
    "### init() 함수 : 트리 초기화\n",
    "* tree는 각 요소로 길이가 2인 리스트를 가짐\n",
    "    * 0번 인덱스에는 값이 저장되고, \n",
    "    * 1번 인덱스에는 Lazy가 저장됨"
   ]
  },
  {
   "cell_type": "code",
   "execution_count": 1,
   "id": "f2277ef9",
   "metadata": {},
   "outputs": [],
   "source": [
    "# 재귀 형식으로 tree 초기화\n",
    "# arr : 값이 저장되어 있는 배열\n",
    "# L, R은 각각 arr의 처음과 마지막 인덱스 (0, len(arr)-1)\n",
    "# node는 1로 초기화\n",
    "# tree는 각 요소로 길이가 2인 리스트를 가짐\n",
    "# tree를 입력인자로 지정했으므로, 함수안에서 따로 초기화 할 필요는 없음\n",
    "\n",
    "# 사실상 tree를 입력인자로 받는 부분과, 값을 tree[node][0]에 받는 부분 빼고는 세그먼트 트리의 init과 동일함\n",
    "\n",
    "def init(L, R, node, tree):\n",
    "    \n",
    "    if L == R:\n",
    "        tree[node][0] = arr[L]\n",
    "        return tree[node][0]\n",
    "    \n",
    "    else:\n",
    "        mid = (L + R) // 2\n",
    "        tree[node][0] = init(L, mid, 2*node, tree) + init(mid+1, R, 2*node+1, tree)\n",
    "        return tree[node][0]"
   ]
  },
  {
   "cell_type": "markdown",
   "id": "b278816e",
   "metadata": {},
   "source": [
    "### Lazy Propagation 구현 (propagation 함수)\n",
    "* 상위 노드의 Lazy값을 자식 노드에게 전달하고, 자신의 노드에 적용하는 함수\n",
    "\n",
    "* 세그먼트 트리와 달리진점\n",
    "    * 노드에 Lazy값이 있는치 확인하고 처리하는 부분 추가됨\n",
    "        * 현재 잎새 노드라면, \n",
    "            1. Lazy값을 현재 노드에 반영해주고, \n",
    "            2. Lazy값을 0으로 초기화\n",
    "        * 현재 잎새 노드가 아니라면,\n",
    "            1. Lazy값을 자식들에게 전달해주고,\n",
    "            2. 현재 노드에 Lazy값을 반영해주고, \n",
    "            3. 그 다음 함수를 진행"
   ]
  },
  {
   "cell_type": "code",
   "execution_count": null,
   "id": "c5316367",
   "metadata": {},
   "outputs": [],
   "source": [
    "def propagation(L, R, node, tree):\n",
    "    \n",
    "    if L != R:    # 잎새노드가 아니면, Lazy값 자식에게 전달\n",
    "        tree[2*node][1] += tree[node][1]\n",
    "        tree[2*node+1][1] += tree[node][1]\n",
    "        \n",
    "    # 현재 노드에 Lazy값 *(범위) 만큼 전달 후, 초기화\n",
    "    tree[node][0] += tree[node][1] * (R-L+1)\n",
    "    tree[node][1] = 0\n",
    "    \n",
    "    return"
   ]
  },
  {
   "cell_type": "markdown",
   "id": "7f17b502",
   "metadata": {},
   "source": [
    "### 연속 구간 업데이트(modify 함수)\n",
    "\n",
    "    * def modify(L, R, node, tree, start, end, value)\n",
    "        * start, end : 업데이트 할 구간\n",
    "        * value : 업데이트 할 값"
   ]
  },
  {
   "cell_type": "code",
   "execution_count": null,
   "id": "04f7566c",
   "metadata": {},
   "outputs": [],
   "source": [
    "def modify(L, R, node, tree, start, end, value):\n",
    "    \n",
    "    # line 4~11 없어도 되지 않나???\n",
    "    if L == R and L == start:    # 업데이트 구간의 잎새 노드이면,\n",
    "        # 나는 위애 조건 중 L == start가 \"start <= L and L <= end\" 로 바뀌어야 할것 같다고 생각함\n",
    "        if tree[node][1] != 0:   # 현재 노드에 Lazy값이 있으면\n",
    "            tree[node][0] += tree[node][1]   # 현재 노드의 Lazy값 더하고 초기화\n",
    "            tree[node][1] = 0\n",
    "            \n",
    "        tree[node][0] += value    # 현재노드에 값 업데이트 및 반환\n",
    "        return tree[node][0]\n",
    "    \n",
    "    else:\n",
    "        if tree[node][1] != 0:    # 현재 노드에 Lazy값이 있으면, 전파 수행\n",
    "            propagation(L, R, node, tree)\n",
    "            \n",
    "        # 수정 범위 내에 있을 떄,\n",
    "        if start <= L and R <= end:\n",
    "            tree[node][0] += value * (R-L+1)    # 현재 노드 수정\n",
    "            \n",
    "            if L != R :  # 현재 노드가 자식 노드를 갖는다면, \n",
    "                tree[2*node][1] += value    # 자식 노드의 Lazy에 value 만큼 추가\n",
    "                tree[2*node+1][1] += value\n",
    "                # 이 자식 노드들도 자식이 몇개 있는지 확인해서 그만큼 곱해야하지 않나????\n",
    "                # 아닌듯, Lazy값이 해당 노드에 저장되면, 어차피 propagation함수에서 Lazy를 처리 할 때, 자식 갯수 만큼 곱해져서               \n",
    "            return tree[node][0]\n",
    "        \n",
    "        # 수정 범위 밖에 있을 때, \n",
    "        elif R < start or end < L:\n",
    "            return tree[node][0]\n",
    "        \n",
    "        else:  # 수정 범위가 탐색 범위와 일정부분 겹쳐저 있을 때, 쪼개서 다시 수행\n",
    "            mid = (L+R)//2\n",
    "            a = modify(L, mid, 2*node, tree, start, end, value)\n",
    "            b = modify(mid+1, R, 2*node+1, tree, start, end, value)\n",
    "            tree[node][0] + a + b\n",
    "            return tree[node][0]\n",
    "    "
   ]
  },
  {
   "cell_type": "markdown",
   "id": "0c2d909e",
   "metadata": {},
   "source": [
    "* 내 생각대로 modify 수정"
   ]
  },
  {
   "cell_type": "code",
   "execution_count": null,
   "id": "985c257e",
   "metadata": {},
   "outputs": [],
   "source": [
    "def modify(L, R, node, tree, start, end, value):\n",
    "    \n",
    "    # 현재노드가 수정이 되든 안되든 Lazy값은 적용이 된 후, return 되어야함\n",
    "    if tree[node][1] != 0:    # 현재 노드에 Lazy값이 있으면, 전파 수행\n",
    "        propagation(L, R, node, tree)\n",
    "    \n",
    "    # 탐색 범위가 수정 범위 밖에 있을 때, \n",
    "    if R < start or end < L:\n",
    "        return tree[node][0]\n",
    "    \n",
    "    else:           \n",
    "        # 수정 범위 내에 있을 떄,\n",
    "        if start <= L and R <= end:\n",
    "            tree[node][0] += value * (R-L+1)    # 현재 노드 수정\n",
    "            \n",
    "            if L != R :  # 현재 노드가 자식 노드를 갖는다면, \n",
    "                tree[2*node][1] += value    # 자식 노드의 Lazy에 value 만큼 추가\n",
    "                tree[2*node+1][1] += value\n",
    "                # 이 자식 노드들도 자식이 몇개 있는지 확인해서 그만큼 곱해야하지 않나????\n",
    "                # 아닌듯, Lazy값이 해당 노드에 저장되면, 어차피 propagation함수에서 Lazy를 처리 할 때, 자식 갯수 만큼 곱해져서               \n",
    "            return tree[node][0]\n",
    "        \n",
    "        else:  # 수정 범위가 탐색 범위와 일정부분 겹쳐저 있을 때, 쪼개서 다시 수행\n",
    "            mid = (L+R)//2\n",
    "            a = modify(L, mid, 2*node, tree, start, end, value)\n",
    "            b = modify(mid+1, R, 2*node+1, tree, start, end, value)\n",
    "            tree[node][0] + a + b\n",
    "            return tree[node][0]\n",
    "    "
   ]
  },
  {
   "cell_type": "code",
   "execution_count": null,
   "id": "cef5e942",
   "metadata": {},
   "outputs": [],
   "source": []
  },
  {
   "cell_type": "code",
   "execution_count": null,
   "id": "520bc9aa",
   "metadata": {},
   "outputs": [],
   "source": []
  },
  {
   "cell_type": "code",
   "execution_count": null,
   "id": "a401279a",
   "metadata": {},
   "outputs": [],
   "source": []
  },
  {
   "cell_type": "code",
   "execution_count": null,
   "id": "bd0492a5",
   "metadata": {},
   "outputs": [],
   "source": []
  },
  {
   "cell_type": "code",
   "execution_count": null,
   "id": "056b8f5a",
   "metadata": {},
   "outputs": [],
   "source": []
  },
  {
   "cell_type": "code",
   "execution_count": null,
   "id": "bad63b78",
   "metadata": {},
   "outputs": [],
   "source": []
  },
  {
   "cell_type": "code",
   "execution_count": null,
   "id": "c0a7efe1",
   "metadata": {},
   "outputs": [],
   "source": []
  },
  {
   "cell_type": "code",
   "execution_count": null,
   "id": "71be5202",
   "metadata": {},
   "outputs": [],
   "source": []
  },
  {
   "cell_type": "code",
   "execution_count": null,
   "id": "d29d4481",
   "metadata": {},
   "outputs": [],
   "source": []
  },
  {
   "cell_type": "code",
   "execution_count": null,
   "id": "a0e9efac",
   "metadata": {},
   "outputs": [],
   "source": []
  }
 ],
 "metadata": {
  "kernelspec": {
   "display_name": "Python 3",
   "language": "python",
   "name": "python3"
  },
  "language_info": {
   "codemirror_mode": {
    "name": "ipython",
    "version": 3
   },
   "file_extension": ".py",
   "mimetype": "text/x-python",
   "name": "python",
   "nbconvert_exporter": "python",
   "pygments_lexer": "ipython3",
   "version": "3.8.8"
  }
 },
 "nbformat": 4,
 "nbformat_minor": 5
}
