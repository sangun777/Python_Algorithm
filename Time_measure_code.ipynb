{
 "cells": [
  {
   "cell_type": "markdown",
   "metadata": {},
   "source": [
    "# 코드 실행 시간 측정 코드\n",
    "\n",
    "* 파이썬 코드 실행시간 측정 방법은 여러가지가 있음\n",
    "* 그 중에서 timeit을 활용해보겠음"
   ]
  },
  {
   "cell_type": "code",
   "execution_count": 1,
   "metadata": {},
   "outputs": [
    {
     "name": "stdout",
     "output_type": "stream",
     "text": [
      "12.114224초 걸렸습니다.\n"
     ]
    }
   ],
   "source": [
    "# 약 12초 걸림(컴퓨터 마다 다름)\n",
    "# 1씩 더해서 1억을 만들 때, 걸리는 시간\n",
    "\n",
    "import timeit\n",
    "\n",
    "start_time = timeit.default_timer()    # 시작 시간 체크\n",
    "\n",
    "# 1억 세는 코드\n",
    "sum = 0\n",
    "for i in range(100000000):\n",
    "    sum+=1\n",
    "    \n",
    "terminate_time = timeit.default_timer()    # 종료 시간 체크\n",
    "\n",
    "print(\"%f초 걸렸습니다.\" % (terminate_time-start_time))"
   ]
  },
  {
   "cell_type": "code",
   "execution_count": null,
   "metadata": {},
   "outputs": [],
   "source": []
  },
  {
   "cell_type": "code",
   "execution_count": null,
   "metadata": {},
   "outputs": [],
   "source": []
  }
 ],
 "metadata": {
  "kernelspec": {
   "display_name": "Python 3",
   "language": "python",
   "name": "python3"
  },
  "language_info": {
   "codemirror_mode": {
    "name": "ipython",
    "version": 3
   },
   "file_extension": ".py",
   "mimetype": "text/x-python",
   "name": "python",
   "nbconvert_exporter": "python",
   "pygments_lexer": "ipython3",
   "version": "3.8.5"
  }
 },
 "nbformat": 4,
 "nbformat_minor": 4
}
