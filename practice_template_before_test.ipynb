{
 "cells": [
  {
   "cell_type": "markdown",
   "id": "ea2631b5",
   "metadata": {},
   "source": [
    "# 입력"
   ]
  },
  {
   "cell_type": "code",
   "execution_count": 2,
   "id": "49b39831",
   "metadata": {},
   "outputs": [
    {
     "name": "stdout",
     "output_type": "stream",
     "text": [
      "숫자를 입력하세요 : 22\n",
      "입력한 숫자는 :  22\n"
     ]
    }
   ],
   "source": [
    "s = input(\"숫자를 입력하세요 : \")\n",
    "print(\"입력한 숫자는 : \", s)"
   ]
  },
  {
   "cell_type": "code",
   "execution_count": 3,
   "id": "dd795da4",
   "metadata": {},
   "outputs": [
    {
     "name": "stdout",
     "output_type": "stream",
     "text": [
      "\n"
     ]
    }
   ],
   "source": [
    "from sys import stdin\n",
    "\n",
    "# 위와 동일 기능, 속도 빠름\n",
    "print(\"숫자를 입력하세요 : \")\n",
    "s = stdin.readline().rstrip()\n",
    "print(\"입력한 숫자는 : \", s)"
   ]
  },
  {
   "cell_type": "markdown",
   "id": "f67487c0",
   "metadata": {},
   "source": [
    "### 여러 값 동시에 받기"
   ]
  },
  {
   "cell_type": "code",
   "execution_count": null,
   "id": "4e036d97",
   "metadata": {},
   "outputs": [],
   "source": [
    "from sys import stdin\n",
    "\n",
    "a = stdin.readline().split()\n",
    "print(\"입력한 숫자는 : \", a)  # 문자열을 요소로 하는 리스트 형태로 출력됨"
   ]
  },
  {
   "cell_type": "markdown",
   "id": "bff234f6",
   "metadata": {},
   "source": [
    "### 여러 값 동시에 정수형으로 받기"
   ]
  },
  {
   "cell_type": "code",
   "execution_count": null,
   "id": "029fced0",
   "metadata": {},
   "outputs": [],
   "source": [
    "from sys import stdin\n",
    "\n",
    "b = list(map(int, stdin.readline().split()))\n",
    "print(\"입력한 숫자는 : \", b)  # 문자열을 요소로 하는 리스트 형태로 출력됨\n",
    "print(type(b))"
   ]
  },
  {
   "cell_type": "markdown",
   "id": "73e1efa1",
   "metadata": {},
   "source": [
    "# 출력"
   ]
  },
  {
   "cell_type": "code",
   "execution_count": 4,
   "id": "6a1e4fc6",
   "metadata": {},
   "outputs": [
    {
     "name": "stdout",
     "output_type": "stream",
     "text": [
      "가격은 10000원 입니다.\n"
     ]
    }
   ],
   "source": [
    "price = 10000\n",
    "print(\"가격은 %s원 입니다.\" % price)\n",
    "# , 없고 % 만 있음에 주의"
   ]
  },
  {
   "cell_type": "code",
   "execution_count": 5,
   "id": "fd96660b",
   "metadata": {},
   "outputs": [
    {
     "name": "stdout",
     "output_type": "stream",
     "text": [
      "가격은 만원 입니다.\n"
     ]
    }
   ],
   "source": [
    "price = \"만\"\n",
    "print(\"가격은 %s원 입니다.\" % price)"
   ]
  },
  {
   "cell_type": "code",
   "execution_count": 6,
   "id": "9aefd48f",
   "metadata": {},
   "outputs": [
    {
     "name": "stdout",
     "output_type": "stream",
     "text": [
      "3월 1일 입니다.\n"
     ]
    }
   ],
   "source": [
    "msg = \"%s월 %s일 입니다.\"\n",
    "print(msg % (3, 1))"
   ]
  },
  {
   "cell_type": "code",
   "execution_count": 7,
   "id": "66bef356",
   "metadata": {},
   "outputs": [
    {
     "name": "stdout",
     "output_type": "stream",
     "text": [
      "[      Strip white spaces.      ]\n"
     ]
    }
   ],
   "source": [
    "txt = \"      Strip white spaces.      \"\n",
    "print('[{}]'.format(txt))"
   ]
  },
  {
   "cell_type": "code",
   "execution_count": 8,
   "id": "7705cb57",
   "metadata": {},
   "outputs": [
    {
     "name": "stdout",
     "output_type": "stream",
     "text": [
      "1 2 3\n",
      "1g2g3\n"
     ]
    }
   ],
   "source": [
    "print(1,2,3)\n",
    "print(1,2,3, sep = 'g')"
   ]
  },
  {
   "cell_type": "code",
   "execution_count": 9,
   "id": "28e78762",
   "metadata": {},
   "outputs": [
    {
     "name": "stdout",
     "output_type": "stream",
     "text": [
      "1\n",
      "2\n",
      "3\n"
     ]
    }
   ],
   "source": [
    "print(1,2,3, sep = '\\n')"
   ]
  },
  {
   "cell_type": "code",
   "execution_count": 10,
   "id": "48887d09",
   "metadata": {},
   "outputs": [
    {
     "name": "stdout",
     "output_type": "stream",
     "text": [
      "1\\n2\\n3\n"
     ]
    }
   ],
   "source": [
    "print(r\"1\\n2\\n3\")"
   ]
  },
  {
   "cell_type": "markdown",
   "id": "3699017e",
   "metadata": {},
   "source": [
    " * 숫자 대입(%d)"
   ]
  },
  {
   "cell_type": "code",
   "execution_count": 11,
   "id": "9685a646",
   "metadata": {},
   "outputs": [
    {
     "name": "stdout",
     "output_type": "stream",
     "text": [
      "3 apples.\n"
     ]
    }
   ],
   "source": [
    "a = 3\n",
    "print(\"%d apples.\" % a)"
   ]
  },
  {
   "cell_type": "code",
   "execution_count": null,
   "id": "26f017df",
   "metadata": {},
   "outputs": [],
   "source": []
  },
  {
   "cell_type": "code",
   "execution_count": 13,
   "id": "a769d6e9",
   "metadata": {},
   "outputs": [
    {
     "data": {
      "text/plain": [
       "'1x2x3'"
      ]
     },
     "execution_count": 13,
     "metadata": {},
     "output_type": "execute_result"
    }
   ],
   "source": [
    "c = [\"1\", \"2\", \"3\"]\n",
    "d = \"x\".join(c)\n",
    "d"
   ]
  },
  {
   "cell_type": "code",
   "execution_count": null,
   "id": "d8e926dd",
   "metadata": {},
   "outputs": [],
   "source": [
    "import string\n",
    "\n",
    "', python.!@#'.strip"
   ]
  },
  {
   "cell_type": "code",
   "execution_count": null,
   "id": "36d67e62",
   "metadata": {},
   "outputs": [],
   "source": []
  },
  {
   "cell_type": "code",
   "execution_count": null,
   "id": "3199bfda",
   "metadata": {},
   "outputs": [],
   "source": []
  },
  {
   "cell_type": "code",
   "execution_count": null,
   "id": "e7a48bc8",
   "metadata": {},
   "outputs": [],
   "source": []
  },
  {
   "cell_type": "code",
   "execution_count": null,
   "id": "e5ef088f",
   "metadata": {},
   "outputs": [],
   "source": []
  },
  {
   "cell_type": "code",
   "execution_count": null,
   "id": "e0dc447c",
   "metadata": {},
   "outputs": [],
   "source": []
  },
  {
   "cell_type": "code",
   "execution_count": null,
   "id": "ea3a6195",
   "metadata": {},
   "outputs": [],
   "source": []
  },
  {
   "cell_type": "code",
   "execution_count": null,
   "id": "1f2c7b88",
   "metadata": {},
   "outputs": [],
   "source": []
  },
  {
   "cell_type": "code",
   "execution_count": null,
   "id": "e9ed1cb5",
   "metadata": {},
   "outputs": [],
   "source": []
  },
  {
   "cell_type": "code",
   "execution_count": null,
   "id": "ffa8edd9",
   "metadata": {},
   "outputs": [],
   "source": [
    "from sys import stdin\n",
    "\n",
    "s = stdin.readline().rstrip()\n"
   ]
  }
 ],
 "metadata": {
  "kernelspec": {
   "display_name": "Python 3",
   "language": "python",
   "name": "python3"
  },
  "language_info": {
   "codemirror_mode": {
    "name": "ipython",
    "version": 3
   },
   "file_extension": ".py",
   "mimetype": "text/x-python",
   "name": "python",
   "nbconvert_exporter": "python",
   "pygments_lexer": "ipython3",
   "version": "3.8.8"
  }
 },
 "nbformat": 4,
 "nbformat_minor": 5
}
