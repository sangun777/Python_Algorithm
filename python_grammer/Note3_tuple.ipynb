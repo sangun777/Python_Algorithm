{
 "cells": [
  {
   "cell_type": "markdown",
   "metadata": {},
   "source": [
    "# 튜플(tuple)"
   ]
  },
  {
   "cell_type": "markdown",
   "metadata": {},
   "source": [
    "# 나중에 시간날 때 작성할 것`"
   ]
  },
  {
   "cell_type": "code",
   "execution_count": null,
   "metadata": {},
   "outputs": [],
   "source": []
  },
  {
   "cell_type": "markdown",
   "metadata": {},
   "source": [
    "# 내용 정리 목차\n",
    "\n",
    "## 기본 특징(리스트와 비교)\n",
    "\n",
    "## !시퀀스 공통 기능\n",
    "    1. 인덱스, 슬라이스\n",
    "    2. +, * 연산\n",
    "    3. in, not in\n",
    "    4. len() : 요소 갯수 구하기\n",
    "    5. enumerate : 인덱스, 값 뽑아내기\n",
    "    6. map(함수, 시퀀스) 적용\n",
    "    \n",
    "### 튜플 슬라이스 응용\n",
    "\n",
    "## !튜플 생성\n",
    "    * 기본 : [요소1, 요소2, ...]\n",
    "    * 빈리스트 : []. list()\n",
    "    * 문자 요소 리스트 생성\n",
    "        * 글자별 => list()\n",
    "        * 단어별 => .split()\n",
    "    * 숫자 요소 리스트 생성\n",
    "        * list(range())\n",
    "        * [0 for i in range(n)]\n",
    "    * 2차원 리스트 생성\n",
    "\n",
    "\n",
    "## !요소 추가\n",
    "    * 리스트.append(요소) : 맨 뒤에 요소 추가\n",
    "    * 리스트1.extend(리스트2) : 리스트 + 리스트\n",
    "        == 리스트1 + 리스트2\n",
    "    * 리스트.insert(인덱스, 요소) : 특정 인덱스에 요소 추가\n",
    "\n",
    "## !요소 변경\n",
    "    * 리스트[인덱스] = 값\n",
    "    * 리스트[슬라이스:] = 값\n",
    "    \n",
    "    * 요소 변경은 변경가능한 객체(mutable)만 가능\n",
    "        => list, set, dict, bytearray  \n",
    "    * tuple, str, range은 변경 불가능 객체(immutable)이라 요소 변경 안됨\n",
    "        * 이것들은 슬라이스 + 값 변경 + 슬라이스로 변경\n",
    "\n",
    "## !요소 삭제\n",
    "    * 리스트.pop(인덱스) : 특정 인덱스 or 마지막 요소 삭제하고 반환\n",
    "    * 리스트.remove(값) : 특정 값을 찾아서 삭제\n",
    "    * del 리스트[인덱스] : 해당 인덱스의 요소값 삭제\n",
    "    * 리스트.clear() : 모든 요소 삭제하고, 빈 리스트로 만듬\n",
    "    \n",
    "## !요소 확인\n",
    "    * 특정 값 존재 유무 : in, not in\n",
    "    * 특정 값의 위치 : 리스트.index(값)\n",
    "    * 특정 위치의 값 : 리스트[인덱스]\n",
    "\n",
    "## !정렬\n",
    "    * 뒤집기 : (리스트.reverse(), [::-1], reversed(리스트))\n",
    "    * 오름차순, 내림차순(리스트.sort(reverse = True), sorted(리스트, reverse = True))\n",
    "### 2차원 리스트의 특정 요소 기준으로 정렬\n",
    "        * sorted(리스트, key=lambda a: a[n])\n",
    "            (a는 아무거나 써도 됨, n은 정렬 기준이 될 요소의 인덱스)\n",
    "            \n",
    "## !튜플의 얕은 복사 / 깊은 복사\n",
    "\n",
    "## !형 변환\n",
    "    * 튜플 <=> 문자열\n",
    "    * 튜플 <=> 리스트\n",
    "    * 튜플 <=> 세트\n",
    "    * 튜플 <=> 딕셔너리\n",
    "    * 튜플 <=> bytes. bytesarray\n",
    "    * 튜플 <=> np.array\n",
    "    * 튜플 <=> pd.series\n",
    "    * 튜플 <=> pd.DataFrame"
   ]
  },
  {
   "cell_type": "markdown",
   "metadata": {},
   "source": [
    "## 기본 특징(리스트와 비교)"
   ]
  },
  {
   "cell_type": "markdown",
   "metadata": {},
   "source": [
    "\n",
    "    * 리스트와 다르게 요소 변경, 추가, 삭제 불가\n",
    "    * a = (1, 2, 3) 이렇게 정의해고 되고, a = 1, 2, 3 해도 됨"
   ]
  },
  {
   "cell_type": "code",
   "execution_count": 83,
   "metadata": {},
   "outputs": [
    {
     "data": {
      "text/plain": [
       "(1, 2, 3, '234', False)"
      ]
     },
     "execution_count": 83,
     "metadata": {},
     "output_type": "execute_result"
    }
   ],
   "source": [
    "# 정의\n",
    "\n",
    "a = 1,2,3, \"234\", False\n",
    "a"
   ]
  },
  {
   "cell_type": "markdown",
   "metadata": {},
   "source": [
    "* 괄호안에 값이 하나이면 튜플이 아나고 그냥 값 동일\n",
    "    * 요소가 한개인 튜플은 괄호 뒤에 컴마를 써주어야함"
   ]
  },
  {
   "cell_type": "code",
   "execution_count": 85,
   "metadata": {},
   "outputs": [
    {
     "name": "stdout",
     "output_type": "stream",
     "text": [
      "232\n",
      "(232,)\n",
      "<class 'int'>\n",
      "<class 'tuple'>\n"
     ]
    }
   ],
   "source": [
    "a = (232)\n",
    "b = (232,)\n",
    "\n",
    "print(a)\n",
    "print(b)\n",
    "print(type(a))\n",
    "print(type(b))"
   ]
  },
  {
   "cell_type": "markdown",
   "metadata": {},
   "source": [
    "* range 이용"
   ]
  },
  {
   "cell_type": "code",
   "execution_count": 86,
   "metadata": {},
   "outputs": [
    {
     "data": {
      "text/plain": [
       "(0, 1, 2)"
      ]
     },
     "execution_count": 86,
     "metadata": {},
     "output_type": "execute_result"
    }
   ],
   "source": [
    "c = tuple(range(3))\n",
    "c"
   ]
  },
  {
   "cell_type": "code",
   "execution_count": 107,
   "metadata": {},
   "outputs": [
    {
     "name": "stdout",
     "output_type": "stream",
     "text": [
      "23\n",
      "345\n",
      "sdf\n",
      "True\n"
     ]
    }
   ],
   "source": [
    "# 튜플 이용 다중 변수 할당\n",
    "a = 23,345,\"sdf\", True\n",
    "\n",
    "b, c, d, e = a\n",
    "\n",
    "print(b)\n",
    "print(c)\n",
    "print(d)\n",
    "print(e)"
   ]
  }
 ],
 "metadata": {
  "kernelspec": {
   "display_name": "Python 3",
   "language": "python",
   "name": "python3"
  },
  "language_info": {
   "codemirror_mode": {
    "name": "ipython",
    "version": 3
   },
   "file_extension": ".py",
   "mimetype": "text/x-python",
   "name": "python",
   "nbconvert_exporter": "python",
   "pygments_lexer": "ipython3",
   "version": "3.8.5"
  }
 },
 "nbformat": 4,
 "nbformat_minor": 4
}
