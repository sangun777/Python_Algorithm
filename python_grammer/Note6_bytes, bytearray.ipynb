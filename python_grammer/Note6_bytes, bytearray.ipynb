{
 "cells": [
  {
   "cell_type": "markdown",
   "metadata": {},
   "source": [
    "# 바이트 자료형(bytes, bytearray)"
   ]
  },
  {
   "cell_type": "markdown",
   "metadata": {},
   "source": [
    "## 내용 정리 목차\n",
    "* 현재 시스템 기본 인코딩 방식 확인\n",
    "* !bytes\n",
    "    * bytes 객체 생성\n",
    "        * bytes() 함수 사용\n",
    "\n",
    "* !bytearray\n",
    "\n",
    "* 인코딩 방식 별 비교\n",
    "    * ASCII\n",
    "    * utf-8\n",
    "    * euc-kr\n",
    "    * cp494\n",
    "    \n"
   ]
  },
  {
   "cell_type": "code",
   "execution_count": null,
   "metadata": {},
   "outputs": [],
   "source": []
  },
  {
   "cell_type": "markdown",
   "metadata": {},
   "source": [
    "* 현재 시스템 기본 인코딩 방식 확인"
   ]
  },
  {
   "cell_type": "code",
   "execution_count": 9,
   "metadata": {},
   "outputs": [
    {
     "data": {
      "text/plain": [
       "'utf-8'"
      ]
     },
     "execution_count": 9,
     "metadata": {},
     "output_type": "execute_result"
    }
   ],
   "source": [
    "import sys\n",
    "\n",
    "sys.getdefaultencoding()"
   ]
  },
  {
   "cell_type": "markdown",
   "metadata": {},
   "source": [
    "## !bytes\n",
    "    * 문자열을 인코딩하여 바이트 형식(8 bit => 0x00~0xFF)으로 표현한 자료형\n",
    "        * 인코딩 방식으로는 ASCII, UTF-8, euc-kr, cp949 등 사용\n",
    "    * bytes는 1바이트 단위의 값을 연속적으로 저장하는 시퀀스 자료형\n",
    "        * 1바이트는 8비트로 정의하며 0~255까지 정수를 사용\n",
    "        * 각 요소는 int형 숫자임\n",
    "    * 파이썬에서 b'hello'처럼 ' '(작은따옴표)나 \" \"(큰따옴표) 앞에 b를 붙이면, ASCII형식의 바이트(bytes) 객체가 됨\n",
    "    * bytes 자료형의 각 요소는 int형임.   \n",
    "    \n",
    "## !bytearray\n",
    "    * bytes와 차이점은 요소를 변경할 수 있느냐의 차이\n",
    "        * bytes는 요소를 변경할 수 없고, \n",
    "        * bytearray는 요소를 변경할 수 있음"
   ]
  },
  {
   "cell_type": "markdown",
   "metadata": {},
   "source": [
    "### bytes 객체 생성"
   ]
  },
  {
   "cell_type": "markdown",
   "metadata": {},
   "source": [
    "* bytes() 함수 사용\n",
    "    * bytes(길이): 정해진 길이만큼 0으로 채워진 바이트 객체를 생성\n",
    "    * bytes(반복가능한객체): 반복 가능한 객체로 바이트 객체를 생성\n",
    "    * bytes(바이트객체): 바이트 객체로 바이트 객체를 생성"
   ]
  },
  {
   "cell_type": "code",
   "execution_count": 26,
   "metadata": {},
   "outputs": [
    {
     "data": {
      "text/plain": [
       "b'\\x00\\x00\\x00\\x00\\x00\\x00\\x00\\x00\\x00\\x00'"
      ]
     },
     "execution_count": 26,
     "metadata": {},
     "output_type": "execute_result"
    }
   ],
   "source": [
    "bytes(10)    # 0이 10개 들어있는 바이트 객체 생성"
   ]
  },
  {
   "cell_type": "code",
   "execution_count": 67,
   "metadata": {},
   "outputs": [
    {
     "data": {
      "text/plain": [
       "b'AAAAA'"
      ]
     },
     "execution_count": 67,
     "metadata": {},
     "output_type": "execute_result"
    }
   ],
   "source": [
    "bytes([65, 65, 65, 65, 65])"
   ]
  },
  {
   "cell_type": "code",
   "execution_count": 33,
   "metadata": {},
   "outputs": [
    {
     "data": {
      "text/plain": [
       "b'\\n\\x14\\x1e(2'"
      ]
     },
     "execution_count": 33,
     "metadata": {},
     "output_type": "execute_result"
    }
   ],
   "source": [
    "bytes([10, 20, 30, 40, 50])    # 리스트로 바이트 객체 생성"
   ]
  },
  {
   "cell_type": "code",
   "execution_count": 47,
   "metadata": {},
   "outputs": [
    {
     "data": {
      "text/plain": [
       "10"
      ]
     },
     "execution_count": 47,
     "metadata": {},
     "output_type": "execute_result"
    }
   ],
   "source": [
    "ord('\\n')"
   ]
  },
  {
   "cell_type": "code",
   "execution_count": 52,
   "metadata": {},
   "outputs": [
    {
     "data": {
      "text/plain": [
       "20"
      ]
     },
     "execution_count": 52,
     "metadata": {},
     "output_type": "execute_result"
    }
   ],
   "source": [
    "ord('\\x14')"
   ]
  },
  {
   "cell_type": "code",
   "execution_count": 64,
   "metadata": {},
   "outputs": [
    {
     "data": {
      "text/plain": [
       "'\\x14'"
      ]
     },
     "execution_count": 64,
     "metadata": {},
     "output_type": "execute_result"
    }
   ],
   "source": [
    "chr(20)"
   ]
  },
  {
   "cell_type": "code",
   "execution_count": 51,
   "metadata": {},
   "outputs": [
    {
     "data": {
      "text/plain": [
       "30"
      ]
     },
     "execution_count": 51,
     "metadata": {},
     "output_type": "execute_result"
    }
   ],
   "source": [
    "# ascii 코드 30 = '('\n",
    "ord('\\x1e')"
   ]
  },
  {
   "cell_type": "code",
   "execution_count": 50,
   "metadata": {},
   "outputs": [
    {
     "data": {
      "text/plain": [
       "40"
      ]
     },
     "execution_count": 50,
     "metadata": {},
     "output_type": "execute_result"
    }
   ],
   "source": [
    "# ascii 코드 40 = '('\n",
    "ord('(')"
   ]
  },
  {
   "cell_type": "code",
   "execution_count": 49,
   "metadata": {},
   "outputs": [
    {
     "data": {
      "text/plain": [
       "50"
      ]
     },
     "execution_count": 49,
     "metadata": {},
     "output_type": "execute_result"
    }
   ],
   "source": [
    "# ascii 코드 50 = '2'\n",
    "ord('2')"
   ]
  },
  {
   "cell_type": "code",
   "execution_count": 53,
   "metadata": {},
   "outputs": [
    {
     "data": {
      "text/plain": [
       "65"
      ]
     },
     "execution_count": 53,
     "metadata": {},
     "output_type": "execute_result"
    }
   ],
   "source": [
    "# 'A'는 문자열이고, 파이썬에서 문자열은 UTF-8 형식으로 저장되므로,\n",
    "# A의 UTF-8 값인 \\x65와 값이 동일한 것?\n",
    "ord('A')"
   ]
  },
  {
   "cell_type": "markdown",
   "metadata": {},
   "source": [
    "* '\\x41' 과 같이 문자열 기호'' 안에 16진수를 표현하면,  \n",
    "  ''안에 16진수 값에 ASCII 코드로 대응되는 문자를 표현 해줌\n",
    "* 즉, '\\x41' = '65에 해당하는 ASCII' = 'A'"
   ]
  },
  {
   "cell_type": "code",
   "execution_count": 59,
   "metadata": {},
   "outputs": [
    {
     "data": {
      "text/plain": [
       "'A'"
      ]
     },
     "execution_count": 59,
     "metadata": {},
     "output_type": "execute_result"
    }
   ],
   "source": [
    "# 16진수 41(\\x41)은 10진수 65와 동일\n",
    "# '\\x41' 과 같이 문자열 기호'' 안에 16진수를 표현하면,\n",
    "# ''안에 16진수 값에 ASCII 코드로 대응되는 문자를 표현 해줌\n",
    "# 즉\n",
    "\n",
    "'\\x41'"
   ]
  },
  {
   "cell_type": "code",
   "execution_count": 65,
   "metadata": {},
   "outputs": [
    {
     "data": {
      "text/plain": [
       "'\\x14'"
      ]
     },
     "execution_count": 65,
     "metadata": {},
     "output_type": "execute_result"
    }
   ],
   "source": [
    "'\\x14'"
   ]
  },
  {
   "cell_type": "code",
   "execution_count": 58,
   "metadata": {},
   "outputs": [
    {
     "data": {
      "text/plain": [
       "65"
      ]
     },
     "execution_count": 58,
     "metadata": {},
     "output_type": "execute_result"
    }
   ],
   "source": [
    "0x41"
   ]
  },
  {
   "cell_type": "code",
   "execution_count": 57,
   "metadata": {},
   "outputs": [
    {
     "data": {
      "text/plain": [
       "65"
      ]
     },
     "execution_count": 57,
     "metadata": {},
     "output_type": "execute_result"
    }
   ],
   "source": [
    "ord('\\x41')"
   ]
  },
  {
   "cell_type": "code",
   "execution_count": 35,
   "metadata": {},
   "outputs": [
    {
     "name": "stdout",
     "output_type": "stream",
     "text": [
      "5\n",
      "10\n",
      "20\n",
      "30\n",
      "40\n",
      "50\n"
     ]
    }
   ],
   "source": [
    "a = bytes([10, 20, 30, 40, 50])\n",
    "print(len(a))\n",
    "for i in a:\n",
    "    print(i)"
   ]
  },
  {
   "cell_type": "code",
   "execution_count": 36,
   "metadata": {},
   "outputs": [
    {
     "name": "stdout",
     "output_type": "stream",
     "text": [
      "10\n"
     ]
    }
   ],
   "source": [
    "a = bytes([10, 20, 30, 40, 50])\n",
    "print(a[0])"
   ]
  },
  {
   "cell_type": "code",
   "execution_count": 28,
   "metadata": {},
   "outputs": [
    {
     "data": {
      "text/plain": [
       "b'hello'"
      ]
     },
     "execution_count": 28,
     "metadata": {},
     "output_type": "execute_result"
    }
   ],
   "source": [
    "bytes(b'hello')    # 바이트 객체로 바이트 객체 생성"
   ]
  },
  {
   "cell_type": "markdown",
   "metadata": {},
   "source": [
    "### bytearray 객체 생성"
   ]
  },
  {
   "cell_type": "markdown",
   "metadata": {},
   "source": [
    " * bytearray() 함수 사용\n",
    "    * bytearray(): 빈 바이트 배열 객체를 생성\n",
    "    * bytearray(길이): 정해진 길이만큼 0으로 채워진 바이트 배열 객체를 생성\n",
    "    * bytearray(반복가능한객체): 반복 가능한 객체로 바이트 배열 객체를 생성\n",
    "    * bytearray(바이트객체): 바이트 객체로 바이트 배열 객체를 생성"
   ]
  },
  {
   "cell_type": "markdown",
   "metadata": {},
   "source": [
    " * 요소 변경"
   ]
  },
  {
   "cell_type": "code",
   "execution_count": 30,
   "metadata": {},
   "outputs": [
    {
     "data": {
      "text/plain": [
       "bytearray(b'aello')"
      ]
     },
     "execution_count": 30,
     "metadata": {},
     "output_type": "execute_result"
    }
   ],
   "source": [
    "x = bytearray(b'hello')\n",
    "x[0] = ord('a')\n",
    "x"
   ]
  },
  {
   "cell_type": "markdown",
   "metadata": {},
   "source": [
    "### 인코딩 + bytes / bytearray 객체 생성 "
   ]
  },
  {
   "cell_type": "code",
   "execution_count": 42,
   "metadata": {},
   "outputs": [
    {
     "data": {
      "text/plain": [
       "b'\\xbe\\xc8\\xb3\\xe7'"
      ]
     },
     "execution_count": 42,
     "metadata": {},
     "output_type": "execute_result"
    }
   ],
   "source": [
    "bytes('안녕', encoding='euc-kr')"
   ]
  },
  {
   "cell_type": "code",
   "execution_count": 43,
   "metadata": {},
   "outputs": [
    {
     "data": {
      "text/plain": [
       "bytearray(b'\\xbe\\xc8\\xb3\\xe7')"
      ]
     },
     "execution_count": 43,
     "metadata": {},
     "output_type": "execute_result"
    }
   ],
   "source": [
    "bytearray('안녕', encoding='cp949')"
   ]
  },
  {
   "cell_type": "markdown",
   "metadata": {},
   "source": [
    "## !인코딩\n",
    "    * encode() 함수 사용\n",
    "    * 파이썬에서 문자열( str)의 기본 인코딩은 UTF-8인데, \n",
    "    * b'hello'와 같이 문자열을 바이트 객체로 만들면 각 문자를 ASCII 코드로 저장"
   ]
  },
  {
   "cell_type": "markdown",
   "metadata": {},
   "source": [
    "### 인코딩 방식 별 비교\n",
    "    * ASCII\n",
    "    * utf-8\n",
    "    * euc-kr\n",
    "    * cp494"
   ]
  },
  {
   "cell_type": "markdown",
   "metadata": {},
   "source": [
    "* ASCII\n",
    "    * 0~127 숫자를 알파벳 문자, 기호 등으로 변환한 것\n",
    "    * b'문자열'을 이용해서 문자열을 ASCII 코드로 인코딩 가능\n",
    "    * ord(문자)를 이용해서 문자를 ASCII코드로 변환 가능"
   ]
  },
  {
   "cell_type": "code",
   "execution_count": 31,
   "metadata": {},
   "outputs": [
    {
     "data": {
      "text/plain": [
       "b'hello'"
      ]
     },
     "execution_count": 31,
     "metadata": {},
     "output_type": "execute_result"
    }
   ],
   "source": [
    "a = b'hello'\n",
    "a"
   ]
  },
  {
   "cell_type": "code",
   "execution_count": 32,
   "metadata": {},
   "outputs": [
    {
     "name": "stdout",
     "output_type": "stream",
     "text": [
      "b'hello'\n",
      "5\n"
     ]
    }
   ],
   "source": [
    "a = 'hello'.encode()\n",
    "print(a)\n",
    "print(len(a))"
   ]
  },
  {
   "cell_type": "code",
   "execution_count": 37,
   "metadata": {},
   "outputs": [
    {
     "data": {
      "text/plain": [
       "b'hel'"
      ]
     },
     "execution_count": 37,
     "metadata": {},
     "output_type": "execute_result"
    }
   ],
   "source": [
    "b = 'hel'.encode('ascii')\n",
    "b"
   ]
  },
  {
   "cell_type": "markdown",
   "metadata": {},
   "source": [
    "* byte(b'문자열')를 이용한 ASCII 변환과 ord('문자열')를 이용한 변환 비교"
   ]
  },
  {
   "cell_type": "code",
   "execution_count": 17,
   "metadata": {},
   "outputs": [
    {
     "name": "stdout",
     "output_type": "stream",
     "text": [
      "104\n",
      "101\n",
      "108\n",
      "108\n",
      "111\n"
     ]
    }
   ],
   "source": [
    "for i in b'hello':\n",
    "    print(i)"
   ]
  },
  {
   "cell_type": "code",
   "execution_count": 19,
   "metadata": {},
   "outputs": [
    {
     "name": "stdout",
     "output_type": "stream",
     "text": [
      "104\n",
      "101\n",
      "108\n",
      "108\n",
      "111\n"
     ]
    }
   ],
   "source": [
    "for k in 'hello':\n",
    "    print(ord(k))"
   ]
  },
  {
   "cell_type": "markdown",
   "metadata": {},
   "source": [
    "* utf-8\n",
    "    * 유니코드를 기반으로 한 8바이트 인코딩 형식\n",
    "    * 0~127(0x00 ~ 0x7F)까지는 ASCII와 동일한 코드 사용으로 호환가능\n",
    "    * 한글 표현 시 한글자당 3바이트 사용\n",
    "    * 표현의 \\x는 16진수를 의미라는 듯"
   ]
  },
  {
   "cell_type": "code",
   "execution_count": 16,
   "metadata": {},
   "outputs": [
    {
     "name": "stdout",
     "output_type": "stream",
     "text": [
      "b'\\xec\\x95\\x88\\xeb\\x85\\x95'\n",
      "6\n",
      "236\n",
      "<class 'int'>\n"
     ]
    }
   ],
   "source": [
    "a = '안녕'.encode('utf-8')\n",
    "print(a)\n",
    "print(len(a))   # 한글자당 3바이트여서 총 6바이트 사용\n",
    "print(a[0])\n",
    "print(type(a[0]))"
   ]
  },
  {
   "cell_type": "markdown",
   "metadata": {},
   "source": [
    "* euc-kr\n",
    "    - 한글 표준 인코딩\n",
    "    - 한글 한글자 당 2byte 표현\n",
    "    - EUC-KR 코드표에는 한글뿐만 아니라 숫자, 특수기호, 영문, 한문, 일어가 정의되어 있음\n"
   ]
  },
  {
   "cell_type": "code",
   "execution_count": 6,
   "metadata": {},
   "outputs": [
    {
     "name": "stdout",
     "output_type": "stream",
     "text": [
      "b'\\xbe\\xc8\\xb3\\xe7'\n",
      "4\n"
     ]
    }
   ],
   "source": [
    "a = '안녕'.encode('euc-kr')\n",
    "print(a)\n",
    "print(len(a))    # 한글자당 2바이트여서 총 4바이트 사용"
   ]
  },
  {
   "cell_type": "markdown",
   "metadata": {},
   "source": [
    "* cp949\n",
    "    - 마이크로소프트에서 만든 한글 인코딩의 한 종류(Windows에서 사용)\n",
    "    - EUC-KR의 확장형\n",
    "    - 한글자 당 2byte 표현"
   ]
  },
  {
   "cell_type": "code",
   "execution_count": 7,
   "metadata": {},
   "outputs": [
    {
     "name": "stdout",
     "output_type": "stream",
     "text": [
      "b'\\xbe\\xc8\\xb3\\xe7'\n",
      "4\n"
     ]
    }
   ],
   "source": [
    "a = '안녕'.encode('cp949')\n",
    "print(a)\n",
    "print(len(a))    # 한글자당 2바이트여서 총 4바이트 사용"
   ]
  },
  {
   "cell_type": "markdown",
   "metadata": {},
   "source": [
    "* bytes 자료형의 각 요소는 int형이다"
   ]
  },
  {
   "cell_type": "code",
   "execution_count": 22,
   "metadata": {},
   "outputs": [
    {
     "name": "stdout",
     "output_type": "stream",
     "text": [
      "b'\\xec\\x95\\x88\\xeb\\x85\\x95'\n",
      "6\n",
      "236\n",
      "<class 'int'>\n",
      "b'\\xec\\x95\\x88\\xeb\\x85\\x95'\n",
      "6\n",
      "236\n",
      "<class 'int'>\n",
      "b'\\xbe\\xc8\\xb3\\xe7'\n",
      "4\n",
      "190\n",
      "<class 'int'>\n",
      "b'\\xbe\\xc8\\xb3\\xe7'\n",
      "4\n",
      "190\n",
      "<class 'int'>\n"
     ]
    }
   ],
   "source": [
    "a = '안녕'.encode()\n",
    "print(a)\n",
    "print(len(a))   # 한글자당 3바이트여서 총 6바이트 사용\n",
    "print(a[0])\n",
    "print(type(a[0]))\n",
    "\n",
    "a = '안녕'.encode('utf-8')\n",
    "print(a)\n",
    "print(len(a))   # 한글자당 3바이트여서 총 6바이트 사용\n",
    "print(a[0])\n",
    "print(type(a[0]))\n",
    "\n",
    "a = '안녕'.encode('euc-kr')\n",
    "print(a)\n",
    "print(len(a))   # 한글자당 3바이트여서 총 6바이트 사용\n",
    "print(a[0])\n",
    "print(type(a[0]))\n",
    "\n",
    "a = '안녕'.encode('cp949')\n",
    "print(a)\n",
    "print(len(a))   # 한글자당 3바이트여서 총 6바이트 사용\n",
    "print(a[0])\n",
    "print(type(a[0]))"
   ]
  },
  {
   "cell_type": "markdown",
   "metadata": {},
   "source": [
    "## !디코딩\n",
    "    * decode('방식이름')"
   ]
  },
  {
   "cell_type": "markdown",
   "metadata": {},
   "source": [
    "* 기본 bytes 객체(ascii형) 디코딩\n",
    "    * str 형으로 변환되며,\n",
    "    * 다시 utf-8형태로 변환됨"
   ]
  },
  {
   "cell_type": "code",
   "execution_count": 39,
   "metadata": {},
   "outputs": [
    {
     "data": {
      "text/plain": [
       "'hello'"
      ]
     },
     "execution_count": 39,
     "metadata": {},
     "output_type": "execute_result"
    }
   ],
   "source": [
    "b'hello'.decode()"
   ]
  },
  {
   "cell_type": "code",
   "execution_count": 40,
   "metadata": {},
   "outputs": [
    {
     "data": {
      "text/plain": [
       "'안녕'"
      ]
     },
     "execution_count": 40,
     "metadata": {},
     "output_type": "execute_result"
    }
   ],
   "source": [
    "x = '안녕'.encode('euc-kr')\n",
    "x.decode('euc-kr')"
   ]
  },
  {
   "cell_type": "code",
   "execution_count": 41,
   "metadata": {},
   "outputs": [
    {
     "data": {
      "text/plain": [
       "'안녕'"
      ]
     },
     "execution_count": 41,
     "metadata": {},
     "output_type": "execute_result"
    }
   ],
   "source": [
    "y = '안녕'.encode('utf-8')\n",
    "y.decode('utf-8')"
   ]
  },
  {
   "cell_type": "code",
   "execution_count": null,
   "metadata": {},
   "outputs": [],
   "source": []
  },
  {
   "cell_type": "code",
   "execution_count": null,
   "metadata": {},
   "outputs": [],
   "source": []
  },
  {
   "cell_type": "code",
   "execution_count": null,
   "metadata": {},
   "outputs": [],
   "source": []
  }
 ],
 "metadata": {
  "kernelspec": {
   "display_name": "Python 3",
   "language": "python",
   "name": "python3"
  },
  "language_info": {
   "codemirror_mode": {
    "name": "ipython",
    "version": 3
   },
   "file_extension": ".py",
   "mimetype": "text/x-python",
   "name": "python",
   "nbconvert_exporter": "python",
   "pygments_lexer": "ipython3",
   "version": "3.8.5"
  }
 },
 "nbformat": 4,
 "nbformat_minor": 4
}
