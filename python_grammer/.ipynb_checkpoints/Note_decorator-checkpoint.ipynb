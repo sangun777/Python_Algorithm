{
 "cells": [
  {
   "cell_type": "markdown",
   "metadata": {},
   "source": [
    "# 데코레이터\n",
    "\n",
    "    * 함수를 수정하지 않은 상태로 추가기능 구현"
   ]
  },
  {
   "cell_type": "markdown",
   "metadata": {},
   "source": [
    "* 데코레이터 정의 방법"
   ]
  },
  {
   "cell_type": "code",
   "execution_count": null,
   "metadata": {},
   "outputs": [],
   "source": [
    "def 데코레이터명(func):  # 데코레이터는 (@데코레이터 밑에 줄의)함수를 매개변수로 받는다!!\n",
    "\tdef 추가기능 함수명():\n",
    "\t\t추가기능 코드\n",
    "\treturn 추가기능 함수명"
   ]
  },
  {
   "cell_type": "markdown",
   "metadata": {},
   "source": [
    "* 데코레이터 사용"
   ]
  },
  {
   "cell_type": "code",
   "execution_count": null,
   "metadata": {},
   "outputs": [],
   "source": [
    "# 아래와 같이 기존 함수가 정의된 코드 위에 @데코레이터를 붙이면\n",
    "# 기존 함수에 (데코레이터 안에 정의한)추가기능이 적용됨.\n",
    "\n",
    "@데코레이터명\n",
    "def 기존 정의된 함수():\n",
    "\t기존 정의된 함수 코드"
   ]
  },
  {
   "cell_type": "code",
   "execution_count": 1,
   "metadata": {},
   "outputs": [],
   "source": [
    "import datetime\n",
    "\n",
    "# \"test function\"문구가 시현되는데 걸리는 시간을 알려주느 모듈\n",
    "\n",
    "def datetime_decorator(func):\n",
    "    def decorated():\n",
    "        print(datetime.datetime.now())\n",
    "        func()\n",
    "        print(datetime.datetime.now())\n",
    "    return decorated\n",
    "\n",
    "@datetime_decorator\n",
    "def main_function():\n",
    "    print(\"test function\")"
   ]
  },
  {
   "cell_type": "code",
   "execution_count": 2,
   "metadata": {},
   "outputs": [
    {
     "name": "stdout",
     "output_type": "stream",
     "text": [
      "2021-06-15 20:16:40.165252\n",
      "test function\n",
      "2021-06-15 20:16:40.166258\n"
     ]
    }
   ],
   "source": [
    "# 코드 실행\n",
    "main_function()"
   ]
  },
  {
   "cell_type": "code",
   "execution_count": null,
   "metadata": {},
   "outputs": [],
   "source": []
  }
 ],
 "metadata": {
  "kernelspec": {
   "display_name": "Python 3",
   "language": "python",
   "name": "python3"
  },
  "language_info": {
   "codemirror_mode": {
    "name": "ipython",
    "version": 3
   },
   "file_extension": ".py",
   "mimetype": "text/x-python",
   "name": "python",
   "nbconvert_exporter": "python",
   "pygments_lexer": "ipython3",
   "version": "3.8.5"
  }
 },
 "nbformat": 4,
 "nbformat_minor": 4
}
