{
 "cells": [
  {
   "cell_type": "markdown",
   "id": "4997243a",
   "metadata": {},
   "source": [
    "# 수(2진, 8진 등), 연산(산술, 비트 등) 관련 "
   ]
  },
  {
   "cell_type": "code",
   "execution_count": 16,
   "id": "4fe884c0",
   "metadata": {},
   "outputs": [
    {
     "data": {
      "text/plain": [
       "6"
      ]
     },
     "execution_count": 16,
     "metadata": {},
     "output_type": "execute_result"
    }
   ],
   "source": [
    "# 이진수\n",
    "0b110"
   ]
  },
  {
   "cell_type": "code",
   "execution_count": 17,
   "id": "becfa71d",
   "metadata": {},
   "outputs": [
    {
     "data": {
      "text/plain": [
       "15"
      ]
     },
     "execution_count": 17,
     "metadata": {},
     "output_type": "execute_result"
    }
   ],
   "source": [
    "# 8진수\n",
    "0o017"
   ]
  },
  {
   "cell_type": "code",
   "execution_count": 18,
   "id": "b23fc2bf",
   "metadata": {},
   "outputs": [
    {
     "data": {
      "text/plain": [
       "15"
      ]
     },
     "execution_count": 18,
     "metadata": {},
     "output_type": "execute_result"
    }
   ],
   "source": [
    "# 16진수\n",
    "0x0f"
   ]
  },
  {
   "cell_type": "code",
   "execution_count": 19,
   "id": "e80043cd",
   "metadata": {},
   "outputs": [
    {
     "data": {
      "text/plain": [
       "0.9950803484449368"
      ]
     },
     "execution_count": 19,
     "metadata": {},
     "output_type": "execute_result"
    }
   ],
   "source": [
    "import random\n",
    "\n",
    "random.random()    # 0~1사이의 난수"
   ]
  },
  {
   "cell_type": "code",
   "execution_count": 20,
   "id": "259a7d2c",
   "metadata": {},
   "outputs": [
    {
     "data": {
      "text/plain": [
       "6"
      ]
     },
     "execution_count": 20,
     "metadata": {},
     "output_type": "execute_result"
    }
   ],
   "source": [
    "random.randint(1, 6)    # 1~6사이의 난수"
   ]
  },
  {
   "cell_type": "markdown",
   "id": "bde2ed3f",
   "metadata": {},
   "source": [
    "##  연산"
   ]
  },
  {
   "cell_type": "markdown",
   "id": "0d23bb50",
   "metadata": {},
   "source": [
    "# "
   ]
  },
  {
   "cell_type": "markdown",
   "id": "716469e4",
   "metadata": {},
   "source": [
    " * 비트연산자 xor\n",
    "    - 같으면 0, 다르면 1\n",
    "    - ^ 사용\n",
    "    - 응용하면 직사각형 문제 풀수 있음"
   ]
  },
  {
   "cell_type": "code",
   "execution_count": 5,
   "id": "11bf5a98",
   "metadata": {},
   "outputs": [
    {
     "data": {
      "text/plain": [
       "1"
      ]
     },
     "execution_count": 5,
     "metadata": {},
     "output_type": "execute_result"
    }
   ],
   "source": [
    "0^1"
   ]
  },
  {
   "cell_type": "code",
   "execution_count": 6,
   "id": "e107d794",
   "metadata": {},
   "outputs": [
    {
     "data": {
      "text/plain": [
       "0"
      ]
     },
     "execution_count": 6,
     "metadata": {},
     "output_type": "execute_result"
    }
   ],
   "source": [
    "1^1"
   ]
  },
  {
   "cell_type": "code",
   "execution_count": 7,
   "id": "ee2f64b3",
   "metadata": {},
   "outputs": [
    {
     "data": {
      "text/plain": [
       "0"
      ]
     },
     "execution_count": 7,
     "metadata": {},
     "output_type": "execute_result"
    }
   ],
   "source": [
    "0^0"
   ]
  },
  {
   "cell_type": "code",
   "execution_count": 8,
   "id": "8e4ac39c",
   "metadata": {},
   "outputs": [
    {
     "data": {
      "text/plain": [
       "1"
      ]
     },
     "execution_count": 8,
     "metadata": {},
     "output_type": "execute_result"
    }
   ],
   "source": [
    "1^0 "
   ]
  },
  {
   "cell_type": "markdown",
   "id": "aa7fe107",
   "metadata": {},
   "source": [
    "* 응용(직사각형 문제 풀이)\n",
    "    - 각 숫자를 2진수로 나타낸 뒤, 자릿수별로 xor 수행하는 원리\n",
    "    - 0, 1 말고도 같은 숫자가 짝수개, 홀수개 섞여있는 상황에서 홀수 개 숫자를 알수 있음"
   ]
  },
  {
   "cell_type": "code",
   "execution_count": 13,
   "id": "5cd6d162",
   "metadata": {},
   "outputs": [
    {
     "data": {
      "text/plain": [
       "8"
      ]
     },
     "execution_count": 13,
     "metadata": {},
     "output_type": "execute_result"
    }
   ],
   "source": [
    "7^8^7"
   ]
  },
  {
   "cell_type": "code",
   "execution_count": 15,
   "id": "0967b623",
   "metadata": {},
   "outputs": [
    {
     "data": {
      "text/plain": [
       "9"
      ]
     },
     "execution_count": 15,
     "metadata": {},
     "output_type": "execute_result"
    }
   ],
   "source": [
    "5^5^5^9^9^9^5^5^5"
   ]
  },
  {
   "cell_type": "code",
   "execution_count": null,
   "id": "1434a19a",
   "metadata": {},
   "outputs": [],
   "source": []
  },
  {
   "cell_type": "code",
   "execution_count": null,
   "id": "a43c021b",
   "metadata": {},
   "outputs": [],
   "source": []
  }
 ],
 "metadata": {
  "kernelspec": {
   "display_name": "Python 3",
   "language": "python",
   "name": "python3"
  },
  "language_info": {
   "codemirror_mode": {
    "name": "ipython",
    "version": 3
   },
   "file_extension": ".py",
   "mimetype": "text/x-python",
   "name": "python",
   "nbconvert_exporter": "python",
   "pygments_lexer": "ipython3",
   "version": "3.8.8"
  }
 },
 "nbformat": 4,
 "nbformat_minor": 5
}
