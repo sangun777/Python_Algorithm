{
 "cells": [
  {
   "cell_type": "markdown",
   "metadata": {},
   "source": [
    "# 세트(Set)"
   ]
  },
  {
   "cell_type": "markdown",
   "metadata": {},
   "source": [
    "# 내용 정리 목차\n",
    "\n",
    "## 기본 특징(튜플과 비교)\n",
    "\n",
    "## !시퀀스 공통 기능\n",
    "    1. 인덱스, 슬라이스\n",
    "    2. +, * 연산\n",
    "    3. in, not in\n",
    "    4. len() : 요소 갯수 구하기\n",
    "    5. enumerate : 인덱스, 값 뽑아내기\n",
    "    6. map(함수, 시퀀스) 적용\n",
    "    \n",
    "### 리스트 슬라이스 응용\n",
    "\n",
    "## !리스트 생성\n",
    "    * 기본 : [요소1, 요소2, ...]\n",
    "    * 빈리스트 : []. list()\n",
    "    * 문자 요소 리스트 생성\n",
    "        * 글자별 => list()\n",
    "        * 단어별 => .split()\n",
    "    * 숫자 요소 리스트 생성\n",
    "        * list(range())\n",
    "        * [0 for i in range(n)]\n",
    "    * 2차원 리스트 생성\n",
    "\n",
    "\n",
    "## !요소 추가\n",
    "    * 리스트.append(요소) : 맨 뒤에 요소 추가\n",
    "    * 리스트1.extend(리스트2) : 리스트 + 리스트\n",
    "        == 리스트1 + 리스트2\n",
    "    * 리스트.insert(인덱스, 요소) : 특정 인덱스에 요소 추가\n",
    "\n",
    "## !요소 변경\n",
    "    * 리스트[인덱스] = 값\n",
    "    * 리스트[슬라이스:] = 값\n",
    "    \n",
    "    * 요소 변경은 변경가능한 객체(mutable)만 가능\n",
    "        => list, set, dict, bytearray  \n",
    "    * tuple, str, range은 변경 불가능 객체(immutable)이라 요소 변경 안됨\n",
    "        * 이것들은 슬라이스 + 값 변경 + 슬라이스로 변경\n",
    "\n",
    "## !요소 삭제\n",
    "    * 리스트.pop(인덱스) : 특정 인덱스 or 마지막 요소 삭제하고 반환\n",
    "    * 리스트.remove(값) : 특정 값을 찾아서 삭제\n",
    "    * del 리스트[인덱스] : 해당 인덱스의 요소값 삭제\n",
    "    * 리스트.clear() : 모든 요소 삭제하고, 빈 리스트로 만듬\n",
    "    \n",
    "## !요소 확인\n",
    "    * 특정 값 존재 유무 : in, not in\n",
    "    * 특정 값의 위치 : 리스트.index(값)\n",
    "    * 특정 위치의 값 : 리스트[인덱스]\n",
    "\n",
    "## !정렬\n",
    "    * 뒤집기 : (리스트.reverse(), [::-1], reversed(리스트))\n",
    "    * 오름차순, 내림차순(리스트.sort(reverse = True), sorted(리스트, reverse = True))\n",
    "### 2차원 리스트의 특정 요소 기준으로 정렬\n",
    "        * sorted(리스트, key=lambda a: a[n])\n",
    "            (a는 아무거나 써도 됨, n은 정렬 기준이 될 요소의 인덱스)\n",
    "            \n",
    "## !리스트의 얕은 복사 / 깊은 복사\n",
    "\n",
    "## !형 변환\n",
    "    * 리스트 <=> 문자열\n",
    "    * 리스트 <=> 튜플\n",
    "    * 리스트 <=> 세트\n",
    "    * 리스트 <=> 딕셔너리\n",
    "    * 리스트 <=> bytes. bytesarray\n",
    "    * 리스트 <=> np.array\n",
    "    * 리스트 <=> pd.series\n",
    "    * 리스트 <=> pd.DataFrame"
   ]
  },
  {
   "cell_type": "markdown",
   "metadata": {},
   "source": [
    "# 세트! (set!)\n",
    "\n",
    "     * 세트명 = {값1, 값2, 값3}\n",
    "     * 세트명 = set(반복 가능한 객체)\n",
    "         *내용을 변경할수 없는 세트 만들기: frozenset(반복가능객체)\n",
    "     * in / not in 사용 가능"
   ]
  },
  {
   "cell_type": "markdown",
   "metadata": {},
   "source": [
    "## 요소 추가(add)"
   ]
  },
  {
   "cell_type": "code",
   "execution_count": 132,
   "metadata": {},
   "outputs": [
    {
     "data": {
      "text/plain": [
       "{1, 2, 3, 4, 5}"
      ]
     },
     "execution_count": 132,
     "metadata": {},
     "output_type": "execute_result"
    }
   ],
   "source": [
    "a = {1, 2, 3, 4}\n",
    "a.add(5)\n",
    "a"
   ]
  },
  {
   "cell_type": "markdown",
   "metadata": {},
   "source": [
    "## 요소 삭제(remove, discard)\n",
    "\n",
    "    remove : 해당 요소가 없으면 에러 발생\n",
    "    discard : 해당 요소가 없으면, 그냥 넘어감\n",
    "    pop() : 임의의 요소 삭제 후, 반환(요소 없으면 에러발생)\n",
    "    clear() : 전체 요소 삭제\n",
    "    "
   ]
  },
  {
   "cell_type": "code",
   "execution_count": 133,
   "metadata": {},
   "outputs": [
    {
     "data": {
      "text/plain": [
       "{1, 2, 3}"
      ]
     },
     "execution_count": 133,
     "metadata": {},
     "output_type": "execute_result"
    }
   ],
   "source": [
    "a = {1, 2, 3, 4}\n",
    "a.remove(4)\n",
    "a"
   ]
  },
  {
   "cell_type": "code",
   "execution_count": 134,
   "metadata": {},
   "outputs": [
    {
     "ename": "KeyError",
     "evalue": "5",
     "output_type": "error",
     "traceback": [
      "\u001b[1;31m---------------------------------------------------------------------------\u001b[0m",
      "\u001b[1;31mKeyError\u001b[0m                                  Traceback (most recent call last)",
      "\u001b[1;32m<ipython-input-134-a99b25443b2d>\u001b[0m in \u001b[0;36m<module>\u001b[1;34m\u001b[0m\n\u001b[0;32m      1\u001b[0m \u001b[0ma\u001b[0m \u001b[1;33m=\u001b[0m \u001b[1;33m{\u001b[0m\u001b[1;36m1\u001b[0m\u001b[1;33m,\u001b[0m \u001b[1;36m2\u001b[0m\u001b[1;33m,\u001b[0m \u001b[1;36m3\u001b[0m\u001b[1;33m,\u001b[0m \u001b[1;36m4\u001b[0m\u001b[1;33m}\u001b[0m\u001b[1;33m\u001b[0m\u001b[1;33m\u001b[0m\u001b[0m\n\u001b[1;32m----> 2\u001b[1;33m \u001b[0ma\u001b[0m\u001b[1;33m.\u001b[0m\u001b[0mremove\u001b[0m\u001b[1;33m(\u001b[0m\u001b[1;36m5\u001b[0m\u001b[1;33m)\u001b[0m\u001b[1;33m\u001b[0m\u001b[1;33m\u001b[0m\u001b[0m\n\u001b[0m\u001b[0;32m      3\u001b[0m \u001b[0ma\u001b[0m\u001b[1;33m\u001b[0m\u001b[1;33m\u001b[0m\u001b[0m\n",
      "\u001b[1;31mKeyError\u001b[0m: 5"
     ]
    }
   ],
   "source": [
    "a = {1, 2, 3, 4}\n",
    "a.remove(5)\n",
    "a"
   ]
  },
  {
   "cell_type": "code",
   "execution_count": 135,
   "metadata": {},
   "outputs": [
    {
     "data": {
      "text/plain": [
       "{1, 2, 4}"
      ]
     },
     "execution_count": 135,
     "metadata": {},
     "output_type": "execute_result"
    }
   ],
   "source": [
    "a = {1, 2, 3, 4}\n",
    "a.discard(3)\n",
    "a.discard(5)\n",
    "a"
   ]
  },
  {
   "cell_type": "markdown",
   "metadata": {},
   "source": [
    "## 세트 연산\n",
    "\n",
    "a, b가 세트일 때,\n",
    "    \n",
    "    * 합집합 : a | b  또는 set.union(a,b)\n",
    "    * 교집합 : a & b  또는 set.intersection(a,b)\n",
    "    * 차집합 : a - b  또는 set.difference(a,b)\n",
    "    * 대칭 차집합(교집합의 역) : a ^ b  또는 set.symmetric_difference(a,b)"
   ]
  },
  {
   "cell_type": "code",
   "execution_count": 115,
   "metadata": {},
   "outputs": [],
   "source": [
    "a = {1,2,3,4}\n",
    "b = {3,4,5,6}"
   ]
  },
  {
   "cell_type": "code",
   "execution_count": 116,
   "metadata": {},
   "outputs": [
    {
     "data": {
      "text/plain": [
       "{1, 2, 3, 4, 5, 6}"
      ]
     },
     "execution_count": 116,
     "metadata": {},
     "output_type": "execute_result"
    }
   ],
   "source": [
    "a | b"
   ]
  },
  {
   "cell_type": "code",
   "execution_count": 117,
   "metadata": {},
   "outputs": [
    {
     "data": {
      "text/plain": [
       "{3, 4}"
      ]
     },
     "execution_count": 117,
     "metadata": {},
     "output_type": "execute_result"
    }
   ],
   "source": [
    "a & b"
   ]
  },
  {
   "cell_type": "code",
   "execution_count": 118,
   "metadata": {},
   "outputs": [
    {
     "data": {
      "text/plain": [
       "{1, 2}"
      ]
     },
     "execution_count": 118,
     "metadata": {},
     "output_type": "execute_result"
    }
   ],
   "source": [
    "a - b"
   ]
  },
  {
   "cell_type": "code",
   "execution_count": 119,
   "metadata": {},
   "outputs": [
    {
     "data": {
      "text/plain": [
       "{1, 2, 5, 6}"
      ]
     },
     "execution_count": 119,
     "metadata": {},
     "output_type": "execute_result"
    }
   ],
   "source": [
    "a ^ b"
   ]
  },
  {
   "cell_type": "markdown",
   "metadata": {},
   "source": [
    "## 세트 연산 + 할당(연산 후 a가 변함)\n",
    "\n",
    "a, b가 세트일 때,\n",
    "    \n",
    "    * 합 할당 : a |= b  또는 a.update(b)\n",
    "    * 교집합 할당 : a &= b  또는 a.intersection_update(b)\n",
    "    * 차집합 할당: a -= b  또는 a.difference_update(b)\n",
    "    * 대칭 차집합(교집합의 역) : a ^= b  또는 a.symmetric_difference_update(b)"
   ]
  },
  {
   "cell_type": "code",
   "execution_count": 120,
   "metadata": {},
   "outputs": [
    {
     "data": {
      "text/plain": [
       "{1, 2, 3, 4, 5, 6}"
      ]
     },
     "execution_count": 120,
     "metadata": {},
     "output_type": "execute_result"
    }
   ],
   "source": [
    "a = {1,2,3,4}\n",
    "b = {3,4,5,6}\n",
    "\n",
    "a |= b\n",
    "\n",
    "a"
   ]
  },
  {
   "cell_type": "code",
   "execution_count": 121,
   "metadata": {},
   "outputs": [
    {
     "data": {
      "text/plain": [
       "{3, 4}"
      ]
     },
     "execution_count": 121,
     "metadata": {},
     "output_type": "execute_result"
    }
   ],
   "source": [
    "a = {1,2,3,4}\n",
    "b = {3,4,5,6}\n",
    "\n",
    "a &= b\n",
    "\n",
    "a"
   ]
  },
  {
   "cell_type": "code",
   "execution_count": 122,
   "metadata": {},
   "outputs": [
    {
     "data": {
      "text/plain": [
       "{1, 2}"
      ]
     },
     "execution_count": 122,
     "metadata": {},
     "output_type": "execute_result"
    }
   ],
   "source": [
    "a = {1,2,3,4}\n",
    "b = {3,4,5,6}\n",
    "\n",
    "a -= b\n",
    "\n",
    "a"
   ]
  },
  {
   "cell_type": "code",
   "execution_count": 123,
   "metadata": {},
   "outputs": [
    {
     "data": {
      "text/plain": [
       "{1, 2, 5, 6}"
      ]
     },
     "execution_count": 123,
     "metadata": {},
     "output_type": "execute_result"
    }
   ],
   "source": [
    "a = {1,2,3,4}\n",
    "b = {3,4,5,6}\n",
    "\n",
    "a ^= b\n",
    "\n",
    "a"
   ]
  },
  {
   "cell_type": "markdown",
   "metadata": {},
   "source": [
    "## (진(proper))부분집합(subset)/상위집합(superset) 여부 확인\n",
    "    \n",
    "    \n",
    "    * 현재세트 <= 다른세트\n",
    "    * 현재세트.issubset(다른세트)\n",
    "    * 현재세트 == 다른세트 or 현재세트 != 다른세트로 진 여부 판단"
   ]
  },
  {
   "cell_type": "code",
   "execution_count": 124,
   "metadata": {},
   "outputs": [
    {
     "data": {
      "text/plain": [
       "True"
      ]
     },
     "execution_count": 124,
     "metadata": {},
     "output_type": "execute_result"
    }
   ],
   "source": [
    "a = {1,2,3,4}\n",
    "b = {1,2,3,4,5,6}\n",
    "\n",
    "a <= b"
   ]
  },
  {
   "cell_type": "code",
   "execution_count": 125,
   "metadata": {},
   "outputs": [
    {
     "data": {
      "text/plain": [
       "True"
      ]
     },
     "execution_count": 125,
     "metadata": {},
     "output_type": "execute_result"
    }
   ],
   "source": [
    "a.issubset(b)"
   ]
  },
  {
   "cell_type": "code",
   "execution_count": 127,
   "metadata": {},
   "outputs": [
    {
     "data": {
      "text/plain": [
       "True"
      ]
     },
     "execution_count": 127,
     "metadata": {},
     "output_type": "execute_result"
    }
   ],
   "source": [
    "b.issuperset(a)"
   ]
  },
  {
   "cell_type": "code",
   "execution_count": 128,
   "metadata": {},
   "outputs": [
    {
     "data": {
      "text/plain": [
       "False"
      ]
     },
     "execution_count": 128,
     "metadata": {},
     "output_type": "execute_result"
    }
   ],
   "source": [
    "# 진부분집합이 아님\n",
    "a = {1,2,3,4}\n",
    "b = {1,2,3,4}\n",
    "\n",
    "a < b"
   ]
  },
  {
   "cell_type": "markdown",
   "metadata": {},
   "source": [
    " * 세트의 겹침 여부 판단 (.isdisjoint)\n",
    " \n",
    "     겹치는게 있으면, False\n",
    "     없으면, True"
   ]
  },
  {
   "cell_type": "code",
   "execution_count": 129,
   "metadata": {},
   "outputs": [
    {
     "data": {
      "text/plain": [
       "False"
      ]
     },
     "execution_count": 129,
     "metadata": {},
     "output_type": "execute_result"
    }
   ],
   "source": [
    "a = {1,2,3,4}\n",
    "b = {1,2,3,4,5,6}\n",
    "\n",
    "a.isdisjoint(b)"
   ]
  },
  {
   "cell_type": "code",
   "execution_count": 130,
   "metadata": {},
   "outputs": [
    {
     "data": {
      "text/plain": [
       "True"
      ]
     },
     "execution_count": 130,
     "metadata": {},
     "output_type": "execute_result"
    }
   ],
   "source": [
    "a = {1,2,3,4}\n",
    "b = {5,6}\n",
    "\n",
    "a.isdisjoint(b)"
   ]
  },
  {
   "cell_type": "markdown",
   "metadata": {},
   "source": [
    "## 세트 반복문, 조건문 활용\n",
    "\n",
    "    * {식 for 변수 in 세트 if 조건식}\n",
    "    * set(식 for 변수 in 세트 if 조건식)"
   ]
  },
  {
   "cell_type": "code",
   "execution_count": 136,
   "metadata": {},
   "outputs": [
    {
     "data": {
      "text/plain": [
       "{'e', 'i', 'n'}"
      ]
     },
     "execution_count": 136,
     "metadata": {},
     "output_type": "execute_result"
    }
   ],
   "source": [
    "a = {i for i in 'pineapple' if i not in 'apl'}\n",
    "a"
   ]
  }
 ],
 "metadata": {
  "kernelspec": {
   "display_name": "Python 3",
   "language": "python",
   "name": "python3"
  },
  "language_info": {
   "codemirror_mode": {
    "name": "ipython",
    "version": 3
   },
   "file_extension": ".py",
   "mimetype": "text/x-python",
   "name": "python",
   "nbconvert_exporter": "python",
   "pygments_lexer": "ipython3",
   "version": "3.8.5"
  }
 },
 "nbformat": 4,
 "nbformat_minor": 4
}
