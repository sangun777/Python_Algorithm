{
 "cells": [
  {
   "cell_type": "markdown",
   "metadata": {},
   "source": [
    "# 파이썬 연습장\n",
    "\n",
    "    * 기본 문법 리마인드 하기"
   ]
  },
  {
   "cell_type": "markdown",
   "metadata": {},
   "source": [
    "* 할것\n",
    "    * __main__ \n",
    "    * STDIN, STDOUT\n",
    "    * self\n",
    "    * 정규 표현식\n",
    "    * RestAPI\n",
    "    * 코테 끝나고 이 노트북 커밋하기"
   ]
  },
  {
   "cell_type": "markdown",
   "metadata": {},
   "source": [
    "* 조건문(if, else)"
   ]
  },
  {
   "cell_type": "code",
   "execution_count": 3,
   "metadata": {},
   "outputs": [
    {
     "name": "stdout",
     "output_type": "stream",
     "text": [
      "hi\n"
     ]
    }
   ],
   "source": [
    "if 23 > 20 :\n",
    "    print(\"hi\")"
   ]
  },
  {
   "cell_type": "markdown",
   "metadata": {},
   "source": [
    "* 반복문(while, for)"
   ]
  },
  {
   "cell_type": "code",
   "execution_count": null,
   "metadata": {},
   "outputs": [],
   "source": [
    "while 23 > 21:\n",
    "    # print(\"hi\")"
   ]
  },
  {
   "cell_type": "markdown",
   "metadata": {},
   "source": [
    "# 입력(input)"
   ]
  },
  {
   "cell_type": "markdown",
   "metadata": {},
   "source": [
    " * input(\"~\")\n",
    "     - ~를 출력하고, \n",
    "     - 키보드로 부터 입력을 받음(입력 값은 str type)\n",
    "     - 정수로 입력 받기 : int(input())"
   ]
  },
  {
   "cell_type": "code",
   "execution_count": 4,
   "metadata": {},
   "outputs": [
    {
     "name": "stdout",
     "output_type": "stream",
     "text": [
      "숫자를 입력하세요2\n",
      "입력한 숫자는 :  2\n"
     ]
    }
   ],
   "source": [
    "s = input(\"숫자를 입력하세요\")\n",
    "print(\"입력한 숫자는 : \", s)"
   ]
  },
  {
   "cell_type": "code",
   "execution_count": 12,
   "metadata": {
    "collapsed": true
   },
   "outputs": [
    {
     "ename": "NameError",
     "evalue": "name 's' is not defined",
     "output_type": "error",
     "traceback": [
      "\u001b[1;31m---------------------------------------------------------------------------\u001b[0m",
      "\u001b[1;31mNameError\u001b[0m                                 Traceback (most recent call last)",
      "\u001b[1;32m<ipython-input-12-8608dadf3785>\u001b[0m in \u001b[0;36m<module>\u001b[1;34m\u001b[0m\n\u001b[1;32m----> 1\u001b[1;33m \u001b[0mtype\u001b[0m\u001b[1;33m(\u001b[0m\u001b[0ms\u001b[0m\u001b[1;33m)\u001b[0m\u001b[1;33m\u001b[0m\u001b[1;33m\u001b[0m\u001b[0m\n\u001b[0m",
      "\u001b[1;31mNameError\u001b[0m: name 's' is not defined"
     ]
    }
   ],
   "source": [
    "type(s)"
   ]
  },
  {
   "cell_type": "markdown",
   "metadata": {},
   "source": [
    "## 표준 입력!!\n",
    "\n",
    "\n",
    "     * !!! 충격 주피터 노트북은 sys.stdin을 지원하지 않음 ㅠㅠ\n",
    "         * https://blog.naver.com/luvwithcat/222200084036\n",
    "         \n",
    "     * 코딩 테스트에서 입력값을 여러줄을 받아야 할 때,\n",
    "         * input()과 반복문으로 입력 받으면 시간초과가 발생가능\n",
    "         \n",
    "     * 카카오에서는 아예 표준 입출력하라고 명시까지 해놨음\n",
    "     \n",
    "     * sys 라이브러리를 사용할 때에는 한줄 입력 받은 후 꼭 rstrip() 함수를 호출한다.\n",
    "         * readline()으로 입력하면, 입력 후 엔터가 줄바꿈 기호로 입력되는데, 이 공백문자를 제거하기 위함."
   ]
  },
  {
   "cell_type": "code",
   "execution_count": 11,
   "metadata": {},
   "outputs": [
    {
     "name": "stdout",
     "output_type": "stream",
     "text": [
      "\n"
     ]
    }
   ],
   "source": [
    "from sys import stdin\n",
    "\n",
    "a = stdin.readline().rstrip()\n",
    "\n",
    "print(a)"
   ]
  },
  {
   "cell_type": "markdown",
   "metadata": {},
   "source": [
    "### 여러 값을 동시에 입력해서 리스트로 받기\n",
    "\n",
    "    * input().split() 사용\n",
    "    * 값 구분은 띄어쓰기로 함\n",
    "    * 각 값은 문자열 형태로 들어감"
   ]
  },
  {
   "cell_type": "code",
   "execution_count": 28,
   "metadata": {},
   "outputs": [
    {
     "name": "stdout",
     "output_type": "stream",
     "text": [
      "10 20 30 40\n"
     ]
    },
    {
     "data": {
      "text/plain": [
       "['10', '20', '30', '40']"
      ]
     },
     "execution_count": 28,
     "metadata": {},
     "output_type": "execute_result"
    }
   ],
   "source": [
    "a = input().split()\n",
    "a"
   ]
  },
  {
   "cell_type": "code",
   "execution_count": 29,
   "metadata": {},
   "outputs": [
    {
     "data": {
      "text/plain": [
       "list"
      ]
     },
     "execution_count": 29,
     "metadata": {},
     "output_type": "execute_result"
    }
   ],
   "source": [
    "type(a)"
   ]
  },
  {
   "cell_type": "markdown",
   "metadata": {},
   "source": [
    " * int 형으로 변환해서 받기(map 함수 이용)"
   ]
  },
  {
   "cell_type": "code",
   "execution_count": 33,
   "metadata": {},
   "outputs": [
    {
     "name": "stdout",
     "output_type": "stream",
     "text": [
      "10 20 30 40\n",
      "[10, 20, 30, 40]\n",
      "<class 'list'>\n"
     ]
    }
   ],
   "source": [
    "a = list(map(int, input().split()))\n",
    "print(a)\n",
    "print(type(a))"
   ]
  },
  {
   "cell_type": "markdown",
   "metadata": {},
   "source": [
    "# 출력"
   ]
  },
  {
   "cell_type": "markdown",
   "metadata": {},
   "source": [
    "* 문자열에 변수 넣기\n",
    "    * \"%s\" % 변수명 으로 숫자든 문자든 문자열안으로 넣을 수 있음"
   ]
  },
  {
   "cell_type": "code",
   "execution_count": 29,
   "metadata": {},
   "outputs": [
    {
     "name": "stdout",
     "output_type": "stream",
     "text": [
      "가격은 10000원 입니다.\n"
     ]
    }
   ],
   "source": [
    "price = 10000\n",
    "print(\"가격은 %s원 입니다.\" % price)\n",
    "# , 없고 % 만 있음에 주의"
   ]
  },
  {
   "cell_type": "code",
   "execution_count": 30,
   "metadata": {},
   "outputs": [
    {
     "name": "stdout",
     "output_type": "stream",
     "text": [
      "가격은 만원 입니다.\n"
     ]
    }
   ],
   "source": [
    "price = \"만\"\n",
    "print(\"가격은 %s원 입니다.\" % price)\n"
   ]
  },
  {
   "cell_type": "code",
   "execution_count": 32,
   "metadata": {},
   "outputs": [
    {
     "name": "stdout",
     "output_type": "stream",
     "text": [
      "3월 1일 입니다.\n"
     ]
    }
   ],
   "source": [
    "msg = \"%s월 %s일 입니다.\"\n",
    "print(msg % (3, 1))"
   ]
  },
  {
   "cell_type": "markdown",
   "metadata": {},
   "source": [
    " * 다중 출력, 사이 값 출력(sep)"
   ]
  },
  {
   "cell_type": "code",
   "execution_count": 38,
   "metadata": {},
   "outputs": [
    {
     "name": "stdout",
     "output_type": "stream",
     "text": [
      "1 2 3\n",
      "1g2g3\n"
     ]
    }
   ],
   "source": [
    "print(1,2,3)\n",
    "print(1,2,3, sep = 'g')"
   ]
  },
  {
   "cell_type": "markdown",
   "metadata": {},
   "source": [
    " * 줄바꿈 출력"
   ]
  },
  {
   "cell_type": "code",
   "execution_count": 39,
   "metadata": {},
   "outputs": [
    {
     "name": "stdout",
     "output_type": "stream",
     "text": [
      "1\n",
      "2\n",
      "3\n"
     ]
    }
   ],
   "source": [
    "print(1,2,3, sep = '\\n')"
   ]
  },
  {
   "cell_type": "code",
   "execution_count": 41,
   "metadata": {},
   "outputs": [
    {
     "name": "stdout",
     "output_type": "stream",
     "text": [
      "1\n",
      "2\n",
      "3\n"
     ]
    }
   ],
   "source": [
    "print(\"1\\n2\\n3\")"
   ]
  },
  {
   "cell_type": "code",
   "execution_count": 42,
   "metadata": {},
   "outputs": [
    {
     "name": "stdout",
     "output_type": "stream",
     "text": [
      "1\\n2\\n3\n"
     ]
    }
   ],
   "source": [
    "print(r\"1\\n2\\n3\")"
   ]
  },
  {
   "cell_type": "markdown",
   "metadata": {},
   "source": [
    "# 파일!\n",
    "\n",
    "    * open으로 파일 객체 만들고, 사용하고(읽거나쓰거나), 닫아줌\n",
    "    * 항상 마지막에 close()를 해주어야함\n",
    "        - with open() as 파일 객체명 : 파일 사용 후 자동으로 닫아줌\n",
    "          (close 따로 안해도 됨)\n",
    "          \n",
    "    * 파일 객체는 이터레이터다. "
   ]
  },
  {
   "cell_type": "markdown",
   "metadata": {},
   "source": [
    "## 파일 생성\n",
    "\n",
    "파일 생성하고, 문자열 입력하기\n",
    "   * 파일 객체명 = open(파일이름, 파일모드)\n",
    "   * 파일 객체명.write('문자열')\n",
    "   * 파일 객체명.close()\n",
    "   \n",
    "   * 파일모드\n",
    "       * r : 읽기\n",
    "       * w : 쓰기\n",
    "       * a : 추가(파일 끝에 새로운 내용 추가)\n",
    "       * x : 배타적 생성(exclusive creation)\n",
    "           => 파일이 이미 있으면, 에러 발생, 없으면 생성\n",
    "           \n",
    "       * 뒤에 t 붙으면 : 텍스트모드(rt, wt 등)\n",
    "       * 뒤에 b 붙으면 : 바이너리 모드(객체 저장 시, 사용)"
   ]
  },
  {
   "cell_type": "code",
   "execution_count": 137,
   "metadata": {},
   "outputs": [],
   "source": [
    "file = open('hello.txt', 'w')    # hello.txt 파일을 쓰기 모드(w)로 열기. 파일 객체 반환\n",
    "file.write('Hello, world!')      # 파일에 문자열 저장\n",
    "file.close()   "
   ]
  },
  {
   "cell_type": "markdown",
   "metadata": {},
   "source": [
    "## 파일 읽기"
   ]
  },
  {
   "cell_type": "code",
   "execution_count": 138,
   "metadata": {},
   "outputs": [
    {
     "name": "stdout",
     "output_type": "stream",
     "text": [
      "Hello, world!\n"
     ]
    }
   ],
   "source": [
    "file = open('hello.txt', 'r')    # hello.txt 파일을 읽기 모드(r)로 열기. 파일 객체 반환\n",
    "s = file.read()                  # 파일에서 문자열 읽기\n",
    "print(s)                         # Hello, world!\n",
    "\n",
    "file.close()                     # 파일 객체 닫기"
   ]
  },
  {
   "cell_type": "code",
   "execution_count": 139,
   "metadata": {},
   "outputs": [
    {
     "name": "stdout",
     "output_type": "stream",
     "text": [
      "Hello, world!\n"
     ]
    }
   ],
   "source": [
    "# close() 대신 with open 사용\n",
    "\n",
    "with open('hello.txt', 'r') as file:    # hello.txt 파일을 읽기 모드(r)로 열기\n",
    "    s = file.read()                     # 파일에서 문자열 읽기\n",
    "    print(s)  "
   ]
  },
  {
   "cell_type": "markdown",
   "metadata": {},
   "source": [
    "### 파일에 문자열 여러줄 쓰기"
   ]
  },
  {
   "cell_type": "code",
   "execution_count": 140,
   "metadata": {},
   "outputs": [],
   "source": [
    "with open('hello.txt', 'w') as file:    # hello.txt 파일을 쓰기 모드(w)로 열기\n",
    "    for i in range(3):\n",
    "        file.write('Hello, world! {0}\\n'.format(i))"
   ]
  },
  {
   "cell_type": "code",
   "execution_count": 144,
   "metadata": {},
   "outputs": [
    {
     "name": "stdout",
     "output_type": "stream",
     "text": [
      "Hello, world! 0\n",
      "Hello, world! 1\n",
      "Hello, world! 2\n",
      "\n"
     ]
    }
   ],
   "source": [
    "# 파일 읽기\n",
    "with open('hello.txt', 'r') as aa:\n",
    "    s = aa.read()\n",
    "    print(s)"
   ]
  },
  {
   "cell_type": "markdown",
   "metadata": {},
   "source": [
    "### 리스트에 있는 문자열을 파일에 쓰기(writelines)"
   ]
  },
  {
   "cell_type": "code",
   "execution_count": 145,
   "metadata": {},
   "outputs": [],
   "source": [
    "lines = ['안녕하세요.\\n', '파이썬\\n', '코딩 도장입니다.\\n']\n",
    "\n",
    "with open('hello.txt', 'w') as file:\n",
    "    file.writelines(lines)"
   ]
  },
  {
   "cell_type": "code",
   "execution_count": 146,
   "metadata": {},
   "outputs": [
    {
     "name": "stdout",
     "output_type": "stream",
     "text": [
      "안녕하세요.\n",
      "파이썬\n",
      "코딩 도장입니다.\n",
      "\n"
     ]
    }
   ],
   "source": [
    "# 파일 읽기\n",
    "with open('hello.txt', 'r') as aa:\n",
    "    s = aa.read()\n",
    "    print(s)"
   ]
  },
  {
   "cell_type": "markdown",
   "metadata": {},
   "source": [
    "### 파일 내용을 한줄씩 리스트 요소로 가져오기(readlines)"
   ]
  },
  {
   "cell_type": "code",
   "execution_count": 147,
   "metadata": {},
   "outputs": [
    {
     "name": "stdout",
     "output_type": "stream",
     "text": [
      "['안녕하세요.\\n', '파이썬\\n', '코딩 도장입니다.\\n']\n"
     ]
    }
   ],
   "source": [
    "with open('hello.txt', 'r') as file:\n",
    "    s = file.readlines()\n",
    "    print(s)"
   ]
  },
  {
   "cell_type": "markdown",
   "metadata": {},
   "source": [
    "### 파일 내용에서 한줄씩 순차적으로 가져오기(readline 또는 for문)\n",
    "\n",
    "    * 위에 readlines와 다름(s가 없음) 주의!!"
   ]
  },
  {
   "cell_type": "code",
   "execution_count": 148,
   "metadata": {},
   "outputs": [
    {
     "name": "stdout",
     "output_type": "stream",
     "text": [
      "안녕하세요.\n",
      "파이썬\n",
      "코딩 도장입니다.\n",
      "\n"
     ]
    }
   ],
   "source": [
    "with open('hello.txt', 'r') as file:    # hello.txt 파일을 읽기 모드(r)로 열기\n",
    "    line = None    # 변수 line을 None으로 초기화\n",
    "    \n",
    "    while line != '':\n",
    "        line = file.readline()\n",
    "        print(line.strip('\\n'))    # 파일에서 읽어온 문자열에서 \\n 삭제하여 출력"
   ]
  },
  {
   "cell_type": "code",
   "execution_count": 149,
   "metadata": {},
   "outputs": [
    {
     "name": "stdout",
     "output_type": "stream",
     "text": [
      "안녕하세요.\n",
      "파이썬\n",
      "코딩 도장입니다.\n"
     ]
    }
   ],
   "source": [
    "# 방법2 for문 이용\n",
    "with open('hello.txt', 'r') as file:    # hello.txt 파일을 읽기 모드(r)로 열기\n",
    "    for line in file:    # for에 파일 객체를 지정하면 파일의 내용을 한 줄씩 읽어서 변수에 저장함\n",
    "        print(line.strip('\\n'))    # 파일에서 읽어온 문자열에서 \\n 삭제하여 출력"
   ]
  },
  {
   "cell_type": "markdown",
   "metadata": {},
   "source": [
    "## 객체를 파일로 저장(피클!)\n",
    "\n",
    "    * 파이썬 객체를 파일에 저장하는 과정을 피클링(pickling)이라고 하고, \n",
    "    * 파일에서 객체를 읽어오는 과정을 언피클링(unpickling)이라고 합니다."
   ]
  },
  {
   "cell_type": "markdown",
   "metadata": {},
   "source": [
    " ### 피클링 : 객체를 파일로 저장\n",
    " * 피클링은 pickle 모듈의 dump 메서드를 사용\n",
    " * pickle.dump로 객체(값)를 저장할 때는   \n",
    "   open('james.p', 'wb')와 같이 파일 모드를 'wb'로 지정해야 합니다.\n",
    " * 여기서는 확장자를 pickle의 p를 사용했지만 다른 확장자를 사용해도 상관없습니다."
   ]
  },
  {
   "cell_type": "code",
   "execution_count": 152,
   "metadata": {},
   "outputs": [],
   "source": [
    "import pickle\n",
    "\n",
    "name = 'james'\n",
    "age = 17\n",
    "address = '서울시 서초구 반포동'\n",
    "scores = {'korean': 90, 'english': 95, 'mathematics': 85, 'science': 82}\n",
    "\n",
    "with open('james.p', 'wb') as file:    # james.p 파일을 바이너리 쓰기 모드(wb)로 열기\n",
    "    pickle.dump(name, file)\n",
    "    pickle.dump(age, file)\n",
    "    pickle.dump(address, file)\n",
    "    pickle.dump(scores, file)"
   ]
  },
  {
   "cell_type": "markdown",
   "metadata": {},
   "source": [
    "### 언피클링 : 피클링 파일로 부터 객체 읽어오기\n",
    "    \n",
    "    * pickle.load() 사용\n",
    "    * 모드는 'rb'사용\n",
    "    "
   ]
  },
  {
   "cell_type": "code",
   "execution_count": 153,
   "metadata": {},
   "outputs": [
    {
     "name": "stdout",
     "output_type": "stream",
     "text": [
      "james\n",
      "17\n",
      "서울시 서초구 반포동\n",
      "{'korean': 90, 'english': 95, 'mathematics': 85, 'science': 82}\n"
     ]
    }
   ],
   "source": [
    "import pickle\n",
    "\n",
    "with open('james.p', 'rb') as file:\n",
    "    name = pickle.load(file)\n",
    "    age = pickle.load(file)\n",
    "    address = pickle.load(file)\n",
    "    scores = pickle.load(file)\n",
    "    print(name)\n",
    "    print(age)\n",
    "    print(address)\n",
    "    print(scores)"
   ]
  },
  {
   "cell_type": "markdown",
   "metadata": {},
   "source": [
    "# 조건\n",
    "\n",
    "    * is, is not도 같다, 다르다지만, ==, !=는 값 자체를 비교하고, is, is not은 객체(object)를 비교합니다\n",
    "    * 객체가 다른 것은 id()를 찍어보면 알수 있음\n",
    "    \n",
    "    결론 : 값 비교에는 ==을 쓰고, is는 쓰면 안됨"
   ]
  },
  {
   "cell_type": "code",
   "execution_count": 43,
   "metadata": {},
   "outputs": [
    {
     "data": {
      "text/plain": [
       "True"
      ]
     },
     "execution_count": 43,
     "metadata": {},
     "output_type": "execute_result"
    }
   ],
   "source": [
    "1 == 1.0"
   ]
  },
  {
   "cell_type": "code",
   "execution_count": 44,
   "metadata": {},
   "outputs": [
    {
     "name": "stderr",
     "output_type": "stream",
     "text": [
      "<>:1: SyntaxWarning: \"is\" with a literal. Did you mean \"==\"?\n",
      "<>:1: SyntaxWarning: \"is\" with a literal. Did you mean \"==\"?\n",
      "<ipython-input-44-2ebf4c947f31>:1: SyntaxWarning: \"is\" with a literal. Did you mean \"==\"?\n",
      "  1 is 1.0\n"
     ]
    },
    {
     "data": {
      "text/plain": [
       "False"
      ]
     },
     "execution_count": 44,
     "metadata": {},
     "output_type": "execute_result"
    }
   ],
   "source": [
    "1 is 1.0"
   ]
  },
  {
   "cell_type": "code",
   "execution_count": 45,
   "metadata": {},
   "outputs": [
    {
     "name": "stderr",
     "output_type": "stream",
     "text": [
      "<>:1: SyntaxWarning: \"is not\" with a literal. Did you mean \"!=\"?\n",
      "<>:1: SyntaxWarning: \"is not\" with a literal. Did you mean \"!=\"?\n",
      "<ipython-input-45-7a2cea8bf2ec>:1: SyntaxWarning: \"is not\" with a literal. Did you mean \"!=\"?\n",
      "  1 is not 1.0\n"
     ]
    },
    {
     "data": {
      "text/plain": [
       "True"
      ]
     },
     "execution_count": 45,
     "metadata": {},
     "output_type": "execute_result"
    }
   ],
   "source": [
    "1 is not 1.0"
   ]
  },
  {
   "cell_type": "code",
   "execution_count": 46,
   "metadata": {},
   "outputs": [
    {
     "data": {
      "text/plain": [
       "140737052813088"
      ]
     },
     "execution_count": 46,
     "metadata": {},
     "output_type": "execute_result"
    }
   ],
   "source": [
    "id(1)"
   ]
  },
  {
   "cell_type": "code",
   "execution_count": 47,
   "metadata": {},
   "outputs": [
    {
     "data": {
      "text/plain": [
       "2698962990480"
      ]
     },
     "execution_count": 47,
     "metadata": {},
     "output_type": "execute_result"
    }
   ],
   "source": [
    "id(1.0)"
   ]
  },
  {
   "cell_type": "code",
   "execution_count": 48,
   "metadata": {},
   "outputs": [
    {
     "data": {
      "text/plain": [
       "int"
      ]
     },
     "execution_count": 48,
     "metadata": {},
     "output_type": "execute_result"
    }
   ],
   "source": [
    "type(1)"
   ]
  },
  {
   "cell_type": "code",
   "execution_count": 49,
   "metadata": {},
   "outputs": [
    {
     "data": {
      "text/plain": [
       "float"
      ]
     },
     "execution_count": 49,
     "metadata": {},
     "output_type": "execute_result"
    }
   ],
   "source": [
    "type(1.0)"
   ]
  },
  {
   "cell_type": "markdown",
   "metadata": {},
   "source": [
    "### 조건문"
   ]
  },
  {
   "cell_type": "markdown",
   "metadata": {},
   "source": [
    " * 조건문의 body 코드 생략하기 : pass"
   ]
  },
  {
   "cell_type": "code",
   "execution_count": 151,
   "metadata": {},
   "outputs": [
    {
     "ename": "SyntaxError",
     "evalue": "unexpected EOF while parsing (<ipython-input-151-bd7f1730c489>, line 2)",
     "output_type": "error",
     "traceback": [
      "\u001b[1;36m  File \u001b[1;32m\"<ipython-input-151-bd7f1730c489>\"\u001b[1;36m, line \u001b[1;32m2\u001b[0m\n\u001b[1;33m    if x == 10:\u001b[0m\n\u001b[1;37m               ^\u001b[0m\n\u001b[1;31mSyntaxError\u001b[0m\u001b[1;31m:\u001b[0m unexpected EOF while parsing\n"
     ]
    }
   ],
   "source": [
    "x = 10\n",
    "if x == 10:"
   ]
  },
  {
   "cell_type": "code",
   "execution_count": 150,
   "metadata": {},
   "outputs": [],
   "source": [
    "x = 10\n",
    "if x == 10:\n",
    "    pass"
   ]
  },
  {
   "cell_type": "code",
   "execution_count": 152,
   "metadata": {},
   "outputs": [
    {
     "name": "stdout",
     "output_type": "stream",
     "text": [
      "y\n"
     ]
    }
   ],
   "source": [
    "# 조건문에서 None = False\n",
    "\n",
    "if None :\n",
    "    print(\"x\")\n",
    "else : \n",
    "    print(\"y\")\n",
    "    "
   ]
  },
  {
   "cell_type": "code",
   "execution_count": 153,
   "metadata": {},
   "outputs": [
    {
     "name": "stdout",
     "output_type": "stream",
     "text": [
      "2\n"
     ]
    }
   ],
   "source": [
    "x = 2\n",
    "\n",
    "if x == 1:\n",
    "    print(1)\n",
    "elif x == 2:\n",
    "    print(2)\n",
    "else:\n",
    "    print(3)"
   ]
  },
  {
   "cell_type": "code",
   "execution_count": 154,
   "metadata": {},
   "outputs": [
    {
     "name": "stdout",
     "output_type": "stream",
     "text": [
      "5\n"
     ]
    }
   ],
   "source": [
    "if 0<x<3:\n",
    "    print(5)"
   ]
  },
  {
   "cell_type": "markdown",
   "metadata": {},
   "source": [
    "## 논리연산자\n",
    "\n",
    "    * a and b\n",
    "    * a or b\n",
    "    * not a\n",
    "    \n",
    "    * 위에 3가지가 섞여 있으면, not, and, or 순으로 판단"
   ]
  },
  {
   "cell_type": "code",
   "execution_count": 50,
   "metadata": {},
   "outputs": [
    {
     "data": {
      "text/plain": [
       "True"
      ]
     },
     "execution_count": 50,
     "metadata": {},
     "output_type": "execute_result"
    }
   ],
   "source": [
    "not True and False or not False"
   ]
  },
  {
   "cell_type": "markdown",
   "metadata": {},
   "source": [
    " * bool()\n",
    "     \n",
    "    * 정수 0, 실수 0.0, 빈 문자열 '', \"\", None 만 False\n",
    "    * 나머지는 True"
   ]
  },
  {
   "cell_type": "code",
   "execution_count": 51,
   "metadata": {},
   "outputs": [
    {
     "data": {
      "text/plain": [
       "True"
      ]
     },
     "execution_count": 51,
     "metadata": {},
     "output_type": "execute_result"
    }
   ],
   "source": [
    "bool(1)"
   ]
  },
  {
   "cell_type": "code",
   "execution_count": 52,
   "metadata": {},
   "outputs": [
    {
     "data": {
      "text/plain": [
       "False"
      ]
     },
     "execution_count": 52,
     "metadata": {},
     "output_type": "execute_result"
    }
   ],
   "source": [
    "bool(0)"
   ]
  },
  {
   "cell_type": "code",
   "execution_count": 53,
   "metadata": {},
   "outputs": [
    {
     "data": {
      "text/plain": [
       "False"
      ]
     },
     "execution_count": 53,
     "metadata": {},
     "output_type": "execute_result"
    }
   ],
   "source": [
    "bool(0.0)"
   ]
  },
  {
   "cell_type": "code",
   "execution_count": 54,
   "metadata": {},
   "outputs": [
    {
     "data": {
      "text/plain": [
       "True"
      ]
     },
     "execution_count": 54,
     "metadata": {},
     "output_type": "execute_result"
    }
   ],
   "source": [
    "bool(345)"
   ]
  },
  {
   "cell_type": "code",
   "execution_count": 55,
   "metadata": {},
   "outputs": [
    {
     "data": {
      "text/plain": [
       "True"
      ]
     },
     "execution_count": 55,
     "metadata": {},
     "output_type": "execute_result"
    }
   ],
   "source": [
    "bool(\"qweqw\")"
   ]
  },
  {
   "cell_type": "code",
   "execution_count": 56,
   "metadata": {},
   "outputs": [
    {
     "data": {
      "text/plain": [
       "False"
      ]
     },
     "execution_count": 56,
     "metadata": {},
     "output_type": "execute_result"
    }
   ],
   "source": [
    "bool('')"
   ]
  },
  {
   "cell_type": "markdown",
   "metadata": {},
   "source": [
    "### 파이썬에서 단락 평가\n",
    "\n",
    "    * 문자열과 boolean을 비교하면 뒤에 것 기준으로 판단"
   ]
  },
  {
   "cell_type": "code",
   "execution_count": 57,
   "metadata": {},
   "outputs": [
    {
     "data": {
      "text/plain": [
       "True"
      ]
     },
     "execution_count": 57,
     "metadata": {},
     "output_type": "execute_result"
    }
   ],
   "source": [
    "\"hello\" and True"
   ]
  },
  {
   "cell_type": "code",
   "execution_count": 58,
   "metadata": {},
   "outputs": [
    {
     "data": {
      "text/plain": [
       "'hello'"
      ]
     },
     "execution_count": 58,
     "metadata": {},
     "output_type": "execute_result"
    }
   ],
   "source": [
    "True and \"hello\""
   ]
  },
  {
   "cell_type": "code",
   "execution_count": 59,
   "metadata": {},
   "outputs": [
    {
     "data": {
      "text/plain": [
       "False"
      ]
     },
     "execution_count": 59,
     "metadata": {},
     "output_type": "execute_result"
    }
   ],
   "source": [
    "\"hello\" and False"
   ]
  },
  {
   "cell_type": "code",
   "execution_count": 60,
   "metadata": {},
   "outputs": [
    {
     "data": {
      "text/plain": [
       "'hello'"
      ]
     },
     "execution_count": 60,
     "metadata": {},
     "output_type": "execute_result"
    }
   ],
   "source": [
    "\"hello\" or False"
   ]
  },
  {
   "cell_type": "code",
   "execution_count": 61,
   "metadata": {},
   "outputs": [
    {
     "data": {
      "text/plain": [
       "False"
      ]
     },
     "execution_count": 61,
     "metadata": {},
     "output_type": "execute_result"
    }
   ],
   "source": [
    "False and \"hello\""
   ]
  },
  {
   "cell_type": "code",
   "execution_count": 62,
   "metadata": {},
   "outputs": [
    {
     "data": {
      "text/plain": [
       "'hello'"
      ]
     },
     "execution_count": 62,
     "metadata": {},
     "output_type": "execute_result"
    }
   ],
   "source": [
    "False or \"hello\""
   ]
  },
  {
   "cell_type": "code",
   "execution_count": 65,
   "metadata": {},
   "outputs": [
    {
     "data": {
      "text/plain": [
       "1"
      ]
     },
     "execution_count": 65,
     "metadata": {},
     "output_type": "execute_result"
    }
   ],
   "source": [
    "1 or False"
   ]
  },
  {
   "cell_type": "code",
   "execution_count": 66,
   "metadata": {},
   "outputs": [
    {
     "data": {
      "text/plain": [
       "0"
      ]
     },
     "execution_count": 66,
     "metadata": {},
     "output_type": "execute_result"
    }
   ],
   "source": [
    "0 and True"
   ]
  },
  {
   "cell_type": "markdown",
   "metadata": {},
   "source": [
    "# 반복문\n",
    "\n",
    "    * for x in 시퀀스자료(range, 리스트, 튜플, 문자열)\n",
    "    * while 조건식:\n",
    "        반복할 코드\n",
    "        조건 변화식\n",
    "        * while문의 경우 주로 반복 횟수가 정해지지 않았을 때 사용"
   ]
  },
  {
   "cell_type": "markdown",
   "metadata": {},
   "source": [
    "* while 사용 예시, 1~6 주사위를 3이 나올때까지 계속 굴리다 3나오면 멈춤"
   ]
  },
  {
   "cell_type": "code",
   "execution_count": 215,
   "metadata": {},
   "outputs": [
    {
     "name": "stdout",
     "output_type": "stream",
     "text": [
      "4\n",
      "6\n",
      "1\n",
      "6\n",
      "3\n"
     ]
    }
   ],
   "source": [
    "import random\n",
    "\n",
    "x = 0\n",
    "\n",
    "while x != 3:\n",
    "    x = random.randint(1,6)\n",
    "    print(x)"
   ]
  },
  {
   "cell_type": "markdown",
   "metadata": {},
   "source": [
    "### 반복문 제어(break, continue)\n",
    "\n",
    "    * break : 반복 루프를 빠져나옴\n",
    "    * continue : 반복은 유지하고, 코드 실행만 건너뜀"
   ]
  },
  {
   "cell_type": "code",
   "execution_count": 231,
   "metadata": {},
   "outputs": [
    {
     "name": "stdout",
     "output_type": "stream",
     "text": [
      "0\n",
      "1\n",
      "2\n"
     ]
    }
   ],
   "source": [
    "# break 사용\n",
    "\n",
    "i = 0\n",
    "while True: # 무한 루프\n",
    "    print(i)\n",
    "    i += 1\n",
    "    if i == 3:\n",
    "        break"
   ]
  },
  {
   "cell_type": "code",
   "execution_count": 233,
   "metadata": {},
   "outputs": [
    {
     "name": "stdout",
     "output_type": "stream",
     "text": [
      "1\n",
      "3\n",
      "5\n",
      "7\n",
      "9\n"
     ]
    }
   ],
   "source": [
    "# continue 사용\n",
    "\n",
    "for i in range(10):\n",
    "    if i % 2 == 0:\n",
    "        continue    # 반복 루프 안에 있는 나머지 코드를 실행하지 않고 넘김\n",
    "    print(i)"
   ]
  },
  {
   "cell_type": "code",
   "execution_count": 236,
   "metadata": {},
   "outputs": [
    {
     "name": "stdout",
     "output_type": "stream",
     "text": [
      "1\n",
      "2\n",
      "Fizz\n",
      "4\n",
      "Buzz\n",
      "Fizz\n",
      "7\n",
      "8\n",
      "Fizz\n",
      "Buzz\n",
      "11\n",
      "Fizz\n",
      "13\n",
      "14\n",
      "FizzBuzz\n",
      "16\n"
     ]
    }
   ],
   "source": [
    "for i in range(1, 17):    # 1부터 100까지 100번 반복\n",
    "    if i % 3 == 0 and i % 5 == 0:\n",
    "        print('FizzBuzz')\n",
    "    elif i % 3 == 0:         # 3의 배수일 때\n",
    "        print('Fizz')      # Fizz 출력\n",
    "    elif i % 5 == 0:       # 5의 배수일 때\n",
    "        print('Buzz')      # Buzz 출력\n",
    "    else:\n",
    "        print(i)      "
   ]
  },
  {
   "cell_type": "markdown",
   "metadata": {},
   "source": [
    " ### 조건식의 True는 숫자 1의 역할을 함"
   ]
  },
  {
   "cell_type": "code",
   "execution_count": 239,
   "metadata": {},
   "outputs": [
    {
     "name": "stdout",
     "output_type": "stream",
     "text": [
      "1\n",
      "2\n",
      "Fizz\n",
      "4\n",
      "Buzz\n",
      "Fizz\n",
      "7\n",
      "8\n",
      "Fizz\n",
      "Buzz\n",
      "11\n",
      "Fizz\n",
      "13\n",
      "14\n",
      "FizzBuzz\n",
      "16\n"
     ]
    }
   ],
   "source": [
    "# 코드 단축 \n",
    "for i in range(1, 17):\n",
    "    print('Fizz' * (i % 3 == 0) + 'Buzz' * (i % 5 == 0) or i)\n",
    "    # 문자열 곱셈과 덧셈을 이용하여 print 안에서 처리"
   ]
  },
  {
   "cell_type": "code",
   "execution_count": null,
   "metadata": {},
   "outputs": [],
   "source": []
  },
  {
   "cell_type": "markdown",
   "metadata": {},
   "source": [
    "# 자료형\n",
    "    * 파이썬의 일반적인 자료형은 int, str, float 3가지\n",
    "    * literal : 숫자(int), str, float 등이 변수명이 아닌 쓰여진 그대로 형태로 취급되는 것\n",
    "        ex) a = 7 에서 7은 정수 리터럴\n",
    "            s = 'hello' 에서 'hello'는 문자열 리터럴\n",
    "    * 연속된 자료형은\n",
    "        - 문자열 string"
   ]
  },
  {
   "cell_type": "markdown",
   "metadata": {},
   "source": [
    "# 변수 관련"
   ]
  },
  {
   "cell_type": "markdown",
   "metadata": {},
   "source": [
    "* id() : 자료의 주소 값 확인\n",
    "* type() : 자료형 확인\n",
    "* int() : 자료를 정수형으로 변환"
   ]
  },
  {
   "cell_type": "code",
   "execution_count": 34,
   "metadata": {},
   "outputs": [
    {
     "name": "stdout",
     "output_type": "stream",
     "text": [
      "5\n",
      "8\n",
      "9\n"
     ]
    }
   ],
   "source": [
    "# 변수 지정\n",
    "\n",
    "x, y, z = 5, 8, 9\n",
    "print(x)\n",
    "print(y)\n",
    "print(z)"
   ]
  },
  {
   "cell_type": "code",
   "execution_count": 35,
   "metadata": {},
   "outputs": [
    {
     "ename": "NameError",
     "evalue": "name 'x' is not defined",
     "output_type": "error",
     "traceback": [
      "\u001b[1;31m---------------------------------------------------------------------------\u001b[0m",
      "\u001b[1;31mNameError\u001b[0m                                 Traceback (most recent call last)",
      "\u001b[1;32m<ipython-input-35-fa3a6eae4cfe>\u001b[0m in \u001b[0;36m<module>\u001b[1;34m\u001b[0m\n\u001b[0;32m      2\u001b[0m \u001b[1;33m\u001b[0m\u001b[0m\n\u001b[0;32m      3\u001b[0m \u001b[1;32mdel\u001b[0m \u001b[0mx\u001b[0m\u001b[1;33m\u001b[0m\u001b[1;33m\u001b[0m\u001b[0m\n\u001b[1;32m----> 4\u001b[1;33m \u001b[0mprint\u001b[0m\u001b[1;33m(\u001b[0m\u001b[0mx\u001b[0m\u001b[1;33m)\u001b[0m\u001b[1;33m\u001b[0m\u001b[1;33m\u001b[0m\u001b[0m\n\u001b[0m",
      "\u001b[1;31mNameError\u001b[0m: name 'x' is not defined"
     ]
    }
   ],
   "source": [
    "# 변수 삭제하기\n",
    "\n",
    "del x\n",
    "print(x)"
   ]
  },
  {
   "cell_type": "code",
   "execution_count": 37,
   "metadata": {},
   "outputs": [
    {
     "name": "stdout",
     "output_type": "stream",
     "text": [
      "None\n"
     ]
    }
   ],
   "source": [
    "# 빈 변수 만들기\n",
    "\n",
    "x = None    # 다른 언어에서는 null로 많이 표현\n",
    "print(x)"
   ]
  },
  {
   "cell_type": "markdown",
   "metadata": {},
   "source": [
    "### 2진수, 8진수, 16진수 표현"
   ]
  },
  {
   "cell_type": "code",
   "execution_count": 17,
   "metadata": {},
   "outputs": [
    {
     "data": {
      "text/plain": [
       "6"
      ]
     },
     "execution_count": 17,
     "metadata": {},
     "output_type": "execute_result"
    }
   ],
   "source": [
    "# 2진수 : 숫자 0 + 알파벳 b\n",
    "0b110"
   ]
  },
  {
   "cell_type": "code",
   "execution_count": 19,
   "metadata": {},
   "outputs": [
    {
     "data": {
      "text/plain": [
       "15"
      ]
     },
     "execution_count": 19,
     "metadata": {},
     "output_type": "execute_result"
    }
   ],
   "source": [
    "# 8진수 : 숫자 0 + 알파벳 o\n",
    "0o017"
   ]
  },
  {
   "cell_type": "code",
   "execution_count": 22,
   "metadata": {},
   "outputs": [
    {
     "data": {
      "text/plain": [
       "15"
      ]
     },
     "execution_count": 22,
     "metadata": {},
     "output_type": "execute_result"
    }
   ],
   "source": [
    "# 16진수 : 숫자 0 + 알파벳 x\n",
    "0x0f"
   ]
  },
  {
   "cell_type": "markdown",
   "metadata": {},
   "source": [
    "### 난수 생성"
   ]
  },
  {
   "cell_type": "code",
   "execution_count": 197,
   "metadata": {},
   "outputs": [
    {
     "data": {
      "text/plain": [
       "0.6069332056669248"
      ]
     },
     "execution_count": 197,
     "metadata": {},
     "output_type": "execute_result"
    }
   ],
   "source": [
    "import random\n",
    "\n",
    "random.random()  # 0 ~ 1사이의 난수"
   ]
  },
  {
   "cell_type": "markdown",
   "metadata": {},
   "source": [
    " * 특정 정수 사이의 난수 발생"
   ]
  },
  {
   "cell_type": "code",
   "execution_count": 198,
   "metadata": {},
   "outputs": [
    {
     "data": {
      "text/plain": [
       "2"
      ]
     },
     "execution_count": 198,
     "metadata": {},
     "output_type": "execute_result"
    }
   ],
   "source": [
    "random.randint(1, 6)"
   ]
  },
  {
   "cell_type": "markdown",
   "metadata": {},
   "source": [
    "# 시퀀스 자료형(range, 문자열, 리스트, 튜플)\n",
    "\n",
    "    * set, dict는 아님(순서가 없음)"
   ]
  },
  {
   "cell_type": "markdown",
   "metadata": {},
   "source": [
    "* 뒤집기 : reversed\n",
    "* 그냥 출력은 안되는데, for문으로 뒤집기는 되네"
   ]
  },
  {
   "cell_type": "code",
   "execution_count": 160,
   "metadata": {},
   "outputs": [
    {
     "name": "stdout",
     "output_type": "stream",
     "text": [
      "<reversed object at 0x000002746958FA30>\n"
     ]
    }
   ],
   "source": [
    "x = \"hello\"\n",
    "\n",
    "print(reversed(x))"
   ]
  },
  {
   "cell_type": "code",
   "execution_count": 161,
   "metadata": {},
   "outputs": [
    {
     "name": "stdout",
     "output_type": "stream",
     "text": [
      "hello"
     ]
    }
   ],
   "source": [
    "for a in x:\n",
    "    print(a, end=\"\")"
   ]
  },
  {
   "cell_type": "code",
   "execution_count": 162,
   "metadata": {},
   "outputs": [
    {
     "name": "stdout",
     "output_type": "stream",
     "text": [
      "olleh"
     ]
    }
   ],
   "source": [
    "for a in reversed(x):\n",
    "    print(a, end=\"\")"
   ]
  },
  {
   "cell_type": "code",
   "execution_count": 168,
   "metadata": {},
   "outputs": [
    {
     "name": "stdout",
     "output_type": "stream",
     "text": [
      "<reversed object at 0x00000274695815E0>\n"
     ]
    }
   ],
   "source": [
    "z = 'hello'\n",
    "z = reversed(z)\n",
    "z\n",
    "print(z)"
   ]
  },
  {
   "cell_type": "code",
   "execution_count": 163,
   "metadata": {},
   "outputs": [
    {
     "data": {
      "text/plain": [
       "<list_reverseiterator at 0x2746958f190>"
      ]
     },
     "execution_count": 163,
     "metadata": {},
     "output_type": "execute_result"
    }
   ],
   "source": [
    "y = [123, 234, 345]\n",
    "\n",
    "reversed(y)"
   ]
  },
  {
   "cell_type": "code",
   "execution_count": 166,
   "metadata": {},
   "outputs": [
    {
     "name": "stdout",
     "output_type": "stream",
     "text": [
      "345, 234, 123, "
     ]
    }
   ],
   "source": [
    "for a in reversed(y):\n",
    "    print(a, end=', ')"
   ]
  },
  {
   "cell_type": "markdown",
   "metadata": {},
   "source": [
    "### 시퀀스 객체에서 무작위로 뽑기"
   ]
  },
  {
   "cell_type": "code",
   "execution_count": 230,
   "metadata": {},
   "outputs": [
    {
     "data": {
      "text/plain": [
       "'h'"
      ]
     },
     "execution_count": 230,
     "metadata": {},
     "output_type": "execute_result"
    }
   ],
   "source": [
    "import random\n",
    "\n",
    "x = ['a', 's', 'd', 'f', 'g', 'h']\n",
    "\n",
    "random.choice(x)"
   ]
  },
  {
   "cell_type": "markdown",
   "metadata": {},
   "source": [
    "# 문자열!"
   ]
  },
  {
   "cell_type": "markdown",
   "metadata": {},
   "source": [
    "* 여러 줄로 표현 시 \"\"\" ~~ \"\"\""
   ]
  },
  {
   "cell_type": "code",
   "execution_count": 40,
   "metadata": {},
   "outputs": [
    {
     "name": "stdout",
     "output_type": "stream",
     "text": [
      "He\n",
      "llo\n"
     ]
    }
   ],
   "source": [
    "print(\"\"\"He\n",
    "llo\"\"\")"
   ]
  },
  {
   "cell_type": "markdown",
   "metadata": {},
   "source": [
    " * 연산"
   ]
  },
  {
   "cell_type": "code",
   "execution_count": 26,
   "metadata": {},
   "outputs": [
    {
     "data": {
      "text/plain": [
       "'student'"
      ]
     },
     "execution_count": 26,
     "metadata": {},
     "output_type": "execute_result"
    }
   ],
   "source": [
    "'stu' + 'dent'"
   ]
  },
  {
   "cell_type": "code",
   "execution_count": 39,
   "metadata": {},
   "outputs": [
    {
     "data": {
      "text/plain": [
       "'ststst'"
      ]
     },
     "execution_count": 39,
     "metadata": {},
     "output_type": "execute_result"
    }
   ],
   "source": [
    "'st'*3"
   ]
  },
  {
   "cell_type": "markdown",
   "metadata": {},
   "source": [
    "* 인덱싱(한 개씩 뽑기)\n",
    "\n",
    "    * word[3] = 'a' 와 같이 이미 지정된 word 문자열에서 일부를 변경할 수는 없음"
   ]
  },
  {
   "cell_type": "code",
   "execution_count": 38,
   "metadata": {},
   "outputs": [
    {
     "name": "stdout",
     "output_type": "stream",
     "text": [
      "h\n",
      "e\n",
      "o\n",
      "o\n",
      "l\n",
      "h\n"
     ]
    }
   ],
   "source": [
    "word = \"hello\"\n",
    "\n",
    "print(word[0])\n",
    "print(word[1])\n",
    "print(word[4])\n",
    "\n",
    "print(word[-1])\n",
    "print(word[-2])\n",
    "print(word[-5])"
   ]
  },
  {
   "cell_type": "markdown",
   "metadata": {},
   "source": [
    " * 슬라이스(중간 자르기)"
   ]
  },
  {
   "cell_type": "code",
   "execution_count": 42,
   "metadata": {},
   "outputs": [
    {
     "name": "stdout",
     "output_type": "stream",
     "text": [
      "hel\n",
      "hel\n",
      "hel\n"
     ]
    }
   ],
   "source": [
    "word = \"hello\"\n",
    "\n",
    "print(word[0:3])\n",
    "print(word[-5:-2])\n",
    "print(word[-5:3])"
   ]
  },
  {
   "cell_type": "markdown",
   "metadata": {},
   "source": [
    "* 값 추가\n",
    "    * 같은 변수명에서 새로 정의하던지\n",
    "    * 그냥 + 사용\n",
    "    * 중간에 값을 추가하여면 슬라이스이용  \n",
    "        * 슬라이스[시작:중간] + 값 추가 + 슬라이스[중간:끝]"
   ]
  },
  {
   "cell_type": "markdown",
   "metadata": {},
   "source": [
    "* 값 제거\n",
    "    * 슬라이스 이용"
   ]
  },
  {
   "cell_type": "markdown",
   "metadata": {},
   "source": [
    "* 값 변경(문자열 안에 a문자를 b문자로)\n",
    "    * replace() 함수이용\n",
    "    * 바꿀 항목이 중복해서 여러개일 떄? 한개만 바꾸는 방법은?  \n",
    "        replace(a, b, count) : 로 가능하지만, 좌측부터 순서대로 정해진 갯수만큼만 바꿀수 있음\n",
    "    * 문자 1:1 매칭으로 변경 => translate()      \n",
    "  \n",
    "  \n",
    "    * 인덱스 사용해서 바꿀수는 없을까?  \n",
    "        => 파이썬 특성상 한번에 바꾸는 것은 안됨  \n",
    "        => 해당 인덱스 기준으로 슬라이스[시작:인덱스]+바꿀애+슬라이스[인덱스:끝]"
   ]
  },
  {
   "cell_type": "code",
   "execution_count": 14,
   "metadata": {},
   "outputs": [
    {
     "name": "stdout",
     "output_type": "stream",
     "text": [
      "I can do it, I made it\n",
      "You can do it, You made it\n",
      "I can do it, I made it\n"
     ]
    }
   ],
   "source": [
    "sent = \"I can do it, I made it\"\n",
    "print(sent)\n",
    "print(sent.replace('I', \"You\"))\n",
    "print(sent)"
   ]
  },
  {
   "cell_type": "code",
   "execution_count": 15,
   "metadata": {},
   "outputs": [
    {
     "name": "stdout",
     "output_type": "stream",
     "text": [
      "결과 :\n",
      "123456789999\n",
      "123456,789,999\n",
      "123456789,999\n",
      "123456789999\n"
     ]
    }
   ],
   "source": [
    "text = '123,456,789,999'\n",
    "\n",
    "replaceAll= text.replace(\",\",\"\")\n",
    "replace_t1 = text.replace(\",\", \"\",1)\n",
    "replace_t2 = text.replace(\",\", \"\",2)\n",
    "replace_t3 = text.replace(\",\", \"\",3)\n",
    "print(\"결과 :\")\n",
    "print(replaceAll)\n",
    "print(replace_t1)\n",
    "print(replace_t2)\n",
    "print(replace_t3)"
   ]
  },
  {
   "cell_type": "code",
   "execution_count": 17,
   "metadata": {},
   "outputs": [
    {
     "data": {
      "text/plain": [
       "'1ppl2'"
      ]
     },
     "execution_count": 17,
     "metadata": {},
     "output_type": "execute_result"
    }
   ],
   "source": [
    "# 문자 1:1 매칭으로 변경 => translate()\n",
    "\n",
    "# 먼저 변환테이블 생성\n",
    "trans_table = str.maketrans('aeiou', '12345')\n",
    "\n",
    "\n",
    "'apple'.translate(trans_table)"
   ]
  },
  {
   "cell_type": "markdown",
   "metadata": {},
   "source": [
    "### 문자열에서 특정 문자 인덱스 찾기\n",
    "    \n",
    "    * find('찾을 문자열') : 왼쪽부터 찾음\n",
    "    * rfind('찾을 문자열') : 오른쪽부터 찾음\n",
    "    * 찾는 문자열이 없으면 -1 반환\n",
    "    * index(), rindex() 도 동일한 기능이나 이 함수들은 찾는 문자열이 없으면 에러 발생시킴"
   ]
  },
  {
   "cell_type": "code",
   "execution_count": 46,
   "metadata": {},
   "outputs": [
    {
     "data": {
      "text/plain": [
       "2"
      ]
     },
     "execution_count": 46,
     "metadata": {},
     "output_type": "execute_result"
    }
   ],
   "source": [
    "# 'pl'이 2개 있는데 왼쪽부터 처음찾은 문자열의 인덱스를 반환\n",
    "'apple pineapple mellon'.find('pl')"
   ]
  },
  {
   "cell_type": "code",
   "execution_count": 48,
   "metadata": {},
   "outputs": [
    {
     "data": {
      "text/plain": [
       "1"
      ]
     },
     "execution_count": 48,
     "metadata": {},
     "output_type": "execute_result"
    }
   ],
   "source": [
    "'apple pineapple mellon'.find('p')"
   ]
  },
  {
   "cell_type": "code",
   "execution_count": 51,
   "metadata": {},
   "outputs": [
    {
     "data": {
      "text/plain": [
       "-1"
      ]
     },
     "execution_count": 51,
     "metadata": {},
     "output_type": "execute_result"
    }
   ],
   "source": [
    "# 찾는거 없음\n",
    "'apple pineapple mellon'.find('x')"
   ]
  },
  {
   "cell_type": "code",
   "execution_count": 52,
   "metadata": {},
   "outputs": [
    {
     "data": {
      "text/plain": [
       "12"
      ]
     },
     "execution_count": 52,
     "metadata": {},
     "output_type": "execute_result"
    }
   ],
   "source": [
    "# rfind() : 오른쪽부터 찾기\n",
    "'apple pineapple mellon'.rfind('pl')"
   ]
  },
  {
   "cell_type": "code",
   "execution_count": 54,
   "metadata": {},
   "outputs": [
    {
     "data": {
      "text/plain": [
       "-1"
      ]
     },
     "execution_count": 54,
     "metadata": {},
     "output_type": "execute_result"
    }
   ],
   "source": [
    "'apple pineapple mellon'.rfind('x')"
   ]
  },
  {
   "cell_type": "markdown",
   "metadata": {},
   "source": [
    "### 문자열 갯수 세기\n",
    "\n",
    "    * count('셀 문자열')"
   ]
  },
  {
   "cell_type": "code",
   "execution_count": 55,
   "metadata": {},
   "outputs": [
    {
     "data": {
      "text/plain": [
       "3"
      ]
     },
     "execution_count": 55,
     "metadata": {},
     "output_type": "execute_result"
    }
   ],
   "source": [
    "'apple pineapple pleasure'.count('pl')"
   ]
  },
  {
   "cell_type": "markdown",
   "metadata": {},
   "source": [
    "* 오른쪽 우선 문자바꾸는 replace() 함수 구현\n",
    "    * 아래와 다른 방법2 : text[::-1].replace(\",\",\"\",1)[::-1]\n",
    "    * 방법3 : 리스트 변환과 reverse() 이용"
   ]
  },
  {
   "cell_type": "code",
   "execution_count": 63,
   "metadata": {},
   "outputs": [
    {
     "name": "stdout",
     "output_type": "stream",
     "text": [
      "결과 :\n",
      "123,456,789,999\n",
      "123,456,789999\n",
      "123,456789999\n",
      "123456789999\n",
      "123456789999\n"
     ]
    }
   ],
   "source": [
    "def replaceRight(original, old, new, count_right):\n",
    "    repeat=0 # 바꿀 횟수\n",
    "    text = original\n",
    "    old_len = len(old)\n",
    "    \n",
    "    count_find = original.count(old)\n",
    "    if count_right > count_find : # 바꿀 횟수가 문자열에 포함된 old보다 많다면\n",
    "        repeat = count_find # 문자열에 포함된 old의 모든 개수(count_find)만큼 교체한다\n",
    "    else :\n",
    "        repeat = count_right # 아니라면 입력받은 개수(count)만큼 교체한다\n",
    "\n",
    "    while(repeat):\n",
    "      find_index = text.rfind(old) # 오른쪽부터 index를 찾기위해 rfind 사용\n",
    "      text = text[:find_index] + new + text[find_index+old_len:] #                 !!!!! 인덱스를 활용한 문자 바꾸기 !!!!!\n",
    "\n",
    "      repeat -= 1\n",
    "      \n",
    "    return text\n",
    "\n",
    "text = '123,456,789,999'\n",
    "#text.replace(\",\", \"\", -1); print(text) #안됨\n",
    "\n",
    "#text = replaceRight(text, \",\", \"\", 2)\n",
    "print(\"결과 :\")\n",
    "print(replaceRight(text, \",\", \"\", 0)) \n",
    "print(replaceRight(text, \",\", \"\", 1))\n",
    "print(replaceRight(text, \",\", \"\", 2))\n",
    "print(replaceRight(text, \",\", \"\", 3))\n",
    "print(replaceRight(text, \",\", \"\", 4))"
   ]
  },
  {
   "cell_type": "code",
   "execution_count": null,
   "metadata": {},
   "outputs": [],
   "source": []
  },
  {
   "cell_type": "markdown",
   "metadata": {},
   "source": [
    "### 문자열 검색?\n",
    "\n",
    "    * startswith : 특정 문자로 시작하는 문자열 찾음\n",
    "        문자열 변수명.startswith(\"찾는문자\") => T/F 반환\n",
    "    * endswith : 특정 문자로 끝하는 문자열 찾음\n",
    "        * 주로 파일명 확장자 검색에서 많이 쓰임"
   ]
  },
  {
   "cell_type": "code",
   "execution_count": 3,
   "metadata": {},
   "outputs": [
    {
     "data": {
      "text/plain": [
       "['OB94382', 'OB32308', 'OB83461', 'OB74830', 'OB82345']"
      ]
     },
     "execution_count": 3,
     "metadata": {},
     "output_type": "execute_result"
    }
   ],
   "source": [
    "EmployeeID = ['OB94382', 'OW34723', 'OB32308', 'OB83461', 'OB74830', 'OW37402', 'OW11235', 'OB82345']\n",
    "\n",
    "# 'OB'로 시작하는 직원 ID를 다 찾아봅니다\n",
    "OB_Employee = [OB for OB in EmployeeID if OB.startswith(\"OB\")]\n",
    "OB_Employee\n",
    "\n",
    "# [ 변수 for문 조건문] 형태 잘 기억!"
   ]
  },
  {
   "cell_type": "code",
   "execution_count": 4,
   "metadata": {},
   "outputs": [
    {
     "name": "stdout",
     "output_type": "stream",
     "text": [
      "True\n",
      "False\n"
     ]
    }
   ],
   "source": [
    "# startswith 예시\n",
    "\n",
    "a = \"Hello\"\n",
    "print(a.startswith(\"He\"))\n",
    "print(a.startswith(\"Hw\"))"
   ]
  },
  {
   "cell_type": "markdown",
   "metadata": {},
   "source": [
    "### 이스케이프 문자(\\\\, \\', \\\", \\n, \\T)"
   ]
  },
  {
   "cell_type": "code",
   "execution_count": 5,
   "metadata": {},
   "outputs": [
    {
     "name": "stdout",
     "output_type": "stream",
     "text": [
      "백 슬래시 :  \\\n",
      "작은 따옴표 :  '\n",
      "큰 따옴표 :  \"\n",
      "줄바꿈(=line feed) \n",
      " 줄바꿈\n",
      "탭 \t 탭\n"
     ]
    }
   ],
   "source": [
    "print(\"백 슬래시 : \", '\\\\')\n",
    "print(\"작은 따옴표 : \", '\\'')\n",
    "print(\"큰 따옴표 : \",'\\\"')\n",
    "print(\"줄바꿈(=line feed) \\n 줄바꿈\")\n",
    "print(\"탭 \\t 탭\")"
   ]
  },
  {
   "cell_type": "markdown",
   "metadata": {},
   "source": [
    "### 원시 문자열(raw string)\n",
    "    * 문자열 작은 따옴표 앞에 r을 붙여서 표기\n",
    "    * 이스케이프 문자등의 기능을 안쓰고 그대로 표기하기 원할 때 사용"
   ]
  },
  {
   "cell_type": "code",
   "execution_count": 43,
   "metadata": {},
   "outputs": [
    {
     "name": "stdout",
     "output_type": "stream",
     "text": [
      "Please don't touch it\n",
      "Please don\\'t touch it\n"
     ]
    }
   ],
   "source": [
    "print('Please don\\'t touch it')\n",
    "print(r'Please don\\'t touch it')"
   ]
  },
  {
   "cell_type": "markdown",
   "metadata": {},
   "source": [
    "### 공백문자(또는  특정문자) 제거\n",
    "    * strip()\n",
    "    * lstrip('지울문자')\n",
    "    * rstrip()"
   ]
  },
  {
   "cell_type": "code",
   "execution_count": 6,
   "metadata": {},
   "outputs": [
    {
     "name": "stdout",
     "output_type": "stream",
     "text": [
      "[      Strip white spaces.      ]\n",
      "--------------------------\n",
      "[Strip white spaces.]\n",
      "--------------------------\n",
      "[Strip white spaces.      ]\n",
      "--------------------------\n",
      "[      Strip white spaces.]\n"
     ]
    }
   ],
   "source": [
    "txt = \"      Strip white spaces.      \"\n",
    "print('[{}]'.format(txt))\n",
    "print('--------------------------')\n",
    "\n",
    "#- 양쪽 공백 제거 : strip()\n",
    "print('[{}]'.format(txt.strip()))\n",
    "print('--------------------------')\n",
    "\n",
    "#- 왼쪽 공백 제거 : lstrip()\n",
    "print('[{}]'.format(txt.lstrip()))\n",
    "print('--------------------------')\n",
    "\n",
    "#- 오른쪽 공백 제거 : rstrip()\n",
    "print('[{}]'.format(txt.rstrip()))"
   ]
  },
  {
   "cell_type": "code",
   "execution_count": 25,
   "metadata": {},
   "outputs": [
    {
     "data": {
      "text/plain": [
       "', python'"
      ]
     },
     "execution_count": 25,
     "metadata": {},
     "output_type": "execute_result"
    }
   ],
   "source": [
    "', python.'.rstrip(',.')"
   ]
  },
  {
   "cell_type": "code",
   "execution_count": 26,
   "metadata": {},
   "outputs": [
    {
     "data": {
      "text/plain": [
       "' python.'"
      ]
     },
     "execution_count": 26,
     "metadata": {},
     "output_type": "execute_result"
    }
   ],
   "source": [
    "', python.'.lstrip(',.')"
   ]
  },
  {
   "cell_type": "code",
   "execution_count": 27,
   "metadata": {},
   "outputs": [
    {
     "data": {
      "text/plain": [
       "' python'"
      ]
     },
     "execution_count": 27,
     "metadata": {},
     "output_type": "execute_result"
    }
   ],
   "source": [
    "', python.'.strip(',.')"
   ]
  },
  {
   "cell_type": "markdown",
   "metadata": {},
   "source": [
    "### 모든 특수문자 삭제하기\n",
    "\n",
    "    * string.punctuation 이용"
   ]
  },
  {
   "cell_type": "code",
   "execution_count": 31,
   "metadata": {},
   "outputs": [
    {
     "data": {
      "text/plain": [
       "'!\"#$%&\\'()*+,-./:;<=>?@[\\\\]^_`{|}~'"
      ]
     },
     "execution_count": 31,
     "metadata": {},
     "output_type": "execute_result"
    }
   ],
   "source": [
    "import string\n",
    "\n",
    "string.punctuation"
   ]
  },
  {
   "cell_type": "code",
   "execution_count": 32,
   "metadata": {},
   "outputs": [
    {
     "data": {
      "text/plain": [
       "' python'"
      ]
     },
     "execution_count": 32,
     "metadata": {},
     "output_type": "execute_result"
    }
   ],
   "source": [
    "', python.'.strip(string.punctuation)"
   ]
  },
  {
   "cell_type": "markdown",
   "metadata": {},
   "source": [
    " * 공백도 포함해서 삭제"
   ]
  },
  {
   "cell_type": "code",
   "execution_count": 15,
   "metadata": {},
   "outputs": [
    {
     "data": {
      "text/plain": [
       "'python'"
      ]
     },
     "execution_count": 15,
     "metadata": {},
     "output_type": "execute_result"
    }
   ],
   "source": [
    "import string\n",
    "\n",
    "',  python.'.strip(string.punctuation + ' ')"
   ]
  },
  {
   "cell_type": "markdown",
   "metadata": {},
   "source": [
    "### 정렬 + 공백 생성"
   ]
  },
  {
   "cell_type": "code",
   "execution_count": 34,
   "metadata": {},
   "outputs": [
    {
     "data": {
      "text/plain": [
       "'python    '"
      ]
     },
     "execution_count": 34,
     "metadata": {},
     "output_type": "execute_result"
    }
   ],
   "source": [
    "# 문자열을 10칸으로 만들고 왼쪽 정렬\n",
    "'python'.ljust(10)"
   ]
  },
  {
   "cell_type": "code",
   "execution_count": 35,
   "metadata": {},
   "outputs": [
    {
     "data": {
      "text/plain": [
       "'    python'"
      ]
     },
     "execution_count": 35,
     "metadata": {},
     "output_type": "execute_result"
    }
   ],
   "source": [
    "# 문자열을 10칸으로 만들고 오른쪽 정렬\n",
    "'python'.rjust(10)"
   ]
  },
  {
   "cell_type": "code",
   "execution_count": 36,
   "metadata": {},
   "outputs": [
    {
     "data": {
      "text/plain": [
       "'  python  '"
      ]
     },
     "execution_count": 36,
     "metadata": {},
     "output_type": "execute_result"
    }
   ],
   "source": [
    "# 문자열을 10칸으로 만들고 가운데 정렬\n",
    "'python'.center(10)"
   ]
  },
  {
   "cell_type": "code",
   "execution_count": 38,
   "metadata": {},
   "outputs": [
    {
     "data": {
      "text/plain": [
       "'  python '"
      ]
     },
     "execution_count": 38,
     "metadata": {},
     "output_type": "execute_result"
    }
   ],
   "source": [
    "'python'.center(9)\n",
    "# 남는 공백이 홀수면 무조던 왼쪽이 한칸 더 비어있음"
   ]
  },
  {
   "cell_type": "markdown",
   "metadata": {},
   "source": [
    "### 역순으로 정렬"
   ]
  },
  {
   "cell_type": "code",
   "execution_count": 57,
   "metadata": {},
   "outputs": [
    {
     "name": "stdout",
     "output_type": "stream",
     "text": [
      "edcba\n"
     ]
    }
   ],
   "source": [
    "# 방법 1 리스트 넣고, reverse() 함수 쓰고, 다시 문자열 변환\n",
    "\n",
    "s = 'abcde'\n",
    "\n",
    "s_list = list(s)  # reverse 함수를 사용하기 위해 문자열을 list로 치환\n",
    "s_list.reverse()  # reverse 함수를 사용해 문자열 리스트를 거꾸로 뒤집음\n",
    "\n",
    "print(''.join(s_list))  # 거꾸로 뒤집어진 리스트를 연결해서 출력"
   ]
  },
  {
   "cell_type": "code",
   "execution_count": 58,
   "metadata": {},
   "outputs": [
    {
     "name": "stdout",
     "output_type": "stream",
     "text": [
      "edcba\n"
     ]
    }
   ],
   "source": [
    "#방법 2\n",
    "\n",
    "s = 'abcde'\n",
    "\n",
    "print(''.join(reversed(s)))  # 'edcba'"
   ]
  },
  {
   "cell_type": "code",
   "execution_count": 59,
   "metadata": {},
   "outputs": [
    {
     "name": "stdout",
     "output_type": "stream",
     "text": [
      "edcba\n"
     ]
    }
   ],
   "source": [
    "# 방법 3\n",
    "\n",
    "s = 'abcde'\n",
    "print(s[::-1])  # 'edcba'"
   ]
  },
  {
   "cell_type": "code",
   "execution_count": 62,
   "metadata": {},
   "outputs": [
    {
     "data": {
      "text/plain": [
       "'edcba'"
      ]
     },
     "execution_count": 62,
     "metadata": {},
     "output_type": "execute_result"
    }
   ],
   "source": [
    "# 방법 4\n",
    "s = 'abcde'\n",
    "\n",
    "def solution(s):\n",
    "    return ''.join(sorted(s, reverse=True))\n",
    "\n",
    "solution(s)"
   ]
  },
  {
   "cell_type": "markdown",
   "metadata": {},
   "source": [
    "### 0 채우기\n",
    "    * zfill() : zero fill의 약자임"
   ]
  },
  {
   "cell_type": "code",
   "execution_count": 42,
   "metadata": {},
   "outputs": [
    {
     "name": "stdout",
     "output_type": "stream",
     "text": [
      "0035\n",
      "0003.5\n",
      "00000hello\n"
     ]
    }
   ],
   "source": [
    "# 문자열 길이를 4로 늘리고 남는 부분 왼쪽을 0으로 채움\n",
    "print('35'.zfill(4))\n",
    "\n",
    "# 문자열 길이를 6로 늘리고 남는 부분 왼쪽을 0으로 채움\n",
    "print('3.5'.zfill(6))\n",
    "\n",
    "# 문자열 길이를 10로 늘리고 남는 부분 왼쪽을 0으로 채움\n",
    "print('hello'.zfill(10))"
   ]
  },
  {
   "cell_type": "markdown",
   "metadata": {},
   "source": [
    "### 값 확인\n",
    "   \n",
    "- isupper() : 문자열이 모두 대문자로 되어있으면, True, 아니면 False로 반환\n",
    "- islower() : 문자열이 모두 소문자로 되어있으면, True, 아니면 False로 반환\n",
    "- istitle() : 문자열의 첫글자만 대문자로 되어있으면, True, 아니면 False로 반환\n",
    "- isalpha() : 문자열이 모두  알파벳으로 되어있으면, True, 아니면 False로 반환\n",
    "- isalnum(): 문자열이 모두 알파벳 문자와 숫자로만 되어 있으면 True, 그렇지 않으면 False를 반환\n",
    "- isdecimal(): 문자열이 모두 숫자로만 되어 있으면 True, 그렇지 않으면 False를 반환"
   ]
  },
  {
   "cell_type": "markdown",
   "metadata": {},
   "source": [
    "### 서식자(%s, .format)로 문자열 중간에 값 집어넣기\n",
    "    \n",
    "    * 문자열 변수는 %s %변수\n",
    "        * %10s %변수 (10자리 문자열로 남는 공간 만큼 앞쪽에 공백이 생김\n",
    "    * 정수(int) 변수는 %d %변수\n",
    "    * 실수(float) 변수는 %f %변수\n",
    "        * 소숫점 이하 자릿수 지정하기 : '%.2f' %변수 (소수점 이하 2자리 표현)\n",
    "        * 소숫점 이하 자릿수 지정하기 : '%5.2f' %변수 \n",
    "            (문자열 전체 길이=5 + 소수점 이하 2자리 표현)"
   ]
  },
  {
   "cell_type": "code",
   "execution_count": 17,
   "metadata": {},
   "outputs": [
    {
     "name": "stdout",
     "output_type": "stream",
     "text": [
      "I am jamos.\n",
      "I am 21 years old.\n"
     ]
    }
   ],
   "source": [
    "name = 'jamos'\n",
    "age = 21\n",
    "\n",
    "print('I am %s.' % name)\n",
    "print('I am %d years old.' % age)"
   ]
  },
  {
   "cell_type": "markdown",
   "metadata": {},
   "source": [
    "* 실수표현"
   ]
  },
  {
   "cell_type": "code",
   "execution_count": 20,
   "metadata": {},
   "outputs": [
    {
     "name": "stdout",
     "output_type": "stream",
     "text": [
      "값은 2.300 입니다.\n",
      "값은      2.300 입니다.\n",
      "값은 2.300      입니다\n"
     ]
    }
   ],
   "source": [
    "print('값은 %.3f 입니다.' % 2.3)    # 소수점 이하 3자리\n",
    "print('값은 %10.3f 입니다.' % 2.3)    # 전체 길이는 10\n",
    "print('값은 %-10.3f 입니다' % 2.3)    # 왼쪽 정렬"
   ]
  },
  {
   "cell_type": "markdown",
   "metadata": {},
   "source": [
    " * 값 2개 이상 넣기 \n",
    "     * %(a,b) 이용"
   ]
  },
  {
   "cell_type": "code",
   "execution_count": 21,
   "metadata": {},
   "outputs": [
    {
     "name": "stdout",
     "output_type": "stream",
     "text": [
      "Today is april 7th\n"
     ]
    }
   ],
   "source": [
    "month = 'april'\n",
    "date = 7\n",
    "\n",
    "print('Today is %s %dth' %(month, date))"
   ]
  },
  {
   "cell_type": "markdown",
   "metadata": {},
   "source": [
    "### .format() 이용하기\n",
    "    * {}안에 인덱스 숫자로 변수 넣을 순서 정할 수 있음\n",
    "        * 인덱스는 0으로 시작\n",
    "        * 인덱스 생략시 순서대로 들어감\n",
    "    * 인덱스를 이용해서 같은 변수를 여러번 넣을 수도 있음\n",
    "    * 인덱스 대신 이름 사용 가능\n",
    "    * 중괄호 안에 {인덱스:<길이}로 길이와 정렬 방향을 정할 수 있음"
   ]
  },
  {
   "cell_type": "code",
   "execution_count": 25,
   "metadata": {},
   "outputs": [
    {
     "data": {
      "text/plain": [
       "'Hello, !!! Python 3.6 Script !!!'"
      ]
     },
     "execution_count": 25,
     "metadata": {},
     "output_type": "execute_result"
    }
   ],
   "source": [
    "'Hello, {3} {2} {0} {1} {3}'.format(3.6, 'Script', 'Python', \"!!!\")"
   ]
  },
  {
   "cell_type": "markdown",
   "metadata": {},
   "source": [
    " * 인덱스를 숫자대신 이름으로 지정(단, 이름과 인덱스를 동시에쓰면 에러남)"
   ]
  },
  {
   "cell_type": "code",
   "execution_count": 29,
   "metadata": {},
   "outputs": [
    {
     "data": {
      "text/plain": [
       "'Hello, Python 3.6 '"
      ]
     },
     "execution_count": 29,
     "metadata": {},
     "output_type": "execute_result"
    }
   ],
   "source": [
    "'Hello, {language} {ver} '.format(ver = 3.6, language = 'Python')"
   ]
  },
  {
   "cell_type": "markdown",
   "metadata": {},
   "source": [
    "* 중괄호 안에 {인덱스:<길이}로 길이와 정렬 방향을 정할 수 있음\n",
    "    * 인덱스는 생략가능"
   ]
  },
  {
   "cell_type": "code",
   "execution_count": 32,
   "metadata": {},
   "outputs": [
    {
     "data": {
      "text/plain": [
       "'lag:    python!!!'"
      ]
     },
     "execution_count": 32,
     "metadata": {},
     "output_type": "execute_result"
    }
   ],
   "source": [
    "'lag:{0:>10}!!!'.format('python')"
   ]
  },
  {
   "cell_type": "markdown",
   "metadata": {},
   "source": [
    "### 빈공간에 0 채워 넣기\n",
    "\n",
    "!!! 중괄호{} 안에는 % 없이 자료형(d,f 등)만 있는 것 주의!!\n",
    "   * '%0개수d' % 숫자\n",
    "   * '{인덱스:0개수d'}'.format(숫자)\n",
    "   * '%0개수.자릿수f' % 숫자\n",
    "   * '{인덱스:0개수.자릿수f'}.format(숫자)\n",
    "   \n",
    "   * 체우기는 0말고 다른 기호도 됨"
   ]
  },
  {
   "cell_type": "code",
   "execution_count": 34,
   "metadata": {},
   "outputs": [
    {
     "name": "stdout",
     "output_type": "stream",
     "text": [
      "001\n",
      "035\n",
      "00003.60\n",
      "00150.37\n"
     ]
    }
   ],
   "source": [
    "print('%03d' % 1)\n",
    "print('{0:03d}'.format(35))\n",
    "print('%08.2f' % 3.6)\n",
    "print('{0:08.2f}'.format(150.37))"
   ]
  },
  {
   "cell_type": "markdown",
   "metadata": {},
   "source": [
    "### 최종 보스(인덱스+채우기+정렬+길이+소수점)\n",
    "    \n",
    "    * '{인덱스:[[채우기]정렬][길이][.자릿수][자료형]}'"
   ]
  },
  {
   "cell_type": "code",
   "execution_count": 42,
   "metadata": {},
   "outputs": [
    {
     "data": {
      "text/plain": [
       "'-----15.00'"
      ]
     },
     "execution_count": 42,
     "metadata": {},
     "output_type": "execute_result"
    }
   ],
   "source": [
    "'{0:->10.2f}'.format(15)  # 0말고 -로 채워봤음"
   ]
  },
  {
   "cell_type": "markdown",
   "metadata": {},
   "source": [
    "### 추가!, format() 함수에는 돈 천단위 , 넣기 가능\n",
    "\n",
    "    * !!! 그런데 서식지정자 %와 format에서 사용법이 다름 ㅡㅡ"
   ]
  },
  {
   "cell_type": "code",
   "execution_count": 45,
   "metadata": {},
   "outputs": [
    {
     "data": {
      "text/plain": [
       "'1,493,500'"
      ]
     },
     "execution_count": 45,
     "metadata": {},
     "output_type": "execute_result"
    }
   ],
   "source": [
    "format(1493500, ',')"
   ]
  },
  {
   "cell_type": "markdown",
   "metadata": {},
   "source": [
    "* 서식지정자(%)의 경우 뒤에 , ',' 만 추가하면 됨"
   ]
  },
  {
   "cell_type": "code",
   "execution_count": 46,
   "metadata": {},
   "outputs": [
    {
     "data": {
      "text/plain": [
       "'           1,493,500'"
      ]
     },
     "execution_count": 46,
     "metadata": {},
     "output_type": "execute_result"
    }
   ],
   "source": [
    "'%20s' % format(1493500, ',')"
   ]
  },
  {
   "cell_type": "markdown",
   "metadata": {},
   "source": [
    " * .format에서는 그렇게 하면 안들어가고,"
   ]
  },
  {
   "cell_type": "code",
   "execution_count": 48,
   "metadata": {},
   "outputs": [
    {
     "data": {
      "text/plain": [
       "'money: $1493500'"
      ]
     },
     "execution_count": 48,
     "metadata": {},
     "output_type": "execute_result"
    }
   ],
   "source": [
    "'money: ${}'.format(1493500, ',')"
   ]
  },
  {
   "cell_type": "code",
   "execution_count": null,
   "metadata": {},
   "outputs": [],
   "source": [
    " * {인덱스:채우기+정렬+길이+콤마+소수점}으로 넣어야됨"
   ]
  },
  {
   "cell_type": "code",
   "execution_count": 54,
   "metadata": {},
   "outputs": [
    {
     "data": {
      "text/plain": [
       "'000000000001,493,500'"
      ]
     },
     "execution_count": 54,
     "metadata": {},
     "output_type": "execute_result"
    }
   ],
   "source": [
    "'{0:0>20,}'.format(1493500) "
   ]
  },
  {
   "cell_type": "code",
   "execution_count": 55,
   "metadata": {},
   "outputs": [
    {
     "data": {
      "text/plain": [
       "'000000001,493,500.00'"
      ]
     },
     "execution_count": 55,
     "metadata": {},
     "output_type": "execute_result"
    }
   ],
   "source": [
    "'{0:0>20,.2f}'.format(1493500)"
   ]
  },
  {
   "cell_type": "markdown",
   "metadata": {},
   "source": [
    "# 정규표현식!"
   ]
  },
  {
   "cell_type": "markdown",
   "metadata": {},
   "source": [
    "* 규칙?\n",
    "    * 변수명으로 주로 낙타체를 이용(첫소문자 후, 다음 대문자)\n",
    "        ex) myNewCar\n",
    "    * 상수(한번 값을 주고 값을 바꾸지 않는 변수)는 주로 모두 대문자\n",
    "        ex) PI = 3.14, MAX_SIZE = 100\n",
    "    "
   ]
  },
  {
   "cell_type": "markdown",
   "metadata": {},
   "source": [
    "# 리스트!\n",
    "\n",
    "    * 튜플과 다르게 요소 변경, 추가, 삭제 가능"
   ]
  },
  {
   "cell_type": "code",
   "execution_count": 69,
   "metadata": {},
   "outputs": [
    {
     "data": {
      "text/plain": [
       "[23, 345, 'sdf', True]"
      ]
     },
     "execution_count": 69,
     "metadata": {},
     "output_type": "execute_result"
    }
   ],
   "source": [
    "a = [23,345,\"sdf\", True]\n",
    "a"
   ]
  },
  {
   "cell_type": "code",
   "execution_count": 72,
   "metadata": {},
   "outputs": [
    {
     "data": {
      "text/plain": [
       "[]"
      ]
     },
     "execution_count": 72,
     "metadata": {},
     "output_type": "execute_result"
    }
   ],
   "source": [
    "# 빈 리스트\n",
    "b = []\n",
    "c = list()\n",
    "c"
   ]
  },
  {
   "cell_type": "code",
   "execution_count": 74,
   "metadata": {},
   "outputs": [
    {
     "data": {
      "text/plain": [
       "[0, 1, 2]"
      ]
     },
     "execution_count": 74,
     "metadata": {},
     "output_type": "execute_result"
    }
   ],
   "source": [
    "# range() 활용 리스트 생성\n",
    "\n",
    "d = list(range(3))\n",
    "d"
   ]
  },
  {
   "cell_type": "code",
   "execution_count": 78,
   "metadata": {},
   "outputs": [
    {
     "data": {
      "text/plain": [
       "[-4, -2, 0, 2, 4]"
      ]
     },
     "execution_count": 78,
     "metadata": {},
     "output_type": "execute_result"
    }
   ],
   "source": [
    "e = list(range(-4, 6, 2))\n",
    "e"
   ]
  },
  {
   "cell_type": "code",
   "execution_count": 105,
   "metadata": {},
   "outputs": [
    {
     "data": {
      "text/plain": [
       "[range(-4, 6, 2)]"
      ]
     },
     "execution_count": 105,
     "metadata": {},
     "output_type": "execute_result"
    }
   ],
   "source": [
    "# 이렇게는 하지마\n",
    "f = [range(-4, 6, 2)]\n",
    "f"
   ]
  },
  {
   "cell_type": "markdown",
   "metadata": {},
   "source": [
    " * 다중 변수 할당"
   ]
  },
  {
   "cell_type": "code",
   "execution_count": 106,
   "metadata": {},
   "outputs": [
    {
     "name": "stdout",
     "output_type": "stream",
     "text": [
      "23\n",
      "345\n",
      "sdf\n",
      "True\n"
     ]
    }
   ],
   "source": [
    "# 리스트 이용 다중 변수 할당\n",
    "a = [23,345,\"sdf\", True]\n",
    "\n",
    "b, c, d, e = a\n",
    "\n",
    "print(b)\n",
    "print(c)\n",
    "print(d)\n",
    "print(e)"
   ]
  },
  {
   "cell_type": "markdown",
   "metadata": {},
   "source": [
    " * 요소 추가하기\n",
    "     - append : 요소 하나 추가\n",
    "     - extend : 리스트를 연결하여 확장\n",
    "     - insert : 특정 인덱스에 요소 추가"
   ]
  },
  {
   "cell_type": "code",
   "execution_count": 244,
   "metadata": {},
   "outputs": [
    {
     "name": "stdout",
     "output_type": "stream",
     "text": [
      "a:  [10, 20, 30, 234]\n",
      "b:  [1, 2, 3, [50, 70]]\n"
     ]
    }
   ],
   "source": [
    "a = [10, 20, 30]\n",
    "\n",
    "a.append(234)\n",
    "\n",
    "print('a: ',a)\n",
    "\n",
    "b = [1, 2, 3]\n",
    "\n",
    "b.append([50,70])\n",
    "\n",
    "print('b: ', b)"
   ]
  },
  {
   "cell_type": "code",
   "execution_count": 245,
   "metadata": {},
   "outputs": [
    {
     "name": "stdout",
     "output_type": "stream",
     "text": [
      "b:  [1, 2, 3, 50, 70]\n"
     ]
    }
   ],
   "source": [
    "b = [1, 2, 3]\n",
    "\n",
    "b.extend([50,70])\n",
    "\n",
    "print('b: ', b)"
   ]
  },
  {
   "cell_type": "code",
   "execution_count": 247,
   "metadata": {},
   "outputs": [
    {
     "data": {
      "text/plain": [
       "[1, 2, 3, 50, 70]"
      ]
     },
     "execution_count": 247,
     "metadata": {},
     "output_type": "execute_result"
    }
   ],
   "source": [
    "b = [1, 2, 3]\n",
    "\n",
    "b + [50,70]"
   ]
  },
  {
   "cell_type": "markdown",
   "metadata": {},
   "source": [
    " ### 특정 인덱스에 요소 추가 (insert)\n",
    " \n",
    "     * 원래 있었던 인덱스트 뒤로 밀림(오른쪽으로 밀림)\n",
    "    "
   ]
  },
  {
   "cell_type": "code",
   "execution_count": 249,
   "metadata": {},
   "outputs": [
    {
     "data": {
      "text/plain": [
       "[1, 2, 3, 'asd', 4, 5]"
      ]
     },
     "execution_count": 249,
     "metadata": {},
     "output_type": "execute_result"
    }
   ],
   "source": [
    "c = [1,2,3,4,5]\n",
    "\n",
    "c.insert(3, 'asd')\n",
    "\n",
    "c"
   ]
  },
  {
   "cell_type": "markdown",
   "metadata": {},
   "source": [
    "* 요소 값 변경 및 삭제\n",
    "\n",
    "    * 이 기능은 시퀀스자료형 중 리스트만 가능\n",
    "    * range, tuple, 문자열은 불가"
   ]
  },
  {
   "cell_type": "code",
   "execution_count": 108,
   "metadata": {},
   "outputs": [
    {
     "data": {
      "text/plain": [
       "[1, 2, 123, 4, 5]"
      ]
     },
     "execution_count": 108,
     "metadata": {},
     "output_type": "execute_result"
    }
   ],
   "source": [
    "# 요소 값 변경\n",
    "a = [1,2,3,4,5]\n",
    "\n",
    "a[2] = 123\n",
    "\n",
    "a"
   ]
  },
  {
   "cell_type": "code",
   "execution_count": 125,
   "metadata": {},
   "outputs": [
    {
     "data": {
      "text/plain": [
       "[1, 2, 123, 456, 46]"
      ]
     },
     "execution_count": 125,
     "metadata": {},
     "output_type": "execute_result"
    }
   ],
   "source": [
    "# 슬라이스 이용 값 변경\n",
    "\n",
    "a = [1,2,3,4,5]\n",
    "\n",
    "a[2:5] = 123, 456, 46  \n",
    "\n",
    "a"
   ]
  },
  {
   "cell_type": "code",
   "execution_count": 126,
   "metadata": {},
   "outputs": [
    {
     "data": {
      "text/plain": [
       "[1, 2, 123, 456, 46, 5]"
      ]
     },
     "execution_count": 126,
     "metadata": {},
     "output_type": "execute_result"
    }
   ],
   "source": [
    "# 슬라이스로 자른 값의 갯수와 넣는 값의 갯수가 달라도 실행됨\n",
    "\n",
    "a = [1,2,3,4,5]\n",
    "\n",
    "a[2:4] = 123, 456, 46    # 2개 = 3개 할당\n",
    "\n",
    "a"
   ]
  },
  {
   "cell_type": "code",
   "execution_count": 111,
   "metadata": {},
   "outputs": [
    {
     "ename": "TypeError",
     "evalue": "'str' object does not support item assignment",
     "output_type": "error",
     "traceback": [
      "\u001b[1;31m---------------------------------------------------------------------------\u001b[0m",
      "\u001b[1;31mTypeError\u001b[0m                                 Traceback (most recent call last)",
      "\u001b[1;32m<ipython-input-111-d5e9d6094151>\u001b[0m in \u001b[0;36m<module>\u001b[1;34m\u001b[0m\n\u001b[0;32m      1\u001b[0m \u001b[0mb\u001b[0m \u001b[1;33m=\u001b[0m \u001b[1;34m\"hello\"\u001b[0m\u001b[1;33m\u001b[0m\u001b[1;33m\u001b[0m\u001b[0m\n\u001b[0;32m      2\u001b[0m \u001b[1;33m\u001b[0m\u001b[0m\n\u001b[1;32m----> 3\u001b[1;33m \u001b[0mb\u001b[0m\u001b[1;33m[\u001b[0m\u001b[1;36m2\u001b[0m\u001b[1;33m]\u001b[0m \u001b[1;33m=\u001b[0m \u001b[1;34m'G'\u001b[0m\u001b[1;33m\u001b[0m\u001b[1;33m\u001b[0m\u001b[0m\n\u001b[0m",
      "\u001b[1;31mTypeError\u001b[0m: 'str' object does not support item assignment"
     ]
    }
   ],
   "source": [
    "b = \"hello\"\n",
    "\n",
    "b[2] = 'G'"
   ]
  },
  {
   "cell_type": "markdown",
   "metadata": {},
   "source": [
    "### 리스트에서 요소 삭제\n",
    "\n",
    "    * pop() : 특정 인덱스 or 마지막 요소 삭제\n",
    "    * remove() : 특정 값을 찾아서 삭제"
   ]
  },
  {
   "cell_type": "code",
   "execution_count": 251,
   "metadata": {},
   "outputs": [
    {
     "data": {
      "text/plain": [
       "30"
      ]
     },
     "execution_count": 251,
     "metadata": {},
     "output_type": "execute_result"
    }
   ],
   "source": [
    "a = [10, 20, 30]\n",
    "\n",
    "a.pop() # 값을 뽑아옴"
   ]
  },
  {
   "cell_type": "code",
   "execution_count": 252,
   "metadata": {},
   "outputs": [
    {
     "data": {
      "text/plain": [
       "[10, 20]"
      ]
     },
     "execution_count": 252,
     "metadata": {},
     "output_type": "execute_result"
    }
   ],
   "source": [
    "a  # 리스트에서 마지막 값을 빼놓음"
   ]
  },
  {
   "cell_type": "code",
   "execution_count": 253,
   "metadata": {},
   "outputs": [
    {
     "data": {
      "text/plain": [
       "[10, 30]"
      ]
     },
     "execution_count": 253,
     "metadata": {},
     "output_type": "execute_result"
    }
   ],
   "source": [
    "a = [10, 20, 30]\n",
    "\n",
    "a.pop(1) # 1번 인덱스 값을 제거\n",
    "\n",
    "a"
   ]
  },
  {
   "cell_type": "code",
   "execution_count": 254,
   "metadata": {},
   "outputs": [
    {
     "data": {
      "text/plain": [
       "[10, 30, 40]"
      ]
     },
     "execution_count": 254,
     "metadata": {},
     "output_type": "execute_result"
    }
   ],
   "source": [
    "a = [10, 20, 30, 40]\n",
    "\n",
    "a.remove(20)\n",
    "\n",
    "a"
   ]
  },
  {
   "cell_type": "code",
   "execution_count": 112,
   "metadata": {},
   "outputs": [
    {
     "data": {
      "text/plain": [
       "[1, 2, 4, 5]"
      ]
     },
     "execution_count": 112,
     "metadata": {},
     "output_type": "execute_result"
    }
   ],
   "source": [
    "# 요소 값 삭제\n",
    "a = [1,2,3,4,5]\n",
    "\n",
    "del a[2]\n",
    "\n",
    "a"
   ]
  },
  {
   "cell_type": "code",
   "execution_count": 113,
   "metadata": {},
   "outputs": [
    {
     "ename": "TypeError",
     "evalue": "'str' object doesn't support item deletion",
     "output_type": "error",
     "traceback": [
      "\u001b[1;31m---------------------------------------------------------------------------\u001b[0m",
      "\u001b[1;31mTypeError\u001b[0m                                 Traceback (most recent call last)",
      "\u001b[1;32m<ipython-input-113-61709602f94a>\u001b[0m in \u001b[0;36m<module>\u001b[1;34m\u001b[0m\n\u001b[0;32m      1\u001b[0m \u001b[0mb\u001b[0m \u001b[1;33m=\u001b[0m \u001b[1;34m\"hello\"\u001b[0m\u001b[1;33m\u001b[0m\u001b[1;33m\u001b[0m\u001b[0m\n\u001b[0;32m      2\u001b[0m \u001b[1;33m\u001b[0m\u001b[0m\n\u001b[1;32m----> 3\u001b[1;33m \u001b[1;32mdel\u001b[0m \u001b[0mb\u001b[0m\u001b[1;33m[\u001b[0m\u001b[1;36m2\u001b[0m\u001b[1;33m]\u001b[0m\u001b[1;33m\u001b[0m\u001b[1;33m\u001b[0m\u001b[0m\n\u001b[0m\u001b[0;32m      4\u001b[0m \u001b[1;33m\u001b[0m\u001b[0m\n\u001b[0;32m      5\u001b[0m \u001b[0mb\u001b[0m\u001b[1;33m\u001b[0m\u001b[1;33m\u001b[0m\u001b[0m\n",
      "\u001b[1;31mTypeError\u001b[0m: 'str' object doesn't support item deletion"
     ]
    }
   ],
   "source": [
    "b = \"hello\"\n",
    "\n",
    "del b[2]\n",
    "\n",
    "b"
   ]
  },
  {
   "cell_type": "markdown",
   "metadata": {},
   "source": [
    " * 모든 요소 삭제(clear)"
   ]
  },
  {
   "cell_type": "code",
   "execution_count": 271,
   "metadata": {},
   "outputs": [
    {
     "data": {
      "text/plain": [
       "[]"
      ]
     },
     "execution_count": 271,
     "metadata": {},
     "output_type": "execute_result"
    }
   ],
   "source": [
    "a = [10, 20, 30]\n",
    "a.clear()\n",
    "a"
   ]
  },
  {
   "cell_type": "markdown",
   "metadata": {},
   "source": [
    "### 리스트 슬라이스"
   ]
  },
  {
   "cell_type": "markdown",
   "metadata": {},
   "source": [
    " * 인덱스는 양수, 음수 섞어 쓸 수 있음"
   ]
  },
  {
   "cell_type": "code",
   "execution_count": 116,
   "metadata": {},
   "outputs": [
    {
     "data": {
      "text/plain": [
       "[40, 50, 60, 70, 80]"
      ]
     },
     "execution_count": 116,
     "metadata": {},
     "output_type": "execute_result"
    }
   ],
   "source": [
    "a = [0, 10, 20, 30, 40, 50, 60, 70, 80, 90]\n",
    "\n",
    "a[4:-1]"
   ]
  },
  {
   "cell_type": "markdown",
   "metadata": {},
   "source": [
    "* 슬라이스 + 간격(띄엄띄엄)"
   ]
  },
  {
   "cell_type": "code",
   "execution_count": 115,
   "metadata": {},
   "outputs": [
    {
     "data": {
      "text/plain": [
       "[10, 40]"
      ]
     },
     "execution_count": 115,
     "metadata": {},
     "output_type": "execute_result"
    }
   ],
   "source": [
    "a = [0, 10, 20, 30, 40, 50, 60, 70, 80, 90]\n",
    "\n",
    "a[1:7:3] # 10 ~ 60까지(70은 미포함!) 3 간격으로 불러오기"
   ]
  },
  {
   "cell_type": "markdown",
   "metadata": {},
   "source": [
    "* 처음, 끝 인덱스는 생략가능"
   ]
  },
  {
   "cell_type": "code",
   "execution_count": 119,
   "metadata": {},
   "outputs": [
    {
     "data": {
      "text/plain": [
       "[0, 10, 20, 30, 40, 50, 60]"
      ]
     },
     "execution_count": 119,
     "metadata": {},
     "output_type": "execute_result"
    }
   ],
   "source": [
    "a[:7]"
   ]
  },
  {
   "cell_type": "code",
   "execution_count": 120,
   "metadata": {},
   "outputs": [
    {
     "data": {
      "text/plain": [
       "[50, 60, 70, 80, 90]"
      ]
     },
     "execution_count": 120,
     "metadata": {},
     "output_type": "execute_result"
    }
   ],
   "source": [
    "a[5:]"
   ]
  },
  {
   "cell_type": "markdown",
   "metadata": {},
   "source": [
    " * 인덱스 생략 + 간격(증가폭)"
   ]
  },
  {
   "cell_type": "code",
   "execution_count": 121,
   "metadata": {},
   "outputs": [
    {
     "data": {
      "text/plain": [
       "[0, 30, 60]"
      ]
     },
     "execution_count": 121,
     "metadata": {},
     "output_type": "execute_result"
    }
   ],
   "source": [
    "a[:7:3]"
   ]
  },
  {
   "cell_type": "code",
   "execution_count": 122,
   "metadata": {},
   "outputs": [
    {
     "data": {
      "text/plain": [
       "[50, 70, 90]"
      ]
     },
     "execution_count": 122,
     "metadata": {},
     "output_type": "execute_result"
    }
   ],
   "source": [
    "a[5::2]"
   ]
  },
  {
   "cell_type": "code",
   "execution_count": 123,
   "metadata": {},
   "outputs": [
    {
     "data": {
      "text/plain": [
       "[0, 20, 40, 60, 80]"
      ]
     },
     "execution_count": 123,
     "metadata": {},
     "output_type": "execute_result"
    }
   ],
   "source": [
    "a[::2]"
   ]
  },
  {
   "cell_type": "markdown",
   "metadata": {},
   "source": [
    "### 증가폭 있는 슬라이싱으로 리스트 값 변경하기"
   ]
  },
  {
   "cell_type": "code",
   "execution_count": 129,
   "metadata": {},
   "outputs": [
    {
     "data": {
      "text/plain": [
       "[0, 10, 'a', 30, 'b', 50, 'c', 70, 80, 90]"
      ]
     },
     "execution_count": 129,
     "metadata": {},
     "output_type": "execute_result"
    }
   ],
   "source": [
    "a = [0, 10, 20, 30, 40, 50, 60, 70, 80, 90]\n",
    "\n",
    "a[2:8:2] = 'a', 'b', 'c'\n",
    "\n",
    "a"
   ]
  },
  {
   "cell_type": "markdown",
   "metadata": {},
   "source": [
    " * 슬라이싱 값 삭제"
   ]
  },
  {
   "cell_type": "code",
   "execution_count": 130,
   "metadata": {},
   "outputs": [
    {
     "data": {
      "text/plain": [
       "[0, 10, 30, 50, 70, 80, 90]"
      ]
     },
     "execution_count": 130,
     "metadata": {},
     "output_type": "execute_result"
    }
   ],
   "source": [
    "a = [0, 10, 20, 30, 40, 50, 60, 70, 80, 90]\n",
    "\n",
    "del a[2:8:2]\n",
    "\n",
    "a"
   ]
  },
  {
   "cell_type": "markdown",
   "metadata": {},
   "source": [
    " * 특정 값 인덱스 구하기(index)"
   ]
  },
  {
   "cell_type": "code",
   "execution_count": 263,
   "metadata": {},
   "outputs": [
    {
     "data": {
      "text/plain": [
       "2"
      ]
     },
     "execution_count": 263,
     "metadata": {},
     "output_type": "execute_result"
    }
   ],
   "source": [
    "a = [10, 20, 30, 40]\n",
    "\n",
    "a. index(30)"
   ]
  },
  {
   "cell_type": "markdown",
   "metadata": {},
   "source": [
    "## 리스트 요소 정렬하기"
   ]
  },
  {
   "cell_type": "code",
   "execution_count": 266,
   "metadata": {},
   "outputs": [
    {
     "data": {
      "text/plain": [
       "[10, 20, 30, 40]"
      ]
     },
     "execution_count": 266,
     "metadata": {},
     "output_type": "execute_result"
    }
   ],
   "source": [
    "a = [40, 20, 10, 30]\n",
    "\n",
    "a.sort()  # 1회성이 아님!!\n",
    "a"
   ]
  },
  {
   "cell_type": "code",
   "execution_count": 270,
   "metadata": {},
   "outputs": [
    {
     "data": {
      "text/plain": [
       "[40, 30, 20, 10]"
      ]
     },
     "execution_count": 270,
     "metadata": {},
     "output_type": "execute_result"
    }
   ],
   "source": [
    "a = [40, 20, 10, 30]\n",
    "\n",
    "a.sort(reverse=True)  # 1회성이 아님!! 역순!\n",
    "a"
   ]
  },
  {
   "cell_type": "code",
   "execution_count": 267,
   "metadata": {},
   "outputs": [
    {
     "data": {
      "text/plain": [
       "[10, 20, 30, 40]"
      ]
     },
     "execution_count": 267,
     "metadata": {},
     "output_type": "execute_result"
    }
   ],
   "source": [
    "a = [40, 20, 10, 30]\n",
    "\n",
    "sorted(a)  # 정렬한 리스트 생성(1회성)"
   ]
  },
  {
   "cell_type": "code",
   "execution_count": 269,
   "metadata": {},
   "outputs": [
    {
     "data": {
      "text/plain": [
       "[40, 20, 10, 30]"
      ]
     },
     "execution_count": 269,
     "metadata": {},
     "output_type": "execute_result"
    }
   ],
   "source": [
    "a"
   ]
  },
  {
   "cell_type": "markdown",
   "metadata": {},
   "source": [
    "### 리스트 순서 뒤집기(reverse())"
   ]
  },
  {
   "cell_type": "code",
   "execution_count": 265,
   "metadata": {},
   "outputs": [
    {
     "data": {
      "text/plain": [
       "[40, 30, 20, 10]"
      ]
     },
     "execution_count": 265,
     "metadata": {},
     "output_type": "execute_result"
    }
   ],
   "source": [
    "a = [10, 20, 30, 40]\n",
    "\n",
    "a.reverse()  # 1회성이 아님!!\n",
    "a"
   ]
  },
  {
   "cell_type": "markdown",
   "metadata": {},
   "source": [
    "## deque 사용\n",
    "\n",
    "    * 리스트와 동일하나\n",
    "    * 왼쪽 추가 appendleft(), 왼쪽 삭제 popleft() 사용 가능"
   ]
  },
  {
   "cell_type": "code",
   "execution_count": 259,
   "metadata": {},
   "outputs": [
    {
     "data": {
      "text/plain": [
       "deque([10, 20, 30])"
      ]
     },
     "execution_count": 259,
     "metadata": {},
     "output_type": "execute_result"
    }
   ],
   "source": [
    "from collections import deque\n",
    "\n",
    "a = deque([10, 20, 30])\n",
    "\n",
    "a"
   ]
  },
  {
   "cell_type": "code",
   "execution_count": 260,
   "metadata": {},
   "outputs": [
    {
     "data": {
      "text/plain": [
       "deque([20, 30])"
      ]
     },
     "execution_count": 260,
     "metadata": {},
     "output_type": "execute_result"
    }
   ],
   "source": [
    "a.popleft()\n",
    "a"
   ]
  },
  {
   "cell_type": "code",
   "execution_count": 261,
   "metadata": {},
   "outputs": [
    {
     "data": {
      "text/plain": [
       "deque([56, 20, 30])"
      ]
     },
     "execution_count": 261,
     "metadata": {},
     "output_type": "execute_result"
    }
   ],
   "source": [
    "a.appendleft(56)\n",
    "a"
   ]
  },
  {
   "cell_type": "markdown",
   "metadata": {},
   "source": [
    "# 리스트 복사\n",
    "    * 변수 할당 : 변수명만 다르고 같은 리스트 객체를 가리킴\n",
    "    * 얕은 복사(shallow copy) : 리스트 객체는 별도로 생성하지만, 안에 내용물인 요소는 같은 값을 가리킴(요소의 id가 같음)\n",
    "        * copy.copy() 사용\n",
    "    * 깊은 복사(deep copy) : 리스트 객체도 별도로 생성하고, 안에 내용물들도 각각 별도 생성(요소들 id도 각각 다름)\n",
    "        * 직접해보니 요소가 리스트 일 때는 새로운 객체이나, 단순한 숫자면 그냥 할당하는 듯?\n",
    "        * copy.deepcopy() 사용"
   ]
  },
  {
   "cell_type": "markdown",
   "metadata": {},
   "source": [
    " * 변수 할당"
   ]
  },
  {
   "cell_type": "code",
   "execution_count": 272,
   "metadata": {},
   "outputs": [],
   "source": [
    "a = [0, 0, 0, 0, 0]\n",
    "b = a  # 실제로는 하나의 리스트 객체만 존재하고, a, b 두 변수가 같은 것을 가리킴"
   ]
  },
  {
   "cell_type": "code",
   "execution_count": 273,
   "metadata": {},
   "outputs": [
    {
     "data": {
      "text/plain": [
       "[0, 0, 50, 0, 0]"
      ]
     },
     "execution_count": 273,
     "metadata": {},
     "output_type": "execute_result"
    }
   ],
   "source": [
    "a[2] = 50\n",
    "b"
   ]
  },
  {
   "cell_type": "markdown",
   "metadata": {},
   "source": [
    " * 얕은 복사\n",
    "     * 안에 단순 상수만 있으면 깊은 복사랑 차이 없음"
   ]
  },
  {
   "cell_type": "code",
   "execution_count": 1,
   "metadata": {},
   "outputs": [],
   "source": [
    "a = [1, 2, 3, 4, 5]\n",
    "b = a.copy()  # a의 객체를 복사하여 2개의 객체가 생김"
   ]
  },
  {
   "cell_type": "code",
   "execution_count": 2,
   "metadata": {},
   "outputs": [
    {
     "data": {
      "text/plain": [
       "[1, 2, 3, 4, 5]"
      ]
     },
     "execution_count": 2,
     "metadata": {},
     "output_type": "execute_result"
    }
   ],
   "source": [
    "a[2] = 50\n",
    "b"
   ]
  },
  {
   "cell_type": "code",
   "execution_count": 3,
   "metadata": {},
   "outputs": [
    {
     "data": {
      "text/plain": [
       "[1, 2, 50, 4, 5]"
      ]
     },
     "execution_count": 3,
     "metadata": {},
     "output_type": "execute_result"
    }
   ],
   "source": [
    "a"
   ]
  },
  {
   "cell_type": "code",
   "execution_count": 4,
   "metadata": {},
   "outputs": [
    {
     "name": "stdout",
     "output_type": "stream",
     "text": [
      "140703356430144\n",
      "140703356430144\n"
     ]
    }
   ],
   "source": [
    "print(id(a[1]))\n",
    "print(id(b[1]))"
   ]
  },
  {
   "cell_type": "markdown",
   "metadata": {},
   "source": [
    " * 얕은 복사\n",
    "     * 안에 리스트가 있으면 깊은 복사랑 차이 남"
   ]
  },
  {
   "cell_type": "code",
   "execution_count": 10,
   "metadata": {},
   "outputs": [],
   "source": [
    "a = [1, 2, [3, 4, 5]]\n",
    "b = a.copy()  # a의 객체를 복사하여 2개의 객체가 생김"
   ]
  },
  {
   "cell_type": "code",
   "execution_count": 12,
   "metadata": {},
   "outputs": [],
   "source": [
    "b[2].append(6)"
   ]
  },
  {
   "cell_type": "code",
   "execution_count": 13,
   "metadata": {},
   "outputs": [
    {
     "data": {
      "text/plain": [
       "[1, 2, [3, 4, 5, 6]]"
      ]
     },
     "execution_count": 13,
     "metadata": {},
     "output_type": "execute_result"
    }
   ],
   "source": [
    "a"
   ]
  },
  {
   "cell_type": "code",
   "execution_count": 14,
   "metadata": {},
   "outputs": [
    {
     "data": {
      "text/plain": [
       "[1, 2, [3, 4, 5, 6]]"
      ]
     },
     "execution_count": 14,
     "metadata": {},
     "output_type": "execute_result"
    }
   ],
   "source": [
    "b"
   ]
  },
  {
   "cell_type": "markdown",
   "metadata": {},
   "source": [
    " * 깊은 복사\n",
    "     * 안에 단순 변수만 있으면 깊은 복사랑 차이 없음"
   ]
  },
  {
   "cell_type": "code",
   "execution_count": 6,
   "metadata": {},
   "outputs": [],
   "source": [
    "import copy\n",
    "\n",
    "a = [1, 2, 3, 4, 5]\n",
    "\n",
    "b = copy.deepcopy(a)  # a의 객체를 복사하여 2개의 객체가 생김"
   ]
  },
  {
   "cell_type": "code",
   "execution_count": 7,
   "metadata": {},
   "outputs": [
    {
     "data": {
      "text/plain": [
       "[1, 2, 3, 4, 5]"
      ]
     },
     "execution_count": 7,
     "metadata": {},
     "output_type": "execute_result"
    }
   ],
   "source": [
    "a[2] = 50\n",
    "b"
   ]
  },
  {
   "cell_type": "code",
   "execution_count": 8,
   "metadata": {},
   "outputs": [
    {
     "data": {
      "text/plain": [
       "[1, 2, 50, 4, 5]"
      ]
     },
     "execution_count": 8,
     "metadata": {},
     "output_type": "execute_result"
    }
   ],
   "source": [
    "a"
   ]
  },
  {
   "cell_type": "code",
   "execution_count": 9,
   "metadata": {},
   "outputs": [
    {
     "name": "stdout",
     "output_type": "stream",
     "text": [
      "140703356430144\n",
      "140703356430144\n"
     ]
    }
   ],
   "source": [
    "print(id(a[1]))\n",
    "print(id(b[1]))"
   ]
  },
  {
   "cell_type": "markdown",
   "metadata": {},
   "source": [
    " * 깊은 복사\n",
    "     * 안에 리스트가 있으면 깊은 복사랑 차이 남"
   ]
  },
  {
   "cell_type": "code",
   "execution_count": 16,
   "metadata": {},
   "outputs": [],
   "source": [
    "import copy\n",
    "\n",
    "a = [1, 2, [3, 4, 5]]\n",
    "b = copy.deepcopy(a)"
   ]
  },
  {
   "cell_type": "code",
   "execution_count": 17,
   "metadata": {},
   "outputs": [],
   "source": [
    "b[2].append(6)"
   ]
  },
  {
   "cell_type": "code",
   "execution_count": 18,
   "metadata": {},
   "outputs": [
    {
     "data": {
      "text/plain": [
       "[1, 2, [3, 4, 5]]"
      ]
     },
     "execution_count": 18,
     "metadata": {},
     "output_type": "execute_result"
    }
   ],
   "source": [
    "a"
   ]
  },
  {
   "cell_type": "code",
   "execution_count": 19,
   "metadata": {},
   "outputs": [
    {
     "data": {
      "text/plain": [
       "[1, 2, [3, 4, 5, 6]]"
      ]
     },
     "execution_count": 19,
     "metadata": {},
     "output_type": "execute_result"
    }
   ],
   "source": [
    "b"
   ]
  },
  {
   "cell_type": "markdown",
   "metadata": {},
   "source": [
    "## 리스트,튜플,문자열의 인덱스와 값을 함께 출력하기(enumerate)"
   ]
  },
  {
   "cell_type": "code",
   "execution_count": 21,
   "metadata": {},
   "outputs": [
    {
     "name": "stdout",
     "output_type": "stream",
     "text": [
      "0 a\n",
      "1 b\n",
      "2 c\n",
      "3 d\n"
     ]
    }
   ],
   "source": [
    "a = ['a', 'b', 'c', 'd']\n",
    "\n",
    "for idx, v in enumerate(a):\n",
    "    print(idx, v)"
   ]
  },
  {
   "cell_type": "code",
   "execution_count": 22,
   "metadata": {},
   "outputs": [
    {
     "name": "stdout",
     "output_type": "stream",
     "text": [
      "0 a\n",
      "1 b\n",
      "2 c\n",
      "3 d\n"
     ]
    }
   ],
   "source": [
    "a = ('a', 'b', 'c', 'd')\n",
    "\n",
    "for idx, v in enumerate(a):\n",
    "    print(idx, v)"
   ]
  },
  {
   "cell_type": "code",
   "execution_count": 23,
   "metadata": {},
   "outputs": [
    {
     "name": "stdout",
     "output_type": "stream",
     "text": [
      "0 a\n",
      "1 b\n",
      "2 c\n",
      "3 d\n"
     ]
    }
   ],
   "source": [
    "a = \"abcd\"\n",
    "\n",
    "for idx, v in enumerate(a):\n",
    "    print(idx, v)"
   ]
  },
  {
   "cell_type": "markdown",
   "metadata": {},
   "source": [
    "* .format 함수 : 문자열속에 인덱스, 값 포함하여 출력"
   ]
  },
  {
   "cell_type": "code",
   "execution_count": 26,
   "metadata": {},
   "outputs": [
    {
     "name": "stdout",
     "output_type": "stream",
     "text": [
      "인덱스 0의 요소 내용은 a 입니다.\n",
      "인덱스 1의 요소 내용은 b 입니다.\n",
      "인덱스 2의 요소 내용은 c 입니다.\n",
      "인덱스 3의 요소 내용은 d 입니다.\n"
     ]
    }
   ],
   "source": [
    "a = ['a', 'b', 'c', 'd']\n",
    "\n",
    "for idx, v in enumerate(a):\n",
    "    print(\"인덱스 {}의 요소 내용은 {} 입니다.\".format(idx, v))"
   ]
  },
  {
   "cell_type": "markdown",
   "metadata": {},
   "source": [
    "## 2차원 리스트\n",
    "    \n",
    "    * 같은 방식으로 2차원 튜플도 가능"
   ]
  },
  {
   "cell_type": "code",
   "execution_count": 3,
   "metadata": {},
   "outputs": [
    {
     "name": "stdout",
     "output_type": "stream",
     "text": [
      "a[0][0] :  10\n",
      "a[0][1] :  20\n",
      "a[1][0] :  30\n",
      "a[1][1] :  40\n"
     ]
    }
   ],
   "source": [
    "a = [[10, 20], \n",
    "     [30, 40]]\n",
    "\n",
    "print('a[0][0] : ', a[0][0])\n",
    "print('a[0][1] : ', a[0][1])\n",
    "print('a[1][0] : ', a[1][0])\n",
    "print('a[1][1] : ', a[1][1])"
   ]
  },
  {
   "cell_type": "markdown",
   "metadata": {},
   "source": [
    "* 2차원 리스트 반복문 사용"
   ]
  },
  {
   "cell_type": "code",
   "execution_count": 4,
   "metadata": {},
   "outputs": [
    {
     "name": "stdout",
     "output_type": "stream",
     "text": [
      "10 20\n",
      "30 40\n",
      "50 60\n"
     ]
    }
   ],
   "source": [
    "a = [[10, 20], [30, 40], [50, 60]]\n",
    "for x, y in a:    # 리스트의 가로 한 줄(안쪽 리스트)에서 요소 두 개를 꺼냄\n",
    "    print(x, y)"
   ]
  },
  {
   "cell_type": "code",
   "execution_count": 5,
   "metadata": {},
   "outputs": [
    {
     "name": "stdout",
     "output_type": "stream",
     "text": [
      "10 20 \n",
      "30 40 \n",
      "50 60 \n"
     ]
    }
   ],
   "source": [
    "a = [[10, 20], [30, 40], [50, 60]]\n",
    " \n",
    "for i in a:        # a에서 안쪽 리스트를 꺼냄\n",
    "    for j in i:    # 안쪽 리스트에서 요소를 하나씩 꺼냄\n",
    "        print(j, end=' ')\n",
    "    print()"
   ]
  },
  {
   "cell_type": "code",
   "execution_count": 6,
   "metadata": {},
   "outputs": [
    {
     "name": "stdout",
     "output_type": "stream",
     "text": [
      "10 20 \n",
      "30 40 \n",
      "50 60 \n"
     ]
    }
   ],
   "source": [
    "a = [[10, 20], [30, 40], [50, 60]]\n",
    " \n",
    "for i in range(len(a)):            # 세로 크기\n",
    "    for j in range(len(a[i])):     # 가로 크기\n",
    "        print(a[i][j], end=' ')\n",
    "    print()"
   ]
  },
  {
   "cell_type": "code",
   "execution_count": 7,
   "metadata": {},
   "outputs": [
    {
     "name": "stdout",
     "output_type": "stream",
     "text": [
      "10 20\n",
      "30 40\n",
      "50 60\n"
     ]
    }
   ],
   "source": [
    "a = [[10, 20], [30, 40], [50, 60]]\n",
    " \n",
    "i = 0\n",
    "while i < len(a):    # 반복할 때 리스트의 크기 활용(세로 크기)\n",
    "    x, y = a[i]      # 요소 두 개를 한꺼번에 가져오기\n",
    "    print(x, y)\n",
    "    i += 1           # 인덱스를 1 증가시킴"
   ]
  },
  {
   "cell_type": "markdown",
   "metadata": {},
   "source": [
    "* 반복문으로 2차원 리스트 만들기"
   ]
  },
  {
   "cell_type": "code",
   "execution_count": 8,
   "metadata": {},
   "outputs": [
    {
     "name": "stdout",
     "output_type": "stream",
     "text": [
      "[[0, 0], [0, 0], [0, 0]]\n"
     ]
    }
   ],
   "source": [
    "a = []    # 빈 리스트 생성\n",
    " \n",
    "for i in range(3):\n",
    "    line = []              # 안쪽 리스트로 사용할 빈 리스트 생성\n",
    "    for j in range(2):\n",
    "        line.append(0)     # 안쪽 리스트에 0 추가\n",
    "    a.append(line)         # 전체 리스트에 안쪽 리스트를 추가\n",
    " \n",
    "print(a)"
   ]
  },
  {
   "cell_type": "markdown",
   "metadata": {},
   "source": [
    "    * 톱니모양 2차원 리스트 만들기"
   ]
  },
  {
   "cell_type": "code",
   "execution_count": 9,
   "metadata": {},
   "outputs": [
    {
     "name": "stdout",
     "output_type": "stream",
     "text": [
      "[[0, 0, 0], [0], [0, 0, 0], [0, 0], [0, 0, 0, 0, 0]]\n"
     ]
    }
   ],
   "source": [
    "a = [3, 1, 3, 2, 5]    # 가로 크기를 저장한 리스트\n",
    "b = []    # 빈 리스트 생성\n",
    " \n",
    "for i in a:      # 가로 크기를 저장한 리스트로 반복\n",
    "    line = []    # 안쪽 리스트로 사용할 빈 리스트 생성\n",
    "    for j in range(i):    # 리스트 a에 저장된 가로 크기만큼 반복\n",
    "        line.append(0)\n",
    "    b.append(line)        # 리스트 b에 안쪽 리스트를 추가\n",
    " \n",
    "print(b)"
   ]
  },
  {
   "cell_type": "code",
   "execution_count": 10,
   "metadata": {},
   "outputs": [
    {
     "data": {
      "text/plain": [
       "[[0, 0, 0], [0], [0, 0, 0], [0, 0], [0, 0, 0, 0, 0]]"
      ]
     },
     "execution_count": 10,
     "metadata": {},
     "output_type": "execute_result"
    }
   ],
   "source": [
    "# 방법2\n",
    "a = [[0] * i for i in [3, 1, 3, 2, 5]]\n",
    "a"
   ]
  },
  {
   "cell_type": "markdown",
   "metadata": {},
   "source": [
    "### 2차원 리스트 정렬하기(sorted)"
   ]
  },
  {
   "cell_type": "code",
   "execution_count": 11,
   "metadata": {},
   "outputs": [
    {
     "name": "stdout",
     "output_type": "stream",
     "text": [
      "[['maria', 'A', 25], ['andrew', 'B', 7], ['john', 'C', 19]]\n"
     ]
    }
   ],
   "source": [
    "students = [\n",
    "    ['john', 'C', 19],\n",
    "    ['maria', 'A', 25],\n",
    "    ['andrew', 'B', 7]\n",
    "]\n",
    "\n",
    "print(sorted(students, key=lambda student: student[1]))"
   ]
  },
  {
   "cell_type": "code",
   "execution_count": 13,
   "metadata": {},
   "outputs": [
    {
     "name": "stdout",
     "output_type": "stream",
     "text": [
      "[['andrew', 'B', 7], ['john', 'C', 19], ['maria', 'A', 25]]\n"
     ]
    }
   ],
   "source": [
    "print(sorted(students, key=lambda func1: func1[2]))"
   ]
  },
  {
   "cell_type": "markdown",
   "metadata": {},
   "source": [
    "# 튜플!\n",
    "\n",
    "    * 리스트와 다르게 요소 변경, 추가, 삭제 불가\n",
    "    * a = (1, 2, 3) 이렇게 정의해고 되고, a = 1, 2, 3 해도 됨"
   ]
  },
  {
   "cell_type": "code",
   "execution_count": 83,
   "metadata": {},
   "outputs": [
    {
     "data": {
      "text/plain": [
       "(1, 2, 3, '234', False)"
      ]
     },
     "execution_count": 83,
     "metadata": {},
     "output_type": "execute_result"
    }
   ],
   "source": [
    "# 정의\n",
    "\n",
    "a = 1,2,3, \"234\", False\n",
    "a"
   ]
  },
  {
   "cell_type": "markdown",
   "metadata": {},
   "source": [
    "* 괄호안에 값이 하나이면 튜플이 아나고 그냥 값 동일\n",
    "    * 요소가 한개인 튜플은 괄호 뒤에 컴마를 써주어야함"
   ]
  },
  {
   "cell_type": "code",
   "execution_count": 85,
   "metadata": {},
   "outputs": [
    {
     "name": "stdout",
     "output_type": "stream",
     "text": [
      "232\n",
      "(232,)\n",
      "<class 'int'>\n",
      "<class 'tuple'>\n"
     ]
    }
   ],
   "source": [
    "a = (232)\n",
    "b = (232,)\n",
    "\n",
    "print(a)\n",
    "print(b)\n",
    "print(type(a))\n",
    "print(type(b))"
   ]
  },
  {
   "cell_type": "markdown",
   "metadata": {},
   "source": [
    "* range 이용"
   ]
  },
  {
   "cell_type": "code",
   "execution_count": 86,
   "metadata": {},
   "outputs": [
    {
     "data": {
      "text/plain": [
       "(0, 1, 2)"
      ]
     },
     "execution_count": 86,
     "metadata": {},
     "output_type": "execute_result"
    }
   ],
   "source": [
    "c = tuple(range(3))\n",
    "c"
   ]
  },
  {
   "cell_type": "code",
   "execution_count": 107,
   "metadata": {},
   "outputs": [
    {
     "name": "stdout",
     "output_type": "stream",
     "text": [
      "23\n",
      "345\n",
      "sdf\n",
      "True\n"
     ]
    }
   ],
   "source": [
    "# 튜플 이용 다중 변수 할당\n",
    "a = 23,345,\"sdf\", True\n",
    "\n",
    "b, c, d, e = a\n",
    "\n",
    "print(b)\n",
    "print(c)\n",
    "print(d)\n",
    "print(e)"
   ]
  },
  {
   "cell_type": "markdown",
   "metadata": {},
   "source": [
    "# 딕셔너리!\n",
    "\n",
    "    * 딕셔너리는 { }(중괄호) 안에 키: 값 형식으로 저장하며 각 키와 값은 ,(콤마)로 구분해줍니다.\n",
    "    * 딕셔너리 = {키1: 값1, 키2: 값2}\n",
    "    * 딕셔너리 = dict(키1=값1, 키2=값2)\n",
    "    * 키에는 하나의 값만 지정 가능\n",
    "    * 키이름이 중복 될 경우 뒤에 있는 한가지만 덮어써서 사용\n",
    "    * 키에는 리스트와 딕셔너리 사용 불가"
   ]
  },
  {
   "cell_type": "code",
   "execution_count": 131,
   "metadata": {},
   "outputs": [
    {
     "data": {
      "text/plain": [
       "{'health': 490, 'mana': 334, 'melee': 550, 'armor': 18.72}"
      ]
     },
     "execution_count": 131,
     "metadata": {},
     "output_type": "execute_result"
    }
   ],
   "source": [
    "lux = {'health': 490, 'mana': 334, 'melee': 550, 'armor': 18.72}\n",
    "lux"
   ]
  },
  {
   "cell_type": "code",
   "execution_count": null,
   "metadata": {},
   "outputs": [],
   "source": [
    "lux1 = dict()"
   ]
  },
  {
   "cell_type": "markdown",
   "metadata": {},
   "source": [
    "* 키이름이 중복 될 경우 뒤에 있는 한가지만 덮어써서 사용"
   ]
  },
  {
   "cell_type": "code",
   "execution_count": 133,
   "metadata": {},
   "outputs": [
    {
     "data": {
      "text/plain": [
       "{'health': 800, 'mana': 334}"
      ]
     },
     "execution_count": 133,
     "metadata": {},
     "output_type": "execute_result"
    }
   ],
   "source": [
    "lux = {'health': 490, 'health': 800, 'mana': 334}\n",
    "lux"
   ]
  },
  {
   "cell_type": "code",
   "execution_count": 138,
   "metadata": {},
   "outputs": [
    {
     "data": {
      "text/plain": [
       "{}"
      ]
     },
     "execution_count": 138,
     "metadata": {},
     "output_type": "execute_result"
    }
   ],
   "source": [
    "# 빈 딕셔너리 만들기\n",
    "\n",
    "x = {}\n",
    "y = dict()\n",
    "y"
   ]
  },
  {
   "cell_type": "markdown",
   "metadata": {},
   "source": [
    " * 딕셔너리 키에 값 할당\n",
    " \n",
    "     * 리스트 넣듯이 넣으면 됨"
   ]
  },
  {
   "cell_type": "code",
   "execution_count": 144,
   "metadata": {},
   "outputs": [
    {
     "data": {
      "text/plain": [
       "{'health': 1, 'mana': 334, 'melee': 550, 'armor': 18.72}"
      ]
     },
     "execution_count": 144,
     "metadata": {},
     "output_type": "execute_result"
    }
   ],
   "source": [
    "lux = {'health': 490, 'mana': 334, 'melee': 550, 'armor': 18.72}\n",
    "\n",
    "lux['health'] = 1\n",
    "\n",
    "lux"
   ]
  },
  {
   "cell_type": "markdown",
   "metadata": {},
   "source": [
    "* 딕서너리에 키가 있는지 확인\n",
    "    * in 사용"
   ]
  },
  {
   "cell_type": "code",
   "execution_count": 145,
   "metadata": {},
   "outputs": [
    {
     "data": {
      "text/plain": [
       "True"
      ]
     },
     "execution_count": 145,
     "metadata": {},
     "output_type": "execute_result"
    }
   ],
   "source": [
    "'health' in lux"
   ]
  },
  {
   "cell_type": "code",
   "execution_count": 148,
   "metadata": {},
   "outputs": [
    {
     "data": {
      "text/plain": [
       "True"
      ]
     },
     "execution_count": 148,
     "metadata": {},
     "output_type": "execute_result"
    }
   ],
   "source": [
    "'air' not in lux"
   ]
  },
  {
   "cell_type": "code",
   "execution_count": 147,
   "metadata": {},
   "outputs": [
    {
     "data": {
      "text/plain": [
       "False"
      ]
     },
     "execution_count": 147,
     "metadata": {},
     "output_type": "execute_result"
    }
   ],
   "source": [
    "# 값은 안됨\n",
    "334 in lux"
   ]
  },
  {
   "cell_type": "code",
   "execution_count": 149,
   "metadata": {},
   "outputs": [
    {
     "data": {
      "text/plain": [
       "4"
      ]
     },
     "execution_count": 149,
     "metadata": {},
     "output_type": "execute_result"
    }
   ],
   "source": [
    "len(lux)"
   ]
  },
  {
   "cell_type": "markdown",
   "metadata": {},
   "source": [
    "### 키-값 쌍 추가 하기\n",
    "\n",
    "     * setdefault() : 딕셔너리에 키-값 쌍 추가하고, 값을 반환함\n",
    "         - setdefault에서 키만 지정하면 값에 None이 저장됨\n",
    "      \n",
    "     * update() : 키의 값 수정, 키가 없으면 키-값 쌍 추가\n",
    "     \n",
    "     setdefault에서는 ''따옴표를 쓰고, update에서는 ''따옴표를 안씀에 주의!!!\n",
    "         * setdefault('키', 값)\n",
    "         * update(키=값) -> 키가 문자열 일 때만 사용 가능\n",
    "         * update({'키':값, '키':값})\n",
    "         * update([[키, 값],[키, 값]])\n",
    "         * update(zip([키1, 키2], [값1, 값2]))\n",
    "         \n",
    "         형태 주의!"
   ]
  },
  {
   "cell_type": "code",
   "execution_count": 58,
   "metadata": {},
   "outputs": [
    {
     "data": {
      "text/plain": [
       "{'a': 10, 'b': 20, 'c': 30, 'd': 40, 'e': None}"
      ]
     },
     "execution_count": 58,
     "metadata": {},
     "output_type": "execute_result"
    }
   ],
   "source": [
    "x = {'a': 10, 'b': 20, 'c': 30, 'd': 40}\n",
    "x.setdefault('e')     # 키만 추가(값에는 None 추가됨)\n",
    "\n",
    "x"
   ]
  },
  {
   "cell_type": "code",
   "execution_count": 60,
   "metadata": {},
   "outputs": [
    {
     "data": {
      "text/plain": [
       "{'a': 10, 'b': 20, 'c': 30, 'd': 40, 'e': None, 'f': 100}"
      ]
     },
     "execution_count": 60,
     "metadata": {},
     "output_type": "execute_result"
    }
   ],
   "source": [
    "# 키, 값 쌍으로 추가\n",
    "x.setdefault('f', 100)\n",
    "x"
   ]
  },
  {
   "cell_type": "markdown",
   "metadata": {},
   "source": [
    "### 키-값 쌍 수정하기\n",
    "\n",
    "    * update : 키의 값 수정, 키가 없으면 키-값 쌍 추가\n",
    "        * update(키=값)에서는 ''따옴표를 안씀에 주의!!!\n",
    "        * update(키=값) 형태는 키가 문자열일 때만 사용 가능\n",
    "        * 키가 문자열이 아닐 떄,\n",
    "            - update(딕셔너리) 형태로 사용"
   ]
  },
  {
   "cell_type": "markdown",
   "metadata": {},
   "source": [
    " *  update(키=값) 형태"
   ]
  },
  {
   "cell_type": "code",
   "execution_count": 63,
   "metadata": {},
   "outputs": [
    {
     "data": {
      "text/plain": [
       "{'a': 90, 'b': 20, 'c': 30, 'd': 40, 'e': None, 'f': 54, 'g': 70}"
      ]
     },
     "execution_count": 63,
     "metadata": {},
     "output_type": "execute_result"
    }
   ],
   "source": [
    "x.update(a=90, f=54)\n",
    "x"
   ]
  },
  {
   "cell_type": "code",
   "execution_count": 64,
   "metadata": {},
   "outputs": [
    {
     "data": {
      "text/plain": [
       "{'a': 90, 'b': 20, 'c': 30, 'd': 40, 'e': None, 'f': 54, 'g': 70}"
      ]
     },
     "execution_count": 64,
     "metadata": {},
     "output_type": "execute_result"
    }
   ],
   "source": [
    "# 키가 없으면 값을 추가해버림\n",
    "x.update(g=70)\n",
    "x"
   ]
  },
  {
   "cell_type": "markdown",
   "metadata": {},
   "source": [
    " * update({키:값, 키:값})   (키가 문자열이 아닐 때)"
   ]
  },
  {
   "cell_type": "code",
   "execution_count": 13,
   "metadata": {},
   "outputs": [
    {
     "data": {
      "text/plain": [
       "{1: 'one', 2: 'two'}"
      ]
     },
     "execution_count": 13,
     "metadata": {},
     "output_type": "execute_result"
    }
   ],
   "source": [
    "y = {1: 'one', 2: 'two'}\n",
    "y"
   ]
  },
  {
   "cell_type": "code",
   "execution_count": 14,
   "metadata": {},
   "outputs": [
    {
     "data": {
      "text/plain": [
       "{1: 'hi', 2: 'two', 3: 'THREE'}"
      ]
     },
     "execution_count": 14,
     "metadata": {},
     "output_type": "execute_result"
    }
   ],
   "source": [
    "y.update({1: 'hi', 3: 'THREE'})\n",
    "y"
   ]
  },
  {
   "cell_type": "markdown",
   "metadata": {},
   "source": [
    " * update([[키, 값],[키, 값]])      \n",
    " (리스트, 튜플, 섞어서 모두 가능) "
   ]
  },
  {
   "cell_type": "code",
   "execution_count": 71,
   "metadata": {},
   "outputs": [
    {
     "data": {
      "text/plain": [
       "{1: 'hi', 2: 'TWO', 3: 'THREE', 4: 'FOUR'}"
      ]
     },
     "execution_count": 71,
     "metadata": {},
     "output_type": "execute_result"
    }
   ],
   "source": [
    "y.update([[2, 'TWO'], [4, 'FOUR']])\n",
    "y"
   ]
  },
  {
   "cell_type": "code",
   "execution_count": 72,
   "metadata": {},
   "outputs": [
    {
     "data": {
      "text/plain": [
       "{1: 'hi', 2: 'two', 3: 'THREE', 4: 'four'}"
      ]
     },
     "execution_count": 72,
     "metadata": {},
     "output_type": "execute_result"
    }
   ],
   "source": [
    "y.update(((2, 'two'), (4, 'four')))\n",
    "y"
   ]
  },
  {
   "cell_type": "code",
   "execution_count": 73,
   "metadata": {},
   "outputs": [
    {
     "data": {
      "text/plain": [
       "{1: 'hi', 2: 'TWO', 3: 'THREE', 4: 'FOUR'}"
      ]
     },
     "execution_count": 73,
     "metadata": {},
     "output_type": "execute_result"
    }
   ],
   "source": [
    "y.update(([2, 'TWO'], [4, 'FOUR']))\n",
    "y"
   ]
  },
  {
   "cell_type": "code",
   "execution_count": 74,
   "metadata": {},
   "outputs": [
    {
     "data": {
      "text/plain": [
       "{1: 'hi', 2: 'two', 3: 'THREE', 4: 'four'}"
      ]
     },
     "execution_count": 74,
     "metadata": {},
     "output_type": "execute_result"
    }
   ],
   "source": [
    "y.update([(2, 'two'), (4, 'four')])\n",
    "y"
   ]
  },
  {
   "cell_type": "markdown",
   "metadata": {},
   "source": [
    "* update(zip([키1, 키2], [값1, 값2]))"
   ]
  },
  {
   "cell_type": "code",
   "execution_count": 75,
   "metadata": {},
   "outputs": [
    {
     "data": {
      "text/plain": [
       "{1: 'qwe', 2: 'dsa', 3: 'THREE', 4: 'four'}"
      ]
     },
     "execution_count": 75,
     "metadata": {},
     "output_type": "execute_result"
    }
   ],
   "source": [
    "y.update(zip([1, 2],['qwe', 'dsa']))\n",
    "y"
   ]
  },
  {
   "cell_type": "markdown",
   "metadata": {},
   "source": [
    "### 키-값 쌍 삭제하기\n",
    "\n",
    "    * pop(키) : 들어있는 키-쌍을 삭제하고, 값을 반환함\n",
    "    * pop(키, 기본값) : \n",
    "            키가 있으면, 키-값을 삭제하고, 값을 반환\n",
    "            키가 없으면, 기본 값을 반환\n",
    "            \n",
    "    * popitem()\n",
    "        python3.6 이상: 딕셔너리의 마지막 키-쌍을 삭제하고, (키,값) 튜플로 반환\n",
    "        python3.5 이하: 딕셔너리의 임의의 키-쌍을 삭제하고, (키,값) 튜플로 반환\n",
    "        \n",
    "    * del 딕셔너리[키] : 해당 키-값을 삭제\n",
    "    "
   ]
  },
  {
   "cell_type": "code",
   "execution_count": 77,
   "metadata": {},
   "outputs": [
    {
     "data": {
      "text/plain": [
       "('d', 40)"
      ]
     },
     "execution_count": 77,
     "metadata": {},
     "output_type": "execute_result"
    }
   ],
   "source": [
    "x = {'a': 10, 'b': 20, 'c': 30, 'd': 40}\n",
    "x.popitem()"
   ]
  },
  {
   "cell_type": "markdown",
   "metadata": {},
   "source": [
    " * 모든 키-값 삭제 (clear)"
   ]
  },
  {
   "cell_type": "code",
   "execution_count": 78,
   "metadata": {},
   "outputs": [
    {
     "data": {
      "text/plain": [
       "{}"
      ]
     },
     "execution_count": 78,
     "metadata": {},
     "output_type": "execute_result"
    }
   ],
   "source": [
    "x.clear()\n",
    "x"
   ]
  },
  {
   "cell_type": "markdown",
   "metadata": {},
   "source": [
    "### 특정 키의 값을 가져오기\n",
    "\n",
    "    * get(키) : 키에 대한 값을 반환\n",
    "    * get(키, 기본값) : 키가 없으면, 기본 값을 반환"
   ]
  },
  {
   "cell_type": "code",
   "execution_count": 79,
   "metadata": {},
   "outputs": [
    {
     "data": {
      "text/plain": [
       "10"
      ]
     },
     "execution_count": 79,
     "metadata": {},
     "output_type": "execute_result"
    }
   ],
   "source": [
    "x = {'a': 10, 'b': 20, 'c': 30, 'd': 40}\n",
    "x.get('a')"
   ]
  },
  {
   "cell_type": "code",
   "execution_count": 80,
   "metadata": {},
   "outputs": [
    {
     "data": {
      "text/plain": [
       "0"
      ]
     },
     "execution_count": 80,
     "metadata": {},
     "output_type": "execute_result"
    }
   ],
   "source": [
    "x.get('z', 0)"
   ]
  },
  {
   "cell_type": "markdown",
   "metadata": {},
   "source": [
    "## 딕셔너리에서 키-값 가져오기\n",
    "\n",
    "    * items : 키-값 쌍을 모두 가져옴\n",
    "    * keys : 키를 모두 가져옴\n",
    "    * values : 값을 모두 가져옴"
   ]
  },
  {
   "cell_type": "code",
   "execution_count": 81,
   "metadata": {},
   "outputs": [
    {
     "data": {
      "text/plain": [
       "dict_items([('a', 10), ('b', 20), ('c', 30), ('d', 40)])"
      ]
     },
     "execution_count": 81,
     "metadata": {},
     "output_type": "execute_result"
    }
   ],
   "source": [
    "x = {'a': 10, 'b': 20, 'c': 30, 'd': 40}\n",
    "x.items()"
   ]
  },
  {
   "cell_type": "code",
   "execution_count": 82,
   "metadata": {},
   "outputs": [
    {
     "data": {
      "text/plain": [
       "dict_keys(['a', 'b', 'c', 'd'])"
      ]
     },
     "execution_count": 82,
     "metadata": {},
     "output_type": "execute_result"
    }
   ],
   "source": [
    "x = {'a': 10, 'b': 20, 'c': 30, 'd': 40}\n",
    "x.keys()"
   ]
  },
  {
   "cell_type": "code",
   "execution_count": 83,
   "metadata": {},
   "outputs": [
    {
     "data": {
      "text/plain": [
       "dict_values([10, 20, 30, 40])"
      ]
     },
     "execution_count": 83,
     "metadata": {},
     "output_type": "execute_result"
    }
   ],
   "source": [
    "x = {'a': 10, 'b': 20, 'c': 30, 'd': 40}\n",
    "x.values()"
   ]
  },
  {
   "cell_type": "code",
   "execution_count": 84,
   "metadata": {},
   "outputs": [
    {
     "name": "stdout",
     "output_type": "stream",
     "text": [
      "a\n",
      "b\n",
      "c\n",
      "d\n"
     ]
    }
   ],
   "source": [
    "x = {'a': 10, 'b': 20, 'c': 30, 'd': 40}\n",
    "for a in x.keys():\n",
    "    print(a)"
   ]
  },
  {
   "cell_type": "markdown",
   "metadata": {},
   "source": [
    "* 반복문을 통한 출력"
   ]
  },
  {
   "cell_type": "code",
   "execution_count": 107,
   "metadata": {},
   "outputs": [
    {
     "name": "stdout",
     "output_type": "stream",
     "text": [
      "a 10\n",
      "b 20\n",
      "c 30\n",
      "d 40\n"
     ]
    }
   ],
   "source": [
    "x = {'a': 10, 'b': 20, 'c': 30, 'd': 40}\n",
    "\n",
    "# 키-값 둘다 출력\n",
    "for k, v in x.items():\n",
    "    print(k,v)"
   ]
  },
  {
   "cell_type": "code",
   "execution_count": 108,
   "metadata": {},
   "outputs": [
    {
     "name": "stdout",
     "output_type": "stream",
     "text": [
      "a\n",
      "b\n",
      "c\n",
      "d\n"
     ]
    }
   ],
   "source": [
    "x = {'a': 10, 'b': 20, 'c': 30, 'd': 40}\n",
    "\n",
    "# 키만 출력\n",
    "for k in x.keys():\n",
    "    print(k)"
   ]
  },
  {
   "cell_type": "code",
   "execution_count": 110,
   "metadata": {},
   "outputs": [
    {
     "name": "stdout",
     "output_type": "stream",
     "text": [
      "10 20 30 40 "
     ]
    }
   ],
   "source": [
    "x = {'a': 10, 'b': 20, 'c': 30, 'd': 40}\n",
    "\n",
    "# 값만 출력\n",
    "for v in x.values():\n",
    "    print(v, end=' ')"
   ]
  },
  {
   "cell_type": "markdown",
   "metadata": {},
   "source": [
    "## 반복문을 통한 딕셔너리 생성\n",
    "\n",
    "    * {키: 값 for 키, 값 in 딕셔너리}\n",
    "    * dict({키: 값 for 키, 값 in 딕셔너리})"
   ]
  },
  {
   "cell_type": "code",
   "execution_count": 111,
   "metadata": {},
   "outputs": [
    {
     "data": {
      "text/plain": [
       "{'a': None, 'b': None, 'c': None, 'd': None}"
      ]
     },
     "execution_count": 111,
     "metadata": {},
     "output_type": "execute_result"
    }
   ],
   "source": [
    "keys = ['a', 'b', 'c', 'd']\n",
    "x = {key: value for key, value in dict.fromkeys(keys).items()}\n",
    "x"
   ]
  },
  {
   "cell_type": "markdown",
   "metadata": {},
   "source": [
    " * 그냥 아래 (리스트로 딕셔너리 만들기)랑 똑같은거 같은데?? \n",
    "        =>in 딕셔너리 말고, in 리스트 등으로 딕셔너리 만들 떄 쓸모 있을 듯"
   ]
  },
  {
   "cell_type": "markdown",
   "metadata": {},
   "source": [
    "## 반복문에 조건문 추가"
   ]
  },
  {
   "cell_type": "code",
   "execution_count": 113,
   "metadata": {},
   "outputs": [
    {
     "data": {
      "text/plain": [
       "{'a': 10, 'c': 30, 'd': 40}"
      ]
     },
     "execution_count": 113,
     "metadata": {},
     "output_type": "execute_result"
    }
   ],
   "source": [
    "x = {'a': 10, 'b': 20, 'c': 30, 'd': 40}\n",
    "x = {key: value for key, value in x.items() if value != 20}\n",
    "x"
   ]
  },
  {
   "cell_type": "markdown",
   "metadata": {},
   "source": [
    "## 리스트와 튜플로 딕셔너리 만들기\n",
    "\n",
    "    * 키 리스트로 만들기\n",
    "        * dict.fromkeys(키리스트) : None으로 값을 채움\n",
    "        * dict.fromkeys(키리스트, 동일값) : 동일값을 값을 채움 \n",
    "        \n",
    "    * defaultdict(함수) 이용\n",
    "        * setdefault처럼 키-값을 추가하는게 아니라 새로운 딕셔너리를 만드는 개념"
   ]
  },
  {
   "cell_type": "code",
   "execution_count": 86,
   "metadata": {},
   "outputs": [
    {
     "data": {
      "text/plain": [
       "{'a': None, 'b': None, 'c': None, 'd': None}"
      ]
     },
     "execution_count": 86,
     "metadata": {},
     "output_type": "execute_result"
    }
   ],
   "source": [
    "keys = ['a', 'b', 'c', 'd']\n",
    "x = dict.fromkeys(keys)\n",
    "x"
   ]
  },
  {
   "cell_type": "code",
   "execution_count": 87,
   "metadata": {},
   "outputs": [
    {
     "data": {
      "text/plain": [
       "{'a': 100, 'b': 100, 'c': 100, 'd': 100}"
      ]
     },
     "execution_count": 87,
     "metadata": {},
     "output_type": "execute_result"
    }
   ],
   "source": [
    "keys = ['a', 'b', 'c', 'd']\n",
    "x = dict.fromkeys(keys, 100)\n",
    "x"
   ]
  },
  {
   "cell_type": "code",
   "execution_count": 93,
   "metadata": {},
   "outputs": [
    {
     "data": {
      "text/plain": [
       "{'a': 0, 'b': 0, 'c': 0, 'd': 0}"
      ]
     },
     "execution_count": 93,
     "metadata": {},
     "output_type": "execute_result"
    }
   ],
   "source": [
    "y = {'a': 0, 'b': 0, 'c': 0, 'd': 0}\n",
    "y"
   ]
  },
  {
   "cell_type": "code",
   "execution_count": 101,
   "metadata": {},
   "outputs": [
    {
     "data": {
      "text/plain": [
       "0"
      ]
     },
     "execution_count": 101,
     "metadata": {},
     "output_type": "execute_result"
    }
   ],
   "source": [
    "from collections import defaultdict\n",
    "\n",
    "y = defaultdict(int) # 기본 값이 정수(값이 없으면 0)인 딕셔너리 생성\n",
    "\n",
    "y['z'] # 'z' 없었던 키 'z'에 대한 값 0 생성"
   ]
  },
  {
   "cell_type": "code",
   "execution_count": 102,
   "metadata": {},
   "outputs": [
    {
     "data": {
      "text/plain": [
       "defaultdict(int, {'z': 0})"
      ]
     },
     "execution_count": 102,
     "metadata": {},
     "output_type": "execute_result"
    }
   ],
   "source": [
    "y"
   ]
  },
  {
   "cell_type": "code",
   "execution_count": 105,
   "metadata": {},
   "outputs": [
    {
     "data": {
      "text/plain": [
       "'python'"
      ]
     },
     "execution_count": 105,
     "metadata": {},
     "output_type": "execute_result"
    }
   ],
   "source": [
    "y = defaultdict(lambda: 'python')\n",
    "y['a']"
   ]
  },
  {
   "cell_type": "code",
   "execution_count": 106,
   "metadata": {},
   "outputs": [
    {
     "data": {
      "text/plain": [
       "defaultdict(<function __main__.<lambda>()>, {'a': 'python'})"
      ]
     },
     "execution_count": 106,
     "metadata": {},
     "output_type": "execute_result"
    }
   ],
   "source": [
    "y"
   ]
  },
  {
   "cell_type": "markdown",
   "metadata": {},
   "source": [
    "### 딕셔너리 안에 딕셔너리(2차원 딕셔너리)\n",
    "\n",
    "    * 딕셔너리[바깥 dict's 키][안쪽 dict's 키]"
   ]
  },
  {
   "cell_type": "code",
   "execution_count": 114,
   "metadata": {},
   "outputs": [
    {
     "name": "stdout",
     "output_type": "stream",
     "text": [
      "6051.8\n"
     ]
    }
   ],
   "source": [
    "terrestrial_planet = {\n",
    "    'Mercury': {\n",
    "        'mean_radius': 2439.7,\n",
    "        'mass': 3.3022E+23,\n",
    "        'orbital_period': 87.969\n",
    "    },\n",
    "    'Venus': {\n",
    "        'mean_radius': 6051.8,\n",
    "        'mass': 4.8676E+24,\n",
    "        'orbital_period': 224.70069,\n",
    "    },\n",
    "    'Earth': {\n",
    "        'mean_radius': 6371.0,\n",
    "        'mass': 5.97219E+24,\n",
    "        'orbital_period': 365.25641,\n",
    "    },\n",
    "    'Mars': {\n",
    "        'mean_radius': 3389.5,\n",
    "        'mass': 6.4185E+23,\n",
    "        'orbital_period': 686.9600,\n",
    "    }\n",
    "}\n",
    " \n",
    "print(terrestrial_planet['Venus']['mean_radius'])    # 6051.8"
   ]
  },
  {
   "cell_type": "markdown",
   "metadata": {},
   "source": [
    "## 딕셔너리에서 특정 값을 가진 키를 반환하는 방법은??\n",
    "\n",
    "## 아니면 키와 값을 반전 시키는 방법??\n",
    "\n",
    "    => 둘다 items() 이용, 노션 참조"
   ]
  },
  {
   "cell_type": "markdown",
   "metadata": {},
   "source": [
    "# 형 변환!!!"
   ]
  },
  {
   "cell_type": "markdown",
   "metadata": {},
   "source": [
    "### 대소문자 변환\n",
    "    * upper() : 모든 문자열을 대문자로 변환\n",
    "    * lower() : 모든 문자열을 소문자로 변환\n",
    "    * capitalize() : 첫 글자만 대문자로 변환\n",
    "    * 위의 함수들은 1회성 반환이므로, 변수에 다시 넣어 줘야 변환되서 저장됨"
   ]
  },
  {
   "cell_type": "code",
   "execution_count": 12,
   "metadata": {},
   "outputs": [
    {
     "name": "stdout",
     "output_type": "stream",
     "text": [
      "HELLO\n",
      "hello\n",
      "HELLO\n",
      "Hello\n"
     ]
    }
   ],
   "source": [
    "txt1 = \"hello\"\n",
    "\n",
    "# 한번만 변환됨\n",
    "print(txt1.upper())\n",
    "\n",
    "print(txt1)\n",
    "\n",
    "# 변환되어 저장\n",
    "txt1 = txt1.upper()\n",
    "print(txt1)\n",
    "\n",
    "txt2 = txt1.capitalize()\n",
    "print(txt2)\n"
   ]
  },
  {
   "cell_type": "markdown",
   "metadata": {},
   "source": [
    "### 구분자로 문자열을 리스트(요소)로 변환\n",
    "\n",
    "    * split()"
   ]
  },
  {
   "cell_type": "code",
   "execution_count": 20,
   "metadata": {},
   "outputs": [
    {
     "data": {
      "text/plain": [
       "['apple', 'pear', 'grape', 'pineapple', 'orange']"
      ]
     },
     "execution_count": 20,
     "metadata": {},
     "output_type": "execute_result"
    }
   ],
   "source": [
    "# 공백 기준으로 분리\n",
    "'apple pear grape pineapple orange'.split()"
   ]
  },
  {
   "cell_type": "code",
   "execution_count": 21,
   "metadata": {},
   "outputs": [
    {
     "data": {
      "text/plain": [
       "['apple', ' pear', ' grape', ' pineapple', ' orange']"
      ]
     },
     "execution_count": 21,
     "metadata": {},
     "output_type": "execute_result"
    }
   ],
   "source": [
    "# 컴마 기준으로 분리\n",
    "'apple, pear, grape, pineapple, orange'.split(',')"
   ]
  },
  {
   "cell_type": "markdown",
   "metadata": {},
   "source": [
    "### 위와 역 변환(구분자로 리스트(요소) -> 문자열로 변환)\n",
    "\n",
    "    * '구분자'.join(리스트명)\n",
    "    * join()\n",
    "        - 튜플, 리스트, string  등 반복가능한(iterable) 객체를 받아 하나의 문자열로 만들어줌\n",
    "        - 시퀀스의 요소가 문자열이어야 하고 아니면 그전에 map(str, ~~) 해서 문자열로 바꾸어줘야함"
   ]
  },
  {
   "cell_type": "code",
   "execution_count": 24,
   "metadata": {},
   "outputs": [
    {
     "data": {
      "text/plain": [
       "'apple pear grape pineapple orange'"
      ]
     },
     "execution_count": 24,
     "metadata": {},
     "output_type": "execute_result"
    }
   ],
   "source": [
    "' '.join(['apple', 'pear', 'grape', 'pineapple', 'orange'])"
   ]
  },
  {
   "cell_type": "code",
   "execution_count": 23,
   "metadata": {},
   "outputs": [
    {
     "data": {
      "text/plain": [
       "'apple-pear-grape-pineapple-orange'"
      ]
     },
     "execution_count": 23,
     "metadata": {},
     "output_type": "execute_result"
    }
   ],
   "source": [
    "'-'.join(['apple', 'pear', 'grape', 'pineapple', 'orange'])"
   ]
  },
  {
   "cell_type": "markdown",
   "metadata": {},
   "source": [
    "### 튜플 -> 리스트 변환\n",
    "### 문자열 -> 리스트 변환"
   ]
  },
  {
   "cell_type": "code",
   "execution_count": 95,
   "metadata": {},
   "outputs": [
    {
     "data": {
      "text/plain": [
       "[1, 2, 3]"
      ]
     },
     "execution_count": 95,
     "metadata": {},
     "output_type": "execute_result"
    }
   ],
   "source": [
    "a_tuple = (1,2,3)\n",
    "b = list(a_tuple)\n",
    "b"
   ]
  },
  {
   "cell_type": "code",
   "execution_count": 93,
   "metadata": {},
   "outputs": [
    {
     "data": {
      "text/plain": [
       "['h', 'e', 'l', 'l', 'o']"
      ]
     },
     "execution_count": 93,
     "metadata": {},
     "output_type": "execute_result"
    }
   ],
   "source": [
    "a_string = \"hello\"\n",
    "b = list(a_string)\n",
    "b"
   ]
  },
  {
   "cell_type": "markdown",
   "metadata": {},
   "source": [
    "### 리스트 -> 튜플 변환\n",
    "### 문자열 -> 튜플 변환"
   ]
  },
  {
   "cell_type": "code",
   "execution_count": 91,
   "metadata": {},
   "outputs": [
    {
     "data": {
      "text/plain": [
       "(1, 2, 3)"
      ]
     },
     "execution_count": 91,
     "metadata": {},
     "output_type": "execute_result"
    }
   ],
   "source": [
    "a = [1,2,3]\n",
    "b = tuple(a)\n",
    "b"
   ]
  },
  {
   "cell_type": "code",
   "execution_count": 94,
   "metadata": {},
   "outputs": [
    {
     "data": {
      "text/plain": [
       "('h', 'i')"
      ]
     },
     "execution_count": 94,
     "metadata": {},
     "output_type": "execute_result"
    }
   ],
   "source": [
    "a = \"hi\"\n",
    "b = tuple(a)\n",
    "b"
   ]
  },
  {
   "cell_type": "code",
   "execution_count": 99,
   "metadata": {},
   "outputs": [
    {
     "data": {
      "text/plain": [
       "(1, 2, 3, 4, 5)"
      ]
     },
     "execution_count": 99,
     "metadata": {},
     "output_type": "execute_result"
    }
   ],
   "source": [
    "c = (1,2,3,4,5)\n",
    "c"
   ]
  },
  {
   "cell_type": "markdown",
   "metadata": {},
   "source": [
    "### 리스트 ot 튜플 => 문자열"
   ]
  },
  {
   "cell_type": "code",
   "execution_count": 104,
   "metadata": {},
   "outputs": [
    {
     "data": {
      "text/plain": [
       "'12345'"
      ]
     },
     "execution_count": 104,
     "metadata": {},
     "output_type": "execute_result"
    }
   ],
   "source": [
    "# 반대로 문자열로 만들기\n",
    "s = \"\"\n",
    "\n",
    "for i in c:\n",
    "    a = str(i)\n",
    "    s = s+a\n",
    "    \n",
    "s"
   ]
  },
  {
   "cell_type": "markdown",
   "metadata": {},
   "source": [
    "### 리스트 => 딕셔너리\n",
    "\n",
    "    * 키와 값이 각각 있어야함"
   ]
  },
  {
   "cell_type": "markdown",
   "metadata": {},
   "source": [
    " * 방법1. 키 리스트, 값 리스트 각각 있는 경우\n",
    " \n",
    "     * zip 함수를 이용한다"
   ]
  },
  {
   "cell_type": "code",
   "execution_count": 139,
   "metadata": {},
   "outputs": [
    {
     "data": {
      "text/plain": [
       "{'a': 1, 'b': 2, 'c': 3}"
      ]
     },
     "execution_count": 139,
     "metadata": {},
     "output_type": "execute_result"
    }
   ],
   "source": [
    "key_a = ['a', 'b', 'c']\n",
    "value_a = [1,2,3]\n",
    "\n",
    "c = dict(zip(key_a, value_a))\n",
    "c"
   ]
  },
  {
   "cell_type": "markdown",
   "metadata": {},
   "source": [
    " * 방법2. 키와 값이 튜플로 묶인 리스트"
   ]
  },
  {
   "cell_type": "code",
   "execution_count": 142,
   "metadata": {},
   "outputs": [
    {
     "data": {
      "text/plain": [
       "{'d': 4, 'e': 5, 'f': 6}"
      ]
     },
     "execution_count": 142,
     "metadata": {},
     "output_type": "execute_result"
    }
   ],
   "source": [
    "d = dict([('d', 4), ('e', 5), ('f', 6)])\n",
    "d"
   ]
  },
  {
   "cell_type": "markdown",
   "metadata": {},
   "source": [
    "# 세트! (set!)\n",
    "\n",
    "     * 세트명 = {값1, 값2, 값3}\n",
    "     * 세트명 = set(반복 가능한 객체)\n",
    "         *내용을 변경할수 없는 세트 만들기: frozenset(반복가능객체)\n",
    "     * in / not in 사용 가능"
   ]
  },
  {
   "cell_type": "markdown",
   "metadata": {},
   "source": [
    "## 요소 추가(add)"
   ]
  },
  {
   "cell_type": "code",
   "execution_count": 132,
   "metadata": {},
   "outputs": [
    {
     "data": {
      "text/plain": [
       "{1, 2, 3, 4, 5}"
      ]
     },
     "execution_count": 132,
     "metadata": {},
     "output_type": "execute_result"
    }
   ],
   "source": [
    "a = {1, 2, 3, 4}\n",
    "a.add(5)\n",
    "a"
   ]
  },
  {
   "cell_type": "markdown",
   "metadata": {},
   "source": [
    "## 요소 삭제(remove, discard)\n",
    "\n",
    "    remove : 해당 요소가 없으면 에러 발생\n",
    "    discard : 해당 요소가 없으면, 그냥 넘어감\n",
    "    pop() : 임의의 요소 삭제 후, 반환(요소 없으면 에러발생)\n",
    "    clear() : 전체 요소 삭제\n",
    "    "
   ]
  },
  {
   "cell_type": "code",
   "execution_count": 133,
   "metadata": {},
   "outputs": [
    {
     "data": {
      "text/plain": [
       "{1, 2, 3}"
      ]
     },
     "execution_count": 133,
     "metadata": {},
     "output_type": "execute_result"
    }
   ],
   "source": [
    "a = {1, 2, 3, 4}\n",
    "a.remove(4)\n",
    "a"
   ]
  },
  {
   "cell_type": "code",
   "execution_count": 134,
   "metadata": {},
   "outputs": [
    {
     "ename": "KeyError",
     "evalue": "5",
     "output_type": "error",
     "traceback": [
      "\u001b[1;31m---------------------------------------------------------------------------\u001b[0m",
      "\u001b[1;31mKeyError\u001b[0m                                  Traceback (most recent call last)",
      "\u001b[1;32m<ipython-input-134-a99b25443b2d>\u001b[0m in \u001b[0;36m<module>\u001b[1;34m\u001b[0m\n\u001b[0;32m      1\u001b[0m \u001b[0ma\u001b[0m \u001b[1;33m=\u001b[0m \u001b[1;33m{\u001b[0m\u001b[1;36m1\u001b[0m\u001b[1;33m,\u001b[0m \u001b[1;36m2\u001b[0m\u001b[1;33m,\u001b[0m \u001b[1;36m3\u001b[0m\u001b[1;33m,\u001b[0m \u001b[1;36m4\u001b[0m\u001b[1;33m}\u001b[0m\u001b[1;33m\u001b[0m\u001b[1;33m\u001b[0m\u001b[0m\n\u001b[1;32m----> 2\u001b[1;33m \u001b[0ma\u001b[0m\u001b[1;33m.\u001b[0m\u001b[0mremove\u001b[0m\u001b[1;33m(\u001b[0m\u001b[1;36m5\u001b[0m\u001b[1;33m)\u001b[0m\u001b[1;33m\u001b[0m\u001b[1;33m\u001b[0m\u001b[0m\n\u001b[0m\u001b[0;32m      3\u001b[0m \u001b[0ma\u001b[0m\u001b[1;33m\u001b[0m\u001b[1;33m\u001b[0m\u001b[0m\n",
      "\u001b[1;31mKeyError\u001b[0m: 5"
     ]
    }
   ],
   "source": [
    "a = {1, 2, 3, 4}\n",
    "a.remove(5)\n",
    "a"
   ]
  },
  {
   "cell_type": "code",
   "execution_count": 135,
   "metadata": {},
   "outputs": [
    {
     "data": {
      "text/plain": [
       "{1, 2, 4}"
      ]
     },
     "execution_count": 135,
     "metadata": {},
     "output_type": "execute_result"
    }
   ],
   "source": [
    "a = {1, 2, 3, 4}\n",
    "a.discard(3)\n",
    "a.discard(5)\n",
    "a"
   ]
  },
  {
   "cell_type": "markdown",
   "metadata": {},
   "source": [
    "## 세트 연산\n",
    "\n",
    "a, b가 세트일 때,\n",
    "    \n",
    "    * 합집합 : a | b  또는 set.union(a,b)\n",
    "    * 교집합 : a & b  또는 set.intersection(a,b)\n",
    "    * 차집합 : a - b  또는 set.difference(a,b)\n",
    "    * 대칭 차집합(교집합의 역) : a ^ b  또는 set.symmetric_difference(a,b)"
   ]
  },
  {
   "cell_type": "code",
   "execution_count": 115,
   "metadata": {},
   "outputs": [],
   "source": [
    "a = {1,2,3,4}\n",
    "b = {3,4,5,6}"
   ]
  },
  {
   "cell_type": "code",
   "execution_count": 116,
   "metadata": {},
   "outputs": [
    {
     "data": {
      "text/plain": [
       "{1, 2, 3, 4, 5, 6}"
      ]
     },
     "execution_count": 116,
     "metadata": {},
     "output_type": "execute_result"
    }
   ],
   "source": [
    "a | b"
   ]
  },
  {
   "cell_type": "code",
   "execution_count": 117,
   "metadata": {},
   "outputs": [
    {
     "data": {
      "text/plain": [
       "{3, 4}"
      ]
     },
     "execution_count": 117,
     "metadata": {},
     "output_type": "execute_result"
    }
   ],
   "source": [
    "a & b"
   ]
  },
  {
   "cell_type": "code",
   "execution_count": 118,
   "metadata": {},
   "outputs": [
    {
     "data": {
      "text/plain": [
       "{1, 2}"
      ]
     },
     "execution_count": 118,
     "metadata": {},
     "output_type": "execute_result"
    }
   ],
   "source": [
    "a - b"
   ]
  },
  {
   "cell_type": "code",
   "execution_count": 119,
   "metadata": {},
   "outputs": [
    {
     "data": {
      "text/plain": [
       "{1, 2, 5, 6}"
      ]
     },
     "execution_count": 119,
     "metadata": {},
     "output_type": "execute_result"
    }
   ],
   "source": [
    "a ^ b"
   ]
  },
  {
   "cell_type": "markdown",
   "metadata": {},
   "source": [
    "## 세트 연산 + 할당(연산 후 a가 변함)\n",
    "\n",
    "a, b가 세트일 때,\n",
    "    \n",
    "    * 합 할당 : a |= b  또는 a.update(b)\n",
    "    * 교집합 할당 : a &= b  또는 a.intersection_update(b)\n",
    "    * 차집합 할당: a -= b  또는 a.difference_update(b)\n",
    "    * 대칭 차집합(교집합의 역) : a ^= b  또는 a.symmetric_difference_update(b)"
   ]
  },
  {
   "cell_type": "code",
   "execution_count": 120,
   "metadata": {},
   "outputs": [
    {
     "data": {
      "text/plain": [
       "{1, 2, 3, 4, 5, 6}"
      ]
     },
     "execution_count": 120,
     "metadata": {},
     "output_type": "execute_result"
    }
   ],
   "source": [
    "a = {1,2,3,4}\n",
    "b = {3,4,5,6}\n",
    "\n",
    "a |= b\n",
    "\n",
    "a"
   ]
  },
  {
   "cell_type": "code",
   "execution_count": 121,
   "metadata": {},
   "outputs": [
    {
     "data": {
      "text/plain": [
       "{3, 4}"
      ]
     },
     "execution_count": 121,
     "metadata": {},
     "output_type": "execute_result"
    }
   ],
   "source": [
    "a = {1,2,3,4}\n",
    "b = {3,4,5,6}\n",
    "\n",
    "a &= b\n",
    "\n",
    "a"
   ]
  },
  {
   "cell_type": "code",
   "execution_count": 122,
   "metadata": {},
   "outputs": [
    {
     "data": {
      "text/plain": [
       "{1, 2}"
      ]
     },
     "execution_count": 122,
     "metadata": {},
     "output_type": "execute_result"
    }
   ],
   "source": [
    "a = {1,2,3,4}\n",
    "b = {3,4,5,6}\n",
    "\n",
    "a -= b\n",
    "\n",
    "a"
   ]
  },
  {
   "cell_type": "code",
   "execution_count": 123,
   "metadata": {},
   "outputs": [
    {
     "data": {
      "text/plain": [
       "{1, 2, 5, 6}"
      ]
     },
     "execution_count": 123,
     "metadata": {},
     "output_type": "execute_result"
    }
   ],
   "source": [
    "a = {1,2,3,4}\n",
    "b = {3,4,5,6}\n",
    "\n",
    "a ^= b\n",
    "\n",
    "a"
   ]
  },
  {
   "cell_type": "markdown",
   "metadata": {},
   "source": [
    "## (진(proper))부분집합(subset)/상위집합(superset) 여부 확인\n",
    "    \n",
    "    \n",
    "    * 현재세트 <= 다른세트\n",
    "    * 현재세트.issubset(다른세트)\n",
    "    * 현재세트 == 다른세트 or 현재세트 != 다른세트로 진 여부 판단"
   ]
  },
  {
   "cell_type": "code",
   "execution_count": 124,
   "metadata": {},
   "outputs": [
    {
     "data": {
      "text/plain": [
       "True"
      ]
     },
     "execution_count": 124,
     "metadata": {},
     "output_type": "execute_result"
    }
   ],
   "source": [
    "a = {1,2,3,4}\n",
    "b = {1,2,3,4,5,6}\n",
    "\n",
    "a <= b"
   ]
  },
  {
   "cell_type": "code",
   "execution_count": 125,
   "metadata": {},
   "outputs": [
    {
     "data": {
      "text/plain": [
       "True"
      ]
     },
     "execution_count": 125,
     "metadata": {},
     "output_type": "execute_result"
    }
   ],
   "source": [
    "a.issubset(b)"
   ]
  },
  {
   "cell_type": "code",
   "execution_count": 127,
   "metadata": {},
   "outputs": [
    {
     "data": {
      "text/plain": [
       "True"
      ]
     },
     "execution_count": 127,
     "metadata": {},
     "output_type": "execute_result"
    }
   ],
   "source": [
    "b.issuperset(a)"
   ]
  },
  {
   "cell_type": "code",
   "execution_count": 128,
   "metadata": {},
   "outputs": [
    {
     "data": {
      "text/plain": [
       "False"
      ]
     },
     "execution_count": 128,
     "metadata": {},
     "output_type": "execute_result"
    }
   ],
   "source": [
    "# 진부분집합이 아님\n",
    "a = {1,2,3,4}\n",
    "b = {1,2,3,4}\n",
    "\n",
    "a < b"
   ]
  },
  {
   "cell_type": "markdown",
   "metadata": {},
   "source": [
    " * 세트의 겹침 여부 판단 (.isdisjoint)\n",
    " \n",
    "     겹치는게 있으면, False\n",
    "     없으면, True"
   ]
  },
  {
   "cell_type": "code",
   "execution_count": 129,
   "metadata": {},
   "outputs": [
    {
     "data": {
      "text/plain": [
       "False"
      ]
     },
     "execution_count": 129,
     "metadata": {},
     "output_type": "execute_result"
    }
   ],
   "source": [
    "a = {1,2,3,4}\n",
    "b = {1,2,3,4,5,6}\n",
    "\n",
    "a.isdisjoint(b)"
   ]
  },
  {
   "cell_type": "code",
   "execution_count": 130,
   "metadata": {},
   "outputs": [
    {
     "data": {
      "text/plain": [
       "True"
      ]
     },
     "execution_count": 130,
     "metadata": {},
     "output_type": "execute_result"
    }
   ],
   "source": [
    "a = {1,2,3,4}\n",
    "b = {5,6}\n",
    "\n",
    "a.isdisjoint(b)"
   ]
  },
  {
   "cell_type": "markdown",
   "metadata": {},
   "source": [
    "## 세트 반복문, 조건문 활용\n",
    "\n",
    "    * {식 for 변수 in 세트 if 조건식}\n",
    "    * set(식 for 변수 in 세트 if 조건식)"
   ]
  },
  {
   "cell_type": "code",
   "execution_count": 136,
   "metadata": {},
   "outputs": [
    {
     "data": {
      "text/plain": [
       "{'e', 'i', 'n'}"
      ]
     },
     "execution_count": 136,
     "metadata": {},
     "output_type": "execute_result"
    }
   ],
   "source": [
    "a = {i for i in 'pineapple' if i not in 'apl'}\n",
    "a"
   ]
  },
  {
   "cell_type": "markdown",
   "metadata": {},
   "source": [
    "# 연산!"
   ]
  },
  {
   "cell_type": "code",
   "execution_count": 7,
   "metadata": {},
   "outputs": [
    {
     "data": {
      "text/plain": [
       "1.75"
      ]
     },
     "execution_count": 7,
     "metadata": {},
     "output_type": "execute_result"
    }
   ],
   "source": [
    "# 나누기\n",
    "\n",
    "7 / 4"
   ]
  },
  {
   "cell_type": "code",
   "execution_count": 8,
   "metadata": {},
   "outputs": [
    {
     "data": {
      "text/plain": [
       "1"
      ]
     },
     "execution_count": 8,
     "metadata": {},
     "output_type": "execute_result"
    }
   ],
   "source": [
    "# 몫만 구하기\n",
    "\n",
    "7 // 4"
   ]
  },
  {
   "cell_type": "code",
   "execution_count": 9,
   "metadata": {},
   "outputs": [
    {
     "data": {
      "text/plain": [
       "3"
      ]
     },
     "execution_count": 9,
     "metadata": {},
     "output_type": "execute_result"
    }
   ],
   "source": [
    "# 나머지만 구하기\n",
    "\n",
    "7 % 4"
   ]
  },
  {
   "cell_type": "code",
   "execution_count": 10,
   "metadata": {},
   "outputs": [
    {
     "data": {
      "text/plain": [
       "128"
      ]
     },
     "execution_count": 10,
     "metadata": {},
     "output_type": "execute_result"
    }
   ],
   "source": [
    "# 제곱 = 지수 = power\n",
    "\n",
    "2 ** 7"
   ]
  },
  {
   "cell_type": "markdown",
   "metadata": {},
   "source": [
    "* 3제곱 이상 math.pow(값. 지수)"
   ]
  },
  {
   "cell_type": "code",
   "execution_count": 31,
   "metadata": {},
   "outputs": [
    {
     "data": {
      "text/plain": [
       "81.0"
      ]
     },
     "execution_count": 31,
     "metadata": {},
     "output_type": "execute_result"
    }
   ],
   "source": [
    "import math\n",
    "\n",
    "math.pow(3, 4)"
   ]
  },
  {
   "cell_type": "markdown",
   "metadata": {},
   "source": [
    "* 연산의 우선 순위\n",
    "    - 제곱 **\n",
    "    - 곱셈 * , 나눗셈 / , 나머지 %\n",
    "    - 덧셈 + , 뺄셈 - "
   ]
  },
  {
   "cell_type": "code",
   "execution_count": 12,
   "metadata": {},
   "outputs": [
    {
     "data": {
      "text/plain": [
       "57"
      ]
     },
     "execution_count": 12,
     "metadata": {},
     "output_type": "execute_result"
    }
   ],
   "source": [
    "1 + 2 ** 3 * 7"
   ]
  },
  {
   "cell_type": "markdown",
   "metadata": {},
   "source": [
    "* 기본 연산 함수들"
   ]
  },
  {
   "cell_type": "code",
   "execution_count": 14,
   "metadata": {},
   "outputs": [
    {
     "data": {
      "text/plain": [
       "3"
      ]
     },
     "execution_count": 14,
     "metadata": {},
     "output_type": "execute_result"
    }
   ],
   "source": [
    "# 절대 값\n",
    "\n",
    "abs(-3)"
   ]
  },
  {
   "cell_type": "code",
   "execution_count": 16,
   "metadata": {},
   "outputs": [
    {
     "name": "stdout",
     "output_type": "stream",
     "text": [
      "4\n",
      "3\n"
     ]
    }
   ],
   "source": [
    "# 반올림\n",
    "\n",
    "print(round(3.782))\n",
    "print(round(3.482))"
   ]
  },
  {
   "cell_type": "code",
   "execution_count": 17,
   "metadata": {},
   "outputs": [
    {
     "data": {
      "text/plain": [
       "7"
      ]
     },
     "execution_count": 17,
     "metadata": {},
     "output_type": "execute_result"
    }
   ],
   "source": [
    "# 최댓값\n",
    "\n",
    "max(3, 7)"
   ]
  },
  {
   "cell_type": "code",
   "execution_count": 19,
   "metadata": {},
   "outputs": [
    {
     "data": {
      "text/plain": [
       "3"
      ]
     },
     "execution_count": 19,
     "metadata": {},
     "output_type": "execute_result"
    }
   ],
   "source": [
    "# 최솟값\n",
    "\n",
    "min(3, 7)"
   ]
  },
  {
   "cell_type": "code",
   "execution_count": 20,
   "metadata": {},
   "outputs": [
    {
     "data": {
      "text/plain": [
       "5.0"
      ]
     },
     "execution_count": 20,
     "metadata": {},
     "output_type": "execute_result"
    }
   ],
   "source": [
    "# 루트\n",
    "\n",
    "from math import * \n",
    "\n",
    "sqrt(25)"
   ]
  },
  {
   "cell_type": "code",
   "execution_count": 29,
   "metadata": {},
   "outputs": [
    {
     "data": {
      "text/plain": [
       "5.0"
      ]
     },
     "execution_count": 29,
     "metadata": {},
     "output_type": "execute_result"
    }
   ],
   "source": [
    "import math    # 모듈을 불러옴\n",
    "\n",
    "math.sqrt(25)    "
   ]
  },
  {
   "cell_type": "code",
   "execution_count": 21,
   "metadata": {},
   "outputs": [
    {
     "data": {
      "text/plain": [
       "5.0"
      ]
     },
     "execution_count": 21,
     "metadata": {},
     "output_type": "execute_result"
    }
   ],
   "source": [
    "# 루트\n",
    "\n",
    "from math import * \n",
    "sqrt(3**2 + 4**2)"
   ]
  },
  {
   "cell_type": "markdown",
   "metadata": {},
   "source": [
    "### 파이썬의 실수 오차\n",
    "\n",
    "    * 파이썬의 실수 저장 방식은 부동소수점 방식으로 오차 발생"
   ]
  },
  {
   "cell_type": "code",
   "execution_count": 24,
   "metadata": {},
   "outputs": [
    {
     "data": {
      "text/plain": [
       "0.30000000000000004"
      ]
     },
     "execution_count": 24,
     "metadata": {},
     "output_type": "execute_result"
    }
   ],
   "source": [
    "0.1 + 0.2"
   ]
  },
  {
   "cell_type": "code",
   "execution_count": 26,
   "metadata": {},
   "outputs": [
    {
     "data": {
      "text/plain": [
       "False"
      ]
     },
     "execution_count": 26,
     "metadata": {},
     "output_type": "execute_result"
    }
   ],
   "source": [
    "0.1 + 0.2 == 0.3"
   ]
  },
  {
   "cell_type": "code",
   "execution_count": 27,
   "metadata": {},
   "outputs": [
    {
     "data": {
      "text/plain": [
       "True"
      ]
     },
     "execution_count": 27,
     "metadata": {},
     "output_type": "execute_result"
    }
   ],
   "source": [
    "# 실수를 비교할 때는 연산한 값과 비교할 값의 차이를 구한 뒤 sys.float_info.epsilon보다 작거나 같은지 판단해야 합니다.\n",
    "import math, sys\n",
    "\n",
    "x = 0.1 + 0.2\n",
    "math.fabs(x - 0.3) <= sys.float_info.epsilon"
   ]
  },
  {
   "cell_type": "markdown",
   "metadata": {},
   "source": [
    "## Fraction으로 분수 표현하기\n",
    "\n",
    "    * 순환소수는 고정소수점이라도 정확히 표현할 수 없습니다. \n",
    "    * 이때는 fractions 모듈의 Fraction을 사용하여 분수로 표현하면 됩니다."
   ]
  },
  {
   "cell_type": "code",
   "execution_count": 32,
   "metadata": {},
   "outputs": [
    {
     "data": {
      "text/plain": [
       "Fraction(10, 3)"
      ]
     },
     "execution_count": 32,
     "metadata": {},
     "output_type": "execute_result"
    }
   ],
   "source": [
    "from fractions import Fraction\n",
    "Fraction('10/3')    # 10을 3으로 나누면 순환소수 3.33333...이지만 분수 3분의 10으로 표현"
   ]
  },
  {
   "cell_type": "code",
   "execution_count": 33,
   "metadata": {},
   "outputs": [
    {
     "data": {
      "text/plain": [
       "Fraction(10, 1)"
      ]
     },
     "execution_count": 33,
     "metadata": {},
     "output_type": "execute_result"
    }
   ],
   "source": [
    "Fraction(10, 3) * 3"
   ]
  },
  {
   "cell_type": "markdown",
   "metadata": {},
   "source": [
    "# 함수!\n",
    "\n",
    "    "
   ]
  },
  {
   "cell_type": "markdown",
   "metadata": {},
   "source": [
    "* 함수를 만들기 전에 함수를 먼저 호출하면 에러난다."
   ]
  },
  {
   "cell_type": "code",
   "execution_count": 154,
   "metadata": {},
   "outputs": [
    {
     "ename": "NameError",
     "evalue": "name 'hello' is not defined",
     "output_type": "error",
     "traceback": [
      "\u001b[1;31m---------------------------------------------------------------------------\u001b[0m",
      "\u001b[1;31mNameError\u001b[0m                                 Traceback (most recent call last)",
      "\u001b[1;32m<ipython-input-154-ebb88fb9e37a>\u001b[0m in \u001b[0;36m<module>\u001b[1;34m\u001b[0m\n\u001b[1;32m----> 1\u001b[1;33m \u001b[0mhello\u001b[0m\u001b[1;33m(\u001b[0m\u001b[1;33m)\u001b[0m         \u001b[1;31m# hello 함수를 만들기 전에 함수를 먼저 호출\u001b[0m\u001b[1;33m\u001b[0m\u001b[1;33m\u001b[0m\u001b[0m\n\u001b[0m\u001b[0;32m      2\u001b[0m \u001b[1;33m\u001b[0m\u001b[0m\n\u001b[0;32m      3\u001b[0m \u001b[1;32mdef\u001b[0m \u001b[0mhello\u001b[0m\u001b[1;33m(\u001b[0m\u001b[1;33m)\u001b[0m\u001b[1;33m:\u001b[0m    \u001b[1;31m# hello 함수를 만듦\u001b[0m\u001b[1;33m\u001b[0m\u001b[1;33m\u001b[0m\u001b[0m\n\u001b[0;32m      4\u001b[0m     \u001b[0mprint\u001b[0m\u001b[1;33m(\u001b[0m\u001b[1;34m'Hello, world!'\u001b[0m\u001b[1;33m)\u001b[0m\u001b[1;33m\u001b[0m\u001b[1;33m\u001b[0m\u001b[0m\n",
      "\u001b[1;31mNameError\u001b[0m: name 'hello' is not defined"
     ]
    }
   ],
   "source": [
    "hello()         # hello 함수를 만들기 전에 함수를 먼저 호출\n",
    " \n",
    "def hello():    # hello 함수를 만듦\n",
    "    print('Hello, world!')"
   ]
  },
  {
   "cell_type": "markdown",
   "metadata": {},
   "source": [
    "* 빈 함수 만들기(pass)"
   ]
  },
  {
   "cell_type": "code",
   "execution_count": 164,
   "metadata": {},
   "outputs": [],
   "source": [
    "def hello():\n",
    "    \"\"\"여기는 독스트링입니다.\"\"\"\n",
    "    pass\n",
    "    "
   ]
  },
  {
   "cell_type": "markdown",
   "metadata": {},
   "source": [
    " * 독스트링 출력\n",
    "     * 함수명.'__doc__'\n",
    "     * help(함수명) : 함수의 이름, 매개변수, 독스트링을 도움말 형태로 출력"
   ]
  },
  {
   "cell_type": "code",
   "execution_count": 165,
   "metadata": {},
   "outputs": [
    {
     "name": "stdout",
     "output_type": "stream",
     "text": [
      "여기는 독스트링입니다.\n"
     ]
    }
   ],
   "source": [
    "print(hello.__doc__)"
   ]
  },
  {
   "cell_type": "code",
   "execution_count": 167,
   "metadata": {},
   "outputs": [
    {
     "name": "stdout",
     "output_type": "stream",
     "text": [
      "Help on function hello in module __main__:\n",
      "\n",
      "hello()\n",
      "    여기는 독스트링입니다.\n",
      "\n"
     ]
    }
   ],
   "source": [
    "help(hello)"
   ]
  },
  {
   "cell_type": "markdown",
   "metadata": {},
   "source": [
    "### 언패킹\n",
    "    * 2 이상의 매개변수를 받는 함수를 사용할 때,  \n",
    "      필요한 매개변수와 같은 수의 요소를 갖는 튜플  \n",
    "      또는 리스트를 언패킹(*)해서 사용할 수 있다.\n",
    "      \n",
    "    * 딕셔너리를 언패킹 할 경우 **를 붙여야함  \n",
    "      \n",
    "      * 위치 인수(positional argument) : \n",
    "          함수에 매개변수가 여러 개 들어갈 떄, 위치에 따라 기능이 정해지므로,  \n",
    "          위치 인수라 부름"
   ]
  },
  {
   "cell_type": "code",
   "execution_count": 168,
   "metadata": {},
   "outputs": [
    {
     "name": "stdout",
     "output_type": "stream",
     "text": [
      "1\n",
      "2\n",
      "3\n"
     ]
    }
   ],
   "source": [
    "def print_numbers(a, b, c):\n",
    "    print(a)\n",
    "    print(b)\n",
    "    print(c)\n",
    "\n",
    "print_numbers(*[1,2,3])"
   ]
  },
  {
   "cell_type": "markdown",
   "metadata": {},
   "source": [
    "### 가변 인수 함수 만들기\n",
    "\n",
    "    * 가변 인수(variable argument): \n",
    "        * 함수에 사용하는 인수의 갯수가 정해지지 않은 경우\n",
    "        * 함수에 인수를 한 개 넣을 수도 10개 넣을 수도 있음\n",
    "        \n",
    "    * 가변 인수 함수는 인수 앞에 *를 붙여서 만듬\n",
    "        \n",
    "        def 함수명(*매개변수)\n",
    "            코드\n",
    "            \n",
    "    * 고정 변수와 매개변수를 모두 쓸 때에는 반드시 매개변수가 위에 와야한다.\n",
    "    \n",
    "        def 함수명(고정변수, *매개변수)\n",
    "            코드"
   ]
  },
  {
   "cell_type": "code",
   "execution_count": 180,
   "metadata": {},
   "outputs": [],
   "source": [
    "def print_numbers(*args):\n",
    "    for arg in args:\n",
    "        print(arg, end=' ')\n",
    "    print()"
   ]
  },
  {
   "cell_type": "code",
   "execution_count": 181,
   "metadata": {},
   "outputs": [
    {
     "name": "stdout",
     "output_type": "stream",
     "text": [
      "10 \n",
      "10 20 30 40 \n"
     ]
    }
   ],
   "source": [
    "print_numbers(10)\n",
    "print_numbers(10, 20, 30, 40)"
   ]
  },
  {
   "cell_type": "markdown",
   "metadata": {},
   "source": [
    "### 키워드 인수(keyword argment) 사용\n",
    "\n",
    "    * 함수를 호출할때, 함수에서 정의된 인수의 이름을 이름=값 형태로 적어줌\n",
    "    * 인수의 순서를 바꿔도 됨"
   ]
  },
  {
   "cell_type": "code",
   "execution_count": 182,
   "metadata": {},
   "outputs": [],
   "source": [
    "def personal_info(name, age, address):\n",
    "    print('이름: ', name)\n",
    "    print('나이: ', age)\n",
    "    print('주소: ', address)"
   ]
  },
  {
   "cell_type": "code",
   "execution_count": 184,
   "metadata": {},
   "outputs": [
    {
     "name": "stdout",
     "output_type": "stream",
     "text": [
      "이름:  홍길동\n",
      "나이:  30\n",
      "주소:  서울시 용산구 이촌동\n"
     ]
    }
   ],
   "source": [
    "# 일반 호출\n",
    "personal_info('홍길동', 30, '서울시 용산구 이촌동')"
   ]
  },
  {
   "cell_type": "code",
   "execution_count": 185,
   "metadata": {},
   "outputs": [
    {
     "name": "stdout",
     "output_type": "stream",
     "text": [
      "이름:  홍길동\n",
      "나이:  30\n",
      "주소:  서울시 용산구 이촌동\n"
     ]
    }
   ],
   "source": [
    "# 키워드 인수 방식으로 호출(인수 순서 바꿔도 됨)\n",
    "personal_info(age=30, address='서울시 용산구 이촌동', name='홍길동')"
   ]
  },
  {
   "cell_type": "markdown",
   "metadata": {},
   "source": [
    "### 딕셔너리 언패킹(**)\n",
    "\n",
    "    * 딕셔너리를 키워드 인수로 사용하려면, 키가 키워드 인수명으로 구성되어야함\n",
    "    * 매개변수 개수와 딕셔너리 키의 개수도 같아야 함\n",
    "    \n",
    "    * 만일 *를 2개가 아닌 1개만 사용할 경우, 딕셔너리의 키가 인수로 들어가버림"
   ]
  },
  {
   "cell_type": "code",
   "execution_count": 186,
   "metadata": {},
   "outputs": [],
   "source": [
    "def personal_info(name, age, address):\n",
    "    print('이름: ', name)\n",
    "    print('나이: ', age)\n",
    "    print('주소: ', address)"
   ]
  },
  {
   "cell_type": "code",
   "execution_count": 187,
   "metadata": {},
   "outputs": [
    {
     "name": "stdout",
     "output_type": "stream",
     "text": [
      "이름:  홍길동\n",
      "나이:  30\n",
      "주소:  서울시 용산구 이촌동\n"
     ]
    }
   ],
   "source": [
    "x = {'name': '홍길동', 'age': 30, 'address': '서울시 용산구 이촌동'}\n",
    "\n",
    "personal_info(**x)"
   ]
  },
  {
   "cell_type": "markdown",
   "metadata": {},
   "source": [
    "### 키워드 인수 + 가변 인수 함수\n",
    "\n",
    "    * 가변 인수이기 때문에 함수 정의할 떄, 인수이름을 지정하지 않고,\n",
    "    * 함수를 호출할 때만, 인수 이름을 지정해서 호출"
   ]
  },
  {
   "cell_type": "code",
   "execution_count": 191,
   "metadata": {},
   "outputs": [],
   "source": [
    "def personal_info(**kwargs):\n",
    "    for kw, arg in kwargs.items():\n",
    "        print(kw, ': ', arg, sep='')"
   ]
  },
  {
   "cell_type": "code",
   "execution_count": 192,
   "metadata": {},
   "outputs": [
    {
     "name": "stdout",
     "output_type": "stream",
     "text": [
      "name: 홍길동\n"
     ]
    }
   ],
   "source": [
    "personal_info(name='홍길동')"
   ]
  },
  {
   "cell_type": "code",
   "execution_count": 194,
   "metadata": {},
   "outputs": [
    {
     "name": "stdout",
     "output_type": "stream",
     "text": [
      "name: 홍길동\n"
     ]
    }
   ],
   "source": [
    "x = {'name': '홍길동'}\n",
    "\n",
    "personal_info(**x)"
   ]
  },
  {
   "cell_type": "code",
   "execution_count": 193,
   "metadata": {},
   "outputs": [
    {
     "name": "stdout",
     "output_type": "stream",
     "text": [
      "name: 홍길동\n",
      "age: 30\n",
      "address: 서울시 용산구 반포동\n"
     ]
    }
   ],
   "source": [
    "personal_info(name='홍길동', age=30, address = '서울시 용산구 반포동')"
   ]
  },
  {
   "cell_type": "code",
   "execution_count": 195,
   "metadata": {},
   "outputs": [
    {
     "name": "stdout",
     "output_type": "stream",
     "text": [
      "name: 홍길동\n",
      "age: 30\n",
      "address: 서울시 용산구 이촌동\n"
     ]
    }
   ],
   "source": [
    "y = {'name': '홍길동', 'age': 30, 'address': '서울시 용산구 이촌동'}\n",
    "\n",
    "personal_info(**y)"
   ]
  },
  {
   "cell_type": "markdown",
   "metadata": {},
   "source": [
    "* 보통 키워드 인수를 사용하는 가변 인수 함수의 경우,  \n",
    "  함수안에서 특정 키가 있는지 확인하고, 그에 대한 기능을 만듬"
   ]
  },
  {
   "cell_type": "code",
   "execution_count": null,
   "metadata": {},
   "outputs": [],
   "source": [
    "def personal_info(**kwargs):\n",
    "    if 'name' in kwargs:    # in으로 딕셔너리 안에 특정 키가 있는지 확인\n",
    "        print('이름: ', kwargs['name'])\n",
    "    if 'age' in kwargs:\n",
    "        print('나이: ', kwargs['age'])\n",
    "    if 'address' in kwargs:\n",
    "        print('주소: ', kwargs['address'])"
   ]
  },
  {
   "cell_type": "markdown",
   "metadata": {},
   "source": [
    "### 고정 인수와 가변 인수(키워드 인수)를 같이 쓰는 경우\n",
    "\n",
    "    * 함수안에 kwargs는 **kwargs로 받은 값에서 **의 역연산으로 {}를 씌우는 개념으로 생각하면 될 듯??"
   ]
  },
  {
   "cell_type": "code",
   "execution_count": 196,
   "metadata": {},
   "outputs": [],
   "source": [
    " def personal_info(name, **kwargs):\n",
    "    print(name)\n",
    "    print(kwargs)"
   ]
  },
  {
   "cell_type": "code",
   "execution_count": 197,
   "metadata": {},
   "outputs": [
    {
     "name": "stdout",
     "output_type": "stream",
     "text": [
      "홍길동\n",
      "{}\n"
     ]
    }
   ],
   "source": [
    "personal_info('홍길동')"
   ]
  },
  {
   "cell_type": "code",
   "execution_count": 198,
   "metadata": {},
   "outputs": [
    {
     "name": "stdout",
     "output_type": "stream",
     "text": [
      "홍길동\n",
      "{'age': 30, 'address': '서울시 용산구 이촌동'}\n"
     ]
    }
   ],
   "source": [
    "personal_info('홍길동', age=30, address='서울시 용산구 이촌동')"
   ]
  },
  {
   "cell_type": "code",
   "execution_count": 199,
   "metadata": {},
   "outputs": [
    {
     "name": "stdout",
     "output_type": "stream",
     "text": [
      "홍길동\n",
      "{'age': 30, 'address': '서울시 용산구 이촌동'}\n"
     ]
    }
   ],
   "source": [
    "personal_info(**{'name': '홍길동', 'age': 30, 'address': '서울시 용산구 이촌동'})"
   ]
  },
  {
   "cell_type": "markdown",
   "metadata": {},
   "source": [
    "## 위치 인수와 키워드 인수를 함께 사용하기\n",
    "\n",
    "    *args : 이 걸로는 값1, 값2, 값3, ... 이런식으로 들어오는 것을 받고\n",
    "    *kwargs : 이 걸로는 키1=값1, 키2=값2, ... 이런 애들을 받아서 사용\n",
    "        \n",
    "        * 대표적인 함수 print()\n",
    "        "
   ]
  },
  {
   "cell_type": "code",
   "execution_count": 200,
   "metadata": {},
   "outputs": [],
   "source": [
    "def custom_print(*args, **kwargs):\n",
    "    print(*args, **kwargs)"
   ]
  },
  {
   "cell_type": "code",
   "execution_count": 201,
   "metadata": {},
   "outputs": [
    {
     "name": "stdout",
     "output_type": "stream",
     "text": [
      "1:2:3"
     ]
    }
   ],
   "source": [
    "custom_print(1, 2, 3, sep=':', end=\"\")"
   ]
  },
  {
   "cell_type": "markdown",
   "metadata": {},
   "source": [
    "### 매개변수에 초깃값 지정하기\n",
    "\n",
    "    * 함수 정의할 때,\n",
    "        def 함수명(매개변수=초깃값):\n",
    "            코드\n",
    "            \n",
    "    ! 주의할점\n",
    "        * 초깃값이 지정된 매개변수 다음에 초깃값이 없는 매개변수가 올 수 없음"
   ]
  },
  {
   "cell_type": "code",
   "execution_count": 203,
   "metadata": {},
   "outputs": [],
   "source": [
    "def personal_info(name, age, address='비공개'):\n",
    "    print('이름: ', name)\n",
    "    print('나이: ', age)\n",
    "    print('주소: ', address)"
   ]
  },
  {
   "cell_type": "code",
   "execution_count": 204,
   "metadata": {},
   "outputs": [
    {
     "name": "stdout",
     "output_type": "stream",
     "text": [
      "이름:  홍길동\n",
      "나이:  30\n",
      "주소:  비공개\n"
     ]
    }
   ],
   "source": [
    "personal_info('홍길동', 30)"
   ]
  },
  {
   "cell_type": "markdown",
   "metadata": {},
   "source": [
    "# 재귀 호출(recursive call)\n",
    "\n",
    "    * 재귀호출은 그냥 하면 무한반복이므로, 종료조건이 꼭 필요"
   ]
  },
  {
   "cell_type": "markdown",
   "metadata": {},
   "source": [
    " * 팩토리얼 구하기"
   ]
  },
  {
   "cell_type": "code",
   "execution_count": 205,
   "metadata": {},
   "outputs": [],
   "source": [
    "def factorial(n):\n",
    "    if n == 1:      # n이 1일 때\n",
    "        return 1    # 1을 반환하고 재귀호출을 끝냄\n",
    "    return n * factorial(n - 1)    # n과 factorial 함수에 n - 1을 넣어서 반환된 값을 곱함"
   ]
  },
  {
   "cell_type": "code",
   "execution_count": 206,
   "metadata": {},
   "outputs": [
    {
     "name": "stdout",
     "output_type": "stream",
     "text": [
      "120\n"
     ]
    }
   ],
   "source": [
    "print(factorial(5))"
   ]
  },
  {
   "cell_type": "markdown",
   "metadata": {},
   "source": [
    "# lambda (람다!) 표현식\n",
    "\n",
    "    * lambda 매개변수명 : 반환식\n",
    "    * 함수명 = lambda 매개변수명 : 반환식\n",
    "    \n",
    "    \n",
    "    \n",
    "주의할 점!  \n",
    "\n",
    "    * 람다표현식 안에서는 새로운 변수를 만들수 없음\n",
    "    * 표현식 바깥에 있는 변수는 사용가능\n"
   ]
  },
  {
   "cell_type": "code",
   "execution_count": 207,
   "metadata": {},
   "outputs": [
    {
     "data": {
      "text/plain": [
       "<function __main__.<lambda>(x)>"
      ]
     },
     "execution_count": 207,
     "metadata": {},
     "output_type": "execute_result"
    }
   ],
   "source": [
    "lambda x : x+10"
   ]
  },
  {
   "cell_type": "code",
   "execution_count": 208,
   "metadata": {},
   "outputs": [],
   "source": [
    "plus_ten = lambda x : x+10"
   ]
  },
  {
   "cell_type": "code",
   "execution_count": 209,
   "metadata": {},
   "outputs": [
    {
     "data": {
      "text/plain": [
       "11"
      ]
     },
     "execution_count": 209,
     "metadata": {},
     "output_type": "execute_result"
    }
   ],
   "source": [
    "plus_ten(1)"
   ]
  },
  {
   "cell_type": "code",
   "execution_count": 210,
   "metadata": {},
   "outputs": [
    {
     "data": {
      "text/plain": [
       "11"
      ]
     },
     "execution_count": 210,
     "metadata": {},
     "output_type": "execute_result"
    }
   ],
   "source": [
    "# 함수명 없이 쓰기\n",
    "(lambda x: x + 10)(1)"
   ]
  },
  {
   "cell_type": "markdown",
   "metadata": {},
   "source": [
    "* 람다표현식 안에서는 새로운 변수를 만들수 없음"
   ]
  },
  {
   "cell_type": "code",
   "execution_count": 211,
   "metadata": {},
   "outputs": [
    {
     "ename": "SyntaxError",
     "evalue": "invalid syntax (<ipython-input-211-f39371b7f7d5>, line 1)",
     "output_type": "error",
     "traceback": [
      "\u001b[1;36m  File \u001b[1;32m\"<ipython-input-211-f39371b7f7d5>\"\u001b[1;36m, line \u001b[1;32m1\u001b[0m\n\u001b[1;33m    (lambda x: y = 10; x + y)(1)\u001b[0m\n\u001b[1;37m                 ^\u001b[0m\n\u001b[1;31mSyntaxError\u001b[0m\u001b[1;31m:\u001b[0m invalid syntax\n"
     ]
    }
   ],
   "source": [
    "(lambda x: y = 10; x + y)(1)"
   ]
  },
  {
   "cell_type": "markdown",
   "metadata": {},
   "source": [
    "* 표현식 바깥에 있는 변수는 사용가능"
   ]
  },
  {
   "cell_type": "code",
   "execution_count": 212,
   "metadata": {},
   "outputs": [
    {
     "data": {
      "text/plain": [
       "11"
      ]
     },
     "execution_count": 212,
     "metadata": {},
     "output_type": "execute_result"
    }
   ],
   "source": [
    "y = 10\n",
    "(lambda x: x + y)(1)"
   ]
  },
  {
   "cell_type": "markdown",
   "metadata": {},
   "source": [
    "## 람다 표현식은 map() 함수에 인수로 자주 사용됨"
   ]
  },
  {
   "cell_type": "code",
   "execution_count": 213,
   "metadata": {},
   "outputs": [
    {
     "data": {
      "text/plain": [
       "[11, 12, 13]"
      ]
     },
     "execution_count": 213,
     "metadata": {},
     "output_type": "execute_result"
    }
   ],
   "source": [
    "list(map(lambda x: x + 10, [1, 2, 3]))"
   ]
  },
  {
   "cell_type": "code",
   "execution_count": 214,
   "metadata": {},
   "outputs": [
    {
     "data": {
      "text/plain": [
       "<map at 0x1f4f0df88b0>"
      ]
     },
     "execution_count": 214,
     "metadata": {},
     "output_type": "execute_result"
    }
   ],
   "source": [
    "map(lambda x: x + 10, [1, 2, 3])"
   ]
  },
  {
   "cell_type": "markdown",
   "metadata": {},
   "source": [
    "## 람다표현식 + 조건문\n",
    "\n",
    "    * lambda 매개변수들 : 반환식 if 조건식 else 반환식2\n",
    "    \n",
    "    * (주의!) 람다표현식에서 if 조건식을 쓰면 반드시 else도 써야함,  \n",
    "              else 안쓰면 에러남\n",
    "              \n",
    "    * (조건식 여러개 일 경우)  \n",
    "        * elif는 람다표현식에서 쓸 수 없음\n",
    "        * 반환식 if 조건식1 else 반환식2 if 조건식2 else 반환식3 형태로 사용\n",
    "        * 하지만 보기 복잡하므로 그냥 함수 사용을 권장"
   ]
  },
  {
   "cell_type": "code",
   "execution_count": 216,
   "metadata": {},
   "outputs": [
    {
     "data": {
      "text/plain": [
       "[1, 2, '3', 4, 5, '6', 7, 8, '9', 10]"
      ]
     },
     "execution_count": 216,
     "metadata": {},
     "output_type": "execute_result"
    }
   ],
   "source": [
    "a = [1, 2, 3, 4, 5, 6, 7, 8, 9, 10]\n",
    "    \n",
    "list(map(lambda x: str(x) if x % 3 == 0 else x, a))"
   ]
  },
  {
   "cell_type": "code",
   "execution_count": 217,
   "metadata": {},
   "outputs": [
    {
     "data": {
      "text/plain": [
       "['1', 2.0, 13, 14, 15, 16, 17, 18, 19, 20]"
      ]
     },
     "execution_count": 217,
     "metadata": {},
     "output_type": "execute_result"
    }
   ],
   "source": [
    "a = [1, 2, 3, 4, 5, 6, 7, 8, 9, 10]\n",
    "\n",
    "list(map(lambda x: str(x) if x == 1 else float(x) if x == 2 else x + 10, a))"
   ]
  },
  {
   "cell_type": "markdown",
   "metadata": {},
   "source": [
    "### 람다표현식 매개리스트가 여러개 쓰기\n",
    "\n",
    "    * 매개변수 숫자를 맞춰줌"
   ]
  },
  {
   "cell_type": "code",
   "execution_count": 218,
   "metadata": {},
   "outputs": [
    {
     "data": {
      "text/plain": [
       "[2, 8, 18, 32, 50]"
      ]
     },
     "execution_count": 218,
     "metadata": {},
     "output_type": "execute_result"
    }
   ],
   "source": [
    "a = [1, 2, 3, 4, 5]\n",
    "b = [2, 4, 6, 8, 10]\n",
    "list(map(lambda x, y: x * y, a, b))"
   ]
  },
  {
   "cell_type": "markdown",
   "metadata": {},
   "source": [
    "# filter\n",
    "\n",
    "    * map과 비슷하게 filter(함수, 시퀀스)로 사용\n",
    "    * 다른 점은 함수가 True로 나오면 시퀀스 요소 값을 그대로 반환함\n",
    "        * 함수를 보통 T/F를 반환하는 조건식으로 사용\n",
    "        * map은 함수의 반환값을 반환\n",
    "    * map처럼 함수전체를 list()로 둘러싸서 리스트로 만들어서 사용"
   ]
  },
  {
   "cell_type": "code",
   "execution_count": 220,
   "metadata": {},
   "outputs": [
    {
     "data": {
      "text/plain": [
       "<filter at 0x1f4f0df8d60>"
      ]
     },
     "execution_count": 220,
     "metadata": {},
     "output_type": "execute_result"
    }
   ],
   "source": [
    "filter(f, a)"
   ]
  },
  {
   "cell_type": "code",
   "execution_count": 219,
   "metadata": {},
   "outputs": [
    {
     "data": {
      "text/plain": [
       "[8, 7, 9]"
      ]
     },
     "execution_count": 219,
     "metadata": {},
     "output_type": "execute_result"
    }
   ],
   "source": [
    "a = [8, 3, 2, 10, 15, 7, 1, 9, 0, 11]\n",
    "\n",
    "def f(x):\n",
    "    return x > 5 and x < 10    # 조건에 따라 True, False를 반환\n",
    "\n",
    "list(filter(f, a))"
   ]
  },
  {
   "cell_type": "markdown",
   "metadata": {},
   "source": [
    "# reduce\n",
    "\n",
    "    * reduce는 반복 가능한 객체의 각 요소를 지정된 함수로 처리한 뒤,\n",
    "    * 이전 결과와 다음 요소를 처리하는 방식으로\n",
    "    * 누적한 최종 값을 반환하는 함수\n",
    "    * 파이썬 3부터 내장 함수가 아님   \n",
    "        => functools 모듈 필요(from functools import reduce)"
   ]
  },
  {
   "cell_type": "code",
   "execution_count": 222,
   "metadata": {},
   "outputs": [
    {
     "data": {
      "text/plain": [
       "15"
      ]
     },
     "execution_count": 222,
     "metadata": {},
     "output_type": "execute_result"
    }
   ],
   "source": [
    "from functools import reduce\n",
    "\n",
    "a = [1, 2, 3, 4, 5]\n",
    "\n",
    "def f(x, y):\n",
    "    return x + y\n",
    "\n",
    "reduce(f, a)    #  ((((1 + 2) + 3) + 4) + 5)"
   ]
  },
  {
   "cell_type": "code",
   "execution_count": 223,
   "metadata": {},
   "outputs": [
    {
     "data": {
      "text/plain": [
       "15"
      ]
     },
     "execution_count": 223,
     "metadata": {},
     "output_type": "execute_result"
    }
   ],
   "source": [
    "# 람다표현식 이용\n",
    "reduce(lambda x, y: x + y, a)"
   ]
  },
  {
   "cell_type": "markdown",
   "metadata": {},
   "source": [
    "# 클로저!(Closure)\n",
    "\n",
    "    * 함수가 둘러싼 환경(지역변수와 함수, 코드 등)들을 유지하고 있다가, 호출할 때 마다 사용하는 함수\n",
    "    * 반환값(return)이 함수 형태 인듯"
   ]
  },
  {
   "cell_type": "code",
   "execution_count": 224,
   "metadata": {},
   "outputs": [
    {
     "name": "stdout",
     "output_type": "stream",
     "text": [
      "8 11 14 17 20\n"
     ]
    }
   ],
   "source": [
    "def calc():\n",
    "    a = 3\n",
    "    b = 5\n",
    "    def mul_add(x):\n",
    "        return a * x + b    # 함수 바깥쪽에 있는 지역 변수 a, b를 사용하여 계산\n",
    "    return mul_add          # mul_add 함수를 반환\n",
    " \n",
    "c = calc()\n",
    "print(c(1), c(2), c(3), c(4), c(5))"
   ]
  },
  {
   "cell_type": "markdown",
   "metadata": {},
   "source": [
    " * 예시2 - 람다표현식 이용"
   ]
  },
  {
   "cell_type": "code",
   "execution_count": 225,
   "metadata": {},
   "outputs": [
    {
     "name": "stdout",
     "output_type": "stream",
     "text": [
      "8 11 14 17 20\n"
     ]
    }
   ],
   "source": [
    "def calc():\n",
    "    a = 3\n",
    "    b = 5\n",
    "    return lambda x: a * x + b    # 람다 표현식을 반환\n",
    " \n",
    "c = calc()\n",
    "print(c(1), c(2), c(3), c(4), c(5))"
   ]
  },
  {
   "cell_type": "markdown",
   "metadata": {},
   "source": [
    " * 클로저의 지역 변수 변경하기"
   ]
  },
  {
   "cell_type": "code",
   "execution_count": 226,
   "metadata": {},
   "outputs": [
    {
     "name": "stdout",
     "output_type": "stream",
     "text": [
      "8\n",
      "19\n",
      "33\n"
     ]
    }
   ],
   "source": [
    "def calc():\n",
    "    a = 3\n",
    "    b = 5\n",
    "    total = 0\n",
    "    def mul_add(x):\n",
    "        nonlocal total\n",
    "        total = total + a * x + b\n",
    "        print(total)\n",
    "    return mul_add\n",
    " \n",
    "c = calc()\n",
    "c(1)\n",
    "c(2)\n",
    "c(3)"
   ]
  },
  {
   "cell_type": "markdown",
   "metadata": {},
   "source": [
    "# 클래스!와 메서드!\n",
    "\n",
    "* 클래스\n",
    "    - 프로그래밍으로 객체를 만들 때 사용하는 것\n",
    "\n",
    "\n",
    "* 메서드\n",
    "    - 클래스 안에 정의된 함수\n",
    "    - 클래스를 사용하여 만든 인스턴스로 호출해서 사용\n",
    "    - 일반 함수와 다르게 첫 매개변수는 self로 설정\n",
    "    - 실제로 호출 할 때, self 부분에는 인스턴스가 들어감"
   ]
  },
  {
   "cell_type": "markdown",
   "metadata": {},
   "source": [
    " * 클래스 생성\n",
    "     * 클래스 정의에서는 ()가 없고, 클래스로 인스턴스를 생성할 때는 뒤에 ()를 붙임에 주의\n",
    "     * 클래스는 개념을 정의하는 내용이고, 내용을 사용하려면 인스턴스를 생성해야 함"
   ]
  },
  {
   "cell_type": "code",
   "execution_count": 1,
   "metadata": {},
   "outputs": [],
   "source": [
    "class Person:\n",
    "    def greeting(self):\n",
    "        print('Hello')"
   ]
  },
  {
   "cell_type": "markdown",
   "metadata": {},
   "source": [
    " * 클래스로 인스턴스 생성"
   ]
  },
  {
   "cell_type": "code",
   "execution_count": 2,
   "metadata": {},
   "outputs": [],
   "source": [
    "james = Person()"
   ]
  },
  {
   "cell_type": "markdown",
   "metadata": {},
   "source": [
    "* 인스턴스로 부터 메서드 호출\n",
    "    * (주의!) 메서드를 생성하려면 인스턴스를 먼저 생성해야함\n",
    "    * 인스턴스.메서드()"
   ]
  },
  {
   "cell_type": "code",
   "execution_count": 3,
   "metadata": {},
   "outputs": [
    {
     "name": "stdout",
     "output_type": "stream",
     "text": [
      "Hello\n"
     ]
    }
   ],
   "source": [
    "james.greeting()"
   ]
  },
  {
   "cell_type": "markdown",
   "metadata": {},
   "source": [
    "* 메서드 호출 방법2(잘안씀)\n",
    "    * 클래스.메서드(인스턴스)"
   ]
  },
  {
   "cell_type": "code",
   "execution_count": 4,
   "metadata": {},
   "outputs": [
    {
     "name": "stdout",
     "output_type": "stream",
     "text": [
      "Hello\n"
     ]
    }
   ],
   "source": [
    "Person.greeting(james)"
   ]
  },
  {
   "cell_type": "markdown",
   "metadata": {},
   "source": [
    "### 메서드 안에서 클래스내 다은 메서드 호출하기\n",
    "\n",
    "    * 호출 시, 앞에 self를 써주어야 함\n",
    "    * self는 이 클래스로 생성될 인스턴스를 의미"
   ]
  },
  {
   "cell_type": "code",
   "execution_count": 6,
   "metadata": {},
   "outputs": [
    {
     "name": "stdout",
     "output_type": "stream",
     "text": [
      "Hello\n"
     ]
    }
   ],
   "source": [
    "class Person:\n",
    "    def greeting(self):\n",
    "        print('Hello')\n",
    " \n",
    "    def hello(self):\n",
    "        self.greeting()    # self.메서드() 형식으로 클래스 안의 메서드를 호출\n",
    " \n",
    "james = Person()\n",
    "james.hello()    # Hello"
   ]
  },
  {
   "cell_type": "markdown",
   "metadata": {},
   "source": [
    "### 메서드에 매개변수 추가해서 사용해보기"
   ]
  },
  {
   "cell_type": "code",
   "execution_count": 9,
   "metadata": {},
   "outputs": [],
   "source": [
    "class FourCal:\n",
    "    def setdata(self, first, second):\n",
    "        self.first = first\n",
    "        self.second = second\n",
    "    def add(self):\n",
    "        result = self.first + self.second\n",
    "        return result"
   ]
  },
  {
   "cell_type": "code",
   "execution_count": 10,
   "metadata": {},
   "outputs": [
    {
     "name": "stdout",
     "output_type": "stream",
     "text": [
      "6\n"
     ]
    }
   ],
   "source": [
    "a = FourCal()\n",
    "a.setdata(4, 2)\n",
    "print(a.add())"
   ]
  },
  {
   "cell_type": "markdown",
   "metadata": {},
   "source": [
    "## 생성자(_init_ 메서드)\n",
    "\n",
    "    * _init_ 메소드는 클래스로 인스턴스를 만들 때 자동으로 호출되는 특별한 메서드\n",
    "    * 클래스에서 사용할 초기 변수, 메서드 등을 정의하여 사용\n",
    "    * 일반적인 메서드는 따로 호출을 해야하므로, 인스턴스 생성 후, 메서드를 호출 할 때,\n",
    "    \n",
    "      인스턴스명.메서트명(매개변수1, 매개변수2)\n",
    "      \n",
    "      형태로 사용되지만, (위 코드 참조)\n",
    "      \n",
    "    * __init__(self, 매개변수1, 매개변수2) 함수의 경우, 인스턴스 생성할 때,\n",
    "    \n",
    "      인스턴스명 = 클래스명(매개변수1, 매개변수2) \n",
    "      \n",
    "      형태로 선언하여 사용(아래 코드 참조)"
   ]
  },
  {
   "cell_type": "code",
   "execution_count": 7,
   "metadata": {},
   "outputs": [
    {
     "name": "stdout",
     "output_type": "stream",
     "text": [
      "안녕하세요 저는 마리아입니다.\n"
     ]
    }
   ],
   "source": [
    "class Person:\n",
    "    def __init__(self, name, age, address):\n",
    "        self.hello = '안녕하세요'\n",
    "        self.name = name\n",
    "        self.age = age\n",
    "        self.address = address\n",
    "        \n",
    "    def greeting(self):\n",
    "        print('{0} 저는 {1}입니다.'.format(self.hello, self.name))\n",
    "        \n",
    "maria = Person('마리아', 20, '서울시 서초구 반포동')\n",
    "maria.greeting()"
   ]
  },
  {
   "cell_type": "code",
   "execution_count": 11,
   "metadata": {},
   "outputs": [
    {
     "name": "stdout",
     "output_type": "stream",
     "text": [
      "이름: 마리아\n",
      "나이: 20\n",
      "주소: 서울시 서초구 반포동\n"
     ]
    }
   ],
   "source": [
    "print('이름:', maria.name)       # 마리아\n",
    "print('나이:', maria.age)        # 20\n",
    "print('주소:', maria.address)    # 서울시 서초구 반포동"
   ]
  },
  {
   "cell_type": "markdown",
   "metadata": {},
   "source": [
    "## 궁금증??\n",
    "    * __init__안에서 self.변수 선언하는 거랑\n",
    "    * 그냥 클래스 안에서 변수 선언하는 거랑 차이는??\n",
    "    \n",
    "    => 차이는 __init__안의 변수들은 __init__의 매개변수를 바로받아서\n",
    "       사용 할수 있다는 점?\n",
    "       \n",
    "   => 그외에도 아래 클래스 속성과 인스턴스 속성의 차이를 다룸"
   ]
  },
  {
   "cell_type": "code",
   "execution_count": null,
   "metadata": {},
   "outputs": [],
   "source": [
    "class Person1:\n",
    "    def __init__(self, name, age, address):\n",
    "        self.hello = '안녕하세요'\n",
    "        self.name = name\n",
    "        self.age = age\n",
    "        self.address = address    \n",
    "        \n",
    "        \n",
    "maria = Person1('마리아', 20, '서울시 서초구 반포동') \n",
    "\n",
    "# 클래스를 정의하면서 매개변수 값을 받아 사용 가능"
   ]
  },
  {
   "cell_type": "code",
   "execution_count": 18,
   "metadata": {},
   "outputs": [],
   "source": [
    "class Person2:\n",
    "    def __init__(self):    # 위에 self, name, age와 다른 변수??(지역과 더지역)\n",
    "        pass\n",
    "    \n",
    "    hello = '안녕하세요'\n",
    "    name = None   \n",
    "    age = None\n",
    "    address = None\n",
    "    \n",
    "    \n",
    "\n",
    "# 값을 따로 정의해주어야함\n",
    "maria = Person2()\n",
    "maria.name = '마리아'"
   ]
  },
  {
   "cell_type": "markdown",
   "metadata": {},
   "source": [
    "## 클래스 속성과 인스턴스 속성\n",
    "\n",
    "    * 클래스 속성 : 클래스안에 메소드 밖에 정의되는 속성\n",
    "        * (주의!) 클래스 속성은 모든 인스턴스가 공유한다!! (아래 코드 참조)\n",
    "    * 인스턴스 속성 : __init__ 메소드안에 정의되는 속성"
   ]
  },
  {
   "cell_type": "markdown",
   "metadata": {},
   "source": [
    "* 클래스 속성 사용 예시"
   ]
  },
  {
   "cell_type": "code",
   "execution_count": 20,
   "metadata": {},
   "outputs": [
    {
     "name": "stdout",
     "output_type": "stream",
     "text": [
      "['책', '열쇠']\n",
      "['책', '열쇠']\n"
     ]
    }
   ],
   "source": [
    "class Person:\n",
    "    bag = []\n",
    " \n",
    "    def put_bag(self, stuff):\n",
    "        self.bag.append(stuff)\n",
    " \n",
    "james = Person()\n",
    "james.put_bag('책')    # james.bag에 책 추가\n",
    " \n",
    "maria = Person()\n",
    "maria.put_bag('열쇠')    # maria,bag에 열쇠 추가\n",
    " \n",
    "print(james.bag)\n",
    "print(maria.bag)\n",
    "\n",
    "# !!!! bag은 클래스 속성이므로 모든 인스턴스가 공유한다!!!"
   ]
  },
  {
   "cell_type": "code",
   "execution_count": 21,
   "metadata": {},
   "outputs": [
    {
     "name": "stdout",
     "output_type": "stream",
     "text": [
      "[]\n"
     ]
    }
   ],
   "source": [
    "# 코드를 좀더 명확하게 쓰려면, self 대신에 클래스 명을 쓰면됨\n",
    "class Person:\n",
    "    bag = []\n",
    " \n",
    "    def put_bag(self, stuff):\n",
    "        Person.bag.append(stuff)    # 클래스 이름으로 클래스 속성에 접근\n",
    "        \n",
    "print(Person.bag)"
   ]
  },
  {
   "cell_type": "markdown",
   "metadata": {},
   "source": [
    " * 인스턴스와 클래스에서 __dict__ 속성을 출력해보면 현재 인스턴스와 클래스의 속성을 딕셔너리로 확인할 수 있습니다."
   ]
  },
  {
   "cell_type": "code",
   "execution_count": 23,
   "metadata": {},
   "outputs": [
    {
     "data": {
      "text/plain": [
       "{}"
      ]
     },
     "execution_count": 23,
     "metadata": {},
     "output_type": "execute_result"
    }
   ],
   "source": [
    "james.__dict__"
   ]
  },
  {
   "cell_type": "code",
   "execution_count": 24,
   "metadata": {},
   "outputs": [
    {
     "data": {
      "text/plain": [
       "mappingproxy({'__module__': '__main__',\n",
       "              'bag': [],\n",
       "              'put_bag': <function __main__.Person.put_bag(self, stuff)>,\n",
       "              '__dict__': <attribute '__dict__' of 'Person' objects>,\n",
       "              '__weakref__': <attribute '__weakref__' of 'Person' objects>,\n",
       "              '__doc__': None})"
      ]
     },
     "execution_count": 24,
     "metadata": {},
     "output_type": "execute_result"
    }
   ],
   "source": [
    "Person.__dict__"
   ]
  },
  {
   "cell_type": "markdown",
   "metadata": {},
   "source": [
    "* 인스턴스 속성 사용"
   ]
  },
  {
   "cell_type": "code",
   "execution_count": 25,
   "metadata": {},
   "outputs": [
    {
     "name": "stdout",
     "output_type": "stream",
     "text": [
      "['책']\n",
      "['열쇠']\n"
     ]
    }
   ],
   "source": [
    "class Person:\n",
    "    def __init__(self):\n",
    "        self.bag = []\n",
    " \n",
    "    def put_bag(self, stuff):\n",
    "        self.bag.append(stuff)\n",
    " \n",
    "james = Person()\n",
    "james.put_bag('책')\n",
    " \n",
    "maria = Person()\n",
    "maria.put_bag('열쇠')\n",
    " \n",
    "print(james.bag)\n",
    "print(maria.bag)"
   ]
  },
  {
   "cell_type": "markdown",
   "metadata": {},
   "source": [
    "## 정적 메서드\n",
    "\n",
    "    - 인스턴스를 통하지 않고 클래스에서 바로 호출\n",
    "    - 다음과 같이 메서드 위에 @staticmethod를 붙임\n",
    "    - 정적 메서드는 매개변수에 self를 지정하지 않음\n",
    "    - 메서드의 실행이 외부 상태에 영향을 끼치지 않는 순수 함수(pure function)를 만들 때 사용\n",
    "    - 호출방법\n",
    "        클래스명.메서드명()"
   ]
  },
  {
   "cell_type": "code",
   "execution_count": 26,
   "metadata": {},
   "outputs": [
    {
     "name": "stdout",
     "output_type": "stream",
     "text": [
      "30\n",
      "200\n"
     ]
    }
   ],
   "source": [
    "class Calc:\n",
    "    @staticmethod\n",
    "    def add(a, b):\n",
    "        print(a + b)\n",
    " \n",
    "    @staticmethod\n",
    "    def mul(a, b):\n",
    "        print(a * b)\n",
    " \n",
    "Calc.add(10, 20)    # 클래스에서 바로 메서드 호출\n",
    "Calc.mul(10, 20)    # 클래스에서 바로 메서드 호출"
   ]
  },
  {
   "cell_type": "markdown",
   "metadata": {},
   "source": [
    "# 상속!"
   ]
  },
  {
   "cell_type": "markdown",
   "metadata": {},
   "source": [
    "### 메서드 오버라이딩드 오버라이딩\n",
    "\n",
    "    * 자식 클래스에서 부모 클래스의 메서드를 새로 정의"
   ]
  },
  {
   "cell_type": "code",
   "execution_count": 27,
   "metadata": {},
   "outputs": [
    {
     "name": "stdout",
     "output_type": "stream",
     "text": [
      "안녕하세요. 저는 파이썬 코딩 도장 학생입니다.\n"
     ]
    }
   ],
   "source": [
    "class Person:\n",
    "    def greeting(self):\n",
    "        print('안녕하세요.')\n",
    " \n",
    "class Student(Person):\n",
    "    def greeting(self):\n",
    "        print('안녕하세요. 저는 파이썬 코딩 도장 학생입니다.')\n",
    " \n",
    "james = Student()\n",
    "james.greeting()"
   ]
  },
  {
   "cell_type": "code",
   "execution_count": 28,
   "metadata": {},
   "outputs": [
    {
     "name": "stdout",
     "output_type": "stream",
     "text": [
      "안녕하세요.\n"
     ]
    }
   ],
   "source": [
    "maria = Person()\n",
    "maria.greeting()"
   ]
  },
  {
   "cell_type": "markdown",
   "metadata": {},
   "source": [
    "# 예외 처리!(try, except, else, family)\n",
    "\n",
    "    * ZeroDivisionError(0으로 나눔), AttributeError, NameError, TypeError 등 다양한 에러들도 모두 예외다.\n",
    "    * 예외 처리 방법 :  예외가 발생했을 때도 스크립트 실행을 중단하지 않고 계속 실행하게 해줌\n",
    "    \n",
    "    try:\n",
    "        실행할 코드\n",
    "    except:\n",
    "        예외가 발생했을 때 처리하는 코드\n",
    "    else:\n",
    "        예외가 발생하지 않았을 때 처리하는 코드\n",
    "    family:\n",
    "        예외 발생 여부와 상관없이 항상 실행할 코드\n",
    "        \n",
    "        \n",
    "* try는 함수가 아니므로 안에서 만든 변수를 밖에서 사용할 수 있음"
   ]
  },
  {
   "cell_type": "code",
   "execution_count": 33,
   "metadata": {},
   "outputs": [
    {
     "name": "stdout",
     "output_type": "stream",
     "text": [
      "나눌 숫자를 입력하세요: 0\n",
      "예외가 발생했습니다.\n"
     ]
    }
   ],
   "source": [
    "# 코드 실행하고 0 입력\n",
    "\n",
    "try:\n",
    "    x = int(input('나눌 숫자를 입력하세요: '))\n",
    "    y = 10 / x\n",
    "    print(y)\n",
    "except:    # 예외가 발생했을 때 실행됨\n",
    "    print('예외가 발생했습니다.')"
   ]
  },
  {
   "cell_type": "markdown",
   "metadata": {},
   "source": [
    "### 특정 예외만 처리하기\n",
    "\n",
    "* 형식  \n",
    "\n",
    "    try:\n",
    "        실행할 코드\n",
    "    except 예외이름:\n",
    "        예외가 발생했을 때 처리하는 코드"
   ]
  },
  {
   "cell_type": "code",
   "execution_count": 35,
   "metadata": {},
   "outputs": [
    {
     "name": "stdout",
     "output_type": "stream",
     "text": [
      "인덱스와 나눌 숫자를 입력하세요: 2 0\n",
      "숫자를 0으로 나눌 수 없습니다.\n"
     ]
    }
   ],
   "source": [
    "# 실행하고 2 0 입력\n",
    "\n",
    "y = [10, 20, 30]\n",
    " \n",
    "try:\n",
    "    index, x = map(int, input('인덱스와 나눌 숫자를 입력하세요: ').split())\n",
    "    print(y[index] / x)\n",
    "except ZeroDivisionError:    # 숫자를 0으로 나눠서 에러가 발생했을 때 실행됨\n",
    "    print('숫자를 0으로 나눌 수 없습니다.')\n",
    "except IndexError:           # 범위를 벗어난 인덱스에 접근하여 에러가 발생했을 때 실행됨\n",
    "    print('잘못된 인덱스입니다.')"
   ]
  },
  {
   "cell_type": "markdown",
   "metadata": {},
   "source": [
    "## 예외에서 에러메시지 받아오기\n",
    "\n",
    "    * except에서 as 뒤에 변수를 지정하면 발생한 예외의 에러 메시지를 받아올 수 있음"
   ]
  },
  {
   "cell_type": "markdown",
   "metadata": {},
   "source": [
    "* 2 0 입력 :division by zero\n",
    "* 3 5 입력 : list index out of range"
   ]
  },
  {
   "cell_type": "code",
   "execution_count": 36,
   "metadata": {},
   "outputs": [
    {
     "name": "stdout",
     "output_type": "stream",
     "text": [
      "인덱스와 나눌 숫자를 입력하세요: 3 5\n",
      "잘못된 인덱스입니다. list index out of range\n"
     ]
    }
   ],
   "source": [
    "y = [10, 20, 30]\n",
    " \n",
    "try:\n",
    "    index, x = map(int, input('인덱스와 나눌 숫자를 입력하세요: ').split())\n",
    "    print(y[index] / x)\n",
    "except ZeroDivisionError as e:                    # as 뒤에 변수를 지정하면 에러를 받아옴\n",
    "    print('숫자를 0으로 나눌 수 없습니다.', e)    # e에 저장된 에러 메시지 출력\n",
    "except IndexError as e:\n",
    "    print('잘못된 인덱스입니다.', e)"
   ]
  },
  {
   "cell_type": "markdown",
   "metadata": {},
   "source": [
    " ### 모든 예외의 에러 메시지 출력(Exception)"
   ]
  },
  {
   "cell_type": "code",
   "execution_count": null,
   "metadata": {},
   "outputs": [],
   "source": [
    "except Exception as e:    # 모든 예외의 에러 메시지를 출력할 때는 Exception을 사용\n",
    "    print('예외가 발생했습니다.', e)"
   ]
  },
  {
   "cell_type": "markdown",
   "metadata": {},
   "source": [
    "### try, except, else 모두 사용"
   ]
  },
  {
   "cell_type": "code",
   "execution_count": 37,
   "metadata": {},
   "outputs": [
    {
     "name": "stdout",
     "output_type": "stream",
     "text": [
      "나눌 숫자를 입력하세요: 2\n",
      "5.0\n"
     ]
    }
   ],
   "source": [
    "# 2 입력\n",
    "try:\n",
    "    x = int(input('나눌 숫자를 입력하세요: '))\n",
    "    y = 10 / x\n",
    "except ZeroDivisionError:    # 숫자를 0으로 나눠서 에러가 발생했을 때 실행됨\n",
    "    print('숫자를 0으로 나눌 수 없습니다.')\n",
    "else:                        # try의 코드에서 예외가 발생하지 않았을 때 실행됨\n",
    "    print(y)"
   ]
  },
  {
   "cell_type": "markdown",
   "metadata": {},
   "source": [
    "### try, except, else, family 모두 사용"
   ]
  },
  {
   "cell_type": "code",
   "execution_count": 38,
   "metadata": {},
   "outputs": [
    {
     "name": "stdout",
     "output_type": "stream",
     "text": [
      "나눌 숫자를 입력하세요: 2\n",
      "5.0\n",
      "코드 실행이 끝났습니다.\n"
     ]
    }
   ],
   "source": [
    "# 2 입력\n",
    "try:\n",
    "    x = int(input('나눌 숫자를 입력하세요: '))\n",
    "    y = 10 / x\n",
    "except ZeroDivisionError:    # 숫자를 0으로 나눠서 에러가 발생했을 때 실행됨\n",
    "    print('숫자를 0으로 나눌 수 없습니다.')\n",
    "else:                        # try의 코드에서 예외가 발생하지 않았을 때 실행됨\n",
    "    print(y)\n",
    "finally:                     # 예외 발생 여부와 상관없이 항상 실행됨\n",
    "    print('코드 실행이 끝났습니다.')"
   ]
  },
  {
   "cell_type": "markdown",
   "metadata": {},
   "source": [
    "### 예외 발생시키키\n",
    "    * 다음에 정리\n",
    "    * raise 예외('에러메시지')"
   ]
  },
  {
   "cell_type": "markdown",
   "metadata": {},
   "source": [
    "# 이터레어터(iterator) = 반복자\n",
    "\n",
    "\n",
    "    * 반복 가능한 객체(iterable)\n",
    "        * 객체에 __iter__ 메서드가 들어있는 것\n",
    "        *  dir 함수를 사용하면 객체의 메서드를 확인 가능\n",
    "        * 문자열, 리스트, 딕셔너리, 세트, range 등\n",
    "\n",
    "    * 반복 가능한 객체의 __iter__ 메서드를 호출하면 이터레이터가 나옴"
   ]
  },
  {
   "cell_type": "code",
   "execution_count": 39,
   "metadata": {
    "collapsed": true
   },
   "outputs": [
    {
     "data": {
      "text/plain": [
       "['__add__',\n",
       " '__class__',\n",
       " '__class_getitem__',\n",
       " '__contains__',\n",
       " '__delattr__',\n",
       " '__delitem__',\n",
       " '__dir__',\n",
       " '__doc__',\n",
       " '__eq__',\n",
       " '__format__',\n",
       " '__ge__',\n",
       " '__getattribute__',\n",
       " '__getitem__',\n",
       " '__gt__',\n",
       " '__hash__',\n",
       " '__iadd__',\n",
       " '__imul__',\n",
       " '__init__',\n",
       " '__init_subclass__',\n",
       " '__iter__',\n",
       " '__le__',\n",
       " '__len__',\n",
       " '__lt__',\n",
       " '__mul__',\n",
       " '__ne__',\n",
       " '__new__',\n",
       " '__reduce__',\n",
       " '__reduce_ex__',\n",
       " '__repr__',\n",
       " '__reversed__',\n",
       " '__rmul__',\n",
       " '__setattr__',\n",
       " '__setitem__',\n",
       " '__sizeof__',\n",
       " '__str__',\n",
       " '__subclasshook__',\n",
       " 'append',\n",
       " 'clear',\n",
       " 'copy',\n",
       " 'count',\n",
       " 'extend',\n",
       " 'index',\n",
       " 'insert',\n",
       " 'pop',\n",
       " 'remove',\n",
       " 'reverse',\n",
       " 'sort']"
      ]
     },
     "execution_count": 39,
     "metadata": {},
     "output_type": "execute_result"
    }
   ],
   "source": [
    "# dir() : 해당 객체의 메소드를 확인하는 함수\n",
    "dir([])"
   ]
  },
  {
   "cell_type": "markdown",
   "metadata": {},
   "source": [
    " * 리스트의 이터레이터를 변수에 저장한 뒤 __next__ 메서드를 호출해보면 요소를 차례대로 꺼낼 수 있음"
   ]
  },
  {
   "cell_type": "code",
   "execution_count": 40,
   "metadata": {},
   "outputs": [],
   "source": [
    "# a를 이터레이터로 선언\n",
    "a = (1,2).__iter__()"
   ]
  },
  {
   "cell_type": "code",
   "execution_count": 41,
   "metadata": {},
   "outputs": [
    {
     "data": {
      "text/plain": [
       "1"
      ]
     },
     "execution_count": 41,
     "metadata": {},
     "output_type": "execute_result"
    }
   ],
   "source": [
    "a.__next__()"
   ]
  },
  {
   "cell_type": "code",
   "execution_count": 42,
   "metadata": {},
   "outputs": [
    {
     "data": {
      "text/plain": [
       "2"
      ]
     },
     "execution_count": 42,
     "metadata": {},
     "output_type": "execute_result"
    }
   ],
   "source": [
    "a.__next__()"
   ]
  },
  {
   "cell_type": "markdown",
   "metadata": {},
   "source": [
    " * 꺼낼 요소가 없으면 StopIteration 예외를 발생"
   ]
  },
  {
   "cell_type": "code",
   "execution_count": 43,
   "metadata": {},
   "outputs": [
    {
     "ename": "StopIteration",
     "evalue": "",
     "output_type": "error",
     "traceback": [
      "\u001b[1;31m---------------------------------------------------------------------------\u001b[0m",
      "\u001b[1;31mStopIteration\u001b[0m                             Traceback (most recent call last)",
      "\u001b[1;32m<ipython-input-43-d34d2a8c0899>\u001b[0m in \u001b[0;36m<module>\u001b[1;34m\u001b[0m\n\u001b[1;32m----> 1\u001b[1;33m \u001b[0ma\u001b[0m\u001b[1;33m.\u001b[0m\u001b[0m__next__\u001b[0m\u001b[1;33m(\u001b[0m\u001b[1;33m)\u001b[0m\u001b[1;33m\u001b[0m\u001b[1;33m\u001b[0m\u001b[0m\n\u001b[0m",
      "\u001b[1;31mStopIteration\u001b[0m: "
     ]
    }
   ],
   "source": [
    "a.__next__()"
   ]
  },
  {
   "cell_type": "markdown",
   "metadata": {},
   "source": [
    "# 정규표현식(regular expression)\n",
    "\n",
    "    - 일정한 규칙(패턴)을 가진 문자열을 표현하는 방법\n",
    "    - 복잡한 문자열 속에서 특정한 규칙으로 된 문자열을 검색한 뒤 \n",
    "    추출하거나 바꿀 때 사용\n",
    "    - 문자열이 정해진 규칙에 맞는지 판단할 때도 사용\n",
    "    - re 모듈을 가져와서 사용 (re는 regular expression의 약자)."
   ]
  },
  {
   "cell_type": "markdown",
   "metadata": {},
   "source": [
    " * 문자열 확인"
   ]
  },
  {
   "cell_type": "code",
   "execution_count": 14,
   "metadata": {},
   "outputs": [
    {
     "data": {
      "text/plain": [
       "<re.Match object; span=(0, 5), match='Hello'>"
      ]
     },
     "execution_count": 14,
     "metadata": {},
     "output_type": "execute_result"
    }
   ],
   "source": [
    "import re\n",
    "\n",
    "re.match('Hello', 'Hello, world!')\n",
    "# 문자열이 있으므로 정규표현식 매치 객체가 반환됨"
   ]
  },
  {
   "cell_type": "code",
   "execution_count": 46,
   "metadata": {},
   "outputs": [],
   "source": [
    "re.match('Python', 'Hello, world!')    \n",
    "# 문자열이 없으므로 아무것도 반환되지 않음"
   ]
  },
  {
   "cell_type": "code",
   "execution_count": 15,
   "metadata": {},
   "outputs": [
    {
     "data": {
      "text/plain": [
       "<re.Match object; span=(0, 6), match='10 295'>"
      ]
     },
     "execution_count": 15,
     "metadata": {},
     "output_type": "execute_result"
    }
   ],
   "source": [
    "m = re.match('([0-9]+) ([0-9]+)', '10 295')\n",
    "m"
   ]
  },
  {
   "cell_type": "markdown",
   "metadata": {},
   "source": [
    " * ?\n",
    "        = {0, 1}\n",
    "        없거나 1개 있거나"
   ]
  },
  {
   "cell_type": "code",
   "execution_count": 35,
   "metadata": {},
   "outputs": [],
   "source": [
    "# ?\n",
    "\n",
    "import re\n",
    "\n",
    "p = re.compile(\"ab?c\")\n",
    "p.search(\"a\")"
   ]
  },
  {
   "cell_type": "code",
   "execution_count": 36,
   "metadata": {},
   "outputs": [
    {
     "data": {
      "text/plain": [
       "<re.Match object; span=(0, 2), match='ac'>"
      ]
     },
     "execution_count": 36,
     "metadata": {},
     "output_type": "execute_result"
    }
   ],
   "source": [
    "# ?\n",
    "\n",
    "import re\n",
    "\n",
    "p = re.compile(\"ab?c\")\n",
    "p.search(\"ac\")"
   ]
  },
  {
   "cell_type": "code",
   "execution_count": 37,
   "metadata": {},
   "outputs": [
    {
     "data": {
      "text/plain": [
       "<re.Match object; span=(0, 3), match='abc'>"
      ]
     },
     "execution_count": 37,
     "metadata": {},
     "output_type": "execute_result"
    }
   ],
   "source": [
    "# ?\n",
    "\n",
    "import re\n",
    "\n",
    "p = re.compile(\"ab?c\")\n",
    "p.search(\"abc\")"
   ]
  },
  {
   "cell_type": "code",
   "execution_count": 38,
   "metadata": {},
   "outputs": [],
   "source": [
    "# ?\n",
    "\n",
    "import re\n",
    "\n",
    "p = re.compile(\"ab?c\")\n",
    "p.search(\"abbc\")"
   ]
  },
  {
   "cell_type": "markdown",
   "metadata": {},
   "source": [
    "### match()와 search()의 차이\n",
    "\n",
    "     * match()\n",
    "         * 문자열의 처음부터 정규식과 매치되는지 조사한다.\n",
    "         \n",
    "     * search()\n",
    "         * 문자열 전체를 검색하여 정규식과 매치되는지 조사한다."
   ]
  },
  {
   "cell_type": "code",
   "execution_count": 16,
   "metadata": {},
   "outputs": [],
   "source": [
    "import re\n",
    "\n",
    "p = re.compile('[a-z]+')    # a부터 z까지 하나이상인가?"
   ]
  },
  {
   "cell_type": "code",
   "execution_count": 19,
   "metadata": {},
   "outputs": [],
   "source": [
    "m = p.match(\"3 python\")  # match는 처음부터 비교, 문자 3이 매칭되지 않아서 None 반환\n",
    "m"
   ]
  },
  {
   "cell_type": "code",
   "execution_count": 23,
   "metadata": {},
   "outputs": [
    {
     "data": {
      "text/plain": [
       "<re.Match object; span=(0, 6), match='python'>"
      ]
     },
     "execution_count": 23,
     "metadata": {},
     "output_type": "execute_result"
    }
   ],
   "source": [
    "m = p.match(\"python 3\")  # python까지는 매칭하고 다음 space는 매칭하지 않음\n",
    "m"
   ]
  },
  {
   "cell_type": "code",
   "execution_count": 24,
   "metadata": {},
   "outputs": [
    {
     "data": {
      "text/plain": [
       "<re.Match object; span=(0, 6), match='python'>"
      ]
     },
     "execution_count": 24,
     "metadata": {},
     "output_type": "execute_result"
    }
   ],
   "source": [
    "m = p.match(\"python 3 python\")  # python까지는 매칭하고 다음 space는 매칭하지 않음\n",
    "m"
   ]
  },
  {
   "cell_type": "code",
   "execution_count": 20,
   "metadata": {},
   "outputs": [
    {
     "data": {
      "text/plain": [
       "<re.Match object; span=(2, 8), match='python'>"
      ]
     },
     "execution_count": 20,
     "metadata": {},
     "output_type": "execute_result"
    }
   ],
   "source": [
    "m = p.search(\"3 python\") # 전체 중 \"python\"부분은 매칭됨\n",
    "m"
   ]
  },
  {
   "cell_type": "code",
   "execution_count": 41,
   "metadata": {},
   "outputs": [
    {
     "data": {
      "text/plain": [
       "<re.Match object; span=(2, 8), match='python'>"
      ]
     },
     "execution_count": 41,
     "metadata": {},
     "output_type": "execute_result"
    }
   ],
   "source": [
    "m = p.search(\"3 python 3 python\") # 전체 중 \"python\"부분은 매칭됨\n",
    "m    # 결과를 보니 문자열을 한번 만 찾나봄"
   ]
  },
  {
   "cell_type": "code",
   "execution_count": 37,
   "metadata": {},
   "outputs": [
    {
     "data": {
      "text/plain": [
       "2"
      ]
     },
     "execution_count": 37,
     "metadata": {},
     "output_type": "execute_result"
    }
   ],
   "source": [
    "m.start()"
   ]
  },
  {
   "cell_type": "code",
   "execution_count": 39,
   "metadata": {},
   "outputs": [
    {
     "data": {
      "text/plain": [
       "8"
      ]
     },
     "execution_count": 39,
     "metadata": {},
     "output_type": "execute_result"
    }
   ],
   "source": [
    "m.end()"
   ]
  },
  {
   "cell_type": "code",
   "execution_count": 40,
   "metadata": {},
   "outputs": [
    {
     "data": {
      "text/plain": [
       "(2, 8)"
      ]
     },
     "execution_count": 40,
     "metadata": {},
     "output_type": "execute_result"
    }
   ],
   "source": [
    "m.span()"
   ]
  },
  {
   "cell_type": "markdown",
   "metadata": {},
   "source": [
    "### findall\n",
    "     * 정규식과 매치되는 모든 문자열(substring)을 리스트로 돌려준다."
   ]
  },
  {
   "cell_type": "code",
   "execution_count": 59,
   "metadata": {},
   "outputs": [],
   "source": [
    "import re\n",
    "\n",
    "p = re.compile('[a-z]+')    # a부터 z까지 하나 이상인가?"
   ]
  },
  {
   "cell_type": "code",
   "execution_count": 60,
   "metadata": {},
   "outputs": [
    {
     "name": "stdout",
     "output_type": "stream",
     "text": [
      "['life', 'is', 'too', 'short']\n"
     ]
    }
   ],
   "source": [
    "result = p.findall(\"life is too short\")\n",
    "print(result)"
   ]
  },
  {
   "cell_type": "markdown",
   "metadata": {},
   "source": [
    " * +역할 확인(문자 한개가 아닌 뭉텡이(단어)로 매칭시킴)"
   ]
  },
  {
   "cell_type": "code",
   "execution_count": 61,
   "metadata": {},
   "outputs": [],
   "source": [
    "import re\n",
    "\n",
    "p = re.compile('[a-z]')    # a부터 z까지 중 문자 한개랑 매칭"
   ]
  },
  {
   "cell_type": "code",
   "execution_count": 62,
   "metadata": {},
   "outputs": [
    {
     "name": "stdout",
     "output_type": "stream",
     "text": [
      "['l', 'i', 'f', 'e', 'i', 's', 't', 'o', 'o', 's', 'h', 'o', 'r', 't']\n"
     ]
    }
   ],
   "source": [
    "result = p.findall(\"life is too short\")\n",
    "print(result)"
   ]
  },
  {
   "cell_type": "markdown",
   "metadata": {},
   "source": [
    "### finditer()\n",
    "    * 정규식과 매치되는 모든 문자열(substring)을 반복 가능한 객체로 돌려준다."
   ]
  },
  {
   "cell_type": "code",
   "execution_count": 64,
   "metadata": {},
   "outputs": [],
   "source": [
    "import re\n",
    "\n",
    "p = re.compile('[a-z]+')    # a부터 z까지 하나 이상인가?"
   ]
  },
  {
   "cell_type": "code",
   "execution_count": 65,
   "metadata": {},
   "outputs": [
    {
     "name": "stdout",
     "output_type": "stream",
     "text": [
      "<callable_iterator object at 0x000002418DF8C490>\n"
     ]
    }
   ],
   "source": [
    "result = p.finditer(\"life is too short\")\n",
    "print(result)"
   ]
  },
  {
   "cell_type": "code",
   "execution_count": 66,
   "metadata": {},
   "outputs": [
    {
     "data": {
      "text/plain": [
       "<callable_iterator at 0x2418df8c490>"
      ]
     },
     "execution_count": 66,
     "metadata": {},
     "output_type": "execute_result"
    }
   ],
   "source": [
    "result"
   ]
  },
  {
   "cell_type": "code",
   "execution_count": 68,
   "metadata": {},
   "outputs": [
    {
     "data": {
      "text/plain": [
       "<re.Match object; span=(0, 4), match='life'>"
      ]
     },
     "execution_count": 68,
     "metadata": {},
     "output_type": "execute_result"
    }
   ],
   "source": [
    "result.__next__()"
   ]
  },
  {
   "cell_type": "code",
   "execution_count": 69,
   "metadata": {},
   "outputs": [
    {
     "data": {
      "text/plain": [
       "<re.Match object; span=(5, 7), match='is'>"
      ]
     },
     "execution_count": 69,
     "metadata": {},
     "output_type": "execute_result"
    }
   ],
   "source": [
    "result.__next__()"
   ]
  },
  {
   "cell_type": "code",
   "execution_count": 70,
   "metadata": {},
   "outputs": [
    {
     "data": {
      "text/plain": [
       "<re.Match object; span=(8, 11), match='too'>"
      ]
     },
     "execution_count": 70,
     "metadata": {},
     "output_type": "execute_result"
    }
   ],
   "source": [
    "result.__next__()"
   ]
  },
  {
   "cell_type": "code",
   "execution_count": 71,
   "metadata": {},
   "outputs": [
    {
     "data": {
      "text/plain": [
       "<re.Match object; span=(12, 17), match='short'>"
      ]
     },
     "execution_count": 71,
     "metadata": {},
     "output_type": "execute_result"
    }
   ],
   "source": [
    "result.__next__()"
   ]
  },
  {
   "cell_type": "code",
   "execution_count": null,
   "metadata": {},
   "outputs": [],
   "source": []
  },
  {
   "cell_type": "code",
   "execution_count": 67,
   "metadata": {},
   "outputs": [
    {
     "data": {
      "text/plain": [
       "<list_iterator at 0x2418df8c4c0>"
      ]
     },
     "execution_count": 67,
     "metadata": {},
     "output_type": "execute_result"
    }
   ],
   "source": [
    "c = [1,2,3]\n",
    "d = c.__iter__()\n",
    "d"
   ]
  },
  {
   "cell_type": "code",
   "execution_count": null,
   "metadata": {},
   "outputs": [],
   "source": []
  },
  {
   "cell_type": "markdown",
   "metadata": {},
   "source": [
    "## Match 객체(re.Match object)의 메소드\n",
    "\n",
    "    * group()\n",
    "        * 매치된 문자열을 돌려준다.  \n",
    "        \n",
    "    * start()\n",
    "        * 매치된 문자열의 시작 위치(인덱스)를 돌려준다.  \n",
    "        * .match()로 얻은 Match객체의 start() 값은 항상 0이다.\n",
    "        \n",
    "    * end()\n",
    "        * 매치된 문자열의 끝 위치를 돌려준다.\n",
    "        \n",
    "    * span()\n",
    "        * 매치된 문자열의 (시작, 끝)에 해당하는 튜플을 돌려준다."
   ]
  },
  {
   "cell_type": "code",
   "execution_count": 30,
   "metadata": {},
   "outputs": [],
   "source": [
    "import re\n",
    "\n",
    "p = re.compile('[a-z]+')    # a부터 z까지 하나이상인가?\n",
    "\n",
    "m = p.match(\"python\")"
   ]
  },
  {
   "cell_type": "code",
   "execution_count": 31,
   "metadata": {},
   "outputs": [
    {
     "data": {
      "text/plain": [
       "'python'"
      ]
     },
     "execution_count": 31,
     "metadata": {},
     "output_type": "execute_result"
    }
   ],
   "source": [
    "m.group()"
   ]
  },
  {
   "cell_type": "code",
   "execution_count": 32,
   "metadata": {},
   "outputs": [
    {
     "data": {
      "text/plain": [
       "0"
      ]
     },
     "execution_count": 32,
     "metadata": {},
     "output_type": "execute_result"
    }
   ],
   "source": [
    "m.start()"
   ]
  },
  {
   "cell_type": "code",
   "execution_count": 33,
   "metadata": {},
   "outputs": [
    {
     "data": {
      "text/plain": [
       "6"
      ]
     },
     "execution_count": 33,
     "metadata": {},
     "output_type": "execute_result"
    }
   ],
   "source": [
    "m.end()"
   ]
  },
  {
   "cell_type": "code",
   "execution_count": 34,
   "metadata": {},
   "outputs": [
    {
     "data": {
      "text/plain": [
       "(0, 6)"
      ]
     },
     "execution_count": 34,
     "metadata": {},
     "output_type": "execute_result"
    }
   ],
   "source": [
    "m.span()"
   ]
  },
  {
   "cell_type": "markdown",
   "metadata": {},
   "source": [
    "### re.compile 옵션\n",
    "\n",
    "* DOTALL(S) \n",
    "    - . 이 줄바꿈 문자를 포함하여 모든 문자와 매치할 수 있도록 한다.  \n",
    "      \n",
    "      \n",
    "* IGNORECASE(I) \n",
    "    - 대소문자에 관계없이 매치할 수 있도록 한다.  \n",
    "      \n",
    "      \n",
    "* MULTILINE(M) \n",
    "    - 여러줄과 매치할 수 있도록 한다. \n",
    "    - (^, $ 메타문자의 사용과 관계가 있는 옵션이다)  \n",
    "      \n",
    "      \n",
    "* VERBOSE(X) \n",
    "    - verbose 모드를 사용할 수 있도록 한다. \n",
    "    - (정규식을 보기 편하게 만들수 있고 주석등을 사용할 수 있게된다.)"
   ]
  },
  {
   "cell_type": "markdown",
   "metadata": {},
   "source": [
    " * DOTALL, S\n",
    "     * re.DOTALL\n",
    "     * re.S"
   ]
  },
  {
   "cell_type": "code",
   "execution_count": 42,
   "metadata": {},
   "outputs": [
    {
     "name": "stdout",
     "output_type": "stream",
     "text": [
      "None\n"
     ]
    }
   ],
   "source": [
    "import re\n",
    "p = re.compile('a.b')\n",
    "m = p.match('a\\nb')\n",
    "print(m)"
   ]
  },
  {
   "cell_type": "code",
   "execution_count": 43,
   "metadata": {},
   "outputs": [
    {
     "name": "stdout",
     "output_type": "stream",
     "text": [
      "<re.Match object; span=(0, 3), match='a\\nb'>\n"
     ]
    }
   ],
   "source": [
    "import re\n",
    "p = re.compile('a.b', re.DOTALL)\n",
    "m = p.match('a\\nb')\n",
    "print(m)"
   ]
  },
  {
   "cell_type": "code",
   "execution_count": 44,
   "metadata": {},
   "outputs": [
    {
     "name": "stdout",
     "output_type": "stream",
     "text": [
      "<re.Match object; span=(0, 3), match='a\\nb'>\n"
     ]
    }
   ],
   "source": [
    "import re\n",
    "p = re.compile('a.b', re.S)\n",
    "m = p.match('a\\nb')\n",
    "print(m)"
   ]
  },
  {
   "cell_type": "markdown",
   "metadata": {},
   "source": [
    " * IGNORECASE, I\n",
    "     * re.IGNORECASE\n",
    "     * re.I"
   ]
  },
  {
   "cell_type": "code",
   "execution_count": 45,
   "metadata": {},
   "outputs": [
    {
     "data": {
      "text/plain": [
       "<re.Match object; span=(0, 1), match='p'>"
      ]
     },
     "execution_count": 45,
     "metadata": {},
     "output_type": "execute_result"
    }
   ],
   "source": [
    "p = re.compile('[a-z]', re.I)\n",
    "p.match('python')"
   ]
  },
  {
   "cell_type": "code",
   "execution_count": 46,
   "metadata": {},
   "outputs": [
    {
     "data": {
      "text/plain": [
       "<re.Match object; span=(0, 1), match='P'>"
      ]
     },
     "execution_count": 46,
     "metadata": {},
     "output_type": "execute_result"
    }
   ],
   "source": [
    "p = re.compile('[a-z]', re.I)\n",
    "p.match('Python')"
   ]
  },
  {
   "cell_type": "code",
   "execution_count": 47,
   "metadata": {},
   "outputs": [
    {
     "data": {
      "text/plain": [
       "<re.Match object; span=(0, 1), match='P'>"
      ]
     },
     "execution_count": 47,
     "metadata": {},
     "output_type": "execute_result"
    }
   ],
   "source": [
    "p = re.compile('[a-z]', re.I)\n",
    "p.match('PYTHON')"
   ]
  },
  {
   "cell_type": "markdown",
   "metadata": {},
   "source": [
    " * MULTILINE, M"
   ]
  },
  {
   "cell_type": "code",
   "execution_count": 48,
   "metadata": {},
   "outputs": [
    {
     "name": "stdout",
     "output_type": "stream",
     "text": [
      "['python one']\n"
     ]
    }
   ],
   "source": [
    "import re\n",
    "p = re.compile(\"^python\\s\\w+\")    \n",
    "# python으로 시작하고(^python), whitespace(\\s)가 나오고, 단어(\\w)가 나와야됨\n",
    "\n",
    "data = \"\"\"python one\n",
    "life is too short\n",
    "python two\n",
    "you need python\n",
    "python three\"\"\"\n",
    "\n",
    "print(p.findall(data))"
   ]
  },
  {
   "cell_type": "code",
   "execution_count": 49,
   "metadata": {},
   "outputs": [
    {
     "name": "stdout",
     "output_type": "stream",
     "text": [
      "['python one', 'python two', 'python three']\n"
     ]
    }
   ],
   "source": [
    "import re\n",
    "p = re.compile(\"^python\\s\\w+\", re.MULTILINE) \n",
    "# 옵션을 주어 각 라인에서의 처음을 정규식과 매칭시킴\n",
    "\n",
    "data = \"\"\"python one\n",
    "life is too short\n",
    "python two\n",
    "you need python\n",
    "python three\"\"\"\n",
    "\n",
    "print(p.findall(data))"
   ]
  },
  {
   "cell_type": "markdown",
   "metadata": {},
   "source": [
    "## VERBOSE, X\n",
    "\n",
    "    * 복잡한 정규식을 쉽게 보기 위해, \n",
    "    * 정규식 ''안에 whitespace와 주석 #을 쓸 수있게 해주는 기능"
   ]
  },
  {
   "cell_type": "markdown",
   "metadata": {},
   "source": [
    " * 같은 식을 VERBOSE를 쓰고, 안쓰고 로 구분"
   ]
  },
  {
   "cell_type": "code",
   "execution_count": 51,
   "metadata": {},
   "outputs": [],
   "source": [
    "# 방식 1(안쓰고)\n",
    "charref = re.compile(r'&[#](0[0-7]+|[0-9]+|x[0-9a-fA-F]+);')"
   ]
  },
  {
   "cell_type": "code",
   "execution_count": 50,
   "metadata": {},
   "outputs": [],
   "source": [
    "# 방식 2(쓰고)  => 위와 같은 의미임\n",
    "charref = re.compile(r\"\"\"\n",
    " &[#]                # Start of a numeric entity reference\n",
    " (\n",
    "     0[0-7]+         # Octal form\n",
    "   | [0-9]+          # Decimal form\n",
    "   | x[0-9a-fA-F]+   # Hexadecimal form\n",
    " )\n",
    " ;                   # Trailing semicolon\n",
    "\"\"\", re.VERBOSE)\n",
    "# re.VERBOSE 옵션으로 #뒤와 whitespace는 무의미 처리됨"
   ]
  },
  {
   "cell_type": "markdown",
   "metadata": {},
   "source": [
    "## 백스페이스\n",
    "\n",
    "    * 정규표현식에서 백스페이스\\를 매칭하고 싶으면, 연속 2번써서 이스케이프 처리하면됨\n",
    "    "
   ]
  },
  {
   "cell_type": "markdown",
   "metadata": {},
   "source": [
    " *  \"\\section\" 문자열을 찾기 위한 정규식"
   ]
  },
  {
   "cell_type": "code",
   "execution_count": 52,
   "metadata": {},
   "outputs": [],
   "source": [
    "p = re.compile('\\\\section')"
   ]
  },
  {
   "cell_type": "markdown",
   "metadata": {},
   "source": [
    "* \"\\\\\\\\section\" 문자열을 찾기 위한 정규식"
   ]
  },
  {
   "cell_type": "code",
   "execution_count": 53,
   "metadata": {},
   "outputs": [],
   "source": [
    "# 방법 1 => 이스케이프 터리를 2번 해야함\n",
    "p = re.compile('\\\\\\\\section')"
   ]
  },
  {
   "cell_type": "code",
   "execution_count": 54,
   "metadata": {},
   "outputs": [],
   "source": [
    "# 방법 2 => raw string 활용\n",
    "p = re.compile(r'\\\\section')"
   ]
  },
  {
   "cell_type": "markdown",
   "metadata": {},
   "source": [
    "## 그루핑"
   ]
  },
  {
   "cell_type": "markdown",
   "metadata": {},
   "source": [
    " * ()로 ABC를 감싸면 group으로 출력시 반복되서 나옴"
   ]
  },
  {
   "cell_type": "code",
   "execution_count": 2,
   "metadata": {},
   "outputs": [
    {
     "name": "stdout",
     "output_type": "stream",
     "text": [
      "<re.Match object; span=(0, 9), match='ABCABCABC'>\n",
      "ABCABCABC\n"
     ]
    }
   ],
   "source": [
    "import re\n",
    "\n",
    "p = re.compile('(ABC)+')\n",
    "\n",
    "m = p.search('ABCABCABC OK?')\n",
    "print(m)\n",
    "\n",
    "print(m.group())"
   ]
  },
  {
   "cell_type": "markdown",
   "metadata": {},
   "source": [
    " * 중간에 단어들이 끼면 처음 한번만 찾네"
   ]
  },
  {
   "cell_type": "code",
   "execution_count": 4,
   "metadata": {},
   "outputs": [
    {
     "name": "stdout",
     "output_type": "stream",
     "text": [
      "<re.Match object; span=(0, 3), match='ABC'>\n",
      "ABC\n"
     ]
    }
   ],
   "source": [
    "import re\n",
    "\n",
    "p = re.compile('(ABC)+')\n",
    "\n",
    "m = p.search('ABCwerABCABC OK?')\n",
    "print(m)\n",
    "\n",
    "print(m.group())"
   ]
  },
  {
   "cell_type": "markdown",
   "metadata": {},
   "source": [
    " * findall 수행"
   ]
  },
  {
   "cell_type": "code",
   "execution_count": 5,
   "metadata": {},
   "outputs": [
    {
     "name": "stdout",
     "output_type": "stream",
     "text": [
      "['ABC', 'ABC']\n"
     ]
    }
   ],
   "source": [
    "import re\n",
    "\n",
    "p = re.compile('(ABC)+')\n",
    "\n",
    "m = p.findall('ABCwerABCABC OK?')\n",
    "\n",
    "print(m)\n"
   ]
  },
  {
   "cell_type": "code",
   "execution_count": 6,
   "metadata": {},
   "outputs": [
    {
     "name": "stdout",
     "output_type": "stream",
     "text": [
      "['ABC', 'ABC']\n"
     ]
    }
   ],
   "source": [
    "import re\n",
    "\n",
    "p = re.compile('(ABC)+')\n",
    "\n",
    "m = p.findall('ABCABCwerABCABC OK?')\n",
    "\n",
    "print(m)\n"
   ]
  },
  {
   "cell_type": "markdown",
   "metadata": {},
   "source": [
    " * () 없이 ABC 쓰면 group으로 출력시 하나만 나옴"
   ]
  },
  {
   "cell_type": "code",
   "execution_count": 3,
   "metadata": {},
   "outputs": [
    {
     "name": "stdout",
     "output_type": "stream",
     "text": [
      "<re.Match object; span=(0, 3), match='ABC'>\n",
      "ABC\n"
     ]
    }
   ],
   "source": [
    "import re\n",
    "\n",
    "p = re.compile('ABC+')\n",
    "\n",
    "m = p.search('ABCABCABC OK?')\n",
    "print(m)\n",
    "\n",
    "print(m.group())"
   ]
  },
  {
   "cell_type": "markdown",
   "metadata": {},
   "source": [
    "### 그루핑으로 전화번호 찾기"
   ]
  },
  {
   "cell_type": "code",
   "execution_count": 9,
   "metadata": {},
   "outputs": [],
   "source": [
    "p = re.compile(r\"(\\w+)\\s+((\\d+)[-]\\d+[-]\\d+)\")\n",
    "m = p.search(\"park 010-1234-1234\")"
   ]
  },
  {
   "cell_type": "markdown",
   "metadata": {},
   "source": [
    "* group(0) : 첫 괄호 - 전체"
   ]
  },
  {
   "cell_type": "code",
   "execution_count": 10,
   "metadata": {},
   "outputs": [
    {
     "name": "stdout",
     "output_type": "stream",
     "text": [
      "park 010-1234-1234\n"
     ]
    }
   ],
   "source": [
    "print(m.group(0))"
   ]
  },
  {
   "cell_type": "markdown",
   "metadata": {},
   "source": [
    "* group(1) : 두 번째 괄호 - 이름"
   ]
  },
  {
   "cell_type": "code",
   "execution_count": 15,
   "metadata": {},
   "outputs": [
    {
     "name": "stdout",
     "output_type": "stream",
     "text": [
      "park\n"
     ]
    }
   ],
   "source": [
    "print(m.group(1))"
   ]
  },
  {
   "cell_type": "markdown",
   "metadata": {},
   "source": [
    "* group(2) : 세 번째 괄호 - 전화번호"
   ]
  },
  {
   "cell_type": "code",
   "execution_count": 16,
   "metadata": {},
   "outputs": [
    {
     "name": "stdout",
     "output_type": "stream",
     "text": [
      "010-1234-1234\n"
     ]
    }
   ],
   "source": [
    "print(m.group(2))"
   ]
  },
  {
   "cell_type": "code",
   "execution_count": 18,
   "metadata": {},
   "outputs": [
    {
     "ename": "SyntaxError",
     "evalue": "invalid syntax (<ipython-input-18-63f00e81876f>, line 1)",
     "output_type": "error",
     "traceback": [
      "\u001b[1;36m  File \u001b[1;32m\"<ipython-input-18-63f00e81876f>\"\u001b[1;36m, line \u001b[1;32m1\u001b[0m\n\u001b[1;33m    * group(3) : 네 번째 괄호 - 앞번호\u001b[0m\n\u001b[1;37m                   ^\u001b[0m\n\u001b[1;31mSyntaxError\u001b[0m\u001b[1;31m:\u001b[0m invalid syntax\n"
     ]
    }
   ],
   "source": [
    "* group(3) : 네 번째 괄호 - 앞번호"
   ]
  },
  {
   "cell_type": "code",
   "execution_count": 13,
   "metadata": {},
   "outputs": [
    {
     "name": "stdout",
     "output_type": "stream",
     "text": [
      "010\n"
     ]
    }
   ],
   "source": [
    "print(m.group(3))"
   ]
  },
  {
   "cell_type": "markdown",
   "metadata": {},
   "source": [
    "### 재참조\n",
    "\n",
    "- \\1\n",
    "    - 첫 번째 그룹(group(0))과 동일한 문자열을 재참조\n",
    "\n",
    "- \\2\n",
    "    - 두 번째 그룹(group(0))과 동일한 문자열을 재참조"
   ]
  },
  {
   "cell_type": "code",
   "execution_count": 23,
   "metadata": {},
   "outputs": [
    {
     "data": {
      "text/plain": [
       "'the the'"
      ]
     },
     "execution_count": 23,
     "metadata": {},
     "output_type": "execute_result"
    }
   ],
   "source": [
    "p = re.compile(r'(\\b\\w+)\\s+\\1')    # \\1은 (\\b\\w)와 같은 의미\n",
    "p.search('Paris in the the spring').group()"
   ]
  },
  {
   "cell_type": "code",
   "execution_count": 24,
   "metadata": {},
   "outputs": [],
   "source": [
    "m = p.search('Paris in the the spring')"
   ]
  },
  {
   "cell_type": "code",
   "execution_count": 25,
   "metadata": {},
   "outputs": [
    {
     "data": {
      "text/plain": [
       "'the the'"
      ]
     },
     "execution_count": 25,
     "metadata": {},
     "output_type": "execute_result"
    }
   ],
   "source": [
    "m.group(0)"
   ]
  },
  {
   "cell_type": "code",
   "execution_count": 26,
   "metadata": {},
   "outputs": [
    {
     "data": {
      "text/plain": [
       "'the'"
      ]
     },
     "execution_count": 26,
     "metadata": {},
     "output_type": "execute_result"
    }
   ],
   "source": [
    "m.group(1)"
   ]
  },
  {
   "cell_type": "markdown",
   "metadata": {},
   "source": [
    "### 그루핑에 이름 붙이기\n",
    "\n",
    "    * (\\w+) --> (?P<name>\\w+)"
   ]
  },
  {
   "cell_type": "code",
   "execution_count": 20,
   "metadata": {},
   "outputs": [
    {
     "name": "stdout",
     "output_type": "stream",
     "text": [
      "park\n"
     ]
    }
   ],
   "source": [
    "p = re.compile(r\"(?P<name>\\w+)\\s+((\\d+)[-]\\d+[-]\\d+)\")\n",
    "m = p.search(\"park 010-1234-1234\")\n",
    "print(m.group(\"name\"))"
   ]
  },
  {
   "cell_type": "code",
   "execution_count": 21,
   "metadata": {},
   "outputs": [
    {
     "name": "stdout",
     "output_type": "stream",
     "text": [
      "park 010-1234-1234\n"
     ]
    }
   ],
   "source": [
    "print(m.group(0))"
   ]
  },
  {
   "cell_type": "code",
   "execution_count": 22,
   "metadata": {},
   "outputs": [
    {
     "name": "stdout",
     "output_type": "stream",
     "text": [
      "park\n"
     ]
    }
   ],
   "source": [
    "print(m.group(1))"
   ]
  },
  {
   "cell_type": "code",
   "execution_count": 28,
   "metadata": {},
   "outputs": [
    {
     "data": {
      "text/plain": [
       "'the the'"
      ]
     },
     "execution_count": 28,
     "metadata": {},
     "output_type": "execute_result"
    }
   ],
   "source": [
    "p = re.compile(r'(\\b\\w+)\\s+\\1')\n",
    "p.search('Paris in the the spring').group()\n",
    "'the the'"
   ]
  },
  {
   "cell_type": "markdown",
   "metadata": {},
   "source": [
    "### 전방 탐색(Lookahead Assertions)\n",
    "\n",
    "    * 긍정형 전방 탐색((?=...)) \n",
    "        - ... 에 해당되는 정규식과 매치되어야 하며 조건이 통과되어도 문자열이 소비되지 않는다.\n",
    "    * 부정형 전방 탐색((?!...)) \n",
    "        - ...에 해당되는 정규식과 매치되지 않아야 하며 조건이 통과되어도 문자열이 소비되지 않는다."
   ]
  },
  {
   "cell_type": "code",
   "execution_count": 29,
   "metadata": {},
   "outputs": [
    {
     "name": "stdout",
     "output_type": "stream",
     "text": [
      "http\n"
     ]
    }
   ],
   "source": [
    "p = re.compile(\".+(?=:)\")\n",
    "m = p.search(\"http://google.com\")\n",
    "print(m.group())"
   ]
  },
  {
   "cell_type": "markdown",
   "metadata": {},
   "source": [
    " * 확장자 매칭\n",
    "    \n",
    "        * .*[.].*$"
   ]
  },
  {
   "cell_type": "markdown",
   "metadata": {},
   "source": [
    "### 부정형 전방 탐색"
   ]
  },
  {
   "cell_type": "markdown",
   "metadata": {},
   "source": [
    " * .bat이 아닌 확장자 매칭"
   ]
  },
  {
   "cell_type": "code",
   "execution_count": 41,
   "metadata": {},
   "outputs": [
    {
     "data": {
      "text/plain": [
       "re.compile(r'.*[.](?!bat$).*$', re.UNICODE)"
      ]
     },
     "execution_count": 41,
     "metadata": {},
     "output_type": "execute_result"
    }
   ],
   "source": [
    "import re\n",
    "\n",
    "re.compile(\".*[.](?!bat$).*$\")\n",
    "\n",
    "\n",
    "# $   뒤에서 부터 \n",
    "# .*  아무문자 0개 이상 가져오는데\n",
    "# [.](?!bat$) .뒤 맨 뒤가 bat이면 안됨"
   ]
  },
  {
   "cell_type": "markdown",
   "metadata": {},
   "source": [
    " * .bat 또는 exe가  아닌 확장자 매칭"
   ]
  },
  {
   "cell_type": "code",
   "execution_count": 42,
   "metadata": {},
   "outputs": [
    {
     "data": {
      "text/plain": [
       "re.compile(r'.*[.](?!bat$|exe$).*$', re.UNICODE)"
      ]
     },
     "execution_count": 42,
     "metadata": {},
     "output_type": "execute_result"
    }
   ],
   "source": [
    "re.compile(\".*[.](?!bat$|exe$).*$\")"
   ]
  },
  {
   "cell_type": "markdown",
   "metadata": {},
   "source": [
    "## 문자열 바꾸기(sub())\n",
    "\n",
    "    * sub('바꿀 문자열', '')\n",
    "    * subn : sub과 동일하지만, 결과를 튜플로 반환\n",
    "    * 그룹 참조 시 : \\g<그룹이름> 사용"
   ]
  },
  {
   "cell_type": "code",
   "execution_count": 43,
   "metadata": {},
   "outputs": [
    {
     "data": {
      "text/plain": [
       "'colour socks and colour shoes'"
      ]
     },
     "execution_count": 43,
     "metadata": {},
     "output_type": "execute_result"
    }
   ],
   "source": [
    "import re\n",
    "\n",
    "p = re.compile('(blue|white|red)')\n",
    "\n",
    "p.sub('colour', 'blue socks and red shoes')"
   ]
  },
  {
   "cell_type": "markdown",
   "metadata": {},
   "source": [
    "* 그룹 참조 시 : \\g<그룹이름> 사용"
   ]
  },
  {
   "cell_type": "code",
   "execution_count": 44,
   "metadata": {},
   "outputs": [
    {
     "name": "stdout",
     "output_type": "stream",
     "text": [
      "010-1234-1234 park\n"
     ]
    }
   ],
   "source": [
    "p = re.compile(r\"(?P<name>\\w+)\\s+(?P<phone>(\\d+)[-]\\d+[-]\\d+)\")\n",
    "\n",
    "print(p.sub(\"\\g<phone> \\g<name>\", \"park 010-1234-1234\"))"
   ]
  },
  {
   "cell_type": "markdown",
   "metadata": {},
   "source": [
    " * 그룹 번호 사용"
   ]
  },
  {
   "cell_type": "code",
   "execution_count": 45,
   "metadata": {},
   "outputs": [
    {
     "name": "stdout",
     "output_type": "stream",
     "text": [
      "010-1234-1234 park\n"
     ]
    }
   ],
   "source": [
    "p = re.compile(r\"(?P<name>\\w+)\\s+(?P<phone>(\\d+)[-]\\d+[-]\\d+)\")\n",
    "\n",
    "print(p.sub(\"\\g<2> \\g<1>\", \"park 010-1234-1234\"))"
   ]
  },
  {
   "cell_type": "code",
   "execution_count": 47,
   "metadata": {},
   "outputs": [
    {
     "data": {
      "text/plain": [
       "'010-1234-1234 park'"
      ]
     },
     "execution_count": 47,
     "metadata": {},
     "output_type": "execute_result"
    }
   ],
   "source": [
    "p.sub(\"\\g<2> \\g<1>\", \"park 010-1234-1234\")"
   ]
  },
  {
   "cell_type": "markdown",
   "metadata": {},
   "source": [
    "### sub 매개변수로 함수 사용하기\n",
    "\n",
    "    * sub 메서드의 첫 번째 매개변수로 함수를 넣을 수도 있다.\n",
    "    * 아래에서 hexrepl 함수는 match 객체(위에서 숫자에 매치되는)를 입력으로 받아\n",
    "      16진수로 변환하여 돌려주는 함수\n",
    "    *  sub의 첫 번째 매개변수로 함수를 사용할 경우 \n",
    "      해당 함수의 첫 번째 매개변수에는 정규식과 매치된 match 객체가 입력된다.\n",
    "    * 그리고 매치되는 문자열은 함수의 반환 값으로 바뀌게 된다."
   ]
  },
  {
   "cell_type": "code",
   "execution_count": 48,
   "metadata": {},
   "outputs": [
    {
     "data": {
      "text/plain": [
       "'Call 0xffd2 for printing, 0xc000 for user code.'"
      ]
     },
     "execution_count": 48,
     "metadata": {},
     "output_type": "execute_result"
    }
   ],
   "source": [
    "def hexrepl(match):\n",
    "    value = int(match.group())\n",
    "    return hex(value)\n",
    "\n",
    "p = re.compile(r'\\d+')\n",
    "p.sub(hexrepl, 'Call 65490 for printing, 49152 for user code.')"
   ]
  },
  {
   "cell_type": "markdown",
   "metadata": {},
   "source": [
    "# Greedy vs Non-Greedy\n",
    "\n",
    "    * 정규식에서 *는 Greedy하다(탐욕스럽다). 아래 예시 참조"
   ]
  },
  {
   "cell_type": "code",
   "execution_count": 49,
   "metadata": {},
   "outputs": [
    {
     "data": {
      "text/plain": [
       "32"
      ]
     },
     "execution_count": 49,
     "metadata": {},
     "output_type": "execute_result"
    }
   ],
   "source": [
    "s = '<html><head><title>Title</title>'\n",
    "len(s)"
   ]
  },
  {
   "cell_type": "code",
   "execution_count": 50,
   "metadata": {},
   "outputs": [
    {
     "name": "stdout",
     "output_type": "stream",
     "text": [
      "(0, 32)\n"
     ]
    }
   ],
   "source": [
    "print(re.match('<.*>', s).span())"
   ]
  },
  {
   "cell_type": "code",
   "execution_count": 51,
   "metadata": {},
   "outputs": [
    {
     "name": "stdout",
     "output_type": "stream",
     "text": [
      "<html><head><title>Title</title>\n"
     ]
    }
   ],
   "source": [
    "print(re.match('<.*>', s).group())"
   ]
  },
  {
   "cell_type": "markdown",
   "metadata": {},
   "source": [
    " => 결과를 보면 <html>이 아니라 .*이 가질수 있는 최대한으로 매칭이됨"
   ]
  },
  {
   "cell_type": "markdown",
   "metadata": {},
   "source": [
    " * 위 현상을 Non-Greedy 문자 ?를 사용하면 막을 수 있음"
   ]
  },
  {
   "cell_type": "code",
   "execution_count": 52,
   "metadata": {},
   "outputs": [
    {
     "name": "stdout",
     "output_type": "stream",
     "text": [
      "<html>\n"
     ]
    }
   ],
   "source": [
    "print(re.match('<.*?>', s).group())"
   ]
  },
  {
   "cell_type": "markdown",
   "metadata": {},
   "source": [
    "# 문자열 아스키 변환"
   ]
  },
  {
   "cell_type": "code",
   "execution_count": 54,
   "metadata": {},
   "outputs": [
    {
     "data": {
      "text/plain": [
       "'A'"
      ]
     },
     "execution_count": 54,
     "metadata": {},
     "output_type": "execute_result"
    }
   ],
   "source": [
    "chr(65)"
   ]
  },
  {
   "cell_type": "code",
   "execution_count": 57,
   "metadata": {},
   "outputs": [
    {
     "data": {
      "text/plain": [
       "90"
      ]
     },
     "execution_count": 57,
     "metadata": {},
     "output_type": "execute_result"
    }
   ],
   "source": [
    "ord('Z')"
   ]
  },
  {
   "cell_type": "code",
   "execution_count": 56,
   "metadata": {},
   "outputs": [
    {
     "data": {
      "text/plain": [
       "'a'"
      ]
     },
     "execution_count": 56,
     "metadata": {},
     "output_type": "execute_result"
    }
   ],
   "source": [
    "chr(97)"
   ]
  },
  {
   "cell_type": "code",
   "execution_count": 58,
   "metadata": {},
   "outputs": [
    {
     "data": {
      "text/plain": [
       "122"
      ]
     },
     "execution_count": 58,
     "metadata": {},
     "output_type": "execute_result"
    }
   ],
   "source": [
    "ord('z')"
   ]
  }
 ],
 "metadata": {
  "kernelspec": {
   "display_name": "Python 3",
   "language": "python",
   "name": "python3"
  },
  "language_info": {
   "codemirror_mode": {
    "name": "ipython",
    "version": 3
   },
   "file_extension": ".py",
   "mimetype": "text/x-python",
   "name": "python",
   "nbconvert_exporter": "python",
   "pygments_lexer": "ipython3",
   "version": "3.8.5"
  }
 },
 "nbformat": 4,
 "nbformat_minor": 4
}
