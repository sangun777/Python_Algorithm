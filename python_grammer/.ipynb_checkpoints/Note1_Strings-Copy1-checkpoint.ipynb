{
 "cells": [
  {
   "cell_type": "markdown",
   "metadata": {},
   "source": [
    "# 문자열(Strings)"
   ]
  },
  {
   "cell_type": "markdown",
   "metadata": {},
   "source": [
    "## 내용 정리 목차\n",
    "* !입력 => 입출력 정리 노트 참조\n",
    "* !출력\n",
    "    * 이스케이프 문자\n",
    "    * 원시문자열\n",
    "    * 여러줄 출력\n",
    "* !연산\n",
    "    * +, *\n",
    "    * 인덱싱, 슬라이스\n",
    "    * !값 추가\n",
    "        * append()\n",
    "        * 슬라이스 + 값 추가 + 슬라이스\n",
    "        * 공백추가+정렬 : ljust, rjust, center\n",
    "        * 영추가 : zfill()\n",
    "    * !값 제거\n",
    "        * remove(), pop()\n",
    "        * 슬라이스 + 값 제거 + 슬라이스\n",
    "    * !값 위치 확인/검색\n",
    "        * count()\n",
    "        * find(), index()\n",
    "        * startswith\n",
    "        * endswith\n",
    "    * !값 변경\n",
    "        * replace()\n",
    "        * re.sub()\n",
    "* !기본 함수\n",
    "* !형 변환\n",
    "    * 숫자형(아스키)\n",
    "    * Boolean\n",
    "    * 리스트로 변경\n",
    "        * .split()\n",
    "            \n",
    "* !정규표현식 => 노트 따로 뺄까? 말까?\n",
    "    *re.sub"
   ]
  },
  {
   "cell_type": "markdown",
   "metadata": {},
   "source": [
    "## !출력 관련"
   ]
  },
  {
   "cell_type": "markdown",
   "metadata": {},
   "source": [
    "### 이스케이프 문자(\\\\, \\', \\\", \\n, \\T)\n",
    "    - \\(백슬래시), \", '(큰, 작은따옴표)들은 문자열 기호('')안에서 앞에 백슬래시 한번 더 써줘야함\n",
    "    - 띄어쓰기 문자 : \\n(줄바꿈), \\t(탭)"
   ]
  },
  {
   "cell_type": "code",
   "execution_count": 8,
   "metadata": {},
   "outputs": [
    {
     "name": "stdout",
     "output_type": "stream",
     "text": [
      "백 슬래시 :  \\\n",
      "작은 따옴표 :  '\n",
      "큰 따옴표 :  \"\n",
      "줄바꿈(=line feed) \n",
      " 줄바꿈\n",
      "탭 \t 탭\n"
     ]
    }
   ],
   "source": [
    "# \\(백슬래시), \", '(큰, 작은따옴표)들은 문자열 기호('')안에서 앞에 백슬래시 한번 더 써줘야함\n",
    "print(\"백 슬래시 : \", '\\\\')\n",
    "print(\"작은 따옴표 : \", '\\'')\n",
    "print(\"큰 따옴표 : \",'\\\"')\n",
    "\n",
    "# 띄어쓰기 문자\n",
    "print(\"줄바꿈(=line feed) \\n 줄바꿈\")\n",
    "print(\"탭 \\t 탭\")"
   ]
  },
  {
   "cell_type": "markdown",
   "metadata": {},
   "source": [
    "### 원시 문자열(raw string)\n",
    "    * 문자열 작은 따옴표 앞에 r을 붙여서 표기\n",
    "    * 이스케이프 문자등의 기능을 안쓰고 그대로 표기하기 원할 때 사용\n",
    "    \n",
    "    * !! 원시 문자열 표기시, 마지막에 백슬래시(\\)를 홀수 개 쓸 경우, 에러남!!(백준 10171 고양이 문제)\n",
    "    * 이거는 따로 +'\\\\' 하던지 하자"
   ]
  },
  {
   "cell_type": "code",
   "execution_count": 9,
   "metadata": {},
   "outputs": [
    {
     "name": "stdout",
     "output_type": "stream",
     "text": [
      "Please don't touch it\n",
      "Please don\\'t touch it\n"
     ]
    }
   ],
   "source": [
    "print('Please don\\'t touch it')\n",
    "print(r'Please don\\'t touch it')"
   ]
  },
  {
   "cell_type": "markdown",
   "metadata": {},
   "source": [
    "* 에러 상황(마지막 백슬래시)"
   ]
  },
  {
   "cell_type": "code",
   "execution_count": 21,
   "metadata": {},
   "outputs": [
    {
     "ename": "SyntaxError",
     "evalue": "EOL while scanning string literal (<ipython-input-21-fcaef753b6d5>, line 1)",
     "output_type": "error",
     "traceback": [
      "\u001b[1;36m  File \u001b[1;32m\"<ipython-input-21-fcaef753b6d5>\"\u001b[1;36m, line \u001b[1;32m1\u001b[0m\n\u001b[1;33m    print(r'Please don\\'t touch it\\')\u001b[0m\n\u001b[1;37m                                     ^\u001b[0m\n\u001b[1;31mSyntaxError\u001b[0m\u001b[1;31m:\u001b[0m EOL while scanning string literal\n"
     ]
    }
   ],
   "source": [
    "print(r'Please don\\'t touch it\\')"
   ]
  },
  {
   "cell_type": "markdown",
   "metadata": {},
   "source": [
    " * 해결 방안( + ' \\\\\\\\ ')"
   ]
  },
  {
   "cell_type": "code",
   "execution_count": 27,
   "metadata": {},
   "outputs": [
    {
     "name": "stdout",
     "output_type": "stream",
     "text": [
      "Please don\\'t touch it\\\n"
     ]
    }
   ],
   "source": [
    "print(r'Please don\\'t touch it'+'\\\\')"
   ]
  },
  {
   "cell_type": "markdown",
   "metadata": {},
   "source": [
    "* SyntaxError: EOL while scanning string literal\n",
    "    - 프로그램 구문이 잘못 쓰였을 때 발생\n",
    "    - 주로 따옴표, 괄호 등 제대로 여닫지 않았을 때 발생\n",
    "    - 철자 틀릴 경우도 발생?"
   ]
  },
  {
   "cell_type": "code",
   "execution_count": 22,
   "metadata": {},
   "outputs": [
    {
     "name": "stdout",
     "output_type": "stream",
     "text": [
      "Please don\\'t touch it\\\\\n"
     ]
    }
   ],
   "source": [
    "print(r'Please don\\'t touch it\\\\')"
   ]
  },
  {
   "cell_type": "code",
   "execution_count": 23,
   "metadata": {},
   "outputs": [
    {
     "ename": "SyntaxError",
     "evalue": "EOL while scanning string literal (<ipython-input-23-3ca2b3955a4b>, line 1)",
     "output_type": "error",
     "traceback": [
      "\u001b[1;36m  File \u001b[1;32m\"<ipython-input-23-3ca2b3955a4b>\"\u001b[1;36m, line \u001b[1;32m1\u001b[0m\n\u001b[1;33m    print(r'Please don\\'t touch it\\\\\\')\u001b[0m\n\u001b[1;37m                                       ^\u001b[0m\n\u001b[1;31mSyntaxError\u001b[0m\u001b[1;31m:\u001b[0m EOL while scanning string literal\n"
     ]
    }
   ],
   "source": [
    "print(r'Please don\\'t touch it\\\\\\')"
   ]
  },
  {
   "cell_type": "code",
   "execution_count": 24,
   "metadata": {},
   "outputs": [
    {
     "name": "stdout",
     "output_type": "stream",
     "text": [
      "Please don\\'t touch it\\\\\\\\\n"
     ]
    }
   ],
   "source": [
    "print(r'Please don\\'t touch it\\\\\\\\')"
   ]
  },
  {
   "cell_type": "markdown",
   "metadata": {},
   "source": [
    "### 여러줄로 출력\n",
    "    - \"\"\" 사용\n",
    "    - 코드상 표현 뿐만아니라 출력도 여러줄로 됨"
   ]
  },
  {
   "cell_type": "code",
   "execution_count": 53,
   "metadata": {},
   "outputs": [
    {
     "name": "stdout",
     "output_type": "stream",
     "text": [
      " asdfgjkl\n",
      "sdklfsdklfjl\n",
      " asdfgjkl\n",
      "    sdklfsdklfjl\n"
     ]
    }
   ],
   "source": [
    "print(\"\"\" asdfgjkl\n",
    "sdklfsdklfjl\"\"\")\n",
    "\n",
    "print(\"\"\" asdfgjkl\n",
    "    sdklfsdklfjl\"\"\")"
   ]
  },
  {
   "cell_type": "markdown",
   "metadata": {},
   "source": [
    "## !연산or함수 관련"
   ]
  },
  {
   "cell_type": "markdown",
   "metadata": {},
   "source": [
    "* 기본 연산"
   ]
  },
  {
   "cell_type": "code",
   "execution_count": 54,
   "metadata": {},
   "outputs": [
    {
     "data": {
      "text/plain": [
       "'student'"
      ]
     },
     "execution_count": 54,
     "metadata": {},
     "output_type": "execute_result"
    }
   ],
   "source": [
    "'stu' + 'dent'"
   ]
  },
  {
   "cell_type": "code",
   "execution_count": 55,
   "metadata": {},
   "outputs": [
    {
     "data": {
      "text/plain": [
       "'ststst'"
      ]
     },
     "execution_count": 55,
     "metadata": {},
     "output_type": "execute_result"
    }
   ],
   "source": [
    "'st'*3"
   ]
  },
  {
   "cell_type": "markdown",
   "metadata": {},
   "source": [
    " * !인덱싱"
   ]
  },
  {
   "cell_type": "code",
   "execution_count": 58,
   "metadata": {},
   "outputs": [
    {
     "name": "stdout",
     "output_type": "stream",
     "text": [
      "h\n",
      "o\n",
      "o\n",
      "h\n"
     ]
    }
   ],
   "source": [
    "word = \"hello\"\n",
    "\n",
    "print(word[0])    # 처음\n",
    "print(word[4])    # 끝\n",
    "\n",
    "print(word[-1])   # 끝\n",
    "print(word[-5])   #처음"
   ]
  },
  {
   "cell_type": "markdown",
   "metadata": {},
   "source": [
    "* !슬라이스"
   ]
  },
  {
   "cell_type": "code",
   "execution_count": 61,
   "metadata": {},
   "outputs": [
    {
     "name": "stdout",
     "output_type": "stream",
     "text": [
      "hel\n",
      "hel\n",
      "hel\n",
      "hel\n"
     ]
    }
   ],
   "source": [
    "word = \"hello\"\n",
    "\n",
    "print(word[0:3])    # 양수\n",
    "print(word[-5:-2])  # 음수\n",
    "print(word[-5:3])   # 혼합\n",
    "print(word[0:-2])   # 혼합"
   ]
  },
  {
   "cell_type": "markdown",
   "metadata": {},
   "source": [
    "### 값 확인\n",
    "   \n",
    "- isupper() : 문자열이 모두 대문자로 되어있으면, True, 아니면 False로 반환\n",
    "- islower() : 문자열이 모두 소문자로 되어있으면, True, 아니면 False로 반환\n",
    "- istitle() : 문자열의 첫글자만 대문자로 되어있으면, True, 아니면 False로 반환\n",
    "- isalpha() : 문자열이 모두  알파벳으로 되어있으면, True, 아니면 False로 반환\n",
    "- isalnum(): 문자열이 모두 알파벳 문자와 숫자로만 되어 있으면 True, 그렇지 않으면 False를 반환\n",
    "- isdecimal(): 문자열이 모두 숫자로만 되어 있으면 True, 그렇지 않으면 False를 반환"
   ]
  },
  {
   "cell_type": "markdown",
   "metadata": {},
   "source": [
    "### 특정문자(or 공백문자(\\n, \\t 포함)) 제거\n",
    "    - strip() : 양 끝 공백 제거\n",
    "    - lstrip() : 왼쪽 끝 공백 제거\n",
    "    - rstrip('지울문자') : 오른쪽 끝 '지울문자' 제거\n",
    "    "
   ]
  },
  {
   "cell_type": "code",
   "execution_count": 30,
   "metadata": {},
   "outputs": [
    {
     "name": "stdout",
     "output_type": "stream",
     "text": [
      "[      Strip white spaces.      ]\n",
      "--------------------------\n",
      "[Strip white spaces.]\n",
      "--------------------------\n",
      "[Strip white spaces.      ]\n",
      "--------------------------\n",
      "[      Strip white spaces.]\n"
     ]
    }
   ],
   "source": [
    "txt = \"      Strip white spaces.      \"\n",
    "print('[{}]'.format(txt))\n",
    "print('--------------------------')\n",
    "\n",
    "#- 양쪽 공백 제거 : strip()\n",
    "print('[{}]'.format(txt.strip()))\n",
    "print('--------------------------')\n",
    "\n",
    "#- 왼쪽 공백 제거 : lstrip()\n",
    "print('[{}]'.format(txt.lstrip()))\n",
    "print('--------------------------')\n",
    "\n",
    "#- 오른쪽 공백 제거 : rstrip()\n",
    "print('[{}]'.format(txt.rstrip()))"
   ]
  },
  {
   "cell_type": "code",
   "execution_count": 31,
   "metadata": {},
   "outputs": [
    {
     "data": {
      "text/plain": [
       "', python'"
      ]
     },
     "execution_count": 31,
     "metadata": {},
     "output_type": "execute_result"
    }
   ],
   "source": [
    "', python.'.rstrip(',.')"
   ]
  },
  {
   "cell_type": "code",
   "execution_count": 32,
   "metadata": {},
   "outputs": [
    {
     "data": {
      "text/plain": [
       "' python.'"
      ]
     },
     "execution_count": 32,
     "metadata": {},
     "output_type": "execute_result"
    }
   ],
   "source": [
    "', python.'.lstrip(',.')"
   ]
  },
  {
   "cell_type": "code",
   "execution_count": 33,
   "metadata": {},
   "outputs": [
    {
     "data": {
      "text/plain": [
       "' python'"
      ]
     },
     "execution_count": 33,
     "metadata": {},
     "output_type": "execute_result"
    }
   ],
   "source": [
    "', python.'.strip(',.')"
   ]
  },
  {
   "cell_type": "code",
   "execution_count": 34,
   "metadata": {},
   "outputs": [
    {
     "data": {
      "text/plain": [
       "'thon'"
      ]
     },
     "execution_count": 34,
     "metadata": {},
     "output_type": "execute_result"
    }
   ],
   "source": [
    "'python'.strip(\"py\")"
   ]
  },
  {
   "cell_type": "markdown",
   "metadata": {},
   "source": [
    "### 비슷하게 생긴 함수 .split()\n",
    "    - 공백 기준으로 쪼개서 리스트로 형 변환"
   ]
  },
  {
   "cell_type": "code",
   "execution_count": 66,
   "metadata": {},
   "outputs": [
    {
     "data": {
      "text/plain": [
       "['my', 'name', 'is', 'sangun']"
      ]
     },
     "execution_count": 66,
     "metadata": {},
     "output_type": "execute_result"
    }
   ],
   "source": [
    "'my name is sangun'.split()"
   ]
  },
  {
   "cell_type": "markdown",
   "metadata": {},
   "source": [
    "### 모든 특수문자 삭제하기\n",
    "\n",
    "    * string.punctuation 이용"
   ]
  },
  {
   "cell_type": "code",
   "execution_count": 37,
   "metadata": {},
   "outputs": [
    {
     "data": {
      "text/plain": [
       "'!\"#$%&\\'()*+,-./:;<=>?@[\\\\]^_`{|}~'"
      ]
     },
     "execution_count": 37,
     "metadata": {},
     "output_type": "execute_result"
    }
   ],
   "source": [
    "import string\n",
    "\n",
    "string.punctuation"
   ]
  },
  {
   "cell_type": "code",
   "execution_count": 38,
   "metadata": {},
   "outputs": [
    {
     "data": {
      "text/plain": [
       "' python'"
      ]
     },
     "execution_count": 38,
     "metadata": {},
     "output_type": "execute_result"
    }
   ],
   "source": [
    "', python.!@#'.strip(string.punctuation)"
   ]
  },
  {
   "cell_type": "markdown",
   "metadata": {},
   "source": [
    " * 공백도 포함해서 삭제"
   ]
  },
  {
   "cell_type": "code",
   "execution_count": 39,
   "metadata": {},
   "outputs": [
    {
     "data": {
      "text/plain": [
       "'python'"
      ]
     },
     "execution_count": 39,
     "metadata": {},
     "output_type": "execute_result"
    }
   ],
   "source": [
    "', python.!@#'.strip(string.punctuation + ' ')"
   ]
  },
  {
   "cell_type": "markdown",
   "metadata": {},
   "source": [
    "### 정렬 + 공백 생성\n",
    "    - ljust(숫자) : 숫자 만큼 칸을 만들고 왼쪽 정렬(오른쪽 남은 칸은 공백)\n",
    "    - rjust(숫자) : 숫자 만큼 칸을 만들고 오른쪽 정렬(왼쪽 남은 칸은 공백)\n",
    "    - center(숫자) : 숫자 만큼 칸을 만들고 가운데 정렬(남은 칸은 공백, 홀수개면 왼쪽이 공백 1개 더 많음)\n",
    "    "
   ]
  },
  {
   "cell_type": "code",
   "execution_count": 40,
   "metadata": {},
   "outputs": [
    {
     "data": {
      "text/plain": [
       "'python    '"
      ]
     },
     "execution_count": 40,
     "metadata": {},
     "output_type": "execute_result"
    }
   ],
   "source": [
    "# 문자열을 10칸으로 만들고 왼쪽 정렬\n",
    "'python'.ljust(10)"
   ]
  },
  {
   "cell_type": "code",
   "execution_count": 41,
   "metadata": {},
   "outputs": [
    {
     "data": {
      "text/plain": [
       "'    python'"
      ]
     },
     "execution_count": 41,
     "metadata": {},
     "output_type": "execute_result"
    }
   ],
   "source": [
    "# 문자열을 10칸으로 만들고 오른쪽 정렬\n",
    "'python'.rjust(10)"
   ]
  },
  {
   "cell_type": "code",
   "execution_count": 42,
   "metadata": {},
   "outputs": [
    {
     "data": {
      "text/plain": [
       "'  python '"
      ]
     },
     "execution_count": 42,
     "metadata": {},
     "output_type": "execute_result"
    }
   ],
   "source": [
    "# 문자열을 9칸으로 만들고 가운데 정렬\n",
    "# 왼쪽 공백이 1개 더 많음\n",
    "'python'.center(9)"
   ]
  },
  {
   "cell_type": "markdown",
   "metadata": {},
   "source": [
    "### 역순 정렬\n",
    "    * 슬라이스 인덱스 이용"
   ]
  },
  {
   "cell_type": "code",
   "execution_count": 63,
   "metadata": {},
   "outputs": [
    {
     "name": "stdout",
     "output_type": "stream",
     "text": [
      "edcba\n"
     ]
    }
   ],
   "source": [
    "s = 'abcde'\n",
    "print(s[::-1])  # 'edcba'"
   ]
  },
  {
   "cell_type": "markdown",
   "metadata": {},
   "source": [
    "### 역순 정렬2\n",
    "    - reverse()함수 이용\n",
    "        - a = a.reverse() 처럼 쓰지 않아도 원본을 변경하는 함수임\n",
    "    - reverse() 함수는 문자열에서는 못쓰고, 리스트형을 지원하므로, 리스트로 바꿔서 적용하고, 다시 문자열로 변환"
   ]
  },
  {
   "cell_type": "code",
   "execution_count": 67,
   "metadata": {},
   "outputs": [
    {
     "name": "stdout",
     "output_type": "stream",
     "text": [
      "edcba\n"
     ]
    }
   ],
   "source": [
    "# 한번에 쓰기\n",
    "s = 'abcde'\n",
    "print(''.join(reversed(s)))  # 'edcba'"
   ]
  },
  {
   "cell_type": "code",
   "execution_count": 68,
   "metadata": {},
   "outputs": [],
   "source": [
    "# 풀어서 쓰기"
   ]
  },
  {
   "cell_type": "code",
   "execution_count": 45,
   "metadata": {},
   "outputs": [
    {
     "ename": "AttributeError",
     "evalue": "'str' object has no attribute 'reverse'",
     "output_type": "error",
     "traceback": [
      "\u001b[1;31m---------------------------------------------------------------------------\u001b[0m",
      "\u001b[1;31mAttributeError\u001b[0m                            Traceback (most recent call last)",
      "\u001b[1;32m<ipython-input-45-a7281273c3bc>\u001b[0m in \u001b[0;36m<module>\u001b[1;34m\u001b[0m\n\u001b[0;32m      1\u001b[0m \u001b[1;31m# 그냥 쓰면 에러난다!\u001b[0m\u001b[1;33m\u001b[0m\u001b[1;33m\u001b[0m\u001b[1;33m\u001b[0m\u001b[0m\n\u001b[0;32m      2\u001b[0m \u001b[0ma\u001b[0m \u001b[1;33m=\u001b[0m \u001b[1;34m'abcde'\u001b[0m\u001b[1;33m\u001b[0m\u001b[1;33m\u001b[0m\u001b[0m\n\u001b[1;32m----> 3\u001b[1;33m \u001b[0ma\u001b[0m\u001b[1;33m.\u001b[0m\u001b[0mreverse\u001b[0m\u001b[1;33m(\u001b[0m\u001b[1;33m)\u001b[0m\u001b[1;33m\u001b[0m\u001b[1;33m\u001b[0m\u001b[0m\n\u001b[0m",
      "\u001b[1;31mAttributeError\u001b[0m: 'str' object has no attribute 'reverse'"
     ]
    }
   ],
   "source": [
    "# 그냥 쓰면 에러난다!\n",
    "a = 'abcde'\n",
    "a.reverse()"
   ]
  },
  {
   "cell_type": "markdown",
   "metadata": {},
   "source": [
    " * 문자열 -> 리스트 변환"
   ]
  },
  {
   "cell_type": "code",
   "execution_count": 56,
   "metadata": {},
   "outputs": [
    {
     "data": {
      "text/plain": [
       "['a', 'b', 'c', 'd', 'e']"
      ]
     },
     "execution_count": 56,
     "metadata": {},
     "output_type": "execute_result"
    }
   ],
   "source": [
    "# 리스트 변환 후, reverse()사용한 후, 재 변환\n",
    "\n",
    "a_list = list(a)\n",
    "a_list"
   ]
  },
  {
   "cell_type": "code",
   "execution_count": 59,
   "metadata": {},
   "outputs": [
    {
     "data": {
      "text/plain": [
       "['e', 'd', 'c', 'b', 'a']"
      ]
     },
     "execution_count": 59,
     "metadata": {},
     "output_type": "execute_result"
    }
   ],
   "source": [
    "a_list.reverse()\n",
    "a_list   # 원본 변경됨 주의(2번 쓰면 원상복구됨)"
   ]
  },
  {
   "cell_type": "markdown",
   "metadata": {},
   "source": [
    "* 리스트 -> 문자열 변환"
   ]
  },
  {
   "cell_type": "code",
   "execution_count": 62,
   "metadata": {},
   "outputs": [
    {
     "data": {
      "text/plain": [
       "'edcba'"
      ]
     },
     "execution_count": 62,
     "metadata": {},
     "output_type": "execute_result"
    }
   ],
   "source": [
    "''.join(a_list)"
   ]
  },
  {
   "cell_type": "code",
   "execution_count": null,
   "metadata": {},
   "outputs": [],
   "source": []
  },
  {
   "cell_type": "markdown",
   "metadata": {},
   "source": [
    "## 값 !변경 중요!!"
   ]
  },
  {
   "cell_type": "markdown",
   "metadata": {},
   "source": [
    "* 값 추가/제거\n",
    "    * 중간에 값을 추가/제거하려면 슬라이스이용  \n",
    "        * 슬라이스[시작:중간] + 값 추가/제거 + 슬라이스[중간:끝]"
   ]
  },
  {
   "cell_type": "markdown",
   "metadata": {},
   "source": [
    "* 값 변경(문자열 안에 a문자를 b문자로)\n",
    "    * __replace() 함수__ 이용 => 모두 바꾸기 기능임\n",
    "    * 바꿀 항목이 중복해서 여러개일 떄? 한개만 바꾸는 방법은?  \n",
    "        replace(a, b, count) : 로 가능하지만, 좌측부터 순서대로 정해진 갯수만큼만 바꿀수 있음\n",
    "    * 문자 1:1 매칭으로 변경 => translate()      \n",
    "  \n",
    "  \n",
    "    * 인덱스 사용해서 바꿀수는 없을까?  \n",
    "        => 파이썬 특성상 한번에 바꾸는 것은 안됨  \n",
    "        => 해당 인덱스 기준으로 슬라이스[시작:인덱스]+바꿀애+슬라이스[인덱스:끝]"
   ]
  },
  {
   "cell_type": "code",
   "execution_count": 63,
   "metadata": {},
   "outputs": [
    {
     "name": "stdout",
     "output_type": "stream",
     "text": [
      "I can do it, I made it\n",
      "You can do it, You made it\n",
      "I can do it, I made it\n"
     ]
    }
   ],
   "source": [
    "sent = \"I can do it, I made it\"\n",
    "print(sent)\n",
    "print(sent.replace('I', \"You\"))\n",
    "print(sent)"
   ]
  },
  {
   "cell_type": "code",
   "execution_count": 65,
   "metadata": {},
   "outputs": [
    {
     "name": "stdout",
     "output_type": "stream",
     "text": [
      "결과 :\n",
      "123456789999\n",
      "123456,789,999\n",
      "123456789,999\n",
      "123456789999\n"
     ]
    }
   ],
   "source": [
    "text = '123,456,789,999'\n",
    "\n",
    "replaceAll= text.replace(\",\",\"\")\n",
    "replace_t1 = text.replace(\",\", \"\",1)\n",
    "replace_t2 = text.replace(\",\", \"\",2)\n",
    "replace_t3 = text.replace(\",\", \"\",3)\n",
    "\n",
    "print(\"결과 :\")\n",
    "print(replaceAll)\n",
    "print(replace_t1)\n",
    "print(replace_t2)\n",
    "print(replace_t3)"
   ]
  },
  {
   "cell_type": "markdown",
   "metadata": {},
   "source": [
    "### 오른쪽 부터 바꾸는 replaceRight 함수 만들기"
   ]
  },
  {
   "cell_type": "code",
   "execution_count": 99,
   "metadata": {},
   "outputs": [],
   "source": [
    "def replaceRight(original, old, new, count_right):\n",
    "    repeat = 0    # 바꿀 횟수\n",
    "    text = original\n",
    "    old_len = len(old)\n",
    "    \n",
    "    count_find = original.count(old) ## 바꿀 부분이 몇 개 있는지 확인\n",
    "    if count_right > count_find:\n",
    "        repeat = count_find\n",
    "    else:\n",
    "        repeat = count_right\n",
    "\n",
    "    while(repeat):\n",
    "        find_index = text.rfind(old)    # 오른쪽의 바꿀 인덱스 확인\n",
    "        text = text[:find_index] + new + text[find_index+old_len:]\n",
    "        repeat -= 1\n",
    "    return text    "
   ]
  },
  {
   "cell_type": "code",
   "execution_count": 102,
   "metadata": {},
   "outputs": [
    {
     "name": "stdout",
     "output_type": "stream",
     "text": [
      "123,456,789,999\n",
      "123,456,789999\n",
      "123,456789999\n",
      "123456789999\n"
     ]
    }
   ],
   "source": [
    "text = '123,456,789,999'\n",
    "\n",
    "print(replaceRight(text, \",\", \"\", 0))\n",
    "print(replaceRight(text, \",\", \"\", 1))\n",
    "print(replaceRight(text, \",\", \"\", 2))\n",
    "print(replaceRight(text, \",\", \"\", 3))"
   ]
  },
  {
   "cell_type": "code",
   "execution_count": 85,
   "metadata": {},
   "outputs": [],
   "source": [
    "while(0):\n",
    "    print(\"hello\")\n",
    "    "
   ]
  },
  {
   "cell_type": "markdown",
   "metadata": {},
   "source": [
    "### * 문자 1:1 매칭으로 변경 => translate()  \n",
    "    ex) a => 1, e => 2, i => 3"
   ]
  },
  {
   "cell_type": "code",
   "execution_count": 66,
   "metadata": {},
   "outputs": [
    {
     "data": {
      "text/plain": [
       "'1ppl2'"
      ]
     },
     "execution_count": 66,
     "metadata": {},
     "output_type": "execute_result"
    }
   ],
   "source": [
    "# 문자 1:1 매칭으로 변경 => translate()\n",
    "\n",
    "# 먼저 변환테이블 생성\n",
    "trans_table = str.maketrans('aeiou', '12345')\n",
    "\n",
    "\n",
    "'apple'.translate(trans_table)"
   ]
  },
  {
   "cell_type": "code",
   "execution_count": 68,
   "metadata": {},
   "outputs": [
    {
     "data": {
      "text/plain": [
       "'1ppl2'"
      ]
     },
     "execution_count": 68,
     "metadata": {},
     "output_type": "execute_result"
    }
   ],
   "source": [
    "x = 'apple'\n",
    "\n",
    "t_table = str.maketrans('aeiou', '12345')\n",
    "\n",
    "x.translate(t_table)"
   ]
  },
  {
   "cell_type": "code",
   "execution_count": 69,
   "metadata": {},
   "outputs": [
    {
     "data": {
      "text/plain": [
       "'1pple'"
      ]
     },
     "execution_count": 69,
     "metadata": {},
     "output_type": "execute_result"
    }
   ],
   "source": [
    "a = 'apple'\n",
    "\n",
    "tt = str.maketrans('abc', '123')\n",
    "\n",
    "a.translate(tt)"
   ]
  },
  {
   "cell_type": "markdown",
   "metadata": {},
   "source": [
    "## 문자열 검색"
   ]
  },
  {
   "cell_type": "markdown",
   "metadata": {},
   "source": [
    "### 문자 검색/찾기\n",
    "\n",
    "    * startswith : 특정 문자로 시작하는 문자열 찾음\n",
    "        문자열 변수명.startswith(\"찾는문자\") => T/F 반환\n",
    "    * endswith : 특정 문자로 끝하는 문자열 찾음\n",
    "        * 주로 파일명 확장자 검색에서 많이 쓰임"
   ]
  },
  {
   "cell_type": "code",
   "execution_count": 5,
   "metadata": {},
   "outputs": [
    {
     "name": "stdout",
     "output_type": "stream",
     "text": [
      "True\n",
      "False\n"
     ]
    }
   ],
   "source": [
    "# startswith 예시\n",
    "\n",
    "a = \"Hello\"\n",
    "print(a.startswith(\"He\"))\n",
    "print(a.startswith(\"Hw\"))"
   ]
  },
  {
   "cell_type": "code",
   "execution_count": 4,
   "metadata": {},
   "outputs": [
    {
     "name": "stdout",
     "output_type": "stream",
     "text": [
      "['OB94382', 'OB32308', 'OB83461', 'OB74830', 'OB82345']\n",
      "['OW34723', 'OW37402', 'OW11235']\n"
     ]
    }
   ],
   "source": [
    "EmployeeID = ['OB94382', 'OW34723', 'OB32308', 'OB83461', 'OB74830', 'OW37402', 'OW11235', 'OB82345']\n",
    "\n",
    "# 'OB'로 시작하는 요소만 찾아 리스트업\n",
    "OB_list = [OB for OB in EmployeeID if OB.startswith('OB')]\n",
    "\n",
    "# 'OW'로 시작하는 요소만 찾아 리스트업\n",
    "OW_list = [OW for OW in EmployeeID if OW.startswith('OW')]\n",
    "\n",
    "print(OB_list)\n",
    "print(OW_list)"
   ]
  },
  {
   "cell_type": "code",
   "execution_count": null,
   "metadata": {},
   "outputs": [],
   "source": []
  },
  {
   "cell_type": "code",
   "execution_count": null,
   "metadata": {},
   "outputs": [],
   "source": []
  },
  {
   "cell_type": "markdown",
   "metadata": {},
   "source": [
    "### 문자열에서 특정 문자 인덱스 찾기\n",
    "    \n",
    "    * find('찾을 문자열') : 왼쪽부터 찾아서 찾은 문자의 시작하는 인덱스를 반환\n",
    "    * rfind('찾을 문자열') : 오른쪽부터 찾아서 찾은 문자의 (왼쪽부터) 시작하는 인덱스를 반환\n",
    "    * 찾는 문자열이 없으면 -1 반환\n",
    "    * index(), rindex() 도 동일한 기능이나 이 함수들은 찾는 문자열이 없으면 에러 발생시킴"
   ]
  },
  {
   "cell_type": "code",
   "execution_count": 1,
   "metadata": {},
   "outputs": [
    {
     "data": {
      "text/plain": [
       "2"
      ]
     },
     "execution_count": 1,
     "metadata": {},
     "output_type": "execute_result"
    }
   ],
   "source": [
    "# 'pl'이 2개 있는데 왼쪽부터 처음찾은 문자열의 인덱스를 반환\n",
    "'apple pineapple mellon'.find('pl')"
   ]
  },
  {
   "cell_type": "code",
   "execution_count": 71,
   "metadata": {},
   "outputs": [
    {
     "data": {
      "text/plain": [
       "2"
      ]
     },
     "execution_count": 71,
     "metadata": {},
     "output_type": "execute_result"
    }
   ],
   "source": [
    "a = 'apple pineapple melon'\n",
    "\n",
    "a.find('pl')"
   ]
  },
  {
   "cell_type": "code",
   "execution_count": 72,
   "metadata": {},
   "outputs": [
    {
     "data": {
      "text/plain": [
       "12"
      ]
     },
     "execution_count": 72,
     "metadata": {},
     "output_type": "execute_result"
    }
   ],
   "source": [
    "a.rfind('pl')"
   ]
  },
  {
   "cell_type": "code",
   "execution_count": 73,
   "metadata": {},
   "outputs": [
    {
     "data": {
      "text/plain": [
       "-1"
      ]
     },
     "execution_count": 73,
     "metadata": {},
     "output_type": "execute_result"
    }
   ],
   "source": [
    "a.find('x')"
   ]
  },
  {
   "cell_type": "code",
   "execution_count": 74,
   "metadata": {},
   "outputs": [
    {
     "ename": "ValueError",
     "evalue": "substring not found",
     "output_type": "error",
     "traceback": [
      "\u001b[1;31m---------------------------------------------------------------------------\u001b[0m",
      "\u001b[1;31mValueError\u001b[0m                                Traceback (most recent call last)",
      "\u001b[1;32m<ipython-input-74-51f0d5bb66b2>\u001b[0m in \u001b[0;36m<module>\u001b[1;34m\u001b[0m\n\u001b[1;32m----> 1\u001b[1;33m \u001b[0ma\u001b[0m\u001b[1;33m.\u001b[0m\u001b[0mindex\u001b[0m\u001b[1;33m(\u001b[0m\u001b[1;34m'x'\u001b[0m\u001b[1;33m)\u001b[0m\u001b[1;33m\u001b[0m\u001b[1;33m\u001b[0m\u001b[0m\n\u001b[0m",
      "\u001b[1;31mValueError\u001b[0m: substring not found"
     ]
    }
   ],
   "source": [
    "a.index('x')"
   ]
  },
  {
   "cell_type": "markdown",
   "metadata": {},
   "source": [
    "### * 뒤집기(reversed 함수)\n",
    "     - 해당 변수를 reversed class로 만듬\n",
    "     - for문으로 출력 가능\n",
    "     - 리스트도 사용 가능"
   ]
  },
  {
   "cell_type": "code",
   "execution_count": 46,
   "metadata": {},
   "outputs": [
    {
     "name": "stdout",
     "output_type": "stream",
     "text": [
      "<reversed object at 0x0000020C5F0565E0>\n",
      "<class 'reversed'>\n"
     ]
    }
   ],
   "source": [
    "x = \"hello\"\n",
    "\n",
    "print(reversed(x))\n",
    "print(type(reversed(x)))"
   ]
  },
  {
   "cell_type": "code",
   "execution_count": 48,
   "metadata": {},
   "outputs": [
    {
     "name": "stdout",
     "output_type": "stream",
     "text": [
      "olleh"
     ]
    }
   ],
   "source": [
    "for i in reversed(x):\n",
    "    print(i, end='')"
   ]
  },
  {
   "cell_type": "code",
   "execution_count": 1,
   "metadata": {},
   "outputs": [
    {
     "data": {
      "text/plain": [
       "2"
      ]
     },
     "execution_count": 1,
     "metadata": {},
     "output_type": "execute_result"
    }
   ],
   "source": [
    "# 'pl'이 2개 있는데 왼쪽부터 처음찾은 문자열의 인덱스를 반환\n",
    "'apple pineapple mellon'.find('pl')"
   ]
  },
  {
   "cell_type": "markdown",
   "metadata": {},
   "source": [
    "### 문자열 갯수 세기 : count()"
   ]
  },
  {
   "cell_type": "code",
   "execution_count": 75,
   "metadata": {},
   "outputs": [
    {
     "data": {
      "text/plain": [
       "3"
      ]
     },
     "execution_count": 75,
     "metadata": {},
     "output_type": "execute_result"
    }
   ],
   "source": [
    "'apple pine'.count('p')"
   ]
  },
  {
   "cell_type": "markdown",
   "metadata": {},
   "source": [
    "!형변환"
   ]
  }
 ],
 "metadata": {
  "kernelspec": {
   "display_name": "Python 3",
   "language": "python",
   "name": "python3"
  },
  "language_info": {
   "codemirror_mode": {
    "name": "ipython",
    "version": 3
   },
   "file_extension": ".py",
   "mimetype": "text/x-python",
   "name": "python",
   "nbconvert_exporter": "python",
   "pygments_lexer": "ipython3",
   "version": "3.8.5"
  }
 },
 "nbformat": 4,
 "nbformat_minor": 5
}
