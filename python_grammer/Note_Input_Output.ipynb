{
 "cells": [
  {
   "cell_type": "markdown",
   "metadata": {},
   "source": [
    "# 입력, 출력"
   ]
  },
  {
   "cell_type": "markdown",
   "metadata": {},
   "source": [
    "## 내용 정리 목차\n",
    "\n",
    "* 입력 관련\n",
    "    * STDIN\n",
    "    \n",
    "* 출력 관련\n",
    "    * STDOUT\n",
    "    * 변수 출력\n",
    "        * % 사용\n",
    "        * .format 사용"
   ]
  },
  {
   "cell_type": "markdown",
   "metadata": {},
   "source": [
    "# 입력(input)"
   ]
  },
  {
   "cell_type": "markdown",
   "metadata": {},
   "source": [
    " * input(\"~\")\n",
    "     - ~를 출력하고, \n",
    "     - 키보드로 부터 입력을 받음(입력 값은 str type)\n",
    "     - 정수로 입력 받기 : int(input())"
   ]
  },
  {
   "cell_type": "code",
   "execution_count": 4,
   "metadata": {},
   "outputs": [
    {
     "name": "stdout",
     "output_type": "stream",
     "text": [
      "숫자를 입력하세요2\n",
      "입력한 숫자는 :  2\n"
     ]
    }
   ],
   "source": [
    "s = input(\"숫자를 입력하세요\")\n",
    "print(\"입력한 숫자는 : \", s)"
   ]
  },
  {
   "cell_type": "code",
   "execution_count": 12,
   "metadata": {
    "collapsed": true
   },
   "outputs": [
    {
     "ename": "NameError",
     "evalue": "name 's' is not defined",
     "output_type": "error",
     "traceback": [
      "\u001b[1;31m---------------------------------------------------------------------------\u001b[0m",
      "\u001b[1;31mNameError\u001b[0m                                 Traceback (most recent call last)",
      "\u001b[1;32m<ipython-input-12-8608dadf3785>\u001b[0m in \u001b[0;36m<module>\u001b[1;34m\u001b[0m\n\u001b[1;32m----> 1\u001b[1;33m \u001b[0mtype\u001b[0m\u001b[1;33m(\u001b[0m\u001b[0ms\u001b[0m\u001b[1;33m)\u001b[0m\u001b[1;33m\u001b[0m\u001b[1;33m\u001b[0m\u001b[0m\n\u001b[0m",
      "\u001b[1;31mNameError\u001b[0m: name 's' is not defined"
     ]
    }
   ],
   "source": [
    "type(s)"
   ]
  },
  {
   "cell_type": "markdown",
   "metadata": {},
   "source": [
    "## 표준 입력!!\n",
    "\n",
    "\n",
    "     * !!! 충격 주피터 노트북은 sys.stdin을 지원하지 않음 ㅠㅠ\n",
    "         * https://blog.naver.com/luvwithcat/222200084036\n",
    "         \n",
    "     * 코딩 테스트에서 입력값을 여러줄을 받아야 할 때,\n",
    "         * input()과 반복문으로 입력 받으면 시간초과가 발생가능\n",
    "         \n",
    "     * 카카오에서는 아예 표준 입출력하라고 명시까지 해놨음\n",
    "     \n",
    "     * sys 라이브러리를 사용할 때에는 한줄 입력 받은 후 꼭 rstrip() 함수를 호출한다.\n",
    "         * readline()으로 입력하면, 입력 후 엔터가 줄바꿈 기호(\\n)로 입력되는데, 이 공백문자를 제거하기 위함."
   ]
  },
  {
   "cell_type": "code",
   "execution_count": 11,
   "metadata": {},
   "outputs": [
    {
     "name": "stdout",
     "output_type": "stream",
     "text": [
      "\n"
     ]
    }
   ],
   "source": [
    "from sys import stdin\n",
    "\n",
    "# a = input()과 기능은 동일\n",
    "a = stdin.readline().rstrip()\n",
    "\n",
    "print(a)"
   ]
  },
  {
   "cell_type": "markdown",
   "metadata": {},
   "source": [
    "### 여러 값을 동시에 입력해서 리스트로 받기\n",
    "\n",
    "    * input().split() 사용\n",
    "    * 값 구분은 띄어쓰기로 함\n",
    "    * 각 값은 문자열 형태로 들어감"
   ]
  },
  {
   "cell_type": "code",
   "execution_count": 28,
   "metadata": {},
   "outputs": [
    {
     "name": "stdout",
     "output_type": "stream",
     "text": [
      "10 20 30 40\n"
     ]
    },
    {
     "data": {
      "text/plain": [
       "['10', '20', '30', '40']"
      ]
     },
     "execution_count": 28,
     "metadata": {},
     "output_type": "execute_result"
    }
   ],
   "source": [
    "a = input().split()\n",
    "a"
   ]
  },
  {
   "cell_type": "code",
   "execution_count": 29,
   "metadata": {},
   "outputs": [
    {
     "data": {
      "text/plain": [
       "list"
      ]
     },
     "execution_count": 29,
     "metadata": {},
     "output_type": "execute_result"
    }
   ],
   "source": [
    "type(a)"
   ]
  },
  {
   "cell_type": "markdown",
   "metadata": {},
   "source": [
    " * int 형으로 변환해서 받기(map 함수 이용)"
   ]
  },
  {
   "cell_type": "code",
   "execution_count": 33,
   "metadata": {},
   "outputs": [
    {
     "name": "stdout",
     "output_type": "stream",
     "text": [
      "10 20 30 40\n",
      "[10, 20, 30, 40]\n",
      "<class 'list'>\n"
     ]
    }
   ],
   "source": [
    "a = list(map(int, input().split()))\n",
    "print(a)\n",
    "print(type(a))"
   ]
  },
  {
   "cell_type": "markdown",
   "metadata": {},
   "source": [
    "# !출력(문자)"
   ]
  },
  {
   "cell_type": "markdown",
   "metadata": {},
   "source": [
    "* 여러 줄 한번에 출력하기"
   ]
  },
  {
   "cell_type": "code",
   "execution_count": 8,
   "metadata": {},
   "outputs": [
    {
     "name": "stdout",
     "output_type": "stream",
     "text": [
      "동해물과\n",
      "백두산이\n",
      "마르고 \n",
      "닳도록\n"
     ]
    }
   ],
   "source": [
    "print(\"\"\"동해물과\n",
    "백두산이\n",
    "마르고 \n",
    "닳도록\"\"\")"
   ]
  },
  {
   "cell_type": "markdown",
   "metadata": {},
   "source": [
    "### 이스케이프 문자 출력"
   ]
  },
  {
   "cell_type": "markdown",
   "metadata": {},
   "source": [
    " * 따옴표('), 큰 따옴표(\") 포함 출력하기\n",
    "     1. 서로 다른 기호로 감쌈\n",
    "     2. \\\\ (백슬래시) 이용"
   ]
  },
  {
   "cell_type": "code",
   "execution_count": 3,
   "metadata": {},
   "outputs": [
    {
     "name": "stdout",
     "output_type": "stream",
     "text": [
      " ' \n",
      " \" \n"
     ]
    }
   ],
   "source": [
    "print(\" ' \")\n",
    "print(' \" ')"
   ]
  },
  {
   "cell_type": "code",
   "execution_count": 9,
   "metadata": {},
   "outputs": [
    {
     "name": "stdout",
     "output_type": "stream",
     "text": [
      "가나다라'마바사\"아자차\n"
     ]
    }
   ],
   "source": [
    "print(\"가나다라\\'마바사\\\"아자차\")"
   ]
  },
  {
   "cell_type": "markdown",
   "metadata": {},
   "source": [
    "### !이스케이프 문자(\\\\, \\', \\\", \\n, \\T)"
   ]
  },
  {
   "cell_type": "code",
   "execution_count": 10,
   "metadata": {},
   "outputs": [
    {
     "name": "stdout",
     "output_type": "stream",
     "text": [
      "백 슬래시 :  \\\n",
      "작은 따옴표 :  '\n",
      "큰 따옴표 :  \"\n",
      "줄바꿈(=line feed) \n",
      " 줄바꿈\n",
      "탭 \t 탭\n"
     ]
    }
   ],
   "source": [
    "print(\"백 슬래시 : \", '\\\\')\n",
    "print(\"작은 따옴표 : \", '\\'')\n",
    "print(\"큰 따옴표 : \",'\\\"')\n",
    "print(\"줄바꿈(=line feed) \\n 줄바꿈\")\n",
    "print(\"탭 \\t 탭\")"
   ]
  },
  {
   "cell_type": "markdown",
   "metadata": {},
   "source": [
    "### 원시 문자열(raw string)\n",
    "    * 문자열 작은 따옴표 앞에 r을 붙여서 표기\n",
    "    * 이스케이프 문자등의 기능을 안쓰고 그대로 표기하기 원할 때 사용\n",
    "    \n",
    "    * !! 원시 문자열 표기시, 마지막에 백슬래시(\\)를 홀수 개 쓸 경우, 에러남!!(백준 10171 고양이 문제)\n",
    "    * 이거는 따로 +'\\\\' 하던지 하자"
   ]
  },
  {
   "cell_type": "code",
   "execution_count": 11,
   "metadata": {},
   "outputs": [
    {
     "name": "stdout",
     "output_type": "stream",
     "text": [
      "Please don't touch it\n",
      "Please don\\'t touch it\n"
     ]
    }
   ],
   "source": [
    "print('Please don\\'t touch it')\n",
    "print(r'Please don\\'t touch it')"
   ]
  },
  {
   "cell_type": "markdown",
   "metadata": {},
   "source": [
    "* 에러 상황(마지막 백슬래시)"
   ]
  },
  {
   "cell_type": "code",
   "execution_count": 1,
   "metadata": {},
   "outputs": [
    {
     "ename": "SyntaxError",
     "evalue": "EOL while scanning string literal (<ipython-input-1-fcaef753b6d5>, line 1)",
     "output_type": "error",
     "traceback": [
      "\u001b[1;36m  File \u001b[1;32m\"<ipython-input-1-fcaef753b6d5>\"\u001b[1;36m, line \u001b[1;32m1\u001b[0m\n\u001b[1;33m    print(r'Please don\\'t touch it\\')\u001b[0m\n\u001b[1;37m                                     ^\u001b[0m\n\u001b[1;31mSyntaxError\u001b[0m\u001b[1;31m:\u001b[0m EOL while scanning string literal\n"
     ]
    }
   ],
   "source": [
    "print(r'Please don\\'t touch it\\')"
   ]
  },
  {
   "cell_type": "markdown",
   "metadata": {},
   "source": [
    " * 해결 방안( + ' \\\\\\\\ ')"
   ]
  },
  {
   "cell_type": "code",
   "execution_count": 2,
   "metadata": {},
   "outputs": [
    {
     "name": "stdout",
     "output_type": "stream",
     "text": [
      "Please don\\'t touch it\\\n"
     ]
    }
   ],
   "source": [
    "print(r'Please don\\'t touch it'+'\\\\')"
   ]
  },
  {
   "cell_type": "markdown",
   "metadata": {},
   "source": [
    "* SyntaxError: EOL while scanning string literal\n",
    "    - 프로그램 구문이 잘못 쓰였을 때 발생\n",
    "    - 주로 따옴표, 괄호 등 제대로 여닫지 않았을 때 발생\n",
    "    - 철자 틀릴 경우도 발생?"
   ]
  },
  {
   "cell_type": "code",
   "execution_count": null,
   "metadata": {},
   "outputs": [],
   "source": []
  },
  {
   "cell_type": "markdown",
   "metadata": {},
   "source": [
    "### 문자열에 변수 넣기1 - % 이용\n",
    "    * \"%s\" % 변수명 으로 숫자든 문자든 문자열안으로 넣을 수 있음"
   ]
  },
  {
   "cell_type": "code",
   "execution_count": 29,
   "metadata": {},
   "outputs": [
    {
     "name": "stdout",
     "output_type": "stream",
     "text": [
      "가격은 10000원 입니다.\n"
     ]
    }
   ],
   "source": [
    "price = 10000\n",
    "print(\"가격은 %s원 입니다.\" % price)\n",
    "# , 없고 % 만 있음에 주의"
   ]
  },
  {
   "cell_type": "code",
   "execution_count": 30,
   "metadata": {},
   "outputs": [
    {
     "name": "stdout",
     "output_type": "stream",
     "text": [
      "가격은 만원 입니다.\n"
     ]
    }
   ],
   "source": [
    "price = \"만\"\n",
    "print(\"가격은 %s원 입니다.\" % price)\n"
   ]
  },
  {
   "cell_type": "code",
   "execution_count": 32,
   "metadata": {},
   "outputs": [
    {
     "name": "stdout",
     "output_type": "stream",
     "text": [
      "3월 1일 입니다.\n"
     ]
    }
   ],
   "source": [
    "msg = \"%s월 %s일 입니다.\"\n",
    "print(msg % (3, 1))"
   ]
  },
  {
   "cell_type": "markdown",
   "metadata": {},
   "source": [
    "### 문자열에 변수 넣기2 - .format 이용\n",
    "    - \"{}\".format(넣을 문자열)으로 변수 내용을 문자열안으로 넣을 수 있음\n",
    "    - 변수 순서 지정 가능"
   ]
  },
  {
   "cell_type": "code",
   "execution_count": 3,
   "metadata": {},
   "outputs": [
    {
     "name": "stdout",
     "output_type": "stream",
     "text": [
      "[      Strip white spaces.      ]\n"
     ]
    }
   ],
   "source": [
    "txt = \"      Strip white spaces.      \"\n",
    "print('[{}]'.format(txt))"
   ]
  },
  {
   "cell_type": "code",
   "execution_count": null,
   "metadata": {},
   "outputs": [],
   "source": []
  },
  {
   "cell_type": "markdown",
   "metadata": {},
   "source": [
    "### 여러 값 출력, 사이 값 출력(sep)"
   ]
  },
  {
   "cell_type": "code",
   "execution_count": 38,
   "metadata": {},
   "outputs": [
    {
     "name": "stdout",
     "output_type": "stream",
     "text": [
      "1 2 3\n",
      "1g2g3\n"
     ]
    }
   ],
   "source": [
    "print(1,2,3)\n",
    "print(1,2,3, sep = 'g')"
   ]
  },
  {
   "cell_type": "markdown",
   "metadata": {},
   "source": [
    " * 줄바꿈 출력"
   ]
  },
  {
   "cell_type": "code",
   "execution_count": 39,
   "metadata": {},
   "outputs": [
    {
     "name": "stdout",
     "output_type": "stream",
     "text": [
      "1\n",
      "2\n",
      "3\n"
     ]
    }
   ],
   "source": [
    "print(1,2,3, sep = '\\n')"
   ]
  },
  {
   "cell_type": "code",
   "execution_count": 41,
   "metadata": {},
   "outputs": [
    {
     "name": "stdout",
     "output_type": "stream",
     "text": [
      "1\n",
      "2\n",
      "3\n"
     ]
    }
   ],
   "source": [
    "print(\"1\\n2\\n3\")"
   ]
  },
  {
   "cell_type": "code",
   "execution_count": 42,
   "metadata": {},
   "outputs": [
    {
     "name": "stdout",
     "output_type": "stream",
     "text": [
      "1\\n2\\n3\n"
     ]
    }
   ],
   "source": [
    "print(r\"1\\n2\\n3\")"
   ]
  },
  {
   "cell_type": "markdown",
   "metadata": {},
   "source": [
    "# 파일!\n",
    "\n",
    "    * open으로 파일 객체 만들고, 사용하고(읽거나쓰거나), 닫아줌\n",
    "    * 항상 마지막에 close()를 해주어야함\n",
    "        - with open() as 파일 객체명 : 파일 사용 후 자동으로 닫아줌\n",
    "          (close 따로 안해도 됨)\n",
    "          \n",
    "    * 파일 객체는 이터레이터다. "
   ]
  },
  {
   "cell_type": "markdown",
   "metadata": {},
   "source": [
    "## 파일 생성\n",
    "\n",
    "파일 생성하고, 문자열 입력하기\n",
    "   * 파일 객체명 = open(파일이름, 파일모드)\n",
    "   * 파일 객체명.write('문자열')\n",
    "   * 파일 객체명.close()\n",
    "   \n",
    "   * 파일모드\n",
    "       * r : 읽기\n",
    "       * w : 쓰기\n",
    "       * a : 추가(파일 끝에 새로운 내용 추가)\n",
    "       * x : 배타적 생성(exclusive creation)\n",
    "           => 파일이 이미 있으면, 에러 발생, 없으면 생성\n",
    "           \n",
    "       * 뒤에 t 붙으면 : 텍스트모드(rt, wt 등)\n",
    "       * 뒤에 b 붙으면 : 바이너리 모드(객체 저장 시, 사용)"
   ]
  },
  {
   "cell_type": "code",
   "execution_count": 137,
   "metadata": {},
   "outputs": [],
   "source": [
    "file = open('hello.txt', 'w')    # hello.txt 파일을 쓰기 모드(w)로 열기. 파일 객체 반환\n",
    "file.write('Hello, world!')      # 파일에 문자열 저장\n",
    "file.close()   "
   ]
  },
  {
   "cell_type": "markdown",
   "metadata": {},
   "source": [
    "## 파일 읽기"
   ]
  },
  {
   "cell_type": "code",
   "execution_count": 138,
   "metadata": {},
   "outputs": [
    {
     "name": "stdout",
     "output_type": "stream",
     "text": [
      "Hello, world!\n"
     ]
    }
   ],
   "source": [
    "file = open('hello.txt', 'r')    # hello.txt 파일을 읽기 모드(r)로 열기. 파일 객체 반환\n",
    "s = file.read()                  # 파일에서 문자열 읽기\n",
    "print(s)                         # Hello, world!\n",
    "\n",
    "file.close()                     # 파일 객체 닫기"
   ]
  },
  {
   "cell_type": "code",
   "execution_count": 139,
   "metadata": {},
   "outputs": [
    {
     "name": "stdout",
     "output_type": "stream",
     "text": [
      "Hello, world!\n"
     ]
    }
   ],
   "source": [
    "# close() 대신 with open 사용\n",
    "\n",
    "with open('hello.txt', 'r') as file:    # hello.txt 파일을 읽기 모드(r)로 열기\n",
    "    s = file.read()                     # 파일에서 문자열 읽기\n",
    "    print(s)  "
   ]
  },
  {
   "cell_type": "markdown",
   "metadata": {},
   "source": [
    "### 파일에 문자열 여러줄 쓰기"
   ]
  },
  {
   "cell_type": "code",
   "execution_count": 140,
   "metadata": {},
   "outputs": [],
   "source": [
    "with open('hello.txt', 'w') as file:    # hello.txt 파일을 쓰기 모드(w)로 열기\n",
    "    for i in range(3):\n",
    "        file.write('Hello, world! {0}\\n'.format(i))"
   ]
  },
  {
   "cell_type": "code",
   "execution_count": 144,
   "metadata": {},
   "outputs": [
    {
     "name": "stdout",
     "output_type": "stream",
     "text": [
      "Hello, world! 0\n",
      "Hello, world! 1\n",
      "Hello, world! 2\n",
      "\n"
     ]
    }
   ],
   "source": [
    "# 파일 읽기\n",
    "with open('hello.txt', 'r') as aa:\n",
    "    s = aa.read()\n",
    "    print(s)"
   ]
  },
  {
   "cell_type": "markdown",
   "metadata": {},
   "source": [
    "### 리스트에 있는 문자열을 파일에 쓰기(writelines)"
   ]
  },
  {
   "cell_type": "code",
   "execution_count": 145,
   "metadata": {},
   "outputs": [],
   "source": [
    "lines = ['안녕하세요.\\n', '파이썬\\n', '코딩 도장입니다.\\n']\n",
    "\n",
    "with open('hello.txt', 'w') as file:\n",
    "    file.writelines(lines)"
   ]
  },
  {
   "cell_type": "code",
   "execution_count": 146,
   "metadata": {},
   "outputs": [
    {
     "name": "stdout",
     "output_type": "stream",
     "text": [
      "안녕하세요.\n",
      "파이썬\n",
      "코딩 도장입니다.\n",
      "\n"
     ]
    }
   ],
   "source": [
    "# 파일 읽기\n",
    "with open('hello.txt', 'r') as aa:\n",
    "    s = aa.read()\n",
    "    print(s)"
   ]
  },
  {
   "cell_type": "markdown",
   "metadata": {},
   "source": [
    "### 파일 내용을 한줄씩 리스트 요소로 가져오기(readlines)"
   ]
  },
  {
   "cell_type": "code",
   "execution_count": 147,
   "metadata": {},
   "outputs": [
    {
     "name": "stdout",
     "output_type": "stream",
     "text": [
      "['안녕하세요.\\n', '파이썬\\n', '코딩 도장입니다.\\n']\n"
     ]
    }
   ],
   "source": [
    "with open('hello.txt', 'r') as file:\n",
    "    s = file.readlines()\n",
    "    print(s)"
   ]
  },
  {
   "cell_type": "markdown",
   "metadata": {},
   "source": [
    "### 파일 내용에서 한줄씩 순차적으로 가져오기(readline 또는 for문)\n",
    "\n",
    "    * 위에 readlines와 다름(s가 없음) 주의!!"
   ]
  },
  {
   "cell_type": "code",
   "execution_count": 148,
   "metadata": {},
   "outputs": [
    {
     "name": "stdout",
     "output_type": "stream",
     "text": [
      "안녕하세요.\n",
      "파이썬\n",
      "코딩 도장입니다.\n",
      "\n"
     ]
    }
   ],
   "source": [
    "with open('hello.txt', 'r') as file:    # hello.txt 파일을 읽기 모드(r)로 열기\n",
    "    line = None    # 변수 line을 None으로 초기화\n",
    "    \n",
    "    while line != '':\n",
    "        line = file.readline()\n",
    "        print(line.strip('\\n'))    # 파일에서 읽어온 문자열에서 \\n 삭제하여 출력"
   ]
  },
  {
   "cell_type": "code",
   "execution_count": 149,
   "metadata": {},
   "outputs": [
    {
     "name": "stdout",
     "output_type": "stream",
     "text": [
      "안녕하세요.\n",
      "파이썬\n",
      "코딩 도장입니다.\n"
     ]
    }
   ],
   "source": [
    "# 방법2 for문 이용\n",
    "with open('hello.txt', 'r') as file:    # hello.txt 파일을 읽기 모드(r)로 열기\n",
    "    for line in file:    # for에 파일 객체를 지정하면 파일의 내용을 한 줄씩 읽어서 변수에 저장함\n",
    "        print(line.strip('\\n'))    # 파일에서 읽어온 문자열에서 \\n 삭제하여 출력"
   ]
  },
  {
   "cell_type": "markdown",
   "metadata": {},
   "source": [
    "## 객체를 파일로 저장(피클!)\n",
    "\n",
    "    * 파이썬 객체를 파일에 저장하는 과정을 피클링(pickling)이라고 하고, \n",
    "    * 파일에서 객체를 읽어오는 과정을 언피클링(unpickling)이라고 합니다."
   ]
  },
  {
   "cell_type": "markdown",
   "metadata": {},
   "source": [
    " ### 피클링 : 객체를 파일로 저장\n",
    " * 피클링은 pickle 모듈의 dump 메서드를 사용\n",
    " * pickle.dump로 객체(값)를 저장할 때는   \n",
    "   open('james.p', 'wb')와 같이 파일 모드를 'wb'로 지정해야 합니다.\n",
    " * 여기서는 확장자를 pickle의 p를 사용했지만 다른 확장자를 사용해도 상관없습니다."
   ]
  },
  {
   "cell_type": "code",
   "execution_count": 152,
   "metadata": {},
   "outputs": [],
   "source": [
    "import pickle\n",
    "\n",
    "name = 'james'\n",
    "age = 17\n",
    "address = '서울시 서초구 반포동'\n",
    "scores = {'korean': 90, 'english': 95, 'mathematics': 85, 'science': 82}\n",
    "\n",
    "with open('james.p', 'wb') as file:    # james.p 파일을 바이너리 쓰기 모드(wb)로 열기\n",
    "    pickle.dump(name, file)\n",
    "    pickle.dump(age, file)\n",
    "    pickle.dump(address, file)\n",
    "    pickle.dump(scores, file)"
   ]
  },
  {
   "cell_type": "markdown",
   "metadata": {},
   "source": [
    "### 언피클링 : 피클링 파일로 부터 객체 읽어오기\n",
    "    \n",
    "    * pickle.load() 사용\n",
    "    * 모드는 'rb'사용\n",
    "    "
   ]
  },
  {
   "cell_type": "code",
   "execution_count": 153,
   "metadata": {},
   "outputs": [
    {
     "name": "stdout",
     "output_type": "stream",
     "text": [
      "james\n",
      "17\n",
      "서울시 서초구 반포동\n",
      "{'korean': 90, 'english': 95, 'mathematics': 85, 'science': 82}\n"
     ]
    }
   ],
   "source": [
    "import pickle\n",
    "\n",
    "with open('james.p', 'rb') as file:\n",
    "    name = pickle.load(file)\n",
    "    age = pickle.load(file)\n",
    "    address = pickle.load(file)\n",
    "    scores = pickle.load(file)\n",
    "    print(name)\n",
    "    print(age)\n",
    "    print(address)\n",
    "    print(scores)"
   ]
  },
  {
   "cell_type": "markdown",
   "metadata": {},
   "source": [
    "# 예외 처리!(try, except, else, family)\n",
    "\n",
    "    * ZeroDivisionError(0으로 나눔), AttributeError, NameError, TypeError 등 다양한 에러들도 모두 예외다.\n",
    "    * 예외 처리 방법 :  예외가 발생했을 때도 스크립트 실행을 중단하지 않고 계속 실행하게 해줌\n",
    "    \n",
    "    try:\n",
    "        실행할 코드\n",
    "    except:\n",
    "        예외가 발생했을 때 처리하는 코드\n",
    "    else:\n",
    "        예외가 발생하지 않았을 때 처리하는 코드\n",
    "    family:\n",
    "        예외 발생 여부와 상관없이 항상 실행할 코드\n",
    "        \n",
    "        \n",
    "* try는 함수가 아니므로 안에서 만든 변수를 밖에서 사용할 수 있음"
   ]
  },
  {
   "cell_type": "code",
   "execution_count": 33,
   "metadata": {},
   "outputs": [
    {
     "name": "stdout",
     "output_type": "stream",
     "text": [
      "나눌 숫자를 입력하세요: 0\n",
      "예외가 발생했습니다.\n"
     ]
    }
   ],
   "source": [
    "# 코드 실행하고 0 입력\n",
    "\n",
    "try:\n",
    "    x = int(input('나눌 숫자를 입력하세요: '))\n",
    "    y = 10 / x\n",
    "    print(y)\n",
    "except:    # 예외가 발생했을 때 실행됨\n",
    "    print('예외가 발생했습니다.')"
   ]
  },
  {
   "cell_type": "markdown",
   "metadata": {},
   "source": [
    "### 특정 예외만 처리하기\n",
    "\n",
    "* 형식  \n",
    "\n",
    "    try:\n",
    "        실행할 코드\n",
    "    except 예외이름:\n",
    "        예외가 발생했을 때 처리하는 코드"
   ]
  },
  {
   "cell_type": "code",
   "execution_count": 35,
   "metadata": {},
   "outputs": [
    {
     "name": "stdout",
     "output_type": "stream",
     "text": [
      "인덱스와 나눌 숫자를 입력하세요: 2 0\n",
      "숫자를 0으로 나눌 수 없습니다.\n"
     ]
    }
   ],
   "source": [
    "# 실행하고 2 0 입력\n",
    "\n",
    "y = [10, 20, 30]\n",
    " \n",
    "try:\n",
    "    index, x = map(int, input('인덱스와 나눌 숫자를 입력하세요: ').split())\n",
    "    print(y[index] / x)\n",
    "except ZeroDivisionError:    # 숫자를 0으로 나눠서 에러가 발생했을 때 실행됨\n",
    "    print('숫자를 0으로 나눌 수 없습니다.')\n",
    "except IndexError:           # 범위를 벗어난 인덱스에 접근하여 에러가 발생했을 때 실행됨\n",
    "    print('잘못된 인덱스입니다.')"
   ]
  },
  {
   "cell_type": "markdown",
   "metadata": {},
   "source": [
    "## 예외에서 에러메시지 받아오기\n",
    "\n",
    "    * except에서 as 뒤에 변수를 지정하면 발생한 예외의 에러 메시지를 받아올 수 있음"
   ]
  },
  {
   "cell_type": "markdown",
   "metadata": {},
   "source": [
    "* 2 0 입력 :division by zero\n",
    "* 3 5 입력 : list index out of range"
   ]
  },
  {
   "cell_type": "code",
   "execution_count": 36,
   "metadata": {},
   "outputs": [
    {
     "name": "stdout",
     "output_type": "stream",
     "text": [
      "인덱스와 나눌 숫자를 입력하세요: 3 5\n",
      "잘못된 인덱스입니다. list index out of range\n"
     ]
    }
   ],
   "source": [
    "y = [10, 20, 30]\n",
    " \n",
    "try:\n",
    "    index, x = map(int, input('인덱스와 나눌 숫자를 입력하세요: ').split())\n",
    "    print(y[index] / x)\n",
    "except ZeroDivisionError as e:                    # as 뒤에 변수를 지정하면 에러를 받아옴\n",
    "    print('숫자를 0으로 나눌 수 없습니다.', e)    # e에 저장된 에러 메시지 출력\n",
    "except IndexError as e:\n",
    "    print('잘못된 인덱스입니다.', e)"
   ]
  },
  {
   "cell_type": "markdown",
   "metadata": {},
   "source": [
    " ### 모든 예외의 에러 메시지 출력(Exception)"
   ]
  },
  {
   "cell_type": "code",
   "execution_count": null,
   "metadata": {},
   "outputs": [],
   "source": [
    "except Exception as e:    # 모든 예외의 에러 메시지를 출력할 때는 Exception을 사용\n",
    "    print('예외가 발생했습니다.', e)"
   ]
  },
  {
   "cell_type": "markdown",
   "metadata": {},
   "source": [
    "### try, except, else 모두 사용"
   ]
  },
  {
   "cell_type": "code",
   "execution_count": 37,
   "metadata": {},
   "outputs": [
    {
     "name": "stdout",
     "output_type": "stream",
     "text": [
      "나눌 숫자를 입력하세요: 2\n",
      "5.0\n"
     ]
    }
   ],
   "source": [
    "# 2 입력\n",
    "try:\n",
    "    x = int(input('나눌 숫자를 입력하세요: '))\n",
    "    y = 10 / x\n",
    "except ZeroDivisionError:    # 숫자를 0으로 나눠서 에러가 발생했을 때 실행됨\n",
    "    print('숫자를 0으로 나눌 수 없습니다.')\n",
    "else:                        # try의 코드에서 예외가 발생하지 않았을 때 실행됨\n",
    "    print(y)"
   ]
  },
  {
   "cell_type": "markdown",
   "metadata": {},
   "source": [
    "### try, except, else, family 모두 사용"
   ]
  },
  {
   "cell_type": "code",
   "execution_count": 38,
   "metadata": {},
   "outputs": [
    {
     "name": "stdout",
     "output_type": "stream",
     "text": [
      "나눌 숫자를 입력하세요: 2\n",
      "5.0\n",
      "코드 실행이 끝났습니다.\n"
     ]
    }
   ],
   "source": [
    "# 2 입력\n",
    "try:\n",
    "    x = int(input('나눌 숫자를 입력하세요: '))\n",
    "    y = 10 / x\n",
    "except ZeroDivisionError:    # 숫자를 0으로 나눠서 에러가 발생했을 때 실행됨\n",
    "    print('숫자를 0으로 나눌 수 없습니다.')\n",
    "else:                        # try의 코드에서 예외가 발생하지 않았을 때 실행됨\n",
    "    print(y)\n",
    "finally:                     # 예외 발생 여부와 상관없이 항상 실행됨\n",
    "    print('코드 실행이 끝났습니다.')"
   ]
  },
  {
   "cell_type": "markdown",
   "metadata": {},
   "source": [
    "### 예외 발생시키키\n",
    "    * 다음에 정리\n",
    "    * raise 예외('에러메시지')"
   ]
  }
 ],
 "metadata": {
  "kernelspec": {
   "display_name": "Python 3",
   "language": "python",
   "name": "python3"
  },
  "language_info": {
   "codemirror_mode": {
    "name": "ipython",
    "version": 3
   },
   "file_extension": ".py",
   "mimetype": "text/x-python",
   "name": "python",
   "nbconvert_exporter": "python",
   "pygments_lexer": "ipython3",
   "version": "3.8.5"
  }
 },
 "nbformat": 4,
 "nbformat_minor": 4
}
