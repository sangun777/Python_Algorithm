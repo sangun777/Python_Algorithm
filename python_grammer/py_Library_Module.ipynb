{
 "cells": [
  {
   "cell_type": "markdown",
   "metadata": {},
   "source": [
    "# itertools"
   ]
  },
  {
   "cell_type": "code",
   "execution_count": 2,
   "metadata": {},
   "outputs": [],
   "source": [
    "import itertools\n",
    "\n",
    "# 주로 이터레이터 생성 함수들이 있음"
   ]
  },
  {
   "cell_type": "markdown",
   "metadata": {},
   "source": [
    " ### accumulate() : 누적합"
   ]
  },
  {
   "cell_type": "code",
   "execution_count": 3,
   "metadata": {},
   "outputs": [
    {
     "data": {
      "text/plain": [
       "<itertools.accumulate at 0x123fde16f00>"
      ]
     },
     "execution_count": 3,
     "metadata": {},
     "output_type": "execute_result"
    }
   ],
   "source": [
    "itertools.accumulate([1,2,3,4,5])"
   ]
  },
  {
   "cell_type": "code",
   "execution_count": 4,
   "metadata": {},
   "outputs": [
    {
     "name": "stdout",
     "output_type": "stream",
     "text": [
      "1\n",
      "3\n",
      "6\n",
      "10\n",
      "15\n"
     ]
    }
   ],
   "source": [
    "for x in itertools.accumulate([1,2,3,4,5]):\n",
    "    print(x)"
   ]
  },
  {
   "cell_type": "markdown",
   "metadata": {},
   "source": [
    " ### permutations(p, [,r]) , 순열\n",
    "     * r-길이 튜플들, 모든 가능한 순서, 반복되는 요소 없음"
   ]
  },
  {
   "cell_type": "code",
   "execution_count": 7,
   "metadata": {},
   "outputs": [
    {
     "name": "stdout",
     "output_type": "stream",
     "text": [
      "('A', 'B')\n",
      "('A', 'C')\n",
      "('A', 'D')\n",
      "('B', 'A')\n",
      "('B', 'C')\n",
      "('B', 'D')\n",
      "('C', 'A')\n",
      "('C', 'B')\n",
      "('C', 'D')\n",
      "('D', 'A')\n",
      "('D', 'B')\n",
      "('D', 'C')\n"
     ]
    }
   ],
   "source": [
    "for x in itertools.permutations('ABCD', 2):\n",
    "    print(x)"
   ]
  },
  {
   "cell_type": "code",
   "execution_count": 8,
   "metadata": {},
   "outputs": [
    {
     "name": "stdout",
     "output_type": "stream",
     "text": [
      "('A', 'B', 'C', 'D')\n",
      "('A', 'B', 'D', 'C')\n",
      "('A', 'C', 'B', 'D')\n",
      "('A', 'C', 'D', 'B')\n",
      "('A', 'D', 'B', 'C')\n",
      "('A', 'D', 'C', 'B')\n",
      "('B', 'A', 'C', 'D')\n",
      "('B', 'A', 'D', 'C')\n",
      "('B', 'C', 'A', 'D')\n",
      "('B', 'C', 'D', 'A')\n",
      "('B', 'D', 'A', 'C')\n",
      "('B', 'D', 'C', 'A')\n",
      "('C', 'A', 'B', 'D')\n",
      "('C', 'A', 'D', 'B')\n",
      "('C', 'B', 'A', 'D')\n",
      "('C', 'B', 'D', 'A')\n",
      "('C', 'D', 'A', 'B')\n",
      "('C', 'D', 'B', 'A')\n",
      "('D', 'A', 'B', 'C')\n",
      "('D', 'A', 'C', 'B')\n",
      "('D', 'B', 'A', 'C')\n",
      "('D', 'B', 'C', 'A')\n",
      "('D', 'C', 'A', 'B')\n",
      "('D', 'C', 'B', 'A')\n"
     ]
    }
   ],
   "source": [
    "for x in itertools.permutations('ABCD'):\n",
    "    print(x)"
   ]
  },
  {
   "cell_type": "markdown",
   "metadata": {},
   "source": [
    " * 리스트-튜플 [(a, b)] 형태로 뽑아내기"
   ]
  },
  {
   "cell_type": "code",
   "execution_count": 5,
   "metadata": {},
   "outputs": [
    {
     "name": "stdout",
     "output_type": "stream",
     "text": [
      "[('A', 'B', 'C'), ('A', 'C', 'B'), ('B', 'A', 'C'), ('B', 'C', 'A'), ('C', 'A', 'B'), ('C', 'B', 'A')]\n"
     ]
    }
   ],
   "source": [
    "from itertools import permutations\n",
    "\n",
    "data = ['A', 'B', 'C']\n",
    "\n",
    "result = list(permutations(data, 3))\n",
    "\n",
    "print(result)"
   ]
  },
  {
   "cell_type": "markdown",
   "metadata": {},
   "source": [
    " * combinations(조합)과 비교(조합은 순서 달라도 같은 것으로 봄)"
   ]
  },
  {
   "cell_type": "code",
   "execution_count": 6,
   "metadata": {},
   "outputs": [
    {
     "name": "stdout",
     "output_type": "stream",
     "text": [
      "[('A', 'B', 'C')]\n"
     ]
    }
   ],
   "source": [
    "from itertools import combinations\n",
    "\n",
    "data = ['A', 'B', 'C']\n",
    "\n",
    "result = list(combinations(data, 3))\n",
    "\n",
    "print(result)"
   ]
  },
  {
   "cell_type": "code",
   "execution_count": 8,
   "metadata": {},
   "outputs": [
    {
     "name": "stdout",
     "output_type": "stream",
     "text": [
      "[('A', 'B'), ('A', 'C'), ('B', 'C')]\n"
     ]
    }
   ],
   "source": [
    "result = list(combinations(data, 2))\n",
    "print(result)"
   ]
  },
  {
   "cell_type": "markdown",
   "metadata": {},
   "source": [
    " ### combinations(p, r) , 조합\n",
    "     * r-길이 튜플들, 정렬된 순서, 반복되는 요소 없음"
   ]
  },
  {
   "cell_type": "code",
   "execution_count": 9,
   "metadata": {},
   "outputs": [
    {
     "name": "stdout",
     "output_type": "stream",
     "text": [
      "('A', 'B')\n",
      "('A', 'C')\n",
      "('A', 'D')\n",
      "('B', 'C')\n",
      "('B', 'D')\n",
      "('C', 'D')\n"
     ]
    }
   ],
   "source": [
    "for x in itertools.combinations('ABCD', 2):\n",
    "    print(x)"
   ]
  },
  {
   "cell_type": "markdown",
   "metadata": {},
   "source": [
    " ### combinations_with_replacement()\n",
    " \n",
    "     * 중복을 허용한 조합\n",
    "     * 순서는 고려하지 않음  \n",
    "         => ab, ba 중 한개만 출력"
   ]
  },
  {
   "cell_type": "code",
   "execution_count": 10,
   "metadata": {},
   "outputs": [
    {
     "name": "stdout",
     "output_type": "stream",
     "text": [
      "('A', 'A')\n",
      "('A', 'B')\n",
      "('A', 'C')\n",
      "('A', 'D')\n",
      "('B', 'B')\n",
      "('B', 'C')\n",
      "('B', 'D')\n",
      "('C', 'C')\n",
      "('C', 'D')\n",
      "('D', 'D')\n"
     ]
    }
   ],
   "source": [
    "for x in itertools.combinations_with_replacement('ABCD', 2):\n",
    "    print(x)"
   ]
  },
  {
   "cell_type": "markdown",
   "metadata": {},
   "source": [
    "### itertools.product\n",
    "\n",
    " * 중복을 허용한 순열(순서는 있고, 중복 뽑기 가능)\n",
    " * 뽑고자 하는 데이터수를 'repeat'라는 속성으로 지정"
   ]
  },
  {
   "cell_type": "code",
   "execution_count": 10,
   "metadata": {},
   "outputs": [
    {
     "name": "stdout",
     "output_type": "stream",
     "text": [
      "[(1, 1), (1, 2), (1, 3), (2, 1), (2, 2), (2, 3), (3, 1), (3, 2), (3, 3)]\n"
     ]
    }
   ],
   "source": [
    "from itertools import product\n",
    "\n",
    "data = [1,2,3]\n",
    "\n",
    "result = list(product(data,repeat=2))\n",
    "\n",
    "print(result)"
   ]
  },
  {
   "cell_type": "markdown",
   "metadata": {},
   "source": [
    "# collections\n",
    "\n",
    "     * 파이썬의 컨테이너 dict, list, tuple에 대한 대안을 제공하는 특수 컨테이너 데이터형을 구현\n",
    "     \n",
    " * namedtuple()\n",
    "\n",
    "        * 이름 붙은 필드를 갖는 튜플 서브 클래스를 만들기 위한 팩토리 함수\n",
    "\n",
    "* deque\n",
    "\n",
    "        * 양쪽 끝에서 빠르게 추가와 삭제를 할 수 있는 리스트류 컨테이너\n",
    "\n",
    "* ChainMap\n",
    "\n",
    "        * 여러 매핑의 단일 뷰를 만드는 딕셔너리류 클래스\n",
    "\n",
    "* Counter\n",
    "\n",
    "        * 해시 가능한 객체를 세는 데 사용하는 딕셔너리 서브 클래스\n",
    "        * 리스트의 각 요소 갯수 세고, 정렬하기 좋음\n",
    "\n",
    "* OrderedDict\n",
    "\n",
    "        * 항목이 추가된 순서를 기억하는 딕셔너리 서브 클래스\n",
    "\n",
    "* defaultdict\n",
    "\n",
    "        * 누락된 값을 제공하기 위해 팩토리 함수를 호출하는 딕셔너리 서브 클래스\n",
    "\n",
    "* UserDict\n",
    "\n",
    "        * 더 쉬운 딕셔너리 서브 클래싱을 위해 딕셔너리 객체를 감싸는 래퍼\n",
    "\n",
    "* UserList\n",
    "\n",
    "        * 더 쉬운 리스트 서브 클래싱을 위해 리스트 객체를 감싸는 래퍼\n",
    "\n",
    "* UserString\n",
    "\n",
    "        * 더 쉬운 문자열 서브 클래싱을 위해 문자열 객체를 감싸는 래퍼"
   ]
  },
  {
   "cell_type": "markdown",
   "metadata": {},
   "source": [
    "### deque(데크)\n",
    "\n",
    "     * 양방향 큐임\n",
    "     * Queue 라이브러리도 있지만, 일반적인 큐 자료구조를 구현하는 것은 아님\n",
    "     * 파이썬에서 큐는 deque를 사용해서 구현한다.\n",
    "     \n",
    "     * .appendleft(값) : 왼쪽에 값 추가 - 시간복잡도 : O(1)\n",
    "     * .popleft(값) : 왼쪽에 값 빼기 - 시간복잡도 : O(1)\n",
    "     * .append(값) : 왼쪽에 값 추가 - 시간복잡도 : O(1)\n",
    "     * .pop(값) : 왼쪽에 값 추가 - 시간복잡도 : O(1)\n",
    "     * 리스트를 사용하면 왼쪽 추가제거는 O(N)임\n",
    "     \n",
    "     * deque는 인덱싱, 슬라이싱 기능 없음"
   ]
  },
  {
   "cell_type": "code",
   "execution_count": 29,
   "metadata": {},
   "outputs": [
    {
     "data": {
      "text/plain": [
       "deque([1, 2, 3, 4, 5])"
      ]
     },
     "execution_count": 29,
     "metadata": {},
     "output_type": "execute_result"
    }
   ],
   "source": [
    "from collections import *\n",
    "\n",
    "# 만들기 => 그냥 리스트 넣으면 끝\n",
    "a = [1,2,3,4,5]\n",
    "q = deque(a)\n",
    "q"
   ]
  },
  {
   "cell_type": "markdown",
   "metadata": {},
   "source": [
    " * deque.rotate(n)\n",
    "\n",
    "    * n번 돌리기"
   ]
  },
  {
   "cell_type": "code",
   "execution_count": 11,
   "metadata": {},
   "outputs": [
    {
     "data": {
      "text/plain": [
       "deque([4, 5, 1, 2, 3])"
      ]
     },
     "execution_count": 11,
     "metadata": {},
     "output_type": "execute_result"
    }
   ],
   "source": [
    "q.rotate(2)\n",
    "q"
   ]
  },
  {
   "cell_type": "code",
   "execution_count": 12,
   "metadata": {},
   "outputs": [
    {
     "data": {
      "text/plain": [
       "[4, 5, 1, 2, 3]"
      ]
     },
     "execution_count": 12,
     "metadata": {},
     "output_type": "execute_result"
    }
   ],
   "source": [
    "# 다시 리스트로 변환\n",
    "    \n",
    "a = list(q)\n",
    "a"
   ]
  },
  {
   "cell_type": "markdown",
   "metadata": {},
   "source": [
    " * 값 추가하기\n",
    "      * appendleft : 왼쪽 추가\n",
    "      * append : 오른쪽 추가"
   ]
  },
  {
   "cell_type": "code",
   "execution_count": 13,
   "metadata": {},
   "outputs": [
    {
     "name": "stdout",
     "output_type": "stream",
     "text": [
      "deque(['leftttt', 4, 5, 1, 2, 3])\n",
      "deque(['leftttt', 4, 5, 1, 2, 3, 'Right'])\n"
     ]
    }
   ],
   "source": [
    "q.appendleft(\"leftttt\")\n",
    "print(q)\n",
    "q.append(\"Right\")\n",
    "print(q)"
   ]
  },
  {
   "cell_type": "markdown",
   "metadata": {},
   "source": [
    " * 값 뽑아내기(삭제)\n",
    "     * popleft()\n",
    "     * pop()"
   ]
  },
  {
   "cell_type": "code",
   "execution_count": 14,
   "metadata": {},
   "outputs": [
    {
     "name": "stdout",
     "output_type": "stream",
     "text": [
      "deque(['leftttt', 4, 5, 1, 2, 3])\n",
      "deque([4, 5, 1, 2, 3])\n"
     ]
    }
   ],
   "source": [
    "q.pop()\n",
    "print(q)\n",
    "q.popleft()\n",
    "print(q)"
   ]
  },
  {
   "cell_type": "code",
   "execution_count": 31,
   "metadata": {},
   "outputs": [
    {
     "data": {
      "text/plain": [
       "5"
      ]
     },
     "execution_count": 31,
     "metadata": {},
     "output_type": "execute_result"
    }
   ],
   "source": [
    "b = [[3,5,7],[2,3,5]]\n",
    "q = deque(b)\n",
    "\n",
    "q.popleft()[1]"
   ]
  },
  {
   "cell_type": "code",
   "execution_count": 32,
   "metadata": {},
   "outputs": [],
   "source": [
    "for i in range(0):\n",
    "    print(\"gf\")"
   ]
  },
  {
   "cell_type": "markdown",
   "metadata": {},
   "source": [
    "### Counter 객체\n",
    "\n",
    "    * 편리하고 빠르게 개수를 세도록 지원하는 계수기 도구\n",
    "    * 키-값을 갖는 해시형 자료형\n",
    "    * 파이썬 딕셔너리랑 비슷하지만 더 많은 하위 메소드를 가지고 있어서 쓰기 좋음\n",
    "    * 기본적으로 리스트를 넣으면 각 요소의 갯수를 세줌"
   ]
  },
  {
   "cell_type": "markdown",
   "metadata": {},
   "source": [
    " * 리스트 -> Counter 형으로 변환(각 요소를 키로, 요소의 갯수를 값으로 받음)"
   ]
  },
  {
   "cell_type": "code",
   "execution_count": 27,
   "metadata": {},
   "outputs": [
    {
     "data": {
      "text/plain": [
       "Counter({'red': 2, 'blue': 3, 'green': 1})"
      ]
     },
     "execution_count": 27,
     "metadata": {},
     "output_type": "execute_result"
    }
   ],
   "source": [
    "import collections\n",
    "\n",
    "list_a = ['red', 'blue', 'red', 'green', 'blue', 'blue']\n",
    "\n",
    "c = collections.Counter(list_a)\n",
    "\n",
    "c"
   ]
  },
  {
   "cell_type": "code",
   "execution_count": 28,
   "metadata": {},
   "outputs": [
    {
     "name": "stdout",
     "output_type": "stream",
     "text": [
      "2\n",
      "3\n"
     ]
    }
   ],
   "source": [
    "print(c['red'])\n",
    "print(c['blue'])"
   ]
  },
  {
   "cell_type": "markdown",
   "metadata": {},
   "source": [
    " *  .most_common([n])        # 대괄호 [ ]는 생략가능을 의미\n",
    "    - 요소의 갯수가 가장 많은 것 부터 적은 순으로 n개를 나열\n",
    "    - n을 생략하거나 None이면 모든 요소 반환\n",
    "    - collections.Counter().most_common()\n",
    "    \n",
    "    주의!!!\n",
    "        * Counter형 일 때는, 자료형이 dict와 비슷한 Counter 형이지만,  ({키:값})\n",
    "        * .most_common()으로 반환된 값은 튜플 형태이다.  (키, 값)"
   ]
  },
  {
   "cell_type": "code",
   "execution_count": 21,
   "metadata": {},
   "outputs": [
    {
     "data": {
      "text/plain": [
       "[('blue', 3), ('red', 2)]"
      ]
     },
     "execution_count": 21,
     "metadata": {},
     "output_type": "execute_result"
    }
   ],
   "source": [
    "c.most_common(2)"
   ]
  },
  {
   "cell_type": "markdown",
   "metadata": {},
   "source": [
    " * 딕셔너리 -> Counter()형 변환"
   ]
  },
  {
   "cell_type": "code",
   "execution_count": 18,
   "metadata": {},
   "outputs": [
    {
     "data": {
      "text/plain": [
       "Counter({'red': 5, 'blue': 2, 'green': 8})"
      ]
     },
     "execution_count": 18,
     "metadata": {},
     "output_type": "execute_result"
    }
   ],
   "source": [
    "dict_a = {'red': 5, 'blue': 2, 'green': 8}\n",
    "\n",
    "c2 = collections.Counter(dict_a)\n",
    "\n",
    "c2"
   ]
  },
  {
   "cell_type": "markdown",
   "metadata": {},
   "source": [
    "### defaultdict([default_factory[, ...]])\n",
    "\n",
    "    * defaultdict는 내장 dict 클래스의 서브 클래스"
   ]
  },
  {
   "cell_type": "markdown",
   "metadata": {},
   "source": [
    "# heapq\n",
    "\n",
    "* 우선 순위가 가장 높은 자료(data)를 가장 먼저 꺼낼 수 있는 우선 순위 큐\n",
    "* 리스트등을 사용하여 우선 순위 큐를 직접 구현하는 것이 어렵진 않지만   \n",
    "  이런 작업에 최적화된 파이썬 표준 라이브러리인 heapq를 사용하는 것이 좋다.\n",
    "* 다익스트라 등 다양한 알고리즘에 사용  \n",
    "* 파이썬의 heapq은 최소힙으로 넣었다가(heappush) 빼면(heappop) 최소 값 출력\n",
    "* 최상단 원소가 가장 작은 원소\n",
    "* 시간복잡도 O(NlogN)의 오름차순 정렬  \n",
    "  \n",
    "  \n",
    "* heapq.heappush(리스트명, 넣을 값) : 리스트에 힙 형태로 값을 집어넣음\n",
    "* heapq.heappop(리스트명) : 힙형태로 저장된 리스트에서 최소 값을 뺌"
   ]
  },
  {
   "cell_type": "code",
   "execution_count": 22,
   "metadata": {},
   "outputs": [
    {
     "name": "stdout",
     "output_type": "stream",
     "text": [
      "(11.57, '차동현')\n",
      "(11.67, '차정웅')\n",
      "(11.92, '한시우')\n"
     ]
    }
   ],
   "source": [
    "import heapq\n",
    "\n",
    "data = [\n",
    "    (12.23, \"강보람\"),\n",
    "    (12.31, \"김지원\"),\n",
    "    (11.98, \"박시우\"),\n",
    "    (11.99, \"장준혁\"),\n",
    "    (11.67, \"차정웅\"),\n",
    "    (12.02, \"박중수\"),\n",
    "    (11.57, \"차동현\"),\n",
    "    (12.04, \"고미숙\"),\n",
    "    (11.92, \"한시우\"),\n",
    "    (12.22, \"이민석\"),\n",
    "]\n",
    "\n",
    "h = []  # 힙 생성\n",
    "for score in data:\n",
    "    heapq.heappush(h, score)  # 힙에 데이터 저장\n",
    "    \n",
    "# print(h)  # 뽑아도 2진 트리라 정렬되있지 않음\n",
    "\n",
    "for i in range(3):\n",
    "    print(heapq.heappop(h))  # 우선 순위 작은 값 순으로 힙 반환"
   ]
  },
  {
   "cell_type": "code",
   "execution_count": 23,
   "metadata": {},
   "outputs": [
    {
     "name": "stdout",
     "output_type": "stream",
     "text": [
      "(11.57, '차동현')\n",
      "(11.67, '차정웅')\n",
      "(11.92, '한시우')\n"
     ]
    }
   ],
   "source": [
    "import heapq\n",
    "\n",
    "data = [\n",
    "    (12.23, \"강보람\"),\n",
    "    (12.31, \"김지원\"),\n",
    "    (11.98, \"박시우\"),\n",
    "    (11.99, \"장준혁\"),\n",
    "    (11.67, \"차정웅\"),\n",
    "    (12.02, \"박중수\"),\n",
    "    (11.57, \"차동현\"),\n",
    "    (12.04, \"고미숙\"),\n",
    "    (11.92, \"한시우\"),\n",
    "    (12.22, \"이민석\"),\n",
    "]\n",
    "\n",
    "heapq.heapify(data)  # data를 힙으로 만든다.\n",
    "\n",
    "for i in range(3):\n",
    "    print(heapq.heappop(data))  # 최소값부터 힙 반환"
   ]
  },
  {
   "cell_type": "markdown",
   "metadata": {},
   "source": [
    "## heapq를 이용한 (최소)힙정렬 구현"
   ]
  },
  {
   "cell_type": "code",
   "execution_count": 12,
   "metadata": {},
   "outputs": [
    {
     "name": "stdout",
     "output_type": "stream",
     "text": [
      "[0, 1, 2, 3, 4, 5, 6, 7, 8, 9]\n"
     ]
    }
   ],
   "source": [
    "import heapq\n",
    "\n",
    "def heapsort(iterable):\n",
    "    h = []\n",
    "    result = []\n",
    "    \n",
    "    # 모든 원소를 차례대로 힙에 삽입\n",
    "    for value in iterable:\n",
    "        heapq.heappush(h, value)\n",
    "        \n",
    "    for i in range(len(h)):\n",
    "        result.append(heapq.heappop(h))\n",
    "        \n",
    "    return result\n",
    "\n",
    "result = heapsort([1,3,5,7,9,2,4,6,8,0])\n",
    "\n",
    "print(result)"
   ]
  },
  {
   "cell_type": "markdown",
   "metadata": {},
   "source": [
    "## heapq를 이용한 (최대)힙정렬 구현\n",
    "\n",
    " * 원소의 부호를 바꿔서 삽입하고,\n",
    " * 원소를 꺼낸뒤에 다시 부호를 바꿈"
   ]
  },
  {
   "cell_type": "code",
   "execution_count": 13,
   "metadata": {},
   "outputs": [
    {
     "name": "stdout",
     "output_type": "stream",
     "text": [
      "[9, 8, 7, 6, 5, 4, 3, 2, 1, 0]\n"
     ]
    }
   ],
   "source": [
    "import heapq\n",
    "\n",
    "def heapsort(iterable):\n",
    "    h = []\n",
    "    result = []\n",
    "    \n",
    "    # 모든 원소를 차례대로 힙에 삽입\n",
    "    for value in iterable:\n",
    "        heapq.heappush(h, -value)   # 부호를 바꿔서 집어 넣는다.\n",
    "        \n",
    "    for i in range(len(h)):\n",
    "        result.append(-heapq.heappop(h))   # 꺼낸 값에 부호를 바꾼다\n",
    "        \n",
    "    return result\n",
    "\n",
    "result = heapsort([1,3,5,7,9,2,4,6,8,0])\n",
    "\n",
    "print(result)"
   ]
  },
  {
   "cell_type": "markdown",
   "metadata": {},
   "source": [
    "# bisect(이진탐색)\n",
    "\n",
    "* 정렬된 배열에서 특정한 원소를 찾을 때 효과적임\n",
    "* .bisect_left() 함수와 bisect_right() 함수가 가장 중요하게 사용됨\n",
    "* 위 두함수는 시간복잡도가 O(logN)이다.\n",
    "\n",
    "\n",
    "* .bisect_left(리스트a, 값b)\n",
    "    * 정렬된 순서를 유지하면서, 리스트 a에 데이터 b를 삽입할 가장 왼쪽 인덱스를 찾는 메서드\n",
    "* .bisect_right(a, b)\n",
    "    * 정렬된 순서를 유지하면서, 리스트 a에 데이터 b를 삽입할 가장 오른쪽 인덱스를 찾는 메서드"
   ]
  },
  {
   "cell_type": "code",
   "execution_count": 14,
   "metadata": {},
   "outputs": [
    {
     "name": "stdout",
     "output_type": "stream",
     "text": [
      "2\n",
      "4\n"
     ]
    }
   ],
   "source": [
    "from bisect import bisect_left, bisect_right\n",
    "\n",
    "a = [1, 2, 4, 4, 8]\n",
    "x = 4\n",
    "\n",
    "print(bisect_left(a, x))\n",
    "print(bisect_right(a, x))"
   ]
  },
  {
   "cell_type": "markdown",
   "metadata": {},
   "source": [
    "### 특정 범위에 속하는 원소의 갯수 구하기"
   ]
  },
  {
   "cell_type": "code",
   "execution_count": 15,
   "metadata": {},
   "outputs": [
    {
     "name": "stdout",
     "output_type": "stream",
     "text": [
      "2\n",
      "6\n"
     ]
    }
   ],
   "source": [
    "from bisect import bisect_left, bisect_right\n",
    "\n",
    "# 값이 [a, b] 범위내에 있는 데이터 갯수 반환하는 함수 count_by_range(리스트, a, b) 정의\n",
    "def count_by_range(a, left_value, right_value):\n",
    "    right_index = bisect_right(a, right_value)\n",
    "    left_index= bisect_left(a, left_value)\n",
    "    return right_index - left_index\n",
    "\n",
    "# 리스트 선언\n",
    "a = [1,2,3,3,3,3,4,4,8,9]\n",
    "\n",
    "# 값이 4인 데이터 갯수 출력\n",
    "print(count_by_range(a, 4, 4))\n",
    "\n",
    "# 값이 -1 이상, 3 이하인 데이터 갯수 출력\n",
    "print(count_by_range(a, -1, 3))"
   ]
  },
  {
   "cell_type": "markdown",
   "metadata": {},
   "source": [
    "### 리스트 안에 각 값들을 특정 범위의 인덱스로 반환하기"
   ]
  },
  {
   "cell_type": "markdown",
   "metadata": {},
   "source": [
    " * 일단 코드를 보고 아래 분석 글 써봄\n",
    " * [33, 99, 77, 70, 89, 90, 100]의 각 값을 60이하, 70이하, 80이하, 등에 따라\n",
    " * F 학점, D 학점, C 학점 등으로 변경"
   ]
  },
  {
   "cell_type": "code",
   "execution_count": 26,
   "metadata": {},
   "outputs": [
    {
     "name": "stdout",
     "output_type": "stream",
     "text": [
      "['F', 'A', 'C', 'C', 'B', 'A', 'A']\n"
     ]
    }
   ],
   "source": [
    "import bisect\n",
    "\n",
    "result = []\n",
    "for score in [33, 99, 77, 70, 89, 90, 100]:\n",
    "    pos = bisect.bisect([60, 70, 80, 90], score)  # 점수가 정렬되어 삽입될 수 있는 포지션을 반환\n",
    "    # score값이 60 미만이면 pos는 0\n",
    "    # score값이 60 이상 70미만이면 pos는 1\n",
    "    # score값이 70 이상 80미만이면 pos는 2\n",
    "    # score값이 80 이상 90미만이면 pos는 3\n",
    "    # score값이 90 이상이면 pos는 4\n",
    "    \n",
    "    grade = 'FDCBA'[pos]\n",
    "    # pos가 0이면 grade는 'F'\n",
    "    # pos가 1이면 grade는 'D'\n",
    "    \n",
    "    result.append(grade)\n",
    "\n",
    "print(result)"
   ]
  },
  {
   "cell_type": "markdown",
   "metadata": {},
   "source": [
    " * bisect.bisect(리스트 a, 값 b) :   \n",
    "     리스트 a에 값 b가 정렬된 상태로 삽입될수 있는 인덱스 값 반환"
   ]
  },
  {
   "cell_type": "code",
   "execution_count": 18,
   "metadata": {},
   "outputs": [
    {
     "data": {
      "text/plain": [
       "2"
      ]
     },
     "execution_count": 18,
     "metadata": {},
     "output_type": "execute_result"
    }
   ],
   "source": [
    "import bisect\n",
    "\n",
    "bisect.bisect([60, 70, 80, 90], 75)"
   ]
  },
  {
   "cell_type": "markdown",
   "metadata": {},
   "source": [
    " * 만일 같은 값이 여러개면??? => 가장 오른쪽에 배치할 인덱스 반환"
   ]
  },
  {
   "cell_type": "code",
   "execution_count": 25,
   "metadata": {},
   "outputs": [
    {
     "data": {
      "text/plain": [
       "5"
      ]
     },
     "execution_count": 25,
     "metadata": {},
     "output_type": "execute_result"
    }
   ],
   "source": [
    "import bisect\n",
    "\n",
    "bisect.bisect([60, 70, 75, 75, 75, 80, 90], 75)"
   ]
  },
  {
   "cell_type": "code",
   "execution_count": 26,
   "metadata": {},
   "outputs": [
    {
     "name": "stdout",
     "output_type": "stream",
     "text": [
      "0\n",
      "4\n",
      "2\n",
      "2\n",
      "3\n",
      "4\n",
      "4\n"
     ]
    }
   ],
   "source": [
    "for score in [33, 99, 77, 70, 89, 90, 100]:\n",
    "    pos1 = bisect.bisect([60, 70, 80, 90], score)\n",
    "    print(pos1)\n"
   ]
  },
  {
   "cell_type": "code",
   "execution_count": 27,
   "metadata": {},
   "outputs": [
    {
     "data": {
      "text/plain": [
       "'A'"
      ]
     },
     "execution_count": 27,
     "metadata": {},
     "output_type": "execute_result"
    }
   ],
   "source": [
    "'ABCDE'[0]"
   ]
  },
  {
   "cell_type": "code",
   "execution_count": 28,
   "metadata": {},
   "outputs": [
    {
     "data": {
      "text/plain": [
       "'D'"
      ]
     },
     "execution_count": 28,
     "metadata": {},
     "output_type": "execute_result"
    }
   ],
   "source": [
    "'ABCDE'[3]"
   ]
  },
  {
   "cell_type": "markdown",
   "metadata": {},
   "source": [
    "# functools\n",
    "\n",
    "    * 모듈은 고차 함수를 위한 것입니다\n",
    "    * 다른 함수에 작용하거나 다른 함수를 반환하는 함수"
   ]
  },
  {
   "cell_type": "markdown",
   "metadata": {},
   "source": [
    "### functools.reduce(function, iterable[, initializer])\n",
    "\n",
    "    * 함수를 왼쪽에서 오른쪽으로 iterable의 항목에 누적적으로 적용"
   ]
  },
  {
   "cell_type": "code",
   "execution_count": 23,
   "metadata": {},
   "outputs": [
    {
     "data": {
      "text/plain": [
       "15"
      ]
     },
     "execution_count": 23,
     "metadata": {},
     "output_type": "execute_result"
    }
   ],
   "source": [
    "from functools import *\n",
    "\n",
    "reduce(lambda x, y: x+y, [1, 2, 3, 4, 5])"
   ]
  },
  {
   "cell_type": "markdown",
   "metadata": {},
   "source": [
    "# math"
   ]
  },
  {
   "cell_type": "code",
   "execution_count": 32,
   "metadata": {},
   "outputs": [
    {
     "name": "stdout",
     "output_type": "stream",
     "text": [
      "24\n",
      "5.0\n",
      "12\n",
      "3.141592653589793\n",
      "2.718281828459045\n"
     ]
    }
   ],
   "source": [
    "import math\n",
    "\n",
    "print(math.factorial(4))   # 팩토리얼\n",
    "print(math.sqrt(25))       #제곱근\n",
    "print(math.gcd(24, 60))    #최대공약수(greatest common divisor)\n",
    "print(math.pi)   # 파이\n",
    "print(math.e)    # 자연상수 e"
   ]
  },
  {
   "cell_type": "code",
   "execution_count": null,
   "metadata": {},
   "outputs": [],
   "source": []
  }
 ],
 "metadata": {
  "kernelspec": {
   "display_name": "Python 3",
   "language": "python",
   "name": "python3"
  },
  "language_info": {
   "codemirror_mode": {
    "name": "ipython",
    "version": 3
   },
   "file_extension": ".py",
   "mimetype": "text/x-python",
   "name": "python",
   "nbconvert_exporter": "python",
   "pygments_lexer": "ipython3",
   "version": "3.9.0"
  }
 },
 "nbformat": 4,
 "nbformat_minor": 4
}
